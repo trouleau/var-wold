{
 "cells": [
  {
   "cell_type": "code",
   "execution_count": 1,
   "metadata": {
    "scrolled": true
   },
   "outputs": [],
   "source": [
    "%load_ext autoreload\n",
    "%autoreload 2"
   ]
  },
  {
   "cell_type": "code",
   "execution_count": 15,
   "metadata": {},
   "outputs": [],
   "source": [
    "from matplotlib import pyplot as plt\n",
    "%matplotlib inline\n",
    "import numpy as np\n",
    "import torch\n",
    "\n",
    "import tsvar\n",
    "\n",
    "import experiments_utils\n",
    "\n",
    "# Set numpy print format\n",
    "np.set_printoptions(precision=2, floatmode='fixed', sign=' ')\n",
    "\n",
    "# Set experiments verbosity\n",
    "#experiments_utils.PRINT_EVERY = 1\n",
    "#experiments_utils.CALLBACK_END = ''\n",
    "PRINT_EVERY = 1\n",
    "CALLBACK_END = ''\n",
    "VI_N_ITER = 1000"
   ]
  },
  {
   "cell_type": "code",
   "execution_count": 16,
   "metadata": {},
   "outputs": [
    {
     "name": "stdout",
     "output_type": "stream",
     "text": [
      "Generate parameters:\n",
      "--------------------\n",
      "baseline:\n",
      "[ 0.02  0.06  0.04  0.08  0.08  0.03  0.03  0.08  0.10  0.09]\n",
      "beta:\n",
      "[[ 0.72  1.00  1.37  1.43  0.74  1.12  1.01  0.03  1.55  1.77]\n",
      " [ 0.73  1.23  0.15  0.74  1.87  1.30  0.79  1.58  0.63  1.14]\n",
      " [ 1.74  0.87  1.60  0.29  1.41  1.41  0.44  1.85  0.88  1.82]\n",
      " [ 0.12  0.37  0.09  1.35  1.19  1.07  0.09  1.12  0.66  1.01]\n",
      " [ 0.22  1.21  1.13  0.01  1.23  1.82  1.58  1.98  1.92  1.58]\n",
      " [ 0.57  1.25  0.96  0.39  0.76  0.11  0.90  1.96  0.25  0.24]\n",
      " [ 1.48  1.17  0.94  0.21  0.46  1.80  0.83  1.07  0.01  0.60]\n",
      " [ 0.87  1.22  1.84  1.25  1.41  0.30  1.49  1.66  1.27  0.88]\n",
      " [ 0.31  1.14  1.06  1.90  0.96  1.01  1.07  1.64  0.11  1.34]\n",
      " [ 1.53  1.42  1.59  1.12  1.93  0.29  0.06  1.19  0.23  1.90]]\n",
      "adjacency:\n",
      "[[ 0.00  0.00  0.00  0.17  0.16  0.00  0.00  0.00  0.15  0.20]\n",
      " [ 0.14  0.10  0.19  0.19  0.00  0.00  0.00  0.12  0.00  0.00]\n",
      " [ 0.00  0.17  0.18  0.00  0.00  0.00  0.14  0.00  0.00  0.14]\n",
      " [ 0.00  0.10  0.11  0.16  0.00  0.00  0.11  0.00  0.10  0.00]\n",
      " [ 0.13  0.18  0.00  0.00  0.16  0.17  0.12  0.18  0.16  0.16]\n",
      " [ 0.00  0.17  0.12  0.18  0.19  0.17  0.17  0.00  0.19  0.17]\n",
      " [ 0.13  0.00  0.00  0.10  0.00  0.18  0.00  0.17  0.11  0.14]\n",
      " [ 0.10  0.00  0.16  0.12  0.00  0.00  0.00  0.17  0.00  0.00]\n",
      " [ 0.13  0.00  0.00  0.20  0.00  0.00  0.16  0.00  0.16  0.11]\n",
      " [ 0.13  0.20  0.14  0.16  0.15  0.12  0.00  0.00  0.00  0.00]]\n",
      "\n",
      "Simulate data:\n",
      "--------------\n",
      "Simulated 100000 events\n"
     ]
    }
   ],
   "source": [
    "dim = 10\n",
    "max_jumps = int(1e5)\n",
    "gen_seed = 1234\n",
    "sim_seed = 789\n",
    "\n",
    "print('Generate parameters:')\n",
    "print('--------------------')\n",
    "coeffs_true_dict = experiments_utils.generate_parameters(dim=dim, seed=gen_seed)\n",
    "coeffs_true_dict = {k: np.array(v) for k, v in coeffs_true_dict.items()}\n",
    "for k,v in coeffs_true_dict.items():\n",
    "    print(f\"{k}:\")\n",
    "    print(np.array(v))\n",
    "print()\n",
    "\n",
    "print('Simulate data:')\n",
    "print('--------------')\n",
    "events, end_time, sim_seed = experiments_utils.generate_data(**coeffs_true_dict, max_jumps=max_jumps)\n",
    "print(f'Simulated {sum(map(len, events)):d} events')"
   ]
  },
  {
   "cell_type": "code",
   "execution_count": 17,
   "metadata": {},
   "outputs": [],
   "source": [
    "class MyCallback(tsvar.utils.callbacks.LearnerCallbackMLE):\n",
    "    \n",
    "    def __init__(self, *args, **kwargs):\n",
    "        super().__init__(*args, **kwargs)\n",
    "        self.extra = {\n",
    "            'as_po': [],\n",
    "            'ar_po': [],\n",
    "            'bs_po': [],\n",
    "            'br_po': [],\n",
    "        }\n",
    "    \n",
    "    def __call__(self, learner_obj, end=None, force=False):\n",
    "        super().__call__(learner_obj, end, force)\n",
    "        self.extra['as_po'].append(learner_obj._as_po)\n",
    "        self.extra['ar_po'].append(learner_obj._ar_po)\n",
    "        self.extra['bs_po'].append(learner_obj._bs_po)\n",
    "        self.extra['br_po'].append(learner_obj._br_po)"
   ]
  },
  {
   "cell_type": "code",
   "execution_count": 19,
   "metadata": {},
   "outputs": [
    {
     "data": {
      "text/plain": [
       "array([[ 0.72,  1.00,  1.37,  1.43,  0.74,  1.12,  1.01,  0.03,  1.55,  1.77],\n",
       "       [ 0.73,  1.23,  0.15,  0.74,  1.87,  1.30,  0.79,  1.58,  0.63,  1.14],\n",
       "       [ 1.74,  0.87,  1.60,  0.29,  1.41,  1.41,  0.44,  1.85,  0.88,  1.82],\n",
       "       [ 0.12,  0.37,  0.09,  1.35,  1.19,  1.07,  0.09,  1.12,  0.66,  1.01],\n",
       "       [ 0.22,  1.21,  1.13,  0.01,  1.23,  1.82,  1.58,  1.98,  1.92,  1.58],\n",
       "       [ 0.57,  1.25,  0.96,  0.39,  0.76,  0.11,  0.90,  1.96,  0.25,  0.24],\n",
       "       [ 1.48,  1.17,  0.94,  0.21,  0.46,  1.80,  0.83,  1.07,  0.01,  0.60],\n",
       "       [ 0.87,  1.22,  1.84,  1.25,  1.41,  0.30,  1.49,  1.66,  1.27,  0.88],\n",
       "       [ 0.31,  1.14,  1.06,  1.90,  0.96,  1.01,  1.07,  1.64,  0.11,  1.34],\n",
       "       [ 1.53,  1.42,  1.59,  1.12,  1.93,  0.29,  0.06,  1.19,  0.23,  1.90]])"
      ]
     },
     "execution_count": 19,
     "metadata": {},
     "output_type": "execute_result"
    }
   ],
   "source": [
    "coeffs_true_dict['beta']"
   ]
  },
  {
   "cell_type": "code",
   "execution_count": 37,
   "metadata": {},
   "outputs": [
    {
     "name": "stdout",
     "output_type": "stream",
     "text": [
      "iter:  1000 | dx: +9.2851e-05 | acc: 0.57 | relerr: 0.51 | time/it: 6.56e-01     "
     ]
    }
   ],
   "source": [
    "dim = len(events)\n",
    "# Set model\n",
    "model = tsvar.models.WoldModelVariational(verbose=True)\n",
    "model.observe(events)\n",
    "\n",
    "# Set priors\n",
    "\n",
    "# prior: Alpha\n",
    "as_pr = 1.0 * np.ones((dim + 1, dim))\n",
    "ar_pr = 1.0 * np.ones((dim + 1, dim))\n",
    "\n",
    "# prior: Beta\n",
    "bs_pr = 100.0 * np.ones((dim, dim))\n",
    "br_pr = 100.0 * np.ones((dim, dim))\n",
    "\n",
    "# VERY INFORMATIVE BETA USING GROUND TRUTH!!\n",
    "#bs_pr = 10000000.0 * np.ones((dim, dim))\n",
    "#br_pr = (bs_pr - 1) * coeffs_true_dict['beta']\n",
    "\n",
    "# prior: Z\n",
    "zc_pr = [1.0 * np.ones((len(events[i]), dim+1)) for i in range(dim)]\n",
    "\n",
    "\n",
    "# Extract ground truth (for callback, only alphas)\n",
    "coeffs_true = np.hstack((\n",
    "    coeffs_true_dict['baseline'],\n",
    "    coeffs_true_dict['adjacency'].flatten()))\n",
    "\n",
    "# Set callback (parameters of callback are just the posterior mean of alpha)\n",
    "callback = MyCallback(\n",
    "    x0=(as_pr / ar_pr).flatten(), print_every=PRINT_EVERY,\n",
    "    coeffs_true=coeffs_true, acc_thresh=0.05, dim=dim,\n",
    "    default_end=CALLBACK_END)\n",
    "\n",
    "# Fit model\n",
    "conv = model.fit(as_pr=as_pr, ar_pr=ar_pr, bs_pr=bs_pr, br_pr=br_pr,\n",
    "                 zc_pr=zc_pr, max_iter=VI_N_ITER, tol=1e-5, callback=callback)\n",
    "\n",
    "# Save result\n",
    "res_dict = {}\n",
    "res_dict['coeffs'] = {\n",
    "    'as_po': model._as_po.tolist(),\n",
    "    'ar_po': model._ar_po.tolist(),\n",
    "    'bs_po': model._bs_po.tolist(),\n",
    "    'br_po': model._br_po.tolist(),\n",
    "}\n",
    "res_dict['conv'] = conv\n",
    "res_dict['history'] = callback.to_dict()\n"
   ]
  },
  {
   "cell_type": "code",
   "execution_count": 38,
   "metadata": {},
   "outputs": [
    {
     "data": {
      "image/png": "[encoded data removed]",
      "text/plain": [
       "<Figure size 1188x212.4 with 3 Axes>"
      ]
     },
     "metadata": {
      "needs_background": "light"
     },
     "output_type": "display_data"
    }
   ],
   "source": [
    "model = tsvar.models.WoldModelVariational()\n",
    "\n",
    "x_iter = np.array(res_dict['history']['iter'], dtype=float)\n",
    "y_acc = np.zeros_like(x_iter)\n",
    "y_f1s = np.zeros_like(x_iter)\n",
    "y_rel = np.zeros_like(x_iter)\n",
    "\n",
    "adj_true = coeffs_true_dict['adjacency'].flatten()\n",
    "\n",
    "for i, coeffs in enumerate(res_dict['history']['coeffs']):\n",
    "    adj_hat = np.array(coeffs[-dim**2:])\n",
    "    \n",
    "    y_acc[i] = tsvar.utils.metrics.accuracy(adj_hat, adj_true, threshold=0.05)\n",
    "    y_f1s[i] = tsvar.utils.metrics.fscore(adj_hat, adj_true, beta=1)\n",
    "    y_rel[i] = tsvar.utils.metrics.relerr(adj_hat, adj_true)\n",
    "\n",
    "fig, axs = plt.subplots(1, 3, figsize=(5.5*3, 2.95))\n",
    "axs[0].plot(x_iter, y_acc)\n",
    "axs[0].set_xlabel('# iterations')\n",
    "axs[0].set_ylabel('Accuracy')\n",
    "\n",
    "axs[1].plot(x_iter, y_f1s)\n",
    "axs[1].set_xlabel('# iterations')\n",
    "axs[1].set_ylabel('F1-Score')\n",
    "\n",
    "axs[2].plot(x_iter, y_rel)\n",
    "axs[2].set_xlabel('# iterations')\n",
    "axs[2].set_ylabel('Relative Error');"
   ]
  },
  {
   "cell_type": "code",
   "execution_count": null,
   "metadata": {},
   "outputs": [],
   "source": []
  }
 ],
 "metadata": {
  "kernelspec": {
   "display_name": "Python 3",
   "language": "python",
   "name": "python3"
  },
  "language_info": {
   "codemirror_mode": {
    "name": "ipython",
    "version": 3
   },
   "file_extension": ".py",
   "mimetype": "text/x-python",
   "name": "python",
   "nbconvert_exporter": "python",
   "pygments_lexer": "ipython3",
   "version": "3.6.10"
  }
 },
 "nbformat": 4,
 "nbformat_minor": 4
}

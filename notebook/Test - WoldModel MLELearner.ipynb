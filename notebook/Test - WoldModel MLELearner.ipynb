{
 "cells": [
  {
   "cell_type": "code",
   "execution_count": 1,
   "metadata": {},
   "outputs": [],
   "source": [
    "%load_ext autoreload\n",
    "%autoreload 2"
   ]
  },
  {
   "cell_type": "code",
   "execution_count": 2,
   "metadata": {},
   "outputs": [],
   "source": [
    "from matplotlib import pyplot as plt\n",
    "%matplotlib inline\n",
    "import numpy as np\n",
    "import torch\n",
    "\n",
    "from gb import simulate\n",
    "\n",
    "import tsvar"
   ]
  },
  {
   "cell_type": "code",
   "execution_count": 122,
   "metadata": {},
   "outputs": [],
   "source": [
    "mu = torch.tensor([1.0, 0.9])\n",
    "beta = torch.tensor([\n",
    "    [1.0, 1.0],\n",
    "    [1.0, 1.0],\n",
    "])\n",
    "A = torch.tensor([\n",
    "    [0.1, 0.9],\n",
    "    [0.0, 0.1]\n",
    "])\n",
    "dim = 2\n",
    "\n",
    "coeffs = torch.cat((mu, beta[0], A.flatten()))\n",
    "\n",
    "wold_sim = simulate.GrangeBuscaSimulator(mu_rates=mu, Alpha_ba=A, Beta_ba=beta, thinning=True)"
   ]
  },
  {
   "cell_type": "code",
   "execution_count": 123,
   "metadata": {},
   "outputs": [
    {
     "name": "stdout",
     "output_type": "stream",
     "text": [
      "Simulated 3061 events with end time: 50000\n"
     ]
    }
   ],
   "source": [
    "events = wold_sim.simulate(5000)\n",
    "events = [torch.tensor(ev, dtype=torch.float) for ev in events]\n",
    "end_time = max(50000, max(map(max, events)))\n",
    "print(f\"Simulated {sum(map(len, events))} events with end time: {end_time}\")"
   ]
  },
  {
   "cell_type": "code",
   "execution_count": 129,
   "metadata": {
    "scrolled": true
   },
   "outputs": [],
   "source": [
    "model = tsvar.wold_model.WoldModel()\n",
    "model.set_data(events, end_time)\n",
    "\n",
    "C = 1000.0 * torch.ones(len(coeffs))\n",
    "prior = tsvar.priors.GaussianPrior(dim=None, n_params=len(coeffs), C=C)\n",
    "\n",
    "optimizer = torch.optim.Adagrad([coeffs], lr=1e-2)\n",
    "\n",
    "learner = tsvar.learners.MLELearner(\n",
    "    model=model, \n",
    "    prior=prior, \n",
    "    optimizer=optimizer,\n",
    "    tol=1e-5,\n",
    "    max_iter=100000,\n",
    "    debug=False)\n",
    "\n",
    "coeffs0 = torch.tensor(np.random.uniform(0.01, 1.0, size=len(coeffs)), dtype=torch.float)\n",
    "\n",
    "learner_callback = tsvar.utils.callbacks.LearnerCallbackMLE(coeffs0, coeffs.numpy())"
   ]
  },
  {
   "cell_type": "code",
   "execution_count": 130,
   "metadata": {},
   "outputs": [
    {
     "name": "stdout",
     "output_type": "stream",
     "text": [
      "iter: 12930 | dx: 1.01e-04 | loss: 1.27e+04    loss = 12656.43359375 Converged!\n"
     ]
    }
   ],
   "source": [
    "coeffs_hat = learner.fit(events, end_time, coeffs0, callback=learner_callback)"
   ]
  },
  {
   "cell_type": "code",
   "execution_count": 131,
   "metadata": {
    "scrolled": true
   },
   "outputs": [
    {
     "data": {
      "text/plain": [
       "array([0.01, 0.  ], dtype=float32)"
      ]
     },
     "execution_count": 131,
     "metadata": {},
     "output_type": "execute_result"
    }
   ],
   "source": [
    "coeffs_hat[:dim].detach().numpy().round(2)"
   ]
  },
  {
   "cell_type": "code",
   "execution_count": 132,
   "metadata": {},
   "outputs": [
    {
     "data": {
      "text/plain": [
       "array([0.04, 0.14], dtype=float32)"
      ]
     },
     "execution_count": 132,
     "metadata": {},
     "output_type": "execute_result"
    }
   ],
   "source": [
    "coeffs_hat[dim:2*dim].detach().numpy().round(2)"
   ]
  },
  {
   "cell_type": "code",
   "execution_count": 133,
   "metadata": {},
   "outputs": [
    {
     "data": {
      "text/plain": [
       "array([[0.03, 0.01],\n",
       "       [0.  , 0.08]], dtype=float32)"
      ]
     },
     "execution_count": 133,
     "metadata": {},
     "output_type": "execute_result"
    }
   ],
   "source": [
    "np.reshape(coeffs_hat[2*dim:].detach().numpy(), (2, 2)).round(2)"
   ]
  },
  {
   "cell_type": "code",
   "execution_count": null,
   "metadata": {},
   "outputs": [],
   "source": []
  }
 ],
 "metadata": {
  "kernelspec": {
   "display_name": "Python 3",
   "language": "python",
   "name": "python3"
  },
  "language_info": {
   "codemirror_mode": {
    "name": "ipython",
    "version": 3
   },
   "file_extension": ".py",
   "mimetype": "text/x-python",
   "name": "python",
   "nbconvert_exporter": "python",
   "pygments_lexer": "ipython3",
   "version": "3.6.10"
  }
 },
 "nbformat": 4,
 "nbformat_minor": 4
}

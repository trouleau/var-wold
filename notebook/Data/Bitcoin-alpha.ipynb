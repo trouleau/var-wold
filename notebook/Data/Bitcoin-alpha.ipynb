{
 "cells": [
  {
   "cell_type": "code",
   "execution_count": 1,
   "metadata": {},
   "outputs": [],
   "source": [
    "from collections import defaultdict\n",
    "\n",
    "import gzip\n",
    "\n",
    "\n",
    "def get_graph_stamps(path, top=None):\n",
    "    count = defaultdict(int)\n",
    "    srcs = set()\n",
    "    with gzip.open(path, 'r') as in_file:\n",
    "        for line in in_file:\n",
    "            if b',' in line:\n",
    "                spl = line.split(b',')\n",
    "            else:\n",
    "                spl = line.split()\n",
    "            src, dst = spl[:2]\n",
    "            count[dst] += 1\n",
    "            srcs.add(src)\n",
    "\n",
    "    if top is None:\n",
    "        valid = srcs\n",
    "    else:\n",
    "        valid = set()\n",
    "        for v, k in sorted(((v, k) for k, v in count.items()), reverse=True):\n",
    "            if k in srcs:\n",
    "                valid.add(k)\n",
    "                if len(valid) == top:\n",
    "                    break\n",
    "\n",
    "    graph = {}\n",
    "    ids = {}\n",
    "    with gzip.open(path, 'r') as in_file:\n",
    "        timestamps = []\n",
    "        for line in in_file:\n",
    "            if b',' in line:\n",
    "                spl = line.split(b',')\n",
    "            else:\n",
    "                spl = line.split()\n",
    "            src, dst = spl[:2]\n",
    "            stamp = float(spl[-1])\n",
    "            if src not in valid:\n",
    "                continue\n",
    "            if dst not in valid:\n",
    "                continue\n",
    "\n",
    "            if src not in graph:\n",
    "                graph[src] = {}\n",
    "            if dst not in graph[src]:\n",
    "                graph[src][dst] = 0\n",
    "            graph[src][dst] += 1\n",
    "\n",
    "            if dst in ids:\n",
    "                timestamps[ids[dst]].append(stamp)\n",
    "            else:\n",
    "                ids[dst] = len(timestamps)\n",
    "                timestamps.append([stamp])\n",
    "\n",
    "    for id_ in list(graph.keys()):\n",
    "        if id_ not in ids:\n",
    "            del graph[id_]\n",
    "    for id_ in ids:\n",
    "        if id_ not in graph:\n",
    "            graph[id_] = {}\n",
    "\n",
    "    return timestamps, graph, ids\n"
   ]
  },
  {
   "cell_type": "code",
   "execution_count": 65,
   "metadata": {},
   "outputs": [],
   "source": [
    "timestamps, graph, ids = get_graph_stamps('../../data/soc-sign-bitcoinalpha.csv.gz', top=None)\n",
    "events = [np.array(sorted(timestamps[i])) for i in range(len(timestamps))]"
   ]
  },
  {
   "cell_type": "code",
   "execution_count": 66,
   "metadata": {},
   "outputs": [],
   "source": [
    "dim = len(events)\n",
    "\n",
    "min_time = min(map(min, events))\n",
    "events = [(ev - min_time + 1.0) / 700019.0 for ev in events]\n",
    "end_time = max(map(max, events)) + 1e-5"
   ]
  },
  {
   "cell_type": "code",
   "execution_count": 68,
   "metadata": {},
   "outputs": [
    {
     "name": "stdout",
     "output_type": "stream",
     "text": [
      "Launching the solver HawkesADM4...\n",
      "  n_iter  |    obj    |  rel_obj  | rel_baseline | rel_adjacency\n",
      "        1 | -2.44e+01 |  1.00e+00 |     1.00e+00 |      9.99e-01\n",
      "        2 | -2.35e+01 |  3.73e-02 |     6.38e-02 |      4.03e-01\n",
      "        3 | -2.28e+01 |  2.73e-02 |     4.53e-03 |      2.63e-01\n",
      "        4 | -2.24e+01 |  1.96e-02 |     3.34e-03 |      1.69e-01\n",
      "        5 | -2.21e+01 |  1.55e-02 |     2.08e-03 |      1.29e-01\n",
      "        6 | -2.18e+01 |  1.25e-02 |     1.45e-03 |      9.97e-02\n",
      "        7 | -2.15e+01 |  1.04e-02 |     1.10e-03 |      8.13e-02\n",
      "        8 | -2.14e+01 |  8.92e-03 |     8.66e-04 |      6.93e-02\n",
      "        9 | -2.12e+01 |  7.73e-03 |     6.22e-04 |      5.95e-02\n",
      "       10 | -2.10e+01 |  6.84e-03 |     3.81e-04 |      5.26e-02\n",
      "       11 | -2.09e+01 |  6.15e-03 |     2.46e-04 |      4.71e-02\n",
      "       12 | -2.08e+01 |  5.59e-03 |     1.70e-04 |      4.27e-02\n",
      "       13 | -2.07e+01 |  5.12e-03 |     1.25e-04 |      3.90e-02\n",
      "       14 | -2.06e+01 |  4.69e-03 |     1.02e-04 |      3.57e-02\n",
      "       15 | -2.05e+01 |  4.34e-03 |     7.40e-05 |      3.31e-02\n",
      "       16 | -2.04e+01 |  4.05e-03 |     6.02e-05 |      3.09e-02\n",
      "       17 | -2.03e+01 |  3.80e-03 |     5.12e-05 |      2.90e-02\n",
      "       18 | -2.03e+01 |  3.55e-03 |     5.16e-05 |      2.71e-02\n",
      "       19 | -2.02e+01 |  3.34e-03 |     3.98e-05 |      2.56e-02\n",
      "       20 | -2.01e+01 |  3.16e-03 |     3.58e-05 |      2.42e-02\n",
      "       21 | -2.01e+01 |  3.00e-03 |     3.31e-05 |      2.30e-02\n",
      "       22 | -2.00e+01 |  2.85e-03 |     3.07e-05 |      2.18e-02\n",
      "       23 | -2.00e+01 |  2.69e-03 |     3.40e-05 |      2.07e-02\n",
      "       24 | -1.99e+01 |  2.56e-03 |     2.59e-05 |      1.98e-02\n",
      "       25 | -1.99e+01 |  2.44e-03 |     2.35e-05 |      1.90e-02\n",
      "       26 | -1.98e+01 |  2.33e-03 |     2.18e-05 |      1.82e-02\n"
     ]
    },
    {
     "ename": "KeyboardInterrupt",
     "evalue": "",
     "output_type": "error",
     "traceback": [
      "\u001b[0;31m---------------------------------------------------------------------------\u001b[0m",
      "\u001b[0;31mKeyboardInterrupt\u001b[0m                         Traceback (most recent call last)",
      "\u001b[0;32m<ipython-input-68-369ed02bc151>\u001b[0m in \u001b[0;36m<module>\u001b[0;34m\u001b[0m\n\u001b[1;32m      2\u001b[0m \u001b[0;34m\u001b[0m\u001b[0m\n\u001b[1;32m      3\u001b[0m \u001b[0mmodel\u001b[0m \u001b[0;34m=\u001b[0m \u001b[0mHawkesADM4\u001b[0m\u001b[0;34m(\u001b[0m\u001b[0mdecay\u001b[0m\u001b[0;34m=\u001b[0m\u001b[0;36m0.1\u001b[0m\u001b[0;34m,\u001b[0m \u001b[0mmax_iter\u001b[0m\u001b[0;34m=\u001b[0m\u001b[0;36m300\u001b[0m\u001b[0;34m,\u001b[0m \u001b[0mverbose\u001b[0m\u001b[0;34m=\u001b[0m\u001b[0;32mTrue\u001b[0m\u001b[0;34m,\u001b[0m \u001b[0mprint_every\u001b[0m\u001b[0;34m=\u001b[0m\u001b[0;36m1\u001b[0m\u001b[0;34m)\u001b[0m\u001b[0;34m\u001b[0m\u001b[0;34m\u001b[0m\u001b[0m\n\u001b[0;32m----> 4\u001b[0;31m \u001b[0mmodel\u001b[0m\u001b[0;34m.\u001b[0m\u001b[0mfit\u001b[0m\u001b[0;34m(\u001b[0m\u001b[0mevents\u001b[0m\u001b[0;34m)\u001b[0m\u001b[0;34m\u001b[0m\u001b[0;34m\u001b[0m\u001b[0m\n\u001b[0m",
      "\u001b[0;32m~/miniconda3/envs/var-wold/lib/python3.6/site-packages/tick/hawkes/inference/hawkes_adm4.py\u001b[0m in \u001b[0;36mfit\u001b[0;34m(self, events, end_times, baseline_start, adjacency_start)\u001b[0m\n\u001b[1;32m    231\u001b[0m         \u001b[0mLearnerHawkesNoParam\u001b[0m\u001b[0;34m.\u001b[0m\u001b[0mfit\u001b[0m\u001b[0;34m(\u001b[0m\u001b[0mself\u001b[0m\u001b[0;34m,\u001b[0m \u001b[0mevents\u001b[0m\u001b[0;34m,\u001b[0m \u001b[0mend_times\u001b[0m\u001b[0;34m=\u001b[0m\u001b[0mend_times\u001b[0m\u001b[0;34m)\u001b[0m\u001b[0;34m\u001b[0m\u001b[0;34m\u001b[0m\u001b[0m\n\u001b[1;32m    232\u001b[0m         self.solve(baseline_start=baseline_start,\n\u001b[0;32m--> 233\u001b[0;31m                    adjacency_start=adjacency_start)\n\u001b[0m\u001b[1;32m    234\u001b[0m         \u001b[0;32mreturn\u001b[0m \u001b[0mself\u001b[0m\u001b[0;34m\u001b[0m\u001b[0;34m\u001b[0m\u001b[0m\n\u001b[1;32m    235\u001b[0m \u001b[0;34m\u001b[0m\u001b[0m\n",
      "\u001b[0;32m~/miniconda3/envs/var-wold/lib/python3.6/site-packages/tick/solver/base/solver.py\u001b[0m in \u001b[0;36msolve\u001b[0;34m(self, *args, **kwargs)\u001b[0m\n\u001b[1;32m    107\u001b[0m     \u001b[0;32mdef\u001b[0m \u001b[0msolve\u001b[0m\u001b[0;34m(\u001b[0m\u001b[0mself\u001b[0m\u001b[0;34m,\u001b[0m \u001b[0;34m*\u001b[0m\u001b[0margs\u001b[0m\u001b[0;34m,\u001b[0m \u001b[0;34m**\u001b[0m\u001b[0mkwargs\u001b[0m\u001b[0;34m)\u001b[0m\u001b[0;34m:\u001b[0m\u001b[0;34m\u001b[0m\u001b[0;34m\u001b[0m\u001b[0m\n\u001b[1;32m    108\u001b[0m         \u001b[0mself\u001b[0m\u001b[0;34m.\u001b[0m\u001b[0m_start_solve\u001b[0m\u001b[0;34m(\u001b[0m\u001b[0;34m)\u001b[0m\u001b[0;34m\u001b[0m\u001b[0;34m\u001b[0m\u001b[0m\n\u001b[0;32m--> 109\u001b[0;31m         \u001b[0mself\u001b[0m\u001b[0;34m.\u001b[0m\u001b[0m_solve\u001b[0m\u001b[0;34m(\u001b[0m\u001b[0;34m*\u001b[0m\u001b[0margs\u001b[0m\u001b[0;34m,\u001b[0m \u001b[0;34m**\u001b[0m\u001b[0mkwargs\u001b[0m\u001b[0;34m)\u001b[0m\u001b[0;34m\u001b[0m\u001b[0;34m\u001b[0m\u001b[0m\n\u001b[0m\u001b[1;32m    110\u001b[0m         \u001b[0mself\u001b[0m\u001b[0;34m.\u001b[0m\u001b[0m_end_solve\u001b[0m\u001b[0;34m(\u001b[0m\u001b[0;34m)\u001b[0m\u001b[0;34m\u001b[0m\u001b[0;34m\u001b[0m\u001b[0m\n\u001b[1;32m    111\u001b[0m         \u001b[0;32mreturn\u001b[0m \u001b[0mself\u001b[0m\u001b[0;34m.\u001b[0m\u001b[0msolution\u001b[0m\u001b[0;34m\u001b[0m\u001b[0;34m\u001b[0m\u001b[0m\n",
      "\u001b[0;32m~/miniconda3/envs/var-wold/lib/python3.6/site-packages/tick/hawkes/inference/hawkes_adm4.py\u001b[0m in \u001b[0;36m_solve\u001b[0;34m(self, baseline_start, adjacency_start)\u001b[0m\n\u001b[1;32m    315\u001b[0m \u001b[0;34m\u001b[0m\u001b[0m\n\u001b[1;32m    316\u001b[0m             z1 = self._prox_nuclear.call(np.ravel(self.adjacency + u1),\n\u001b[0;32m--> 317\u001b[0;31m                                          step=1. / self.rho) \\\n\u001b[0m\u001b[1;32m    318\u001b[0m                 \u001b[0;34m.\u001b[0m\u001b[0mreshape\u001b[0m\u001b[0;34m(\u001b[0m\u001b[0mself\u001b[0m\u001b[0;34m.\u001b[0m\u001b[0mn_nodes\u001b[0m\u001b[0;34m,\u001b[0m \u001b[0mself\u001b[0m\u001b[0;34m.\u001b[0m\u001b[0mn_nodes\u001b[0m\u001b[0;34m)\u001b[0m\u001b[0;34m\u001b[0m\u001b[0;34m\u001b[0m\u001b[0m\n\u001b[1;32m    319\u001b[0m             z2 = self._prox_l1.call(np.ravel(self.adjacency + u2),\n",
      "\u001b[0;32m~/miniconda3/envs/var-wold/lib/python3.6/site-packages/tick/prox/base/prox.py\u001b[0m in \u001b[0;36mcall\u001b[0;34m(self, coeffs, step, out)\u001b[0m\n\u001b[1;32m     95\u001b[0m             \u001b[0mout\u001b[0m\u001b[0;34m[\u001b[0m\u001b[0;34m:\u001b[0m\u001b[0;34m]\u001b[0m \u001b[0;34m=\u001b[0m \u001b[0mcoeffs\u001b[0m\u001b[0;34m\u001b[0m\u001b[0;34m\u001b[0m\u001b[0m\n\u001b[1;32m     96\u001b[0m         \u001b[0;31m# Apply the proximal, the output is in out\u001b[0m\u001b[0;34m\u001b[0m\u001b[0;34m\u001b[0m\u001b[0;34m\u001b[0m\u001b[0m\n\u001b[0;32m---> 97\u001b[0;31m         \u001b[0mself\u001b[0m\u001b[0;34m.\u001b[0m\u001b[0m_call\u001b[0m\u001b[0;34m(\u001b[0m\u001b[0mcoeffs\u001b[0m\u001b[0;34m,\u001b[0m \u001b[0mstep\u001b[0m\u001b[0;34m,\u001b[0m \u001b[0mout\u001b[0m\u001b[0;34m)\u001b[0m\u001b[0;34m\u001b[0m\u001b[0;34m\u001b[0m\u001b[0m\n\u001b[0m\u001b[1;32m     98\u001b[0m         \u001b[0;32mreturn\u001b[0m \u001b[0mout\u001b[0m\u001b[0;34m\u001b[0m\u001b[0;34m\u001b[0m\u001b[0m\n\u001b[1;32m     99\u001b[0m \u001b[0;34m\u001b[0m\u001b[0m\n",
      "\u001b[0;32m~/miniconda3/envs/var-wold/lib/python3.6/site-packages/tick/prox/prox_nuclear.py\u001b[0m in \u001b[0;36m_call\u001b[0;34m(self, coeffs, step, out)\u001b[0m\n\u001b[1;32m     74\u001b[0m     \u001b[0;32mdef\u001b[0m \u001b[0m_call\u001b[0m\u001b[0;34m(\u001b[0m\u001b[0mself\u001b[0m\u001b[0;34m,\u001b[0m \u001b[0mcoeffs\u001b[0m\u001b[0;34m:\u001b[0m \u001b[0mnp\u001b[0m\u001b[0;34m.\u001b[0m\u001b[0mndarray\u001b[0m\u001b[0;34m,\u001b[0m \u001b[0mstep\u001b[0m\u001b[0;34m:\u001b[0m \u001b[0mfloat\u001b[0m\u001b[0;34m,\u001b[0m \u001b[0mout\u001b[0m\u001b[0;34m:\u001b[0m \u001b[0mnp\u001b[0m\u001b[0;34m.\u001b[0m\u001b[0mndarray\u001b[0m\u001b[0;34m)\u001b[0m\u001b[0;34m:\u001b[0m\u001b[0;34m\u001b[0m\u001b[0;34m\u001b[0m\u001b[0m\n\u001b[1;32m     75\u001b[0m         \u001b[0mx\u001b[0m \u001b[0;34m=\u001b[0m \u001b[0mself\u001b[0m\u001b[0;34m.\u001b[0m\u001b[0m_get_matrix\u001b[0m\u001b[0;34m(\u001b[0m\u001b[0mcoeffs\u001b[0m\u001b[0;34m)\u001b[0m\u001b[0;34m\u001b[0m\u001b[0;34m\u001b[0m\u001b[0m\n\u001b[0;32m---> 76\u001b[0;31m         \u001b[0mu\u001b[0m\u001b[0;34m,\u001b[0m \u001b[0ms\u001b[0m\u001b[0;34m,\u001b[0m \u001b[0mv\u001b[0m \u001b[0;34m=\u001b[0m \u001b[0msvd\u001b[0m\u001b[0;34m(\u001b[0m\u001b[0mx\u001b[0m\u001b[0;34m,\u001b[0m \u001b[0mcompute_uv\u001b[0m\u001b[0;34m=\u001b[0m\u001b[0;32mTrue\u001b[0m\u001b[0;34m,\u001b[0m \u001b[0mfull_matrices\u001b[0m\u001b[0;34m=\u001b[0m\u001b[0;32mFalse\u001b[0m\u001b[0;34m)\u001b[0m\u001b[0;34m\u001b[0m\u001b[0;34m\u001b[0m\u001b[0m\n\u001b[0m\u001b[1;32m     77\u001b[0m         \u001b[0mthresh\u001b[0m \u001b[0;34m=\u001b[0m \u001b[0mstep\u001b[0m \u001b[0;34m*\u001b[0m \u001b[0mself\u001b[0m\u001b[0;34m.\u001b[0m\u001b[0mstrength\u001b[0m\u001b[0;34m\u001b[0m\u001b[0;34m\u001b[0m\u001b[0m\n\u001b[1;32m     78\u001b[0m         \u001b[0ms\u001b[0m \u001b[0;34m=\u001b[0m \u001b[0;34m(\u001b[0m\u001b[0ms\u001b[0m \u001b[0;34m-\u001b[0m \u001b[0mthresh\u001b[0m\u001b[0;34m)\u001b[0m \u001b[0;34m*\u001b[0m \u001b[0;34m(\u001b[0m\u001b[0ms\u001b[0m \u001b[0;34m>\u001b[0m \u001b[0mthresh\u001b[0m\u001b[0;34m)\u001b[0m\u001b[0;34m\u001b[0m\u001b[0;34m\u001b[0m\u001b[0m\n",
      "\u001b[0;32m<__array_function__ internals>\u001b[0m in \u001b[0;36msvd\u001b[0;34m(*args, **kwargs)\u001b[0m\n",
      "\u001b[0;32m~/miniconda3/envs/var-wold/lib/python3.6/site-packages/numpy/linalg/linalg.py\u001b[0m in \u001b[0;36msvd\u001b[0;34m(a, full_matrices, compute_uv, hermitian)\u001b[0m\n\u001b[1;32m   1624\u001b[0m \u001b[0;34m\u001b[0m\u001b[0m\n\u001b[1;32m   1625\u001b[0m         \u001b[0msignature\u001b[0m \u001b[0;34m=\u001b[0m \u001b[0;34m'D->DdD'\u001b[0m \u001b[0;32mif\u001b[0m \u001b[0misComplexType\u001b[0m\u001b[0;34m(\u001b[0m\u001b[0mt\u001b[0m\u001b[0;34m)\u001b[0m \u001b[0;32melse\u001b[0m \u001b[0;34m'd->ddd'\u001b[0m\u001b[0;34m\u001b[0m\u001b[0;34m\u001b[0m\u001b[0m\n\u001b[0;32m-> 1626\u001b[0;31m         \u001b[0mu\u001b[0m\u001b[0;34m,\u001b[0m \u001b[0ms\u001b[0m\u001b[0;34m,\u001b[0m \u001b[0mvh\u001b[0m \u001b[0;34m=\u001b[0m \u001b[0mgufunc\u001b[0m\u001b[0;34m(\u001b[0m\u001b[0ma\u001b[0m\u001b[0;34m,\u001b[0m \u001b[0msignature\u001b[0m\u001b[0;34m=\u001b[0m\u001b[0msignature\u001b[0m\u001b[0;34m,\u001b[0m \u001b[0mextobj\u001b[0m\u001b[0;34m=\u001b[0m\u001b[0mextobj\u001b[0m\u001b[0;34m)\u001b[0m\u001b[0;34m\u001b[0m\u001b[0;34m\u001b[0m\u001b[0m\n\u001b[0m\u001b[1;32m   1627\u001b[0m         \u001b[0mu\u001b[0m \u001b[0;34m=\u001b[0m \u001b[0mu\u001b[0m\u001b[0;34m.\u001b[0m\u001b[0mastype\u001b[0m\u001b[0;34m(\u001b[0m\u001b[0mresult_t\u001b[0m\u001b[0;34m,\u001b[0m \u001b[0mcopy\u001b[0m\u001b[0;34m=\u001b[0m\u001b[0;32mFalse\u001b[0m\u001b[0;34m)\u001b[0m\u001b[0;34m\u001b[0m\u001b[0;34m\u001b[0m\u001b[0m\n\u001b[1;32m   1628\u001b[0m         \u001b[0ms\u001b[0m \u001b[0;34m=\u001b[0m \u001b[0ms\u001b[0m\u001b[0;34m.\u001b[0m\u001b[0mastype\u001b[0m\u001b[0;34m(\u001b[0m\u001b[0m_realType\u001b[0m\u001b[0;34m(\u001b[0m\u001b[0mresult_t\u001b[0m\u001b[0;34m)\u001b[0m\u001b[0;34m,\u001b[0m \u001b[0mcopy\u001b[0m\u001b[0;34m=\u001b[0m\u001b[0;32mFalse\u001b[0m\u001b[0;34m)\u001b[0m\u001b[0;34m\u001b[0m\u001b[0;34m\u001b[0m\u001b[0m\n",
      "\u001b[0;31mKeyboardInterrupt\u001b[0m: "
     ]
    }
   ],
   "source": [
    "from tick.hawkes import HawkesADM4\n",
    "\n",
    "model = HawkesADM4(decay=0.1, max_iter=300, verbose=True, print_every=1)\n",
    "model.fit(events)"
   ]
  },
  {
   "cell_type": "code",
   "execution_count": null,
   "metadata": {},
   "outputs": [],
   "source": []
  }
 ],
 "metadata": {
  "kernelspec": {
   "display_name": "Python 3",
   "language": "python",
   "name": "python3"
  },
  "language_info": {
   "codemirror_mode": {
    "name": "ipython",
    "version": 3
   },
   "file_extension": ".py",
   "mimetype": "text/x-python",
   "name": "python",
   "nbconvert_exporter": "python",
   "pygments_lexer": "ipython3",
   "version": "3.6.10"
  }
 },
 "nbformat": 4,
 "nbformat_minor": 4
}

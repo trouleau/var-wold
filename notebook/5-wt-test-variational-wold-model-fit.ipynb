{
 "cells": [
  {
   "cell_type": "code",
   "execution_count": 1,
   "metadata": {},
   "outputs": [],
   "source": [
    "%load_ext autoreload\n",
    "%autoreload 2"
   ]
  },
  {
   "cell_type": "code",
   "execution_count": 2,
   "metadata": {},
   "outputs": [],
   "source": [
    "%load_ext line_profiler"
   ]
  },
  {
   "cell_type": "code",
   "execution_count": 3,
   "metadata": {},
   "outputs": [],
   "source": [
    "import itertools\n",
    "import torch\n",
    "\n",
    "from tsvar.simulate import GrangerBuscaSimulator\n",
    "from tsvar.wold_model import VariationalWoldModel"
   ]
  },
  {
   "cell_type": "markdown",
   "metadata": {},
   "source": [
    "---\n",
    "\n",
    "## Generate small toy example dataset\n",
    "\n",
    "Define model parameters"
   ]
  },
  {
   "cell_type": "code",
   "execution_count": 4,
   "metadata": {},
   "outputs": [
    {
     "name": "stdout",
     "output_type": "stream",
     "text": [
      "w(0 -> 0) = 0.30\n",
      "w(1 -> 0) = 0.20\n",
      "w(2 -> 0) = 0.20\n",
      "w(0 -> 1) = 0.80\n",
      "w(1 -> 1) = 0.30\n",
      "w(2 -> 1) = 0.10\n",
      "w(0 -> 2) = 0.10\n",
      "w(1 -> 2) = 0.10\n",
      "w(2 -> 2) = 0.00\n"
     ]
    }
   ],
   "source": [
    "dim = 3\n",
    "\n",
    "baseline = np.array([0.1, 0.1, 0.2])\n",
    "\n",
    "# adjacency[i,j] = magnitude of influence from i to j\n",
    "adjacency = np.array([\n",
    "    [0.3, 0.8, 0.1],\n",
    "    [0.2, 0.3, 0.1],\n",
    "    [0.2, 0.1, 0.0]\n",
    "])\n",
    "\n",
    "end_time = 1e5\n",
    "\n",
    "for i, j in itertools.product(range(dim), repeat=2):\n",
    "    print(f\"w({j:d} -> {i:d}) = {adjacency[j,i]:.2f}\")"
   ]
  },
  {
   "cell_type": "markdown",
   "metadata": {},
   "source": [
    "Simulate a dataset"
   ]
  },
  {
   "cell_type": "code",
   "execution_count": 5,
   "metadata": {
    "scrolled": true
   },
   "outputs": [
    {
     "name": "stdout",
     "output_type": "stream",
     "text": [
      "[36304, 55138, 28497]\n",
      "\n",
      "tensor([2.5502e+00, 3.3542e+00, 9.4456e+00,  ..., 9.9993e+04, 9.9998e+04,\n",
      "        9.9998e+04])\n",
      "\n",
      "tensor([1.0916e+01, 1.1661e+01, 1.1825e+01,  ..., 9.9996e+04, 9.9996e+04,\n",
      "        9.9997e+04])\n",
      "\n",
      "tensor([5.7092e+00, 2.1376e+01, 2.8914e+01,  ..., 9.9992e+04, 9.9993e+04,\n",
      "        9.9995e+04])\n"
     ]
    }
   ],
   "source": [
    "wold_sim = GrangerBuscaSimulator(mu_rates=baseline, Alpha_ba=adjacency, Beta_b=np.ones((dim,)))\n",
    "events = wold_sim.simulate(end_time, seed=42)\n",
    "events = [torch.tensor(ev, dtype=torch.float) for ev in events]\n",
    "\n",
    "\n",
    "print(list(map(len, events)))\n",
    "print()\n",
    "print(events[0])\n",
    "print()\n",
    "print(events[1])\n",
    "print()\n",
    "print(events[2])"
   ]
  },
  {
   "cell_type": "markdown",
   "metadata": {},
   "source": [
    "---\n",
    "\n",
    "## Test variational inference algorithm"
   ]
  },
  {
   "cell_type": "markdown",
   "metadata": {},
   "source": [
    "Create model object and set the data."
   ]
  },
  {
   "cell_type": "code",
   "execution_count": 6,
   "metadata": {},
   "outputs": [],
   "source": [
    "self = VariationalWoldModel(verbose=True)\n",
    "self.set_data(events)"
   ]
  },
  {
   "cell_type": "markdown",
   "metadata": {},
   "source": [
    "Define the parameters of the prior."
   ]
  },
  {
   "cell_type": "code",
   "execution_count": 15,
   "metadata": {},
   "outputs": [],
   "source": [
    "as_pr = 1.0 * np.ones((dim + 1, dim))\n",
    "ar_pr = 1.0 * np.ones((dim + 1, dim))\n",
    "\n",
    "# lamb = 2.0 * (dim + 1) * np.ones(dim + 1)\n",
    "lamb = 0.01 * self.n_jumps\n",
    "\n",
    "zc_pr = [1.0 * np.ones((len(events[i]), dim+1)) for i in range(dim)]"
   ]
  },
  {
   "cell_type": "code",
   "execution_count": 16,
   "metadata": {
    "scrolled": true
   },
   "outputs": [
    {
     "name": "stdout",
     "output_type": "stream",
     "text": [
      "-------------------------------------------------- 0\n",
      "Alpha posterior shape:\n",
      "[[1. 1. 1.]\n",
      " [1. 1. 1.]\n",
      " [1. 1. 1.]\n",
      " [1. 1. 1.]]\n",
      "Z posterior probabilities\n",
      "[[0.25 0.25 0.25 0.25]\n",
      " [0.25 0.25 0.25 0.25]\n",
      " [0.25 0.25 0.25 0.25]\n",
      " ...\n",
      " [0.25 0.25 0.25 0.25]\n",
      " [0.25 0.25 0.25 0.25]\n",
      " [0.25 0.25 0.25 0.25]]\n",
      "-------------------------------------------------- 1\n",
      "[36304 55138 28497]\n",
      "Alpha posterior shape:\n",
      "[[ 8977.   13685.5   7025.25]\n",
      " [ 8977.   13685.5   7025.25]\n",
      " [ 8977.   13685.5   7025.25]\n",
      " [ 8977.   13685.5   7025.25]]\n",
      "Z posterior probabilities\n",
      "[[0.25    0.25    0.25    0.25   ]\n",
      " [0.25    0.25    0.25    0.25   ]\n",
      " [0.28135 0.15595 0.28135 0.28135]\n",
      " ...\n",
      " [0.50994 0.25299 0.10494 0.13213]\n",
      " [0.49364 0.15116 0.06928 0.28591]\n",
      " [0.47078 0.08323 0.30903 0.13696]]\n",
      "-------------------------------------------------- 2\n",
      "[36304 55138 28497]\n",
      "Alpha posterior shape:\n",
      "[[16614.91589 25004.17266 13137.0939 ]\n",
      " [ 6246.02649  9872.0265   4846.62005]\n",
      " [ 7477.21776 11526.46175  5799.0177 ]\n",
      " [ 5569.83986  8339.3391   4318.26835]]\n",
      "Z posterior probabilities\n",
      "[[0.46272 0.17394 0.20823 0.15511]\n",
      " [0.46272 0.17394 0.20823 0.15511]\n",
      " [0.50161 0.10452 0.22573 0.16814]\n",
      " ...\n",
      " [0.73208 0.13653 0.0678  0.06359]\n",
      " [0.72864 0.08387 0.04602 0.14147]\n",
      " [0.68523 0.04554 0.20241 0.06682]]\n",
      "-------------------------------------------------- 3\n",
      "[36304 55138 28497]\n",
      "Alpha posterior shape:\n",
      "[[24536.67935 36770.02545 19454.71807]\n",
      " [ 3531.59176  5846.38928  2684.1566 ]\n",
      " [ 5037.89946  7946.31758  3835.63432]\n",
      " [ 2801.82942  4179.26769  2126.49101]]\n",
      "Z posterior probabilities\n",
      "[[0.68334 0.09834 0.14029 0.07802]\n",
      " [0.68334 0.09834 0.14029 0.07802]\n",
      " [0.71467 0.05701 0.14673 0.08159]\n",
      " ...\n",
      " [0.87471 0.06245 0.03696 0.02588]\n",
      " [0.87796 0.03869 0.0253  0.05806]\n",
      " [0.83793 0.02132 0.11292 0.02783]]\n",
      "-------------------------------------------------- 4\n",
      "[36304 55138 28497]\n",
      "Alpha posterior shape:\n",
      "[[30270.59187 45442.83297 23958.60378]\n",
      " [ 1651.48807  2917.14752  1208.50971]\n",
      " [ 2841.72697  4644.29939  2102.77499]\n",
      " [ 1144.19308  1737.72012   831.11152]]\n",
      "Z posterior probabilities\n",
      "[[0.84304 0.04598 0.07913 0.03185]\n",
      " [0.84304 0.04598 0.07913 0.03185]\n",
      " [0.86068 0.02602 0.08079 0.03252]\n",
      " ...\n",
      " [0.94682 0.02562 0.01829 0.00927]\n",
      " [0.95079 0.01588 0.01253 0.02081]\n",
      " [0.924   0.00891 0.05693 0.01016]]\n",
      "-------------------------------------------------- 5\n",
      "[36304 55138 28497]\n",
      "Alpha posterior shape:\n",
      "[[33499.31394 50461.25718 26442.9071 ]\n",
      " [  643.29769  1267.75497   433.97886]\n",
      " [ 1404.82286  2419.73825   994.30274]\n",
      " [  360.56552   593.2496    229.8113 ]]\n",
      "Z posterior probabilities\n",
      "[[0.93296 0.0179  0.03911 0.01003]\n",
      " [0.93296 0.0179  0.03911 0.01003]\n",
      " [0.94046 0.01    0.03943 0.01011]\n",
      " ...\n",
      " [0.9795  0.00932 0.00845 0.00273]\n",
      " [0.98233 0.00577 0.00578 0.00612]\n",
      " [0.96708 0.00328 0.02661 0.00302]]\n",
      "-------------------------------------------------- 6\n",
      "[36304 55138 28497]\n",
      "Alpha posterior shape:\n",
      "[[35085.1097  53001.24585 27637.50472]\n",
      " [  175.91923   465.69359    82.96792]\n",
      " [  608.51278  1149.82058   393.2257 ]\n",
      " [   38.45829   125.23998   -12.69834]]\n"
     ]
    },
    {
     "ename": "RuntimeError",
     "evalue": "Negative alpha!",
     "output_type": "error",
     "traceback": [
      "\u001b[0;31m---------------------------------------------------------------------------\u001b[0m",
      "\u001b[0;31mRuntimeError\u001b[0m                              Traceback (most recent call last)",
      "\u001b[0;32m<ipython-input-16-bebdc9a94e06>\u001b[0m in \u001b[0;36m<module>\u001b[0;34m\u001b[0m\n\u001b[0;32m----> 1\u001b[0;31m \u001b[0mself\u001b[0m\u001b[0;34m.\u001b[0m\u001b[0mfit\u001b[0m\u001b[0;34m(\u001b[0m\u001b[0mas_pr\u001b[0m\u001b[0;34m=\u001b[0m\u001b[0mas_pr\u001b[0m\u001b[0;34m,\u001b[0m \u001b[0mar_pr\u001b[0m\u001b[0;34m=\u001b[0m\u001b[0mar_pr\u001b[0m\u001b[0;34m,\u001b[0m \u001b[0mzc_pr\u001b[0m\u001b[0;34m=\u001b[0m\u001b[0mzc_pr\u001b[0m\u001b[0;34m,\u001b[0m \u001b[0mlamb\u001b[0m\u001b[0;34m=\u001b[0m\u001b[0mlamb\u001b[0m\u001b[0;34m,\u001b[0m \u001b[0mmax_iter\u001b[0m\u001b[0;34m=\u001b[0m\u001b[0;36m100\u001b[0m\u001b[0;34m,\u001b[0m \u001b[0mtol\u001b[0m\u001b[0;34m=\u001b[0m\u001b[0;36m1e-5\u001b[0m\u001b[0;34m)\u001b[0m\u001b[0;34m\u001b[0m\u001b[0;34m\u001b[0m\u001b[0m\n\u001b[0m",
      "\u001b[0;32m~/Workspace/EPFL/research/ongoing/var-wold/tsvar/utils/decorators.py\u001b[0m in \u001b[0;36mwrapped\u001b[0;34m(self, *args, **kwargs)\u001b[0m\n\u001b[1;32m      4\u001b[0m     \u001b[0;32mdef\u001b[0m \u001b[0mwrapped\u001b[0m\u001b[0;34m(\u001b[0m\u001b[0mself\u001b[0m\u001b[0;34m,\u001b[0m \u001b[0;34m*\u001b[0m\u001b[0margs\u001b[0m\u001b[0;34m,\u001b[0m \u001b[0;34m**\u001b[0m\u001b[0mkwargs\u001b[0m\u001b[0;34m)\u001b[0m\u001b[0;34m:\u001b[0m\u001b[0;34m\u001b[0m\u001b[0;34m\u001b[0m\u001b[0m\n\u001b[1;32m      5\u001b[0m         \u001b[0;32mif\u001b[0m \u001b[0mself\u001b[0m\u001b[0;34m.\u001b[0m\u001b[0m_fitted\u001b[0m\u001b[0;34m:\u001b[0m\u001b[0;34m\u001b[0m\u001b[0;34m\u001b[0m\u001b[0m\n\u001b[0;32m----> 6\u001b[0;31m             \u001b[0;32mreturn\u001b[0m \u001b[0mfn\u001b[0m\u001b[0;34m(\u001b[0m\u001b[0mself\u001b[0m\u001b[0;34m,\u001b[0m \u001b[0;34m*\u001b[0m\u001b[0margs\u001b[0m\u001b[0;34m,\u001b[0m \u001b[0;34m**\u001b[0m\u001b[0mkwargs\u001b[0m\u001b[0;34m)\u001b[0m\u001b[0;34m\u001b[0m\u001b[0;34m\u001b[0m\u001b[0m\n\u001b[0m\u001b[1;32m      7\u001b[0m         \u001b[0;32melse\u001b[0m\u001b[0;34m:\u001b[0m\u001b[0;34m\u001b[0m\u001b[0;34m\u001b[0m\u001b[0m\n\u001b[1;32m      8\u001b[0m             raise Exception(('Model is not properly set. '\n",
      "\u001b[0;32m~/Workspace/EPFL/research/ongoing/var-wold/tsvar/wold_model.py\u001b[0m in \u001b[0;36mfit\u001b[0;34m(self, as_pr, ar_pr, zc_pr, lamb, max_iter, tol)\u001b[0m\n\u001b[1;32m    290\u001b[0m             \u001b[0mprint\u001b[0m\u001b[0;34m(\u001b[0m\u001b[0mself\u001b[0m\u001b[0;34m.\u001b[0m\u001b[0m_as_po\u001b[0m\u001b[0;34m)\u001b[0m\u001b[0;34m\u001b[0m\u001b[0;34m\u001b[0m\u001b[0m\n\u001b[1;32m    291\u001b[0m             \u001b[0;32mif\u001b[0m \u001b[0mself\u001b[0m\u001b[0;34m.\u001b[0m\u001b[0m_as_po\u001b[0m\u001b[0;34m.\u001b[0m\u001b[0mmin\u001b[0m\u001b[0;34m(\u001b[0m\u001b[0;34m)\u001b[0m \u001b[0;34m<\u001b[0m \u001b[0;36m0\u001b[0m\u001b[0;34m:\u001b[0m\u001b[0;34m\u001b[0m\u001b[0;34m\u001b[0m\u001b[0m\n\u001b[0;32m--> 292\u001b[0;31m                 \u001b[0;32mraise\u001b[0m \u001b[0mRuntimeError\u001b[0m\u001b[0;34m(\u001b[0m\u001b[0;34m\"Negative alpha!\"\u001b[0m\u001b[0;34m)\u001b[0m\u001b[0;34m\u001b[0m\u001b[0;34m\u001b[0m\u001b[0m\n\u001b[0m\u001b[1;32m    293\u001b[0m \u001b[0;34m\u001b[0m\u001b[0m\n\u001b[1;32m    294\u001b[0m             \u001b[0;31m# Cache `C_ik` values\u001b[0m\u001b[0;34m\u001b[0m\u001b[0;34m\u001b[0m\u001b[0;34m\u001b[0m\u001b[0m\n",
      "\u001b[0;31mRuntimeError\u001b[0m: Negative alpha!"
     ]
    }
   ],
   "source": [
    "self.fit(as_pr=as_pr, ar_pr=ar_pr, zc_pr=zc_pr, lamb=lamb, max_iter=100, tol=1e-5)"
   ]
  },
  {
   "cell_type": "code",
   "execution_count": null,
   "metadata": {},
   "outputs": [],
   "source": []
  }
 ],
 "metadata": {
  "kernelspec": {
   "display_name": "Python 3",
   "language": "python",
   "name": "python3"
  },
  "language_info": {
   "codemirror_mode": {
    "name": "ipython",
    "version": 3
   },
   "file_extension": ".py",
   "mimetype": "text/x-python",
   "name": "python",
   "nbconvert_exporter": "python",
   "pygments_lexer": "ipython3",
   "version": "3.6.10"
  }
 },
 "nbformat": 4,
 "nbformat_minor": 2
}

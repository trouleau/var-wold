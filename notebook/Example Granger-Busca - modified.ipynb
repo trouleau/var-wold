{
 "cells": [
  {
   "cell_type": "code",
   "execution_count": 1,
   "metadata": {},
   "outputs": [
    {
     "name": "stdout",
     "output_type": "stream",
     "text": [
      "Simulated 143638 timestamps\n",
      "mu: [0.25 0.28 0.06]\n",
      "alpha:\n",
      "[[0.22 0.73 0.05]\n",
      " [0.42 0.56 0.03]\n",
      " [0.73 0.01 0.27]]\n"
     ]
    }
   ],
   "source": [
    "import numpy as np\n",
    "from sklearn import preprocessing\n",
    "from gb import GrangerBusca, simulate\n",
    "\n",
    "np.random.seed(1234)\n",
    "\n",
    "# Define parameters\n",
    "mu_rates = np.array([0.1, 0.1, 0.1])\n",
    "Alpha_ba = np.array([[0.0, 1.0, 0.0],\n",
    "                     [0.7, 0.3, 0.0],\n",
    "                     [0.8, 0.0, 0.2]])\n",
    "Beta_ba = np.ones((3, 3))\n",
    "\n",
    "# Simulate timestamps\n",
    "sim = simulate.GrangeBuscaSimulator(mu_rates=mu_rates, Alpha_ba=Alpha_ba, Beta_ba=Beta_ba)\n",
    "timestamps = sim.simulate(forward=1e5)\n",
    "print(f'Simulated {sum(map(len, timestamps)):d} timestamps')\n",
    "\n",
    "# Fit the model\n",
    "granger_model = GrangerBusca(\n",
    "    alpha_prior=1.0/len(timestamps), \n",
    "    num_iter=1000, metropolis=True, beta_strategy=1)\n",
    "granger_model.fit(timestamps)\n",
    "\n",
    "alpha_ = preprocessing.normalize(granger_model.Alpha_.toarray(),\"l1\")\n",
    "mu_ = granger_model.mu_\n",
    "\n",
    "# Print estimated parameters\n",
    "print('mu:', mu_.round(2))\n",
    "print('alpha:')\n",
    "print(alpha_.round(2))"
   ]
  },
  {
   "cell_type": "code",
   "execution_count": null,
   "metadata": {},
   "outputs": [],
   "source": []
  }
 ],
 "metadata": {
  "kernelspec": {
   "display_name": "Python 3",
   "language": "python",
   "name": "python3"
  },
  "language_info": {
   "codemirror_mode": {
    "name": "ipython",
    "version": 3
   },
   "file_extension": ".py",
   "mimetype": "text/x-python",
   "name": "python",
   "nbconvert_exporter": "python",
   "pygments_lexer": "ipython3",
   "version": "3.6.10"
  }
 },
 "nbformat": 4,
 "nbformat_minor": 2
}

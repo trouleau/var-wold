{
 "cells": [
  {
   "cell_type": "code",
   "execution_count": 1,
   "metadata": {},
   "outputs": [],
   "source": [
    "%load_ext autoreload\n",
    "%autoreload 2\n",
    "\n",
    "%load_ext line_profiler"
   ]
  },
  {
   "cell_type": "code",
   "execution_count": 2,
   "metadata": {},
   "outputs": [],
   "source": [
    "from matplotlib import pyplot as plt\n",
    "import networkx as nx\n",
    "import numpy as np\n",
    "import pandas as pd\n",
    "import itertools\n",
    "import torch\n",
    "import os\n",
    "\n",
    "import scipy.stats\n",
    "\n",
    "import tsvar\n",
    "import experiments_utils"
   ]
  },
  {
   "cell_type": "markdown",
   "metadata": {},
   "source": [
    "Set cells width"
   ]
  },
  {
   "cell_type": "code",
   "execution_count": 3,
   "metadata": {},
   "outputs": [
    {
     "data": {
      "text/html": [
       "<style>.container { width:80% !important; }</style>"
      ],
      "text/plain": [
       "<IPython.core.display.HTML object>"
      ]
     },
     "metadata": {},
     "output_type": "display_data"
    }
   ],
   "source": [
    "from IPython.core.display import display, HTML\n",
    "display(HTML(\"<style>.container { width:80% !important; }</style>\"))"
   ]
  },
  {
   "cell_type": "markdown",
   "metadata": {},
   "source": [
    "---\n",
    "\n",
    "## Load the dataset\n",
    "\n",
    "Set input path"
   ]
  },
  {
   "cell_type": "code",
   "execution_count": 4,
   "metadata": {},
   "outputs": [],
   "source": [
    "INPUT_PATH = \"/root/workspace/var-wold/data/memetracker/memetracker-top100-clean.pickle.gz\""
   ]
  },
  {
   "cell_type": "markdown",
   "metadata": {},
   "source": [
    "Load the dataset"
   ]
  },
  {
   "cell_type": "code",
   "execution_count": 5,
   "metadata": {},
   "outputs": [],
   "source": [
    "dataset = tsvar.preprocessing.MemeTrackerDataset(INPUT_PATH)\n",
    "dataset.data.Timestamp /= 426.3722723177017"
   ]
  },
  {
   "cell_type": "markdown",
   "metadata": {},
   "source": [
    "Visualize the dataset"
   ]
  },
  {
   "cell_type": "code",
   "execution_count": 6,
   "metadata": {
    "scrolled": true
   },
   "outputs": [
    {
     "data": {
      "image/png": "[encoded data removed]",
      "text/plain": [
       "<Figure size 1296x252 with 4 Axes>"
      ]
     },
     "metadata": {
      "needs_background": "light"
     },
     "output_type": "display_data"
    }
   ],
   "source": [
    "start_time = dataset.data.Timestamp.min()\n",
    "end_time = dataset.data.Timestamp.max()\n",
    "events_all, graph_all = dataset.sample(start_time, end_time)\n",
    "\n",
    "fig, axs = plt.subplots(1, 4, figsize=(18, 3.5))\n",
    "\n",
    "axs[0].hist(np.hstack(events_all.values()), bins=50)\n",
    "axs[0].set_xlabel('Time')\n",
    "axs[0].set_ylabel('Number of events')\n",
    "\n",
    "axs[1].hist(list(map(len, events_all.values())))\n",
    "axs[1].set_xlabel('Number of events \\n in each dim')\n",
    "\n",
    "axs[2].hist(list(map(min, events_all.values())), bins=np.linspace(start_time, end_time, 20))\n",
    "axs[2].set_xlabel('First of event \\n in each dim')\n",
    "\n",
    "axs[3].hist(list(map(max, events_all.values())), bins=np.linspace(start_time, end_time, 20))\n",
    "axs[3].set_xlabel('Last of events \\n in each dim')\n",
    "\n",
    "fig.suptitle(f\"Dataset MemeTracker\");"
   ]
  },
  {
   "cell_type": "markdown",
   "metadata": {},
   "source": [
    "Print statistics of the dataset"
   ]
  },
  {
   "cell_type": "code",
   "execution_count": 7,
   "metadata": {
    "scrolled": true
   },
   "outputs": [
    {
     "name": "stdout",
     "output_type": "stream",
     "text": [
      "Num. of dimensions: 100\n",
      "    Num. of events: 15,168,771\n",
      "               %NZ: 9.85%\n",
      "\n",
      "Stats. of num. of events per dim:\n",
      "count    1.000000e+02\n",
      "mean     1.516877e+05\n",
      "std      1.937080e+05\n",
      "min      1.723000e+03\n",
      "25%      7.706900e+04\n",
      "50%      1.057855e+05\n",
      "75%      1.740125e+05\n",
      "max      1.624572e+06\n",
      "dtype: float64\n"
     ]
    }
   ],
   "source": [
    "print(f\"Num. of dimensions: {len(events_all):,d}\")\n",
    "print(f\"    Num. of events: {sum(map(len, events_all.values())):,d}\")\n",
    "print(f\"               %NZ: {100 * graph_all.number_of_edges() / (graph_all.number_of_nodes() ** 2):.2f}%\")\n",
    "print()\n",
    "print(\"Stats. of num. of events per dim:\")\n",
    "num_jumps_per_dim = np.array(list(map(len, events_all.values())))\n",
    "print(pd.Series(num_jumps_per_dim).describe())"
   ]
  },
  {
   "cell_type": "markdown",
   "metadata": {},
   "source": [
    "## Sample train and test sets"
   ]
  },
  {
   "cell_type": "code",
   "execution_count": 8,
   "metadata": {},
   "outputs": [
    {
     "name": "stdout",
     "output_type": "stream",
     "text": [
      "\n",
      "Training set\n",
      "------------\n",
      "Num. of dimensions: 87\n",
      "    Num. of events: 439,439\n",
      "Observation window: [0.06, 2765.95]\n",
      "               %NZ: 3.45%\n",
      "Stats. of num. of events per dim:\n",
      "count       87.000000\n",
      "mean      5051.022989\n",
      "std       7226.410542\n",
      "min          1.000000\n",
      "25%        991.000000\n",
      "50%       3839.000000\n",
      "75%       6909.000000\n",
      "max      60379.000000\n",
      "dtype: float64\n",
      "\n",
      "Test set\n",
      "--------\n",
      "Num. of dimensions: 87\n",
      "    Num. of events: 646,538\n",
      "Observation window: [0.25, 2765.97]\n",
      "Stats. of num. of events per dim:\n",
      "count       87.000000\n",
      "mean      7431.471264\n",
      "std      10110.486740\n",
      "min          1.000000\n",
      "25%        520.500000\n",
      "50%       4997.000000\n",
      "75%       9282.000000\n",
      "max      71799.000000\n",
      "dtype: float64\n"
     ]
    }
   ],
   "source": [
    "chunk_idx = 2\n",
    "chunk_total = 20\n",
    "\n",
    "t0 = dataset.data.Timestamp.min()\n",
    "t1 = dataset.data.Timestamp.max()\n",
    "train_start = t0 + (t1 - t0) * chunk_idx / chunk_total\n",
    "train_end = t0 + (t1 - t0) * (chunk_idx + 1) / chunk_total\n",
    "test_end = t0 + (t1 - t0) * (chunk_idx + 2) / chunk_total\n",
    "\n",
    "train_events, train_graph, test_events, test_graph = dataset.build_train_test(train_start, train_end, test_end)\n",
    "nodelist = sorted(train_events.keys())\n",
    "\n",
    "adjacency_true = nx.adjacency_matrix(train_graph, nodelist).toarray()\n",
    "train_events = [train_events[v] for v in nodelist]\n",
    "test_events = [test_events[v] for v in nodelist]\n",
    "\n",
    "print()\n",
    "print('Training set')\n",
    "print('------------')\n",
    "print(f\"Num. of dimensions: {len(train_events):,d}\")\n",
    "print(f\"    Num. of events: {sum(map(len, train_events)):,d}\")\n",
    "print(f\"Observation window: [{min(map(min, train_events)):.2f}, {max(map(max, train_events)):.2f}]\")\n",
    "print(f\"               %NZ: {100 * train_graph.number_of_edges() / (train_graph.number_of_nodes() ** 2):.2f}%\")\n",
    "print(\"Stats. of num. of events per dim:\")\n",
    "num_jumps_per_dim = np.array(list(map(len, train_events)))\n",
    "print(pd.Series(num_jumps_per_dim).describe())\n",
    "\n",
    "print()\n",
    "print('Test set')\n",
    "print('--------')\n",
    "print(f\"Num. of dimensions: {len(test_events):,d}\")\n",
    "print(f\"    Num. of events: {sum(map(len, test_events)):,d}\")\n",
    "print(f\"Observation window: [{min(map(min, test_events)):.2f}, {max(map(max, test_events)):.2f}]\")\n",
    "print(\"Stats. of num. of events per dim:\")\n",
    "num_jumps_per_dim = np.array(list(map(len, test_events)))\n",
    "print(pd.Series(num_jumps_per_dim).describe())\n",
    "\n",
    "\n",
    "test_model = tsvar.models.WoldModelOther()\n",
    "test_model.observe(test_events)"
   ]
  },
  {
   "cell_type": "markdown",
   "metadata": {},
   "source": [
    "## Run inference"
   ]
  },
  {
   "cell_type": "markdown",
   "metadata": {},
   "source": [
    "### Run VI"
   ]
  },
  {
   "cell_type": "code",
   "execution_count": 63,
   "metadata": {
    "scrolled": true
   },
   "outputs": [
    {
     "name": "stdout",
     "output_type": "stream",
     "text": [
      "ALPHA:\n",
      "------\n",
      "    mean: 0.1\n",
      "variance: 0.01\n",
      "BETA:\n",
      "-----\n",
      "    mean: 1.0\n",
      "variance: 0.1111111111111111\n"
     ]
    }
   ],
   "source": [
    "dim = len(train_events)\n",
    "\n",
    "# Set priors\n",
    "# prior: Alpha\n",
    "as_pr = 1.0 * np.ones((dim + 1, dim))\n",
    "ar_pr = 10.0 * np.ones((dim + 1, dim))\n",
    "\n",
    "# prior: Beta\n",
    "bs_pr = 11.0 * np.ones((dim, dim))\n",
    "br_pr = 10.0 * np.ones((dim, dim))\n",
    "\n",
    "# prior: Z\n",
    "zc_pr = [1.0 * np.ones((len(train_events[i]), dim+1)) for i in range(dim)]\n",
    "\n",
    "print('ALPHA:')\n",
    "print('------')\n",
    "print('    mean:', as_pr[0,0] / ar_pr[0,0])\n",
    "print('variance:', as_pr[0,0] / ar_pr[0,0] ** 2)\n",
    "\n",
    "print('BETA:')\n",
    "print('-----')\n",
    "print('    mean:', br_pr[0,0] / (bs_pr[0,0] - 1))\n",
    "print('variance:', br_pr[0,0]**2 / ((bs_pr[0,0] - 1)**2 * (bs_pr[0,0] - 2)))"
   ]
  },
  {
   "cell_type": "code",
   "execution_count": 64,
   "metadata": {},
   "outputs": [],
   "source": [
    "# Set model & observations\n",
    "vi_model = tsvar.models.WoldModelVariationalOther(verbose=True)\n",
    "vi_model.observe(train_events)"
   ]
  },
  {
   "cell_type": "code",
   "execution_count": 65,
   "metadata": {
    "scrolled": false
   },
   "outputs": [
    {
     "name": "stdout",
     "output_type": "stream",
     "text": [
      "a_mean: min:+4.47e-04, max:+2.14e+00\n",
      "b_mean: min:+7.96e-01, max:+1.62e+01\n",
      "iter:     1 | dx: +2.0436e+00 | f1-score: 0.06 | relerr: 1.05e-01 | p@5: 0.00 | p@10: 0.00 | p@20: 0.00 | time/it: 3.77e+01     \n",
      "vi_ll: 0.15\n",
      "a_mean: min:+5.06e-04, max:+3.41e+00\n",
      "b_mean: min:+5.52e-01, max:+5.46e+00\n",
      "iter:     2 | dx: +1.2630e+00 | f1-score: 0.06 | relerr: 1.15e-01 | p@5: 0.00 | p@10: 0.00 | p@20: 0.00 | time/it: 8.05e+00     \n",
      "vi_ll: 0.26\n",
      "a_mean: min:+5.18e-04, max:+4.03e+00\n",
      "b_mean: min:+2.97e-01, max:+5.00e+00\n",
      "iter:     3 | dx: +6.1942e-01 | f1-score: 0.07 | relerr: 1.10e-01 | p@5: 0.00 | p@10: 0.00 | p@20: 0.00 | time/it: 8.80e+00     \n",
      "vi_ll: 0.22\n",
      "a_mean: min:+5.22e-04, max:+4.48e+00\n",
      "b_mean: min:+1.39e-01, max:+5.05e+00\n",
      "iter:     4 | dx: +4.5671e-01 | f1-score: 0.07 | relerr: 1.07e-01 | p@5: 0.00 | p@10: 0.00 | p@20: 0.05 | time/it: 8.42e+00     \n",
      "vi_ll: 0.18\n",
      "a_mean: min:+5.24e-04, max:+4.78e+00\n",
      "b_mean: min:+7.00e-02, max:+5.04e+00\n",
      "iter:     5 | dx: +4.3068e-01 | f1-score: 0.07 | relerr: 1.05e-01 | p@5: 0.00 | p@10: 0.00 | p@20: 0.05 | time/it: 8.61e+00     \n",
      "vi_ll: 0.15\n",
      "a_mean: min:+5.24e-04, max:+4.94e+00\n",
      "Beta optim failed for xn, switch to bin search\n",
      "b_mean: min:+0.00e+00, max:+4.99e+00\n"
     ]
    },
    {
     "ename": "RuntimeError",
     "evalue": "Negative Beta parameter!",
     "output_type": "error",
     "traceback": [
      "\u001b[0;31m---------------------------------------------------------------------------\u001b[0m",
      "\u001b[0;31mRuntimeError\u001b[0m                              Traceback (most recent call last)",
      "\u001b[0;32m<ipython-input-65-f91b2b43ef5b>\u001b[0m in \u001b[0;36m<module>\u001b[0;34m\u001b[0m\n\u001b[1;32m     28\u001b[0m \u001b[0;31m# Fit model\u001b[0m\u001b[0;34m\u001b[0m\u001b[0;34m\u001b[0m\u001b[0;34m\u001b[0m\u001b[0m\n\u001b[1;32m     29\u001b[0m vi_model.fit(as_pr=as_pr, ar_pr=ar_pr, bs_pr=bs_pr, br_pr=br_pr, zc_pr=zc_pr, \n\u001b[0;32m---> 30\u001b[0;31m              max_iter=10, tol=1e-5, callback=callback)\n\u001b[0m",
      "\u001b[0;32m~/workspace/var-wold/tsvar/utils/decorators.py\u001b[0m in \u001b[0;36mwrapped\u001b[0;34m(self, *args, **kwargs)\u001b[0m\n\u001b[1;32m      6\u001b[0m     \u001b[0;32mdef\u001b[0m \u001b[0mwrapped\u001b[0m\u001b[0;34m(\u001b[0m\u001b[0mself\u001b[0m\u001b[0;34m,\u001b[0m \u001b[0;34m*\u001b[0m\u001b[0margs\u001b[0m\u001b[0;34m,\u001b[0m \u001b[0;34m**\u001b[0m\u001b[0mkwargs\u001b[0m\u001b[0;34m)\u001b[0m\u001b[0;34m:\u001b[0m\u001b[0;34m\u001b[0m\u001b[0;34m\u001b[0m\u001b[0m\n\u001b[1;32m      7\u001b[0m         \u001b[0;32mif\u001b[0m \u001b[0mself\u001b[0m\u001b[0;34m.\u001b[0m\u001b[0m_observed\u001b[0m\u001b[0;34m:\u001b[0m\u001b[0;34m\u001b[0m\u001b[0;34m\u001b[0m\u001b[0m\n\u001b[0;32m----> 8\u001b[0;31m             \u001b[0;32mreturn\u001b[0m \u001b[0mfn\u001b[0m\u001b[0;34m(\u001b[0m\u001b[0mself\u001b[0m\u001b[0;34m,\u001b[0m \u001b[0;34m*\u001b[0m\u001b[0margs\u001b[0m\u001b[0;34m,\u001b[0m \u001b[0;34m**\u001b[0m\u001b[0mkwargs\u001b[0m\u001b[0;34m)\u001b[0m\u001b[0;34m\u001b[0m\u001b[0;34m\u001b[0m\u001b[0m\n\u001b[0m\u001b[1;32m      9\u001b[0m         \u001b[0;32melse\u001b[0m\u001b[0;34m:\u001b[0m\u001b[0;34m\u001b[0m\u001b[0;34m\u001b[0m\u001b[0m\n\u001b[1;32m     10\u001b[0m             raise Exception(('Model is not properly set. '\n",
      "\u001b[0;32m~/workspace/var-wold/tsvar/models/_wold_var_AltDeltaInit.py\u001b[0m in \u001b[0;36mfit\u001b[0;34m(self, as_pr, ar_pr, bs_pr, br_pr, zc_pr, *args, **kwargs)\u001b[0m\n\u001b[1;32m    386\u001b[0m     \u001b[0;32mdef\u001b[0m \u001b[0mfit\u001b[0m\u001b[0;34m(\u001b[0m\u001b[0mself\u001b[0m\u001b[0;34m,\u001b[0m \u001b[0mas_pr\u001b[0m\u001b[0;34m,\u001b[0m \u001b[0mar_pr\u001b[0m\u001b[0;34m,\u001b[0m \u001b[0mbs_pr\u001b[0m\u001b[0;34m,\u001b[0m \u001b[0mbr_pr\u001b[0m\u001b[0;34m,\u001b[0m \u001b[0mzc_pr\u001b[0m\u001b[0;34m,\u001b[0m \u001b[0;34m*\u001b[0m\u001b[0margs\u001b[0m\u001b[0;34m,\u001b[0m \u001b[0;34m**\u001b[0m\u001b[0mkwargs\u001b[0m\u001b[0;34m)\u001b[0m\u001b[0;34m:\u001b[0m\u001b[0;34m\u001b[0m\u001b[0;34m\u001b[0m\u001b[0m\n\u001b[1;32m    387\u001b[0m         \u001b[0mself\u001b[0m\u001b[0;34m.\u001b[0m\u001b[0m_init_fit\u001b[0m\u001b[0;34m(\u001b[0m\u001b[0mas_pr\u001b[0m\u001b[0;34m,\u001b[0m \u001b[0mar_pr\u001b[0m\u001b[0;34m,\u001b[0m \u001b[0mbs_pr\u001b[0m\u001b[0;34m,\u001b[0m \u001b[0mbr_pr\u001b[0m\u001b[0;34m,\u001b[0m \u001b[0mzc_pr\u001b[0m\u001b[0;34m)\u001b[0m\u001b[0;34m\u001b[0m\u001b[0;34m\u001b[0m\u001b[0m\n\u001b[0;32m--> 388\u001b[0;31m         \u001b[0;32mreturn\u001b[0m \u001b[0msuper\u001b[0m\u001b[0;34m(\u001b[0m\u001b[0;34m)\u001b[0m\u001b[0;34m.\u001b[0m\u001b[0mfit\u001b[0m\u001b[0;34m(\u001b[0m\u001b[0mstep_function\u001b[0m\u001b[0;34m=\u001b[0m\u001b[0mself\u001b[0m\u001b[0;34m.\u001b[0m\u001b[0m_iteration\u001b[0m\u001b[0;34m,\u001b[0m \u001b[0;34m*\u001b[0m\u001b[0margs\u001b[0m\u001b[0;34m,\u001b[0m \u001b[0;34m**\u001b[0m\u001b[0mkwargs\u001b[0m\u001b[0;34m)\u001b[0m\u001b[0;34m\u001b[0m\u001b[0;34m\u001b[0m\u001b[0m\n\u001b[0m\u001b[1;32m    389\u001b[0m \u001b[0;34m\u001b[0m\u001b[0m\n\u001b[1;32m    390\u001b[0m     \u001b[0;32mdef\u001b[0m \u001b[0malpha_posterior_mean\u001b[0m\u001b[0;34m(\u001b[0m\u001b[0mself\u001b[0m\u001b[0;34m,\u001b[0m \u001b[0mas_po\u001b[0m\u001b[0;34m=\u001b[0m\u001b[0;32mNone\u001b[0m\u001b[0;34m,\u001b[0m \u001b[0mar_po\u001b[0m\u001b[0;34m=\u001b[0m\u001b[0;32mNone\u001b[0m\u001b[0;34m)\u001b[0m\u001b[0;34m:\u001b[0m\u001b[0;34m\u001b[0m\u001b[0;34m\u001b[0m\u001b[0m\n",
      "\u001b[0;32m~/workspace/var-wold/tsvar/utils/decorators.py\u001b[0m in \u001b[0;36mwrapped\u001b[0;34m(self, *args, **kwargs)\u001b[0m\n\u001b[1;32m      6\u001b[0m     \u001b[0;32mdef\u001b[0m \u001b[0mwrapped\u001b[0m\u001b[0;34m(\u001b[0m\u001b[0mself\u001b[0m\u001b[0;34m,\u001b[0m \u001b[0;34m*\u001b[0m\u001b[0margs\u001b[0m\u001b[0;34m,\u001b[0m \u001b[0;34m**\u001b[0m\u001b[0mkwargs\u001b[0m\u001b[0;34m)\u001b[0m\u001b[0;34m:\u001b[0m\u001b[0;34m\u001b[0m\u001b[0;34m\u001b[0m\u001b[0m\n\u001b[1;32m      7\u001b[0m         \u001b[0;32mif\u001b[0m \u001b[0mself\u001b[0m\u001b[0;34m.\u001b[0m\u001b[0m_observed\u001b[0m\u001b[0;34m:\u001b[0m\u001b[0;34m\u001b[0m\u001b[0;34m\u001b[0m\u001b[0m\n\u001b[0;32m----> 8\u001b[0;31m             \u001b[0;32mreturn\u001b[0m \u001b[0mfn\u001b[0m\u001b[0;34m(\u001b[0m\u001b[0mself\u001b[0m\u001b[0;34m,\u001b[0m \u001b[0;34m*\u001b[0m\u001b[0margs\u001b[0m\u001b[0;34m,\u001b[0m \u001b[0;34m**\u001b[0m\u001b[0mkwargs\u001b[0m\u001b[0;34m)\u001b[0m\u001b[0;34m\u001b[0m\u001b[0;34m\u001b[0m\u001b[0m\n\u001b[0m\u001b[1;32m      9\u001b[0m         \u001b[0;32melse\u001b[0m\u001b[0;34m:\u001b[0m\u001b[0;34m\u001b[0m\u001b[0;34m\u001b[0m\u001b[0m\n\u001b[1;32m     10\u001b[0m             raise Exception(('Model is not properly set. '\n",
      "\u001b[0;32m~/workspace/var-wold/tsvar/fitter.py\u001b[0m in \u001b[0;36mfit\u001b[0;34m(self, step_function, tol, max_iter, seed, callback)\u001b[0m\n\u001b[1;32m     55\u001b[0m             \u001b[0mself\u001b[0m\u001b[0;34m.\u001b[0m\u001b[0m_n_iter_done\u001b[0m \u001b[0;34m=\u001b[0m \u001b[0mt\u001b[0m\u001b[0;34m\u001b[0m\u001b[0;34m\u001b[0m\u001b[0m\n\u001b[1;32m     56\u001b[0m             \u001b[0;31m# Run iteration\u001b[0m\u001b[0;34m\u001b[0m\u001b[0;34m\u001b[0m\u001b[0;34m\u001b[0m\u001b[0m\n\u001b[0;32m---> 57\u001b[0;31m             \u001b[0mstep_function\u001b[0m\u001b[0;34m(\u001b[0m\u001b[0;34m)\u001b[0m\u001b[0;34m\u001b[0m\u001b[0;34m\u001b[0m\u001b[0m\n\u001b[0m\u001b[1;32m     58\u001b[0m \u001b[0;34m\u001b[0m\u001b[0m\n\u001b[1;32m     59\u001b[0m             \u001b[0;31m# Sanity check that the optimization did not fail\u001b[0m\u001b[0;34m\u001b[0m\u001b[0;34m\u001b[0m\u001b[0;34m\u001b[0m\u001b[0m\n",
      "\u001b[0;32m~/workspace/var-wold/tsvar/models/_wold_var_AltDeltaInit.py\u001b[0m in \u001b[0;36m_iteration\u001b[0;34m(self)\u001b[0m\n\u001b[1;32m    364\u001b[0m             \u001b[0;32mraise\u001b[0m \u001b[0mRuntimeError\u001b[0m\u001b[0;34m(\u001b[0m\u001b[0;34m\"NaNs in Beta parameters\"\u001b[0m\u001b[0;34m)\u001b[0m\u001b[0;34m\u001b[0m\u001b[0;34m\u001b[0m\u001b[0m\n\u001b[1;32m    365\u001b[0m         \u001b[0;32mif\u001b[0m \u001b[0;34m(\u001b[0m\u001b[0mself\u001b[0m\u001b[0;34m.\u001b[0m\u001b[0m_bs_po\u001b[0m\u001b[0;34m.\u001b[0m\u001b[0mmin\u001b[0m\u001b[0;34m(\u001b[0m\u001b[0;34m)\u001b[0m \u001b[0;34m<=\u001b[0m \u001b[0;36m0\u001b[0m\u001b[0;34m)\u001b[0m \u001b[0;32mor\u001b[0m \u001b[0;34m(\u001b[0m\u001b[0mself\u001b[0m\u001b[0;34m.\u001b[0m\u001b[0m_bs_po\u001b[0m\u001b[0;34m.\u001b[0m\u001b[0mmin\u001b[0m\u001b[0;34m(\u001b[0m\u001b[0;34m)\u001b[0m \u001b[0;34m<=\u001b[0m \u001b[0;36m0\u001b[0m\u001b[0;34m)\u001b[0m\u001b[0;34m:\u001b[0m\u001b[0;34m\u001b[0m\u001b[0;34m\u001b[0m\u001b[0m\n\u001b[0;32m--> 366\u001b[0;31m             \u001b[0;32mraise\u001b[0m \u001b[0mRuntimeError\u001b[0m\u001b[0;34m(\u001b[0m\u001b[0;34m\"Negative Beta parameter!\"\u001b[0m\u001b[0;34m)\u001b[0m\u001b[0;34m\u001b[0m\u001b[0;34m\u001b[0m\u001b[0m\n\u001b[0m\u001b[1;32m    367\u001b[0m         \u001b[0;32mif\u001b[0m \u001b[0mnp\u001b[0m\u001b[0;34m.\u001b[0m\u001b[0many\u001b[0m\u001b[0;34m(\u001b[0m\u001b[0mnp\u001b[0m\u001b[0;34m.\u001b[0m\u001b[0misnan\u001b[0m\u001b[0;34m(\u001b[0m\u001b[0mself\u001b[0m\u001b[0;34m.\u001b[0m\u001b[0m_b_x0\u001b[0m\u001b[0;34m)\u001b[0m\u001b[0;34m)\u001b[0m \u001b[0;32mor\u001b[0m \u001b[0mnp\u001b[0m\u001b[0;34m.\u001b[0m\u001b[0many\u001b[0m\u001b[0;34m(\u001b[0m\u001b[0mnp\u001b[0m\u001b[0;34m.\u001b[0m\u001b[0misnan\u001b[0m\u001b[0;34m(\u001b[0m\u001b[0mself\u001b[0m\u001b[0;34m.\u001b[0m\u001b[0m_b_xn\u001b[0m\u001b[0;34m)\u001b[0m\u001b[0;34m)\u001b[0m\u001b[0;34m:\u001b[0m\u001b[0;34m\u001b[0m\u001b[0;34m\u001b[0m\u001b[0m\n\u001b[1;32m    368\u001b[0m             \u001b[0;32mraise\u001b[0m \u001b[0mRuntimeError\u001b[0m\u001b[0;34m(\u001b[0m\u001b[0;34m'NaNs in optimization results of beta update!'\u001b[0m\u001b[0;34m)\u001b[0m\u001b[0;34m\u001b[0m\u001b[0;34m\u001b[0m\u001b[0m\n",
      "\u001b[0;31mRuntimeError\u001b[0m: Negative Beta parameter!"
     ]
    }
   ],
   "source": [
    "class MyCallback(tsvar.utils.callbacks.LearnerCallbackMLE):\n",
    "    \n",
    "    def __init__(self, *args, **kwargs):\n",
    "        super().__init__(*args, **kwargs)\n",
    "        \n",
    "    def __call__(self, learner_obj, end=None, force=False):\n",
    "        super().__call__(learner_obj, end, force)\n",
    "        t = learner_obj._n_iter_done + 1\n",
    "        if (t % self.print_every == 0) or force:\n",
    "            # Extract mean of posteriors\n",
    "            mu_hat = learner_obj._as_po[0, :] / learner_obj._ar_po[0, :]\n",
    "            adj_hat = learner_obj._as_po[1:, :] / learner_obj._ar_po[1:, :]\n",
    "            beta_hat = learner_obj._br_po[:, :] / (learner_obj._bs_po[:, :] + 1) + 1\n",
    "            coeffs_hat = torch.tensor(np.hstack((\n",
    "                mu_hat, beta_hat.flatten(), adj_hat.flatten()\n",
    "            )))\n",
    "            \n",
    "            loglik = float(test_model.log_likelihood(coeffs_hat)) / sum(map(len, test_events))\n",
    "            print(f'vi_ll: {loglik:.2f}')\n",
    "            \n",
    "\n",
    "callback = MyCallback(\n",
    "    x0=(as_pr[1:,:] / ar_pr[1:,:]).flatten(), print_every=1,\n",
    "    coeffs_true=adjacency_true, acc_thresh=0.05, dim=dim, \n",
    "    widgets={'f1score', 'relerr', 'prec@5', 'prec@10', 'prec@20'},\n",
    "    default_end='\\n')\n",
    "\n",
    "# Fit model\n",
    "vi_model.fit(as_pr=as_pr, ar_pr=ar_pr, bs_pr=bs_pr, br_pr=br_pr, zc_pr=zc_pr, \n",
    "             max_iter=10, tol=1e-5, callback=callback)"
   ]
  },
  {
   "cell_type": "code",
   "execution_count": 62,
   "metadata": {},
   "outputs": [
    {
     "data": {
      "text/plain": [
       "(1.0386935779275797e-10, 4.1041741305588124e-08)"
      ]
     },
     "execution_count": 62,
     "metadata": {},
     "output_type": "execute_result"
    }
   ],
   "source": [
    "vi_model._br_po.min(), vi_model._br_po.max()"
   ]
  },
  {
   "cell_type": "code",
   "execution_count": null,
   "metadata": {},
   "outputs": [],
   "source": []
  },
  {
   "cell_type": "code",
   "execution_count": 30,
   "metadata": {},
   "outputs": [
    {
     "name": "stdout",
     "output_type": "stream",
     "text": [
      "Beta optim failed for x0, swtich to bin search\n",
      "Beta optim failed for xn, switch to bin search\n"
     ]
    }
   ],
   "source": [
    "vi_model._bs_po, vi_model._br_po, vi_model._b_x0, vi_model._b_xn = tsvar.models._wold_var_AltDeltaInit._update_beta(\n",
    "    as_po=vi_model._as_po,\n",
    "    ar_po=vi_model._ar_po,\n",
    "    zp_po=vi_model._zp_po,\n",
    "    bs_pr=vi_model._bs_pr,\n",
    "    br_pr=vi_model._br_pr,\n",
    "    dt_ik=vi_model.dt_ik,\n",
    "    delta_ikj=vi_model.delta_ikj,\n",
    ")"
   ]
  },
  {
   "cell_type": "code",
   "execution_count": 27,
   "metadata": {},
   "outputs": [],
   "source": [
    "zp_po = tsvar.models._wold_var_AltDeltaInit._update_z(\n",
    "    as_po=vi_model._as_po,\n",
    "    ar_po=vi_model._ar_po,\n",
    "    bs_po=vi_model._bs_po,\n",
    "    br_po=vi_model._br_po,\n",
    "    dt_ik=vi_model.dt_ik,\n",
    "    delta_ikj=vi_model.delta_ikj,\n",
    ")"
   ]
  },
  {
   "cell_type": "code",
   "execution_count": null,
   "metadata": {},
   "outputs": [],
   "source": []
  },
  {
   "cell_type": "code",
   "execution_count": 14,
   "metadata": {},
   "outputs": [
    {
     "data": {
      "text/plain": [
       "-0.0963845525536336"
      ]
     },
     "execution_count": 14,
     "metadata": {},
     "output_type": "execute_result"
    }
   ],
   "source": [
    "mu_hat = vi_model._as_po[0, :] / vi_model._ar_po[0, :]\n",
    "adj_hat = vi_model._as_po[1:, :] / vi_model._ar_po[1:, :]\n",
    "beta_hat = vi_model._br_po[:, :] / (vi_model._bs_po[:, :] + 1) + 1\n",
    "\n",
    "coeffs_hat = torch.tensor(np.hstack((\n",
    "    mu_hat, beta_hat.flatten(), adj_hat.flatten()\n",
    ")))\n",
    "\n",
    "\n",
    "vi_ll = float(test_model.log_likelihood(coeffs_hat)) / sum(map(len, test_events))\n",
    "vi_ll "
   ]
  },
  {
   "cell_type": "code",
   "execution_count": 34,
   "metadata": {},
   "outputs": [
    {
     "name": "stdout",
     "output_type": "stream",
     "text": [
      "\n",
      "==================================================\n",
      "========== Method: WoldModelVariationalOther\n",
      "\n",
      "Accuracy: 0.96\n",
      "\n",
      "Edge counts\n",
      "------------\n",
      "Pred: 147.00\n",
      "True: 161.00\n",
      "\n",
      "Error counts\n",
      "------------\n",
      " True Positive: 8.00\n",
      "False Positive: 139.00\n",
      " True Negative: 7800.00\n",
      "False Negative: 153.00\n",
      "\n",
      "Error rates\n",
      "-----------\n",
      " True Positive Rate: 0.05\n",
      "False Positive Rate: 0.02\n",
      " True Negative Rate: 0.98\n",
      "False Negative Rate: 0.95\n",
      "\n",
      "F-Score\n",
      "-------\n",
      " F1-Score: 0.05\n",
      "Precision: 0.05\n",
      "   Recall: 0.05\n",
      "\n",
      "Precision@k\n",
      "-----------\n",
      " Prec@5: 0.20\n",
      "Prec@10: 0.30\n",
      "Prec@20: 0.25\n",
      "\n",
      "Average Precision@k per node\n",
      "----------------------------\n",
      "AvgPrec@k per node:\n",
      "5 0.03870967741935484\n",
      "10 0.020967741935483872\n",
      "20 0.012903225806451613\n",
      "\n"
     ]
    }
   ],
   "source": [
    "mu_hat = vi_model._as_po[0, :] / vi_model._ar_po[0, :]\n",
    "adj_hat = vi_model._as_po[1:, :] / vi_model._ar_po[1:, :]\n",
    "beta_hat = vi_model._br_po[:, :] / (vi_model._bs_po[:, :] + 1) + 1\n",
    "model_name = type(vi_model).__name__\n",
    "\n",
    "adj_hat = adj_hat\n",
    "#adj_hat = adj_hat / beta_hat\n",
    "\n",
    "#diag_mask = np.eye(adj_hat.shape[0]).astype(bool)\n",
    "#adjacency_true_zero_diag = adjacency_true.copy()\n",
    "#adjacency_true_zero_diag[diag_mask] = 0\n",
    "#adj_hat[diag_mask] = 0\n",
    "\n",
    "experiments_utils.print_report(name=model_name, adj_hat=adj_hat, adj_true=adjacency_true, thresh=0.3)"
   ]
  },
  {
   "cell_type": "code",
   "execution_count": 15,
   "metadata": {},
   "outputs": [
    {
     "data": {
      "image/png": "[encoded data removed]",
      "text/plain": [
       "<Figure size 432x288 with 1 Axes>"
      ]
     },
     "metadata": {
      "needs_background": "light"
     },
     "output_type": "display_data"
    }
   ],
   "source": [
    "diag_mask = np.eye(dim).astype(bool)\n",
    "plt.boxplot([mu_hat, adj_hat[diag_mask].flatten(), adj_hat[~diag_mask].flatten(), beta_hat.flatten()],\n",
    "            labels=['Mu', 'Adj (diag)', 'Adj (cross)', 'Beta']);"
   ]
  },
  {
   "cell_type": "markdown",
   "metadata": {},
   "source": [
    "---\n",
    "\n",
    "### Run GB"
   ]
  },
  {
   "cell_type": "code",
   "execution_count": 25,
   "metadata": {},
   "outputs": [],
   "source": [
    "import gb\n",
    "import time\n",
    "\n",
    "dim = len(train_events)\n",
    "\n",
    "# Define model\n",
    "granger_model = gb.GrangerBusca(\n",
    "    alpha_prior=1.0 / len(train_events),\n",
    "    num_iter=10000,\n",
    "    metropolis=True,\n",
    "    beta_strategy='busca',\n",
    "    num_jobs=48,\n",
    ")\n",
    "granger_model.fit(train_events)"
   ]
  },
  {
   "cell_type": "code",
   "execution_count": 26,
   "metadata": {},
   "outputs": [
    {
     "data": {
      "text/plain": [
       "-0.35313515841735715"
      ]
     },
     "execution_count": 26,
     "metadata": {},
     "output_type": "execute_result"
    }
   ],
   "source": [
    "mu_hat = granger_model.mu_\n",
    "adj_hat = granger_model.Alpha_.toarray()\n",
    "adj_hat = adj_hat / adj_hat.sum(axis=1)[:, None]\n",
    "beta_hat = np.ones((dim, dim)) * granger_model.beta_\n",
    "coeffs_hat = torch.tensor(np.hstack((\n",
    "    granger_model.mu_, beta_hat.flatten(), adj_hat.flatten()\n",
    ")))\n",
    "\n",
    "gb_ll = float(test_model.log_likelihood(coeffs_hat)) / sum(map(len, test_events))\n",
    "gb_ll "
   ]
  },
  {
   "cell_type": "code",
   "execution_count": 27,
   "metadata": {},
   "outputs": [
    {
     "name": "stdout",
     "output_type": "stream",
     "text": [
      "\n",
      "==================================================\n",
      "========== Method: GrangerBusca\n",
      "\n",
      "Accuracy: 0.97\n",
      "\n",
      "Edge counts\n",
      "------------\n",
      "Pred: 185.00\n",
      "True: 161.00\n",
      "\n",
      "Error counts\n",
      "------------\n",
      " True Positive: 49.00\n",
      "False Positive: 136.00\n",
      " True Negative: 7803.00\n",
      "False Negative: 112.00\n",
      "\n",
      "Error rates\n",
      "-----------\n",
      " True Positive Rate: 0.30\n",
      "False Positive Rate: 0.02\n",
      " True Negative Rate: 0.98\n",
      "False Negative Rate: 0.70\n",
      "\n",
      "F-Score\n",
      "-------\n",
      " F1-Score: 0.28\n",
      "Precision: 0.26\n",
      "   Recall: 0.30\n",
      "\n",
      "Precision@k\n",
      "-----------\n",
      " Prec@5: 0.20\n",
      "Prec@10: 0.40\n",
      "Prec@20: 0.50\n",
      "\n",
      "Average Precision@k per node\n",
      "----------------------------\n",
      "AvgPrec@k per node:\n",
      "5 0.3096774193548385\n",
      "10 0.17903225806451603\n",
      "20 0.08951612903225802\n",
      "\n"
     ]
    }
   ],
   "source": [
    "mu_hat = granger_model.mu_\n",
    "adj_hat = granger_model.Alpha_.toarray()\n",
    "adj_hat = adj_hat / adj_hat.sum(axis=1)[:, None]\n",
    "beta_hat = np.ones((dim, dim)) * granger_model.beta_\n",
    "model_name = type(granger_model).__name__\n",
    "\n",
    "adj_hat = adj_hat\n",
    "#adj_hat = adj_hat / beta_hat\n",
    "\n",
    "#diag_mask = np.eye(adj_hat.shape[0]).astype(bool)\n",
    "#adjacency_true_zero_diag = adjacency_true.copy()\n",
    "#adjacency_true_zero_diag[diag_mask] = 0\n",
    "#adj_hat[diag_mask] = 0\n",
    "\n",
    "experiments_utils.print_report(name=model_name, adj_hat=adj_hat, adj_true=adjacency_true, thresh=0.01)"
   ]
  },
  {
   "cell_type": "markdown",
   "metadata": {},
   "source": [
    "---"
   ]
  },
  {
   "cell_type": "code",
   "execution_count": 42,
   "metadata": {
    "scrolled": true
   },
   "outputs": [
    {
     "ename": "NameError",
     "evalue": "name 'vi_ll' is not defined",
     "output_type": "error",
     "traceback": [
      "\u001b[0;31m---------------------------------------------------------------------------\u001b[0m",
      "\u001b[0;31mNameError\u001b[0m                                 Traceback (most recent call last)",
      "\u001b[0;32m<ipython-input-42-7fe9d1fdcae1>\u001b[0m in \u001b[0;36m<module>\u001b[0;34m\u001b[0m\n\u001b[0;32m----> 1\u001b[0;31m \u001b[0mprint\u001b[0m\u001b[0;34m(\u001b[0m\u001b[0mvi_ll\u001b[0m\u001b[0;34m)\u001b[0m\u001b[0;34m\u001b[0m\u001b[0;34m\u001b[0m\u001b[0m\n\u001b[0m\u001b[1;32m      2\u001b[0m \u001b[0mprint\u001b[0m\u001b[0;34m(\u001b[0m\u001b[0mgb_ll\u001b[0m\u001b[0;34m)\u001b[0m\u001b[0;34m\u001b[0m\u001b[0;34m\u001b[0m\u001b[0m\n",
      "\u001b[0;31mNameError\u001b[0m: name 'vi_ll' is not defined"
     ]
    }
   ],
   "source": [
    "print(vi_ll)\n",
    "print(gb_ll)"
   ]
  },
  {
   "cell_type": "code",
   "execution_count": null,
   "metadata": {},
   "outputs": [],
   "source": []
  }
 ],
 "metadata": {
  "kernelspec": {
   "display_name": "Python 3",
   "language": "python",
   "name": "python3"
  },
  "language_info": {
   "codemirror_mode": {
    "name": "ipython",
    "version": 3
   },
   "file_extension": ".py",
   "mimetype": "text/x-python",
   "name": "python",
   "nbconvert_exporter": "python",
   "pygments_lexer": "ipython3",
   "version": "3.7.7"
  }
 },
 "nbformat": 4,
 "nbformat_minor": 4
}

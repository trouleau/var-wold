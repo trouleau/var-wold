{
 "cells": [
  {
   "cell_type": "markdown",
   "metadata": {},
   "source": [
    "# CollegeForum Dataset\n",
    "\n",
    "Similar to the [CollegeMsg](http://snap.stanford.edu/data/CollegeMsg.html) dataset, this dataset contains the messages between students on forums (vs direct messages in CollegeMsg) on a social network of a University California Irvine.\n",
    "\n",
    "This dataset downloaded from: https://toreopsahl.com/datasets/#online_social_network\n",
    "\n",
    "---"
   ]
  },
  {
   "cell_type": "markdown",
   "metadata": {},
   "source": [
    "Import libs"
   ]
  },
  {
   "cell_type": "code",
   "execution_count": 4,
   "metadata": {},
   "outputs": [
    {
     "name": "stdout",
     "output_type": "stream",
     "text": [
      "The autoreload extension is already loaded. To reload it, use:\n",
      "  %reload_ext autoreload\n"
     ]
    }
   ],
   "source": [
    "%load_ext autoreload\n",
    "%autoreload 2"
   ]
  },
  {
   "cell_type": "code",
   "execution_count": 5,
   "metadata": {},
   "outputs": [],
   "source": [
    "from matplotlib import pyplot as plt\n",
    "%matplotlib inline\n",
    "\n",
    "import os\n",
    "\n",
    "import pandas as pd"
   ]
  },
  {
   "cell_type": "markdown",
   "metadata": {},
   "source": [
    "---"
   ]
  },
  {
   "cell_type": "markdown",
   "metadata": {},
   "source": [
    "Set dataset input path"
   ]
  },
  {
   "cell_type": "code",
   "execution_count": 6,
   "metadata": {},
   "outputs": [],
   "source": [
    "INPUT_DIR = '../../../data/CollegeForum/'\n",
    "INPUT_PATH = '../../../data/CollegeForum/OF_longitudinal_weightedchar.txt'"
   ]
  },
  {
   "cell_type": "markdown",
   "metadata": {},
   "source": [
    "Parse the dataset"
   ]
  },
  {
   "cell_type": "code",
   "execution_count": 7,
   "metadata": {},
   "outputs": [
    {
     "data": {
      "text/html": [
       "<div>\n",
       "<style scoped>\n",
       "    .dataframe tbody tr th:only-of-type {\n",
       "        vertical-align: middle;\n",
       "    }\n",
       "\n",
       "    .dataframe tbody tr th {\n",
       "        vertical-align: top;\n",
       "    }\n",
       "\n",
       "    .dataframe thead th {\n",
       "        text-align: right;\n",
       "    }\n",
       "</style>\n",
       "<table border=\"1\" class=\"dataframe\">\n",
       "  <thead>\n",
       "    <tr style=\"text-align: right;\">\n",
       "      <th></th>\n",
       "      <th>src</th>\n",
       "      <th>dst</th>\n",
       "      <th>weightedchar</th>\n",
       "      <th>date</th>\n",
       "      <th>time</th>\n",
       "    </tr>\n",
       "  </thead>\n",
       "  <tbody>\n",
       "    <tr>\n",
       "      <th>0</th>\n",
       "      <td>201</td>\n",
       "      <td>3</td>\n",
       "      <td>23</td>\n",
       "      <td>2004-05-14 20:53:16</td>\n",
       "      <td>1084567996</td>\n",
       "    </tr>\n",
       "    <tr>\n",
       "      <th>1</th>\n",
       "      <td>187</td>\n",
       "      <td>3</td>\n",
       "      <td>63</td>\n",
       "      <td>2004-05-14 20:54:08</td>\n",
       "      <td>1084568048</td>\n",
       "    </tr>\n",
       "    <tr>\n",
       "      <th>2</th>\n",
       "      <td>138</td>\n",
       "      <td>2</td>\n",
       "      <td>6</td>\n",
       "      <td>2004-05-14 20:55:40</td>\n",
       "      <td>1084568140</td>\n",
       "    </tr>\n",
       "    <tr>\n",
       "      <th>3</th>\n",
       "      <td>345</td>\n",
       "      <td>3</td>\n",
       "      <td>38</td>\n",
       "      <td>2004-05-14 21:00:04</td>\n",
       "      <td>1084568404</td>\n",
       "    </tr>\n",
       "    <tr>\n",
       "      <th>4</th>\n",
       "      <td>233</td>\n",
       "      <td>3</td>\n",
       "      <td>60</td>\n",
       "      <td>2004-05-14 21:02:17</td>\n",
       "      <td>1084568537</td>\n",
       "    </tr>\n",
       "    <tr>\n",
       "      <th>...</th>\n",
       "      <td>...</td>\n",
       "      <td>...</td>\n",
       "      <td>...</td>\n",
       "      <td>...</td>\n",
       "      <td>...</td>\n",
       "    </tr>\n",
       "    <tr>\n",
       "      <th>33715</th>\n",
       "      <td>719</td>\n",
       "      <td>20</td>\n",
       "      <td>143</td>\n",
       "      <td>2004-10-26 01:51:33</td>\n",
       "      <td>1098755493</td>\n",
       "    </tr>\n",
       "    <tr>\n",
       "      <th>33716</th>\n",
       "      <td>719</td>\n",
       "      <td>107</td>\n",
       "      <td>231</td>\n",
       "      <td>2004-10-26 01:58:17</td>\n",
       "      <td>1098755897</td>\n",
       "    </tr>\n",
       "    <tr>\n",
       "      <th>33717</th>\n",
       "      <td>625</td>\n",
       "      <td>59</td>\n",
       "      <td>51</td>\n",
       "      <td>2004-10-26 02:35:18</td>\n",
       "      <td>1098758118</td>\n",
       "    </tr>\n",
       "    <tr>\n",
       "      <th>33718</th>\n",
       "      <td>375</td>\n",
       "      <td>266</td>\n",
       "      <td>28</td>\n",
       "      <td>2004-10-26 08:40:22</td>\n",
       "      <td>1098780022</td>\n",
       "    </tr>\n",
       "    <tr>\n",
       "      <th>33719</th>\n",
       "      <td>375</td>\n",
       "      <td>266</td>\n",
       "      <td>19</td>\n",
       "      <td>2004-10-26 08:41:41</td>\n",
       "      <td>1098780101</td>\n",
       "    </tr>\n",
       "  </tbody>\n",
       "</table>\n",
       "<p>33720 rows × 5 columns</p>\n",
       "</div>"
      ],
      "text/plain": [
       "       src  dst  weightedchar                date        time\n",
       "0      201    3            23 2004-05-14 20:53:16  1084567996\n",
       "1      187    3            63 2004-05-14 20:54:08  1084568048\n",
       "2      138    2             6 2004-05-14 20:55:40  1084568140\n",
       "3      345    3            38 2004-05-14 21:00:04  1084568404\n",
       "4      233    3            60 2004-05-14 21:02:17  1084568537\n",
       "...    ...  ...           ...                 ...         ...\n",
       "33715  719   20           143 2004-10-26 01:51:33  1098755493\n",
       "33716  719  107           231 2004-10-26 01:58:17  1098755897\n",
       "33717  625   59            51 2004-10-26 02:35:18  1098758118\n",
       "33718  375  266            28 2004-10-26 08:40:22  1098780022\n",
       "33719  375  266            19 2004-10-26 08:41:41  1098780101\n",
       "\n",
       "[33720 rows x 5 columns]"
      ]
     },
     "execution_count": 7,
     "metadata": {},
     "output_type": "execute_result"
    }
   ],
   "source": [
    "df = pd.read_csv(INPUT_PATH, sep=' ', names=['date', 'src', 'dst', 'weightedchar'])\n",
    "df['date'] = pd.to_datetime(df['date'])\n",
    "df['time'] = df['date'].values.astype(np.int64) // (10 ** 9)\n",
    "df = df[['src', 'dst', 'weightedchar', 'date', 'time']]\n",
    "df"
   ]
  },
  {
   "cell_type": "code",
   "execution_count": 8,
   "metadata": {},
   "outputs": [],
   "source": [
    "# Save with header\n",
    "df.to_csv(os.path.join(INPUT_DIR, 'CollegeForum-withHeader.csv'), header=True, index=False)\n",
    "# Save without header in correct format to build dataset\n",
    "df.to_csv(os.path.join(INPUT_DIR, 'CollegeForum.csv.gz'), header=False, index=False, compression='gzip')"
   ]
  },
  {
   "cell_type": "markdown",
   "metadata": {},
   "source": [
    "---\n",
    "\n",
    "Build dataset"
   ]
  },
  {
   "cell_type": "code",
   "execution_count": 14,
   "metadata": {},
   "outputs": [],
   "source": [
    "from tsvar.preprocessing import Dataset"
   ]
  },
  {
   "cell_type": "code",
   "execution_count": 15,
   "metadata": {
    "scrolled": false
   },
   "outputs": [],
   "source": [
    "dataset = Dataset(os.path.join(INPUT_DIR, 'CollegeForum.csv.gz'), top=100, timescale='median', verbose=True)"
   ]
  },
  {
   "cell_type": "code",
   "execution_count": 16,
   "metadata": {},
   "outputs": [],
   "source": [
    "start_time = min(map(min, dataset.timestamps))\n",
    "dataset.timestamps = [ev - start_time for ev in dataset.timestamps]\n",
    "dataset.end_time = max(map(max, dataset.timestamps))"
   ]
  },
  {
   "cell_type": "code",
   "execution_count": 17,
   "metadata": {},
   "outputs": [
    {
     "data": {
      "image/png": "[encoded data removed]",
      "text/plain": [
       "<Figure size 1296x252 with 3 Axes>"
      ]
     },
     "metadata": {
      "needs_background": "light"
     },
     "output_type": "display_data"
    }
   ],
   "source": [
    "fig, axs = plt.subplots(1, 3, figsize=(18, 3.5))\n",
    "\n",
    "axs[0].hist(list(map(len, dataset.timestamps)))\n",
    "axs[0].set_xlabel('Number of events \\n in each dim')\n",
    "\n",
    "end_time = dataset.end_time\n",
    "axs[1].hist(list(map(min, dataset.timestamps)), bins=np.linspace(0, end_time, 20))\n",
    "axs[1].set_xlabel('First of event \\n in each dim')\n",
    "\n",
    "axs[2].hist(list(map(max, dataset.timestamps)), bins=np.linspace(0, end_time, 20))\n",
    "axs[2].set_xlabel('Last of events \\n in each dim')\n",
    "\n",
    "fig.suptitle(f\"Dataset {os.path.split(INPUT_PATH)[1]}\");"
   ]
  },
  {
   "cell_type": "code",
   "execution_count": null,
   "metadata": {},
   "outputs": [],
   "source": []
  },
  {
   "cell_type": "markdown",
   "metadata": {},
   "source": [
    "---"
   ]
  },
  {
   "cell_type": "code",
   "execution_count": 18,
   "metadata": {},
   "outputs": [],
   "source": [
    "import pickle\n",
    "with open(os.path.join(INPUT_DIR, 'dataset-collegeForum.pk'), 'wb') as f:\n",
    "    pickle.dump(dataset, f)"
   ]
  },
  {
   "cell_type": "code",
   "execution_count": null,
   "metadata": {},
   "outputs": [],
   "source": []
  }
 ],
 "metadata": {
  "kernelspec": {
   "display_name": "Python 3",
   "language": "python",
   "name": "python3"
  },
  "language_info": {
   "codemirror_mode": {
    "name": "ipython",
    "version": 3
   },
   "file_extension": ".py",
   "mimetype": "text/x-python",
   "name": "python",
   "nbconvert_exporter": "python",
   "pygments_lexer": "ipython3",
   "version": "3.6.10"
  }
 },
 "nbformat": 4,
 "nbformat_minor": 4
}

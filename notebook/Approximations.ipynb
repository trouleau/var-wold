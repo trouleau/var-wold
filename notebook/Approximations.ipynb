{
 "cells": [
  {
   "cell_type": "code",
   "execution_count": null,
   "metadata": {},
   "outputs": [],
   "source": [
    "import matplotlib.pyplot as plt\n",
    "import numpy as np\n",
    "%matplotlib inline\n",
    "\n",
    "import tsvar\n",
    "tsvar.plotting.set_aistat_matplotib_rcparams()"
   ]
  },
  {
   "cell_type": "code",
   "execution_count": null,
   "metadata": {},
   "outputs": [],
   "source": [
    "x = np.linspace(0.01, 5, 1000)"
   ]
  },
  {
   "cell_type": "code",
   "execution_count": null,
   "metadata": {},
   "outputs": [],
   "source": [
    "f = x ** (-1-1) * (x+2.9)**(-.2) * (x+1.7)**(-.8) * \\\n",
    "    np.exp(-1 / x) * np.exp(-.6 / (x+2.9)) *np.exp(-1.6 / (x+1.7)) / 0.137774\n",
    "f1 = x**(-1.289-1)* np.exp(-1.122/ x) / 0.775102\n",
    "f2 = x**(-1.14513-1)* np.exp(-1.0622/ x) / 0.871943"
   ]
  },
  {
   "cell_type": "code",
   "execution_count": null,
   "metadata": {},
   "outputs": [],
   "source": [
    "g = x ** (-3-1) * (x+.3)**(-.3) * (x+1.1)**(-1.8) * (x+2)**(-.1) * \\\n",
    "    np.exp(-1 / x) * np.exp(-1.6 / (x+.3)) * np.exp(-.4 / (x+1.1))* np.exp(-.8 / (x+2)) / 0.0521018\n",
    "g1 = x**(-3.011-1) * np.exp(-1.281 / x) / 0.958558\n",
    "g2 = x**(-2.713-1)* np.exp(-1.1863/ x) / 0.981896"
   ]
  },
  {
   "cell_type": "code",
   "execution_count": null,
   "metadata": {},
   "outputs": [],
   "source": [
    "plt.figure(figsize=(3.25, 2.167))\n",
    "\n",
    "lw1 = 1.5\n",
    "lw2 = 1.5\n",
    "ms = 2.0\n",
    "\n",
    "\n",
    "plt.plot(x, g,  c='C0', ls='-', lw=lw1, label=r'$f_1(\\beta)$')\n",
    "plt.plot(x, g2, c='C2', ls=':', lw=lw2, label=r'$\\tilde{f}_1^{(1)}(\\beta)$', \n",
    "         marker='o', markevery=30, markersize=ms)\n",
    "plt.plot(x, g1, c='C1', ls=':', lw=lw2, label=r'$\\tilde{f}_1^{(1.7)}(\\beta)$', \n",
    "         marker='o', markevery=30, markersize=ms)\n",
    "\n",
    "plt.plot(x, f,  c='C3', ls='-', lw=lw1, label=r'$f_2(\\beta)$')\n",
    "plt.plot(x, f2, c='C4', ls=':', lw=lw2, label=r'$\\tilde{f}_2^{(1)}(\\beta)$', \n",
    "         marker='o', markevery=30, markersize=ms)\n",
    "plt.plot(x, f1, c='C5', ls=':', lw=lw2, label=r'$\\tilde{f}_2^{(1.7)}(\\beta)$', \n",
    "         marker='o', markevery=30, markersize=ms)\n",
    "\n",
    "plt.legend(ncol=2, prop={'size': 8.5})\n",
    "\n",
    "plt.xlabel(r'$\\beta$')\n",
    "\n",
    "plt.subplots_adjust(left=0.15, right=0.99, top=0.85, bottom=0.35)\n",
    "plt.savefig(f'/Users/trouleau/Desktop/example_approx.pdf')"
   ]
  },
  {
   "cell_type": "code",
   "execution_count": null,
   "metadata": {},
   "outputs": [],
   "source": []
  }
 ],
 "metadata": {
  "kernelspec": {
   "display_name": "Python 3",
   "language": "python",
   "name": "python3"
  },
  "language_info": {
   "codemirror_mode": {
    "name": "ipython",
    "version": 3
   },
   "file_extension": ".py",
   "mimetype": "text/x-python",
   "name": "python",
   "nbconvert_exporter": "python",
   "pygments_lexer": "ipython3",
   "version": "3.6.10"
  }
 },
 "nbformat": 4,
 "nbformat_minor": 4
}

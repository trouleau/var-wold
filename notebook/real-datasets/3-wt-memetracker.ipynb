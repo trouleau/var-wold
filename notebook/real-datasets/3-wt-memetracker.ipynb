{
 "cells": [
  {
   "cell_type": "code",
   "execution_count": 116,
   "metadata": {},
   "outputs": [
    {
     "name": "stdout",
     "output_type": "stream",
     "text": [
      "The autoreload extension is already loaded. To reload it, use:\n",
      "  %reload_ext autoreload\n",
      "The line_profiler extension is already loaded. To reload it, use:\n",
      "  %reload_ext line_profiler\n"
     ]
    }
   ],
   "source": [
    "%load_ext autoreload\n",
    "%autoreload 2\n",
    "\n",
    "%load_ext line_profiler"
   ]
  },
  {
   "cell_type": "code",
   "execution_count": 2,
   "metadata": {},
   "outputs": [],
   "source": [
    "from matplotlib import pyplot as plt\n",
    "import networkx as nx\n",
    "import numpy as np\n",
    "import pandas as pd\n",
    "import itertools\n",
    "import torch\n",
    "import os\n",
    "\n",
    "import scipy.stats\n",
    "\n",
    "import tsvar\n",
    "from tsvar.preprocessing import Dataset\n",
    "import experiments_utils"
   ]
  },
  {
   "cell_type": "markdown",
   "metadata": {},
   "source": [
    "Set cells width"
   ]
  },
  {
   "cell_type": "code",
   "execution_count": 3,
   "metadata": {},
   "outputs": [
    {
     "data": {
      "text/html": [
       "<style>.container { width:80% !important; }</style>"
      ],
      "text/plain": [
       "<IPython.core.display.HTML object>"
      ]
     },
     "metadata": {},
     "output_type": "display_data"
    }
   ],
   "source": [
    "from IPython.core.display import display, HTML\n",
    "display(HTML(\"<style>.container { width:80% !important; }</style>\"))"
   ]
  },
  {
   "cell_type": "markdown",
   "metadata": {},
   "source": [
    "---\n",
    "\n",
    "## Load the dataset\n",
    "\n",
    "Set input path"
   ]
  },
  {
   "cell_type": "code",
   "execution_count": 4,
   "metadata": {},
   "outputs": [],
   "source": [
    "INPUT_PATH = \"/root/workspace/var-wold/data/memetracker/dataset_memetracker_good.pk\""
   ]
  },
  {
   "cell_type": "markdown",
   "metadata": {},
   "source": [
    "Load the dataset"
   ]
  },
  {
   "cell_type": "code",
   "execution_count": 5,
   "metadata": {},
   "outputs": [],
   "source": [
    "dataset = Dataset.from_pickle(INPUT_PATH)"
   ]
  },
  {
   "cell_type": "markdown",
   "metadata": {},
   "source": [
    "Visualize the dataset"
   ]
  },
  {
   "cell_type": "code",
   "execution_count": 6,
   "metadata": {
    "scrolled": true
   },
   "outputs": [
    {
     "data": {
      "image/png": "[encoded data removed]",
      "text/plain": [
       "<Figure size 1296x252 with 3 Axes>"
      ]
     },
     "metadata": {
      "needs_background": "light"
     },
     "output_type": "display_data"
    }
   ],
   "source": [
    "fig, axs = plt.subplots(1, 3, figsize=(18, 3.5))\n",
    "\n",
    "axs[0].hist(list(map(len, dataset.timestamps)))\n",
    "axs[0].set_xlabel('Number of events \\n in each dim')\n",
    "\n",
    "end_time = dataset.end_time\n",
    "axs[1].hist(list(map(min, dataset.timestamps)), bins=np.linspace(0, end_time, 20))\n",
    "axs[1].set_xlabel('First of event \\n in each dim')\n",
    "\n",
    "axs[2].hist(list(map(max, dataset.timestamps)), bins=np.linspace(0, end_time, 20))\n",
    "axs[2].set_xlabel('Last of events \\n in each dim')\n",
    "\n",
    "fig.suptitle(f\"Dataset {os.path.split(INPUT_PATH)[1]}\");"
   ]
  },
  {
   "cell_type": "markdown",
   "metadata": {},
   "source": [
    "Print statistics of the dataset"
   ]
  },
  {
   "cell_type": "code",
   "execution_count": 7,
   "metadata": {
    "scrolled": true
   },
   "outputs": [
    {
     "name": "stdout",
     "output_type": "stream",
     "text": [
      "Num. of dimensions: 100\n",
      "    Num. of events: 15,168,774\n",
      "               %NZ: 9.85%\n",
      "\n",
      "Stats. of num. of events per dim:\n",
      "count    1.000000e+02\n",
      "mean     1.516877e+05\n",
      "std      1.937082e+05\n",
      "min      1.723000e+03\n",
      "25%      7.706900e+04\n",
      "50%      1.057855e+05\n",
      "75%      1.740125e+05\n",
      "max      1.624574e+06\n",
      "dtype: float64\n"
     ]
    }
   ],
   "source": [
    "print(f\"Num. of dimensions: {len(dataset.timestamps):,d}\")\n",
    "print(f\"    Num. of events: {sum(map(len, dataset.timestamps)):,d}\")\n",
    "print(f\"               %NZ: {100 * dataset.graph.number_of_edges() / (dataset.graph.number_of_nodes() ** 2):.2f}%\")\n",
    "print()\n",
    "print(\"Stats. of num. of events per dim:\")\n",
    "num_jumps_per_dim = np.array(list(map(len, dataset.timestamps)))\n",
    "print(pd.Series(num_jumps_per_dim).describe())"
   ]
  },
  {
   "cell_type": "markdown",
   "metadata": {},
   "source": [
    "#### Visualize the scale of time using empirical inter-arrival time distributions\n",
    "\n",
    "Compute this for both definitions $\\{\\beta_j\\}$ and $\\{\\beta_{ij}\\}$."
   ]
  },
  {
   "cell_type": "code",
   "execution_count": 8,
   "metadata": {
    "scrolled": false
   },
   "outputs": [
    {
     "name": "stdout",
     "output_type": "stream",
     "text": [
      "Busca estimators of **beta_j**:\n",
      "count    100.000000\n",
      "mean       0.088753\n",
      "std        0.351734\n",
      "min        0.000000\n",
      "25%        0.000000\n",
      "50%        0.000000\n",
      "75%        0.002588\n",
      "max        2.171700\n",
      "dtype: float64\n",
      "\n",
      "Busca estimators of **beta_{ji}**:\n",
      "count    10000.000000\n",
      "mean       168.738808\n",
      "std       1087.665608\n",
      "min          0.000000\n",
      "25%          0.455349\n",
      "50%          0.912856\n",
      "75%          2.186691\n",
      "max      17232.735281\n",
      "dtype: float64\n",
      "\n"
     ]
    },
    {
     "data": {
      "image/png": "[encoded data removed]",
      "text/plain": [
       "<Figure size 1152x288 with 2 Axes>"
      ]
     },
     "metadata": {
      "needs_background": "light"
     },
     "output_type": "display_data"
    }
   ],
   "source": [
    "fig, axs = plt.subplots(1, 2, figsize=(16, 4), sharey=True)\n",
    "\n",
    "busca_betas = np.array([np.median(np.hstack((ev[0], np.diff(ev)))) / np.exp(1) for ev in dataset.timestamps])\n",
    "plt.sca(axs[0])\n",
    "plt.grid()\n",
    "plt.boxplot(busca_betas, labels=[r'Distribution of Busca estimators of $\\beta_j$']);\n",
    "plt.yscale('log')\n",
    "print('Busca estimators of **beta_j**:')\n",
    "print(pd.Series(busca_betas.flatten()).describe())\n",
    "print()\n",
    "\n",
    "plt.sca(axs[1])\n",
    "plt.grid()\n",
    "plt.boxplot(dataset.busca_beta_ji.flatten(), labels=[r'Distribution of Busca estimators of $\\beta_{ji}$']);\n",
    "plt.yscale('log')\n",
    "print('Busca estimators of **beta_{ji}**:')\n",
    "print(pd.Series(dataset.busca_beta_ji.flatten()).describe())\n",
    "print()"
   ]
  },
  {
   "cell_type": "markdown",
   "metadata": {},
   "source": [
    "#### Make variables for inference"
   ]
  },
  {
   "cell_type": "code",
   "execution_count": 9,
   "metadata": {},
   "outputs": [],
   "source": [
    "def split_train_test(dataset, chunk_idx, chunk_total):\n",
    "    # Set start and end times of train and test sets\n",
    "    train_t0 = dataset.end_time * chunk_idx / chunk_total\n",
    "    train_t1 = dataset.end_time * (chunk_idx + 1) / chunk_total\n",
    "    test_t0 = dataset.end_time * (chunk_idx + 1) / chunk_total\n",
    "    test_t1 = dataset.end_time * (chunk_idx + 2) / chunk_total\n",
    "    # Filter the events in train/test observation windows\n",
    "    train_events = [ev[(ev >= train_t0) & (ev < train_t1)] for ev in dataset.timestamps]\n",
    "    test_events = [ev[(ev >= test_t0) & (ev < test_t1)] for ev in dataset.timestamps]\n",
    "    # Remove dimensions with no nodes\n",
    "    nodes_to_keep = np.array([(len(train_events[i]) > 0) & (len(test_events[i]) > 0)\n",
    "                              for i in range(dataset.dim)])\n",
    "    train_events = np.array(train_events)[nodes_to_keep].tolist()\n",
    "    train_events = [ev - train_t0 for ev in train_events]\n",
    "    test_events = np.array(test_events)[nodes_to_keep].tolist()\n",
    "    test_events = [ev - test_t0 for ev in test_events]\n",
    "    return train_events, test_events"
   ]
  },
  {
   "cell_type": "code",
   "execution_count": 117,
   "metadata": {
    "scrolled": false
   },
   "outputs": [
    {
     "name": "stdout",
     "output_type": "stream",
     "text": [
      "Num. of dimensions: 94\n",
      "    Num. of events: 985,924\n",
      "\n",
      "Stats. of num. of events per dim:\n",
      "count       94.000000\n",
      "mean     10488.553191\n",
      "std       9937.056298\n",
      "min          2.000000\n",
      "25%       3361.750000\n",
      "50%       8094.000000\n",
      "75%      14209.500000\n",
      "max      45340.000000\n",
      "dtype: float64\n"
     ]
    },
    {
     "data": {
      "image/png": "[encoded data removed]",
      "text/plain": [
       "<Figure size 1296x252 with 3 Axes>"
      ]
     },
     "metadata": {
      "needs_background": "light"
     },
     "output_type": "display_data"
    }
   ],
   "source": [
    "train_events, test_events = split_train_test(dataset, chunk_idx=18, chunk_total=20)\n",
    "\n",
    "print(f\"Num. of dimensions: {len(train_events):,d}\")\n",
    "print(f\"    Num. of events: {sum(map(len, train_events)):,d}\")\n",
    "print()\n",
    "print(\"Stats. of num. of events per dim:\")\n",
    "num_jumps_per_dim = np.array(list(map(len, train_events)))\n",
    "print(pd.Series(num_jumps_per_dim).describe())\n",
    "\n",
    "fig, axs = plt.subplots(1, 3, figsize=(18, 3.5))\n",
    "axs[0].hist(list(map(len, train_events)))\n",
    "axs[0].set_xlabel('Number of events \\n in each dim')\n",
    "axs[1].hist(list(map(min, train_events)), bins=20)\n",
    "axs[1].set_xlabel('First of event \\n in each dim')\n",
    "axs[2].hist(list(map(max, train_events)), bins=20)\n",
    "axs[2].set_xlabel('Last of events \\n in each dim')\n",
    "fig.suptitle(f\"Dataset MemeTracker (chunk: {chunk_idx})\");"
   ]
  },
  {
   "cell_type": "code",
   "execution_count": 201,
   "metadata": {},
   "outputs": [
    {
     "name": "stdout",
     "output_type": "stream",
     "text": [
      "0 0.0 0.0\n",
      "1 0.0 0.0\n",
      "2 0.0 0.0\n",
      "3 0.0 0.0\n",
      "4 0.0 0.0\n",
      "5 0.0 0.0\n",
      "6 0.0 0.0\n",
      "7 0.0 0.0\n",
      "8 0.0 0.0\n",
      "9 0.0 0.0\n",
      "10 0.0 0.0\n",
      "11 0.0 0.0\n",
      "12 0.0 0.0\n",
      "13 0.0 0.0\n",
      "14 0.0 0.0\n",
      "15 0.0 0.0\n",
      "16 0.0 0.0\n",
      "17 0.0 -0.0023453682733816095\n",
      "18 -0.0023453682733816095 0.0\n"
     ]
    }
   ],
   "source": [
    "func = lambda events: min([np.min(np.diff(ev)) for ev in events if len(ev) > 1])\n",
    "\n",
    "chunk_total = 20\n",
    "for chunk_idx in range(chunk_total - 1):\n",
    "    train_events, test_events = split_train_test(dataset, chunk_idx=chunk_idx, chunk_total=chunk_total)\n",
    "    print(chunk_idx, func(train_events), func(test_events))"
   ]
  },
  {
   "cell_type": "markdown",
   "metadata": {},
   "source": [
    "Init test model"
   ]
  },
  {
   "cell_type": "code",
   "execution_count": 118,
   "metadata": {},
   "outputs": [],
   "source": [
    "test_model = tsvar.models.WoldModelOther()\n",
    "test_model.observe(test_events)"
   ]
  },
  {
   "cell_type": "markdown",
   "metadata": {},
   "source": [
    "---\n",
    "\n",
    "## Run inference"
   ]
  },
  {
   "cell_type": "markdown",
   "metadata": {},
   "source": [
    "---\n",
    "\n",
    "### Run VI"
   ]
  },
  {
   "cell_type": "code",
   "execution_count": 123,
   "metadata": {
    "scrolled": true
   },
   "outputs": [
    {
     "name": "stdout",
     "output_type": "stream",
     "text": [
      "ALPHA:\n",
      "------\n",
      "    mean: 0.1\n",
      "variance: 0.01\n",
      "BETA:\n",
      "-----\n",
      "    mean: 1.0\n",
      "variance: 0.010101010101010102\n"
     ]
    }
   ],
   "source": [
    "dim = len(train_events)\n",
    "\n",
    "# Set priors\n",
    "# prior: Alpha\n",
    "as_pr = 1.0 * np.ones((dim + 1, dim))\n",
    "ar_pr = 10.0 * np.ones((dim + 1, dim))\n",
    "\n",
    "# prior: Beta\n",
    "bs_pr = 101.0 * np.ones((dim, dim))\n",
    "br_pr = 100.0 * np.ones((dim, dim))\n",
    "\n",
    "#bs_pr = 1000.0 * np.ones((dim, dim))\n",
    "#med_inter_ev = np.array([np.median(np.diff(ev)) for ev in events])\n",
    "#br_pr = np.ones((dim, dim)) * med_inter_ev * (bs_pr - 1)\n",
    "\n",
    "# prior: Z\n",
    "zc_pr = [1.0 * np.ones((len(train_events[i]), dim+1)) for i in range(dim)]\n",
    "\n",
    "print('ALPHA:')\n",
    "print('------')\n",
    "print('    mean:', as_pr[0,0] / ar_pr[0,0])\n",
    "print('variance:', as_pr[0,0] / ar_pr[0,0] ** 2)\n",
    "\n",
    "print('BETA:')\n",
    "print('-----')\n",
    "print('    mean:', br_pr[0,0] / (bs_pr[0,0] - 1))\n",
    "print('variance:', br_pr[0,0]**2 / ((bs_pr[0,0] - 1)**2 * (bs_pr[0,0] - 2)))"
   ]
  },
  {
   "cell_type": "code",
   "execution_count": 124,
   "metadata": {},
   "outputs": [],
   "source": [
    "# Set model & observations\n",
    "vi_model = tsvar.models.WoldModelVariational(verbose=True)\n",
    "vi_model.observe(train_events)\n",
    "\n",
    "# Save model to pickle to avoid initializing cache many times on the same dataset.\n",
    "#import pickle\n",
    "#with open('/root/workspace/var-wold/data/memetracker/vi_model_dataset.pk', 'wb') as f:\n",
    "#    pickle.dump((vi_model, dataset), f)"
   ]
  },
  {
   "cell_type": "code",
   "execution_count": 150,
   "metadata": {
    "scrolled": false
   },
   "outputs": [
    {
     "data": {
      "text/plain": [
       "False"
      ]
     },
     "execution_count": 150,
     "metadata": {},
     "output_type": "execute_result"
    }
   ],
   "source": [
    "# Set callback (parameters of callback are just the posterior mean of alpha)\n",
    "callback = tsvar.utils.callbacks.LearnerCallbackMLE(\n",
    "    x0=(as_pr[1:,:] / ar_pr[1:,:]).flatten(), print_every=1,\n",
    "    coeffs_true=np.ones(dim ** 2).flatten(),\n",
    "    acc_thresh=0.05, dim=dim, widgets={'f1score', 'relerr'},\n",
    "    default_end='\\n')\n",
    "\n",
    "# Fit model\n",
    "vi_model.fit(as_pr=as_pr, ar_pr=ar_pr, bs_pr=bs_pr, br_pr=br_pr, zc_pr=zc_pr, \n",
    "          max_iter=0, tol=1e-5, callback=callback)"
   ]
  },
  {
   "cell_type": "code",
   "execution_count": 151,
   "metadata": {},
   "outputs": [],
   "source": [
    "vi_model._as_po, vi_model._ar_po = tsvar.models._wold_var._update_alpha(\n",
    "    as_pr=vi_model._as_pr,\n",
    "    ar_pr=vi_model._ar_pr,\n",
    "    zp_po=vi_model._zp_po,\n",
    "    bs_po=vi_model._bs_po,\n",
    "    br_po=vi_model._br_po,\n",
    "    dt_ik=vi_model.dt_ik,\n",
    "    delta_ikj=vi_model.delta_ikj,\n",
    "    valid_mask_ikj=vi_model.valid_mask_ikj,\n",
    ")\n",
    "\n",
    "vi_model._bs_po, vi_model._br_po, vi_model._b_x0, vi_model._b_xn =tsvar.models._wold_var._update_beta(\n",
    "    x0=vi_model._b_x0,\n",
    "    xn=vi_model._b_xn,\n",
    "    n=1.7,\n",
    "    as_po=vi_model._as_po,\n",
    "    ar_po=vi_model._ar_po,\n",
    "    zp_po=vi_model._zp_po,\n",
    "    bs_pr=vi_model._bs_pr,\n",
    "    br_pr=vi_model._bs_pr,\n",
    "    dt_ik=vi_model.dt_ik,\n",
    "    delta_ikj=vi_model.delta_ikj,\n",
    "    valid_mask_ikj=vi_model.valid_mask_ikj,\n",
    ")"
   ]
  },
  {
   "cell_type": "code",
   "execution_count": 154,
   "metadata": {},
   "outputs": [],
   "source": [
    "zp_po = tsvar.models._wold_var._update_z(\n",
    "    as_po=vi_model._as_po,\n",
    "    ar_po=vi_model._ar_po,\n",
    "    bs_po=vi_model._bs_po,\n",
    "    br_po=vi_model._br_po,\n",
    "    dt_ik=vi_model.dt_ik,\n",
    "    delta_ikj=vi_model.delta_ikj,\n",
    "    valid_mask_ikj=vi_model.valid_mask_ikj\n",
    ")"
   ]
  },
  {
   "cell_type": "code",
   "execution_count": 161,
   "metadata": {},
   "outputs": [],
   "source": [
    "epi = tsvar.models._wold_var._compute_epi(\n",
    "    i=17, \n",
    "    as_po=vi_model._as_po, \n",
    "    ar_po=vi_model._ar_po, \n",
    "    bs_po=vi_model._bs_po, \n",
    "    br_po=vi_model._br_po, \n",
    "    dt_ik=vi_model.dt_ik, \n",
    "    delta_ikj=vi_model.delta_ikj, \n",
    "    valid_mask_ikj=vi_model.valid_mask_ikj\n",
    ")"
   ]
  },
  {
   "cell_type": "code",
   "execution_count": 174,
   "metadata": {},
   "outputs": [
    {
     "data": {
      "text/plain": [
       "array([[-1.29, -4.61, -4.61, ..., -4.61, -4.61, -4.61],\n",
       "       [-1.52, -1.52, -4.61, ..., -4.61, -4.61, -4.61],\n",
       "       [-1.26, -1.26, -4.61, ..., -4.61, -4.61, -4.61],\n",
       "       ...,\n",
       "       [-1.27, -1.27, -1.27, ..., -1.27, -1.27, -1.27],\n",
       "       [-4.61, -4.61, -4.61, ..., -4.61, -4.61, -4.61],\n",
       "       [-4.61, -4.61, -4.61, ..., -4.61, -4.61, -4.61]])"
      ]
     },
     "execution_count": 174,
     "metadata": {},
     "output_type": "execute_result"
    }
   ],
   "source": [
    "i = 17\n",
    "\n",
    "# np.log(vi_model.valid_mask_ikj[i] * np.expand_dims(vi_model.dt_ik[i], 1) + 1e-20)"
   ]
  },
  {
   "cell_type": "code",
   "execution_count": 186,
   "metadata": {},
   "outputs": [
    {
     "data": {
      "text/plain": [
       "-0.0023193359375"
      ]
     },
     "execution_count": 186,
     "metadata": {},
     "output_type": "execute_result"
    }
   ],
   "source": [
    "(vi_model.valid_mask_ikj[i] * np.expand_dims(vi_model.dt_ik[i], 1))[4004, :].min()"
   ]
  },
  {
   "cell_type": "code",
   "execution_count": 183,
   "metadata": {},
   "outputs": [
    {
     "data": {
      "text/plain": [
       "array([ 1.00,  1.00,  1.00,  1.00,  1.00,  1.00,  1.00,  1.00,  1.00,\n",
       "        1.00,  1.00,  1.00,  1.00,  1.00,  1.00,  1.00,  1.00,  1.00,\n",
       "        1.00,  1.00,  1.00,  1.00,  1.00,  1.00,  1.00,  1.00,  1.00,\n",
       "        1.00,  1.00,  1.00,  1.00,  1.00,  1.00,  1.00,  1.00,  1.00,\n",
       "        1.00,  1.00,  1.00,  1.00,  1.00,  1.00,  1.00,  1.00,  0.00,\n",
       "        1.00,  1.00,  1.00,  1.00,  1.00,  1.00,  1.00,  1.00,  1.00,\n",
       "        1.00,  0.00,  1.00,  1.00,  1.00,  1.00,  1.00,  1.00,  1.00,\n",
       "        1.00,  1.00,  1.00,  1.00,  1.00,  1.00,  1.00,  1.00,  1.00,\n",
       "        1.00,  1.00,  1.00,  1.00,  1.00,  1.00,  1.00,  1.00,  1.00,\n",
       "        1.00,  1.00,  1.00,  1.00,  1.00,  1.00,  1.00,  1.00,  1.00,\n",
       "        1.00,  1.00,  1.00,  1.00,  1.00])"
      ]
     },
     "execution_count": 183,
     "metadata": {},
     "output_type": "execute_result"
    }
   ],
   "source": [
    "vi_model.valid_mask_ikj[i][4005, :]"
   ]
  },
  {
   "cell_type": "code",
   "execution_count": 176,
   "metadata": {},
   "outputs": [
    {
     "data": {
      "text/plain": [
       "array([[ 0.26],\n",
       "       [ 0.21],\n",
       "       [ 0.27],\n",
       "       ...,\n",
       "       [ 0.27],\n",
       "       [ 0.00],\n",
       "       [ 0.00]], dtype=float32)"
      ]
     },
     "execution_count": 176,
     "metadata": {},
     "output_type": "execute_result"
    }
   ],
   "source": [
    "np.expand_dims(vi_model.dt_ik[i], 1)"
   ]
  },
  {
   "cell_type": "code",
   "execution_count": 159,
   "metadata": {},
   "outputs": [
    {
     "data": {
      "text/plain": [
       "array([ nan,  nan,  nan,  nan,  nan,  nan,  nan,  nan,  nan,  nan,  nan,\n",
       "        nan,  nan,  nan,  nan,  nan,  nan,  nan,  nan,  nan,  nan,  nan,\n",
       "        nan,  nan,  nan,  nan,  nan,  nan,  nan,  nan,  nan,  nan,  nan,\n",
       "        nan,  nan,  nan,  nan,  nan,  nan,  nan,  nan,  nan,  nan,  nan,\n",
       "        nan,  nan,  nan,  nan,  nan,  nan,  nan,  nan,  nan,  nan,  nan,\n",
       "        nan,  nan,  nan,  nan,  nan,  nan,  nan,  nan,  nan,  nan,  nan,\n",
       "        nan,  nan,  nan,  nan,  nan,  nan,  nan,  nan,  nan,  nan,  nan,\n",
       "        nan,  nan,  nan,  nan,  nan,  nan,  nan,  nan,  nan,  nan,  nan,\n",
       "        nan,  nan,  nan,  nan,  nan,  nan,  nan])"
      ]
     },
     "execution_count": 159,
     "metadata": {},
     "output_type": "execute_result"
    }
   ],
   "source": [
    "zp_po[17][4004,:]"
   ]
  },
  {
   "cell_type": "code",
   "execution_count": null,
   "metadata": {},
   "outputs": [],
   "source": []
  },
  {
   "cell_type": "code",
   "execution_count": null,
   "metadata": {},
   "outputs": [],
   "source": []
  },
  {
   "cell_type": "code",
   "execution_count": null,
   "metadata": {},
   "outputs": [],
   "source": []
  },
  {
   "cell_type": "code",
   "execution_count": 114,
   "metadata": {},
   "outputs": [
    {
     "data": {
      "text/plain": [
       "1.4502313824020276"
      ]
     },
     "execution_count": 114,
     "metadata": {},
     "output_type": "execute_result"
    }
   ],
   "source": [
    "mu_hat = vi_model._as_po[0, :] / vi_model._ar_po[0, :]\n",
    "adj_hat = vi_model._as_po[1:, :] / vi_model._ar_po[1:, :]\n",
    "beta_hat = vi_model._br_po[:, :] / (vi_model._bs_po[:, :] + 1) + 1\n",
    "\n",
    "coeffs_hat = torch.tensor(np.hstack((\n",
    "    mu_hat, beta_hat.flatten(), adj_hat.flatten()\n",
    ")))\n",
    "\n",
    "\n",
    "vi_ll = float(test_model.log_likelihood(coeffs_hat)) / sum(map(len, test_events))\n",
    "vi_ll "
   ]
  },
  {
   "cell_type": "code",
   "execution_count": 115,
   "metadata": {},
   "outputs": [
    {
     "data": {
      "image/png": "[encoded data removed]",
      "text/plain": [
       "<Figure size 432x288 with 1 Axes>"
      ]
     },
     "metadata": {
      "needs_background": "light"
     },
     "output_type": "display_data"
    }
   ],
   "source": [
    "diag_mask = np.eye(dim).astype(bool)\n",
    "plt.boxplot([mu_hat, adj_hat[diag_mask].flatten(), adj_hat[~diag_mask].flatten(), beta_hat.flatten()],\n",
    "            labels=['Mu', 'Adj (diag)', 'Adj (cross)', 'Beta']);"
   ]
  },
  {
   "cell_type": "markdown",
   "metadata": {},
   "source": [
    "---\n",
    "\n",
    "### Run GB"
   ]
  },
  {
   "cell_type": "code",
   "execution_count": null,
   "metadata": {},
   "outputs": [],
   "source": [
    "import gb\n",
    "import time\n",
    "\n",
    "dim = len(train_events)\n",
    "\n",
    "# Define model\n",
    "granger_model = gb.GrangerBusca(\n",
    "    alpha_prior=1.0 / len(train_events),\n",
    "    num_iter=300,\n",
    "    metropolis=True,\n",
    "    beta_strategy='busca',\n",
    "    num_jobs=48,\n",
    ")\n",
    "granger_model.fit(train_events)"
   ]
  },
  {
   "cell_type": "code",
   "execution_count": null,
   "metadata": {},
   "outputs": [],
   "source": [
    "mu_hat = granger_model.mu_\n",
    "adj_hat = granger_model.Alpha_.toarray()\n",
    "adj_hat = adj_hat / adj_hat.sum(axis=1)[:, None]\n",
    "beta_hat = np.ones((dim, dim)) * granger_model.beta_\n",
    "coeffs_hat = torch.tensor(np.hstack((\n",
    "    granger_model.mu_, beta_hat.flatten(), adj_hat.flatten()\n",
    ")))\n",
    "\n",
    "gb_ll = float(test_model.log_likelihood(coeffs_hat)) / sum(map(len, test_events))\n",
    "gb_ll "
   ]
  },
  {
   "cell_type": "markdown",
   "metadata": {},
   "source": [
    "---"
   ]
  },
  {
   "cell_type": "code",
   "execution_count": null,
   "metadata": {
    "scrolled": true
   },
   "outputs": [],
   "source": [
    "print(vi_ll)\n",
    "print(gb_ll)"
   ]
  },
  {
   "cell_type": "code",
   "execution_count": null,
   "metadata": {},
   "outputs": [],
   "source": []
  }
 ],
 "metadata": {
  "kernelspec": {
   "display_name": "Python 3",
   "language": "python",
   "name": "python3"
  },
  "language_info": {
   "codemirror_mode": {
    "name": "ipython",
    "version": 3
   },
   "file_extension": ".py",
   "mimetype": "text/x-python",
   "name": "python",
   "nbconvert_exporter": "python",
   "pygments_lexer": "ipython3",
   "version": "3.7.7"
  }
 },
 "nbformat": 4,
 "nbformat_minor": 4
}

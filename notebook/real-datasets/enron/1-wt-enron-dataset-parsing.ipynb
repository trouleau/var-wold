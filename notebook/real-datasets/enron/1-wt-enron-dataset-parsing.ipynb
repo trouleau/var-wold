{
 "cells": [
  {
   "cell_type": "markdown",
   "metadata": {},
   "source": [
    "# Enron Dataset Preprocessing : Parsing the raw dataset\n",
    "\n",
    "In this notebook, we parse the raw dataset in to a single csv file."
   ]
  },
  {
   "cell_type": "markdown",
   "metadata": {},
   "source": [
    "## Step 1: Import libraries"
   ]
  },
  {
   "cell_type": "code",
   "execution_count": 1,
   "metadata": {},
   "outputs": [],
   "source": [
    "import os\n",
    "import re\n",
    "import sys\n",
    "import email\n",
    "import dateutil\n",
    "\n",
    "import pandas as pd"
   ]
  },
  {
   "cell_type": "markdown",
   "metadata": {},
   "source": [
    "## Step 2: Download and extract the dataset\n",
    "\n",
    "The Enron dataset should be downloaded from `https://www.cs.cmu.edu/~enron/enron_mail_20150507.tar.gz` and extracted in the current directory.\n",
    "\n",
    "The following variable defines the location to the raw dataset."
   ]
  },
  {
   "cell_type": "code",
   "execution_count": 2,
   "metadata": {},
   "outputs": [],
   "source": [
    "MAIL_DIR = 'maildir/'"
   ]
  },
  {
   "cell_type": "markdown",
   "metadata": {},
   "source": [
    "## Step 3: Parse the dataset"
   ]
  },
  {
   "cell_type": "markdown",
   "metadata": {},
   "source": [
    "We first define a couple helper functions to extract the emails sent by all individuals in the dataset."
   ]
  },
  {
   "cell_type": "code",
   "execution_count": 3,
   "metadata": {},
   "outputs": [],
   "source": [
    "def recursive_listdir(path):\n",
    "    \"\"\"Recursively walk from a given path\"\"\"\n",
    "    return [os.path.join(dp, f) for dp, dn, fn in os.walk(os.path.expanduser(path)) for f in fn]\n",
    "\n",
    "def get_sender_emails(user):\n",
    "    \"\"\"Generator that iterates over all the emails sent by a given user\"\"\"\n",
    "    # Check all all sub-folders in the user folder\n",
    "    for fpath in recursive_listdir(os.path.join(MAIL_DIR, user)):\n",
    "        # Ignore os specific file\n",
    "        if fpath.endswith('.DS_Store'):\n",
    "            continue\n",
    "        # Read email file\n",
    "        with open(fpath, 'rb') as f:\n",
    "            msg = email.message_from_binary_file(f)\n",
    "        # Parse date\n",
    "        date = msg['Date']\n",
    "        dt = dateutil.parser.parse(date)\n",
    "        t = dt.timestamp()\n",
    "        # Store data in a dict\n",
    "        mail_dict = {\n",
    "            'user': user,\n",
    "            'date': date,\n",
    "            'timestamp': t, \n",
    "            'file': re.sub(MAIL_DIR, '', fpath), \n",
    "        }\n",
    "        for key in ['From', 'To', 'Cc', 'X-From', 'X-To', 'X-cc', 'X-Origin', 'X-Folder']:\n",
    "            mail_dict[key] = msg.get(key)\n",
    "\n",
    "        yield mail_dict"
   ]
  },
  {
   "cell_type": "markdown",
   "metadata": {},
   "source": [
    "Get all emails from all individuals."
   ]
  },
  {
   "cell_type": "code",
   "execution_count": 4,
   "metadata": {
    "scrolled": true
   },
   "outputs": [
    {
     "name": "stdout",
     "output_type": "stream",
     "text": [
      "150/150 - Process user: zufferli-j          \n"
     ]
    }
   ],
   "source": [
    "# Get the list of individuals\n",
    "SENDER_LIST = sorted([d for d in os.listdir(MAIL_DIR) if os.path.isdir(os.path.join(MAIL_DIR, d))])\n",
    "\n",
    "data = list()\n",
    "n_senders = len(SENDER_LIST)\n",
    "for i, sender in enumerate(SENDER_LIST):\n",
    "    print('{:d}/{:d} - Process user: {:<20s}'.format(i+1, n_senders, sender), end='\\r', flush=True)\n",
    "    data.extend(list(get_sender_emails(sender)))\n",
    "print()"
   ]
  },
  {
   "cell_type": "markdown",
   "metadata": {},
   "source": [
    "Visualize some mails"
   ]
  },
  {
   "cell_type": "code",
   "execution_count": 5,
   "metadata": {},
   "outputs": [
    {
     "data": {
      "text/html": [
       "<div>\n",
       "<style scoped>\n",
       "    .dataframe tbody tr th:only-of-type {\n",
       "        vertical-align: middle;\n",
       "    }\n",
       "\n",
       "    .dataframe tbody tr th {\n",
       "        vertical-align: top;\n",
       "    }\n",
       "\n",
       "    .dataframe thead th {\n",
       "        text-align: right;\n",
       "    }\n",
       "</style>\n",
       "<table border=\"1\" class=\"dataframe\">\n",
       "  <thead>\n",
       "    <tr style=\"text-align: right;\">\n",
       "      <th></th>\n",
       "      <th>user</th>\n",
       "      <th>date</th>\n",
       "      <th>timestamp</th>\n",
       "      <th>file</th>\n",
       "      <th>From</th>\n",
       "      <th>To</th>\n",
       "      <th>Cc</th>\n",
       "      <th>X-From</th>\n",
       "      <th>X-To</th>\n",
       "      <th>X-cc</th>\n",
       "      <th>X-Origin</th>\n",
       "      <th>X-Folder</th>\n",
       "    </tr>\n",
       "  </thead>\n",
       "  <tbody>\n",
       "    <tr>\n",
       "      <th>242861</th>\n",
       "      <td>kean-s</td>\n",
       "      <td>Thu, 14 Sep 2000 03:06:00 -0700 (PDT)</td>\n",
       "      <td>968925960.0</td>\n",
       "      <td>kean-s/archiving/untitled/997.</td>\n",
       "      <td>steven.kean@enron.com</td>\n",
       "      <td>cynthia.sandherr@enron.com</td>\n",
       "      <td>jeffrey.shankman@enron.com</td>\n",
       "      <td>Steven J Kean</td>\n",
       "      <td>Cynthia Sandherr</td>\n",
       "      <td>Jeffrey A Shankman</td>\n",
       "      <td>KEAN-S</td>\n",
       "      <td>\\Steven_Kean_Dec2000_1\\Notes Folders\\Archiving...</td>\n",
       "    </tr>\n",
       "    <tr>\n",
       "      <th>198095</th>\n",
       "      <td>jones-t</td>\n",
       "      <td>Thu, 22 Mar 2001 13:25:00 -0800 (PST)</td>\n",
       "      <td>985296300.0</td>\n",
       "      <td>jones-t/all_documents/10427.</td>\n",
       "      <td>enron.announcements@enron.com</td>\n",
       "      <td>all_ena_egm_eim@enron.com</td>\n",
       "      <td>None</td>\n",
       "      <td>Enron Announcements</td>\n",
       "      <td>All_ENA_EGM_EIM</td>\n",
       "      <td></td>\n",
       "      <td>JONES-T</td>\n",
       "      <td>\\Tanya_Jones_June2001\\Notes Folders\\All documents</td>\n",
       "    </tr>\n",
       "    <tr>\n",
       "      <th>336060</th>\n",
       "      <td>merriss-s</td>\n",
       "      <td>Sat, 21 Apr 2001 20:43:00 -0700 (PDT)</td>\n",
       "      <td>987910980.0</td>\n",
       "      <td>merriss-s/notes_inbox/262.</td>\n",
       "      <td>pete.davis@enron.com</td>\n",
       "      <td>pete.davis@enron.com</td>\n",
       "      <td>bert.meyers@enron.com, bill.williams.iii@enron...</td>\n",
       "      <td>Schedule Crawler&lt;pete.davis@enron.com&gt;</td>\n",
       "      <td>pete.davis@enron.com</td>\n",
       "      <td>bert.meyers@enron.com, bill.williams.III@enron...</td>\n",
       "      <td>MERRISS-S</td>\n",
       "      <td>\\steven merriss 6-28-02\\Notes Folders\\Notes inbox</td>\n",
       "    </tr>\n",
       "    <tr>\n",
       "      <th>276643</th>\n",
       "      <td>lenhart-m</td>\n",
       "      <td>Mon, 30 Oct 2000 06:03:00 -0800 (PST)</td>\n",
       "      <td>972914580.0</td>\n",
       "      <td>lenhart-m/sent/1880.</td>\n",
       "      <td>matthew.lenhart@enron.com</td>\n",
       "      <td>mmmarcantel@equiva.com</td>\n",
       "      <td>None</td>\n",
       "      <td>Matthew Lenhart</td>\n",
       "      <td>\"Marcantel MM (Mitch)\" &lt;MMMarcantel@equiva.com...</td>\n",
       "      <td></td>\n",
       "      <td>Lenhart-M</td>\n",
       "      <td>\\Matthew_Lenhart_Jun2001\\Notes Folders\\Sent</td>\n",
       "    </tr>\n",
       "    <tr>\n",
       "      <th>317674</th>\n",
       "      <td>mann-k</td>\n",
       "      <td>Thu, 12 Oct 2000 10:59:00 -0700 (PDT)</td>\n",
       "      <td>971373540.0</td>\n",
       "      <td>mann-k/all_documents/1394.</td>\n",
       "      <td>kay.mann@enron.com</td>\n",
       "      <td>sarah.wesner@enron.com</td>\n",
       "      <td>None</td>\n",
       "      <td>Kay Mann</td>\n",
       "      <td>Sarah Wesner</td>\n",
       "      <td></td>\n",
       "      <td>MANN-K</td>\n",
       "      <td>\\Kay_Mann_June2001_1\\Notes Folders\\All documents</td>\n",
       "    </tr>\n",
       "  </tbody>\n",
       "</table>\n",
       "</div>"
      ],
      "text/plain": [
       "             user                                   date    timestamp                            file                           From                          To                                                 Cc                                  X-From                                               X-To                                               X-cc   X-Origin                                           X-Folder\n",
       "242861     kean-s  Thu, 14 Sep 2000 03:06:00 -0700 (PDT)  968925960.0  kean-s/archiving/untitled/997.          steven.kean@enron.com  cynthia.sandherr@enron.com                         jeffrey.shankman@enron.com                           Steven J Kean                                   Cynthia Sandherr                                 Jeffrey A Shankman     KEAN-S  \\Steven_Kean_Dec2000_1\\Notes Folders\\Archiving...\n",
       "198095    jones-t  Thu, 22 Mar 2001 13:25:00 -0800 (PST)  985296300.0    jones-t/all_documents/10427.  enron.announcements@enron.com   all_ena_egm_eim@enron.com                                               None                     Enron Announcements                                    All_ENA_EGM_EIM                                                       JONES-T  \\Tanya_Jones_June2001\\Notes Folders\\All documents\n",
       "336060  merriss-s  Sat, 21 Apr 2001 20:43:00 -0700 (PDT)  987910980.0      merriss-s/notes_inbox/262.           pete.davis@enron.com        pete.davis@enron.com  bert.meyers@enron.com, bill.williams.iii@enron...  Schedule Crawler<pete.davis@enron.com>                               pete.davis@enron.com  bert.meyers@enron.com, bill.williams.III@enron...  MERRISS-S  \\steven merriss 6-28-02\\Notes Folders\\Notes inbox\n",
       "276643  lenhart-m  Mon, 30 Oct 2000 06:03:00 -0800 (PST)  972914580.0            lenhart-m/sent/1880.      matthew.lenhart@enron.com      mmmarcantel@equiva.com                                               None                         Matthew Lenhart  \"Marcantel MM (Mitch)\" <MMMarcantel@equiva.com...                                                     Lenhart-M        \\Matthew_Lenhart_Jun2001\\Notes Folders\\Sent\n",
       "317674     mann-k  Thu, 12 Oct 2000 10:59:00 -0700 (PDT)  971373540.0      mann-k/all_documents/1394.             kay.mann@enron.com      sarah.wesner@enron.com                                               None                                Kay Mann                                       Sarah Wesner                                                        MANN-K   \\Kay_Mann_June2001_1\\Notes Folders\\All documents"
      ]
     },
     "execution_count": 5,
     "metadata": {},
     "output_type": "execute_result"
    }
   ],
   "source": [
    "df = pd.DataFrame.from_dict(data)\n",
    "df.sample(5)"
   ]
  },
  {
   "cell_type": "code",
   "execution_count": 6,
   "metadata": {},
   "outputs": [
    {
     "data": {
      "text/plain": [
       "(517401, 12)"
      ]
     },
     "execution_count": 6,
     "metadata": {},
     "output_type": "execute_result"
    }
   ],
   "source": [
    "df.shape"
   ]
  },
  {
   "cell_type": "markdown",
   "metadata": {},
   "source": [
    "Save dataframe to `csv`"
   ]
  },
  {
   "cell_type": "code",
   "execution_count": 7,
   "metadata": {},
   "outputs": [],
   "source": [
    "df.to_csv('enron_dataset_raw.csv', encoding='utf-8')"
   ]
  },
  {
   "cell_type": "code",
   "execution_count": null,
   "metadata": {},
   "outputs": [],
   "source": []
  }
 ],
 "metadata": {
  "kernelspec": {
   "display_name": "Python 3",
   "language": "python",
   "name": "python3"
  },
  "language_info": {
   "codemirror_mode": {
    "name": "ipython",
    "version": 3
   },
   "file_extension": ".py",
   "mimetype": "text/x-python",
   "name": "python",
   "nbconvert_exporter": "python",
   "pygments_lexer": "ipython3",
   "version": "3.6.10"
  }
 },
 "nbformat": 4,
 "nbformat_minor": 2
}

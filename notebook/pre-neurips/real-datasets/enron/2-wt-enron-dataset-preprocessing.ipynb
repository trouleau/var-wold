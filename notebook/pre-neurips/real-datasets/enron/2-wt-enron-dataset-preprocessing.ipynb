{
 "cells": [
  {
   "cell_type": "markdown",
   "metadata": {},
   "source": [
    "# Enron Dataset Preprocessing : Format the dataset into time series\n",
    "\n",
    "In this notebook, we format the parsed dataset into a multivariate time series."
   ]
  },
  {
   "cell_type": "markdown",
   "metadata": {},
   "source": [
    "## Step 1: Import libraries"
   ]
  },
  {
   "cell_type": "code",
   "execution_count": 14,
   "metadata": {},
   "outputs": [],
   "source": [
    "import glob\n",
    "import os\n",
    "import pandas as pd"
   ]
  },
  {
   "cell_type": "markdown",
   "metadata": {},
   "source": [
    "## Step 2: Preprocess the parsed dataset\n",
    "\n",
    "The parsed dataset should first be generated from the previous notebook."
   ]
  },
  {
   "cell_type": "markdown",
   "metadata": {},
   "source": [
    "#### Load the data"
   ]
  },
  {
   "cell_type": "code",
   "execution_count": 2,
   "metadata": {
    "scrolled": true
   },
   "outputs": [
    {
     "name": "stdout",
     "output_type": "stream",
     "text": [
      "(517401, 12)\n"
     ]
    },
    {
     "data": {
      "text/html": [
       "<div>\n",
       "<style scoped>\n",
       "    .dataframe tbody tr th:only-of-type {\n",
       "        vertical-align: middle;\n",
       "    }\n",
       "\n",
       "    .dataframe tbody tr th {\n",
       "        vertical-align: top;\n",
       "    }\n",
       "\n",
       "    .dataframe thead th {\n",
       "        text-align: right;\n",
       "    }\n",
       "</style>\n",
       "<table border=\"1\" class=\"dataframe\">\n",
       "  <thead>\n",
       "    <tr style=\"text-align: right;\">\n",
       "      <th></th>\n",
       "      <th>user</th>\n",
       "      <th>From</th>\n",
       "      <th>To</th>\n",
       "      <th>date</th>\n",
       "      <th>timestamp</th>\n",
       "      <th>file</th>\n",
       "    </tr>\n",
       "  </thead>\n",
       "  <tbody>\n",
       "    <tr>\n",
       "      <th>0</th>\n",
       "      <td>allen-p</td>\n",
       "      <td>christi.nicolay@enron.com</td>\n",
       "      <td>phillip.allen@enron.com</td>\n",
       "      <td>Tue, 12 Dec 2000 04:41:00 -0800 (PST)</td>\n",
       "      <td>976624860.0</td>\n",
       "      <td>allen-p/notes_inbox/36.</td>\n",
       "    </tr>\n",
       "    <tr>\n",
       "      <th>1</th>\n",
       "      <td>allen-p</td>\n",
       "      <td>yild@zdemail.zdlists.com</td>\n",
       "      <td>pallen@enron.com</td>\n",
       "      <td>Wed, 13 Dec 2000 08:11:00 -0800 (PST)</td>\n",
       "      <td>976723860.0</td>\n",
       "      <td>allen-p/notes_inbox/19.</td>\n",
       "    </tr>\n",
       "    <tr>\n",
       "      <th>2</th>\n",
       "      <td>allen-p</td>\n",
       "      <td>lisa.jacobson@enron.com</td>\n",
       "      <td>lisa.jacobson@enron.com, kevin.mcgowan@enron.c...</td>\n",
       "      <td>Thu, 10 May 2001 06:05:00 -0700 (PDT)</td>\n",
       "      <td>989499900.0</td>\n",
       "      <td>allen-p/notes_inbox/50.</td>\n",
       "    </tr>\n",
       "  </tbody>\n",
       "</table>\n",
       "</div>"
      ],
      "text/plain": [
       "      user                       From                                                 To                                   date    timestamp                     file\n",
       "0  allen-p  christi.nicolay@enron.com                            phillip.allen@enron.com  Tue, 12 Dec 2000 04:41:00 -0800 (PST)  976624860.0  allen-p/notes_inbox/36.\n",
       "1  allen-p   yild@zdemail.zdlists.com                                   pallen@enron.com  Wed, 13 Dec 2000 08:11:00 -0800 (PST)  976723860.0  allen-p/notes_inbox/19.\n",
       "2  allen-p    lisa.jacobson@enron.com  lisa.jacobson@enron.com, kevin.mcgowan@enron.c...  Thu, 10 May 2001 06:05:00 -0700 (PDT)  989499900.0  allen-p/notes_inbox/50."
      ]
     },
     "execution_count": 2,
     "metadata": {},
     "output_type": "execute_result"
    }
   ],
   "source": [
    "df = pd.read_csv('enron_dataset_raw.csv', encoding='utf-8', index_col=0)\n",
    "\n",
    "print(df.shape) # Shape: (517401, 13)"
   ]
  },
  {
   "cell_type": "markdown",
   "metadata": {},
   "source": [
    "#### Filter columns"
   ]
  },
  {
   "cell_type": "code",
   "execution_count": 7,
   "metadata": {},
   "outputs": [
    {
     "data": {
      "text/html": [
       "<div>\n",
       "<style scoped>\n",
       "    .dataframe tbody tr th:only-of-type {\n",
       "        vertical-align: middle;\n",
       "    }\n",
       "\n",
       "    .dataframe tbody tr th {\n",
       "        vertical-align: top;\n",
       "    }\n",
       "\n",
       "    .dataframe thead th {\n",
       "        text-align: right;\n",
       "    }\n",
       "</style>\n",
       "<table border=\"1\" class=\"dataframe\">\n",
       "  <thead>\n",
       "    <tr style=\"text-align: right;\">\n",
       "      <th></th>\n",
       "      <th>user</th>\n",
       "      <th>From</th>\n",
       "      <th>To</th>\n",
       "      <th>date</th>\n",
       "      <th>file</th>\n",
       "      <th>timestamp</th>\n",
       "    </tr>\n",
       "  </thead>\n",
       "  <tbody>\n",
       "    <tr>\n",
       "      <th>0</th>\n",
       "      <td>allen-p</td>\n",
       "      <td>christi.nicolay@enron.com</td>\n",
       "      <td>phillip.allen@enron.com</td>\n",
       "      <td>Tue, 12 Dec 2000 04:41:00 -0800 (PST)</td>\n",
       "      <td>allen-p/notes_inbox/36.</td>\n",
       "      <td>976624860.0</td>\n",
       "    </tr>\n",
       "    <tr>\n",
       "      <th>1</th>\n",
       "      <td>allen-p</td>\n",
       "      <td>lisa.jacobson@enron.com</td>\n",
       "      <td>lisa.jacobson@enron.com, kevin.mcgowan@enron.c...</td>\n",
       "      <td>Thu, 10 May 2001 06:05:00 -0700 (PDT)</td>\n",
       "      <td>allen-p/notes_inbox/50.</td>\n",
       "      <td>989499900.0</td>\n",
       "    </tr>\n",
       "    <tr>\n",
       "      <th>2</th>\n",
       "      <td>allen-p</td>\n",
       "      <td>rebecca.cantrell@enron.com</td>\n",
       "      <td>stephanie.miller@enron.com, ruth.concannon@enr...</td>\n",
       "      <td>Wed, 13 Dec 2000 08:22:00 -0800 (PST)</td>\n",
       "      <td>allen-p/notes_inbox/9.</td>\n",
       "      <td>976724520.0</td>\n",
       "    </tr>\n",
       "  </tbody>\n",
       "</table>\n",
       "</div>"
      ],
      "text/plain": [
       "      user                        From                                                 To                                   date                     file    timestamp\n",
       "0  allen-p   christi.nicolay@enron.com                            phillip.allen@enron.com  Tue, 12 Dec 2000 04:41:00 -0800 (PST)  allen-p/notes_inbox/36.  976624860.0\n",
       "1  allen-p     lisa.jacobson@enron.com  lisa.jacobson@enron.com, kevin.mcgowan@enron.c...  Thu, 10 May 2001 06:05:00 -0700 (PDT)  allen-p/notes_inbox/50.  989499900.0\n",
       "2  allen-p  rebecca.cantrell@enron.com  stephanie.miller@enron.com, ruth.concannon@enr...  Wed, 13 Dec 2000 08:22:00 -0800 (PST)   allen-p/notes_inbox/9.  976724520.0"
      ]
     },
     "execution_count": 7,
     "metadata": {},
     "output_type": "execute_result"
    }
   ],
   "source": [
    "df = df[['user', 'From', 'To', 'date', 'file', 'timestamp']]\n",
    "df.head(3)"
   ]
  },
  {
   "cell_type": "markdown",
   "metadata": {},
   "source": [
    "#### Remove invalid emails\n",
    "\n",
    "Remove invalid emails with missing `From`/`To` field."
   ]
  },
  {
   "cell_type": "code",
   "execution_count": 4,
   "metadata": {},
   "outputs": [
    {
     "name": "stdout",
     "output_type": "stream",
     "text": [
      "495554 messages (95.8%) have valid fields.\n"
     ]
    }
   ],
   "source": [
    "valid_msg_mask = ~df.From.isnull() & ~df.To.isnull()\n",
    "print(f\"{sum(valid_msg_mask)} messages ({100*sum(valid_msg_mask)/len(valid_msg_mask):.1f}%) have valid fields.\")\n",
    "df = df[valid_msg_mask]\n",
    "df = df.reset_index(drop=True)"
   ]
  },
  {
   "cell_type": "markdown",
   "metadata": {},
   "source": [
    "#### Remove sent from outside Enron\n",
    "\n",
    "Remove emails From emails outside of `@enron.com`."
   ]
  },
  {
   "cell_type": "code",
   "execution_count": 5,
   "metadata": {
    "scrolled": true
   },
   "outputs": [
    {
     "name": "stdout",
     "output_type": "stream",
     "text": [
      "410603 messages (82.9%) have valid fields.\n"
     ]
    }
   ],
   "source": [
    "valid_msg_mask = df.From.apply(lambda s: '@enron.com' in s)\n",
    "print(f\"{sum(valid_msg_mask)} messages ({100*sum(valid_msg_mask)/len(valid_msg_mask):.1f}%) have valid fields.\")\n",
    "df = df[valid_msg_mask]\n",
    "df = df.reset_index(drop=True)"
   ]
  },
  {
   "cell_type": "markdown",
   "metadata": {},
   "source": [
    "#### Split emails by receivers\n",
    "\n",
    "Split emails `To` fields into separate emails. This is necessary to subsequently group them by receiver address."
   ]
  },
  {
   "cell_type": "code",
   "execution_count": 10,
   "metadata": {},
   "outputs": [],
   "source": [
    "def split_to_field(row):\n",
    "    addr_list = row.To.split(',')\n",
    "    data = list()\n",
    "    for i, addr in enumerate(addr_list):\n",
    "        addr = addr.strip()\n",
    "        clean_row = row.copy()\n",
    "        clean_row['To'] = addr\n",
    "        data.append(clean_row)\n",
    "    return data"
   ]
  },
  {
   "cell_type": "code",
   "execution_count": 11,
   "metadata": {},
   "outputs": [
    {
     "name": "stdout",
     "output_type": "stream",
     "text": [
      "Iter 510,000/410,603: 2,587,300 emails processed\n"
     ]
    }
   ],
   "source": [
    "# Process the messages by chunk in a separate and save each chunk (to avoid memory issues)\n",
    "data = list()\n",
    "chunk_idx = 0\n",
    "tot_count = 0\n",
    "\n",
    "for i, row in df.iterrows():\n",
    "    data.extend(split_to_field(row))\n",
    "    \n",
    "    # Save chunk\n",
    "    if ((i+1) % 10000) == 0:\n",
    "        tot_count += len(data)\n",
    "        print(f\"\\rIter {i+1:,d}/{len(df):,d}: {tot_count:,d} emails processed\", end=\"\")\n",
    "        \n",
    "        # Save chunk to file\n",
    "        clean_df = pd.DataFrame(data)\n",
    "        clean_df.to_csv(f'enron_dataset_splitted_receivers_{chunk_idx:d}.csv', encoding='utf-8')\n",
    "        chunk_idx += 1\n",
    "        \n",
    "        # Reset data\n",
    "        data = list()\n",
    "print()"
   ]
  },
  {
   "cell_type": "code",
   "execution_count": null,
   "metadata": {},
   "outputs": [],
   "source": [
    "del df  # Delete raw dataframe to free up memory"
   ]
  },
  {
   "cell_type": "markdown",
   "metadata": {},
   "source": [
    "Merge all chunks"
   ]
  },
  {
   "cell_type": "code",
   "execution_count": 20,
   "metadata": {},
   "outputs": [],
   "source": [
    "all_data = []\n",
    "for file in glob.glob('enron_dataset_splitted_receivers_*.csv'):\n",
    "    chunk_df = pd.read_csv(file, encoding='utf-8', index_col=0)\n",
    "    chunk_df = chunk_df[['user', 'From', 'To', 'date', 'file', 'timestamp']]\n",
    "    all_data.append(chunk_df)\n",
    "    \n",
    "clean_df = pd.concat(all_data)\n",
    "clean_df = clean_df.sort_values(by=['To', 'timestamp'])\n",
    "clean_df = clean_df.reset_index(drop=True)"
   ]
  },
  {
   "cell_type": "markdown",
   "metadata": {},
   "source": [
    "Final cleaning step: Remove a few bogus email dated in 1979."
   ]
  },
  {
   "cell_type": "code",
   "execution_count": 63,
   "metadata": {},
   "outputs": [],
   "source": [
    "from datetime import datetime\n",
    "from pytz import timezone\n",
    "clean_df['date'] = pd.to_datetime(clean_df['date'])\n",
    "clean_df = clean_df.loc[clean_df.date > datetime(2000, 1, 1, tzinfo=timezone('US/Pacific'))]\n",
    "print(clean_df.shape)"
   ]
  },
  {
   "cell_type": "markdown",
   "metadata": {},
   "source": [
    "Move timestamp origin to Jan 1, 2000."
   ]
  },
  {
   "cell_type": "code",
   "execution_count": 83,
   "metadata": {
    "scrolled": true
   },
   "outputs": [
    {
     "name": "stdout",
     "output_type": "stream",
     "text": [
      "First email sent: 2000-01-01 06:36:00-08:00\n",
      "Last emil sent: 2002-07-12 04:36:00-07:00\n"
     ]
    },
    {
     "data": {
      "text/plain": [
       "count    2.554822e+06\n",
       "mean     4.594968e+02\n",
       "std      1.837847e+02\n",
       "min      2.798611e-01\n",
       "25%      3.313931e+02\n",
       "50%      4.544507e+02\n",
       "75%      6.395620e+02\n",
       "max      9.231549e+02\n",
       "Name: timestamp, dtype: float64"
      ]
     },
     "execution_count": 83,
     "metadata": {},
     "output_type": "execute_result"
    }
   ],
   "source": [
    "print('First email sent:', clean_df['date'].min())\n",
    "print('Last emil sent:', clean_df['date'].max())\n",
    "\n",
    "orig_timestamp = datetime(2000, 1, 1, 0, 0, 0, tzinfo=timezone('US/Pacific')).timestamp()\n",
    "clean_df['timestamp'] -= orig_timestamp\n",
    "\n",
    "# Show stats of timestamps in days (max should be around 923 days ~ 2.5 yeas)\n",
    "(clean_df['timestamp'] / (3600 * 24)).describe()"
   ]
  },
  {
   "cell_type": "markdown",
   "metadata": {},
   "source": [
    "Remove duplicates (due to copied emails in several folders in the raw dataset)"
   ]
  },
  {
   "cell_type": "code",
   "execution_count": 31,
   "metadata": {},
   "outputs": [
    {
     "name": "stdout",
     "output_type": "stream",
     "text": [
      "(844680, 6)\n"
     ]
    }
   ],
   "source": [
    "index_with_duplicated = clean_df[['To', 'timestamp']].drop_duplicates().index\n",
    "clean_df = clean_df.loc[index_with_duplicated]\n",
    "print(clean_df.shape)"
   ]
  },
  {
   "cell_type": "markdown",
   "metadata": {},
   "source": [
    "Save the clean dataframe"
   ]
  },
  {
   "cell_type": "code",
   "execution_count": 33,
   "metadata": {},
   "outputs": [],
   "source": [
    "clean_df = clean_df[['user', 'From', 'To', 'date', 'file', 'timestamp']]\n",
    "\n",
    "DATA_DIR = '../../../data/enron/'\n",
    "\n",
    "# Save to csv with header\n",
    "clean_df.to_csv(os.path.join(DATA_DIR, 'enron_dataset_splitted_receivers.csv'), encoding='utf-8')\n",
    "\n",
    "# Save it without header/index in .csv.gz to match format for tsvar.preprocessing.Dataset\n",
    "clean_df[['From', 'To', 'timestamp']].to_csv(os.path.join(DATA_DIR, 'enron_dataset_splitted_receivers.csv.gz'), \n",
    "                                             encoding='utf-8', header=False, index=False, \n",
    "                                             compression='gzip')"
   ]
  },
  {
   "cell_type": "markdown",
   "metadata": {},
   "source": [
    "## Step 3: Quick Exploration"
   ]
  },
  {
   "cell_type": "code",
   "execution_count": 15,
   "metadata": {},
   "outputs": [],
   "source": [
    "from matplotlib import pyplot as plt\n",
    "%matplotlib inline"
   ]
  },
  {
   "cell_type": "code",
   "execution_count": 35,
   "metadata": {},
   "outputs": [],
   "source": [
    "DATA_DIR = '../../../data/enron/'"
   ]
  },
  {
   "cell_type": "markdown",
   "metadata": {},
   "source": [
    "#### Investigate the whole dataset"
   ]
  },
  {
   "cell_type": "code",
   "execution_count": 36,
   "metadata": {},
   "outputs": [],
   "source": [
    "clean_df = pd.read_csv(os.path.join(DATA_DIR, 'enron_dataset_splitted_receivers.csv'), encoding='utf-8', index_col=0)"
   ]
  },
  {
   "cell_type": "markdown",
   "metadata": {},
   "source": [
    "Quick look at the data"
   ]
  },
  {
   "cell_type": "code",
   "execution_count": 37,
   "metadata": {
    "scrolled": true
   },
   "outputs": [
    {
     "name": "stdout",
     "output_type": "stream",
     "text": [
      "<class 'pandas.core.frame.DataFrame'>\n",
      "Int64Index: 844680 entries, 0 to 2587299\n",
      "Data columns (total 6 columns):\n",
      "user         844680 non-null object\n",
      "From         844680 non-null object\n",
      "To           844680 non-null object\n",
      "date         844680 non-null object\n",
      "file         844680 non-null object\n",
      "timestamp    844680 non-null float64\n",
      "dtypes: float64(1), object(5)\n",
      "memory usage: 45.1+ MB\n"
     ]
    }
   ],
   "source": [
    "clean_df.info()"
   ]
  },
  {
   "cell_type": "code",
   "execution_count": 38,
   "metadata": {
    "scrolled": false
   },
   "outputs": [
    {
     "data": {
      "text/html": [
       "<div>\n",
       "<style scoped>\n",
       "    .dataframe tbody tr th:only-of-type {\n",
       "        vertical-align: middle;\n",
       "    }\n",
       "\n",
       "    .dataframe tbody tr th {\n",
       "        vertical-align: top;\n",
       "    }\n",
       "\n",
       "    .dataframe thead th {\n",
       "        text-align: right;\n",
       "    }\n",
       "</style>\n",
       "<table border=\"1\" class=\"dataframe\">\n",
       "  <thead>\n",
       "    <tr style=\"text-align: right;\">\n",
       "      <th></th>\n",
       "      <th>user</th>\n",
       "      <th>From</th>\n",
       "      <th>To</th>\n",
       "      <th>date</th>\n",
       "      <th>file</th>\n",
       "      <th>timestamp</th>\n",
       "    </tr>\n",
       "  </thead>\n",
       "  <tbody>\n",
       "    <tr>\n",
       "      <th>0</th>\n",
       "      <td>arnold-j</td>\n",
       "      <td>a..roberts@enron.com</td>\n",
       "      <td>#2.martin@enron.com</td>\n",
       "      <td>2001-10-11 07:25:19-07:00</td>\n",
       "      <td>arnold-j/deleted_items/356.</td>\n",
       "      <td>56097139.0</td>\n",
       "    </tr>\n",
       "    <tr>\n",
       "      <th>4</th>\n",
       "      <td>arnold-j</td>\n",
       "      <td>a..roberts@enron.com</td>\n",
       "      <td>#2.martin@enron.com</td>\n",
       "      <td>2001-11-17 06:59:24-08:00</td>\n",
       "      <td>arnold-j/deleted_items/768.</td>\n",
       "      <td>59295984.0</td>\n",
       "    </tr>\n",
       "    <tr>\n",
       "      <th>18</th>\n",
       "      <td>arnold-j</td>\n",
       "      <td>a..roberts@enron.com</td>\n",
       "      <td>#2.martin@enron.com</td>\n",
       "      <td>2001-11-18 06:03:52-08:00</td>\n",
       "      <td>arnold-j/deleted_items/618.</td>\n",
       "      <td>59379052.0</td>\n",
       "    </tr>\n",
       "    <tr>\n",
       "      <th>32</th>\n",
       "      <td>kaminski-v</td>\n",
       "      <td>a..roberts@enron.com</td>\n",
       "      <td>#2.martin@enron.com</td>\n",
       "      <td>2002-01-18 05:21:12-08:00</td>\n",
       "      <td>kaminski-v/deleted_items/344.</td>\n",
       "      <td>64646892.0</td>\n",
       "    </tr>\n",
       "    <tr>\n",
       "      <th>35</th>\n",
       "      <td>saibi-e</td>\n",
       "      <td>bob.ambrocik@enron.com</td>\n",
       "      <td>#23.training@enron.com</td>\n",
       "      <td>2001-09-28 15:03:25-07:00</td>\n",
       "      <td>saibi-e/inbox/527.</td>\n",
       "      <td>55001425.0</td>\n",
       "    </tr>\n",
       "  </tbody>\n",
       "</table>\n",
       "</div>"
      ],
      "text/plain": [
       "          user                    From                      To                       date                           file   timestamp\n",
       "0     arnold-j    a..roberts@enron.com     #2.martin@enron.com  2001-10-11 07:25:19-07:00    arnold-j/deleted_items/356.  56097139.0\n",
       "4     arnold-j    a..roberts@enron.com     #2.martin@enron.com  2001-11-17 06:59:24-08:00    arnold-j/deleted_items/768.  59295984.0\n",
       "18    arnold-j    a..roberts@enron.com     #2.martin@enron.com  2001-11-18 06:03:52-08:00    arnold-j/deleted_items/618.  59379052.0\n",
       "32  kaminski-v    a..roberts@enron.com     #2.martin@enron.com  2002-01-18 05:21:12-08:00  kaminski-v/deleted_items/344.  64646892.0\n",
       "35     saibi-e  bob.ambrocik@enron.com  #23.training@enron.com  2001-09-28 15:03:25-07:00             saibi-e/inbox/527.  55001425.0"
      ]
     },
     "execution_count": 38,
     "metadata": {},
     "output_type": "execute_result"
    }
   ],
   "source": [
    "clean_df.head()"
   ]
  },
  {
   "cell_type": "code",
   "execution_count": 39,
   "metadata": {},
   "outputs": [
    {
     "data": {
      "text/plain": [
       "24180.0"
      ]
     },
     "execution_count": 39,
     "metadata": {},
     "output_type": "execute_result"
    }
   ],
   "source": [
    "clean_df.timestamp.min()"
   ]
  },
  {
   "cell_type": "code",
   "execution_count": 40,
   "metadata": {},
   "outputs": [
    {
     "data": {
      "text/plain": [
       "79760580.0"
      ]
     },
     "execution_count": 40,
     "metadata": {},
     "output_type": "execute_result"
    }
   ],
   "source": [
    "clean_df.timestamp.max()"
   ]
  },
  {
   "cell_type": "markdown",
   "metadata": {},
   "source": [
    "Group by receiver to generate temporal point process"
   ]
  },
  {
   "cell_type": "code",
   "execution_count": 41,
   "metadata": {},
   "outputs": [],
   "source": [
    "tpp_df = clean_df.groupby('To').agg({'From': list, 'timestamp': list})"
   ]
  },
  {
   "cell_type": "code",
   "execution_count": 42,
   "metadata": {},
   "outputs": [],
   "source": [
    "tpp_df['Count'] = tpp_df.From.apply(len)"
   ]
  },
  {
   "cell_type": "markdown",
   "metadata": {},
   "source": [
    "Histogram of number of emails received per user"
   ]
  },
  {
   "cell_type": "code",
   "execution_count": 43,
   "metadata": {},
   "outputs": [
    {
     "data": {
      "image/png": "[encoded data removed]",
      "text/plain": [
       "<Figure size 432x288 with 1 Axes>"
      ]
     },
     "metadata": {
      "needs_background": "light"
     },
     "output_type": "display_data"
    }
   ],
   "source": [
    "y = np.bincount(tpp_df['Count'])\n",
    "x = np.arange(len(y))\n",
    "\n",
    "plt.loglog(x,y)\n",
    "plt.xlabel('Number emails received')\n",
    "plt.ylabel('Number of users');"
   ]
  },
  {
   "cell_type": "markdown",
   "metadata": {},
   "source": [
    "#### Investigate top-100 dataset"
   ]
  },
  {
   "cell_type": "code",
   "execution_count": 44,
   "metadata": {
    "scrolled": true
   },
   "outputs": [],
   "source": [
    "from tsvar.preprocessing import Dataset\n",
    "dataset = Dataset(path=os.path.join(DATA_DIR, 'enron_dataset_splitted_receivers.csv.gz'), top=100, timescale='median')"
   ]
  },
  {
   "cell_type": "markdown",
   "metadata": {},
   "source": [
    "Number of users"
   ]
  },
  {
   "cell_type": "code",
   "execution_count": 45,
   "metadata": {},
   "outputs": [
    {
     "data": {
      "text/plain": [
       "100"
      ]
     },
     "execution_count": 45,
     "metadata": {},
     "output_type": "execute_result"
    }
   ],
   "source": [
    "dataset.dim"
   ]
  },
  {
   "cell_type": "markdown",
   "metadata": {},
   "source": [
    "Number of messages"
   ]
  },
  {
   "cell_type": "code",
   "execution_count": 46,
   "metadata": {},
   "outputs": [
    {
     "data": {
      "text/plain": [
       "51060"
      ]
     },
     "execution_count": 46,
     "metadata": {},
     "output_type": "execute_result"
    }
   ],
   "source": [
    "sum(map(len, dataset.timestamps))"
   ]
  },
  {
   "cell_type": "code",
   "execution_count": 47,
   "metadata": {
    "scrolled": true
   },
   "outputs": [
    {
     "data": {
      "text/plain": [
       "7"
      ]
     },
     "execution_count": 47,
     "metadata": {},
     "output_type": "execute_result"
    }
   ],
   "source": [
    "min(map(len, dataset.timestamps))"
   ]
  },
  {
   "cell_type": "code",
   "execution_count": 48,
   "metadata": {},
   "outputs": [
    {
     "data": {
      "text/plain": [
       "3527"
      ]
     },
     "execution_count": 48,
     "metadata": {},
     "output_type": "execute_result"
    }
   ],
   "source": [
    "max(map(len, dataset.timestamps))"
   ]
  },
  {
   "cell_type": "markdown",
   "metadata": {},
   "source": [
    "Histogram of number of emails received per user"
   ]
  },
  {
   "cell_type": "code",
   "execution_count": 49,
   "metadata": {
    "scrolled": false
   },
   "outputs": [
    {
     "data": {
      "image/png": "[encoded data removed]",
      "text/plain": [
       "<Figure size 1296x252 with 3 Axes>"
      ]
     },
     "metadata": {
      "needs_background": "light"
     },
     "output_type": "display_data"
    }
   ],
   "source": [
    "fig, axs = plt.subplots(1, 3, figsize=(18, 3.5))\n",
    "\n",
    "axs[0].hist(list(map(len, dataset.timestamps)))\n",
    "axs[0].set_xlabel('Number of events \\n in each dim')\n",
    "\n",
    "end_time = max(map(max, dataset.timestamps))\n",
    "axs[1].hist(list(map(min, dataset.timestamps)), bins=np.linspace(0, end_time, 20))\n",
    "axs[1].set_xlabel('First of event \\n in each dim')\n",
    "\n",
    "axs[2].hist(list(map(max, dataset.timestamps)), bins=np.linspace(0, end_time, 20))\n",
    "axs[2].set_xlabel('Last of events \\n in each dim');"
   ]
  },
  {
   "cell_type": "code",
   "execution_count": null,
   "metadata": {},
   "outputs": [],
   "source": []
  }
 ],
 "metadata": {
  "kernelspec": {
   "display_name": "Python 3",
   "language": "python",
   "name": "python3"
  },
  "language_info": {
   "codemirror_mode": {
    "name": "ipython",
    "version": 3
   },
   "file_extension": ".py",
   "mimetype": "text/x-python",
   "name": "python",
   "nbconvert_exporter": "python",
   "pygments_lexer": "ipython3",
   "version": "3.6.10"
  }
 },
 "nbformat": 4,
 "nbformat_minor": 2
}

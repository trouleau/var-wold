{
 "cells": [
  {
   "cell_type": "code",
   "execution_count": null,
   "metadata": {
    "scrolled": true
   },
   "outputs": [],
   "source": [
    "%load_ext autoreload\n",
    "%autoreload 2"
   ]
  },
  {
   "cell_type": "code",
   "execution_count": null,
   "metadata": {},
   "outputs": [],
   "source": [
    "import os\n",
    "import glob\n",
    "import json\n",
    "import torch\n",
    "import numpy as np\n",
    "import pandas as pd\n",
    "\n",
    "import matplotlib\n",
    "import matplotlib.ticker as ticker\n",
    "from matplotlib.backends.backend_pgf import FigureCanvasPgf\n",
    "from matplotlib import pyplot as plt\n",
    "%matplotlib inline\n",
    "\n",
    "import gb\n",
    "\n",
    "import tsvar\n",
    "tsvar.plotting.set_aistat_matplotib_rcparams()"
   ]
  },
  {
   "cell_type": "code",
   "execution_count": null,
   "metadata": {},
   "outputs": [],
   "source": [
    "def build_Id(row):\n",
    "    return os.path.join(os.path.split(row['expId'])[1], row['outputIdx'])"
   ]
  },
  {
   "cell_type": "markdown",
   "metadata": {},
   "source": [
    "## Choose and Load Experiment"
   ]
  },
  {
   "cell_type": "code",
   "execution_count": null,
   "metadata": {},
   "outputs": [],
   "source": [
    "from script_run_exp_vi_varying_prior import build_prior_dict_arr\n",
    "\n",
    "prior_df = pd.DataFrame(build_prior_dict_arr(N=20))\n",
    "prior_df['a_mean'] = prior_df['as_pr'] / prior_df['ar_pr']\n",
    "prior_df['a_var'] = prior_df['as_pr'] / (prior_df['ar_pr'] ** 2)\n",
    "prior_df['b_mean'] = prior_df['br_pr'] / (prior_df['bs_pr'] - 1)\n",
    "prior_df['b_var'] = (prior_df['br_pr'] ** 2) / ((prior_df['bs_pr'] - 1) ** 2 * (prior_df['bs_pr'] - 2))\n",
    "prior_df"
   ]
  },
  {
   "cell_type": "code",
   "execution_count": null,
   "metadata": {},
   "outputs": [],
   "source": [
    "EXP_DIR = \"../output/aistats-rebuttal/varyingPrior-dim10/\"\n",
    "output_df = tsvar.plotting.load_outputs(exp_dir=EXP_DIR)\n",
    "\n",
    "output_df['prior_idx'] = output_df['outputIdx'].apply(lambda fname: int(fname.rstrip('.json').split('-')[-1]))\n",
    "output_df = pd.merge(output_df, prior_df, left_on='prior_idx', right_index=True)\n",
    "\n",
    "assert np.all(output_df['vi_as_pr'] == output_df['as_pr'])\n",
    "assert np.all(output_df['vi_ar_pr'] == output_df['ar_pr'])\n",
    "assert np.all(output_df['vi_bs_pr'] == output_df['bs_pr'])\n",
    "assert np.all(output_df['vi_br_pr'] == output_df['br_pr'])\n",
    "\n",
    "print(output_df.shape)\n",
    "#output_df.head()"
   ]
  },
  {
   "cell_type": "markdown",
   "metadata": {},
   "source": [
    "---"
   ]
  },
  {
   "cell_type": "markdown",
   "metadata": {},
   "source": [
    "Process dataframe for plot"
   ]
  },
  {
   "cell_type": "code",
   "execution_count": null,
   "metadata": {
    "scrolled": false
   },
   "outputs": [],
   "source": [
    "suf_col_dict = {\n",
    "    'vi': 'vi_adj_mean',\n",
    "    #'vi': 'vi_adj_mode',\n",
    "}\n",
    "\n",
    "augmented_output_df = tsvar.plotting.make_plot_df(output_df, suf_col_dict, agg_col=None, threshold=0.05)"
   ]
  },
  {
   "cell_type": "code",
   "execution_count": null,
   "metadata": {},
   "outputs": [],
   "source": [
    "plot_df = augmented_output_df.groupby(['a_var', 'b_var']).agg({\n",
    "    'relerr_vi': 'mean',\n",
    "    'log_relerr_vi': 'mean',\n",
    "    'pr_auc_vi': 'mean',\n",
    "    'precAt10_vi': 'mean'\n",
    "})"
   ]
  },
  {
   "cell_type": "code",
   "execution_count": null,
   "metadata": {},
   "outputs": [],
   "source": [
    "plot_df"
   ]
  },
  {
   "cell_type": "code",
   "execution_count": null,
   "metadata": {
    "scrolled": false
   },
   "outputs": [],
   "source": [
    "plot_meta_data = [\n",
    "    ('relerr_vi', 'Relative Error', np.arange(0.08, 0.20, 0.02)),\n",
    "    ('pr_auc_vi', 'PR-AUC',         np.arange(0.95, 1.05, 0.05)),\n",
    "    ('precAt10_vi', 'Precision@10', np.arange(0.95, 1.05, 0.05)),\n",
    "]\n",
    "\n",
    "exp_name = EXP_DIR.rstrip(os.path.sep).split(os.path.sep)[-1]\n",
    "output_dir = os.path.join('/Users/trouleau/Desktop/', exp_name)\n",
    "if not os.path.exists(output_dir):\n",
    "    os.mkdir(output_dir)\n",
    "\n",
    "\n",
    "for col, label, cbar_ticks in plot_meta_data:\n",
    "    print(label)\n",
    "    print(cbar_ticks)\n",
    "    \n",
    "    plt.figure(figsize=(1.75 * 4/3, 1.75))\n",
    "    \n",
    "    plot_mat = plot_df[col].unstack()\n",
    "\n",
    "    xarr = np.tile(plot_mat.index, (len(plot_mat.columns), 1)).T  # alpha var value\n",
    "    yarr = np.tile(plot_mat.columns, (len(plot_mat.index), 1))    # beta var value\n",
    "    carr = np.array(plot_mat.fillna(plot_mat.mean().mean()))\n",
    "    \n",
    "    print(carr)\n",
    "    \n",
    "    plt.pcolor(xarr, yarr, carr, cmap='plasma', vmin=cbar_ticks[0], vmax=cbar_ticks[-1])\n",
    "    plt.colorbar(ticks=cbar_ticks)\n",
    "    plt.yscale('log')\n",
    "    plt.xscale('log')\n",
    "    plt.xlabel(r\"Variance of $\\{\\alpha_{k',k}\\}$\")\n",
    "    plt.ylabel(r\"Variance of $\\{\\beta_{k',k}\\}$\")\n",
    "    # plt.title(label)\n",
    "    # plt.text(0.1, 0.1, s=r'$\\times$', color='red')\n",
    "    plt.tight_layout()\n",
    "    plt.savefig(os.path.join(output_dir, f'fig-{exp_name}-{col}.pdf'))"
   ]
  },
  {
   "cell_type": "code",
   "execution_count": null,
   "metadata": {},
   "outputs": [],
   "source": []
  }
 ],
 "metadata": {
  "kernelspec": {
   "display_name": "Python 3",
   "language": "python",
   "name": "python3"
  },
  "language_info": {
   "codemirror_mode": {
    "name": "ipython",
    "version": 3
   },
   "file_extension": ".py",
   "mimetype": "text/x-python",
   "name": "python",
   "nbconvert_exporter": "python",
   "pygments_lexer": "ipython3",
   "version": "3.6.10"
  }
 },
 "nbformat": 4,
 "nbformat_minor": 4
}

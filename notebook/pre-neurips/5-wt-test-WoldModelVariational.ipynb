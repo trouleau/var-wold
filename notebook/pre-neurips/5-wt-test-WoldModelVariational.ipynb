{
 "cells": [
  {
   "cell_type": "markdown",
   "metadata": {},
   "source": [
    "# Test Variational Inference algorithms for Wold processes\n",
    "\n",
    "In this notebook, we test the various variational inference (VI) algorithms implemented for the multivariate Wold process. Namely:\n",
    "\n",
    "* `WoldModelVariational`: VI with parameters $\\alpha$ and $\\beta$\n",
    "* `WoldModelVariationalFixedBeta`: VI with parameters $\\alpha$ only ($\\beta$ are fixed hyper-parameters)\n",
    "\n",
    "---"
   ]
  },
  {
   "cell_type": "markdown",
   "metadata": {},
   "source": [
    "Load extensions for debugging"
   ]
  },
  {
   "cell_type": "code",
   "execution_count": 1,
   "metadata": {},
   "outputs": [],
   "source": [
    "%load_ext autoreload\n",
    "%autoreload 2\n",
    "\n",
    "%load_ext line_profiler"
   ]
  },
  {
   "cell_type": "markdown",
   "metadata": {},
   "source": [
    "Import the libraries of interest for this notebook"
   ]
  },
  {
   "cell_type": "code",
   "execution_count": 2,
   "metadata": {},
   "outputs": [],
   "source": [
    "from matplotlib import pyplot as plt\n",
    "%matplotlib inline\n",
    "\n",
    "import itertools\n",
    "import torch\n",
    "import numpy as np\n",
    "\n",
    "# Set numpy print format\n",
    "np.set_printoptions(precision=2, floatmode='fixed', sign=' ')\n",
    "\n",
    "import tsvar"
   ]
  },
  {
   "cell_type": "markdown",
   "metadata": {},
   "source": [
    "---\n",
    "\n",
    "## Generate small toy example dataset\n"
   ]
  },
  {
   "cell_type": "code",
   "execution_count": 3,
   "metadata": {},
   "outputs": [
    {
     "name": "stdout",
     "output_type": "stream",
     "text": [
      "  - Simulate lots of data...\n",
      "    - Simulated 50,000 events with end time: 50000.0\n",
      "    - Events:\n",
      "      - dim 0: tensor([5.3977e+00, 7.1193e+00, 7.3136e+00,  ..., 4.3349e+04, 4.3350e+04,\n",
      "        4.3357e+04])\n",
      "      - dim 1: tensor([1.8407e+01, 2.2158e+01, 2.2301e+01,  ..., 4.3358e+04, 4.3358e+04,\n",
      "        4.3360e+04])\n"
     ]
    }
   ],
   "source": [
    "# Define random parameters\n",
    "dim = 2  # Dimensionality of the process\n",
    "end_time = 5e4  # Choose a long observation window\n",
    "mu = torch.tensor([0.3, 0.1])\n",
    "beta = torch.tensor([\n",
    "    [1.0, 0.2],\n",
    "    [0.5, 0.1]\n",
    "])\n",
    "# Use the same constraint as GrangerBusca to allow fair comparison\n",
    "alpha = torch.tensor([\n",
    "    [0.7, 0.3],\n",
    "    [0.0, 1.0]\n",
    "])\n",
    "coeffs_true = torch.cat((mu, beta.flatten(), alpha.flatten())).numpy()\n",
    "print('  - Simulate lots of data...')\n",
    "# Simulate lots of data\n",
    "wold_sim = tsvar.simulate.MultivariateWoldSimulator(\n",
    "    mu_a=mu, alpha_ba=alpha, beta_ba=beta)\n",
    "events = wold_sim.simulate(max_jumps=50e3, seed=4243)\n",
    "events = [torch.tensor(ev, dtype=torch.float) for ev in events]\n",
    "print((f\"    - Simulated {sum(map(len, events)):,d} events \"\n",
    "       f\"with end time: {end_time}\"))\n",
    "print(\"    - Events:\")\n",
    "print(\"      - dim 0:\", events[0])\n",
    "print(\"      - dim 1:\", events[1])"
   ]
  },
  {
   "cell_type": "markdown",
   "metadata": {},
   "source": [
    "---\n",
    "\n",
    "## Test Mean-Field VI with Fixed $\\{\\beta\\}$s using `WoldModelVariationalFixedBeta`"
   ]
  },
  {
   "cell_type": "markdown",
   "metadata": {},
   "source": [
    "Define the model object."
   ]
  },
  {
   "cell_type": "code",
   "execution_count": null,
   "metadata": {},
   "outputs": [],
   "source": [
    "beta_ji_plus_one = np.repeat(beta[:,np.newaxis], dim, axis=1) + 1\n",
    "beta_ji_plus_one = np.vstack((np.zeros(dim), beta_ji_plus_one))\n",
    "beta_ji_plus_one"
   ]
  },
  {
   "cell_type": "code",
   "execution_count": null,
   "metadata": {},
   "outputs": [],
   "source": [
    "model_fixed_beta = tsvar.models.WoldModelVariationalFixedBeta(verbose=True)\n",
    "model_fixed_beta.observe(events, beta=beta_ji_plus_one)"
   ]
  },
  {
   "cell_type": "markdown",
   "metadata": {},
   "source": [
    "Set the hyper-parameters and fit the model."
   ]
  },
  {
   "cell_type": "code",
   "execution_count": null,
   "metadata": {},
   "outputs": [],
   "source": [
    "as_pr = 1.0 * np.ones((dim + 1, dim))\n",
    "ar_pr = 1.0 * np.ones((dim + 1, dim))\n",
    "\n",
    "zc_pr = [1.0 * np.ones((len(events[i]), dim+1)) for i in range(dim)]\n",
    "\n",
    "callback = tsvar.utils.callbacks.LearnerCallbackMLE(\n",
    "    x0=(as_pr / ar_pr).flatten(), \n",
    "    print_every=10, \n",
    "    coeffs_true=np.hstack((mu, alpha.flatten())),\n",
    "    acc_thresh=0.05, dim=dim)\n",
    "\n",
    "model_fixed_beta.fit(as_pr=as_pr, ar_pr=ar_pr, zc_pr=zc_pr, max_iter=200, tol=1e-5, callback=callback)"
   ]
  },
  {
   "cell_type": "markdown",
   "metadata": {},
   "source": [
    "Explore the results."
   ]
  },
  {
   "cell_type": "code",
   "execution_count": null,
   "metadata": {
    "scrolled": true
   },
   "outputs": [],
   "source": [
    "alpha_hat_mode = np.round((model_fixed_beta._as_po >= 1) * (model_fixed_beta._as_po - 1) / model_fixed_beta._ar_po, 2)\n",
    "alpha_hat_mean = np.round(model_fixed_beta._as_po / model_fixed_beta._ar_po, 2)\n",
    "\n",
    "baseline_hat = alpha_hat_mean[0,:]\n",
    "adjacency_hat = alpha_hat_mean[1:,:]\n",
    "\n",
    "print('Baseline:')\n",
    "print('---------')\n",
    "print('Ground truth:')\n",
    "print(mu.numpy())\n",
    "print('Estimated:')\n",
    "print(baseline_hat)\n",
    "print()\n",
    "\n",
    "print('Adjacency:')\n",
    "print('---------')\n",
    "print('Ground truth:')\n",
    "print(alpha.numpy())\n",
    "print('Estimated:')\n",
    "print(adjacency_hat)\n",
    "print()"
   ]
  },
  {
   "cell_type": "code",
   "execution_count": null,
   "metadata": {},
   "outputs": [],
   "source": [
    "x_iter = callback.history['iter']\n",
    "y_base = [tsvar.utils.metrics.relerr(np.array(coeffs[:3]), baseline) for coeffs in callback.history['coeffs']]\n",
    "\n",
    "plt.plot(x_iter, y_base);"
   ]
  },
  {
   "cell_type": "code",
   "execution_count": null,
   "metadata": {
    "scrolled": true
   },
   "outputs": [],
   "source": [
    "x_iter = callback.history['iter']\n",
    "y_acc = [tsvar.utils.metrics.accuracy(adj_test=np.array(coeffs[-9:]), \n",
    "                                      adj_true=adjacency.flatten(), \n",
    "                                      threshold=0.02) \n",
    "         for coeffs in callback.history['coeffs']]\n",
    "\n",
    "plt.plot(x_iter, y_acc);"
   ]
  },
  {
   "cell_type": "markdown",
   "metadata": {},
   "source": [
    "---\n",
    "\n",
    "## Test Mean-Field VI with Variable $\\{\\beta\\}$s using `WoldModelVariational`"
   ]
  },
  {
   "cell_type": "markdown",
   "metadata": {},
   "source": [
    "Create model object and set the data."
   ]
  },
  {
   "cell_type": "code",
   "execution_count": 4,
   "metadata": {
    "scrolled": false
   },
   "outputs": [],
   "source": [
    "# Set model\n",
    "model = tsvar.models.WoldModelVariational(verbose=True)\n",
    "model.observe(events)"
   ]
  },
  {
   "cell_type": "markdown",
   "metadata": {},
   "source": [
    "Define the parameters of the prior."
   ]
  },
  {
   "cell_type": "code",
   "execution_count": 5,
   "metadata": {
    "scrolled": true
   },
   "outputs": [],
   "source": [
    "# Set priors\n",
    "# prior: Alpha\n",
    "as_pr = 1.0 * np.ones((dim + 1, dim))\n",
    "ar_pr = 1.0 * np.ones((dim + 1, dim))\n",
    "# prior: Beta\n",
    "bs_pr = 100.0 * np.ones((dim, dim))\n",
    "br_pr = 100.0 * np.ones((dim, dim))\n",
    "# prior: Z\n",
    "zc_pr = [1.0 * np.ones((len(events[i]), dim+1)) for i in range(dim)]"
   ]
  },
  {
   "cell_type": "markdown",
   "metadata": {},
   "source": [
    "Fit the model."
   ]
  },
  {
   "cell_type": "code",
   "execution_count": 9,
   "metadata": {
    "scrolled": true
   },
   "outputs": [
    {
     "name": "stdout",
     "output_type": "stream",
     "text": [
      "iter:  1000 | dx: +3.8054e-04 | acc: 1.00 | relerr: 0.96 | time/it: 4.11e-02     "
     ]
    },
    {
     "data": {
      "text/plain": [
       "False"
      ]
     },
     "execution_count": 9,
     "metadata": {},
     "output_type": "execute_result"
    }
   ],
   "source": [
    "# Set callback\n",
    "coeffs_start = (as_pr / ar_pr).flatten()\n",
    "callback = tsvar.utils.callbacks.LearnerCallbackMLE(x0=coeffs_start,\n",
    "                                                    print_every=10,\n",
    "                                                    coeffs_true=alpha.numpy().flatten(),\n",
    "                                                    acc_thresh=0.015,\n",
    "                                                    dim=dim)\n",
    "# Fit model\n",
    "model.fit(as_pr=as_pr, ar_pr=ar_pr, bs_pr=bs_pr, br_pr=br_pr, zc_pr=zc_pr, \n",
    "          max_iter=1000, tol=1e-5, callback=callback)"
   ]
  },
  {
   "cell_type": "code",
   "execution_count": 10,
   "metadata": {},
   "outputs": [
    {
     "name": "stdout",
     "output_type": "stream",
     "text": [
      "Baseline:\n",
      "---------\n",
      "Ground truth:\n",
      "[ 0.30  0.10]\n",
      "Estimated:\n",
      "[ 0.41  0.22]\n",
      "\n",
      "Adjacency:\n",
      "---------\n",
      "Ground truth:\n",
      "[[ 0.70  0.30]\n",
      " [ 0.00  1.00]]\n",
      "Estimated:\n",
      "[[ 0.76  0.59]\n",
      " [ 0.00  3.78]]\n",
      "\n",
      "Beta:\n",
      "-----\n",
      "Ground truth:\n",
      "[[ 1.00  0.20]\n",
      " [ 0.50  0.10]]\n",
      "Estimated:\n",
      "[[  6.46   5.74]\n",
      " [  0.07  10.03]]\n"
     ]
    }
   ],
   "source": [
    "alpha_hat_mean = np.round(model._as_po / model._ar_po, 2)\n",
    "\n",
    "baseline_hat = alpha_hat_mean[0,:]\n",
    "print('Baseline:')\n",
    "print('---------')\n",
    "print('Ground truth:')\n",
    "print(mu.numpy())\n",
    "print('Estimated:')\n",
    "print(baseline_hat)\n",
    "print()\n",
    "\n",
    "adjacency_hat = alpha_hat_mean[1:,:]\n",
    "print('Adjacency:')\n",
    "print('---------')\n",
    "print('Ground truth:')\n",
    "print(alpha.numpy())\n",
    "print('Estimated:')\n",
    "print(adjacency_hat)\n",
    "print()\n",
    "\n",
    "beta_hat = np.round(model._br_po / (model._bs_po - 1), 2) - 1\n",
    "print('Beta:')\n",
    "print('-----')\n",
    "print('Ground truth:')\n",
    "print(beta.numpy() * np.ones((dim, dim)))\n",
    "print('Estimated:')\n",
    "print(beta_hat)"
   ]
  },
  {
   "cell_type": "code",
   "execution_count": null,
   "metadata": {},
   "outputs": [],
   "source": []
  }
 ],
 "metadata": {
  "kernelspec": {
   "display_name": "Python 3",
   "language": "python",
   "name": "python3"
  },
  "language_info": {
   "codemirror_mode": {
    "name": "ipython",
    "version": 3
   },
   "file_extension": ".py",
   "mimetype": "text/x-python",
   "name": "python",
   "nbconvert_exporter": "python",
   "pygments_lexer": "ipython3",
   "version": "3.6.10"
  }
 },
 "nbformat": 4,
 "nbformat_minor": 2
}

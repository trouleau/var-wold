{
 "cells": [
  {
   "cell_type": "code",
   "execution_count": 2,
   "metadata": {
    "scrolled": true
   },
   "outputs": [],
   "source": [
    "%load_ext autoreload\n",
    "%autoreload 2"
   ]
  },
  {
   "cell_type": "code",
   "execution_count": 3,
   "metadata": {},
   "outputs": [],
   "source": [
    "from matplotlib import pyplot as plt\n",
    "%matplotlib inline\n",
    "\n",
    "import torch\n",
    "import numpy as np\n",
    "\n",
    "np.set_printoptions(precision=2, floatmode='fixed')\n",
    "\n",
    "import tsvar\n",
    "from gb import GrangerBusca, simulate"
   ]
  },
  {
   "cell_type": "code",
   "execution_count": 4,
   "metadata": {},
   "outputs": [
    {
     "name": "stdout",
     "output_type": "stream",
     "text": [
      "  - Define model parameters...\n",
      "  - Simulate lots of data...\n",
      "    - Simulated 417,296 events with end time: 300000.0\n"
     ]
    }
   ],
   "source": [
    "print('  - Define model parameters...')\n",
    "# Define random parameters\n",
    "dim = 2  # Dimensionality of the process\n",
    "end_time = 3e5  # Choose a long observation window\n",
    "mu = torch.tensor([0.4, 0.1])\n",
    "beta = torch.tensor([  # Must still be beta_j^i equal for all i in simulator\n",
    "    [1.1, 1.0],\n",
    "    [1.2, 1.2]\n",
    "])\n",
    "alpha = torch.tensor([\n",
    "    [0.7, 0.3],\n",
    "    [0.0, 1.0]\n",
    "])\n",
    "coeffs_true = torch.cat((mu, beta.flatten(), alpha.flatten())).numpy()\n",
    "print('  - Simulate lots of data...')\n",
    "# Simulate lots of data\n",
    "wold_sim = simulate.GrangeBuscaSimulator(\n",
    "    mu_rates=mu, Alpha_ba=alpha, Beta_ba=beta)\n",
    "events = wold_sim.simulate(end_time)\n",
    "events = [torch.tensor(ev, dtype=torch.float) for ev in events]\n",
    "print((f\"    - Simulated {sum(map(len, events)):,d} events \"\n",
    "       f\"with end time: {end_time}\"))\n"
   ]
  },
  {
   "cell_type": "code",
   "execution_count": 5,
   "metadata": {},
   "outputs": [
    {
     "name": "stdout",
     "output_type": "stream",
     "text": [
      "  - Run Granger Busca...\n",
      "  - coeffs_hat:  [0.31 0.28 1.34 1.36 1.34 1.36 0.78 0.22 0.22 0.78]\n",
      "  - coeffs_true: [0.40 0.10 1.10 1.00 1.20 1.20 0.70 0.30 0.00 1.00]\n",
      "  - max_diff: 0.3593\n",
      "  - Test FAILED !!!\n"
     ]
    }
   ],
   "source": [
    "print('  - Run Granger Busca...')\n",
    "# Define model\n",
    "granger_model = GrangerBusca(\n",
    "    alpha_prior=1.0/len(events), \n",
    "    num_iter=3000, \n",
    "    metropolis=True, \n",
    "    beta_strategy='busca',\n",
    ") #recommended parameters\n",
    "granger_model.fit(events)\n",
    "\n",
    "adj_hat = granger_model.Alpha_.toarray()\n",
    "adj_hat = adj_hat / adj_hat.sum(axis=0)\n",
    "\n",
    "beta_hat = np.ones((dim, dim)) * granger_model.beta_ + 1\n",
    "\n",
    "coeffs_hat = np.hstack((granger_model.mu_, beta_hat.flatten(), adj_hat.flatten()))\n",
    "\n",
    "max_diff = np.max(np.abs(coeffs_true - coeffs_hat))\n",
    "print(f'  - coeffs_hat:  {coeffs_hat.round(2)}')\n",
    "print(f'  - coeffs_true: {coeffs_true.round(2)}')\n",
    "print(f'  - max_diff: {max_diff:.4f}')\n",
    "if max_diff < 0.1:\n",
    "    print('  - Test SUCESS! (max_diff < 0.1)')\n",
    "else:\n",
    "    print('  - Test FAILED !!!')"
   ]
  },
  {
   "cell_type": "code",
   "execution_count": 8,
   "metadata": {},
   "outputs": [
    {
     "data": {
      "text/plain": [
       "array([[1.34, 1.36],\n",
       "       [1.34, 1.36]])"
      ]
     },
     "execution_count": 8,
     "metadata": {},
     "output_type": "execute_result"
    }
   ],
   "source": [
    "beta_hat"
   ]
  },
  {
   "cell_type": "code",
   "execution_count": 11,
   "metadata": {},
   "outputs": [
    {
     "data": {
      "text/plain": [
       "array([[1.34, 1.36],\n",
       "       [1.34, 1.36]])"
      ]
     },
     "execution_count": 11,
     "metadata": {},
     "output_type": "execute_result"
    }
   ],
   "source": [
    "np.ones((dim, dim)) * (granger_model.beta_ + 1)"
   ]
  },
  {
   "cell_type": "code",
   "execution_count": null,
   "metadata": {},
   "outputs": [],
   "source": []
  }
 ],
 "metadata": {
  "kernelspec": {
   "display_name": "Python 3",
   "language": "python",
   "name": "python3"
  },
  "language_info": {
   "codemirror_mode": {
    "name": "ipython",
    "version": 3
   },
   "file_extension": ".py",
   "mimetype": "text/x-python",
   "name": "python",
   "nbconvert_exporter": "python",
   "pygments_lexer": "ipython3",
   "version": "3.6.10"
  }
 },
 "nbformat": 4,
 "nbformat_minor": 4
}

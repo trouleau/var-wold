{
 "cells": [
  {
   "cell_type": "code",
   "execution_count": 1,
   "metadata": {},
   "outputs": [],
   "source": [
    "%load_ext autoreload\n",
    "%autoreload 2\n",
    "\n",
    "%load_ext line_profiler"
   ]
  },
  {
   "cell_type": "code",
   "execution_count": 2,
   "metadata": {},
   "outputs": [],
   "source": [
    "from matplotlib import pyplot as plt\n",
    "import networkx as nx\n",
    "import numpy as np\n",
    "import pandas as pd\n",
    "import itertools\n",
    "import torch\n",
    "import os\n",
    "\n",
    "import scipy.stats\n",
    "\n",
    "import tsvar\n",
    "from tsvar.preprocessing import Dataset\n",
    "import experiments_utils"
   ]
  },
  {
   "cell_type": "markdown",
   "metadata": {},
   "source": [
    "Set cells width"
   ]
  },
  {
   "cell_type": "code",
   "execution_count": 3,
   "metadata": {},
   "outputs": [
    {
     "data": {
      "text/html": [
       "<style>.container { width:80% !important; }</style>"
      ],
      "text/plain": [
       "<IPython.core.display.HTML object>"
      ]
     },
     "metadata": {},
     "output_type": "display_data"
    }
   ],
   "source": [
    "from IPython.core.display import display, HTML\n",
    "display(HTML(\"<style>.container { width:80% !important; }</style>\"))"
   ]
  },
  {
   "cell_type": "markdown",
   "metadata": {},
   "source": [
    "---\n",
    "\n",
    "## Load the dataset\n",
    "\n",
    "Set input path"
   ]
  },
  {
   "cell_type": "code",
   "execution_count": 4,
   "metadata": {},
   "outputs": [],
   "source": [
    "INPUT_PATH = \"/root/workspace/var-wold/data/memetracker/dataset_memetracker_good.pk\""
   ]
  },
  {
   "cell_type": "markdown",
   "metadata": {},
   "source": [
    "Load the dataset"
   ]
  },
  {
   "cell_type": "code",
   "execution_count": 5,
   "metadata": {},
   "outputs": [],
   "source": [
    "dataset = Dataset.from_pickle(INPUT_PATH)\n",
    "dataset.end_time = max(map(max, dataset.timestamps))"
   ]
  },
  {
   "cell_type": "markdown",
   "metadata": {},
   "source": [
    "Visualize the dataset"
   ]
  },
  {
   "cell_type": "code",
   "execution_count": 6,
   "metadata": {
    "scrolled": true
   },
   "outputs": [
    {
     "data": {
      "image/png": "[encoded data removed]",
      "text/plain": [
       "<Figure size 1296x252 with 3 Axes>"
      ]
     },
     "metadata": {
      "needs_background": "light"
     },
     "output_type": "display_data"
    }
   ],
   "source": [
    "fig, axs = plt.subplots(1, 3, figsize=(18, 3.5))\n",
    "\n",
    "axs[0].hist(list(map(len, dataset.timestamps)))\n",
    "axs[0].set_xlabel('Number of events \\n in each dim')\n",
    "\n",
    "end_time = dataset.end_time\n",
    "axs[1].hist(list(map(min, dataset.timestamps)), bins=np.linspace(0, end_time, 20))\n",
    "axs[1].set_xlabel('First of event \\n in each dim')\n",
    "\n",
    "axs[2].hist(list(map(max, dataset.timestamps)), bins=np.linspace(0, end_time, 20))\n",
    "axs[2].set_xlabel('Last of events \\n in each dim')\n",
    "\n",
    "fig.suptitle(f\"Dataset {os.path.split(INPUT_PATH)[1]}\");"
   ]
  },
  {
   "cell_type": "markdown",
   "metadata": {},
   "source": [
    "Print statistics of the dataset"
   ]
  },
  {
   "cell_type": "code",
   "execution_count": 7,
   "metadata": {
    "scrolled": true
   },
   "outputs": [
    {
     "name": "stdout",
     "output_type": "stream",
     "text": [
      "Num. of dimensions: 100\n",
      "    Num. of events: 15,168,774\n",
      "               %NZ: 9.85%\n",
      "\n",
      "Stats. of num. of events per dim:\n",
      "count    1.000000e+02\n",
      "mean     1.516877e+05\n",
      "std      1.937082e+05\n",
      "min      1.723000e+03\n",
      "25%      7.706900e+04\n",
      "50%      1.057855e+05\n",
      "75%      1.740125e+05\n",
      "max      1.624574e+06\n",
      "dtype: float64\n"
     ]
    }
   ],
   "source": [
    "print(f\"Num. of dimensions: {len(dataset.timestamps):,d}\")\n",
    "print(f\"    Num. of events: {sum(map(len, dataset.timestamps)):,d}\")\n",
    "print(f\"               %NZ: {100 * dataset.graph.number_of_edges() / (dataset.graph.number_of_nodes() ** 2):.2f}%\")\n",
    "print()\n",
    "print(\"Stats. of num. of events per dim:\")\n",
    "num_jumps_per_dim = np.array(list(map(len, dataset.timestamps)))\n",
    "print(pd.Series(num_jumps_per_dim).describe())"
   ]
  },
  {
   "cell_type": "markdown",
   "metadata": {},
   "source": [
    "Build ground truth adjacency matrix"
   ]
  },
  {
   "cell_type": "code",
   "execution_count": 8,
   "metadata": {},
   "outputs": [],
   "source": [
    "adjacency_true = nx.adjacency_matrix(dataset.graph, nodelist=range(dataset.dim)).toarray()\n",
    "adjacency_true[np.eye(dataset.dim).astype(bool)] = 0.0  # Remove self-loops"
   ]
  },
  {
   "cell_type": "code",
   "execution_count": 9,
   "metadata": {},
   "outputs": [
    {
     "data": {
      "image/png": "[encoded data removed]",
      "text/plain": [
       "<Figure size 432x288 with 1 Axes>"
      ]
     },
     "metadata": {
      "needs_background": "light"
     },
     "output_type": "display_data"
    }
   ],
   "source": [
    "diag_mask = np.eye(len(adjacency_true)).astype(bool)\n",
    "plt.boxplot([adjacency_true[~diag_mask & (adjacency_true > 0)], adjacency_true[diag_mask & (adjacency_true > 0)]],\n",
    "            labels=['Non-Diag Edges', 'Self-loops'])\n",
    "plt.title('Distribution of values in the ground truth Adjacency matrix');"
   ]
  },
  {
   "cell_type": "markdown",
   "metadata": {},
   "source": [
    "#### Visualize the scale of time using empirical inter-arrival time distributions\n",
    "\n",
    "Compute this for both definitions $\\{\\beta_j\\}$ and $\\{\\beta_{ij}\\}$."
   ]
  },
  {
   "cell_type": "code",
   "execution_count": 10,
   "metadata": {
    "scrolled": false
   },
   "outputs": [
    {
     "name": "stdout",
     "output_type": "stream",
     "text": [
      "Busca estimators of **beta_j**:\n",
      "count    100.000000\n",
      "mean       0.088753\n",
      "std        0.351734\n",
      "min        0.000000\n",
      "25%        0.000000\n",
      "50%        0.000000\n",
      "75%        0.002588\n",
      "max        2.171700\n",
      "dtype: float64\n",
      "\n",
      "Busca estimators of **beta_{ji}**:\n",
      "count    10000.000000\n",
      "mean       168.738808\n",
      "std       1087.665608\n",
      "min          0.000000\n",
      "25%          0.455349\n",
      "50%          0.912856\n",
      "75%          2.186691\n",
      "max      17232.735281\n",
      "dtype: float64\n",
      "\n"
     ]
    },
    {
     "data": {
      "image/png": "[encoded data removed]",
      "text/plain": [
       "<Figure size 1152x288 with 2 Axes>"
      ]
     },
     "metadata": {
      "needs_background": "light"
     },
     "output_type": "display_data"
    }
   ],
   "source": [
    "fig, axs = plt.subplots(1, 2, figsize=(16, 4), sharey=True)\n",
    "\n",
    "busca_betas = np.array([np.median(np.hstack((ev[0], np.diff(ev)))) / np.exp(1) for ev in dataset.timestamps])\n",
    "plt.sca(axs[0])\n",
    "plt.grid()\n",
    "plt.boxplot(busca_betas, labels=[r'Distribution of Busca estimators of $\\beta_j$']);\n",
    "plt.yscale('log')\n",
    "print('Busca estimators of **beta_j**:')\n",
    "print(pd.Series(busca_betas.flatten()).describe())\n",
    "print()\n",
    "\n",
    "plt.sca(axs[1])\n",
    "plt.grid()\n",
    "plt.boxplot(dataset.busca_beta_ji.flatten(), labels=[r'Distribution of Busca estimators of $\\beta_{ji}$']);\n",
    "plt.yscale('log')\n",
    "print('Busca estimators of **beta_{ji}**:')\n",
    "print(pd.Series(dataset.busca_beta_ji.flatten()).describe())\n",
    "print()"
   ]
  },
  {
   "cell_type": "markdown",
   "metadata": {},
   "source": [
    "#### Make variables for inference"
   ]
  },
  {
   "cell_type": "code",
   "execution_count": 11,
   "metadata": {},
   "outputs": [],
   "source": [
    "events = dataset.timestamps\n",
    "end_time = dataset.end_time"
   ]
  },
  {
   "cell_type": "code",
   "execution_count": 18,
   "metadata": {},
   "outputs": [
    {
     "name": "stdout",
     "output_type": "stream",
     "text": [
      "Num. of dimensions: 90\n",
      "    Num. of events: 6,033,575\n",
      "\n",
      "Stats. of num. of events per dim:\n",
      "count        90.000000\n",
      "mean      67039.722222\n",
      "std       83253.989775\n",
      "min         659.000000\n",
      "25%       14891.250000\n",
      "50%       48516.000000\n",
      "75%       91820.500000\n",
      "max      652111.000000\n",
      "dtype: float64\n"
     ]
    },
    {
     "data": {
      "image/png": "[encoded data removed]",
      "text/plain": [
       "<Figure size 1296x252 with 3 Axes>"
      ]
     },
     "metadata": {
      "needs_background": "light"
     },
     "output_type": "display_data"
    }
   ],
   "source": [
    "end_time_filtered = 0.5 * end_time\n",
    "events_filtered = [ev[ev < end_time_filtered] for ev in events]\n",
    "\n",
    "nodes_to_keep = np.array([len(ev) > 500 for ev in events_filtered])\n",
    "events_filtered = np.array(events_filtered)[nodes_to_keep].tolist()\n",
    "adjacency_true_filtered = adjacency_true[nodes_to_keep, :][:, nodes_to_keep]\n",
    "\n",
    "print(f\"Num. of dimensions: {len(events_filtered):,d}\")\n",
    "print(f\"    Num. of events: {sum(map(len, events_filtered)):,d}\")\n",
    "print()\n",
    "print(\"Stats. of num. of events per dim:\")\n",
    "num_jumps_per_dim = np.array(list(map(len, events_filtered)))\n",
    "print(pd.Series(num_jumps_per_dim).describe())\n",
    "\n",
    "fig, axs = plt.subplots(1, 3, figsize=(18, 3.5))\n",
    "\n",
    "axs[0].hist(list(map(len, events_filtered)))\n",
    "axs[0].set_xlabel('Number of events \\n in each dim')\n",
    "\n",
    "end_time = dataset.end_time\n",
    "axs[1].hist(list(map(min, events_filtered)), bins=np.linspace(0, end_time, 20))\n",
    "axs[1].set_xlabel('First of event \\n in each dim')\n",
    "\n",
    "axs[2].hist(list(map(max, events_filtered)), bins=np.linspace(0, end_time, 20))\n",
    "axs[2].set_xlabel('Last of events \\n in each dim')\n",
    "\n",
    "fig.suptitle(f\"Dataset MemeTracker FILTERED\");"
   ]
  },
  {
   "cell_type": "markdown",
   "metadata": {},
   "source": [
    "---\n",
    "\n",
    "## Run inference"
   ]
  },
  {
   "cell_type": "markdown",
   "metadata": {},
   "source": [
    "---\n",
    "\n",
    "### Run VI"
   ]
  },
  {
   "cell_type": "code",
   "execution_count": 19,
   "metadata": {
    "scrolled": true
   },
   "outputs": [
    {
     "name": "stdout",
     "output_type": "stream",
     "text": [
      "ALPHA:\n",
      "------\n",
      "mean\n",
      "0.1\n",
      "variance\n",
      "0.001\n",
      "BETA:\n",
      "-----\n",
      "mean\n",
      "0.5\n",
      "variance\n",
      "1.2500625031251562e-05\n"
     ]
    }
   ],
   "source": [
    "dim = len(events_filtered)\n",
    "\n",
    "# Set priors\n",
    "# prior: Alpha\n",
    "as_pr = 10.0 * np.ones((dim + 1, dim))\n",
    "ar_pr = 100.0 * np.ones((dim + 1, dim))\n",
    "\n",
    "# prior: Beta\n",
    "bs_pr = 20001.0 * np.ones((dim, dim))\n",
    "br_pr = 10000.0 * np.ones((dim, dim))\n",
    "\n",
    "#bs_pr = 1000.0 * np.ones((dim, dim))\n",
    "#med_inter_ev = np.array([np.median(np.diff(ev)) for ev in events])\n",
    "#br_pr = np.ones((dim, dim)) * med_inter_ev * (bs_pr - 1)\n",
    "\n",
    "\n",
    "# prior: Z\n",
    "zc_pr = [1.0 * np.ones((len(events_filtered[i]), dim+1)) for i in range(dim)]\n",
    "\n",
    "print('ALPHA:')\n",
    "print('------')\n",
    "print('    mean:', as_pr[0,0] / ar_pr[0,0])\n",
    "print('variance:', as_pr[0,0] / ar_pr[0,0] ** 2)\n",
    "\n",
    "print('BETA:')\n",
    "print('-----')\n",
    "print('    mean:', br_pr[0,0] / (bs_pr[0,0] - 1))\n",
    "print('variance:', br_pr[0,0]**2 / ((bs_pr[0,0] - 1)**2 * (bs_pr[0,0] - 2)))"
   ]
  },
  {
   "cell_type": "code",
   "execution_count": 20,
   "metadata": {},
   "outputs": [],
   "source": [
    "# Set model & observations\n",
    "vi_model = tsvar.models.WoldModelVariational(verbose=True)\n",
    "vi_model.observe(events_filtered)\n",
    "\n",
    "# Save model to pickle to avoid initializing cache many times on the same dataset.\n",
    "#import pickle\n",
    "#with open('/root/workspace/var-wold/data/memetracker/vi_model_dataset.pk', 'wb') as f:\n",
    "#    pickle.dump((vi_model, dataset), f)"
   ]
  },
  {
   "cell_type": "code",
   "execution_count": null,
   "metadata": {
    "scrolled": true
   },
   "outputs": [
    {
     "name": "stdout",
     "output_type": "stream",
     "text": [
      "---- Alpha\n",
      "    as: min:+1.72e+01, max:+7.18e+03\n",
      "    ar: min:+1.00e+02, max:+5.42e+04\n",
      "a_mean: min:+4.34e-04, max:+6.57e+00\n",
      "---- Beta\n",
      "    x0: min:+4.99e-01, max:+5.68e-01\n",
      "    xn: min:+4.99e-01, max:+5.68e-01\n",
      "    bs: min:+1.82e+04, max:+2.63e+04\n",
      "    br: min:+9.94e+03, max:+1.32e+04\n",
      "b_mean: min:+4.99e-01, max:+5.68e-01\n",
      "iter:     1 | dx: +6.4668e+00 | f1-score: 0.13 | relerr: 1.87e-01 | p@5: 0.00 | p@10: 0.00 | p@20: 0.05 | time/it: 2.63e+02     \n",
      "---- Alpha\n",
      "    as: min:+1.00e+01, max:+6.23e+04\n",
      "    ar: min:+1.00e+02, max:+5.36e+04\n",
      "a_mean: min:+3.57e-04, max:+1.24e+02\n",
      "---- Beta\n",
      "    x0: min:+4.95e-01, max:+1.91e+00\n",
      "    xn: min:+4.95e-01, max:+1.91e+00\n",
      "    bs: min:+9.74e+03, max:+2.68e+04\n",
      "    br: min:+8.68e+03, max:+1.86e+04\n",
      "b_mean: min:+4.95e-01, max:+1.91e+00\n",
      "iter:     2 | dx: +1.1901e+02 | f1-score: 0.12 | relerr: 2.85e-01 | p@5: 0.00 | p@10: 0.00 | p@20: 0.00 | time/it: 2.15e+02     \n",
      "---- Alpha\n",
      "    as: min:+1.00e+01, max:+2.02e+05\n",
      "    ar: min:+1.00e+02, max:+5.41e+04\n",
      "a_mean: min:+3.51e-04, max:+2.44e+02\n",
      "---- Beta\n",
      "    x0: min:+4.92e-01, max:+1.81e+01\n",
      "    xn: min:+4.92e-01, max:+1.81e+01\n",
      "    bs: min:+6.44e+03, max:+2.56e+04\n",
      "    br: min:+8.09e+03, max:+4.36e+05\n",
      "b_mean: min:+4.92e-01, max:+1.81e+01\n",
      "iter:     3 | dx: +1.9659e+02 | f1-score: 0.12 | relerr: 4.80e-01 | p@5: 0.00 | p@10: 0.00 | p@20: 0.00 | time/it: 2.27e+02     \n",
      "---- Alpha\n",
      "    as: min:+1.00e+01, max:+3.00e+05\n",
      "    ar: min:+1.00e+02, max:+5.42e+04\n",
      "a_mean: min:+3.08e-04, max:+1.12e+03\n",
      "---- Beta\n",
      "    x0: min:+4.88e-01, max:+9.77e+01\n",
      "    xn: min:+4.88e-01, max:+9.77e+01\n",
      "    bs: min:+6.38e+03, max:+3.67e+04\n",
      "    br: min:+8.17e+03, max:+3.58e+06\n",
      "b_mean: min:+4.88e-01, max:+9.77e+01\n",
      "iter:     4 | dx: +8.7653e+02 | f1-score: 0.11 | relerr: 8.31e-01 | p@5: 0.00 | p@10: 0.00 | p@20: 0.00 | time/it: 2.13e+02     \n",
      "---- Alpha\n",
      "    as: min:+1.00e+01, max:+3.46e+05\n",
      "    ar: min:+1.00e+02, max:+5.42e+04\n",
      "a_mean: min:+2.97e-04, max:+2.51e+03\n",
      "---- Beta\n",
      "    x0: min:+4.81e-01, max:+2.10e+02\n",
      "    xn: min:+4.81e-01, max:+2.10e+02\n",
      "    bs: min:+8.05e+03, max:+4.25e+04\n",
      "    br: min:+7.99e+03, max:+8.93e+06\n",
      "b_mean: min:+4.81e-01, max:+2.10e+02\n",
      "iter:     5 | dx: +1.3911e+03 | f1-score: 0.11 | relerr: 1.41e+00 | p@5: 0.00 | p@10: 0.00 | p@20: 0.00 | time/it: 2.21e+02     \n"
     ]
    }
   ],
   "source": [
    "# Set callback (parameters of callback are just the posterior mean of alpha)\n",
    "callback = tsvar.utils.callbacks.LearnerCallbackMLE(\n",
    "    x0=(as_pr[1:,:] / ar_pr[1:,:]).flatten(), print_every=1,\n",
    "    coeffs_true=adjacency_true_filtered.flatten(),\n",
    "    acc_thresh=0.05, dim=dim, \n",
    "    widgets={'f1score', 'relerr', 'prec@5', 'prec@10', 'prec@20'},\n",
    "    default_end='\\n')\n",
    "\n",
    "# Fit model\n",
    "vi_model.fit(as_pr=as_pr, ar_pr=ar_pr, bs_pr=bs_pr, br_pr=br_pr, zc_pr=zc_pr, \n",
    "          max_iter=2500, tol=1e-5, callback=callback)"
   ]
  },
  {
   "cell_type": "code",
   "execution_count": null,
   "metadata": {},
   "outputs": [],
   "source": []
  },
  {
   "cell_type": "markdown",
   "metadata": {},
   "source": [
    "Print result report"
   ]
  },
  {
   "cell_type": "code",
   "execution_count": 56,
   "metadata": {
    "scrolled": false
   },
   "outputs": [
    {
     "name": "stdout",
     "output_type": "stream",
     "text": [
      "\n",
      "==================================================\n",
      "========== Method: WoldModelVariational\n",
      "\n",
      "Accuracy: 0.83\n",
      "\n",
      "Edge counts\n",
      "------------\n",
      "Pred: 449.00\n",
      "True: 612.00\n",
      "\n",
      "Error counts\n",
      "------------\n",
      " True Positive: 74.00\n",
      "False Positive: 375.00\n",
      " True Negative: 4489.00\n",
      "False Negative: 538.00\n",
      "\n",
      "Error rates\n",
      "-----------\n",
      " True Positive Rate: 0.12\n",
      "False Positive Rate: 0.08\n",
      " True Negative Rate: 0.92\n",
      "False Negative Rate: 0.88\n",
      "\n",
      "F-Score\n",
      "-------\n",
      " F1-Score: 0.14\n",
      "Precision: 0.16\n",
      "   Recall: 0.12\n",
      "\n",
      "Precision@k\n",
      "-----------\n",
      " Prec@5: 0.00\n",
      "Prec@10: 0.00\n",
      "Prec@20: 0.00\n",
      "\n",
      "Average Precision@k per node\n",
      "----------------------------\n",
      "AvgPrec@k per node:\n",
      "5 0.14000000000000004\n",
      "10 0.14833333333333332\n",
      "20 0.15749999999999995\n",
      "\n"
     ]
    }
   ],
   "source": [
    "mu_hat = vi_model._as_po[0, :] / vi_model._ar_po[0, :]\n",
    "adj_hat = vi_model._as_po[1:, :] / vi_model._ar_po[1:, :]\n",
    "beta_hat = vi_model._br_po[:, :] / (vi_model._bs_po[:, :] + 1) + 1\n",
    "\n",
    "#adj_hat[np.eye(len(adj_hat)).astype(bool)] = 0.0\n",
    "\n",
    "#adj_hat = adj_hat\n",
    "adj_hat = adj_hat / beta_hat\n",
    "\n",
    "experiments_utils.print_report(name=type(vi_model).__name__, adj_hat=adj_hat, adj_true=adjacency_true_filtered, thresh=0.05)"
   ]
  },
  {
   "cell_type": "code",
   "execution_count": 58,
   "metadata": {},
   "outputs": [
    {
     "data": {
      "image/png": "[encoded data removed]",
      "text/plain": [
       "<Figure size 432x288 with 1 Axes>"
      ]
     },
     "metadata": {
      "needs_background": "light"
     },
     "output_type": "display_data"
    }
   ],
   "source": [
    "mu_hat = vi_model._as_po[0, :] / vi_model._ar_po[0, :]\n",
    "adj_hat = vi_model._as_po[1:, :] / vi_model._ar_po[1:, :]\n",
    "beta_hat = vi_model._br_po[:, :] / (vi_model._bs_po[:, :] + 1) + 1\n",
    "\n",
    "diag_mask = np.eye(adj_hat.shape[0]).astype(bool)\n",
    "plt.boxplot([\n",
    "    mu_hat,\n",
    "    adj_hat[(diag_mask)], \n",
    "    adj_hat[~diag_mask]\n",
    "], labels=['Background', 'Diagonal', 'Cross-interations']);\n",
    "plt.yscale('log')"
   ]
  },
  {
   "cell_type": "code",
   "execution_count": null,
   "metadata": {},
   "outputs": [],
   "source": []
  },
  {
   "cell_type": "code",
   "execution_count": null,
   "metadata": {},
   "outputs": [],
   "source": []
  },
  {
   "cell_type": "code",
   "execution_count": 29,
   "metadata": {
    "scrolled": true
   },
   "outputs": [
    {
     "ename": "IndexError",
     "evalue": "boolean index did not match indexed array along dimension 0; dimension is 74 but corresponding boolean dimension is 100",
     "output_type": "error",
     "traceback": [
      "\u001b[0;31m---------------------------------------------------------------------------\u001b[0m",
      "\u001b[0;31mIndexError\u001b[0m                                Traceback (most recent call last)",
      "\u001b[0;32m<ipython-input-29-eb5020bd7057>\u001b[0m in \u001b[0;36m<module>\u001b[0;34m\u001b[0m\n\u001b[1;32m      2\u001b[0m \u001b[0mplt\u001b[0m\u001b[0;34m.\u001b[0m\u001b[0mgrid\u001b[0m\u001b[0;34m(\u001b[0m\u001b[0;34m)\u001b[0m\u001b[0;34m\u001b[0m\u001b[0;34m\u001b[0m\u001b[0m\n\u001b[1;32m      3\u001b[0m plt.boxplot(\n\u001b[0;32m----> 4\u001b[0;31m     \u001b[0;34m[\u001b[0m\u001b[0madj_hat\u001b[0m\u001b[0;34m[\u001b[0m\u001b[0madjacency_true\u001b[0m \u001b[0;34m==\u001b[0m \u001b[0;36m0.0\u001b[0m\u001b[0;34m]\u001b[0m\u001b[0;34m,\u001b[0m \u001b[0madj_hat\u001b[0m\u001b[0;34m[\u001b[0m\u001b[0madjacency_true\u001b[0m \u001b[0;34m>\u001b[0m \u001b[0;36m0.0\u001b[0m\u001b[0;34m]\u001b[0m\u001b[0;34m,\u001b[0m \u001b[0madj_hat\u001b[0m\u001b[0;34m[\u001b[0m\u001b[0mnp\u001b[0m\u001b[0;34m.\u001b[0m\u001b[0meye\u001b[0m\u001b[0;34m(\u001b[0m\u001b[0madj_hat\u001b[0m\u001b[0;34m.\u001b[0m\u001b[0mshape\u001b[0m\u001b[0;34m[\u001b[0m\u001b[0;36m0\u001b[0m\u001b[0;34m]\u001b[0m\u001b[0;34m)\u001b[0m\u001b[0;34m.\u001b[0m\u001b[0mastype\u001b[0m\u001b[0;34m(\u001b[0m\u001b[0mbool\u001b[0m\u001b[0;34m)\u001b[0m\u001b[0;34m]\u001b[0m\u001b[0;34m]\u001b[0m\u001b[0;34m,\u001b[0m\u001b[0;34m\u001b[0m\u001b[0;34m\u001b[0m\u001b[0m\n\u001b[0m\u001b[1;32m      5\u001b[0m     labels=['True Non-edges', 'True Edges', 'Self-loops'])\n\u001b[1;32m      6\u001b[0m \u001b[0mplt\u001b[0m\u001b[0;34m.\u001b[0m\u001b[0mylabel\u001b[0m\u001b[0;34m(\u001b[0m\u001b[0;34mr'Learned value of paramaters'\u001b[0m\u001b[0;34m)\u001b[0m\u001b[0;34m\u001b[0m\u001b[0;34m\u001b[0m\u001b[0m\n",
      "\u001b[0;31mIndexError\u001b[0m: boolean index did not match indexed array along dimension 0; dimension is 74 but corresponding boolean dimension is 100"
     ]
    },
    {
     "data": {
      "image/png": "[encoded data removed]",
      "text/plain": [
       "<Figure size 720x360 with 1 Axes>"
      ]
     },
     "metadata": {
      "needs_background": "light"
     },
     "output_type": "display_data"
    }
   ],
   "source": [
    "plt.figure(figsize=(10, 5))\n",
    "plt.grid()\n",
    "plt.boxplot(\n",
    "    [adj_hat[adjacency_true == 0.0], adj_hat[adjacency_true > 0.0], adj_hat[np.eye(adj_hat.shape[0]).astype(bool)]],\n",
    "    labels=['True Non-edges', 'True Edges', 'Self-loops'])\n",
    "plt.ylabel(r'Learned value of paramaters')\n",
    "plt.title('Distribution of learned adjacency weights');"
   ]
  },
  {
   "cell_type": "code",
   "execution_count": 30,
   "metadata": {},
   "outputs": [
    {
     "data": {
      "image/png": "[encoded data removed]",
      "text/plain": [
       "<Figure size 432x288 with 1 Axes>"
      ]
     },
     "metadata": {
      "needs_background": "light"
     },
     "output_type": "display_data"
    }
   ],
   "source": [
    "plt.boxplot([adj_hat.flatten(), beta_hat.flatten()], labels=['Alphas', 'Betas']);"
   ]
  },
  {
   "cell_type": "code",
   "execution_count": null,
   "metadata": {},
   "outputs": [],
   "source": [
    "plt.boxplot([beta_hat.flatten()], labels=['Betas']);"
   ]
  },
  {
   "cell_type": "code",
   "execution_count": 63,
   "metadata": {},
   "outputs": [
    {
     "data": {
      "text/plain": [
       "438.1698536861238"
      ]
     },
     "execution_count": 63,
     "metadata": {},
     "output_type": "execute_result"
    }
   ],
   "source": [
    "vi_model._b_x0.max()"
   ]
  },
  {
   "cell_type": "code",
   "execution_count": 18,
   "metadata": {
    "scrolled": false
   },
   "outputs": [
    {
     "data": {
      "text/plain": [
       "(array([32]), array([10]))"
      ]
     },
     "execution_count": 18,
     "metadata": {},
     "output_type": "execute_result"
    }
   ],
   "source": [
    "np.where(vi_model._b_x0 > 438)"
   ]
  },
  {
   "cell_type": "code",
   "execution_count": 19,
   "metadata": {},
   "outputs": [
    {
     "data": {
      "text/plain": [
       "(array([], dtype=int64), array([], dtype=int64))"
      ]
     },
     "execution_count": 19,
     "metadata": {},
     "output_type": "execute_result"
    }
   ],
   "source": [
    "np.where(np.isinf(vi_model._bs_po))"
   ]
  },
  {
   "cell_type": "code",
   "execution_count": 20,
   "metadata": {},
   "outputs": [],
   "source": [
    "j=32\n",
    "i=10\n",
    "n=0"
   ]
  },
  {
   "cell_type": "code",
   "execution_count": 39,
   "metadata": {},
   "outputs": [],
   "source": [
    "D = (vi_model.valid_mask_ikj[i][:, 1:] * np.expand_dims(vi_model.dt_ik[i], 1) *\n",
    "                  tsvar.models._wold_var.expect_inv_beta_p_delta(vi_model._bs_po[:, i], vi_model._br_po[:, i],\n",
    "                                          vi_model.delta_ikj[i][:, 1:] + 1e-20))"
   ]
  },
  {
   "cell_type": "code",
   "execution_count": 21,
   "metadata": {
    "scrolled": true
   },
   "outputs": [
    {
     "data": {
      "text/plain": [
       "(7.906837418291419, 3902.7076483788437)"
      ]
     },
     "execution_count": 21,
     "metadata": {},
     "output_type": "execute_result"
    }
   ],
   "source": [
    "vi_model._bs_po[j, i], vi_model._br_po[j, i]"
   ]
  },
  {
   "cell_type": "code",
   "execution_count": 31,
   "metadata": {},
   "outputs": [
    {
     "data": {
      "text/plain": [
       "565.0498791303933"
      ]
     },
     "execution_count": 31,
     "metadata": {},
     "output_type": "execute_result"
    }
   ],
   "source": [
    "vi_model._br_po[j, i] / (vi_model._bs_po[j, i] - 1)"
   ]
  },
  {
   "cell_type": "code",
   "execution_count": 22,
   "metadata": {},
   "outputs": [
    {
     "data": {
      "text/plain": [
       "(438.1698536861238, 541.5284710701978)"
      ]
     },
     "execution_count": 22,
     "metadata": {},
     "output_type": "execute_result"
    }
   ],
   "source": [
    "vi_model._b_x0[j, i], vi_model._b_xn[j, i]"
   ]
  },
  {
   "cell_type": "raw",
   "metadata": {},
   "source": [
    "#vi_model.fit(as_pr=as_pr, ar_pr=ar_pr, bs_pr=bs_pr, br_pr=br_pr, zc_pr=zc_pr, max_iter=0, tol=1e-5)\n",
    "\n",
    "vi_model._init_fit(as_pr=as_pr, ar_pr=ar_pr, bs_pr=bs_pr, br_pr=br_pr, zc_pr=zc_pr)\n",
    "vi_model._as_po, vi_model._ar_po = tsvar.models._wold_var._update_alpha(\n",
    "    as_pr=vi_model._as_pr, ar_pr=vi_model._ar_pr, zp_po=vi_model._zp_po,\n",
    "    bs_po=vi_model._bs_po, br_po=vi_model._br_po, dt_ik=vi_model.dt_ik,\n",
    "    delta_ikj=vi_model.delta_ikj, valid_mask_ikj=vi_model.valid_mask_ikj)"
   ]
  },
  {
   "cell_type": "code",
   "execution_count": 25,
   "metadata": {},
   "outputs": [],
   "source": [
    "kwargs = {'bs_pr': vi_model._bs_pr, 'br_pr': vi_model._br_pr, \n",
    "          'as_po': vi_model._as_po, 'ar_po': vi_model._ar_po, \n",
    "          'zp_po': vi_model._zp_po, 'dts': vi_model.dt_ik, \n",
    "          'delta': vi_model.delta_ikj, 'valid_mask': vi_model.valid_mask_ikj}\n",
    "\n",
    "x = np.linspace(0.01, 500.0, 100)\n",
    "n = 5\n",
    "\n",
    "y = np.zeros_like(x)\n",
    "dy = np.zeros_like(x)\n",
    "dy2 = np.zeros_like(x)\n",
    "\n",
    "for ii, xx in enumerate(x):\n",
    "    y[ii], dy[ii], dy2[ii] = tsvar.models._wold_var._beta_funcs(xx, j=j, i=i, n=n, **kwargs)"
   ]
  },
  {
   "cell_type": "code",
   "execution_count": 28,
   "metadata": {},
   "outputs": [
    {
     "name": "stdout",
     "output_type": "stream",
     "text": [
      "500.0\n"
     ]
    },
    {
     "data": {
      "text/plain": [
       "(-10.0, 10)"
      ]
     },
     "execution_count": 28,
     "metadata": {},
     "output_type": "execute_result"
    },
    {
     "data": {
      "image/png": "[encoded data removed]",
      "text/plain": [
       "<Figure size 1080x360 with 1 Axes>"
      ]
     },
     "metadata": {
      "needs_background": "light"
     },
     "output_type": "display_data"
    }
   ],
   "source": [
    "plt.figure(figsize=(15, 5))\n",
    "plt.grid()\n",
    "\n",
    "root = x[y < 0][-1]\n",
    "print(root)\n",
    "plt.axvline(root, c='r', ls=':')\n",
    "plt.axhline(0.0, c='k', ls='-')\n",
    "\n",
    "plt.plot(x, y, c='C0', label='func')\n",
    "#plt.plot(x, dy, c='C1', label=\"fprime\")\n",
    "#plt.plot(x, dy2, c='C2', label='fprime2')\n",
    "\n",
    "#plt.xticks(np.arange(0, 10.1, 1))\n",
    "plt.legend()\n",
    "\n",
    "plt.ylim(bottom=-10.0, top=10)"
   ]
  },
  {
   "cell_type": "code",
   "execution_count": null,
   "metadata": {},
   "outputs": [],
   "source": []
  },
  {
   "cell_type": "code",
   "execution_count": 327,
   "metadata": {},
   "outputs": [
    {
     "name": "stdout",
     "output_type": "stream",
     "text": [
      "CPU times: user 914 ms, sys: 43.5 ms, total: 958 ms\n",
      "Wall time: 82.7 ms\n",
      "0.9360952765049778\n"
     ]
    },
    {
     "data": {
      "text/plain": [
       "(-0.0002005966396083636, 4217.79572404152, -16215.984100519088)"
      ]
     },
     "execution_count": 327,
     "metadata": {},
     "output_type": "execute_result"
    }
   ],
   "source": [
    "%time val_halley = tsvar.models._wold_var.solve_halley(xstart=0.01, max_iter=10, tol=1e-5, j=j, i=i, n=n, **kwargs)\n",
    "\n",
    "print(val_halley)\n",
    "tsvar.models._wold_var._beta_funcs(x=val_halley, j=j, i=i, n=n, **kwargs)"
   ]
  },
  {
   "cell_type": "code",
   "execution_count": 325,
   "metadata": {},
   "outputs": [
    {
     "name": "stdout",
     "output_type": "stream",
     "text": [
      "CPU times: user 1.54 s, sys: 119 ms, total: 1.66 s\n",
      "Wall time: 115 ms\n",
      "0.9360232543945313\n"
     ]
    },
    {
     "data": {
      "text/plain": [
       "(-0.30401720821884837, 4218.963818892837, -16221.134330802157)"
      ]
     },
     "execution_count": 325,
     "metadata": {},
     "output_type": "execute_result"
    }
   ],
   "source": [
    "%time val_bs = tsvar.models._wold_var.solve_binary_search(x_min=0.01, x_max=50.0, max_iter=15, tol=1e-2, j=j, i=i, n=n, **kwargs)\n",
    "\n",
    "print(val_bs)\n",
    "tsvar.models._wold_var._beta_funcs(x=val_bs, j=j, i=i, n=n, **kwargs)"
   ]
  },
  {
   "cell_type": "code",
   "execution_count": 328,
   "metadata": {},
   "outputs": [
    {
     "name": "stdout",
     "output_type": "stream",
     "text": [
      "CPU times: user 914 ms, sys: 9.6 ms, total: 923 ms\n",
      "Wall time: 69.6 ms\n",
      "0.936094358339863\n"
     ]
    },
    {
     "data": {
      "text/plain": [
       "(-0.00407323637014656, 4217.810613022555, -16216.04974523471)"
      ]
     },
     "execution_count": 328,
     "metadata": {},
     "output_type": "execute_result"
    }
   ],
   "source": [
    "%time val_nt = tsvar.models._wold_var.solve_newton(xstart=0.1, max_iter=10, tol=1e-2, j=j, i=i, n=n, **kwargs)\n",
    "\n",
    "print(val_nt)\n",
    "tsvar.models._wold_var._beta_funcs(x=val_nt, j=j, i=i, n=n, **kwargs)"
   ]
  },
  {
   "cell_type": "code",
   "execution_count": null,
   "metadata": {},
   "outputs": [],
   "source": []
  },
  {
   "cell_type": "code",
   "execution_count": null,
   "metadata": {},
   "outputs": [],
   "source": []
  },
  {
   "cell_type": "markdown",
   "metadata": {},
   "source": [
    "---\n",
    "\n",
    "### Run GB"
   ]
  },
  {
   "cell_type": "code",
   "execution_count": 33,
   "metadata": {},
   "outputs": [],
   "source": [
    "import gb\n",
    "import time\n",
    "\n",
    "dim = len(events_filtered)\n",
    "\n",
    "# Define model\n",
    "granger_model = gb.GrangerBusca(\n",
    "    alpha_prior=1.0/len(events_filtered),\n",
    "    num_iter=300,\n",
    "    metropolis=True,\n",
    "    beta_strategy=1.0,\n",
    "    num_jobs=48,\n",
    ")\n",
    "granger_model.fit(events_filtered)"
   ]
  },
  {
   "cell_type": "code",
   "execution_count": 37,
   "metadata": {
    "scrolled": false
   },
   "outputs": [
    {
     "name": "stdout",
     "output_type": "stream",
     "text": [
      "\n",
      "==================================================\n",
      "========== Method: GrangerBusca\n",
      "\n",
      "Accuracy: 0.11\n",
      "\n",
      "Edge counts\n",
      "------------\n",
      "Pred: 290.00\n",
      "True: 612.00\n",
      "\n",
      "Error counts\n",
      "------------\n",
      " True Positive: 28.00\n",
      "False Positive: 262.00\n",
      " True Negative: 4602.00\n",
      "False Negative: 584.00\n",
      "\n",
      "Error rates\n",
      "-----------\n",
      " True Positive Rate: 0.05\n",
      "False Positive Rate: 0.05\n",
      " True Negative Rate: 0.95\n",
      "False Negative Rate: 0.95\n",
      "\n",
      "F-Score\n",
      "-------\n",
      " F1-Score: 0.06\n",
      "Precision: 0.10\n",
      "   Recall: 0.05\n",
      "\n",
      "Precision@k\n",
      "-----------\n",
      " Prec@5: 0.00\n",
      "Prec@10: 0.00\n",
      "Prec@20: 0.00\n",
      "\n",
      "Average Precision@k per node\n",
      "----------------------------\n",
      "AvgPrec@k per node:\n",
      "5 0.3033333333333332\n",
      "10 0.22499999999999998\n",
      "20 0.1333333333333333\n",
      "\n"
     ]
    }
   ],
   "source": [
    "# Extract infered adjacency\n",
    "mu_hat = granger_model.mu_\n",
    "\n",
    "adj_hat = granger_model.Alpha_.toarray()\n",
    "adj_hat = adj_hat / adj_hat.sum(axis=1)[:, None]\n",
    "\n",
    "beta_hat = np.ones((dim, dim)) * (granger_model.beta_)\n",
    "\n",
    "#adj_hat[np.eye(dim).astype(bool)] = 0.0 # remove self-loops\n",
    "\n",
    "#adj_hat = adj_hat / beta_hat  # Does not matter\n",
    "\n",
    "THRESH = 0.00  # GB is already sparse\n",
    "\n",
    "experiments_utils.print_report(name=type(granger_model).__name__, adj_hat=adj_hat, adj_true=adjacency_true_filtered, thresh=0)"
   ]
  },
  {
   "cell_type": "code",
   "execution_count": 42,
   "metadata": {},
   "outputs": [
    {
     "data": {
      "image/png": "[encoded data removed]",
      "text/plain": [
       "<Figure size 432x288 with 1 Axes>"
      ]
     },
     "metadata": {
      "needs_background": "light"
     },
     "output_type": "display_data"
    }
   ],
   "source": [
    "diag_mask = np.eye(adj_hat.shape[0]).astype(bool)\n",
    "plt.boxplot([\n",
    "    mu_hat,\n",
    "    adj_hat[(diag_mask)], \n",
    "    adj_hat[~diag_mask]\n",
    "], labels=['Background', 'Diagonal', 'Cross-interations']);\n",
    "plt.yscale('log')"
   ]
  },
  {
   "cell_type": "code",
   "execution_count": null,
   "metadata": {},
   "outputs": [],
   "source": []
  },
  {
   "cell_type": "code",
   "execution_count": null,
   "metadata": {},
   "outputs": [],
   "source": []
  },
  {
   "cell_type": "code",
   "execution_count": 56,
   "metadata": {
    "scrolled": true
   },
   "outputs": [
    {
     "data": {
      "text/plain": [
       "1.0"
      ]
     },
     "execution_count": 56,
     "metadata": {},
     "output_type": "execute_result"
    }
   ],
   "source": [
    "np.sort(adj_hat.flatten())[-1]"
   ]
  },
  {
   "cell_type": "code",
   "execution_count": 57,
   "metadata": {
    "scrolled": true
   },
   "outputs": [
    {
     "data": {
      "text/plain": [
       "(array([ 8, 14, 72, 75, 78]), array([ 8, 14, 72, 75, 78]))"
      ]
     },
     "execution_count": 57,
     "metadata": {},
     "output_type": "execute_result"
    }
   ],
   "source": [
    "np.where(adj_hat == 1.0)"
   ]
  },
  {
   "cell_type": "code",
   "execution_count": 67,
   "metadata": {},
   "outputs": [
    {
     "data": {
      "image/png": "[encoded data removed]",
      "text/plain": [
       "<Figure size 432x288 with 1 Axes>"
      ]
     },
     "metadata": {
      "needs_background": "light"
     },
     "output_type": "display_data"
    }
   ],
   "source": [
    "diag_mask = np.eye(100).astype(bool)\n",
    "plt.boxplot([\n",
    "    adjacency_true[(~diag_mask) & (adjacency_true > 0)], \n",
    "    adjacency_true[diag_mask & (adjacency_true > 0)]\n",
    "], labels=['Out of diag', 'diag']);\n",
    "plt.yscale('log')"
   ]
  },
  {
   "cell_type": "code",
   "execution_count": null,
   "metadata": {},
   "outputs": [],
   "source": []
  },
  {
   "cell_type": "markdown",
   "metadata": {},
   "source": [
    "---"
   ]
  },
  {
   "cell_type": "markdown",
   "metadata": {},
   "source": [
    "## Random adjacency matrix"
   ]
  },
  {
   "cell_type": "code",
   "execution_count": 105,
   "metadata": {},
   "outputs": [
    {
     "name": "stdout",
     "output_type": "stream",
     "text": [
      "\n",
      "==================================================\n",
      "========== Method: RANDOM\n",
      "\n",
      "Accuracy: 0.09\n",
      "\n",
      "Edge counts\n",
      "------------\n",
      "Pred: 861.00\n",
      "True: 914.00\n",
      "\n",
      "Error counts\n",
      "------------\n",
      " True Positive: 88.00\n",
      "False Positive: 773.00\n",
      " True Negative: 8313.00\n",
      "False Negative: 826.00\n",
      "\n",
      "Error rates\n",
      "-----------\n",
      " True Positive Rate: 0.10\n",
      "False Positive Rate: 0.09\n",
      " True Negative Rate: 0.91\n",
      "False Negative Rate: 0.90\n",
      "\n",
      "F-Score\n",
      "-------\n",
      " F1-Score: 0.10\n",
      "Precision: 0.10\n",
      "   Recall: 0.10\n",
      "\n",
      "Precision@k\n",
      "-----------\n",
      " Prec@5: 0.00\n",
      "Prec@10: 0.00\n",
      "Prec@20: 0.10\n",
      "\n",
      "Average Precision@k per node\n",
      "----------------------------\n",
      "AvgPrec@k per node:\n",
      "5 0.3212765957446806\n",
      "10 0.3882978723404256\n",
      "20 0.25691489361702136\n",
      "\n"
     ]
    }
   ],
   "source": [
    "adj_hat = np.random.random(size=adjacency_true.shape) * np.random.binomial(n=1, p=0.0914, size=adjacency_true.shape)\n",
    "adj_hat = adj_hat / adj_hat.sum(axis=1)[:, None]\n",
    "\n",
    "experiments_utils.print_report(name='RANDOM', adj_hat=adj_hat, adj_true=adjacency_true, thresh=0)"
   ]
  },
  {
   "cell_type": "code",
   "execution_count": null,
   "metadata": {},
   "outputs": [],
   "source": []
  }
 ],
 "metadata": {
  "kernelspec": {
   "display_name": "Python 3",
   "language": "python",
   "name": "python3"
  },
  "language_info": {
   "codemirror_mode": {
    "name": "ipython",
    "version": 3
   },
   "file_extension": ".py",
   "mimetype": "text/x-python",
   "name": "python",
   "nbconvert_exporter": "python",
   "pygments_lexer": "ipython3",
   "version": "3.7.7"
  }
 },
 "nbformat": 4,
 "nbformat_minor": 4
}

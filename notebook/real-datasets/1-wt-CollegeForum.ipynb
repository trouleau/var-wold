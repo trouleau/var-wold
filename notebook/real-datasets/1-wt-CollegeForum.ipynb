{
 "cells": [
  {
   "cell_type": "code",
   "execution_count": 1,
   "metadata": {},
   "outputs": [],
   "source": [
    "%load_ext autoreload\n",
    "%autoreload 2"
   ]
  },
  {
   "cell_type": "code",
   "execution_count": 2,
   "metadata": {},
   "outputs": [],
   "source": [
    "from matplotlib import pyplot as plt\n",
    "import networkx as nx\n",
    "import numpy as np\n",
    "import pandas as pd\n",
    "import itertools\n",
    "import torch\n",
    "import os\n",
    "\n",
    "import scipy.stats\n",
    "\n",
    "import tsvar\n",
    "from tsvar.preprocessing import Dataset\n",
    "import experiments_utils"
   ]
  },
  {
   "cell_type": "markdown",
   "metadata": {},
   "source": [
    "Set cells width"
   ]
  },
  {
   "cell_type": "code",
   "execution_count": 3,
   "metadata": {},
   "outputs": [
    {
     "data": {
      "text/html": [
       "<style>.container { width:80% !important; }</style>"
      ],
      "text/plain": [
       "<IPython.core.display.HTML object>"
      ]
     },
     "metadata": {},
     "output_type": "display_data"
    }
   ],
   "source": [
    "from IPython.core.display import display, HTML\n",
    "display(HTML(\"<style>.container { width:80% !important; }</style>\"))"
   ]
  },
  {
   "cell_type": "markdown",
   "metadata": {},
   "source": [
    "---\n",
    "\n",
    "## Load the dataset\n",
    "\n",
    "Set input path"
   ]
  },
  {
   "cell_type": "code",
   "execution_count": 5,
   "metadata": {},
   "outputs": [],
   "source": [
    "INPUT_PATH = \"../../data/CollegeForum/dataset-collegeForum.pk\""
   ]
  },
  {
   "cell_type": "markdown",
   "metadata": {},
   "source": [
    "Load the dataset"
   ]
  },
  {
   "cell_type": "code",
   "execution_count": 11,
   "metadata": {},
   "outputs": [],
   "source": [
    "dataset = Dataset.from_pickle(INPUT_PATH)"
   ]
  },
  {
   "cell_type": "code",
   "execution_count": 12,
   "metadata": {
    "scrolled": true
   },
   "outputs": [
    {
     "data": {
      "image/png": "[encoded data removed]",
      "text/plain": [
       "<Figure size 1584x252 with 4 Axes>"
      ]
     },
     "metadata": {
      "needs_background": "light"
     },
     "output_type": "display_data"
    }
   ],
   "source": [
    "fig, axs = plt.subplots(1, 4, figsize=(22, 3.5))\n",
    "\n",
    "axs[0].hist(np.hstack(dataset.timestamps))\n",
    "axs[0].set_xlabel('Time')\n",
    "axs[0].set_ylabel('Num. Events')\n",
    "axs[0].set_title('Histogram of events over time')\n",
    "\n",
    "axs[1].hist(list(map(len, dataset.timestamps)))\n",
    "axs[1].set_xlabel('Num. Events')\n",
    "axs[1].set_ylabel('Num. Dimensions')\n",
    "axs[1].set_title('Number of events in each dim')\n",
    "\n",
    "\n",
    "end_time = max(map(max, dataset.timestamps))\n",
    "axs[2].hist(list(map(min, dataset.timestamps)), bins=np.linspace(0, end_time, 20))\n",
    "axs[2].set_title('First of event in each dim')\n",
    "axs[2].set_xlabel('Time')\n",
    "\n",
    "axs[3].hist(list(map(max, dataset.timestamps)), bins=np.linspace(0, end_time, 20))\n",
    "axs[3].set_title('Last of events in each dim')\n",
    "axs[2].set_xlabel('Time')\n",
    "\n",
    "fig.suptitle(f\"Dataset {os.path.split(INPUT_PATH)[1]}\", y=1.05);"
   ]
  },
  {
   "cell_type": "markdown",
   "metadata": {},
   "source": [
    "Print statistics of the dataset"
   ]
  },
  {
   "cell_type": "code",
   "execution_count": 13,
   "metadata": {
    "scrolled": true
   },
   "outputs": [
    {
     "name": "stdout",
     "output_type": "stream",
     "text": [
      "Num. of dimensions: 97\n",
      "    Num. of events: 4,254\n",
      "               %NZ: 5.44%\n",
      "\n",
      "Stats. of num. of events per dim:\n",
      "count     97.000000\n",
      "mean      43.855670\n",
      "std       55.632161\n",
      "min        3.000000\n",
      "25%       17.000000\n",
      "50%       29.000000\n",
      "75%       47.000000\n",
      "max      335.000000\n",
      "dtype: float64\n"
     ]
    }
   ],
   "source": [
    "print(f\"Num. of dimensions: {len(dataset.timestamps):,d}\")\n",
    "print(f\"    Num. of events: {sum(map(len, dataset.timestamps)):,d}\")\n",
    "print(f\"               %NZ: {100 * dataset.graph.number_of_edges() / (dataset.graph.number_of_nodes() ** 2):.2f}%\")\n",
    "print()\n",
    "print(\"Stats. of num. of events per dim:\")\n",
    "num_jumps_per_dim = np.array(list(map(len, dataset.timestamps)))\n",
    "print(pd.Series(num_jumps_per_dim).describe())"
   ]
  },
  {
   "cell_type": "code",
   "execution_count": 14,
   "metadata": {},
   "outputs": [],
   "source": [
    "min_time = min(map(min, dataset.timestamps))\n",
    "dataset.timestamps = [ev - min_time for ev in dataset.timestamps]"
   ]
  },
  {
   "cell_type": "markdown",
   "metadata": {},
   "source": [
    "#### Visualize the scale of time using empirical inter-arrival time distributions\n",
    "\n",
    "Compute this for both definitions $\\{\\beta_j\\}$ and $\\{\\beta_{ij}\\}$."
   ]
  },
  {
   "cell_type": "code",
   "execution_count": 15,
   "metadata": {
    "scrolled": false
   },
   "outputs": [
    {
     "name": "stdout",
     "output_type": "stream",
     "text": [
      "Busca estimators of **beta_j**:\n",
      "count    97.000000\n",
      "mean      3.673958\n",
      "std       8.926176\n",
      "min       0.054121\n",
      "25%       0.692930\n",
      "50%       1.507842\n",
      "75%       2.840387\n",
      "max      67.277632\n",
      "dtype: float64\n",
      "\n",
      "Busca estimators of **beta_{ji}**:\n",
      "count    9409.000000\n",
      "mean        2.863596\n",
      "std         6.697033\n",
      "min         0.000000\n",
      "25%         0.337757\n",
      "50%         0.934355\n",
      "75%         2.365677\n",
      "max        78.644760\n",
      "dtype: float64\n",
      "\n"
     ]
    },
    {
     "data": {
      "image/png": "[encoded data removed]",
      "text/plain": [
       "<Figure size 1152x288 with 2 Axes>"
      ]
     },
     "metadata": {
      "needs_background": "light"
     },
     "output_type": "display_data"
    }
   ],
   "source": [
    "fig, axs = plt.subplots(1, 2, figsize=(16, 4), sharey=True)\n",
    "\n",
    "busca_betas = np.array([np.median(np.hstack((ev[0], np.diff(ev)))) for ev in dataset.timestamps])\n",
    "plt.sca(axs[0])\n",
    "plt.grid()\n",
    "plt.boxplot(busca_betas, labels=[r'Distribution of Busca estimators of $\\beta_j$']);\n",
    "plt.yscale('log')\n",
    "print('Busca estimators of **beta_j**:')\n",
    "print(pd.Series(busca_betas.flatten()).describe())\n",
    "print()\n",
    "\n",
    "wold_model = tsvar.models.WoldModel()\n",
    "wold_model.observe(dataset.timestamps)\n",
    "busca_beta_ji = np.zeros((wold_model.dim, wold_model.dim))\n",
    "for i in range(wold_model.dim):\n",
    "    busca_beta_ji[:, i] = np.median(wold_model.delta_ikj[i][:, :], axis=0) / np.exp(1)\n",
    "del wold_model\n",
    "plt.sca(axs[1])\n",
    "plt.grid()\n",
    "plt.boxplot(busca_beta_ji.flatten(), labels=[r'Distribution of Busca estimators of $\\beta_{ji}$']);\n",
    "plt.yscale('log')\n",
    "print('Busca estimators of **beta_{ji}**:')\n",
    "print(pd.Series(busca_beta_ji.flatten()).describe())\n",
    "print()"
   ]
  },
  {
   "cell_type": "markdown",
   "metadata": {},
   "source": [
    "Build ground truth adjacency matrix"
   ]
  },
  {
   "cell_type": "code",
   "execution_count": 16,
   "metadata": {},
   "outputs": [],
   "source": [
    "adjacency_true = nx.adjacency_matrix(dataset.graph, nodelist=range(dataset.dim)).toarray()\n",
    "adjacency_true = adjacency_true / adjacency_true.max()"
   ]
  },
  {
   "cell_type": "code",
   "execution_count": 17,
   "metadata": {},
   "outputs": [],
   "source": [
    "events = dataset.timestamps\n",
    "end_time = dataset.end_time"
   ]
  },
  {
   "cell_type": "markdown",
   "metadata": {},
   "source": [
    "---\n",
    "\n",
    "## Run inference"
   ]
  },
  {
   "cell_type": "markdown",
   "metadata": {},
   "source": [
    "---\n",
    "\n",
    "### Run BBVI"
   ]
  },
  {
   "cell_type": "code",
   "execution_count": null,
   "metadata": {},
   "outputs": [],
   "source": [
    "dim = len(events)\n",
    "n_params = dim + dim**2 + dim**2\n",
    "end_time = max(map(max, events))\n",
    "\n",
    "# Set initial guess\n",
    "coeffs_start = torch.tensor(np.hstack((\n",
    "    # loc\n",
    "    -2.0 * torch.ones(dim, dtype=torch.float),                   # baseline\n",
    "    -2.0 * torch.ones((dim, dim), dtype=torch.float).flatten(),  # beta\n",
    "     0.0 * torch.ones((dim, dim), dtype=torch.float).flatten(),  # adjacency\n",
    "    # scale\n",
    "    torch.log(0.2 * torch.ones(dim, dtype=torch.float)),\n",
    "    torch.log(1.0 * torch.ones((dim, dim), dtype=torch.float).flatten()),\n",
    "    torch.log(1.0 * torch.ones((dim, dim), dtype=torch.float).flatten()),\n",
    ")))\n",
    "\n",
    "# Define priors/posteriors\n",
    "posterior = tsvar.posteriors.LogNormalPosterior\n",
    "prior = tsvar.priors.GaussianLaplacianPrior\n",
    "mask_gaus = torch.zeros(n_params, dtype=torch.bool)\n",
    "mask_gaus[:dim + dim**2] = 1  # Gaussian prior for baseline and beta\n",
    "C = 1e2\n",
    "\n",
    "# Init the model object\n",
    "model = tsvar.models.WoldModelBBVI(posterior=posterior, prior=prior, C=C,\n",
    "                                   prior_kwargs={'mask_gaus': mask_gaus},\n",
    "                                   n_samples=1, n_weights=1, weight_temp=1,\n",
    "                                   verbose=False, device='cpu')\n",
    "model.observe(events, end_time)\n",
    "\n",
    "# Set link function for callback (vi coeffs -> posterior mode)\n",
    "def link_func(coeffs):\n",
    "    \"\"\"variationa coeffs -> posterior mode of adjacency\"\"\"\n",
    "    # Numpy to torch\n",
    "    coeffs = torch.tensor(coeffs) if isinstance(coeffs, np.ndarray) else coeffs\n",
    "    params_mode = model.posterior.mode(\n",
    "        coeffs[:model.n_params], coeffs[model.n_params:]\n",
    "    ).detach().numpy()\n",
    "    beta_mode = params_mode[dim:-dim**2]\n",
    "    adj_mode = params_mode[-dim**2:]\n",
    "    return adj_mode / beta_mode\n",
    "\n",
    "\n",
    "class MyCallback(tsvar.utils.callbacks.LearnerCallbackMLE):\n",
    "    \n",
    "    def __call__(self, learner_obj, end=None, force=False):\n",
    "        super().__call__(learner_obj, end, force)\n",
    "        t = learner_obj._n_iter_done + 1\n",
    "        if (t % self.print_every == 0) or force:\n",
    "            coeffs_hat = model.posterior.mode(model.coeffs[:n_params], model.coeffs[n_params:]).detach().numpy()\n",
    "            mu_hat = coeffs_hat[:dim]\n",
    "            beta_hat = coeffs_hat[dim:dim+dim**2]\n",
    "            adj_hat = coeffs_hat[dim+dim**2:]\n",
    "            print(f'   mu --> min: {mu_hat.min():.2e}, median: {np.median(mu_hat):.2e}, max: {mu_hat.max():.2e}')\n",
    "            print(f' beta --> min: {beta_hat.min():.2e}, median: {np.median(beta_hat):.2e}, max: {beta_hat.max():.2e}')\n",
    "            print(f'  adj --> min: {adj_hat.min():.2e}, median: {np.median(adj_hat):.2e}, max: {adj_hat.max():.2e}', flush=True)\n",
    "\n",
    "# Set the callback (callback parameters are posterior mode)\n",
    "callback = MyCallback(\n",
    "    x0=posterior().mode(\n",
    "        coeffs_start[:dim+2*dim**2], coeffs_start[dim+2*dim**2:]\n",
    "    )[dim:dim+dim**2],\n",
    "    print_every=50,\n",
    "    coeffs_true=adjacency_true,\n",
    "    acc_thresh=0.05,\n",
    "    dim=dim,\n",
    "    link_func=link_func,\n",
    "    default_end='\\n')\n",
    "\n",
    "\n",
    "# Fit the model\n",
    "conv = model.fit(x0=coeffs_start, optimizer=torch.optim.Adam, lr=1e-1,\n",
    "                 lr_sched=0.9999, tol=1e-6, max_iter=20000,\n",
    "                 mstep_interval=100, mstep_offset=500, mstep_momentum=0.5,\n",
    "                 seed=None, callback=callback)"
   ]
  },
  {
   "cell_type": "code",
   "execution_count": null,
   "metadata": {},
   "outputs": [],
   "source": [
    "coeffs_hat = model.posterior.mode(model.coeffs[:n_params], model.coeffs[n_params:]).detach().numpy()\n",
    "mu_hat = coeffs_hat[:dim]\n",
    "beta_hat = coeffs_hat[dim:dim+dim**2]\n",
    "adj_hat = coeffs_hat[dim+dim**2:]"
   ]
  },
  {
   "cell_type": "code",
   "execution_count": null,
   "metadata": {},
   "outputs": [],
   "source": [
    "plt.boxplot([adj_hat.flatten(), beta_hat.flatten()]);\n",
    "plt.title(f'Method {type(model).__name__}')"
   ]
  },
  {
   "cell_type": "code",
   "execution_count": null,
   "metadata": {},
   "outputs": [],
   "source": [
    "coeffs_hat = model.posterior.mode(model.coeffs[:n_params], model.coeffs[n_params:]).detach().numpy()\n",
    "beta_hat = coeffs_hat[dim:dim+dim**2]\n",
    "adj_hat = coeffs_hat[dim+dim**2:]\n",
    "\n",
    "adj_hat = adj_hat / beta_hat\n",
    "\n",
    "experiments_utils.print_report(name=type(model).__name__, adj_hat=adj_hat, adj_true=adjacency_true, thresh=0.02)"
   ]
  },
  {
   "cell_type": "code",
   "execution_count": null,
   "metadata": {},
   "outputs": [],
   "source": []
  },
  {
   "cell_type": "markdown",
   "metadata": {},
   "source": [
    "---\n",
    "\n",
    "### Run VI"
   ]
  },
  {
   "cell_type": "code",
   "execution_count": 18,
   "metadata": {},
   "outputs": [
    {
     "name": "stdout",
     "output_type": "stream",
     "text": [
      "ALPHA:\n",
      "------\n",
      "mean\n",
      "0.01\n",
      "variance\n",
      "0.01\n",
      "BETA:\n",
      "-----\n",
      "mean\n",
      "1.1111111111111112\n",
      "variance\n",
      "0.15432098765432098\n"
     ]
    }
   ],
   "source": [
    "dim = len(events)\n",
    "\n",
    "# Set priors\n",
    "# prior: Alpha\n",
    "as_pr = 0.01 * np.ones((dim + 1, dim))\n",
    "ar_pr = 1.0 * np.ones((dim + 1, dim))\n",
    "\n",
    "# prior: Beta\n",
    "bs_pr = 10.0 * np.ones((dim, dim))\n",
    "br_pr = 10.0 * np.ones((dim, dim))\n",
    "\n",
    "# prior: Z\n",
    "zc_pr = [1.0 * np.ones((len(events[i]), dim+1)) for i in range(dim)]\n",
    "\n",
    "print('ALPHA:')\n",
    "print('------')\n",
    "print('mean')\n",
    "print(as_pr[0,0] / ar_pr[0,0])\n",
    "print('variance')\n",
    "print(as_pr[0,0] / ar_pr[0,0] ** 2)\n",
    "\n",
    "print('BETA:')\n",
    "print('-----')\n",
    "print('mean')\n",
    "print(br_pr[0,0] / (bs_pr[0,0] - 1))\n",
    "print('variance')\n",
    "print(br_pr[0,0]**2 / ((bs_pr[0,0] - 1)**2 * (bs_pr[0,0] - 2)))"
   ]
  },
  {
   "cell_type": "code",
   "execution_count": 19,
   "metadata": {},
   "outputs": [],
   "source": [
    "# Set model & observations\n",
    "vi_model = tsvar.models.WoldModelVariational(verbose=True)\n",
    "vi_model.observe(events)"
   ]
  },
  {
   "cell_type": "code",
   "execution_count": 20,
   "metadata": {},
   "outputs": [
    {
     "name": "stdout",
     "output_type": "stream",
     "text": [
      "iter:    10 | dx: +3.5831e-01 | f1-score: 0.09 | relerr: 2.03e+00 | p@5: 0.00 | p@10: 0.10 | p@20: 0.20 | time/it: 3.12e+00     \n",
      "iter:    20 | dx: +8.1036e-02 | f1-score: 0.07 | relerr: 2.01e+00 | p@5: 0.00 | p@10: 0.10 | p@20: 0.15 | time/it: 2.93e-01     \n",
      "iter:    30 | dx: +4.8640e-02 | f1-score: 0.05 | relerr: 1.99e+00 | p@5: 0.00 | p@10: 0.20 | p@20: 0.20 | time/it: 2.38e-01     \n",
      "iter:    40 | dx: +4.9345e-02 | f1-score: 0.05 | relerr: 1.98e+00 | p@5: 0.00 | p@10: 0.10 | p@20: 0.20 | time/it: 2.98e-01     \n",
      "iter:    50 | dx: +4.4919e-02 | f1-score: 0.04 | relerr: 1.97e+00 | p@5: 0.00 | p@10: 0.10 | p@20: 0.20 | time/it: 2.58e-01     \n",
      "iter:    60 | dx: +5.0004e-02 | f1-score: 0.04 | relerr: 1.97e+00 | p@5: 0.00 | p@10: 0.10 | p@20: 0.15 | time/it: 2.48e-01     \n",
      "iter:    70 | dx: +5.1525e-02 | f1-score: 0.04 | relerr: 1.97e+00 | p@5: 0.00 | p@10: 0.10 | p@20: 0.15 | time/it: 2.12e-01     \n",
      "iter:    80 | dx: +3.4722e-02 | f1-score: 0.04 | relerr: 1.96e+00 | p@5: 0.00 | p@10: 0.10 | p@20: 0.15 | time/it: 1.97e-01     \n",
      "iter:    90 | dx: +1.8825e-02 | f1-score: 0.04 | relerr: 1.96e+00 | p@5: 0.00 | p@10: 0.10 | p@20: 0.15 | time/it: 1.98e-01     \n",
      "iter:   100 | dx: +1.9914e-02 | f1-score: 0.04 | relerr: 1.96e+00 | p@5: 0.00 | p@10: 0.10 | p@20: 0.15 | time/it: 1.97e-01     \n",
      "iter:   110 | dx: +2.1286e-02 | f1-score: 0.04 | relerr: 1.96e+00 | p@5: 0.00 | p@10: 0.10 | p@20: 0.15 | time/it: 2.04e-01     \n",
      "iter:   120 | dx: +2.8873e-02 | f1-score: 0.04 | relerr: 1.96e+00 | p@5: 0.00 | p@10: 0.10 | p@20: 0.15 | time/it: 1.88e-01     \n",
      "iter:   130 | dx: +1.5613e-02 | f1-score: 0.04 | relerr: 1.96e+00 | p@5: 0.00 | p@10: 0.10 | p@20: 0.15 | time/it: 2.48e-01     \n",
      "iter:   140 | dx: +1.8456e-02 | f1-score: 0.04 | relerr: 1.96e+00 | p@5: 0.00 | p@10: 0.10 | p@20: 0.15 | time/it: 2.69e-01     \n",
      "iter:   150 | dx: +7.9263e-03 | f1-score: 0.04 | relerr: 1.96e+00 | p@5: 0.00 | p@10: 0.10 | p@20: 0.15 | time/it: 2.05e-01     \n",
      "iter:   160 | dx: +1.2186e-02 | f1-score: 0.04 | relerr: 1.96e+00 | p@5: 0.00 | p@10: 0.10 | p@20: 0.15 | time/it: 2.12e-01     \n",
      "iter:   170 | dx: +3.3238e-03 | f1-score: 0.04 | relerr: 1.96e+00 | p@5: 0.00 | p@10: 0.10 | p@20: 0.15 | time/it: 2.24e-01     \n",
      "iter:   180 | dx: +4.5369e-03 | f1-score: 0.04 | relerr: 1.96e+00 | p@5: 0.00 | p@10: 0.10 | p@20: 0.15 | time/it: 2.05e-01     \n",
      "iter:   190 | dx: +7.3022e-03 | f1-score: 0.04 | relerr: 1.96e+00 | p@5: 0.00 | p@10: 0.10 | p@20: 0.15 | time/it: 2.15e-01     \n",
      "iter:   200 | dx: +4.0161e-03 | f1-score: 0.04 | relerr: 1.96e+00 | p@5: 0.00 | p@10: 0.10 | p@20: 0.15 | time/it: 2.26e-01     \n",
      "iter:   210 | dx: +1.6420e-03 | f1-score: 0.04 | relerr: 1.96e+00 | p@5: 0.00 | p@10: 0.10 | p@20: 0.15 | time/it: 2.86e-01     \n",
      "iter:   220 | dx: +9.9507e-04 | f1-score: 0.04 | relerr: 1.96e+00 | p@5: 0.00 | p@10: 0.10 | p@20: 0.15 | time/it: 3.14e-01     \n",
      "iter:   230 | dx: +6.8197e-04 | f1-score: 0.04 | relerr: 1.96e+00 | p@5: 0.00 | p@10: 0.10 | p@20: 0.15 | time/it: 2.83e-01     \n",
      "iter:   240 | dx: +5.6722e-04 | f1-score: 0.04 | relerr: 1.96e+00 | p@5: 0.00 | p@10: 0.10 | p@20: 0.15 | time/it: 3.12e-01     \n",
      "iter:   250 | dx: +6.6881e-04 | f1-score: 0.04 | relerr: 1.96e+00 | p@5: 0.00 | p@10: 0.10 | p@20: 0.15 | time/it: 2.31e-01     \n",
      "iter:   260 | dx: +8.1821e-04 | f1-score: 0.04 | relerr: 1.96e+00 | p@5: 0.00 | p@10: 0.10 | p@20: 0.15 | time/it: 2.39e-01     \n",
      "iter:   270 | dx: +1.0478e-03 | f1-score: 0.04 | relerr: 1.96e+00 | p@5: 0.00 | p@10: 0.10 | p@20: 0.15 | time/it: 2.51e-01     \n",
      "iter:   280 | dx: +1.4244e-03 | f1-score: 0.04 | relerr: 1.96e+00 | p@5: 0.00 | p@10: 0.10 | p@20: 0.15 | time/it: 2.81e-01     \n",
      "iter:   290 | dx: +2.1044e-03 | f1-score: 0.04 | relerr: 1.96e+00 | p@5: 0.00 | p@10: 0.10 | p@20: 0.15 | time/it: 2.83e-01     \n",
      "iter:   300 | dx: +3.5279e-03 | f1-score: 0.04 | relerr: 1.96e+00 | p@5: 0.00 | p@10: 0.10 | p@20: 0.15 | time/it: 2.28e-01     \n",
      "iter:   310 | dx: +7.3475e-03 | f1-score: 0.04 | relerr: 1.96e+00 | p@5: 0.00 | p@10: 0.10 | p@20: 0.15 | time/it: 2.48e-01     \n",
      "iter:   320 | dx: +1.6547e-02 | f1-score: 0.04 | relerr: 1.96e+00 | p@5: 0.00 | p@10: 0.10 | p@20: 0.15 | time/it: 2.47e-01     \n",
      "iter:   330 | dx: +3.6176e-04 | f1-score: 0.04 | relerr: 1.96e+00 | p@5: 0.00 | p@10: 0.10 | p@20: 0.15 | time/it: 2.35e-01     \n",
      "iter:   340 | dx: +1.0488e-04 | f1-score: 0.04 | relerr: 1.96e+00 | p@5: 0.00 | p@10: 0.10 | p@20: 0.15 | time/it: 2.82e-01     \n",
      "iter:   350 | dx: +6.7525e-05 | f1-score: 0.04 | relerr: 1.96e+00 | p@5: 0.00 | p@10: 0.10 | p@20: 0.15 | time/it: 1.97e-01     \n",
      "iter:   360 | dx: +4.2540e-05 | f1-score: 0.04 | relerr: 1.96e+00 | p@5: 0.00 | p@10: 0.10 | p@20: 0.15 | time/it: 1.89e-01     \n",
      "iter:   370 | dx: +2.6738e-05 | f1-score: 0.04 | relerr: 1.96e+00 | p@5: 0.00 | p@10: 0.10 | p@20: 0.15 | time/it: 2.20e-01     \n",
      "iter:   380 | dx: +3.1388e-05 | f1-score: 0.04 | relerr: 1.96e+00 | p@5: 0.00 | p@10: 0.10 | p@20: 0.15 | time/it: 2.71e-01     \n",
      "iter:   390 | dx: +2.3421e-05 | f1-score: 0.04 | relerr: 1.96e+00 | p@5: 0.00 | p@10: 0.10 | p@20: 0.15 | time/it: 2.47e-01     \n",
      "iter:   400 | dx: +2.3493e-05 | f1-score: 0.04 | relerr: 1.96e+00 | p@5: 0.00 | p@10: 0.10 | p@20: 0.15 | time/it: 1.98e-01     \n",
      "iter:   410 | dx: +2.7544e-05 | f1-score: 0.04 | relerr: 1.96e+00 | p@5: 0.00 | p@10: 0.10 | p@20: 0.15 | time/it: 2.71e-01     \n",
      "iter:   420 | dx: +1.8114e-05 | f1-score: 0.04 | relerr: 1.96e+00 | p@5: 0.00 | p@10: 0.10 | p@20: 0.15 | time/it: 2.20e-01     \n",
      "iter:   430 | dx: +2.0700e-05 | f1-score: 0.04 | relerr: 1.96e+00 | p@5: 0.00 | p@10: 0.10 | p@20: 0.15 | time/it: 1.98e-01     \n",
      "iter:   440 | dx: +6.2860e-06 | f1-score: 0.04 | relerr: 1.96e+00 | p@5: 0.00 | p@10: 0.10 | p@20: 0.15 | time/it: 1.79e-01     \n",
      "iter:   450 | dx: +2.2297e-05 | f1-score: 0.04 | relerr: 1.96e+00 | p@5: 0.00 | p@10: 0.10 | p@20: 0.15 | time/it: 1.75e-01     \n",
      "iter:   460 | dx: +1.5134e-05 | f1-score: 0.04 | relerr: 1.96e+00 | p@5: 0.00 | p@10: 0.10 | p@20: 0.15 | time/it: 2.09e-01     \n",
      "iter:   470 | dx: +7.5896e-06 | f1-score: 0.04 | relerr: 1.96e+00 | p@5: 0.00 | p@10: 0.10 | p@20: 0.15 | time/it: 2.12e-01     \n",
      "iter:   480 | dx: +1.0575e-05 | f1-score: 0.04 | relerr: 1.96e+00 | p@5: 0.00 | p@10: 0.10 | p@20: 0.15 | time/it: 2.06e-01     \n",
      "iter:   490 | dx: +2.4815e-05 | f1-score: 0.04 | relerr: 1.96e+00 | p@5: 0.00 | p@10: 0.10 | p@20: 0.15 | time/it: 1.85e-01     \n",
      "iter:   500 | dx: +2.1632e-05 | f1-score: 0.04 | relerr: 1.96e+00 | p@5: 0.00 | p@10: 0.10 | p@20: 0.15 | time/it: 1.70e-01     \n",
      "iter:   510 | dx: +3.6901e-05 | f1-score: 0.04 | relerr: 1.96e+00 | p@5: 0.00 | p@10: 0.10 | p@20: 0.15 | time/it: 1.73e-01     \n",
      "iter:   520 | dx: +4.6627e-05 | f1-score: 0.04 | relerr: 1.96e+00 | p@5: 0.00 | p@10: 0.10 | p@20: 0.15 | time/it: 1.70e-01     \n",
      "iter:   530 | dx: +1.5150e-05 | f1-score: 0.04 | relerr: 1.96e+00 | p@5: 0.00 | p@10: 0.10 | p@20: 0.15 | time/it: 1.77e-01     \n",
      "iter:   540 | dx: +2.5827e-05 | f1-score: 0.04 | relerr: 1.96e+00 | p@5: 0.00 | p@10: 0.10 | p@20: 0.15 | time/it: 1.79e-01     \n",
      "iter:   550 | dx: +1.7801e-05 | f1-score: 0.04 | relerr: 1.96e+00 | p@5: 0.00 | p@10: 0.10 | p@20: 0.15 | time/it: 1.87e-01     \n",
      "iter:   560 | dx: +2.3521e-05 | f1-score: 0.04 | relerr: 1.96e+00 | p@5: 0.00 | p@10: 0.10 | p@20: 0.15 | time/it: 1.70e-01     \n",
      "iter:   570 | dx: +2.8471e-05 | f1-score: 0.04 | relerr: 1.96e+00 | p@5: 0.00 | p@10: 0.10 | p@20: 0.15 | time/it: 1.93e-01     \n",
      "iter:   580 | dx: +1.4308e-05 | f1-score: 0.04 | relerr: 1.96e+00 | p@5: 0.00 | p@10: 0.10 | p@20: 0.15 | time/it: 1.82e-01     \n",
      "iter:   590 | dx: +1.4930e-05 | f1-score: 0.04 | relerr: 1.96e+00 | p@5: 0.00 | p@10: 0.10 | p@20: 0.15 | time/it: 2.01e-01     \n",
      "iter:   600 | dx: +1.4950e-05 | f1-score: 0.04 | relerr: 1.96e+00 | p@5: 0.00 | p@10: 0.10 | p@20: 0.15 | time/it: 1.86e-01     \n",
      "iter:   610 | dx: +3.0417e-05 | f1-score: 0.04 | relerr: 1.96e+00 | p@5: 0.00 | p@10: 0.10 | p@20: 0.15 | time/it: 2.28e-01     \n",
      "iter:   620 | dx: +4.1158e-05 | f1-score: 0.04 | relerr: 1.96e+00 | p@5: 0.00 | p@10: 0.10 | p@20: 0.15 | time/it: 2.82e-01     \n",
      "iter:   630 | dx: +3.4055e-05 | f1-score: 0.04 | relerr: 1.96e+00 | p@5: 0.00 | p@10: 0.10 | p@20: 0.15 | time/it: 1.88e-01     \n",
      "iter:   640 | dx: +2.3028e-05 | f1-score: 0.04 | relerr: 1.96e+00 | p@5: 0.00 | p@10: 0.10 | p@20: 0.15 | time/it: 1.85e-01     \n"
     ]
    },
    {
     "name": "stdout",
     "output_type": "stream",
     "text": [
      "iter:   650 | dx: +3.2392e-05 | f1-score: 0.04 | relerr: 1.96e+00 | p@5: 0.00 | p@10: 0.10 | p@20: 0.15 | time/it: 2.36e-01     \n",
      "iter:   660 | dx: +1.9207e-05 | f1-score: 0.04 | relerr: 1.96e+00 | p@5: 0.00 | p@10: 0.10 | p@20: 0.15 | time/it: 2.47e-01     \n",
      "iter:   670 | dx: +2.3238e-05 | f1-score: 0.04 | relerr: 1.96e+00 | p@5: 0.00 | p@10: 0.10 | p@20: 0.15 | time/it: 2.20e-01     \n",
      "iter:   680 | dx: +1.7036e-05 | f1-score: 0.04 | relerr: 1.96e+00 | p@5: 0.00 | p@10: 0.10 | p@20: 0.15 | time/it: 2.07e-01     \n",
      "iter:   690 | dx: +4.1522e-05 | f1-score: 0.04 | relerr: 1.96e+00 | p@5: 0.00 | p@10: 0.10 | p@20: 0.15 | time/it: 2.18e-01     \n",
      "iter:   700 | dx: +4.3161e-05 | f1-score: 0.04 | relerr: 1.96e+00 | p@5: 0.00 | p@10: 0.10 | p@20: 0.15 | time/it: 2.10e-01     \n",
      "iter:   710 | dx: +2.6267e-05 | f1-score: 0.04 | relerr: 1.96e+00 | p@5: 0.00 | p@10: 0.10 | p@20: 0.15 | time/it: 2.07e-01     \n",
      "iter:   720 | dx: +2.0196e-05 | f1-score: 0.04 | relerr: 1.96e+00 | p@5: 0.00 | p@10: 0.10 | p@20: 0.15 | time/it: 2.05e-01     \n",
      "iter:   730 | dx: +2.6196e-05 | f1-score: 0.04 | relerr: 1.96e+00 | p@5: 0.00 | p@10: 0.10 | p@20: 0.15 | time/it: 2.31e-01     \n",
      "iter:   740 | dx: +3.5310e-05 | f1-score: 0.04 | relerr: 1.96e+00 | p@5: 0.00 | p@10: 0.10 | p@20: 0.15 | time/it: 2.47e-01     \n",
      "iter:   750 | dx: +2.8584e-05 | f1-score: 0.04 | relerr: 1.96e+00 | p@5: 0.00 | p@10: 0.10 | p@20: 0.15 | time/it: 1.88e-01     \n",
      "iter:   760 | dx: +1.9052e-05 | f1-score: 0.04 | relerr: 1.96e+00 | p@5: 0.00 | p@10: 0.10 | p@20: 0.15 | time/it: 1.70e-01     \n",
      "iter:   770 | dx: +3.5779e-05 | f1-score: 0.04 | relerr: 1.96e+00 | p@5: 0.00 | p@10: 0.10 | p@20: 0.15 | time/it: 2.37e-01     \n",
      "iter:   780 | dx: +9.9252e-06 | f1-score: 0.04 | relerr: 1.96e+00 | p@5: 0.00 | p@10: 0.10 | p@20: 0.15 | time/it: 1.84e-01     \n",
      "iter:   790 | dx: +1.4464e-05 | f1-score: 0.04 | relerr: 1.96e+00 | p@5: 0.00 | p@10: 0.10 | p@20: 0.15 | time/it: 1.84e-01     \n",
      "iter:   800 | dx: +3.6434e-05 | f1-score: 0.04 | relerr: 1.96e+00 | p@5: 0.00 | p@10: 0.10 | p@20: 0.15 | time/it: 1.83e-01     \n",
      "iter:   810 | dx: +1.9653e-05 | f1-score: 0.04 | relerr: 1.96e+00 | p@5: 0.00 | p@10: 0.10 | p@20: 0.15 | time/it: 1.93e-01     \n",
      "iter:   820 | dx: +2.9027e-05 | f1-score: 0.04 | relerr: 1.96e+00 | p@5: 0.00 | p@10: 0.10 | p@20: 0.15 | time/it: 2.47e-01     \n",
      "iter:   830 | dx: +3.1350e-05 | f1-score: 0.04 | relerr: 1.96e+00 | p@5: 0.00 | p@10: 0.10 | p@20: 0.15 | time/it: 2.74e-01     \n",
      "iter:   840 | dx: +2.6051e-05 | f1-score: 0.04 | relerr: 1.96e+00 | p@5: 0.00 | p@10: 0.10 | p@20: 0.15 | time/it: 2.02e-01     \n",
      "iter:   850 | dx: +2.2930e-05 | f1-score: 0.04 | relerr: 1.96e+00 | p@5: 0.00 | p@10: 0.10 | p@20: 0.15 | time/it: 2.09e-01     \n",
      "iter:   860 | dx: +4.1821e-05 | f1-score: 0.04 | relerr: 1.96e+00 | p@5: 0.00 | p@10: 0.10 | p@20: 0.15 | time/it: 2.36e-01     \n",
      "iter:   870 | dx: +2.7565e-05 | f1-score: 0.04 | relerr: 1.96e+00 | p@5: 0.00 | p@10: 0.10 | p@20: 0.15 | time/it: 2.05e-01     \n",
      "iter:   880 | dx: +2.0287e-05 | f1-score: 0.04 | relerr: 1.96e+00 | p@5: 0.00 | p@10: 0.10 | p@20: 0.15 | time/it: 2.24e-01     \n",
      "iter:   890 | dx: +2.6070e-05 | f1-score: 0.04 | relerr: 1.96e+00 | p@5: 0.00 | p@10: 0.10 | p@20: 0.15 | time/it: 2.49e-01     \n",
      "iter:   900 | dx: +2.6622e-05 | f1-score: 0.04 | relerr: 1.96e+00 | p@5: 0.00 | p@10: 0.10 | p@20: 0.15 | time/it: 1.86e-01     \n",
      "iter:   910 | dx: +1.3715e-05 | f1-score: 0.04 | relerr: 1.96e+00 | p@5: 0.00 | p@10: 0.10 | p@20: 0.15 | time/it: 2.00e-01     \n",
      "iter:   920 | dx: +1.4042e-05 | f1-score: 0.04 | relerr: 1.96e+00 | p@5: 0.00 | p@10: 0.10 | p@20: 0.15 | time/it: 2.05e-01     \n",
      "iter:   930 | dx: +9.5291e-06 | f1-score: 0.04 | relerr: 1.96e+00 | p@5: 0.00 | p@10: 0.10 | p@20: 0.15 | time/it: 2.62e-01     \n",
      "iter:   940 | dx: +1.9064e-05 | f1-score: 0.04 | relerr: 1.96e+00 | p@5: 0.00 | p@10: 0.10 | p@20: 0.15 | time/it: 2.06e-01     \n",
      "iter:   950 | dx: +2.5979e-05 | f1-score: 0.04 | relerr: 1.96e+00 | p@5: 0.00 | p@10: 0.10 | p@20: 0.15 | time/it: 2.13e-01     \n",
      "iter:   960 | dx: +3.4276e-05 | f1-score: 0.04 | relerr: 1.96e+00 | p@5: 0.00 | p@10: 0.10 | p@20: 0.15 | time/it: 1.66e-01     \n",
      "iter:   970 | dx: +4.6767e-05 | f1-score: 0.04 | relerr: 1.96e+00 | p@5: 0.00 | p@10: 0.10 | p@20: 0.15 | time/it: 1.81e-01     \n",
      "iter:   980 | dx: +2.3752e-05 | f1-score: 0.04 | relerr: 1.96e+00 | p@5: 0.00 | p@10: 0.10 | p@20: 0.15 | time/it: 2.52e-01     \n",
      "iter:   990 | dx: +1.5885e-05 | f1-score: 0.04 | relerr: 1.96e+00 | p@5: 0.00 | p@10: 0.10 | p@20: 0.15 | time/it: 2.31e-01     \n",
      "iter:  1000 | dx: +2.0287e-05 | f1-score: 0.04 | relerr: 1.96e+00 | p@5: 0.00 | p@10: 0.10 | p@20: 0.15 | time/it: 1.72e-01     \n",
      "iter:  1010 | dx: +3.6036e-05 | f1-score: 0.04 | relerr: 1.96e+00 | p@5: 0.00 | p@10: 0.10 | p@20: 0.15 | time/it: 1.63e-01     \n"
     ]
    },
    {
     "ename": "KeyboardInterrupt",
     "evalue": "",
     "output_type": "error",
     "traceback": [
      "\u001b[0;31m---------------------------------------------------------------------------\u001b[0m",
      "\u001b[0;31mKeyboardInterrupt\u001b[0m                         Traceback (most recent call last)",
      "\u001b[0;32m<ipython-input-20-bbb3c2fe8a5e>\u001b[0m in \u001b[0;36m<module>\u001b[0;34m\u001b[0m\n\u001b[1;32m      9\u001b[0m \u001b[0;31m# Fit model\u001b[0m\u001b[0;34m\u001b[0m\u001b[0;34m\u001b[0m\u001b[0;34m\u001b[0m\u001b[0m\n\u001b[1;32m     10\u001b[0m vi_model.fit(as_pr=as_pr, ar_pr=ar_pr, bs_pr=bs_pr, br_pr=br_pr, zc_pr=zc_pr, \n\u001b[0;32m---> 11\u001b[0;31m           max_iter=2500, tol=1e-5, callback=callback)\n\u001b[0m",
      "\u001b[0;32m~/Workspace/EPFL/research/ongoing/var-wold/tsvar/utils/decorators.py\u001b[0m in \u001b[0;36mwrapped\u001b[0;34m(self, *args, **kwargs)\u001b[0m\n\u001b[1;32m      6\u001b[0m     \u001b[0;32mdef\u001b[0m \u001b[0mwrapped\u001b[0m\u001b[0;34m(\u001b[0m\u001b[0mself\u001b[0m\u001b[0;34m,\u001b[0m \u001b[0;34m*\u001b[0m\u001b[0margs\u001b[0m\u001b[0;34m,\u001b[0m \u001b[0;34m**\u001b[0m\u001b[0mkwargs\u001b[0m\u001b[0;34m)\u001b[0m\u001b[0;34m:\u001b[0m\u001b[0;34m\u001b[0m\u001b[0;34m\u001b[0m\u001b[0m\n\u001b[1;32m      7\u001b[0m         \u001b[0;32mif\u001b[0m \u001b[0mself\u001b[0m\u001b[0;34m.\u001b[0m\u001b[0m_observed\u001b[0m\u001b[0;34m:\u001b[0m\u001b[0;34m\u001b[0m\u001b[0;34m\u001b[0m\u001b[0m\n\u001b[0;32m----> 8\u001b[0;31m             \u001b[0;32mreturn\u001b[0m \u001b[0mfn\u001b[0m\u001b[0;34m(\u001b[0m\u001b[0mself\u001b[0m\u001b[0;34m,\u001b[0m \u001b[0;34m*\u001b[0m\u001b[0margs\u001b[0m\u001b[0;34m,\u001b[0m \u001b[0;34m**\u001b[0m\u001b[0mkwargs\u001b[0m\u001b[0;34m)\u001b[0m\u001b[0;34m\u001b[0m\u001b[0;34m\u001b[0m\u001b[0m\n\u001b[0m\u001b[1;32m      9\u001b[0m         \u001b[0;32melse\u001b[0m\u001b[0;34m:\u001b[0m\u001b[0;34m\u001b[0m\u001b[0;34m\u001b[0m\u001b[0m\n\u001b[1;32m     10\u001b[0m             raise Exception(('Model is not properly set. '\n",
      "\u001b[0;32m~/Workspace/EPFL/research/ongoing/var-wold/tsvar/models/_wold_var.py\u001b[0m in \u001b[0;36mfit\u001b[0;34m(self, as_pr, ar_pr, bs_pr, br_pr, zc_pr, *args, **kwargs)\u001b[0m\n\u001b[1;32m    388\u001b[0m     \u001b[0;32mdef\u001b[0m \u001b[0mfit\u001b[0m\u001b[0;34m(\u001b[0m\u001b[0mself\u001b[0m\u001b[0;34m,\u001b[0m \u001b[0mas_pr\u001b[0m\u001b[0;34m,\u001b[0m \u001b[0mar_pr\u001b[0m\u001b[0;34m,\u001b[0m \u001b[0mbs_pr\u001b[0m\u001b[0;34m,\u001b[0m \u001b[0mbr_pr\u001b[0m\u001b[0;34m,\u001b[0m \u001b[0mzc_pr\u001b[0m\u001b[0;34m,\u001b[0m \u001b[0;34m*\u001b[0m\u001b[0margs\u001b[0m\u001b[0;34m,\u001b[0m \u001b[0;34m**\u001b[0m\u001b[0mkwargs\u001b[0m\u001b[0;34m)\u001b[0m\u001b[0;34m:\u001b[0m\u001b[0;34m\u001b[0m\u001b[0;34m\u001b[0m\u001b[0m\n\u001b[1;32m    389\u001b[0m         \u001b[0mself\u001b[0m\u001b[0;34m.\u001b[0m\u001b[0m_init_fit\u001b[0m\u001b[0;34m(\u001b[0m\u001b[0mas_pr\u001b[0m\u001b[0;34m,\u001b[0m \u001b[0mar_pr\u001b[0m\u001b[0;34m,\u001b[0m \u001b[0mbs_pr\u001b[0m\u001b[0;34m,\u001b[0m \u001b[0mbr_pr\u001b[0m\u001b[0;34m,\u001b[0m \u001b[0mzc_pr\u001b[0m\u001b[0;34m)\u001b[0m\u001b[0;34m\u001b[0m\u001b[0;34m\u001b[0m\u001b[0m\n\u001b[0;32m--> 390\u001b[0;31m         \u001b[0;32mreturn\u001b[0m \u001b[0msuper\u001b[0m\u001b[0;34m(\u001b[0m\u001b[0;34m)\u001b[0m\u001b[0;34m.\u001b[0m\u001b[0mfit\u001b[0m\u001b[0;34m(\u001b[0m\u001b[0mstep_function\u001b[0m\u001b[0;34m=\u001b[0m\u001b[0mself\u001b[0m\u001b[0;34m.\u001b[0m\u001b[0m_iteration\u001b[0m\u001b[0;34m,\u001b[0m \u001b[0;34m*\u001b[0m\u001b[0margs\u001b[0m\u001b[0;34m,\u001b[0m \u001b[0;34m**\u001b[0m\u001b[0mkwargs\u001b[0m\u001b[0;34m)\u001b[0m\u001b[0;34m\u001b[0m\u001b[0;34m\u001b[0m\u001b[0m\n\u001b[0m\u001b[1;32m    391\u001b[0m \u001b[0;34m\u001b[0m\u001b[0m\n\u001b[1;32m    392\u001b[0m     \u001b[0;32mdef\u001b[0m \u001b[0malpha_posterior_mean\u001b[0m\u001b[0;34m(\u001b[0m\u001b[0mself\u001b[0m\u001b[0;34m,\u001b[0m \u001b[0mas_po\u001b[0m\u001b[0;34m=\u001b[0m\u001b[0;32mNone\u001b[0m\u001b[0;34m,\u001b[0m \u001b[0mar_po\u001b[0m\u001b[0;34m=\u001b[0m\u001b[0;32mNone\u001b[0m\u001b[0;34m)\u001b[0m\u001b[0;34m:\u001b[0m\u001b[0;34m\u001b[0m\u001b[0;34m\u001b[0m\u001b[0m\n",
      "\u001b[0;32m~/Workspace/EPFL/research/ongoing/var-wold/tsvar/utils/decorators.py\u001b[0m in \u001b[0;36mwrapped\u001b[0;34m(self, *args, **kwargs)\u001b[0m\n\u001b[1;32m      6\u001b[0m     \u001b[0;32mdef\u001b[0m \u001b[0mwrapped\u001b[0m\u001b[0;34m(\u001b[0m\u001b[0mself\u001b[0m\u001b[0;34m,\u001b[0m \u001b[0;34m*\u001b[0m\u001b[0margs\u001b[0m\u001b[0;34m,\u001b[0m \u001b[0;34m**\u001b[0m\u001b[0mkwargs\u001b[0m\u001b[0;34m)\u001b[0m\u001b[0;34m:\u001b[0m\u001b[0;34m\u001b[0m\u001b[0;34m\u001b[0m\u001b[0m\n\u001b[1;32m      7\u001b[0m         \u001b[0;32mif\u001b[0m \u001b[0mself\u001b[0m\u001b[0;34m.\u001b[0m\u001b[0m_observed\u001b[0m\u001b[0;34m:\u001b[0m\u001b[0;34m\u001b[0m\u001b[0;34m\u001b[0m\u001b[0m\n\u001b[0;32m----> 8\u001b[0;31m             \u001b[0;32mreturn\u001b[0m \u001b[0mfn\u001b[0m\u001b[0;34m(\u001b[0m\u001b[0mself\u001b[0m\u001b[0;34m,\u001b[0m \u001b[0;34m*\u001b[0m\u001b[0margs\u001b[0m\u001b[0;34m,\u001b[0m \u001b[0;34m**\u001b[0m\u001b[0mkwargs\u001b[0m\u001b[0;34m)\u001b[0m\u001b[0;34m\u001b[0m\u001b[0;34m\u001b[0m\u001b[0m\n\u001b[0m\u001b[1;32m      9\u001b[0m         \u001b[0;32melse\u001b[0m\u001b[0;34m:\u001b[0m\u001b[0;34m\u001b[0m\u001b[0;34m\u001b[0m\u001b[0m\n\u001b[1;32m     10\u001b[0m             raise Exception(('Model is not properly set. '\n",
      "\u001b[0;32m~/Workspace/EPFL/research/ongoing/var-wold/tsvar/fitter.py\u001b[0m in \u001b[0;36mfit\u001b[0;34m(self, step_function, tol, max_iter, seed, callback)\u001b[0m\n\u001b[1;32m     55\u001b[0m             \u001b[0mself\u001b[0m\u001b[0;34m.\u001b[0m\u001b[0m_n_iter_done\u001b[0m \u001b[0;34m=\u001b[0m \u001b[0mt\u001b[0m\u001b[0;34m\u001b[0m\u001b[0;34m\u001b[0m\u001b[0m\n\u001b[1;32m     56\u001b[0m             \u001b[0;31m# Run iteration\u001b[0m\u001b[0;34m\u001b[0m\u001b[0;34m\u001b[0m\u001b[0;34m\u001b[0m\u001b[0m\n\u001b[0;32m---> 57\u001b[0;31m             \u001b[0mstep_function\u001b[0m\u001b[0;34m(\u001b[0m\u001b[0;34m)\u001b[0m\u001b[0;34m\u001b[0m\u001b[0;34m\u001b[0m\u001b[0m\n\u001b[0m\u001b[1;32m     58\u001b[0m \u001b[0;34m\u001b[0m\u001b[0m\n\u001b[1;32m     59\u001b[0m             \u001b[0;31m# Sanity check that the optimization did not fail\u001b[0m\u001b[0;34m\u001b[0m\u001b[0;34m\u001b[0m\u001b[0;34m\u001b[0m\u001b[0m\n",
      "\u001b[0;32m~/Workspace/EPFL/research/ongoing/var-wold/tsvar/models/_wold_var.py\u001b[0m in \u001b[0;36m_iteration\u001b[0;34m(self)\u001b[0m\n\u001b[1;32m    364\u001b[0m             \u001b[0mas_po\u001b[0m\u001b[0;34m=\u001b[0m\u001b[0mself\u001b[0m\u001b[0;34m.\u001b[0m\u001b[0m_as_po\u001b[0m\u001b[0;34m,\u001b[0m \u001b[0mar_po\u001b[0m\u001b[0;34m=\u001b[0m\u001b[0mself\u001b[0m\u001b[0;34m.\u001b[0m\u001b[0m_ar_po\u001b[0m\u001b[0;34m,\u001b[0m \u001b[0mzp_po\u001b[0m\u001b[0;34m=\u001b[0m\u001b[0mself\u001b[0m\u001b[0;34m.\u001b[0m\u001b[0m_zp_po\u001b[0m\u001b[0;34m,\u001b[0m\u001b[0;34m\u001b[0m\u001b[0;34m\u001b[0m\u001b[0m\n\u001b[1;32m    365\u001b[0m             \u001b[0mbs_pr\u001b[0m\u001b[0;34m=\u001b[0m\u001b[0mself\u001b[0m\u001b[0;34m.\u001b[0m\u001b[0m_bs_pr\u001b[0m\u001b[0;34m,\u001b[0m \u001b[0mbr_pr\u001b[0m\u001b[0;34m=\u001b[0m\u001b[0mself\u001b[0m\u001b[0;34m.\u001b[0m\u001b[0m_br_pr\u001b[0m\u001b[0;34m,\u001b[0m \u001b[0mdt_ik\u001b[0m\u001b[0;34m=\u001b[0m\u001b[0mself\u001b[0m\u001b[0;34m.\u001b[0m\u001b[0mdt_ik\u001b[0m\u001b[0;34m,\u001b[0m\u001b[0;34m\u001b[0m\u001b[0;34m\u001b[0m\u001b[0m\n\u001b[0;32m--> 366\u001b[0;31m             delta_ikj=self.delta_ikj, valid_mask_ikj=self.valid_mask_ikj)\n\u001b[0m\u001b[1;32m    367\u001b[0m \u001b[0;34m\u001b[0m\u001b[0m\n\u001b[1;32m    368\u001b[0m         \u001b[0;31m# # (debug) Sanity check\u001b[0m\u001b[0;34m\u001b[0m\u001b[0;34m\u001b[0m\u001b[0;34m\u001b[0m\u001b[0m\n",
      "\u001b[0;31mKeyboardInterrupt\u001b[0m: "
     ]
    }
   ],
   "source": [
    "# Set callback (parameters of callback are just the posterior mean of alpha)\n",
    "callback = tsvar.utils.callbacks.LearnerCallbackMLE(\n",
    "    x0=(as_pr[1:,:] / ar_pr[1:,:]).flatten(), print_every=10,\n",
    "    coeffs_true=adjacency_true.flatten(),\n",
    "    acc_thresh=0.05, dim=dim, \n",
    "    widgets={'f1score', 'relerr', 'prec@5', 'prec@10', 'prec@20'},\n",
    "    default_end='\\n')\n",
    "\n",
    "# Fit model\n",
    "vi_model.fit(as_pr=as_pr, ar_pr=ar_pr, bs_pr=bs_pr, br_pr=br_pr, zc_pr=zc_pr, \n",
    "          max_iter=2500, tol=1e-5, callback=callback)"
   ]
  },
  {
   "cell_type": "code",
   "execution_count": 22,
   "metadata": {},
   "outputs": [
    {
     "name": "stdout",
     "output_type": "stream",
     "text": [
      "\n",
      "==================================================\n",
      "========== Method: WoldModelVariational\n",
      "\n",
      "Accuracy: 0.09\n",
      "\n",
      "Edge counts\n",
      "------------\n",
      "Pred: 9034.00\n",
      "True: 512.00\n",
      "\n",
      "Error counts\n",
      "------------\n",
      " True Positive: 496.00\n",
      "False Positive: 8538.00\n",
      " True Negative: 359.00\n",
      "False Negative: 16.00\n",
      "\n",
      "Error rates\n",
      "-----------\n",
      " True Positive Rate: 0.97\n",
      "False Positive Rate: 0.96\n",
      " True Negative Rate: 0.04\n",
      "False Negative Rate: 0.03\n",
      "\n",
      "F-Score\n",
      "-------\n",
      " F1-Score: 0.10\n",
      "Precision: 0.05\n",
      "   Recall: 0.97\n",
      "\n",
      "Precision@k\n",
      "-----------\n",
      "  Prec@5: 0.00\n",
      " Prec@10: 0.10\n",
      " Prec@20: 0.15\n",
      " Prec@50: 0.12\n",
      "Prec@100: 0.10\n",
      "Prec@200: 0.07\n",
      "\n",
      "Average Precision@k per node\n",
      "----------------------------\n",
      "AvgPrec@k per node:\n",
      "5 0.013953488372093023\n",
      "10 0.01976744186046512\n",
      "20 0.04883720930232553\n",
      "50 0.05418604651162789\n",
      "100 0.05953488372093016\n",
      "200 0.02976744186046508\n",
      "\n"
     ]
    }
   ],
   "source": [
    "alpha_hat = vi_model._as_po[1:, :] / vi_model._ar_po[1:, :]\n",
    "beta_hat = vi_model._br_po[:, :] / (vi_model._bs_po[:, :] + 1) + 1\n",
    "\n",
    "adj_hat = alpha_hat\n",
    "#adj_hat = alpha_hat / beta_hat\n",
    "\n",
    "#adj_hat[np.eye(len(adj_hat)).astype(bool)] = 0.0\n",
    "\n",
    "experiments_utils.print_report(name=type(vi_model).__name__, adj_hat=adj_hat, adj_true=adjacency_true, thresh=0.0001)"
   ]
  },
  {
   "cell_type": "code",
   "execution_count": null,
   "metadata": {},
   "outputs": [],
   "source": [
    "plt.boxplot(adj_hat.flatten());\n",
    "plt.yscale('log');"
   ]
  },
  {
   "cell_type": "code",
   "execution_count": null,
   "metadata": {},
   "outputs": [],
   "source": [
    "plt.figure(figsize=(10, 5))\n",
    "plt.grid()\n",
    "plt.boxplot(\n",
    "    [adj_hat[adjacency_true == 0.0], adj_hat[adjacency_true > 0.0]],\n",
    "    labels=['True Non-edges', 'True Edges'])\n",
    "plt.ylabel(r'Learned value of paramaters')\n",
    "plt.title('Distribution of learned adjacency weights');"
   ]
  },
  {
   "cell_type": "code",
   "execution_count": null,
   "metadata": {},
   "outputs": [],
   "source": [
    "plt.boxplot([adj_hat.flatten(), beta_hat.flatten()], labels=['Alphas', 'Betas']);"
   ]
  },
  {
   "cell_type": "markdown",
   "metadata": {},
   "source": [
    "---\n",
    "\n",
    "### Run GB"
   ]
  },
  {
   "cell_type": "code",
   "execution_count": 29,
   "metadata": {},
   "outputs": [],
   "source": [
    "import gb\n",
    "import time\n",
    "\n",
    "dim = len(events)\n",
    "\n",
    "# Define model\n",
    "granger_model = gb.GrangerBusca(\n",
    "    alpha_prior=1.0/len(events),\n",
    "    num_iter=30000,\n",
    "    metropolis=True,\n",
    "    beta_strategy='busca',\n",
    "    num_jobs=4,\n",
    ")\n",
    "granger_model.fit(events)"
   ]
  },
  {
   "cell_type": "code",
   "execution_count": 30,
   "metadata": {},
   "outputs": [
    {
     "name": "stdout",
     "output_type": "stream",
     "text": [
      "\n",
      "==================================================\n",
      "========== Method: GrangerBusca\n",
      "\n",
      "Accuracy: 0.05\n",
      "\n",
      "Edge counts\n",
      "------------\n",
      "Pred: 369.00\n",
      "True: 512.00\n",
      "\n",
      "Error counts\n",
      "------------\n",
      " True Positive: 30.00\n",
      "False Positive: 339.00\n",
      " True Negative: 8558.00\n",
      "False Negative: 482.00\n",
      "\n",
      "Error rates\n",
      "-----------\n",
      " True Positive Rate: 0.06\n",
      "False Positive Rate: 0.04\n",
      " True Negative Rate: 0.96\n",
      "False Negative Rate: 0.94\n",
      "\n",
      "F-Score\n",
      "-------\n",
      " F1-Score: 0.07\n",
      "Precision: 0.08\n",
      "   Recall: 0.06\n",
      "\n",
      "Precision@k\n",
      "-----------\n",
      "  Prec@5: 0.20\n",
      " Prec@10: 0.30\n",
      " Prec@20: 0.25\n",
      " Prec@50: 0.14\n",
      "Prec@100: 0.12\n",
      "Prec@200: 0.09\n",
      "\n",
      "Average Precision@k per node\n",
      "----------------------------\n",
      "AvgPrec@k per node:\n",
      "5 0.36279069767441835\n",
      "10 0.23488372093023246\n",
      "20 0.12558139534883722\n",
      "50 0.05069767441860464\n",
      "100 0.02534883720930232\n",
      "200 0.01267441860465116\n",
      "\n"
     ]
    }
   ],
   "source": [
    "# Extract infered adjacency\n",
    "adj_hat = granger_model.Alpha_.toarray()\n",
    "adj_hat = adj_hat / adj_hat.sum(axis=1)[:, None]\n",
    "beta_hat = np.ones((dim, dim)) * (granger_model.beta_ + 1)\n",
    "coeffs_hat = np.hstack((granger_model.mu_, beta_hat.flatten(),\n",
    "                        adj_hat.flatten()))\n",
    "\n",
    "adj_hat = adj_hat / beta_hat  # Does not matter\n",
    "\n",
    "\n",
    "THRESH = 0.00  # GB is already sparse\n",
    "\n",
    "experiments_utils.print_report(name=type(granger_model).__name__, adj_hat=adj_hat, adj_true=adjacency_true, thresh=0)"
   ]
  },
  {
   "cell_type": "code",
   "execution_count": null,
   "metadata": {},
   "outputs": [],
   "source": []
  },
  {
   "cell_type": "code",
   "execution_count": null,
   "metadata": {},
   "outputs": [],
   "source": []
  },
  {
   "cell_type": "code",
   "execution_count": null,
   "metadata": {},
   "outputs": [],
   "source": []
  },
  {
   "cell_type": "code",
   "execution_count": null,
   "metadata": {},
   "outputs": [],
   "source": [
    "tsvar.utils.metrics.relerr(adj_hat.flatten(), adjacency_true.flatten(), null_norm='none')"
   ]
  },
  {
   "cell_type": "code",
   "execution_count": null,
   "metadata": {
    "scrolled": true
   },
   "outputs": [],
   "source": [
    "scipy.stats.kendalltau(adj_hat.flatten(), adjacency_true.flatten())"
   ]
  },
  {
   "cell_type": "code",
   "execution_count": null,
   "metadata": {},
   "outputs": [],
   "source": [
    "tsvar.utils.metrics.mean_kendall_rank_corr(adj_hat.flatten(), adjacency_true.flatten())"
   ]
  },
  {
   "cell_type": "code",
   "execution_count": null,
   "metadata": {
    "scrolled": true
   },
   "outputs": [],
   "source": [
    "plt.scatter(adj_hat.flatten(), adjacency_true.flatten())"
   ]
  },
  {
   "cell_type": "code",
   "execution_count": null,
   "metadata": {},
   "outputs": [],
   "source": [
    "mean_rank_corr, rank_corr_per_dim = tsvar.utils.metrics.mean_kendall_rank_corr(\n",
    "    adj_hat.flatten(), adjacency_true.flatten(), return_vec=True)"
   ]
  },
  {
   "cell_type": "code",
   "execution_count": null,
   "metadata": {},
   "outputs": [],
   "source": [
    "mean_rank_corr"
   ]
  },
  {
   "cell_type": "code",
   "execution_count": null,
   "metadata": {},
   "outputs": [],
   "source": [
    "plt.hist(rank_corr_per_dim)"
   ]
  },
  {
   "cell_type": "code",
   "execution_count": null,
   "metadata": {},
   "outputs": [],
   "source": [
    "from scipy.stats import kendalltau\n",
    "\n",
    "# calculate kendall's correlation\n",
    "coef, p = kendalltau(\n",
    "    x=adj_hat.flatten(),\n",
    "    y=adjacency_true.flatten()\n",
    ")\n",
    "\n",
    "print('Kendall correlation coefficient: %.3f' % coef)\n",
    "# interpret the significance\n",
    "alpha = 0.05\n",
    "if p > alpha:\n",
    "    print('Samples are uncorrelated (fail to reject H0) p=%.3f' % p)\n",
    "else:\n",
    "    print('Samples are correlated (reject H0) p=%.3f' % p)"
   ]
  },
  {
   "cell_type": "markdown",
   "metadata": {},
   "source": [
    "---\n",
    "\n",
    "## Exploration of results"
   ]
  },
  {
   "cell_type": "code",
   "execution_count": null,
   "metadata": {},
   "outputs": [],
   "source": [
    "adj_hat = vifb_model._as_po[1:, :] / vifb_model._ar_po[1:, :]\n",
    "adj_hat"
   ]
  },
  {
   "cell_type": "code",
   "execution_count": null,
   "metadata": {},
   "outputs": [],
   "source": [
    "adj_hat.nonzero()"
   ]
  },
  {
   "cell_type": "code",
   "execution_count": null,
   "metadata": {},
   "outputs": [],
   "source": []
  },
  {
   "cell_type": "code",
   "execution_count": null,
   "metadata": {},
   "outputs": [],
   "source": [
    "adj_hat = vifb_model._as_po[1:, :] / vifb_model._ar_po[1:, :]\n",
    "\n",
    "thresh_list = np.linspace(0.01, 0.15, 20)\n",
    "\n",
    "vals_vifb = {\n",
    "    5: np.zeros_like(thresh_list),\n",
    "    10: np.zeros_like(thresh_list),\n",
    "    20: np.zeros_like(thresh_list),\n",
    "}\n",
    "\n",
    "for i, thresh in enumerate(thresh_list):\n",
    "\n",
    "    adj_hat_thresh = adj_hat.copy()\n",
    "    adj_hat_thresh[adj_hat_thresh < thresh] = 0.0\n",
    "    print(np.round(thresh, 3), len(adj_hat_thresh.nonzero()[0]))\n",
    "\n",
    "    for k in [5, 10, 20]:\n",
    "        vals_vifb[k][i] = tsvar.utils.metrics.precision_at_n_per_dim(A_pred=adj_hat_thresh, A_true=adjacency_true, k=k)"
   ]
  },
  {
   "cell_type": "code",
   "execution_count": null,
   "metadata": {},
   "outputs": [],
   "source": [
    "thresh_list = np.linspace(0.01, 0.15, 20)\n",
    "\n",
    "vals_gb = {\n",
    "    5: np.zeros_like(thresh_list),\n",
    "    10: np.zeros_like(thresh_list),\n",
    "    20: np.zeros_like(thresh_list),\n",
    "}\n",
    "\n",
    "for i, thresh in enumerate(thresh_list):\n",
    "\n",
    "    adj_hat_thresh = adj_hat.copy()\n",
    "    adj_hat_thresh[adj_hat_thresh < thresh] = 0.0\n",
    "\n",
    "    for k in [5, 10, 20]:\n",
    "        vals_gb[k][i] = tsvar.utils.metrics.precision_at_n_per_dim(A_pred=adj_hat_thresh, A_true=adjacency_true, k=k)"
   ]
  },
  {
   "cell_type": "code",
   "execution_count": null,
   "metadata": {},
   "outputs": [],
   "source": [
    "plt.figure(figsize=(12, 6))\n",
    "plt.grid()\n",
    "\n",
    "plt.plot(thresh_list, vals_vifb[5], label='p@5')\n",
    "plt.plot(thresh_list, vals_vifb[10], label='p@10')\n",
    "plt.plot(thresh_list, vals_vifb[20], label='p@20')\n",
    "\n",
    "plt.plot(thresh_list, vals_gb[5],   label='p@5', c='C0', ls='--')\n",
    "plt.plot(thresh_list, vals_gb[10], label='p@10', c='C1', ls='--')\n",
    "plt.plot(thresh_list, vals_gb[20], label='p@20', c='C2', ls='--')\n",
    "\n",
    "plt.legend();"
   ]
  },
  {
   "cell_type": "code",
   "execution_count": null,
   "metadata": {},
   "outputs": [],
   "source": []
  }
 ],
 "metadata": {
  "kernelspec": {
   "display_name": "Python 3",
   "language": "python",
   "name": "python3"
  },
  "language_info": {
   "codemirror_mode": {
    "name": "ipython",
    "version": 3
   },
   "file_extension": ".py",
   "mimetype": "text/x-python",
   "name": "python",
   "nbconvert_exporter": "python",
   "pygments_lexer": "ipython3",
   "version": "3.6.10"
  }
 },
 "nbformat": 4,
 "nbformat_minor": 4
}

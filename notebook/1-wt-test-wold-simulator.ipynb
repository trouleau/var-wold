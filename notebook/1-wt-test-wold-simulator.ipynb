{
 "cells": [
  {
   "cell_type": "code",
   "execution_count": 1,
   "metadata": {},
   "outputs": [],
   "source": [
    "%load_ext autoreload\n",
    "%autoreload 2"
   ]
  },
  {
   "cell_type": "code",
   "execution_count": 2,
   "metadata": {},
   "outputs": [],
   "source": [
    "import random as rd\n",
    "from bisect import bisect_right\n",
    "\n",
    "import tsvar"
   ]
  },
  {
   "cell_type": "code",
   "execution_count": 3,
   "metadata": {},
   "outputs": [],
   "source": [
    "mu = np.array([0.2, 0.1])\n",
    "\n",
    "alpha = np.array([\n",
    "    [0.1, 0.9],\n",
    "    [0.4, 0.6]\n",
    "])\n",
    "\n",
    "beta = np.array([1.0, 2.0])\n",
    "\n",
    "end_time = 5000\n",
    "\n",
    "\n",
    "# dim = 2\n",
    "# mu = np.random.uniform(0.1, 0.2, size=dim)\n",
    "# beta = np.random.uniform(1.0, 2.0, size=dim)\n",
    "# alpha = np.random.uniform(0.0, 2/100, size=(dim, dim))"
   ]
  },
  {
   "cell_type": "code",
   "execution_count": 4,
   "metadata": {},
   "outputs": [
    {
     "name": "stdout",
     "output_type": "stream",
     "text": [
      "[1800, 2987]\n",
      "CPU times: user 2.76 s, sys: 58.4 ms, total: 2.82 s\n",
      "Wall time: 3.53 s\n"
     ]
    },
    {
     "data": {
      "text/plain": [
       "[array([  11.37384,   26.61521,   34.89746, ..., 4991.0527 , 4997.78329, 4998.85034]),\n",
       " array([  23.37483,   43.7134 ,   44.05209, ..., 4998.96548, 4999.59523, 4999.67689])]"
      ]
     },
     "execution_count": 4,
     "metadata": {},
     "output_type": "execute_result"
    }
   ],
   "source": [
    "%%time\n",
    "\n",
    "simulator = tsvar.simulate.GrangerBuscaSimulator(mu_rates=mu, Alpha_ba=alpha, Beta_b=beta)\n",
    "events = simulator.simulate(max_time=end_time, seed=4)\n",
    "print(list(map(len, events)))\n",
    "events"
   ]
  },
  {
   "cell_type": "code",
   "execution_count": null,
   "metadata": {},
   "outputs": [],
   "source": []
  }
 ],
 "metadata": {
  "kernelspec": {
   "display_name": "Python 3",
   "language": "python",
   "name": "python3"
  },
  "language_info": {
   "codemirror_mode": {
    "name": "ipython",
    "version": 3
   },
   "file_extension": ".py",
   "mimetype": "text/x-python",
   "name": "python",
   "nbconvert_exporter": "python",
   "pygments_lexer": "ipython3",
   "version": "3.6.10"
  }
 },
 "nbformat": 4,
 "nbformat_minor": 4
}

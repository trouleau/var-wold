{
 "cells": [
  {
   "cell_type": "markdown",
   "metadata": {},
   "source": [
    "# Preprocess the MemeTracker Dataset\n",
    "\n",
    "The following notebook contains the documented code used to preprocess the MemeTracker dataset for our experiments. \n",
    "\n",
    "**Note:** Because the dataset is quite large, a machine with at least ~30GB of RAM is necessary to run this notebook.\n",
    "\n",
    "---"
   ]
  },
  {
   "cell_type": "markdown",
   "metadata": {},
   "source": [
    "Import libs"
   ]
  },
  {
   "cell_type": "code",
   "execution_count": 1,
   "metadata": {},
   "outputs": [],
   "source": [
    "%load_ext autoreload\n",
    "%autoreload 2"
   ]
  },
  {
   "cell_type": "code",
   "execution_count": 2,
   "metadata": {},
   "outputs": [
    {
     "data": {
      "text/html": [
       "<style>.container { width:80% !important; }</style>"
      ],
      "text/plain": [
       "<IPython.core.display.HTML object>"
      ]
     },
     "metadata": {},
     "output_type": "display_data"
    }
   ],
   "source": [
    "import os\n",
    "import glob\n",
    "import gzip\n",
    "import pickle\n",
    "import pandas as pd\n",
    "import numpy as np\n",
    "import multiprocessing\n",
    "\n",
    "from datetime import datetime\n",
    "import pytz\n",
    "\n",
    "from matplotlib import pyplot as plt\n",
    "%matplotlib inline\n",
    "\n",
    "import networkx as nx\n",
    "\n",
    "from tsvar.preprocessing import Dataset\n",
    "\n",
    "# Set larger cell width for nicer visualization\n",
    "from IPython.core.display import display, HTML\n",
    "display(HTML(\"<style>.container { width:80% !important; }</style>\"))"
   ]
  },
  {
   "cell_type": "markdown",
   "metadata": {},
   "source": [
    "---"
   ]
  },
  {
   "cell_type": "markdown",
   "metadata": {},
   "source": [
    "# 0. Download and parse the dataset\n",
    "\n",
    "First, all the files from the dataset must be downloaded from the [SNAP](http://snap.stanford.edu/data/memetracker9.html) dataset repository.\n",
    "\n",
    "Then the raw files must be parsed using the `raw2df.py` script provided by [NPHC](https://github.com/achab/nphc/tree/master/nphc/datasets/memetracker) to format the raw data in a convenient tabular format.\n",
    "\n",
    "The point processes can then be built using the following notebook.\n",
    "\n",
    "---"
   ]
  },
  {
   "cell_type": "markdown",
   "metadata": {},
   "source": [
    "## 1. Load the raw MemeTracker dataframe"
   ]
  },
  {
   "cell_type": "markdown",
   "metadata": {},
   "source": [
    "Set the input directory where the data is located"
   ]
  },
  {
   "cell_type": "code",
   "execution_count": 3,
   "metadata": {},
   "outputs": [],
   "source": [
    "DATA_DIR = '/root/workspace/var-wold/data/memetracker'"
   ]
  },
  {
   "cell_type": "markdown",
   "metadata": {},
   "source": [
    "Load raw dataframes (in parallel)"
   ]
  },
  {
   "cell_type": "code",
   "execution_count": 22,
   "metadata": {},
   "outputs": [],
   "source": [
    "list_df_files = sorted(glob.glob(os.path.join(DATA_DIR, 'parsed', 'df_*.csv')))\n",
    "\n",
    "def worker(fname):\n",
    "    return pd.read_csv(fname)\n",
    "\n",
    "pool = multiprocessing.Pool(len(list_df_files))\n",
    "\n",
    "jobs = list()\n",
    "for fname in list_df_files:\n",
    "    job = pool.apply_async(worker, (fname, ))\n",
    "    jobs.append(job)\n",
    "\n",
    "data = list()\n",
    "for job in jobs:\n",
    "    data.append(job.get())\n",
    "\n",
    "df = pd.concat(data, ignore_index=True)\n",
    "del data\n",
    "\n",
    "pool.close()\n",
    "pool.terminate()"
   ]
  },
  {
   "cell_type": "markdown",
   "metadata": {},
   "source": [
    "* `Blog` = receiver\n",
    "* `Hyperlink` = sender"
   ]
  },
  {
   "cell_type": "markdown",
   "metadata": {},
   "source": [
    "Vizualize the dataset"
   ]
  },
  {
   "cell_type": "code",
   "execution_count": 23,
   "metadata": {
    "scrolled": false
   },
   "outputs": [
    {
     "name": "stdout",
     "output_type": "stream",
     "text": [
      "(141578503, 5)\n"
     ]
    },
    {
     "data": {
      "text/html": [
       "<div>\n",
       "<style scoped>\n",
       "    .dataframe tbody tr th:only-of-type {\n",
       "        vertical-align: middle;\n",
       "    }\n",
       "\n",
       "    .dataframe tbody tr th {\n",
       "        vertical-align: top;\n",
       "    }\n",
       "\n",
       "    .dataframe thead th {\n",
       "        text-align: right;\n",
       "    }\n",
       "</style>\n",
       "<table border=\"1\" class=\"dataframe\">\n",
       "  <thead>\n",
       "    <tr style=\"text-align: right;\">\n",
       "      <th></th>\n",
       "      <th>Date</th>\n",
       "      <th>Hyperlink</th>\n",
       "      <th>Blog</th>\n",
       "      <th>PostNb</th>\n",
       "      <th>WeightOfLink</th>\n",
       "    </tr>\n",
       "  </thead>\n",
       "  <tbody>\n",
       "    <tr>\n",
       "      <th>0</th>\n",
       "      <td>2008-08-01 00:00:00</td>\n",
       "      <td></td>\n",
       "      <td>http://codeproject.com</td>\n",
       "      <td>0</td>\n",
       "      <td>1.0</td>\n",
       "    </tr>\n",
       "    <tr>\n",
       "      <th>1</th>\n",
       "      <td>2008-08-01 00:00:01</td>\n",
       "      <td></td>\n",
       "      <td>http://wallstreetexaminer.com</td>\n",
       "      <td>1</td>\n",
       "      <td>1.0</td>\n",
       "    </tr>\n",
       "    <tr>\n",
       "      <th>2</th>\n",
       "      <td>2008-08-01 00:00:01</td>\n",
       "      <td></td>\n",
       "      <td>http://news.bbc.co.uk</td>\n",
       "      <td>2</td>\n",
       "      <td>1.0</td>\n",
       "    </tr>\n",
       "    <tr>\n",
       "      <th>3</th>\n",
       "      <td>2008-08-01 00:00:01</td>\n",
       "      <td></td>\n",
       "      <td>http://news.bbc.co.uk</td>\n",
       "      <td>3</td>\n",
       "      <td>1.0</td>\n",
       "    </tr>\n",
       "    <tr>\n",
       "      <th>4</th>\n",
       "      <td>2008-08-01 00:00:01</td>\n",
       "      <td></td>\n",
       "      <td>http://news.bbc.co.uk</td>\n",
       "      <td>4</td>\n",
       "      <td>1.0</td>\n",
       "    </tr>\n",
       "    <tr>\n",
       "      <th>...</th>\n",
       "      <td>...</td>\n",
       "      <td>...</td>\n",
       "      <td>...</td>\n",
       "      <td>...</td>\n",
       "      <td>...</td>\n",
       "    </tr>\n",
       "    <tr>\n",
       "      <th>141578498</th>\n",
       "      <td>2009-05-01 00:00:00</td>\n",
       "      <td>http://foulweather.blogspot.com</td>\n",
       "      <td>http://foulweather.blogspot.com</td>\n",
       "      <td>15312736</td>\n",
       "      <td>0.2</td>\n",
       "    </tr>\n",
       "    <tr>\n",
       "      <th>141578499</th>\n",
       "      <td>2009-05-01 00:00:00</td>\n",
       "      <td>http://2.bp.blogspot.com</td>\n",
       "      <td>http://foulweather.blogspot.com</td>\n",
       "      <td>15312736</td>\n",
       "      <td>0.2</td>\n",
       "    </tr>\n",
       "    <tr>\n",
       "      <th>141578500</th>\n",
       "      <td>2009-05-01 00:00:00</td>\n",
       "      <td>http://dischord.com</td>\n",
       "      <td>http://foulweather.blogspot.com</td>\n",
       "      <td>15312736</td>\n",
       "      <td>0.2</td>\n",
       "    </tr>\n",
       "    <tr>\n",
       "      <th>141578501</th>\n",
       "      <td>2009-05-01 00:00:00</td>\n",
       "      <td>http://stream.publicbroadcasting.net</td>\n",
       "      <td>http://foulweather.blogspot.com</td>\n",
       "      <td>15312736</td>\n",
       "      <td>0.2</td>\n",
       "    </tr>\n",
       "    <tr>\n",
       "      <th>141578502</th>\n",
       "      <td>2009-05-01 00:00:00</td>\n",
       "      <td>http://blogger.com</td>\n",
       "      <td>http://foulweather.blogspot.com</td>\n",
       "      <td>15312736</td>\n",
       "      <td>0.2</td>\n",
       "    </tr>\n",
       "  </tbody>\n",
       "</table>\n",
       "<p>141578503 rows × 5 columns</p>\n",
       "</div>"
      ],
      "text/plain": [
       "                          Date                             Hyperlink  \\\n",
       "0          2008-08-01 00:00:00                                         \n",
       "1          2008-08-01 00:00:01                                         \n",
       "2          2008-08-01 00:00:01                                         \n",
       "3          2008-08-01 00:00:01                                         \n",
       "4          2008-08-01 00:00:01                                         \n",
       "...                        ...                                   ...   \n",
       "141578498  2009-05-01 00:00:00       http://foulweather.blogspot.com   \n",
       "141578499  2009-05-01 00:00:00              http://2.bp.blogspot.com   \n",
       "141578500  2009-05-01 00:00:00                   http://dischord.com   \n",
       "141578501  2009-05-01 00:00:00  http://stream.publicbroadcasting.net   \n",
       "141578502  2009-05-01 00:00:00                    http://blogger.com   \n",
       "\n",
       "                                      Blog    PostNb  WeightOfLink  \n",
       "0                   http://codeproject.com         0           1.0  \n",
       "1            http://wallstreetexaminer.com         1           1.0  \n",
       "2                    http://news.bbc.co.uk         2           1.0  \n",
       "3                    http://news.bbc.co.uk         3           1.0  \n",
       "4                    http://news.bbc.co.uk         4           1.0  \n",
       "...                                    ...       ...           ...  \n",
       "141578498  http://foulweather.blogspot.com  15312736           0.2  \n",
       "141578499  http://foulweather.blogspot.com  15312736           0.2  \n",
       "141578500  http://foulweather.blogspot.com  15312736           0.2  \n",
       "141578501  http://foulweather.blogspot.com  15312736           0.2  \n",
       "141578502  http://foulweather.blogspot.com  15312736           0.2  \n",
       "\n",
       "[141578503 rows x 5 columns]"
      ]
     },
     "execution_count": 23,
     "metadata": {},
     "output_type": "execute_result"
    }
   ],
   "source": [
    "print(df.shape)\n",
    "df"
   ]
  },
  {
   "cell_type": "markdown",
   "metadata": {},
   "source": [
    "---\n",
    "\n",
    "## 2. Clean the dataframe\n",
    "\n",
    "### 2.1. Clean columns"
   ]
  },
  {
   "cell_type": "markdown",
   "metadata": {},
   "source": [
    "#### Clean the `Hyperlink column`"
   ]
  },
  {
   "cell_type": "code",
   "execution_count": 24,
   "metadata": {},
   "outputs": [],
   "source": [
    "df['Hyperlink'] = df['Hyperlink'].str.strip()  # Remove whitespaces (that appear in null hyperlinks)"
   ]
  },
  {
   "cell_type": "markdown",
   "metadata": {},
   "source": [
    "#### Cast `Date` and build timestamps"
   ]
  },
  {
   "cell_type": "code",
   "execution_count": 25,
   "metadata": {
    "scrolled": false
   },
   "outputs": [],
   "source": [
    "df['Date'] = pd.to_datetime(df['Date'])\n",
    "df['Timestamp'] = df['Date'].values.astype(np.int64) // (10 ** 9)\n",
    "\n",
    "# NOTE: We don't use a time-zone here, so to get back the same datetime, we need to use: \n",
    "# df_filtered.Timestamp.apply(lambda t: datetime.fromtimestamp(t - 2*3600))"
   ]
  },
  {
   "cell_type": "markdown",
   "metadata": {},
   "source": [
    "### 2.2. Filter invalid events\n",
    "\n",
    "#### Self-references\n",
    "\n",
    "Only keep cross-references between different sites (i.e., remove self references)"
   ]
  },
  {
   "cell_type": "code",
   "execution_count": 26,
   "metadata": {},
   "outputs": [
    {
     "name": "stdout",
     "output_type": "stream",
     "text": [
      "111,893,425 events are cross-sites out of the 141,578,503 (79.03%)\n"
     ]
    }
   ],
   "source": [
    "cross_event_mask = df.Hyperlink != df.Blog\n",
    "print(f'{np.sum(cross_event_mask):,d} events are cross-sites'\n",
    "      f' out of the {len(df):,d} ({np.sum(cross_event_mask)*100/len(df):.2f}%)')"
   ]
  },
  {
   "cell_type": "markdown",
   "metadata": {},
   "source": [
    "#### Blogs with no hyperlink"
   ]
  },
  {
   "cell_type": "code",
   "execution_count": 27,
   "metadata": {},
   "outputs": [
    {
     "name": "stdout",
     "output_type": "stream",
     "text": [
      "39,875,581 posts have zero hyperlinksout of the 141,578,503 (28.16%)\n"
     ]
    }
   ],
   "source": [
    "null_hp_mask = df.Hyperlink.apply(len) == 0  # Build mask of valid hyperlinks\n",
    "print(f'{np.sum(null_hp_mask):,d} posts have zero hyperlinks'\n",
    "      f'out of the {len(df):,d} ({np.sum(null_hp_mask)*100/len(df):.2f}%)')"
   ]
  },
  {
   "cell_type": "markdown",
   "metadata": {},
   "source": [
    "Filter the dataframe based on these masks"
   ]
  },
  {
   "cell_type": "code",
   "execution_count": 28,
   "metadata": {},
   "outputs": [
    {
     "name": "stdout",
     "output_type": "stream",
     "text": [
      "Keep 141,578,503 out of the 141,578,503 events (100.00%)\n"
     ]
    },
    {
     "data": {
      "text/html": [
       "<div>\n",
       "<style scoped>\n",
       "    .dataframe tbody tr th:only-of-type {\n",
       "        vertical-align: middle;\n",
       "    }\n",
       "\n",
       "    .dataframe tbody tr th {\n",
       "        vertical-align: top;\n",
       "    }\n",
       "\n",
       "    .dataframe thead th {\n",
       "        text-align: right;\n",
       "    }\n",
       "</style>\n",
       "<table border=\"1\" class=\"dataframe\">\n",
       "  <thead>\n",
       "    <tr style=\"text-align: right;\">\n",
       "      <th></th>\n",
       "      <th>Date</th>\n",
       "      <th>Hyperlink</th>\n",
       "      <th>Blog</th>\n",
       "      <th>PostNb</th>\n",
       "      <th>WeightOfLink</th>\n",
       "      <th>Timestamp</th>\n",
       "    </tr>\n",
       "  </thead>\n",
       "  <tbody>\n",
       "    <tr>\n",
       "      <th>0</th>\n",
       "      <td>2008-08-01 00:00:00</td>\n",
       "      <td></td>\n",
       "      <td>http://codeproject.com</td>\n",
       "      <td>0</td>\n",
       "      <td>1.0</td>\n",
       "      <td>1217548800</td>\n",
       "    </tr>\n",
       "    <tr>\n",
       "      <th>1</th>\n",
       "      <td>2008-08-01 00:00:01</td>\n",
       "      <td></td>\n",
       "      <td>http://wallstreetexaminer.com</td>\n",
       "      <td>1</td>\n",
       "      <td>1.0</td>\n",
       "      <td>1217548801</td>\n",
       "    </tr>\n",
       "    <tr>\n",
       "      <th>2</th>\n",
       "      <td>2008-08-01 00:00:01</td>\n",
       "      <td></td>\n",
       "      <td>http://news.bbc.co.uk</td>\n",
       "      <td>2</td>\n",
       "      <td>1.0</td>\n",
       "      <td>1217548801</td>\n",
       "    </tr>\n",
       "    <tr>\n",
       "      <th>3</th>\n",
       "      <td>2008-08-01 00:00:01</td>\n",
       "      <td></td>\n",
       "      <td>http://news.bbc.co.uk</td>\n",
       "      <td>3</td>\n",
       "      <td>1.0</td>\n",
       "      <td>1217548801</td>\n",
       "    </tr>\n",
       "    <tr>\n",
       "      <th>4</th>\n",
       "      <td>2008-08-01 00:00:01</td>\n",
       "      <td></td>\n",
       "      <td>http://news.bbc.co.uk</td>\n",
       "      <td>4</td>\n",
       "      <td>1.0</td>\n",
       "      <td>1217548801</td>\n",
       "    </tr>\n",
       "    <tr>\n",
       "      <th>...</th>\n",
       "      <td>...</td>\n",
       "      <td>...</td>\n",
       "      <td>...</td>\n",
       "      <td>...</td>\n",
       "      <td>...</td>\n",
       "      <td>...</td>\n",
       "    </tr>\n",
       "    <tr>\n",
       "      <th>141578498</th>\n",
       "      <td>2009-05-01 00:00:00</td>\n",
       "      <td>http://foulweather.blogspot.com</td>\n",
       "      <td>http://foulweather.blogspot.com</td>\n",
       "      <td>15312736</td>\n",
       "      <td>0.2</td>\n",
       "      <td>1241136000</td>\n",
       "    </tr>\n",
       "    <tr>\n",
       "      <th>141578499</th>\n",
       "      <td>2009-05-01 00:00:00</td>\n",
       "      <td>http://2.bp.blogspot.com</td>\n",
       "      <td>http://foulweather.blogspot.com</td>\n",
       "      <td>15312736</td>\n",
       "      <td>0.2</td>\n",
       "      <td>1241136000</td>\n",
       "    </tr>\n",
       "    <tr>\n",
       "      <th>141578500</th>\n",
       "      <td>2009-05-01 00:00:00</td>\n",
       "      <td>http://dischord.com</td>\n",
       "      <td>http://foulweather.blogspot.com</td>\n",
       "      <td>15312736</td>\n",
       "      <td>0.2</td>\n",
       "      <td>1241136000</td>\n",
       "    </tr>\n",
       "    <tr>\n",
       "      <th>141578501</th>\n",
       "      <td>2009-05-01 00:00:00</td>\n",
       "      <td>http://stream.publicbroadcasting.net</td>\n",
       "      <td>http://foulweather.blogspot.com</td>\n",
       "      <td>15312736</td>\n",
       "      <td>0.2</td>\n",
       "      <td>1241136000</td>\n",
       "    </tr>\n",
       "    <tr>\n",
       "      <th>141578502</th>\n",
       "      <td>2009-05-01 00:00:00</td>\n",
       "      <td>http://blogger.com</td>\n",
       "      <td>http://foulweather.blogspot.com</td>\n",
       "      <td>15312736</td>\n",
       "      <td>0.2</td>\n",
       "      <td>1241136000</td>\n",
       "    </tr>\n",
       "  </tbody>\n",
       "</table>\n",
       "<p>141578503 rows × 6 columns</p>\n",
       "</div>"
      ],
      "text/plain": [
       "                         Date                             Hyperlink  \\\n",
       "0         2008-08-01 00:00:00                                         \n",
       "1         2008-08-01 00:00:01                                         \n",
       "2         2008-08-01 00:00:01                                         \n",
       "3         2008-08-01 00:00:01                                         \n",
       "4         2008-08-01 00:00:01                                         \n",
       "...                       ...                                   ...   \n",
       "141578498 2009-05-01 00:00:00       http://foulweather.blogspot.com   \n",
       "141578499 2009-05-01 00:00:00              http://2.bp.blogspot.com   \n",
       "141578500 2009-05-01 00:00:00                   http://dischord.com   \n",
       "141578501 2009-05-01 00:00:00  http://stream.publicbroadcasting.net   \n",
       "141578502 2009-05-01 00:00:00                    http://blogger.com   \n",
       "\n",
       "                                      Blog    PostNb  WeightOfLink   Timestamp  \n",
       "0                   http://codeproject.com         0           1.0  1217548800  \n",
       "1            http://wallstreetexaminer.com         1           1.0  1217548801  \n",
       "2                    http://news.bbc.co.uk         2           1.0  1217548801  \n",
       "3                    http://news.bbc.co.uk         3           1.0  1217548801  \n",
       "4                    http://news.bbc.co.uk         4           1.0  1217548801  \n",
       "...                                    ...       ...           ...         ...  \n",
       "141578498  http://foulweather.blogspot.com  15312736           0.2  1241136000  \n",
       "141578499  http://foulweather.blogspot.com  15312736           0.2  1241136000  \n",
       "141578500  http://foulweather.blogspot.com  15312736           0.2  1241136000  \n",
       "141578501  http://foulweather.blogspot.com  15312736           0.2  1241136000  \n",
       "141578502  http://foulweather.blogspot.com  15312736           0.2  1241136000  \n",
       "\n",
       "[141578503 rows x 6 columns]"
      ]
     },
     "metadata": {},
     "output_type": "display_data"
    }
   ],
   "source": [
    "valid_event_mask = (\n",
    "    #~null_hp_mask &     # Keep only events with non-null hyperlink\n",
    "    #cross_event_mask &  # Keep only cross-site events\n",
    "    np.ones(len(df)).astype(bool)\n",
    ")\n",
    "\n",
    "print(f'Keep {np.sum(valid_event_mask):,d}'\n",
    "      f' out of the {len(df):,d} events ({np.sum(valid_event_mask)*100/len(df):.2f}%)')\n",
    "\n",
    "df_filtered = df.loc[valid_event_mask]\n",
    "display(df_filtered)"
   ]
  },
  {
   "cell_type": "markdown",
   "metadata": {},
   "source": [
    "Percentage of non-empty hyperlinks"
   ]
  },
  {
   "cell_type": "code",
   "execution_count": 29,
   "metadata": {
    "scrolled": false
   },
   "outputs": [
    {
     "data": {
      "text/plain": [
       "71.83500308659147"
      ]
     },
     "execution_count": 29,
     "metadata": {},
     "output_type": "execute_result"
    }
   ],
   "source": [
    "np.sum(df_filtered.Hyperlink != '') * 100 / len(df_filtered)"
   ]
  },
  {
   "cell_type": "markdown",
   "metadata": {},
   "source": [
    "Remove the raw dataframe, we only work on the filtered one from now on."
   ]
  },
  {
   "cell_type": "raw",
   "metadata": {},
   "source": [
    "del df"
   ]
  },
  {
   "cell_type": "code",
   "execution_count": 237,
   "metadata": {},
   "outputs": [
    {
     "data": {
      "text/html": [
       "<div>\n",
       "<style scoped>\n",
       "    .dataframe tbody tr th:only-of-type {\n",
       "        vertical-align: middle;\n",
       "    }\n",
       "\n",
       "    .dataframe tbody tr th {\n",
       "        vertical-align: top;\n",
       "    }\n",
       "\n",
       "    .dataframe thead th {\n",
       "        text-align: right;\n",
       "    }\n",
       "</style>\n",
       "<table border=\"1\" class=\"dataframe\">\n",
       "  <thead>\n",
       "    <tr style=\"text-align: right;\">\n",
       "      <th></th>\n",
       "      <th>Date</th>\n",
       "      <th>Hyperlink</th>\n",
       "      <th>Blog</th>\n",
       "      <th>PostNb</th>\n",
       "      <th>WeightOfLink</th>\n",
       "      <th>Timestamp</th>\n",
       "    </tr>\n",
       "  </thead>\n",
       "  <tbody>\n",
       "    <tr>\n",
       "      <th>0</th>\n",
       "      <td>2008-08-01 00:00:00</td>\n",
       "      <td></td>\n",
       "      <td>http://codeproject.com</td>\n",
       "      <td>0</td>\n",
       "      <td>1.0</td>\n",
       "      <td>1217548800</td>\n",
       "    </tr>\n",
       "    <tr>\n",
       "      <th>1</th>\n",
       "      <td>2008-08-01 00:00:01</td>\n",
       "      <td></td>\n",
       "      <td>http://wallstreetexaminer.com</td>\n",
       "      <td>1</td>\n",
       "      <td>1.0</td>\n",
       "      <td>1217548801</td>\n",
       "    </tr>\n",
       "    <tr>\n",
       "      <th>2</th>\n",
       "      <td>2008-08-01 00:00:01</td>\n",
       "      <td></td>\n",
       "      <td>http://news.bbc.co.uk</td>\n",
       "      <td>2</td>\n",
       "      <td>1.0</td>\n",
       "      <td>1217548801</td>\n",
       "    </tr>\n",
       "    <tr>\n",
       "      <th>3</th>\n",
       "      <td>2008-08-01 00:00:01</td>\n",
       "      <td></td>\n",
       "      <td>http://news.bbc.co.uk</td>\n",
       "      <td>3</td>\n",
       "      <td>1.0</td>\n",
       "      <td>1217548801</td>\n",
       "    </tr>\n",
       "    <tr>\n",
       "      <th>4</th>\n",
       "      <td>2008-08-01 00:00:01</td>\n",
       "      <td></td>\n",
       "      <td>http://news.bbc.co.uk</td>\n",
       "      <td>4</td>\n",
       "      <td>1.0</td>\n",
       "      <td>1217548801</td>\n",
       "    </tr>\n",
       "    <tr>\n",
       "      <th>...</th>\n",
       "      <td>...</td>\n",
       "      <td>...</td>\n",
       "      <td>...</td>\n",
       "      <td>...</td>\n",
       "      <td>...</td>\n",
       "      <td>...</td>\n",
       "    </tr>\n",
       "    <tr>\n",
       "      <th>141578498</th>\n",
       "      <td>2009-05-01 00:00:00</td>\n",
       "      <td>http://foulweather.blogspot.com</td>\n",
       "      <td>http://foulweather.blogspot.com</td>\n",
       "      <td>15312736</td>\n",
       "      <td>0.2</td>\n",
       "      <td>1241136000</td>\n",
       "    </tr>\n",
       "    <tr>\n",
       "      <th>141578499</th>\n",
       "      <td>2009-05-01 00:00:00</td>\n",
       "      <td>http://2.bp.blogspot.com</td>\n",
       "      <td>http://foulweather.blogspot.com</td>\n",
       "      <td>15312736</td>\n",
       "      <td>0.2</td>\n",
       "      <td>1241136000</td>\n",
       "    </tr>\n",
       "    <tr>\n",
       "      <th>141578500</th>\n",
       "      <td>2009-05-01 00:00:00</td>\n",
       "      <td>http://dischord.com</td>\n",
       "      <td>http://foulweather.blogspot.com</td>\n",
       "      <td>15312736</td>\n",
       "      <td>0.2</td>\n",
       "      <td>1241136000</td>\n",
       "    </tr>\n",
       "    <tr>\n",
       "      <th>141578501</th>\n",
       "      <td>2009-05-01 00:00:00</td>\n",
       "      <td>http://stream.publicbroadcasting.net</td>\n",
       "      <td>http://foulweather.blogspot.com</td>\n",
       "      <td>15312736</td>\n",
       "      <td>0.2</td>\n",
       "      <td>1241136000</td>\n",
       "    </tr>\n",
       "    <tr>\n",
       "      <th>141578502</th>\n",
       "      <td>2009-05-01 00:00:00</td>\n",
       "      <td>http://blogger.com</td>\n",
       "      <td>http://foulweather.blogspot.com</td>\n",
       "      <td>15312736</td>\n",
       "      <td>0.2</td>\n",
       "      <td>1241136000</td>\n",
       "    </tr>\n",
       "  </tbody>\n",
       "</table>\n",
       "<p>141578503 rows × 6 columns</p>\n",
       "</div>"
      ],
      "text/plain": [
       "                         Date                             Hyperlink  \\\n",
       "0         2008-08-01 00:00:00                                         \n",
       "1         2008-08-01 00:00:01                                         \n",
       "2         2008-08-01 00:00:01                                         \n",
       "3         2008-08-01 00:00:01                                         \n",
       "4         2008-08-01 00:00:01                                         \n",
       "...                       ...                                   ...   \n",
       "141578498 2009-05-01 00:00:00       http://foulweather.blogspot.com   \n",
       "141578499 2009-05-01 00:00:00              http://2.bp.blogspot.com   \n",
       "141578500 2009-05-01 00:00:00                   http://dischord.com   \n",
       "141578501 2009-05-01 00:00:00  http://stream.publicbroadcasting.net   \n",
       "141578502 2009-05-01 00:00:00                    http://blogger.com   \n",
       "\n",
       "                                      Blog    PostNb  WeightOfLink   Timestamp  \n",
       "0                   http://codeproject.com         0           1.0  1217548800  \n",
       "1            http://wallstreetexaminer.com         1           1.0  1217548801  \n",
       "2                    http://news.bbc.co.uk         2           1.0  1217548801  \n",
       "3                    http://news.bbc.co.uk         3           1.0  1217548801  \n",
       "4                    http://news.bbc.co.uk         4           1.0  1217548801  \n",
       "...                                    ...       ...           ...         ...  \n",
       "141578498  http://foulweather.blogspot.com  15312736           0.2  1241136000  \n",
       "141578499  http://foulweather.blogspot.com  15312736           0.2  1241136000  \n",
       "141578500  http://foulweather.blogspot.com  15312736           0.2  1241136000  \n",
       "141578501  http://foulweather.blogspot.com  15312736           0.2  1241136000  \n",
       "141578502  http://foulweather.blogspot.com  15312736           0.2  1241136000  \n",
       "\n",
       "[141578503 rows x 6 columns]"
      ]
     },
     "execution_count": 237,
     "metadata": {},
     "output_type": "execute_result"
    }
   ],
   "source": [
    "df_filterederederedered"
   ]
  },
  {
   "cell_type": "markdown",
   "metadata": {},
   "source": [
    "### 2.3. Find the top-100 blogs"
   ]
  },
  {
   "cell_type": "code",
   "execution_count": 30,
   "metadata": {},
   "outputs": [],
   "source": [
    "df_filtered['has_hyperlink'] = df_filtered.Hyperlink != ''  # Indicate if event has hyperlink\n",
    "df_filtered['has_hyperlink'] = df_filtered['has_hyperlink'].astype(int)"
   ]
  },
  {
   "cell_type": "markdown",
   "metadata": {},
   "source": [
    "Build the count of number of hyperlink per blogs, i.e., how many times a blog was cited."
   ]
  },
  {
   "cell_type": "raw",
   "metadata": {},
   "source": [
    "count_series = df_filtered.groupby('Hyperlink').agg({'Hyperlink': 'count'})['Hyperlink']\n",
    "count_series = count_series.loc[count_series.index != '']"
   ]
  },
  {
   "cell_type": "markdown",
   "metadata": {},
   "source": [
    "Build the count of number of posts per blogs."
   ]
  },
  {
   "cell_type": "code",
   "execution_count": 31,
   "metadata": {},
   "outputs": [],
   "source": [
    "count_series = df_filtered.groupby('Blog').agg({'PostNb': set})['PostNb'].apply(len)"
   ]
  },
  {
   "cell_type": "markdown",
   "metadata": {},
   "source": [
    "Keep only the top-100 sites"
   ]
  },
  {
   "cell_type": "code",
   "execution_count": 32,
   "metadata": {
    "scrolled": false
   },
   "outputs": [
    {
     "name": "stdout",
     "output_type": "stream",
     "text": [
      "There are 24,280,563 items in the top-100 sites\n"
     ]
    },
    {
     "data": {
      "text/plain": [
       "Blog\n",
       "http://blogs.myspace.com           1721787\n",
       "http://seattle.craigslist.org       908675\n",
       "http://sfbay.craigslist.org         848217\n",
       "http://chicago.craigslist.org       832027\n",
       "http://blog.myspace.com             793208\n",
       "                                    ...   \n",
       "http://huffingtonpost.com            82245\n",
       "http://sandmountainreporter.com      77939\n",
       "http://twitter.com                   76874\n",
       "http://forbes.com                    76804\n",
       "http://rss.rssad.jp                  76273\n",
       "Name: PostNb, Length: 100, dtype: int64"
      ]
     },
     "metadata": {},
     "output_type": "display_data"
    }
   ],
   "source": [
    "top_num = 100\n",
    "\n",
    "top_series = count_series.sort_values(ascending=False).iloc[:top_num]\n",
    "print(f'There are {top_series.sum():,d} items in the top-{top_num:d} sites')\n",
    "display(top_series)"
   ]
  },
  {
   "cell_type": "markdown",
   "metadata": {},
   "source": [
    "### 2.3. Keep only events between sites in the top-100 blogs\n",
    "\n",
    "We finally remove all events coming from hyperlinks that are not part of the top-100 blogs."
   ]
  },
  {
   "cell_type": "code",
   "execution_count": 33,
   "metadata": {
    "scrolled": true
   },
   "outputs": [],
   "source": [
    "top_site_set = set(top_series.index.tolist())  # All top blog sites\n",
    "\n",
    "top_blog_mask = df_filtered['Blog'].isin(top_site_set)     # Blogs is in top\n",
    "top_hp_mask = df_filtered['Hyperlink'].isin(set(list(top_site_set) + ['']))  # Hyperlink is in top or no hyperlink (i.e. is null)"
   ]
  },
  {
   "cell_type": "code",
   "execution_count": 241,
   "metadata": {
    "scrolled": true
   },
   "outputs": [
    {
     "name": "stdout",
     "output_type": "stream",
     "text": [
      "15,168,774 events are between the top-100 sites out of the 141,578,503 (10.71%)\n"
     ]
    }
   ],
   "source": [
    "# Build mask of valid events\n",
    "valid_event_mask = top_blog_mask & top_hp_mask\n",
    "\n",
    "# Filter\n",
    "df_top = df_filtered.loc[valid_event_mask]\n",
    "assert len(df_top) == np.sum(valid_event_mask)\n",
    "\n",
    "print(f'{np.sum(valid_event_mask):,d} events are between the top-{top_num} sites'\n",
    "      f' out of the {len(df_filtered):,d} ({np.sum(valid_event_mask)*100/len(df_filtered):.2f}%)')"
   ]
  },
  {
   "cell_type": "markdown",
   "metadata": {},
   "source": [
    "### 2.4. Final formatting steps"
   ]
  },
  {
   "cell_type": "markdown",
   "metadata": {},
   "source": [
    "Build numerical index for each blog"
   ]
  },
  {
   "cell_type": "code",
   "execution_count": 242,
   "metadata": {
    "scrolled": true
   },
   "outputs": [],
   "source": [
    "top_name_to_idx_map = dict(zip(top_series.index, range(top_num)))\n",
    "\n",
    "# Make numerical index for blogs\n",
    "df_top['Blog_idx'] = df_top['Blog'].apply(lambda name: top_name_to_idx_map[name])\n",
    "\n",
    "# Add hyperlinks index\n",
    "top_name_to_idx_map[''] = None  # Set None for No-Hyperlink\n",
    "df_top['Hyperlink_idx'] = df_top['Hyperlink'].apply(lambda name: top_name_to_idx_map[name]).astype(pd.Int32Dtype())"
   ]
  },
  {
   "cell_type": "markdown",
   "metadata": {},
   "source": [
    "Order by time"
   ]
  },
  {
   "cell_type": "code",
   "execution_count": 11,
   "metadata": {},
   "outputs": [],
   "source": [
    "df_top = df_top.sort_values(by='Timestamp')"
   ]
  },
  {
   "cell_type": "markdown",
   "metadata": {},
   "source": [
    "Order columns"
   ]
  },
  {
   "cell_type": "code",
   "execution_count": 243,
   "metadata": {},
   "outputs": [],
   "source": [
    "df_top = df_top[['Hyperlink_idx', 'Blog_idx', 'Hyperlink', 'Blog', 'Date', 'Timestamp']]"
   ]
  },
  {
   "cell_type": "code",
   "execution_count": 12,
   "metadata": {
    "scrolled": false
   },
   "outputs": [
    {
     "name": "stdout",
     "output_type": "stream",
     "text": [
      "(15168774, 6)\n"
     ]
    },
    {
     "data": {
      "text/html": [
       "<div>\n",
       "<style scoped>\n",
       "    .dataframe tbody tr th:only-of-type {\n",
       "        vertical-align: middle;\n",
       "    }\n",
       "\n",
       "    .dataframe tbody tr th {\n",
       "        vertical-align: top;\n",
       "    }\n",
       "\n",
       "    .dataframe thead th {\n",
       "        text-align: right;\n",
       "    }\n",
       "</style>\n",
       "<table border=\"1\" class=\"dataframe\">\n",
       "  <thead>\n",
       "    <tr style=\"text-align: right;\">\n",
       "      <th></th>\n",
       "      <th>Hyperlink_idx</th>\n",
       "      <th>Blog_idx</th>\n",
       "      <th>Hyperlink</th>\n",
       "      <th>Blog</th>\n",
       "      <th>Date</th>\n",
       "      <th>Timestamp</th>\n",
       "    </tr>\n",
       "  </thead>\n",
       "  <tbody>\n",
       "    <tr>\n",
       "      <th>37814523</th>\n",
       "      <td>59</td>\n",
       "      <td>59</td>\n",
       "      <td>http://informedtrades.com</td>\n",
       "      <td>http://informedtrades.com</td>\n",
       "      <td>2008-10-29 15:19:49</td>\n",
       "      <td>1225293589</td>\n",
       "    </tr>\n",
       "    <tr>\n",
       "      <th>51089403</th>\n",
       "      <td>46</td>\n",
       "      <td>46</td>\n",
       "      <td>http://answerbag.com</td>\n",
       "      <td>http://answerbag.com</td>\n",
       "      <td>2008-11-28 02:26:52</td>\n",
       "      <td>1227839212</td>\n",
       "    </tr>\n",
       "    <tr>\n",
       "      <th>122817347</th>\n",
       "      <td>NaN</td>\n",
       "      <td>0</td>\n",
       "      <td></td>\n",
       "      <td>http://blogs.myspace.com</td>\n",
       "      <td>2009-04-09 00:54:43</td>\n",
       "      <td>1239238483</td>\n",
       "    </tr>\n",
       "    <tr>\n",
       "      <th>84450886</th>\n",
       "      <td>43</td>\n",
       "      <td>43</td>\n",
       "      <td>http://fr.news.yahoo.com</td>\n",
       "      <td>http://fr.news.yahoo.com</td>\n",
       "      <td>2009-02-10 14:50:45</td>\n",
       "      <td>1234277445</td>\n",
       "    </tr>\n",
       "    <tr>\n",
       "      <th>112123600</th>\n",
       "      <td>12</td>\n",
       "      <td>12</td>\n",
       "      <td>http://mx.answers.yahoo.com</td>\n",
       "      <td>http://mx.answers.yahoo.com</td>\n",
       "      <td>2009-03-23 07:38:10</td>\n",
       "      <td>1237793890</td>\n",
       "    </tr>\n",
       "    <tr>\n",
       "      <th>72836314</th>\n",
       "      <td>NaN</td>\n",
       "      <td>37</td>\n",
       "      <td></td>\n",
       "      <td>http://news.google.cl</td>\n",
       "      <td>2009-01-18 11:31:15</td>\n",
       "      <td>1232278275</td>\n",
       "    </tr>\n",
       "    <tr>\n",
       "      <th>129066218</th>\n",
       "      <td>11</td>\n",
       "      <td>11</td>\n",
       "      <td>http://ar.answers.yahoo.com</td>\n",
       "      <td>http://ar.answers.yahoo.com</td>\n",
       "      <td>2009-04-19 12:21:55</td>\n",
       "      <td>1240143715</td>\n",
       "    </tr>\n",
       "    <tr>\n",
       "      <th>12679389</th>\n",
       "      <td>58</td>\n",
       "      <td>58</td>\n",
       "      <td>http://washingtonpost.com</td>\n",
       "      <td>http://washingtonpost.com</td>\n",
       "      <td>2008-09-06 12:58:28</td>\n",
       "      <td>1220705908</td>\n",
       "    </tr>\n",
       "    <tr>\n",
       "      <th>26540580</th>\n",
       "      <td>21</td>\n",
       "      <td>21</td>\n",
       "      <td>http://startribune.com</td>\n",
       "      <td>http://startribune.com</td>\n",
       "      <td>2008-10-05 13:20:40</td>\n",
       "      <td>1223212840</td>\n",
       "    </tr>\n",
       "    <tr>\n",
       "      <th>34472301</th>\n",
       "      <td>59</td>\n",
       "      <td>59</td>\n",
       "      <td>http://informedtrades.com</td>\n",
       "      <td>http://informedtrades.com</td>\n",
       "      <td>2008-10-22 06:54:45</td>\n",
       "      <td>1224658485</td>\n",
       "    </tr>\n",
       "  </tbody>\n",
       "</table>\n",
       "</div>"
      ],
      "text/plain": [
       "           Hyperlink_idx  Blog_idx                    Hyperlink  \\\n",
       "37814523              59        59    http://informedtrades.com   \n",
       "51089403              46        46         http://answerbag.com   \n",
       "122817347            NaN         0                                \n",
       "84450886              43        43     http://fr.news.yahoo.com   \n",
       "112123600             12        12  http://mx.answers.yahoo.com   \n",
       "72836314             NaN        37                                \n",
       "129066218             11        11  http://ar.answers.yahoo.com   \n",
       "12679389              58        58    http://washingtonpost.com   \n",
       "26540580              21        21       http://startribune.com   \n",
       "34472301              59        59    http://informedtrades.com   \n",
       "\n",
       "                                  Blog                Date   Timestamp  \n",
       "37814523     http://informedtrades.com 2008-10-29 15:19:49  1225293589  \n",
       "51089403          http://answerbag.com 2008-11-28 02:26:52  1227839212  \n",
       "122817347     http://blogs.myspace.com 2009-04-09 00:54:43  1239238483  \n",
       "84450886      http://fr.news.yahoo.com 2009-02-10 14:50:45  1234277445  \n",
       "112123600  http://mx.answers.yahoo.com 2009-03-23 07:38:10  1237793890  \n",
       "72836314         http://news.google.cl 2009-01-18 11:31:15  1232278275  \n",
       "129066218  http://ar.answers.yahoo.com 2009-04-19 12:21:55  1240143715  \n",
       "12679389     http://washingtonpost.com 2008-09-06 12:58:28  1220705908  \n",
       "26540580        http://startribune.com 2008-10-05 13:20:40  1223212840  \n",
       "34472301     http://informedtrades.com 2008-10-22 06:54:45  1224658485  "
      ]
     },
     "metadata": {},
     "output_type": "display_data"
    }
   ],
   "source": [
    "print(df_top.shape)\n",
    "display(df_top.sample(10))"
   ]
  },
  {
   "cell_type": "markdown",
   "metadata": {},
   "source": [
    "We only work with the top blogs from now on."
   ]
  },
  {
   "cell_type": "raw",
   "metadata": {},
   "source": [
    "del df_filtered"
   ]
  },
  {
   "cell_type": "markdown",
   "metadata": {},
   "source": [
    "Save the clean dataframe"
   ]
  },
  {
   "cell_type": "code",
   "execution_count": 13,
   "metadata": {},
   "outputs": [],
   "source": [
    "df_top.to_pickle(os.path.join(DATA_DIR, 'memetracker-top100-clean.pickle.gz'), compression='gzip')"
   ]
  },
  {
   "cell_type": "code",
   "execution_count": 14,
   "metadata": {},
   "outputs": [],
   "source": [
    "df_top.to_csv(os.path.join(DATA_DIR, 'memetracker-top100-clean.csv.gz'), \n",
    "              sep=',', compression='gzip', header=False, index=False)"
   ]
  },
  {
   "cell_type": "markdown",
   "metadata": {},
   "source": [
    "## 3. Build point process\n",
    "\n",
    "Aggregate events per Blog"
   ]
  },
  {
   "cell_type": "code",
   "execution_count": 4,
   "metadata": {},
   "outputs": [],
   "source": [
    "df_top = pd.read_pickle(os.path.join(DATA_DIR, 'memetracker-top100-clean.pickle.gz'), compression='gzip')"
   ]
  },
  {
   "cell_type": "code",
   "execution_count": 185,
   "metadata": {},
   "outputs": [
    {
     "data": {
      "text/plain": [
       "{b'76': 15,\n",
       " b'10': 80,\n",
       " b'97': 1323,\n",
       " b'30': 7,\n",
       " b'31': 2,\n",
       " b'85': 19,\n",
       " b'54': 44,\n",
       " b'91': 1,\n",
       " b'25': 60,\n",
       " b'32': 3,\n",
       " b'38': 9,\n",
       " b'69': 4,\n",
       " b'45': 8,\n",
       " b'58': 15,\n",
       " b'53': 69,\n",
       " b'95': 8,\n",
       " b'94': 2,\n",
       " b'60': 16,\n",
       " b'42': 21,\n",
       " b'20': 3,\n",
       " b'65': 2,\n",
       " b'83': 1,\n",
       " b'2': 1,\n",
       " b'98': 7,\n",
       " b'0': 1}"
      ]
     },
     "execution_count": 185,
     "metadata": {},
     "output_type": "execute_result"
    }
   ],
   "source": [
    "{dataset.idx_to_name[u]: d['weight'] for u, v, d in dataset.graph.in_edges(dataset.name_to_idx[b'99'], data=True)}"
   ]
  },
  {
   "cell_type": "code",
   "execution_count": 125,
   "metadata": {},
   "outputs": [],
   "source": [
    "t0 = df_top.Timestamp.min()\n",
    "end_time = df_top.Timestamp.max()\n",
    "\n",
    "train_start = t0 + (end_time - t0) * 0.0\n",
    "train_end = t0 + (end_time - t0) * 0.05\n",
    "test_end = t0 + (end_time - t0) * 0.1\n",
    "\n",
    "train_mask = (df_top.Timestamp >= train_start) & (df_top.Timestamp < train_end)\n",
    "test_mask = (df_top.Timestamp >= train_end) & (df_top.Timestamp < test_end)\n",
    "\n",
    "train_df = df_top.loc[train_mask].groupby('Blog_idx').agg({'Timestamp': list, 'Hyperlink_idx': list}).sort_index()\n",
    "test_df = df_top.loc[test_mask].groupby('Blog_idx').agg({'Timestamp': list, 'Hyperlink_idx': list}).sort_index()\n",
    "\n",
    "nodes_to_keep = train_df.index.intersection(test_df.index)\n",
    "\n",
    "train_df = train_df.loc[nodes_to_keep]\n",
    "test_df = test_df.loc[nodes_to_keep]\n",
    "\n",
    "train_events = train_df.Timestamp.apply(np.array).tolist()\n",
    "test_events = test_df.Timestamp.apply(np.array).tolist()\n"
   ]
  },
  {
   "cell_type": "code",
   "execution_count": 137,
   "metadata": {},
   "outputs": [],
   "source": [
    "# Build ground truth graph of train set\n",
    "from collections import Counter\n",
    "def count_hyperlink(hp_list):\n",
    "    hp_counter = Counter(hp_list)\n",
    "    del hp_counter[np.nan]\n",
    "    return dict(hp_counter)\n",
    "\n",
    "train_edges = df_top.loc[train_mask].groupby(['Hyperlink_idx', 'Blog_idx']).agg({'Timestamp': 'count'})['Timestamp'].to_dict()\n",
    "train_edges = [(u, v, {'weight': w}) for (u,v), w in train_edges.items() if (u in nodes_to_keep) and (v in nodes_to_keep)]\n",
    "\n",
    "train_graph = nx.DiGraph()\n",
    "train_graph.add_nodes_from(nodes_to_keep)\n",
    "train_graph.add_edges_from(train_edges)\n",
    "\n",
    "test_edges = df_top.loc[test_mask].groupby(['Hyperlink_idx', 'Blog_idx']).agg({'Timestamp': 'count'})['Timestamp'].to_dict()\n",
    "test_edges = [(u, v, {'weight': w}) for (u,v), w in test_edges.items() if (u in nodes_to_keep) and (v in nodes_to_keep)]\n",
    "\n",
    "test_graph = nx.DiGraph()\n",
    "test_graph.add_nodes_from(nodes_to_keep)\n",
    "test_graph.add_edges_from(test_edges)\n"
   ]
  },
  {
   "cell_type": "code",
   "execution_count": 139,
   "metadata": {
    "scrolled": true
   },
   "outputs": [
    {
     "data": {
      "text/plain": [
       "(92, 150)"
      ]
     },
     "execution_count": 139,
     "metadata": {},
     "output_type": "execute_result"
    }
   ],
   "source": [
    "train_graph.number_of_nodes(), train_graph.number_of_edges()"
   ]
  },
  {
   "cell_type": "code",
   "execution_count": 140,
   "metadata": {},
   "outputs": [
    {
     "data": {
      "text/plain": [
       "(92, 143)"
      ]
     },
     "execution_count": 140,
     "metadata": {},
     "output_type": "execute_result"
    }
   ],
   "source": [
    "test_graph.number_of_nodes(), test_graph.number_of_edges()"
   ]
  },
  {
   "cell_type": "code",
   "execution_count": null,
   "metadata": {},
   "outputs": [],
   "source": []
  },
  {
   "cell_type": "code",
   "execution_count": null,
   "metadata": {},
   "outputs": [],
   "source": []
  },
  {
   "cell_type": "code",
   "execution_count": null,
   "metadata": {},
   "outputs": [],
   "source": []
  },
  {
   "cell_type": "code",
   "execution_count": null,
   "metadata": {},
   "outputs": [],
   "source": []
  },
  {
   "cell_type": "code",
   "execution_count": 78,
   "metadata": {},
   "outputs": [],
   "source": [
    "import tsvar\n",
    "dataset = tsvar.preprocessing.Dataset(os.path.join(DATA_DIR, 'memetracker-top100-clean.csv.gz'), top=None, timescale=1.0)"
   ]
  },
  {
   "cell_type": "code",
   "execution_count": 79,
   "metadata": {},
   "outputs": [
    {
     "data": {
      "text/plain": [
       "15168774"
      ]
     },
     "execution_count": 79,
     "metadata": {},
     "output_type": "execute_result"
    }
   ],
   "source": [
    "sum(map(len, dataset.timestamps))"
   ]
  },
  {
   "cell_type": "code",
   "execution_count": 102,
   "metadata": {
    "scrolled": true
   },
   "outputs": [
    {
     "data": {
      "text/plain": [
       "(100, 985)"
      ]
     },
     "execution_count": 102,
     "metadata": {},
     "output_type": "execute_result"
    }
   ],
   "source": [
    "dataset.graph.number_of_nodes(), dataset.graph.number_of_edges()"
   ]
  },
  {
   "cell_type": "code",
   "execution_count": null,
   "metadata": {},
   "outputs": [],
   "source": []
  },
  {
   "cell_type": "code",
   "execution_count": null,
   "metadata": {},
   "outputs": [],
   "source": []
  },
  {
   "cell_type": "code",
   "execution_count": null,
   "metadata": {},
   "outputs": [],
   "source": []
  },
  {
   "cell_type": "code",
   "execution_count": 184,
   "metadata": {},
   "outputs": [],
   "source": [
    "df_tpp = df_top.groupby('Blog').agg({'Timestamp': list, 'Hyperlink': list, 'Blog_idx': 'first', 'Hyperlink_idx': list})\n",
    "for col in ['Timestamp', 'Hyperlink', 'Hyperlink_idx']:\n",
    "    df_tpp[col] = df_tpp[col].apply(np.array)"
   ]
  },
  {
   "cell_type": "markdown",
   "metadata": {},
   "source": [
    "Count number of events per dimension"
   ]
  },
  {
   "cell_type": "code",
   "execution_count": 128,
   "metadata": {
    "scrolled": false
   },
   "outputs": [],
   "source": [
    "df_tpp['Count'] = df_tpp['Timestamp'].apply(len)\n",
    "df_tpp = df_tpp.sort_values(by='Count')"
   ]
  },
  {
   "cell_type": "code",
   "execution_count": 129,
   "metadata": {},
   "outputs": [
    {
     "data": {
      "text/html": [
       "<div>\n",
       "<style scoped>\n",
       "    .dataframe tbody tr th:only-of-type {\n",
       "        vertical-align: middle;\n",
       "    }\n",
       "\n",
       "    .dataframe tbody tr th {\n",
       "        vertical-align: top;\n",
       "    }\n",
       "\n",
       "    .dataframe thead th {\n",
       "        text-align: right;\n",
       "    }\n",
       "</style>\n",
       "<table border=\"1\" class=\"dataframe\">\n",
       "  <thead>\n",
       "    <tr style=\"text-align: right;\">\n",
       "      <th></th>\n",
       "      <th>Timestamp</th>\n",
       "      <th>Hyperlink</th>\n",
       "      <th>Blog_idx</th>\n",
       "      <th>Hyperlink_idx</th>\n",
       "      <th>dataset_idx</th>\n",
       "      <th>Count</th>\n",
       "    </tr>\n",
       "    <tr>\n",
       "      <th>Blog</th>\n",
       "      <th></th>\n",
       "      <th></th>\n",
       "      <th></th>\n",
       "      <th></th>\n",
       "      <th></th>\n",
       "      <th></th>\n",
       "    </tr>\n",
       "  </thead>\n",
       "  <tbody>\n",
       "    <tr>\n",
       "      <th>http://rss.rssad.jp</th>\n",
       "      <td>[1217561050, 1217561050, 1217561050, 121756105...</td>\n",
       "      <td>[http://twitter.com, http://twitter.com, http:...</td>\n",
       "      <td>99</td>\n",
       "      <td>[97, 97, 97, 97, 97, 25, 25, 31, 38, 54, 97, 9...</td>\n",
       "      <td>74</td>\n",
       "      <td>1723</td>\n",
       "    </tr>\n",
       "    <tr>\n",
       "      <th>http://forums.seroundtable.com</th>\n",
       "      <td>[1217637788, 1217637788, 1217637788, 121778864...</td>\n",
       "      <td>[, , , , , http://forums.seroundtable.com, htt...</td>\n",
       "      <td>56</td>\n",
       "      <td>[nan, nan, nan, nan, nan, 56, 56, nan, nan, na...</td>\n",
       "      <td>83</td>\n",
       "      <td>1743</td>\n",
       "    </tr>\n",
       "    <tr>\n",
       "      <th>http://answers.polldaddy.com</th>\n",
       "      <td>[1227662993, 1227670206, 1227675626, 122767742...</td>\n",
       "      <td>[http://answers.polldaddy.com, http://answers....</td>\n",
       "      <td>52</td>\n",
       "      <td>[52, 52, 52, 52, 52, 52, 52, nan, 52, 52, 52, ...</td>\n",
       "      <td>97</td>\n",
       "      <td>3043</td>\n",
       "    </tr>\n",
       "    <tr>\n",
       "      <th>http://washingtondc.craigslist.org</th>\n",
       "      <td>[1217559137, 1217561639, 1217562989, 121756401...</td>\n",
       "      <td>[, , , , , , , , , , , , , , , , , , , , , , ,...</td>\n",
       "      <td>16</td>\n",
       "      <td>[nan, nan, nan, nan, nan, nan, nan, nan, nan, ...</td>\n",
       "      <td>73</td>\n",
       "      <td>3321</td>\n",
       "    </tr>\n",
       "    <tr>\n",
       "      <th>http://wordle.net</th>\n",
       "      <td>[1217550020, 1217550020, 1217550020, 121755002...</td>\n",
       "      <td>[, , , , , , , , , , , , , , , , , , , , , , ,...</td>\n",
       "      <td>39</td>\n",
       "      <td>[nan, nan, nan, nan, nan, nan, nan, nan, nan, ...</td>\n",
       "      <td>41</td>\n",
       "      <td>4227</td>\n",
       "    </tr>\n",
       "    <tr>\n",
       "      <th>...</th>\n",
       "      <td>...</td>\n",
       "      <td>...</td>\n",
       "      <td>...</td>\n",
       "      <td>...</td>\n",
       "      <td>...</td>\n",
       "      <td>...</td>\n",
       "    </tr>\n",
       "    <tr>\n",
       "      <th>http://sportsnipe.com</th>\n",
       "      <td>[1218863834, 1218863835, 1218863835, 121886383...</td>\n",
       "      <td>[http://sportsnipe.com, http://sportsnipe.com,...</td>\n",
       "      <td>13</td>\n",
       "      <td>[13, 13, 13, 13, 13, 13, 13, 13, 13, 13, 13, 1...</td>\n",
       "      <td>92</td>\n",
       "      <td>458599</td>\n",
       "    </tr>\n",
       "    <tr>\n",
       "      <th>http://mx.answers.yahoo.com</th>\n",
       "      <td>[1217550871, 1217553309, 1217553309, 121755330...</td>\n",
       "      <td>[, , , , , , , , , , , , , , , , , , , , , , ,...</td>\n",
       "      <td>12</td>\n",
       "      <td>[nan, nan, nan, nan, nan, nan, nan, nan, nan, ...</td>\n",
       "      <td>60</td>\n",
       "      <td>482981</td>\n",
       "    </tr>\n",
       "    <tr>\n",
       "      <th>http://ar.answers.yahoo.com</th>\n",
       "      <td>[1217551046, 1217555877, 1217555877, 121755587...</td>\n",
       "      <td>[, , , , , , , , , , , , , , , , , , , , , , ,...</td>\n",
       "      <td>11</td>\n",
       "      <td>[nan, nan, nan, nan, nan, nan, nan, nan, nan, ...</td>\n",
       "      <td>64</td>\n",
       "      <td>483757</td>\n",
       "    </tr>\n",
       "    <tr>\n",
       "      <th>http://blog.myspace.com</th>\n",
       "      <td>[1217548911, 1217548911, 1217548911, 121754891...</td>\n",
       "      <td>[, , , , , , , , , , , , , , , , , , , , , , ,...</td>\n",
       "      <td>4</td>\n",
       "      <td>[nan, nan, nan, nan, nan, nan, nan, nan, nan, ...</td>\n",
       "      <td>11</td>\n",
       "      <td>762262</td>\n",
       "    </tr>\n",
       "    <tr>\n",
       "      <th>http://blogs.myspace.com</th>\n",
       "      <td>[1225538871, 1230531881, 1232036132, 123242065...</td>\n",
       "      <td>[, , , , , , , , , , , , , , , , , , , , , , ,...</td>\n",
       "      <td>0</td>\n",
       "      <td>[nan, nan, nan, nan, nan, nan, nan, nan, nan, ...</td>\n",
       "      <td>95</td>\n",
       "      <td>1624574</td>\n",
       "    </tr>\n",
       "  </tbody>\n",
       "</table>\n",
       "<p>100 rows × 6 columns</p>\n",
       "</div>"
      ],
      "text/plain": [
       "                                                                            Timestamp  \\\n",
       "Blog                                                                                    \n",
       "http://rss.rssad.jp                 [1217561050, 1217561050, 1217561050, 121756105...   \n",
       "http://forums.seroundtable.com      [1217637788, 1217637788, 1217637788, 121778864...   \n",
       "http://answers.polldaddy.com        [1227662993, 1227670206, 1227675626, 122767742...   \n",
       "http://washingtondc.craigslist.org  [1217559137, 1217561639, 1217562989, 121756401...   \n",
       "http://wordle.net                   [1217550020, 1217550020, 1217550020, 121755002...   \n",
       "...                                                                               ...   \n",
       "http://sportsnipe.com               [1218863834, 1218863835, 1218863835, 121886383...   \n",
       "http://mx.answers.yahoo.com         [1217550871, 1217553309, 1217553309, 121755330...   \n",
       "http://ar.answers.yahoo.com         [1217551046, 1217555877, 1217555877, 121755587...   \n",
       "http://blog.myspace.com             [1217548911, 1217548911, 1217548911, 121754891...   \n",
       "http://blogs.myspace.com            [1225538871, 1230531881, 1232036132, 123242065...   \n",
       "\n",
       "                                                                            Hyperlink  \\\n",
       "Blog                                                                                    \n",
       "http://rss.rssad.jp                 [http://twitter.com, http://twitter.com, http:...   \n",
       "http://forums.seroundtable.com      [, , , , , http://forums.seroundtable.com, htt...   \n",
       "http://answers.polldaddy.com        [http://answers.polldaddy.com, http://answers....   \n",
       "http://washingtondc.craigslist.org  [, , , , , , , , , , , , , , , , , , , , , , ,...   \n",
       "http://wordle.net                   [, , , , , , , , , , , , , , , , , , , , , , ,...   \n",
       "...                                                                               ...   \n",
       "http://sportsnipe.com               [http://sportsnipe.com, http://sportsnipe.com,...   \n",
       "http://mx.answers.yahoo.com         [, , , , , , , , , , , , , , , , , , , , , , ,...   \n",
       "http://ar.answers.yahoo.com         [, , , , , , , , , , , , , , , , , , , , , , ,...   \n",
       "http://blog.myspace.com             [, , , , , , , , , , , , , , , , , , , , , , ,...   \n",
       "http://blogs.myspace.com            [, , , , , , , , , , , , , , , , , , , , , , ,...   \n",
       "\n",
       "                                    Blog_idx  \\\n",
       "Blog                                           \n",
       "http://rss.rssad.jp                       99   \n",
       "http://forums.seroundtable.com            56   \n",
       "http://answers.polldaddy.com              52   \n",
       "http://washingtondc.craigslist.org        16   \n",
       "http://wordle.net                         39   \n",
       "...                                      ...   \n",
       "http://sportsnipe.com                     13   \n",
       "http://mx.answers.yahoo.com               12   \n",
       "http://ar.answers.yahoo.com               11   \n",
       "http://blog.myspace.com                    4   \n",
       "http://blogs.myspace.com                   0   \n",
       "\n",
       "                                                                        Hyperlink_idx  \\\n",
       "Blog                                                                                    \n",
       "http://rss.rssad.jp                 [97, 97, 97, 97, 97, 25, 25, 31, 38, 54, 97, 9...   \n",
       "http://forums.seroundtable.com      [nan, nan, nan, nan, nan, 56, 56, nan, nan, na...   \n",
       "http://answers.polldaddy.com        [52, 52, 52, 52, 52, 52, 52, nan, 52, 52, 52, ...   \n",
       "http://washingtondc.craigslist.org  [nan, nan, nan, nan, nan, nan, nan, nan, nan, ...   \n",
       "http://wordle.net                   [nan, nan, nan, nan, nan, nan, nan, nan, nan, ...   \n",
       "...                                                                               ...   \n",
       "http://sportsnipe.com               [13, 13, 13, 13, 13, 13, 13, 13, 13, 13, 13, 1...   \n",
       "http://mx.answers.yahoo.com         [nan, nan, nan, nan, nan, nan, nan, nan, nan, ...   \n",
       "http://ar.answers.yahoo.com         [nan, nan, nan, nan, nan, nan, nan, nan, nan, ...   \n",
       "http://blog.myspace.com             [nan, nan, nan, nan, nan, nan, nan, nan, nan, ...   \n",
       "http://blogs.myspace.com            [nan, nan, nan, nan, nan, nan, nan, nan, nan, ...   \n",
       "\n",
       "                                    dataset_idx    Count  \n",
       "Blog                                                      \n",
       "http://rss.rssad.jp                          74     1723  \n",
       "http://forums.seroundtable.com               83     1743  \n",
       "http://answers.polldaddy.com                 97     3043  \n",
       "http://washingtondc.craigslist.org           73     3321  \n",
       "http://wordle.net                            41     4227  \n",
       "...                                         ...      ...  \n",
       "http://sportsnipe.com                        92   458599  \n",
       "http://mx.answers.yahoo.com                  60   482981  \n",
       "http://ar.answers.yahoo.com                  64   483757  \n",
       "http://blog.myspace.com                      11   762262  \n",
       "http://blogs.myspace.com                     95  1624574  \n",
       "\n",
       "[100 rows x 6 columns]"
      ]
     },
     "execution_count": 129,
     "metadata": {},
     "output_type": "execute_result"
    }
   ],
   "source": [
    "df_tpp"
   ]
  },
  {
   "cell_type": "code",
   "execution_count": 30,
   "metadata": {},
   "outputs": [],
   "source": [
    "df_tpp.to_pickle('/root/workspace/var-wold/data/memetracker/df_tpp.pk')"
   ]
  },
  {
   "cell_type": "markdown",
   "metadata": {},
   "source": [
    "## 4. Build influence graph"
   ]
  },
  {
   "cell_type": "markdown",
   "metadata": {},
   "source": [
    "Build the adjacency matrix in parallel for each node"
   ]
  },
  {
   "cell_type": "code",
   "execution_count": 42,
   "metadata": {},
   "outputs": [
    {
     "name": "stdout",
     "output_type": "stream",
     "text": [
      "Finished job 99/100"
     ]
    }
   ],
   "source": [
    "def worker(blog, row):\n",
    "    mu_mat = np.zeros(100)\n",
    "    adj_mat = np.zeros((100, 100))\n",
    "    blog_idx = row['Blog_idx']\n",
    "    for hp_idx in row['Hyperlink_idx']:\n",
    "        if np.isnan(hp_idx):\n",
    "            mu_mat[blog_idx] += 1\n",
    "            continue\n",
    "        hp_idx = int(hp_idx)\n",
    "        adj_mat[hp_idx][blog_idx] += 1\n",
    "    return mu_mat, adj_mat\n",
    "\n",
    "pool = multiprocessing.Pool(40)\n",
    "\n",
    "jobs = list()\n",
    "for blog, row in df_tpp.iterrows():\n",
    "    job = pool.apply_async(worker, (blog, row, ))\n",
    "    jobs.append(job)\n",
    "\n",
    "mu_mat = np.zeros(100)\n",
    "adj_mat = np.zeros((100, 100))\n",
    "for i, job in enumerate(jobs):\n",
    "    this_mu_mat, this_adj_mat = job.get()\n",
    "    mu_mat += this_mu_mat\n",
    "    adj_mat += this_adj_mat\n",
    "    print(f\"\\rFinished job {i}/{len(jobs)}\", end='')\n",
    "    \n",
    "pool.close()\n",
    "pool.terminate()"
   ]
  },
  {
   "cell_type": "code",
   "execution_count": 43,
   "metadata": {},
   "outputs": [
    {
     "name": "stdout",
     "output_type": "stream",
     "text": [
      "Number of nodes: 100\n",
      "Number of edges: 985\n",
      "Number of self-loops: 93\n"
     ]
    }
   ],
   "source": [
    "import networkx as nx\n",
    "graph = nx.DiGraph(adj_mat)\n",
    "print('Number of nodes:', graph.number_of_nodes())\n",
    "print('Number of edges:', graph.number_of_edges())\n",
    "print('Number of self-loops:', graph.number_of_selfloops())"
   ]
  },
  {
   "cell_type": "code",
   "execution_count": null,
   "metadata": {},
   "outputs": [],
   "source": []
  },
  {
   "cell_type": "markdown",
   "metadata": {},
   "source": [
    "## 5. Visualize the dataset"
   ]
  },
  {
   "cell_type": "code",
   "execution_count": 44,
   "metadata": {},
   "outputs": [
    {
     "name": "stdout",
     "output_type": "stream",
     "text": [
      "count    1.000000e+02\n",
      "mean     1.516877e+05\n",
      "std      1.937082e+05\n",
      "min      1.723000e+03\n",
      "25%      7.706900e+04\n",
      "50%      1.057855e+05\n",
      "75%      1.740125e+05\n",
      "max      1.624574e+06\n",
      "Name: Count, dtype: float64\n"
     ]
    },
    {
     "data": {
      "image/png": "[encoded data removed]",
      "text/plain": [
       "<Figure size 432x288 with 1 Axes>"
      ]
     },
     "metadata": {
      "needs_background": "light"
     },
     "output_type": "display_data"
    }
   ],
   "source": [
    "plt.boxplot(df_tpp.Count)\n",
    "plt.yscale('log');\n",
    "print(df_tpp.Count.describe())"
   ]
  },
  {
   "cell_type": "code",
   "execution_count": 45,
   "metadata": {},
   "outputs": [
    {
     "data": {
      "image/png": "[encoded data removed]",
      "text/plain": [
       "<Figure size 1296x252 with 3 Axes>"
      ]
     },
     "metadata": {
      "needs_background": "light"
     },
     "output_type": "display_data"
    }
   ],
   "source": [
    "fig, axs = plt.subplots(1, 3, figsize=(18, 3.5))\n",
    "\n",
    "axs[0].hist(list(map(len, df_tpp.Timestamp)))\n",
    "axs[0].set_xlabel('Number of events \\n in each dim')\n",
    "\n",
    "start_time = min(map(min, df_tpp.Timestamp))\n",
    "end_time = max(map(max, df_tpp.Timestamp))\n",
    "\n",
    "axs[1].hist(list(map(min, df_tpp.Timestamp)), bins=np.linspace(start_time, end_time, 20))\n",
    "axs[1].set_xlabel('First of event \\n in each dim')\n",
    "\n",
    "axs[2].hist(list(map(max, df_tpp.Timestamp)), bins=np.linspace(start_time, end_time, 20))\n",
    "axs[2].set_xlabel('Last of events \\n in each dim')\n",
    "\n",
    "fig.suptitle(f\"Dataset MemeTracker\");"
   ]
  },
  {
   "cell_type": "code",
   "execution_count": 67,
   "metadata": {},
   "outputs": [
    {
     "data": {
      "text/plain": [
       "15168774"
      ]
     },
     "execution_count": 67,
     "metadata": {},
     "output_type": "execute_result"
    }
   ],
   "source": [
    "sum(map(len, df_tpp.Timestamp))"
   ]
  },
  {
   "cell_type": "code",
   "execution_count": 48,
   "metadata": {},
   "outputs": [
    {
     "data": {
      "image/png": "[encoded data removed]",
      "text/plain": [
       "<Figure size 576x576 with 1 Axes>"
      ]
     },
     "metadata": {
      "needs_background": "light"
     },
     "output_type": "display_data"
    }
   ],
   "source": [
    "plt.figure(figsize=(8, 8))\n",
    "plt.imshow(adj_mat)\n",
    "plt.title('Adjacency matrix');"
   ]
  },
  {
   "cell_type": "code",
   "execution_count": 50,
   "metadata": {},
   "outputs": [
    {
     "data": {
      "image/png": "[encoded data removed]",
      "text/plain": [
       "<Figure size 432x288 with 1 Axes>"
      ]
     },
     "metadata": {
      "needs_background": "light"
     },
     "output_type": "display_data"
    }
   ],
   "source": [
    "diag_mask = np.eye(adj_mat.shape[0]).astype(bool)\n",
    "plt.boxplot([mu_mat, adj_mat[diag_mask], adj_mat[~diag_mask]], labels=['Background', 'Diagonal', 'Cross-interaction']);\n",
    "plt.yscale('log');"
   ]
  },
  {
   "cell_type": "code",
   "execution_count": null,
   "metadata": {},
   "outputs": [],
   "source": []
  },
  {
   "cell_type": "markdown",
   "metadata": {},
   "source": [
    "## 7. Make the dataset"
   ]
  },
  {
   "cell_type": "code",
   "execution_count": 68,
   "metadata": {},
   "outputs": [],
   "source": [
    "dim = 100\n",
    "nodes = list(range(100))\n",
    "\n",
    "# Build index to name map\n",
    "idx_to_name = dict(zip(top_name_to_idx_map.values(), top_name_to_idx_map.keys()))\n",
    "assert len(set(idx_to_name).intersection(nodes)) == dim\n",
    "\n",
    "# arrays of timestamps\n",
    "timestamps = [np.array(df_tpp['Timestamp'].loc[idx_to_name[i]]) for i in nodes]\n",
    "start_time = min(map(min, timestamps))\n",
    "timestamps = [arr - start_time for arr in timestamps]\n",
    "\n",
    "# Build directed graph from adjacency matrix\n",
    "graph = nx.DiGraph(adj_mat)\n",
    "\n",
    "dataset = Dataset.from_data(timestamps=timestamps, idx_to_name=idx_to_name, graph=graph, timescale='median')\n",
    "dataset.end_time = max(map(max, dataset.timestamps))"
   ]
  },
  {
   "cell_type": "code",
   "execution_count": 69,
   "metadata": {},
   "outputs": [],
   "source": [
    "dataset.end_time = max(map(max, dataset.timestamps))"
   ]
  },
  {
   "cell_type": "code",
   "execution_count": 70,
   "metadata": {},
   "outputs": [],
   "source": [
    "with open('/root/workspace/var-wold/data/memetracker/dataset_memetracker_good.pk', 'wb') as f:\n",
    "    pickle.dump(dataset, f)"
   ]
  },
  {
   "cell_type": "code",
   "execution_count": null,
   "metadata": {},
   "outputs": [],
   "source": []
  }
 ],
 "metadata": {
  "kernelspec": {
   "display_name": "Python 3",
   "language": "python",
   "name": "python3"
  },
  "language_info": {
   "codemirror_mode": {
    "name": "ipython",
    "version": 3
   },
   "file_extension": ".py",
   "mimetype": "text/x-python",
   "name": "python",
   "nbconvert_exporter": "python",
   "pygments_lexer": "ipython3",
   "version": "3.7.7"
  }
 },
 "nbformat": 4,
 "nbformat_minor": 4
}

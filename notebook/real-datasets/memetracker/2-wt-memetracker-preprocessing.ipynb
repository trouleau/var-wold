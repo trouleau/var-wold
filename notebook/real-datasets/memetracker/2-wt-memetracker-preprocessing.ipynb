{
 "cells": [
  {
   "cell_type": "markdown",
   "metadata": {},
   "source": [
    "# Preprocess the MemeTracker Dataset\n",
    "\n",
    "The following notebook contains the documented code used to preprocess the MemeTracker dataset for our experiments. \n",
    "\n",
    "**Note:** Because the dataset is quite large, a machine with at least ~30GB of RAM is necessary to run this notebook.\n",
    "\n",
    "---"
   ]
  },
  {
   "cell_type": "markdown",
   "metadata": {},
   "source": [
    "Import libs"
   ]
  },
  {
   "cell_type": "code",
   "execution_count": 1,
   "metadata": {},
   "outputs": [],
   "source": [
    "%load_ext autoreload\n",
    "%autoreload 2"
   ]
  },
  {
   "cell_type": "code",
   "execution_count": 2,
   "metadata": {},
   "outputs": [
    {
     "data": {
      "text/html": [
       "<style>.container { width:80% !important; }</style>"
      ],
      "text/plain": [
       "<IPython.core.display.HTML object>"
      ]
     },
     "metadata": {},
     "output_type": "display_data"
    }
   ],
   "source": [
    "import os\n",
    "import glob\n",
    "import gzip\n",
    "import pickle\n",
    "import pandas as pd\n",
    "import numpy as np\n",
    "import multiprocessing\n",
    "\n",
    "from datetime import datetime\n",
    "import pytz\n",
    "\n",
    "from matplotlib import pyplot as plt\n",
    "%matplotlib inline\n",
    "\n",
    "import networkx as nx\n",
    "\n",
    "from tsvar.preprocessing import Dataset\n",
    "\n",
    "# Set larger cell width for nicer visualization\n",
    "from IPython.core.display import display, HTML\n",
    "display(HTML(\"<style>.container { width:80% !important; }</style>\"))"
   ]
  },
  {
   "cell_type": "markdown",
   "metadata": {},
   "source": [
    "---"
   ]
  },
  {
   "cell_type": "markdown",
   "metadata": {},
   "source": [
    "# 0. Download and parse the dataset\n",
    "\n",
    "First, all the files from the dataset must be downloaded from the [SNAP](http://snap.stanford.edu/data/memetracker9.html) dataset repository.\n",
    "\n",
    "Then the raw files must be parsed using the `raw2df.py` script provided by [NPHC](https://github.com/achab/nphc/tree/master/nphc/datasets/memetracker) to format the raw data in a convenient tabular format.\n",
    "\n",
    "The point processes can then be built using the following notebook.\n",
    "\n",
    "---"
   ]
  },
  {
   "cell_type": "markdown",
   "metadata": {},
   "source": [
    "## 1. Load the raw MemeTracker dataframe"
   ]
  },
  {
   "cell_type": "markdown",
   "metadata": {},
   "source": [
    "Set the input directory where the data is located"
   ]
  },
  {
   "cell_type": "code",
   "execution_count": 3,
   "metadata": {},
   "outputs": [],
   "source": [
    "DATA_DIR = '/root/workspace/var-wold/data/memetracker'"
   ]
  },
  {
   "cell_type": "markdown",
   "metadata": {},
   "source": [
    "Load raw dataframes (in parallel)"
   ]
  },
  {
   "cell_type": "code",
   "execution_count": 22,
   "metadata": {},
   "outputs": [],
   "source": [
    "list_df_files = sorted(glob.glob(os.path.join(DATA_DIR, 'parsed', 'df_*.csv')))\n",
    "\n",
    "def worker(fname):\n",
    "    return pd.read_csv(fname)\n",
    "\n",
    "pool = multiprocessing.Pool(len(list_df_files))\n",
    "\n",
    "jobs = list()\n",
    "for fname in list_df_files:\n",
    "    job = pool.apply_async(worker, (fname, ))\n",
    "    jobs.append(job)\n",
    "\n",
    "data = list()\n",
    "for job in jobs:\n",
    "    data.append(job.get())\n",
    "\n",
    "df = pd.concat(data, ignore_index=True)\n",
    "del data\n",
    "\n",
    "pool.close()\n",
    "pool.terminate()"
   ]
  },
  {
   "cell_type": "markdown",
   "metadata": {},
   "source": [
    "* `Blog` = receiver\n",
    "* `Hyperlink` = sender"
   ]
  },
  {
   "cell_type": "markdown",
   "metadata": {},
   "source": [
    "Vizualize the dataset"
   ]
  },
  {
   "cell_type": "code",
   "execution_count": 23,
   "metadata": {
    "scrolled": false
   },
   "outputs": [
    {
     "name": "stdout",
     "output_type": "stream",
     "text": [
      "(141578503, 5)\n"
     ]
    },
    {
     "data": {
      "text/html": [
       "<div>\n",
       "<style scoped>\n",
       "    .dataframe tbody tr th:only-of-type {\n",
       "        vertical-align: middle;\n",
       "    }\n",
       "\n",
       "    .dataframe tbody tr th {\n",
       "        vertical-align: top;\n",
       "    }\n",
       "\n",
       "    .dataframe thead th {\n",
       "        text-align: right;\n",
       "    }\n",
       "</style>\n",
       "<table border=\"1\" class=\"dataframe\">\n",
       "  <thead>\n",
       "    <tr style=\"text-align: right;\">\n",
       "      <th></th>\n",
       "      <th>Date</th>\n",
       "      <th>Hyperlink</th>\n",
       "      <th>Blog</th>\n",
       "      <th>PostNb</th>\n",
       "      <th>WeightOfLink</th>\n",
       "    </tr>\n",
       "  </thead>\n",
       "  <tbody>\n",
       "    <tr>\n",
       "      <th>0</th>\n",
       "      <td>2008-08-01 00:00:00</td>\n",
       "      <td></td>\n",
       "      <td>http://codeproject.com</td>\n",
       "      <td>0</td>\n",
       "      <td>1.0</td>\n",
       "    </tr>\n",
       "    <tr>\n",
       "      <th>1</th>\n",
       "      <td>2008-08-01 00:00:01</td>\n",
       "      <td></td>\n",
       "      <td>http://wallstreetexaminer.com</td>\n",
       "      <td>1</td>\n",
       "      <td>1.0</td>\n",
       "    </tr>\n",
       "    <tr>\n",
       "      <th>2</th>\n",
       "      <td>2008-08-01 00:00:01</td>\n",
       "      <td></td>\n",
       "      <td>http://news.bbc.co.uk</td>\n",
       "      <td>2</td>\n",
       "      <td>1.0</td>\n",
       "    </tr>\n",
       "    <tr>\n",
       "      <th>3</th>\n",
       "      <td>2008-08-01 00:00:01</td>\n",
       "      <td></td>\n",
       "      <td>http://news.bbc.co.uk</td>\n",
       "      <td>3</td>\n",
       "      <td>1.0</td>\n",
       "    </tr>\n",
       "    <tr>\n",
       "      <th>4</th>\n",
       "      <td>2008-08-01 00:00:01</td>\n",
       "      <td></td>\n",
       "      <td>http://news.bbc.co.uk</td>\n",
       "      <td>4</td>\n",
       "      <td>1.0</td>\n",
       "    </tr>\n",
       "    <tr>\n",
       "      <th>...</th>\n",
       "      <td>...</td>\n",
       "      <td>...</td>\n",
       "      <td>...</td>\n",
       "      <td>...</td>\n",
       "      <td>...</td>\n",
       "    </tr>\n",
       "    <tr>\n",
       "      <th>141578498</th>\n",
       "      <td>2009-05-01 00:00:00</td>\n",
       "      <td>http://foulweather.blogspot.com</td>\n",
       "      <td>http://foulweather.blogspot.com</td>\n",
       "      <td>15312736</td>\n",
       "      <td>0.2</td>\n",
       "    </tr>\n",
       "    <tr>\n",
       "      <th>141578499</th>\n",
       "      <td>2009-05-01 00:00:00</td>\n",
       "      <td>http://2.bp.blogspot.com</td>\n",
       "      <td>http://foulweather.blogspot.com</td>\n",
       "      <td>15312736</td>\n",
       "      <td>0.2</td>\n",
       "    </tr>\n",
       "    <tr>\n",
       "      <th>141578500</th>\n",
       "      <td>2009-05-01 00:00:00</td>\n",
       "      <td>http://dischord.com</td>\n",
       "      <td>http://foulweather.blogspot.com</td>\n",
       "      <td>15312736</td>\n",
       "      <td>0.2</td>\n",
       "    </tr>\n",
       "    <tr>\n",
       "      <th>141578501</th>\n",
       "      <td>2009-05-01 00:00:00</td>\n",
       "      <td>http://stream.publicbroadcasting.net</td>\n",
       "      <td>http://foulweather.blogspot.com</td>\n",
       "      <td>15312736</td>\n",
       "      <td>0.2</td>\n",
       "    </tr>\n",
       "    <tr>\n",
       "      <th>141578502</th>\n",
       "      <td>2009-05-01 00:00:00</td>\n",
       "      <td>http://blogger.com</td>\n",
       "      <td>http://foulweather.blogspot.com</td>\n",
       "      <td>15312736</td>\n",
       "      <td>0.2</td>\n",
       "    </tr>\n",
       "  </tbody>\n",
       "</table>\n",
       "<p>141578503 rows × 5 columns</p>\n",
       "</div>"
      ],
      "text/plain": [
       "                          Date                             Hyperlink  \\\n",
       "0          2008-08-01 00:00:00                                         \n",
       "1          2008-08-01 00:00:01                                         \n",
       "2          2008-08-01 00:00:01                                         \n",
       "3          2008-08-01 00:00:01                                         \n",
       "4          2008-08-01 00:00:01                                         \n",
       "...                        ...                                   ...   \n",
       "141578498  2009-05-01 00:00:00       http://foulweather.blogspot.com   \n",
       "141578499  2009-05-01 00:00:00              http://2.bp.blogspot.com   \n",
       "141578500  2009-05-01 00:00:00                   http://dischord.com   \n",
       "141578501  2009-05-01 00:00:00  http://stream.publicbroadcasting.net   \n",
       "141578502  2009-05-01 00:00:00                    http://blogger.com   \n",
       "\n",
       "                                      Blog    PostNb  WeightOfLink  \n",
       "0                   http://codeproject.com         0           1.0  \n",
       "1            http://wallstreetexaminer.com         1           1.0  \n",
       "2                    http://news.bbc.co.uk         2           1.0  \n",
       "3                    http://news.bbc.co.uk         3           1.0  \n",
       "4                    http://news.bbc.co.uk         4           1.0  \n",
       "...                                    ...       ...           ...  \n",
       "141578498  http://foulweather.blogspot.com  15312736           0.2  \n",
       "141578499  http://foulweather.blogspot.com  15312736           0.2  \n",
       "141578500  http://foulweather.blogspot.com  15312736           0.2  \n",
       "141578501  http://foulweather.blogspot.com  15312736           0.2  \n",
       "141578502  http://foulweather.blogspot.com  15312736           0.2  \n",
       "\n",
       "[141578503 rows x 5 columns]"
      ]
     },
     "execution_count": 23,
     "metadata": {},
     "output_type": "execute_result"
    }
   ],
   "source": [
    "print(df.shape)\n",
    "df"
   ]
  },
  {
   "cell_type": "markdown",
   "metadata": {},
   "source": [
    "---\n",
    "\n",
    "## 2. Clean the dataframe\n",
    "\n",
    "### 2.1. Clean columns"
   ]
  },
  {
   "cell_type": "markdown",
   "metadata": {},
   "source": [
    "#### Clean the `Hyperlink column`"
   ]
  },
  {
   "cell_type": "code",
   "execution_count": 24,
   "metadata": {},
   "outputs": [],
   "source": [
    "df['Hyperlink'] = df['Hyperlink'].str.strip()  # Remove whitespaces (that appear in null hyperlinks)"
   ]
  },
  {
   "cell_type": "markdown",
   "metadata": {},
   "source": [
    "#### Cast `Date` and build timestamps"
   ]
  },
  {
   "cell_type": "code",
   "execution_count": 25,
   "metadata": {
    "scrolled": false
   },
   "outputs": [],
   "source": [
    "df['Date'] = pd.to_datetime(df['Date'])\n",
    "df['Timestamp'] = df['Date'].values.astype(np.int64) // (10 ** 9)\n",
    "\n",
    "# NOTE: We don't use a time-zone here, so to get back the same datetime, we need to use: \n",
    "# df_filtered.Timestamp.apply(lambda t: datetime.fromtimestamp(t - 2*3600))"
   ]
  },
  {
   "cell_type": "markdown",
   "metadata": {},
   "source": [
    "### 2.2. Filter invalid events\n",
    "\n",
    "#### Self-references\n",
    "\n",
    "Only keep cross-references between different sites (i.e., remove self references)"
   ]
  },
  {
   "cell_type": "code",
   "execution_count": 26,
   "metadata": {},
   "outputs": [
    {
     "name": "stdout",
     "output_type": "stream",
     "text": [
      "111,893,425 events are cross-sites out of the 141,578,503 (79.03%)\n"
     ]
    }
   ],
   "source": [
    "cross_event_mask = df.Hyperlink != df.Blog\n",
    "print(f'{np.sum(cross_event_mask):,d} events are cross-sites'\n",
    "      f' out of the {len(df):,d} ({np.sum(cross_event_mask)*100/len(df):.2f}%)')"
   ]
  },
  {
   "cell_type": "markdown",
   "metadata": {},
   "source": [
    "#### Blogs with no hyperlink"
   ]
  },
  {
   "cell_type": "code",
   "execution_count": 27,
   "metadata": {},
   "outputs": [
    {
     "name": "stdout",
     "output_type": "stream",
     "text": [
      "39,875,581 posts have zero hyperlinksout of the 141,578,503 (28.16%)\n"
     ]
    }
   ],
   "source": [
    "null_hp_mask = df.Hyperlink.apply(len) == 0  # Build mask of valid hyperlinks\n",
    "print(f'{np.sum(null_hp_mask):,d} posts have zero hyperlinks'\n",
    "      f'out of the {len(df):,d} ({np.sum(null_hp_mask)*100/len(df):.2f}%)')"
   ]
  },
  {
   "cell_type": "markdown",
   "metadata": {},
   "source": [
    "Filter the dataframe based on these masks"
   ]
  },
  {
   "cell_type": "code",
   "execution_count": 28,
   "metadata": {},
   "outputs": [
    {
     "name": "stdout",
     "output_type": "stream",
     "text": [
      "Keep 141,578,503 out of the 141,578,503 events (100.00%)\n"
     ]
    },
    {
     "data": {
      "text/html": [
       "<div>\n",
       "<style scoped>\n",
       "    .dataframe tbody tr th:only-of-type {\n",
       "        vertical-align: middle;\n",
       "    }\n",
       "\n",
       "    .dataframe tbody tr th {\n",
       "        vertical-align: top;\n",
       "    }\n",
       "\n",
       "    .dataframe thead th {\n",
       "        text-align: right;\n",
       "    }\n",
       "</style>\n",
       "<table border=\"1\" class=\"dataframe\">\n",
       "  <thead>\n",
       "    <tr style=\"text-align: right;\">\n",
       "      <th></th>\n",
       "      <th>Date</th>\n",
       "      <th>Hyperlink</th>\n",
       "      <th>Blog</th>\n",
       "      <th>PostNb</th>\n",
       "      <th>WeightOfLink</th>\n",
       "      <th>Timestamp</th>\n",
       "    </tr>\n",
       "  </thead>\n",
       "  <tbody>\n",
       "    <tr>\n",
       "      <th>0</th>\n",
       "      <td>2008-08-01 00:00:00</td>\n",
       "      <td></td>\n",
       "      <td>http://codeproject.com</td>\n",
       "      <td>0</td>\n",
       "      <td>1.0</td>\n",
       "      <td>1217548800</td>\n",
       "    </tr>\n",
       "    <tr>\n",
       "      <th>1</th>\n",
       "      <td>2008-08-01 00:00:01</td>\n",
       "      <td></td>\n",
       "      <td>http://wallstreetexaminer.com</td>\n",
       "      <td>1</td>\n",
       "      <td>1.0</td>\n",
       "      <td>1217548801</td>\n",
       "    </tr>\n",
       "    <tr>\n",
       "      <th>2</th>\n",
       "      <td>2008-08-01 00:00:01</td>\n",
       "      <td></td>\n",
       "      <td>http://news.bbc.co.uk</td>\n",
       "      <td>2</td>\n",
       "      <td>1.0</td>\n",
       "      <td>1217548801</td>\n",
       "    </tr>\n",
       "    <tr>\n",
       "      <th>3</th>\n",
       "      <td>2008-08-01 00:00:01</td>\n",
       "      <td></td>\n",
       "      <td>http://news.bbc.co.uk</td>\n",
       "      <td>3</td>\n",
       "      <td>1.0</td>\n",
       "      <td>1217548801</td>\n",
       "    </tr>\n",
       "    <tr>\n",
       "      <th>4</th>\n",
       "      <td>2008-08-01 00:00:01</td>\n",
       "      <td></td>\n",
       "      <td>http://news.bbc.co.uk</td>\n",
       "      <td>4</td>\n",
       "      <td>1.0</td>\n",
       "      <td>1217548801</td>\n",
       "    </tr>\n",
       "    <tr>\n",
       "      <th>...</th>\n",
       "      <td>...</td>\n",
       "      <td>...</td>\n",
       "      <td>...</td>\n",
       "      <td>...</td>\n",
       "      <td>...</td>\n",
       "      <td>...</td>\n",
       "    </tr>\n",
       "    <tr>\n",
       "      <th>141578498</th>\n",
       "      <td>2009-05-01 00:00:00</td>\n",
       "      <td>http://foulweather.blogspot.com</td>\n",
       "      <td>http://foulweather.blogspot.com</td>\n",
       "      <td>15312736</td>\n",
       "      <td>0.2</td>\n",
       "      <td>1241136000</td>\n",
       "    </tr>\n",
       "    <tr>\n",
       "      <th>141578499</th>\n",
       "      <td>2009-05-01 00:00:00</td>\n",
       "      <td>http://2.bp.blogspot.com</td>\n",
       "      <td>http://foulweather.blogspot.com</td>\n",
       "      <td>15312736</td>\n",
       "      <td>0.2</td>\n",
       "      <td>1241136000</td>\n",
       "    </tr>\n",
       "    <tr>\n",
       "      <th>141578500</th>\n",
       "      <td>2009-05-01 00:00:00</td>\n",
       "      <td>http://dischord.com</td>\n",
       "      <td>http://foulweather.blogspot.com</td>\n",
       "      <td>15312736</td>\n",
       "      <td>0.2</td>\n",
       "      <td>1241136000</td>\n",
       "    </tr>\n",
       "    <tr>\n",
       "      <th>141578501</th>\n",
       "      <td>2009-05-01 00:00:00</td>\n",
       "      <td>http://stream.publicbroadcasting.net</td>\n",
       "      <td>http://foulweather.blogspot.com</td>\n",
       "      <td>15312736</td>\n",
       "      <td>0.2</td>\n",
       "      <td>1241136000</td>\n",
       "    </tr>\n",
       "    <tr>\n",
       "      <th>141578502</th>\n",
       "      <td>2009-05-01 00:00:00</td>\n",
       "      <td>http://blogger.com</td>\n",
       "      <td>http://foulweather.blogspot.com</td>\n",
       "      <td>15312736</td>\n",
       "      <td>0.2</td>\n",
       "      <td>1241136000</td>\n",
       "    </tr>\n",
       "  </tbody>\n",
       "</table>\n",
       "<p>141578503 rows × 6 columns</p>\n",
       "</div>"
      ],
      "text/plain": [
       "                         Date                             Hyperlink  \\\n",
       "0         2008-08-01 00:00:00                                         \n",
       "1         2008-08-01 00:00:01                                         \n",
       "2         2008-08-01 00:00:01                                         \n",
       "3         2008-08-01 00:00:01                                         \n",
       "4         2008-08-01 00:00:01                                         \n",
       "...                       ...                                   ...   \n",
       "141578498 2009-05-01 00:00:00       http://foulweather.blogspot.com   \n",
       "141578499 2009-05-01 00:00:00              http://2.bp.blogspot.com   \n",
       "141578500 2009-05-01 00:00:00                   http://dischord.com   \n",
       "141578501 2009-05-01 00:00:00  http://stream.publicbroadcasting.net   \n",
       "141578502 2009-05-01 00:00:00                    http://blogger.com   \n",
       "\n",
       "                                      Blog    PostNb  WeightOfLink   Timestamp  \n",
       "0                   http://codeproject.com         0           1.0  1217548800  \n",
       "1            http://wallstreetexaminer.com         1           1.0  1217548801  \n",
       "2                    http://news.bbc.co.uk         2           1.0  1217548801  \n",
       "3                    http://news.bbc.co.uk         3           1.0  1217548801  \n",
       "4                    http://news.bbc.co.uk         4           1.0  1217548801  \n",
       "...                                    ...       ...           ...         ...  \n",
       "141578498  http://foulweather.blogspot.com  15312736           0.2  1241136000  \n",
       "141578499  http://foulweather.blogspot.com  15312736           0.2  1241136000  \n",
       "141578500  http://foulweather.blogspot.com  15312736           0.2  1241136000  \n",
       "141578501  http://foulweather.blogspot.com  15312736           0.2  1241136000  \n",
       "141578502  http://foulweather.blogspot.com  15312736           0.2  1241136000  \n",
       "\n",
       "[141578503 rows x 6 columns]"
      ]
     },
     "metadata": {},
     "output_type": "display_data"
    }
   ],
   "source": [
    "valid_event_mask = (\n",
    "    #~null_hp_mask &     # Keep only events with non-null hyperlink\n",
    "    #cross_event_mask &  # Keep only cross-site events\n",
    "    np.ones(len(df)).astype(bool)\n",
    ")\n",
    "\n",
    "print(f'Keep {np.sum(valid_event_mask):,d}'\n",
    "      f' out of the {len(df):,d} events ({np.sum(valid_event_mask)*100/len(df):.2f}%)')\n",
    "\n",
    "df_filtered = df.loc[valid_event_mask]\n",
    "display(df_filtered)"
   ]
  },
  {
   "cell_type": "markdown",
   "metadata": {},
   "source": [
    "Percentage of non-empty hyperlinks"
   ]
  },
  {
   "cell_type": "code",
   "execution_count": 29,
   "metadata": {
    "scrolled": false
   },
   "outputs": [
    {
     "data": {
      "text/plain": [
       "71.83500308659147"
      ]
     },
     "execution_count": 29,
     "metadata": {},
     "output_type": "execute_result"
    }
   ],
   "source": [
    "np.sum(df_filtered.Hyperlink != '') * 100 / len(df_filtered)"
   ]
  },
  {
   "cell_type": "markdown",
   "metadata": {},
   "source": [
    "Remove the raw dataframe, we only work on the filtered one from now on."
   ]
  },
  {
   "cell_type": "raw",
   "metadata": {},
   "source": [
    "del df"
   ]
  },
  {
   "cell_type": "code",
   "execution_count": 237,
   "metadata": {},
   "outputs": [
    {
     "data": {
      "text/html": [
       "<div>\n",
       "<style scoped>\n",
       "    .dataframe tbody tr th:only-of-type {\n",
       "        vertical-align: middle;\n",
       "    }\n",
       "\n",
       "    .dataframe tbody tr th {\n",
       "        vertical-align: top;\n",
       "    }\n",
       "\n",
       "    .dataframe thead th {\n",
       "        text-align: right;\n",
       "    }\n",
       "</style>\n",
       "<table border=\"1\" class=\"dataframe\">\n",
       "  <thead>\n",
       "    <tr style=\"text-align: right;\">\n",
       "      <th></th>\n",
       "      <th>Date</th>\n",
       "      <th>Hyperlink</th>\n",
       "      <th>Blog</th>\n",
       "      <th>PostNb</th>\n",
       "      <th>WeightOfLink</th>\n",
       "      <th>Timestamp</th>\n",
       "    </tr>\n",
       "  </thead>\n",
       "  <tbody>\n",
       "    <tr>\n",
       "      <th>0</th>\n",
       "      <td>2008-08-01 00:00:00</td>\n",
       "      <td></td>\n",
       "      <td>http://codeproject.com</td>\n",
       "      <td>0</td>\n",
       "      <td>1.0</td>\n",
       "      <td>1217548800</td>\n",
       "    </tr>\n",
       "    <tr>\n",
       "      <th>1</th>\n",
       "      <td>2008-08-01 00:00:01</td>\n",
       "      <td></td>\n",
       "      <td>http://wallstreetexaminer.com</td>\n",
       "      <td>1</td>\n",
       "      <td>1.0</td>\n",
       "      <td>1217548801</td>\n",
       "    </tr>\n",
       "    <tr>\n",
       "      <th>2</th>\n",
       "      <td>2008-08-01 00:00:01</td>\n",
       "      <td></td>\n",
       "      <td>http://news.bbc.co.uk</td>\n",
       "      <td>2</td>\n",
       "      <td>1.0</td>\n",
       "      <td>1217548801</td>\n",
       "    </tr>\n",
       "    <tr>\n",
       "      <th>3</th>\n",
       "      <td>2008-08-01 00:00:01</td>\n",
       "      <td></td>\n",
       "      <td>http://news.bbc.co.uk</td>\n",
       "      <td>3</td>\n",
       "      <td>1.0</td>\n",
       "      <td>1217548801</td>\n",
       "    </tr>\n",
       "    <tr>\n",
       "      <th>4</th>\n",
       "      <td>2008-08-01 00:00:01</td>\n",
       "      <td></td>\n",
       "      <td>http://news.bbc.co.uk</td>\n",
       "      <td>4</td>\n",
       "      <td>1.0</td>\n",
       "      <td>1217548801</td>\n",
       "    </tr>\n",
       "    <tr>\n",
       "      <th>...</th>\n",
       "      <td>...</td>\n",
       "      <td>...</td>\n",
       "      <td>...</td>\n",
       "      <td>...</td>\n",
       "      <td>...</td>\n",
       "      <td>...</td>\n",
       "    </tr>\n",
       "    <tr>\n",
       "      <th>141578498</th>\n",
       "      <td>2009-05-01 00:00:00</td>\n",
       "      <td>http://foulweather.blogspot.com</td>\n",
       "      <td>http://foulweather.blogspot.com</td>\n",
       "      <td>15312736</td>\n",
       "      <td>0.2</td>\n",
       "      <td>1241136000</td>\n",
       "    </tr>\n",
       "    <tr>\n",
       "      <th>141578499</th>\n",
       "      <td>2009-05-01 00:00:00</td>\n",
       "      <td>http://2.bp.blogspot.com</td>\n",
       "      <td>http://foulweather.blogspot.com</td>\n",
       "      <td>15312736</td>\n",
       "      <td>0.2</td>\n",
       "      <td>1241136000</td>\n",
       "    </tr>\n",
       "    <tr>\n",
       "      <th>141578500</th>\n",
       "      <td>2009-05-01 00:00:00</td>\n",
       "      <td>http://dischord.com</td>\n",
       "      <td>http://foulweather.blogspot.com</td>\n",
       "      <td>15312736</td>\n",
       "      <td>0.2</td>\n",
       "      <td>1241136000</td>\n",
       "    </tr>\n",
       "    <tr>\n",
       "      <th>141578501</th>\n",
       "      <td>2009-05-01 00:00:00</td>\n",
       "      <td>http://stream.publicbroadcasting.net</td>\n",
       "      <td>http://foulweather.blogspot.com</td>\n",
       "      <td>15312736</td>\n",
       "      <td>0.2</td>\n",
       "      <td>1241136000</td>\n",
       "    </tr>\n",
       "    <tr>\n",
       "      <th>141578502</th>\n",
       "      <td>2009-05-01 00:00:00</td>\n",
       "      <td>http://blogger.com</td>\n",
       "      <td>http://foulweather.blogspot.com</td>\n",
       "      <td>15312736</td>\n",
       "      <td>0.2</td>\n",
       "      <td>1241136000</td>\n",
       "    </tr>\n",
       "  </tbody>\n",
       "</table>\n",
       "<p>141578503 rows × 6 columns</p>\n",
       "</div>"
      ],
      "text/plain": [
       "                         Date                             Hyperlink  \\\n",
       "0         2008-08-01 00:00:00                                         \n",
       "1         2008-08-01 00:00:01                                         \n",
       "2         2008-08-01 00:00:01                                         \n",
       "3         2008-08-01 00:00:01                                         \n",
       "4         2008-08-01 00:00:01                                         \n",
       "...                       ...                                   ...   \n",
       "141578498 2009-05-01 00:00:00       http://foulweather.blogspot.com   \n",
       "141578499 2009-05-01 00:00:00              http://2.bp.blogspot.com   \n",
       "141578500 2009-05-01 00:00:00                   http://dischord.com   \n",
       "141578501 2009-05-01 00:00:00  http://stream.publicbroadcasting.net   \n",
       "141578502 2009-05-01 00:00:00                    http://blogger.com   \n",
       "\n",
       "                                      Blog    PostNb  WeightOfLink   Timestamp  \n",
       "0                   http://codeproject.com         0           1.0  1217548800  \n",
       "1            http://wallstreetexaminer.com         1           1.0  1217548801  \n",
       "2                    http://news.bbc.co.uk         2           1.0  1217548801  \n",
       "3                    http://news.bbc.co.uk         3           1.0  1217548801  \n",
       "4                    http://news.bbc.co.uk         4           1.0  1217548801  \n",
       "...                                    ...       ...           ...         ...  \n",
       "141578498  http://foulweather.blogspot.com  15312736           0.2  1241136000  \n",
       "141578499  http://foulweather.blogspot.com  15312736           0.2  1241136000  \n",
       "141578500  http://foulweather.blogspot.com  15312736           0.2  1241136000  \n",
       "141578501  http://foulweather.blogspot.com  15312736           0.2  1241136000  \n",
       "141578502  http://foulweather.blogspot.com  15312736           0.2  1241136000  \n",
       "\n",
       "[141578503 rows x 6 columns]"
      ]
     },
     "execution_count": 237,
     "metadata": {},
     "output_type": "execute_result"
    }
   ],
   "source": [
    "df_filterederederedered"
   ]
  },
  {
   "cell_type": "markdown",
   "metadata": {},
   "source": [
    "### 2.3. Find the top-100 blogs"
   ]
  },
  {
   "cell_type": "code",
   "execution_count": 30,
   "metadata": {},
   "outputs": [],
   "source": [
    "df_filtered['has_hyperlink'] = df_filtered.Hyperlink != ''  # Indicate if event has hyperlink\n",
    "df_filtered['has_hyperlink'] = df_filtered['has_hyperlink'].astype(int)"
   ]
  },
  {
   "cell_type": "markdown",
   "metadata": {},
   "source": [
    "Build the count of number of hyperlink per blogs, i.e., how many times a blog was cited."
   ]
  },
  {
   "cell_type": "raw",
   "metadata": {},
   "source": [
    "count_series = df_filtered.groupby('Hyperlink').agg({'Hyperlink': 'count'})['Hyperlink']\n",
    "count_series = count_series.loc[count_series.index != '']"
   ]
  },
  {
   "cell_type": "markdown",
   "metadata": {},
   "source": [
    "Build the count of number of posts per blogs."
   ]
  },
  {
   "cell_type": "code",
   "execution_count": 31,
   "metadata": {},
   "outputs": [],
   "source": [
    "count_series = df_filtered.groupby('Blog').agg({'PostNb': set})['PostNb'].apply(len)"
   ]
  },
  {
   "cell_type": "markdown",
   "metadata": {},
   "source": [
    "Keep only the top-100 sites"
   ]
  },
  {
   "cell_type": "code",
   "execution_count": 32,
   "metadata": {
    "scrolled": false
   },
   "outputs": [
    {
     "name": "stdout",
     "output_type": "stream",
     "text": [
      "There are 24,280,563 items in the top-100 sites\n"
     ]
    },
    {
     "data": {
      "text/plain": [
       "Blog\n",
       "http://blogs.myspace.com           1721787\n",
       "http://seattle.craigslist.org       908675\n",
       "http://sfbay.craigslist.org         848217\n",
       "http://chicago.craigslist.org       832027\n",
       "http://blog.myspace.com             793208\n",
       "                                    ...   \n",
       "http://huffingtonpost.com            82245\n",
       "http://sandmountainreporter.com      77939\n",
       "http://twitter.com                   76874\n",
       "http://forbes.com                    76804\n",
       "http://rss.rssad.jp                  76273\n",
       "Name: PostNb, Length: 100, dtype: int64"
      ]
     },
     "metadata": {},
     "output_type": "display_data"
    }
   ],
   "source": [
    "top_num = 100\n",
    "\n",
    "top_series = count_series.sort_values(ascending=False).iloc[:top_num]\n",
    "print(f'There are {top_series.sum():,d} items in the top-{top_num:d} sites')\n",
    "display(top_series)"
   ]
  },
  {
   "cell_type": "markdown",
   "metadata": {},
   "source": [
    "### 2.3. Keep only events between sites in the top-100 blogs\n",
    "\n",
    "We finally remove all events coming from hyperlinks that are not part of the top-100 blogs."
   ]
  },
  {
   "cell_type": "code",
   "execution_count": 33,
   "metadata": {
    "scrolled": true
   },
   "outputs": [],
   "source": [
    "top_site_set = set(top_series.index.tolist())  # All top blog sites\n",
    "\n",
    "top_blog_mask = df_filtered['Blog'].isin(top_site_set)     # Blogs is in top\n",
    "top_hp_mask = df_filtered['Hyperlink'].isin(set(list(top_site_set) + ['']))  # Hyperlink is in top or no hyperlink (i.e. is null)"
   ]
  },
  {
   "cell_type": "code",
   "execution_count": 241,
   "metadata": {
    "scrolled": true
   },
   "outputs": [
    {
     "name": "stdout",
     "output_type": "stream",
     "text": [
      "15,168,774 events are between the top-100 sites out of the 141,578,503 (10.71%)\n"
     ]
    }
   ],
   "source": [
    "# Build mask of valid events\n",
    "valid_event_mask = top_blog_mask & top_hp_mask\n",
    "\n",
    "# Filter\n",
    "df_top = df_filtered.loc[valid_event_mask]\n",
    "assert len(df_top) == np.sum(valid_event_mask)\n",
    "\n",
    "print(f'{np.sum(valid_event_mask):,d} events are between the top-{top_num} sites'\n",
    "      f' out of the {len(df_filtered):,d} ({np.sum(valid_event_mask)*100/len(df_filtered):.2f}%)')"
   ]
  },
  {
   "cell_type": "markdown",
   "metadata": {},
   "source": [
    "### 2.4. Final formatting steps"
   ]
  },
  {
   "cell_type": "markdown",
   "metadata": {},
   "source": [
    "Build numerical index for each blog"
   ]
  },
  {
   "cell_type": "code",
   "execution_count": 242,
   "metadata": {
    "scrolled": true
   },
   "outputs": [],
   "source": [
    "top_name_to_idx_map = dict(zip(top_series.index, range(top_num)))\n",
    "\n",
    "# Make numerical index for blogs\n",
    "df_top['Blog_idx'] = df_top['Blog'].apply(lambda name: top_name_to_idx_map[name])\n",
    "\n",
    "# Add hyperlinks index\n",
    "top_name_to_idx_map[''] = None  # Set None for No-Hyperlink\n",
    "df_top['Hyperlink_idx'] = df_top['Hyperlink'].apply(lambda name: top_name_to_idx_map[name]).astype(pd.Int32Dtype())"
   ]
  },
  {
   "cell_type": "markdown",
   "metadata": {},
   "source": [
    "Order by time"
   ]
  },
  {
   "cell_type": "code",
   "execution_count": 11,
   "metadata": {},
   "outputs": [],
   "source": [
    "df_top = df_top.sort_values(by='Timestamp')"
   ]
  },
  {
   "cell_type": "markdown",
   "metadata": {},
   "source": [
    "Translate time origin"
   ]
  },
  {
   "cell_type": "code",
   "execution_count": 65,
   "metadata": {},
   "outputs": [],
   "source": [
    "df_top['Timestamp'] -= df_top['Timestamp'].min()"
   ]
  },
  {
   "cell_type": "markdown",
   "metadata": {},
   "source": [
    "Order columns"
   ]
  },
  {
   "cell_type": "code",
   "execution_count": 66,
   "metadata": {},
   "outputs": [],
   "source": [
    "df_top = df_top[['Hyperlink_idx', 'Blog_idx', 'Hyperlink', 'Blog', 'Date', 'Timestamp']]"
   ]
  },
  {
   "cell_type": "code",
   "execution_count": 68,
   "metadata": {
    "scrolled": false
   },
   "outputs": [
    {
     "name": "stdout",
     "output_type": "stream",
     "text": [
      "(15168774, 6)\n"
     ]
    },
    {
     "data": {
      "text/html": [
       "<div>\n",
       "<style scoped>\n",
       "    .dataframe tbody tr th:only-of-type {\n",
       "        vertical-align: middle;\n",
       "    }\n",
       "\n",
       "    .dataframe tbody tr th {\n",
       "        vertical-align: top;\n",
       "    }\n",
       "\n",
       "    .dataframe thead th {\n",
       "        text-align: right;\n",
       "    }\n",
       "</style>\n",
       "<table border=\"1\" class=\"dataframe\">\n",
       "  <thead>\n",
       "    <tr style=\"text-align: right;\">\n",
       "      <th></th>\n",
       "      <th>Hyperlink_idx</th>\n",
       "      <th>Blog_idx</th>\n",
       "      <th>Hyperlink</th>\n",
       "      <th>Blog</th>\n",
       "      <th>Date</th>\n",
       "      <th>Timestamp</th>\n",
       "    </tr>\n",
       "  </thead>\n",
       "  <tbody>\n",
       "    <tr>\n",
       "      <th>2</th>\n",
       "      <td>NaN</td>\n",
       "      <td>25</td>\n",
       "      <td></td>\n",
       "      <td>http://news.bbc.co.uk</td>\n",
       "      <td>2008-08-01 00:00:01</td>\n",
       "      <td>0</td>\n",
       "    </tr>\n",
       "    <tr>\n",
       "      <th>3</th>\n",
       "      <td>NaN</td>\n",
       "      <td>25</td>\n",
       "      <td></td>\n",
       "      <td>http://news.bbc.co.uk</td>\n",
       "      <td>2008-08-01 00:00:01</td>\n",
       "      <td>0</td>\n",
       "    </tr>\n",
       "    <tr>\n",
       "      <th>4</th>\n",
       "      <td>NaN</td>\n",
       "      <td>25</td>\n",
       "      <td></td>\n",
       "      <td>http://news.bbc.co.uk</td>\n",
       "      <td>2008-08-01 00:00:01</td>\n",
       "      <td>0</td>\n",
       "    </tr>\n",
       "    <tr>\n",
       "      <th>320</th>\n",
       "      <td>NaN</td>\n",
       "      <td>81</td>\n",
       "      <td></td>\n",
       "      <td>http://in.news.yahoo.com</td>\n",
       "      <td>2008-08-01 00:00:46</td>\n",
       "      <td>45</td>\n",
       "    </tr>\n",
       "    <tr>\n",
       "      <th>357</th>\n",
       "      <td>NaN</td>\n",
       "      <td>81</td>\n",
       "      <td></td>\n",
       "      <td>http://in.news.yahoo.com</td>\n",
       "      <td>2008-08-01 00:00:48</td>\n",
       "      <td>47</td>\n",
       "    </tr>\n",
       "    <tr>\n",
       "      <th>408</th>\n",
       "      <td>NaN</td>\n",
       "      <td>45</td>\n",
       "      <td></td>\n",
       "      <td>http://groups.google.com</td>\n",
       "      <td>2008-08-01 00:00:57</td>\n",
       "      <td>56</td>\n",
       "    </tr>\n",
       "    <tr>\n",
       "      <th>445</th>\n",
       "      <td>27</td>\n",
       "      <td>27</td>\n",
       "      <td>http://citeulike.org</td>\n",
       "      <td>http://citeulike.org</td>\n",
       "      <td>2008-08-01 00:01:18</td>\n",
       "      <td>77</td>\n",
       "    </tr>\n",
       "    <tr>\n",
       "      <th>447</th>\n",
       "      <td>27</td>\n",
       "      <td>27</td>\n",
       "      <td>http://citeulike.org</td>\n",
       "      <td>http://citeulike.org</td>\n",
       "      <td>2008-08-01 00:01:18</td>\n",
       "      <td>77</td>\n",
       "    </tr>\n",
       "    <tr>\n",
       "      <th>475</th>\n",
       "      <td>NaN</td>\n",
       "      <td>15</td>\n",
       "      <td></td>\n",
       "      <td>http://us.rd.yahoo.com</td>\n",
       "      <td>2008-08-01 00:01:32</td>\n",
       "      <td>91</td>\n",
       "    </tr>\n",
       "    <tr>\n",
       "      <th>523</th>\n",
       "      <td>NaN</td>\n",
       "      <td>61</td>\n",
       "      <td></td>\n",
       "      <td>http://uk.news.yahoo.com</td>\n",
       "      <td>2008-08-01 00:01:41</td>\n",
       "      <td>100</td>\n",
       "    </tr>\n",
       "  </tbody>\n",
       "</table>\n",
       "</div>"
      ],
      "text/plain": [
       "     Hyperlink_idx  Blog_idx             Hyperlink                      Blog  \\\n",
       "2              NaN        25                           http://news.bbc.co.uk   \n",
       "3              NaN        25                           http://news.bbc.co.uk   \n",
       "4              NaN        25                           http://news.bbc.co.uk   \n",
       "320            NaN        81                        http://in.news.yahoo.com   \n",
       "357            NaN        81                        http://in.news.yahoo.com   \n",
       "408            NaN        45                        http://groups.google.com   \n",
       "445             27        27  http://citeulike.org      http://citeulike.org   \n",
       "447             27        27  http://citeulike.org      http://citeulike.org   \n",
       "475            NaN        15                          http://us.rd.yahoo.com   \n",
       "523            NaN        61                        http://uk.news.yahoo.com   \n",
       "\n",
       "                   Date  Timestamp  \n",
       "2   2008-08-01 00:00:01          0  \n",
       "3   2008-08-01 00:00:01          0  \n",
       "4   2008-08-01 00:00:01          0  \n",
       "320 2008-08-01 00:00:46         45  \n",
       "357 2008-08-01 00:00:48         47  \n",
       "408 2008-08-01 00:00:57         56  \n",
       "445 2008-08-01 00:01:18         77  \n",
       "447 2008-08-01 00:01:18         77  \n",
       "475 2008-08-01 00:01:32         91  \n",
       "523 2008-08-01 00:01:41        100  "
      ]
     },
     "metadata": {},
     "output_type": "display_data"
    }
   ],
   "source": [
    "print(df_top.shape)\n",
    "display(df_top.head(10))"
   ]
  },
  {
   "cell_type": "markdown",
   "metadata": {},
   "source": [
    "We only work with the top blogs from now on."
   ]
  },
  {
   "cell_type": "raw",
   "metadata": {},
   "source": [
    "del df_filtered"
   ]
  },
  {
   "cell_type": "markdown",
   "metadata": {},
   "source": [
    "Save the clean dataframe"
   ]
  },
  {
   "cell_type": "code",
   "execution_count": 69,
   "metadata": {},
   "outputs": [],
   "source": [
    "df_top.to_pickle(os.path.join(DATA_DIR, 'memetracker-top100-clean.pickle.gz'), compression='gzip')"
   ]
  },
  {
   "cell_type": "code",
   "execution_count": 70,
   "metadata": {},
   "outputs": [],
   "source": [
    "df_top.to_csv(os.path.join(DATA_DIR, 'memetracker-top100-clean.csv.gz'), \n",
    "              sep=',', compression='gzip', header=False, index=False)"
   ]
  },
  {
   "cell_type": "markdown",
   "metadata": {},
   "source": [
    "## 3. Build point process\n",
    "\n",
    "Aggregate events per Blog"
   ]
  },
  {
   "cell_type": "code",
   "execution_count": 89,
   "metadata": {},
   "outputs": [],
   "source": [
    "mmDataset = MemeTrackerDataset(os.path.join(DATA_DIR, 'memetracker-top100-clean.pickle.gz'))\n",
    "\n",
    "t0 = mmDataset.data.Timestamp.min()\n",
    "t1 = mmDataset.data.Timestamp.max()\n",
    "\n",
    "train_start = t0 + (t1 - t0) * 0.85\n",
    "train_end = t0 + (t1 - t0) * 0.90\n",
    "test_end = t0 + (t1 - t0) * 0.95\n",
    "\n",
    "train_events, train_graph, test_events, test_graph = mmDataset.build_train_test(train_start, train_end, test_end)\n",
    "\n",
    "nodelist = sorted(train_events.keys())\n",
    "\n",
    "train_adj = nx.adjacency_matrix(train_graph, nodelist).toarray()"
   ]
  },
  {
   "cell_type": "code",
   "execution_count": 101,
   "metadata": {},
   "outputs": [],
   "source": [
    "dataset = tsvar.preprocessing.Dataset.from_pickle(os.path.join(DATA_DIR, 'dataset_memetracker_good.pk'))"
   ]
  },
  {
   "cell_type": "code",
   "execution_count": 107,
   "metadata": {},
   "outputs": [],
   "source": [
    "def split_train_test(dataset, chunk_idx, chunk_total):\n",
    "    # Set start and end times of train and test sets\n",
    "    train_t0 = dataset.end_time * chunk_idx / chunk_total\n",
    "    train_t1 = dataset.end_time * (chunk_idx + 1) / chunk_total\n",
    "    test_t0 = dataset.end_time * (chunk_idx + 1) / chunk_total\n",
    "    test_t1 = dataset.end_time * (chunk_idx + 2) / chunk_total\n",
    "    # Filter the events in train/test observation windows\n",
    "    train_events = [ev[(ev >= train_t0) & (ev < train_t1)] for ev in dataset.timestamps]\n",
    "    test_events = [ev[(ev >= test_t0) & (ev < test_t1)] for ev in dataset.timestamps]\n",
    "    # Remove dimensions with no nodes\n",
    "    nodes_to_keep = np.array([(len(train_events[i]) > 0) & (len(test_events[i]) > 0)\n",
    "                              for i in range(dataset.dim)])\n",
    "    train_events = np.array(train_events)[nodes_to_keep].tolist()\n",
    "    train_events = [ev - train_t0 for ev in train_events]\n",
    "    test_events = np.array(test_events)[nodes_to_keep].tolist()\n",
    "    test_events = [ev - test_t0 for ev in test_events]\n",
    "    return train_events, test_events\n"
   ]
  },
  {
   "cell_type": "code",
   "execution_count": 108,
   "metadata": {},
   "outputs": [],
   "source": [
    "train_events, test_events = split_train_test(dataset, chunk_idx=17, chunk_total=20)"
   ]
  },
  {
   "cell_type": "code",
   "execution_count": 109,
   "metadata": {},
   "outputs": [
    {
     "data": {
      "text/plain": [
       "822719"
      ]
     },
     "execution_count": 109,
     "metadata": {},
     "output_type": "execute_result"
    }
   ],
   "source": [
    "sum(map(len, train_events))"
   ]
  },
  {
   "cell_type": "code",
   "execution_count": 113,
   "metadata": {},
   "outputs": [
    {
     "data": {
      "text/plain": [
       "426.3722723177017"
      ]
     },
     "execution_count": 113,
     "metadata": {},
     "output_type": "execute_result"
    }
   ],
   "source": [
    "dataset.time_scale"
   ]
  },
  {
   "cell_type": "code",
   "execution_count": 112,
   "metadata": {},
   "outputs": [
    {
     "data": {
      "text/plain": [
       "(0.006332494340313133, 2766.030477519489)"
      ]
     },
     "execution_count": 112,
     "metadata": {},
     "output_type": "execute_result"
    }
   ],
   "source": [
    "min(map(min, train_events)), max(map(max, train_events))"
   ]
  },
  {
   "cell_type": "code",
   "execution_count": null,
   "metadata": {},
   "outputs": [],
   "source": []
  }
 ],
 "metadata": {
  "kernelspec": {
   "display_name": "Python 3",
   "language": "python",
   "name": "python3"
  },
  "language_info": {
   "codemirror_mode": {
    "name": "ipython",
    "version": 3
   },
   "file_extension": ".py",
   "mimetype": "text/x-python",
   "name": "python",
   "nbconvert_exporter": "python",
   "pygments_lexer": "ipython3",
   "version": "3.7.7"
  }
 },
 "nbformat": 4,
 "nbformat_minor": 4
}

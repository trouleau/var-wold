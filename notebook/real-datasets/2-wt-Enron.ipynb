{
 "cells": [
  {
   "cell_type": "code",
   "execution_count": 2,
   "metadata": {},
   "outputs": [],
   "source": [
    "%load_ext autoreload\n",
    "%autoreload 2"
   ]
  },
  {
   "cell_type": "code",
   "execution_count": 9,
   "metadata": {},
   "outputs": [],
   "source": [
    "from matplotlib import pyplot as plt\n",
    "import networkx as nx\n",
    "import numpy as np\n",
    "import itertools\n",
    "import torch\n",
    "import os\n",
    "\n",
    "import scipy.stats\n",
    "\n",
    "import tsvar\n",
    "from tsvar.preprocessing import Dataset\n",
    "\n",
    "import experiments_utils"
   ]
  },
  {
   "cell_type": "markdown",
   "metadata": {},
   "source": [
    "Set cells width"
   ]
  },
  {
   "cell_type": "code",
   "execution_count": 10,
   "metadata": {},
   "outputs": [
    {
     "data": {
      "text/html": [
       "<style>.container { width:80% !important; }</style>"
      ],
      "text/plain": [
       "<IPython.core.display.HTML object>"
      ]
     },
     "metadata": {},
     "output_type": "display_data"
    }
   ],
   "source": [
    "from IPython.core.display import display, HTML\n",
    "display(HTML(\"<style>.container { width:80% !important; }</style>\"))"
   ]
  },
  {
   "cell_type": "markdown",
   "metadata": {},
   "source": [
    "---\n",
    "\n",
    "## Load the dataset\n",
    "\n",
    "Set input path"
   ]
  },
  {
   "cell_type": "code",
   "execution_count": 11,
   "metadata": {},
   "outputs": [],
   "source": [
    "INPUT_PATH = \"../../data/enron/enron_dataset_splitted_receivers.csv.gz\""
   ]
  },
  {
   "cell_type": "markdown",
   "metadata": {},
   "source": [
    "Load the dataset"
   ]
  },
  {
   "cell_type": "code",
   "execution_count": 12,
   "metadata": {},
   "outputs": [],
   "source": [
    "dataset = Dataset(INPUT_PATH, top=100, timescale='median')"
   ]
  },
  {
   "cell_type": "markdown",
   "metadata": {},
   "source": [
    "Filter stuff if necessary"
   ]
  },
  {
   "cell_type": "raw",
   "metadata": {},
   "source": [
    "nodes_to_keep = np.array([i for i, ev in enumerate(dataset.timestamps) if ev[0] < 100.0])\n",
    "\n",
    "dataset.timestamps = [ev for i, ev in enumerate(dataset.timestamps) if i in nodes_to_keep]\n",
    "dataset.end_time = max(map(max, dataset.timestamps))\n",
    "dataset.dim = len(nodes_to_keep)\n",
    "dataset.idx_to_name = {i:n for i, n in dataset.idx_to_name.items() if i in nodes_to_keep}\n",
    "dataset.name_to_idx = {n:i for n, i in dataset.name_to_idx.items() if i in nodes_to_keep}\n",
    "dataset.graph = nx.subgraph(dataset.graph, nbunch=nodes_to_keep)\n",
    "dataset.busca_beta_ji = dataset.busca_beta_ji[nodes_to_keep, :][:, nodes_to_keep]"
   ]
  },
  {
   "cell_type": "code",
   "execution_count": 13,
   "metadata": {},
   "outputs": [],
   "source": [
    "nodes_to_keep = range(dataset.dim)"
   ]
  },
  {
   "cell_type": "markdown",
   "metadata": {},
   "source": [
    "#### Dataset exploration\n",
    "\n",
    "Print statistics of the dataset"
   ]
  },
  {
   "cell_type": "code",
   "execution_count": 14,
   "metadata": {
    "scrolled": true
   },
   "outputs": [
    {
     "name": "stdout",
     "output_type": "stream",
     "text": [
      "Num. of dimensions: 100\n",
      "    Num. of events: 51,060\n",
      "               %NZ: 21.77%\n",
      "\n",
      "Stats. of num. of events per dim:\n"
     ]
    },
    {
     "ename": "NameError",
     "evalue": "name 'pd' is not defined",
     "output_type": "error",
     "traceback": [
      "\u001b[0;31m---------------------------------------------------------------------------\u001b[0m",
      "\u001b[0;31mNameError\u001b[0m                                 Traceback (most recent call last)",
      "\u001b[0;32m<ipython-input-14-61ffeb52224d>\u001b[0m in \u001b[0;36m<module>\u001b[0;34m\u001b[0m\n\u001b[1;32m      5\u001b[0m \u001b[0mprint\u001b[0m\u001b[0;34m(\u001b[0m\u001b[0;34m\"Stats. of num. of events per dim:\"\u001b[0m\u001b[0;34m)\u001b[0m\u001b[0;34m\u001b[0m\u001b[0;34m\u001b[0m\u001b[0m\n\u001b[1;32m      6\u001b[0m \u001b[0mnum_jumps_per_dim\u001b[0m \u001b[0;34m=\u001b[0m \u001b[0mnp\u001b[0m\u001b[0;34m.\u001b[0m\u001b[0marray\u001b[0m\u001b[0;34m(\u001b[0m\u001b[0mlist\u001b[0m\u001b[0;34m(\u001b[0m\u001b[0mmap\u001b[0m\u001b[0;34m(\u001b[0m\u001b[0mlen\u001b[0m\u001b[0;34m,\u001b[0m \u001b[0mdataset\u001b[0m\u001b[0;34m.\u001b[0m\u001b[0mtimestamps\u001b[0m\u001b[0;34m)\u001b[0m\u001b[0;34m)\u001b[0m\u001b[0;34m)\u001b[0m\u001b[0;34m\u001b[0m\u001b[0;34m\u001b[0m\u001b[0m\n\u001b[0;32m----> 7\u001b[0;31m \u001b[0mprint\u001b[0m\u001b[0;34m(\u001b[0m\u001b[0mpd\u001b[0m\u001b[0;34m.\u001b[0m\u001b[0mSeries\u001b[0m\u001b[0;34m(\u001b[0m\u001b[0mnum_jumps_per_dim\u001b[0m\u001b[0;34m)\u001b[0m\u001b[0;34m.\u001b[0m\u001b[0mdescribe\u001b[0m\u001b[0;34m(\u001b[0m\u001b[0;34m)\u001b[0m\u001b[0;34m)\u001b[0m\u001b[0;34m\u001b[0m\u001b[0;34m\u001b[0m\u001b[0m\n\u001b[0m",
      "\u001b[0;31mNameError\u001b[0m: name 'pd' is not defined"
     ]
    }
   ],
   "source": [
    "print(f\"Num. of dimensions: {len(dataset.timestamps):,d}\")\n",
    "print(f\"    Num. of events: {sum(map(len, dataset.timestamps)):,d}\")\n",
    "print(f\"               %NZ: {100 * dataset.graph.number_of_edges() / (dataset.graph.number_of_nodes() ** 2):.2f}%\")\n",
    "print()\n",
    "print(\"Stats. of num. of events per dim:\")\n",
    "num_jumps_per_dim = np.array(list(map(len, dataset.timestamps)))\n",
    "print(pd.Series(num_jumps_per_dim).describe())"
   ]
  },
  {
   "cell_type": "code",
   "execution_count": null,
   "metadata": {
    "scrolled": true
   },
   "outputs": [],
   "source": [
    "fig, axs = plt.subplots(1, 3, figsize=(18, 3.5))\n",
    "\n",
    "axs[0].hist(list(map(len, dataset.timestamps)))\n",
    "axs[0].set_xlabel('Number of events \\n in each dim')\n",
    "axs[0].set_ylabel('Number of users')\n",
    "\n",
    "end_time = max(map(max, dataset.timestamps))\n",
    "axs[1].hist(list(map(min, dataset.timestamps)), bins=np.linspace(0, end_time, 20))\n",
    "axs[1].set_xlabel('First of event \\n in each dim')\n",
    "axs[1].set_ylabel('Number of users')\n",
    "\n",
    "axs[2].hist(list(map(max, dataset.timestamps)), bins=np.linspace(0, end_time, 20))\n",
    "axs[2].set_xlabel('Last of events \\n in each dim')\n",
    "axs[2].set_ylabel('Number of users')\n",
    "\n",
    "fig.suptitle(f\"Dataset {os.path.split(INPUT_PATH)[1]}\");"
   ]
  },
  {
   "cell_type": "markdown",
   "metadata": {},
   "source": [
    "#### Visualize the scale of time using empirical inter-arrival time distributions\n",
    "\n",
    "Compute this for both definitions $\\{\\beta_j\\}$ and $\\{\\beta_{ij}\\}$."
   ]
  },
  {
   "cell_type": "code",
   "execution_count": null,
   "metadata": {
    "scrolled": false
   },
   "outputs": [],
   "source": [
    "busca_betas = np.array([np.median(np.hstack((ev[0], np.diff(ev)))) for ev in dataset.timestamps])\n",
    "plt.boxplot(busca_betas, labels=['Distribution of Busca estimators of betas']);\n",
    "plt.yscale('log')\n",
    "print('Busca estimators of **beta_j**:')\n",
    "print(pd.Series(busca_betas.flatten()).describe())\n",
    "print('Median:', np.median(busca_betas))"
   ]
  },
  {
   "cell_type": "code",
   "execution_count": null,
   "metadata": {},
   "outputs": [],
   "source": [
    "wold_model = tsvar.models.WoldModel()\n",
    "wold_model.observe(dataset.timestamps)\n",
    "busca_beta_ji = np.zeros((wold_model.dim, wold_model.dim))\n",
    "for i in range(wold_model.dim):\n",
    "    busca_beta_ji[:, i] = np.median(wold_model.delta_ikj[i][:, :], axis=0) / np.exp(1)\n",
    "del wold_model\n",
    "\n",
    "plt.boxplot(busca_beta_ji.flatten(), labels=['Distribution of Busca estimators of betas']);\n",
    "plt.yscale('log')\n",
    "print('Busca estimators of **beta_{ij}**:')\n",
    "print(pd.Series(busca_beta_ji.flatten()).describe())\n",
    "print('Median:', np.median(busca_beta_ji))"
   ]
  },
  {
   "cell_type": "code",
   "execution_count": null,
   "metadata": {},
   "outputs": [],
   "source": [
    "wold_model = tsvar.models.WoldModel()\n",
    "wold_model.observe(dataset.timestamps)\n",
    "all_delta_ikj = np.hstack([arr.flatten() for arr in wold_model.delta_ikj])\n",
    "\n",
    "plt.boxplot(all_delta_ikj)\n",
    "plt.yscale('log')\n",
    "print(pd.Series(all_delta_ikj).describe())"
   ]
  },
  {
   "cell_type": "markdown",
   "metadata": {},
   "source": [
    "#### Extract ground truth\n",
    "\n",
    "Build ground truth adjacency matrix"
   ]
  },
  {
   "cell_type": "code",
   "execution_count": 15,
   "metadata": {},
   "outputs": [],
   "source": [
    "adjacency_true = nx.adjacency_matrix(dataset.graph, nodes_to_keep).toarray()\n",
    "adjacency_true = adjacency_true / adjacency_true.max()"
   ]
  },
  {
   "cell_type": "code",
   "execution_count": 60,
   "metadata": {},
   "outputs": [
    {
     "data": {
      "image/png": "[encoded data removed]",
      "text/plain": [
       "<Figure size 720x360 with 1 Axes>"
      ]
     },
     "metadata": {
      "needs_background": "light"
     },
     "output_type": "display_data"
    }
   ],
   "source": [
    "plt.figure(figsize=(10, 5))\n",
    "plt.grid()\n",
    "plt.boxplot(\n",
    "    [adjacency_true[adjacency_true > 0.0], adjacency_true[np.eye(adjacency_true.shape[0]).astype(bool)]],\n",
    "    labels=['True Cross-Edges', 'Diagonal'])\n",
    "plt.title('Distribution of ground truth adjacency weights');\n",
    "plt.yscale('log');"
   ]
  },
  {
   "cell_type": "markdown",
   "metadata": {},
   "source": [
    "Set variables used for inferences"
   ]
  },
  {
   "cell_type": "code",
   "execution_count": 16,
   "metadata": {},
   "outputs": [],
   "source": [
    "events = dataset.timestamps\n",
    "end_time = dataset.timestamps"
   ]
  },
  {
   "cell_type": "markdown",
   "metadata": {},
   "source": [
    "Set threshold for edge detection evaluation"
   ]
  },
  {
   "cell_type": "code",
   "execution_count": 17,
   "metadata": {},
   "outputs": [],
   "source": [
    "THRESH = 0.01"
   ]
  },
  {
   "cell_type": "markdown",
   "metadata": {},
   "source": [
    "---\n",
    "\n",
    "## Run inference"
   ]
  },
  {
   "cell_type": "markdown",
   "metadata": {},
   "source": [
    "---\n",
    "\n",
    "### Run VI"
   ]
  },
  {
   "cell_type": "code",
   "execution_count": 21,
   "metadata": {},
   "outputs": [
    {
     "name": "stdout",
     "output_type": "stream",
     "text": [
      "ALPHA:\n",
      "------\n",
      "mean\n",
      "0.1\n",
      "variance\n",
      "0.1\n",
      "BETA:\n",
      "-----\n",
      "mean\n",
      "1.1111111111111112\n",
      "variance\n",
      "0.15432098765432098\n"
     ]
    }
   ],
   "source": [
    "dim = len(events)\n",
    "\n",
    "# Set priors\n",
    "# prior: Alpha\n",
    "as_pr = 0.1 * np.ones((dim + 1, dim))\n",
    "ar_pr = 1.0 * np.ones((dim + 1, dim))\n",
    "\n",
    "# prior: Beta\n",
    "bs_pr = 10.0 * np.ones((dim, dim))\n",
    "br_pr = 10.0 * np.ones((dim, dim))\n",
    "\n",
    "# prior: Z\n",
    "zc_pr = [1.0 * np.ones((len(events[i]), dim+1)) for i in range(dim)]\n",
    "\n",
    "print('ALPHA:')\n",
    "print('------')\n",
    "print('mean')\n",
    "print(as_pr[0,0] / ar_pr[0,0])\n",
    "print('variance')\n",
    "print(as_pr[0,0] / ar_pr[0,0] ** 2)\n",
    "\n",
    "print('BETA:')\n",
    "print('-----')\n",
    "print('mean')\n",
    "print(br_pr[0,0] / (bs_pr[0,0] - 1))\n",
    "print('variance')\n",
    "print(br_pr[0,0]**2 / ((bs_pr[0,0] - 1)**2 * (bs_pr[0,0] - 2)))"
   ]
  },
  {
   "cell_type": "code",
   "execution_count": 22,
   "metadata": {},
   "outputs": [],
   "source": [
    "# Set model & observations\n",
    "vi_model = tsvar.models.WoldModelVariational(verbose=True)\n",
    "vi_model.observe(dataset.timestamps)"
   ]
  },
  {
   "cell_type": "code",
   "execution_count": 23,
   "metadata": {
    "scrolled": false
   },
   "outputs": [
    {
     "name": "stdout",
     "output_type": "stream",
     "text": [
      "a_mean: min:+2.01e-04, max:+9.81e+00\n",
      "b_mean: min:+1.06e+00, max:+4.04e+00\n",
      "iter:     1 | dx: +9.7129e+00 | f1-score: 0.08 | relerr: 1.52e+02 | p@5: 0.00 | p@10: 0.00 | p@20: 0.00 | time/it: 3.24e+01     \n",
      "a_mean: min:+4.38e-04, max:+5.06e+00\n",
      "b_mean: min:+7.35e-01, max:+2.52e+00\n",
      "iter:     2 | dx: +9.7129e+00 | f1-score: 0.11 | relerr: 1.04e+02 | p@5: 0.00 | p@10: 0.00 | p@20: 0.00 | time/it: 6.64e-01     \n",
      "a_mean: min:+2.04e-04, max:+7.62e+00\n",
      "b_mean: min:+5.86e-01, max:+2.47e+00\n",
      "iter:     3 | dx: +2.5641e+00 | f1-score: 0.12 | relerr: 9.46e+01 | p@5: 0.00 | p@10: 0.00 | p@20: 0.00 | time/it: 6.82e-01     \n",
      "a_mean: min:+1.43e-04, max:+9.68e+00\n",
      "b_mean: min:+5.34e-01, max:+2.30e+00\n",
      "iter:     4 | dx: +2.0672e+00 | f1-score: 0.14 | relerr: 9.18e+01 | p@5: 0.00 | p@10: 0.00 | p@20: 0.00 | time/it: 6.81e-01     \n",
      "a_mean: min:+1.30e-04, max:+1.13e+01\n",
      "b_mean: min:+5.07e-01, max:+2.26e+00\n",
      "iter:     5 | dx: +1.6935e+00 | f1-score: 0.15 | relerr: 9.11e+01 | p@5: 0.00 | p@10: 0.00 | p@20: 0.00 | time/it: 6.95e-01     \n",
      "a_mean: min:+1.29e-04, max:+1.26e+01\n",
      "b_mean: min:+4.85e-01, max:+2.31e+00\n",
      "iter:     6 | dx: +1.2982e+00 | f1-score: 0.16 | relerr: 9.11e+01 | p@5: 0.00 | p@10: 0.00 | p@20: 0.00 | time/it: 6.76e-01     \n",
      "a_mean: min:+1.28e-04, max:+1.37e+01\n",
      "b_mean: min:+4.73e-01, max:+2.32e+00\n",
      "iter:     7 | dx: +1.1348e+00 | f1-score: 0.17 | relerr: 9.13e+01 | p@5: 0.00 | p@10: 0.00 | p@20: 0.00 | time/it: 6.51e-01     \n",
      "a_mean: min:+1.28e-04, max:+1.47e+01\n",
      "b_mean: min:+4.66e-01, max:+2.27e+00\n",
      "iter:     8 | dx: +1.0273e+00 | f1-score: 0.18 | relerr: 9.16e+01 | p@5: 0.00 | p@10: 0.00 | p@20: 0.00 | time/it: 6.53e-01     \n",
      "a_mean: min:+1.23e-04, max:+1.57e+01\n",
      "b_mean: min:+4.63e-01, max:+2.19e+00\n",
      "iter:     9 | dx: +9.3807e-01 | f1-score: 0.19 | relerr: 9.17e+01 | p@5: 0.00 | p@10: 0.00 | p@20: 0.00 | time/it: 7.00e-01     \n",
      "a_mean: min:+1.23e-04, max:+1.65e+01\n",
      "b_mean: min:+4.61e-01, max:+2.07e+00\n",
      "iter:    10 | dx: +8.5212e-01 | f1-score: 0.19 | relerr: 9.17e+01 | p@5: 0.00 | p@10: 0.00 | p@20: 0.00 | time/it: 6.76e-01     \n",
      "a_mean: min:+1.23e-04, max:+1.73e+01\n",
      "b_mean: min:+4.59e-01, max:+1.94e+00\n",
      "iter:    11 | dx: +7.6703e-01 | f1-score: 0.19 | relerr: 9.16e+01 | p@5: 0.00 | p@10: 0.00 | p@20: 0.00 | time/it: 6.51e-01     \n",
      "a_mean: min:+1.23e-04, max:+1.80e+01\n",
      "b_mean: min:+4.58e-01, max:+1.87e+00\n",
      "iter:    12 | dx: +6.8451e-01 | f1-score: 0.20 | relerr: 9.15e+01 | p@5: 0.00 | p@10: 0.00 | p@20: 0.00 | time/it: 6.51e-01     \n",
      "a_mean: min:+1.18e-04, max:+1.86e+01\n",
      "b_mean: min:+4.57e-01, max:+1.89e+00\n",
      "iter:    13 | dx: +6.0360e-01 | f1-score: 0.20 | relerr: 9.14e+01 | p@5: 0.00 | p@10: 0.00 | p@20: 0.00 | time/it: 6.70e-01     \n",
      "a_mean: min:+1.18e-04, max:+1.91e+01\n",
      "b_mean: min:+4.56e-01, max:+1.93e+00\n",
      "iter:    14 | dx: +5.2727e-01 | f1-score: 0.20 | relerr: 9.12e+01 | p@5: 0.00 | p@10: 0.00 | p@20: 0.00 | time/it: 6.53e-01     \n",
      "a_mean: min:+1.18e-04, max:+1.96e+01\n",
      "b_mean: min:+4.56e-01, max:+2.02e+00\n",
      "iter:    15 | dx: +4.5697e-01 | f1-score: 0.20 | relerr: 9.09e+01 | p@5: 0.00 | p@10: 0.00 | p@20: 0.00 | time/it: 6.94e-01     \n",
      "a_mean: min:+1.18e-04, max:+2.00e+01\n",
      "b_mean: min:+4.55e-01, max:+2.11e+00\n",
      "iter:    16 | dx: +3.9284e-01 | f1-score: 0.20 | relerr: 9.07e+01 | p@5: 0.00 | p@10: 0.00 | p@20: 0.00 | time/it: 6.54e-01     \n",
      "a_mean: min:+1.18e-04, max:+2.03e+01\n",
      "b_mean: min:+4.54e-01, max:+2.19e+00\n",
      "iter:    17 | dx: +3.3180e-01 | f1-score: 0.21 | relerr: 9.05e+01 | p@5: 0.00 | p@10: 0.00 | p@20: 0.00 | time/it: 6.56e-01     \n",
      "a_mean: min:+1.18e-04, max:+2.06e+01\n",
      "b_mean: min:+4.53e-01, max:+2.28e+00\n",
      "iter:    18 | dx: +2.7702e-01 | f1-score: 0.21 | relerr: 9.03e+01 | p@5: 0.00 | p@10: 0.00 | p@20: 0.00 | time/it: 6.77e-01     \n",
      "a_mean: min:+1.18e-04, max:+2.08e+01\n",
      "b_mean: min:+4.51e-01, max:+2.36e+00\n",
      "iter:    19 | dx: +2.2641e-01 | f1-score: 0.21 | relerr: 9.00e+01 | p@5: 0.00 | p@10: 0.00 | p@20: 0.05 | time/it: 6.55e-01     \n",
      "a_mean: min:+1.18e-04, max:+2.10e+01\n",
      "b_mean: min:+4.48e-01, max:+2.44e+00\n",
      "iter:    20 | dx: +1.8386e-01 | f1-score: 0.20 | relerr: 8.98e+01 | p@5: 0.00 | p@10: 0.00 | p@20: 0.05 | time/it: 6.55e-01     \n",
      "a_mean: min:+1.18e-04, max:+2.11e+01\n",
      "b_mean: min:+4.45e-01, max:+2.51e+00\n",
      "iter:    21 | dx: +1.4738e-01 | f1-score: 0.20 | relerr: 8.95e+01 | p@5: 0.00 | p@10: 0.00 | p@20: 0.05 | time/it: 6.70e-01     \n",
      "a_mean: min:+1.18e-04, max:+2.12e+01\n",
      "b_mean: min:+4.43e-01, max:+2.58e+00\n",
      "iter:    22 | dx: +1.1542e-01 | f1-score: 0.20 | relerr: 8.93e+01 | p@5: 0.00 | p@10: 0.00 | p@20: 0.05 | time/it: 6.69e-01     \n",
      "a_mean: min:+1.18e-04, max:+2.13e+01\n",
      "b_mean: min:+4.41e-01, max:+2.65e+00\n",
      "iter:    23 | dx: +8.7487e-02 | f1-score: 0.20 | relerr: 8.90e+01 | p@5: 0.00 | p@10: 0.00 | p@20: 0.05 | time/it: 6.53e-01     \n",
      "a_mean: min:+1.18e-04, max:+2.14e+01\n",
      "b_mean: min:+4.40e-01, max:+2.71e+00\n",
      "iter:    24 | dx: +8.3298e-02 | f1-score: 0.20 | relerr: 8.88e+01 | p@5: 0.00 | p@10: 0.00 | p@20: 0.05 | time/it: 6.56e-01     \n",
      "a_mean: min:+1.18e-04, max:+2.14e+01\n",
      "b_mean: min:+4.39e-01, max:+2.76e+00\n",
      "iter:    25 | dx: +8.0013e-02 | f1-score: 0.20 | relerr: 8.85e+01 | p@5: 0.00 | p@10: 0.00 | p@20: 0.05 | time/it: 6.75e-01     \n",
      "a_mean: min:+1.18e-04, max:+2.15e+01\n",
      "b_mean: min:+4.38e-01, max:+2.82e+00\n",
      "iter:    26 | dx: +7.8363e-02 | f1-score: 0.20 | relerr: 8.83e+01 | p@5: 0.00 | p@10: 0.00 | p@20: 0.05 | time/it: 6.55e-01     \n",
      "a_mean: min:+1.18e-04, max:+2.15e+01\n",
      "b_mean: min:+4.37e-01, max:+2.86e+00\n",
      "iter:    27 | dx: +7.6492e-02 | f1-score: 0.21 | relerr: 8.80e+01 | p@5: 0.00 | p@10: 0.00 | p@20: 0.05 | time/it: 6.54e-01     \n",
      "a_mean: min:+1.18e-04, max:+2.15e+01\n",
      "b_mean: min:+4.36e-01, max:+2.91e+00\n",
      "iter:    28 | dx: +7.4494e-02 | f1-score: 0.20 | relerr: 8.78e+01 | p@5: 0.00 | p@10: 0.00 | p@20: 0.05 | time/it: 6.98e-01     \n",
      "a_mean: min:+1.18e-04, max:+2.15e+01\n",
      "b_mean: min:+4.36e-01, max:+2.94e+00\n",
      "iter:    29 | dx: +7.3401e-02 | f1-score: 0.20 | relerr: 8.76e+01 | p@5: 0.00 | p@10: 0.00 | p@20: 0.05 | time/it: 6.57e-01     \n",
      "a_mean: min:+1.18e-04, max:+2.14e+01\n",
      "b_mean: min:+4.35e-01, max:+2.98e+00\n",
      "iter:    30 | dx: +7.2889e-02 | f1-score: 0.20 | relerr: 8.73e+01 | p@5: 0.00 | p@10: 0.00 | p@20: 0.05 | time/it: 6.57e-01     \n",
      "a_mean: min:+1.18e-04, max:+2.14e+01\n",
      "b_mean: min:+4.35e-01, max:+3.01e+00\n",
      "iter:    31 | dx: +7.2538e-02 | f1-score: 0.20 | relerr: 8.71e+01 | p@5: 0.00 | p@10: 0.00 | p@20: 0.05 | time/it: 6.54e-01     \n",
      "a_mean: min:+1.18e-04, max:+2.14e+01\n",
      "b_mean: min:+4.34e-01, max:+3.03e+00\n",
      "iter:    32 | dx: +7.2183e-02 | f1-score: 0.20 | relerr: 8.69e+01 | p@5: 0.00 | p@10: 0.00 | p@20: 0.05 | time/it: 6.80e-01     \n",
      "a_mean: min:+1.18e-04, max:+2.13e+01\n",
      "b_mean: min:+4.34e-01, max:+3.06e+00\n",
      "iter:    33 | dx: +7.1786e-02 | f1-score: 0.20 | relerr: 8.67e+01 | p@5: 0.00 | p@10: 0.00 | p@20: 0.05 | time/it: 6.57e-01     \n",
      "a_mean: min:+1.18e-04, max:+2.13e+01\n",
      "b_mean: min:+4.34e-01, max:+3.08e+00\n",
      "iter:    34 | dx: +7.1523e-02 | f1-score: 0.19 | relerr: 8.65e+01 | p@5: 0.00 | p@10: 0.10 | p@20: 0.05 | time/it: 6.55e-01     \n",
      "a_mean: min:+1.18e-04, max:+2.13e+01\n",
      "b_mean: min:+4.34e-01, max:+3.10e+00\n",
      "iter:    35 | dx: +7.1508e-02 | f1-score: 0.19 | relerr: 8.63e+01 | p@5: 0.00 | p@10: 0.10 | p@20: 0.05 | time/it: 6.58e-01     \n",
      "a_mean: min:+1.18e-04, max:+2.12e+01\n",
      "b_mean: min:+4.33e-01, max:+3.11e+00\n",
      "iter:    36 | dx: +7.1409e-02 | f1-score: 0.19 | relerr: 8.62e+01 | p@5: 0.00 | p@10: 0.10 | p@20: 0.05 | time/it: 6.53e-01     \n",
      "a_mean: min:+1.18e-04, max:+2.12e+01\n",
      "b_mean: min:+4.33e-01, max:+3.13e+00\n",
      "iter:    37 | dx: +7.1244e-02 | f1-score: 0.19 | relerr: 8.60e+01 | p@5: 0.00 | p@10: 0.10 | p@20: 0.05 | time/it: 6.58e-01     \n",
      "a_mean: min:+1.18e-04, max:+2.11e+01\n",
      "b_mean: min:+4.33e-01, max:+3.14e+00\n",
      "iter:    38 | dx: +7.0880e-02 | f1-score: 0.19 | relerr: 8.58e+01 | p@5: 0.00 | p@10: 0.10 | p@20: 0.05 | time/it: 7.48e-01     \n",
      "a_mean: min:+1.18e-04, max:+2.11e+01\n",
      "b_mean: min:+4.33e-01, max:+3.15e+00\n",
      "iter:    39 | dx: +7.0324e-02 | f1-score: 0.19 | relerr: 8.56e+01 | p@5: 0.00 | p@10: 0.10 | p@20: 0.05 | time/it: 6.67e-01     \n",
      "a_mean: min:+1.18e-04, max:+2.11e+01\n",
      "b_mean: min:+4.33e-01, max:+3.16e+00\n",
      "iter:    40 | dx: +6.9584e-02 | f1-score: 0.19 | relerr: 8.55e+01 | p@5: 0.00 | p@10: 0.10 | p@20: 0.05 | time/it: 6.81e-01     \n",
      "a_mean: min:+1.18e-04, max:+2.10e+01\n",
      "b_mean: min:+4.33e-01, max:+3.17e+00\n"
     ]
    },
    {
     "name": "stdout",
     "output_type": "stream",
     "text": [
      "iter:    41 | dx: +6.9089e-02 | f1-score: 0.19 | relerr: 8.53e+01 | p@5: 0.00 | p@10: 0.10 | p@20: 0.10 | time/it: 6.80e-01     \n",
      "a_mean: min:+1.18e-04, max:+2.10e+01\n",
      "b_mean: min:+4.33e-01, max:+3.18e+00\n",
      "iter:    42 | dx: +6.8551e-02 | f1-score: 0.19 | relerr: 8.52e+01 | p@5: 0.00 | p@10: 0.10 | p@20: 0.10 | time/it: 6.55e-01     \n",
      "a_mean: min:+1.18e-04, max:+2.09e+01\n",
      "b_mean: min:+4.33e-01, max:+3.18e+00\n",
      "iter:    43 | dx: +6.7767e-02 | f1-score: 0.19 | relerr: 8.50e+01 | p@5: 0.00 | p@10: 0.10 | p@20: 0.10 | time/it: 6.85e-01     \n",
      "a_mean: min:+1.18e-04, max:+2.09e+01\n",
      "b_mean: min:+4.32e-01, max:+3.19e+00\n",
      "iter:    44 | dx: +6.7067e-02 | f1-score: 0.19 | relerr: 8.49e+01 | p@5: 0.00 | p@10: 0.10 | p@20: 0.10 | time/it: 6.81e-01     \n",
      "a_mean: min:+1.18e-04, max:+2.09e+01\n",
      "b_mean: min:+4.32e-01, max:+3.19e+00\n",
      "iter:    45 | dx: +6.6469e-02 | f1-score: 0.19 | relerr: 8.47e+01 | p@5: 0.00 | p@10: 0.10 | p@20: 0.10 | time/it: 7.67e-01     \n",
      "a_mean: min:+1.18e-04, max:+2.08e+01\n",
      "b_mean: min:+4.32e-01, max:+3.20e+00\n",
      "iter:    46 | dx: +6.5863e-02 | f1-score: 0.18 | relerr: 8.46e+01 | p@5: 0.00 | p@10: 0.10 | p@20: 0.10 | time/it: 6.94e-01     \n",
      "a_mean: min:+1.18e-04, max:+2.08e+01\n",
      "b_mean: min:+4.32e-01, max:+3.20e+00\n",
      "iter:    47 | dx: +6.5250e-02 | f1-score: 0.18 | relerr: 8.44e+01 | p@5: 0.00 | p@10: 0.10 | p@20: 0.10 | time/it: 6.93e-01     \n",
      "a_mean: min:+1.18e-04, max:+2.07e+01\n",
      "b_mean: min:+4.32e-01, max:+3.20e+00\n",
      "iter:    48 | dx: +6.4603e-02 | f1-score: 0.18 | relerr: 8.43e+01 | p@5: 0.00 | p@10: 0.10 | p@20: 0.10 | time/it: 6.71e-01     \n",
      "a_mean: min:+1.18e-04, max:+2.07e+01\n",
      "b_mean: min:+4.32e-01, max:+3.20e+00\n",
      "iter:    49 | dx: +6.3928e-02 | f1-score: 0.18 | relerr: 8.42e+01 | p@5: 0.00 | p@10: 0.10 | p@20: 0.10 | time/it: 7.00e-01     \n",
      "a_mean: min:+1.18e-04, max:+2.07e+01\n",
      "b_mean: min:+4.32e-01, max:+3.21e+00\n",
      "iter:    50 | dx: +6.3104e-02 | f1-score: 0.18 | relerr: 8.40e+01 | p@5: 0.00 | p@10: 0.10 | p@20: 0.10 | time/it: 6.89e-01     \n",
      "a_mean: min:+1.18e-04, max:+2.06e+01\n",
      "b_mean: min:+4.32e-01, max:+3.21e+00\n",
      "iter:    51 | dx: +6.2536e-02 | f1-score: 0.18 | relerr: 8.39e+01 | p@5: 0.00 | p@10: 0.10 | p@20: 0.10 | time/it: 6.85e-01     \n",
      "a_mean: min:+1.18e-04, max:+2.06e+01\n",
      "b_mean: min:+4.32e-01, max:+3.21e+00\n",
      "iter:    52 | dx: +6.1720e-02 | f1-score: 0.18 | relerr: 8.38e+01 | p@5: 0.00 | p@10: 0.10 | p@20: 0.10 | time/it: 6.86e-01     \n",
      "a_mean: min:+1.18e-04, max:+2.06e+01\n",
      "b_mean: min:+4.32e-01, max:+3.21e+00\n",
      "iter:    53 | dx: +6.1096e-02 | f1-score: 0.18 | relerr: 8.37e+01 | p@5: 0.00 | p@10: 0.10 | p@20: 0.10 | time/it: 6.83e-01     \n",
      "a_mean: min:+1.18e-04, max:+2.06e+01\n",
      "b_mean: min:+4.32e-01, max:+3.21e+00\n",
      "iter:    54 | dx: +6.0218e-02 | f1-score: 0.18 | relerr: 8.35e+01 | p@5: 0.00 | p@10: 0.10 | p@20: 0.10 | time/it: 6.81e-01     \n",
      "a_mean: min:+1.18e-04, max:+2.05e+01\n",
      "b_mean: min:+4.31e-01, max:+3.21e+00\n",
      "iter:    55 | dx: +5.9372e-02 | f1-score: 0.18 | relerr: 8.34e+01 | p@5: 0.00 | p@10: 0.10 | p@20: 0.10 | time/it: 6.83e-01     \n",
      "a_mean: min:+1.18e-04, max:+2.05e+01\n",
      "b_mean: min:+4.31e-01, max:+3.20e+00\n",
      "iter:    56 | dx: +5.8511e-02 | f1-score: 0.18 | relerr: 8.33e+01 | p@5: 0.00 | p@10: 0.10 | p@20: 0.10 | time/it: 6.66e-01     \n",
      "a_mean: min:+1.18e-04, max:+2.05e+01\n",
      "b_mean: min:+4.31e-01, max:+3.20e+00\n",
      "iter:    57 | dx: +5.7772e-02 | f1-score: 0.18 | relerr: 8.32e+01 | p@5: 0.00 | p@10: 0.10 | p@20: 0.10 | time/it: 6.55e-01     \n",
      "a_mean: min:+1.18e-04, max:+2.05e+01\n",
      "b_mean: min:+4.31e-01, max:+3.20e+00\n",
      "iter:    58 | dx: +5.6770e-02 | f1-score: 0.18 | relerr: 8.31e+01 | p@5: 0.00 | p@10: 0.10 | p@20: 0.15 | time/it: 6.94e-01     \n",
      "a_mean: min:+1.18e-04, max:+2.04e+01\n",
      "b_mean: min:+4.31e-01, max:+3.20e+00\n",
      "iter:    59 | dx: +5.5944e-02 | f1-score: 0.18 | relerr: 8.30e+01 | p@5: 0.00 | p@10: 0.10 | p@20: 0.15 | time/it: 6.81e-01     \n",
      "a_mean: min:+1.18e-04, max:+2.04e+01\n",
      "b_mean: min:+4.31e-01, max:+3.20e+00\n",
      "iter:    60 | dx: +5.5179e-02 | f1-score: 0.18 | relerr: 8.29e+01 | p@5: 0.00 | p@10: 0.10 | p@20: 0.15 | time/it: 6.74e-01     \n",
      "a_mean: min:+1.18e-04, max:+2.04e+01\n",
      "b_mean: min:+4.31e-01, max:+3.20e+00\n",
      "iter:    61 | dx: +5.4079e-02 | f1-score: 0.17 | relerr: 8.28e+01 | p@5: 0.20 | p@10: 0.10 | p@20: 0.15 | time/it: 6.59e-01     \n",
      "a_mean: min:+1.18e-04, max:+2.04e+01\n",
      "b_mean: min:+4.31e-01, max:+3.20e+00\n",
      "iter:    62 | dx: +5.3161e-02 | f1-score: 0.17 | relerr: 8.27e+01 | p@5: 0.20 | p@10: 0.10 | p@20: 0.15 | time/it: 6.59e-01     \n",
      "a_mean: min:+1.18e-04, max:+2.04e+01\n"
     ]
    },
    {
     "ename": "KeyboardInterrupt",
     "evalue": "",
     "output_type": "error",
     "traceback": [
      "\u001b[0;31m---------------------------------------------------------------------------\u001b[0m",
      "\u001b[0;31mKeyboardInterrupt\u001b[0m                         Traceback (most recent call last)",
      "\u001b[0;32m<ipython-input-23-31058477fa9e>\u001b[0m in \u001b[0;36m<module>\u001b[0;34m\u001b[0m\n\u001b[1;32m      9\u001b[0m \u001b[0;31m# Fit model\u001b[0m\u001b[0;34m\u001b[0m\u001b[0;34m\u001b[0m\u001b[0;34m\u001b[0m\u001b[0m\n\u001b[1;32m     10\u001b[0m vi_model.fit(as_pr=as_pr, ar_pr=ar_pr, bs_pr=bs_pr, br_pr=br_pr, zc_pr=zc_pr, \n\u001b[0;32m---> 11\u001b[0;31m           max_iter=2500, tol=1e-5, callback=callback)\n\u001b[0m",
      "\u001b[0;32m~/workspace/var-wold/tsvar/utils/decorators.py\u001b[0m in \u001b[0;36mwrapped\u001b[0;34m(self, *args, **kwargs)\u001b[0m\n\u001b[1;32m      6\u001b[0m     \u001b[0;32mdef\u001b[0m \u001b[0mwrapped\u001b[0m\u001b[0;34m(\u001b[0m\u001b[0mself\u001b[0m\u001b[0;34m,\u001b[0m \u001b[0;34m*\u001b[0m\u001b[0margs\u001b[0m\u001b[0;34m,\u001b[0m \u001b[0;34m**\u001b[0m\u001b[0mkwargs\u001b[0m\u001b[0;34m)\u001b[0m\u001b[0;34m:\u001b[0m\u001b[0;34m\u001b[0m\u001b[0;34m\u001b[0m\u001b[0m\n\u001b[1;32m      7\u001b[0m         \u001b[0;32mif\u001b[0m \u001b[0mself\u001b[0m\u001b[0;34m.\u001b[0m\u001b[0m_observed\u001b[0m\u001b[0;34m:\u001b[0m\u001b[0;34m\u001b[0m\u001b[0;34m\u001b[0m\u001b[0m\n\u001b[0;32m----> 8\u001b[0;31m             \u001b[0;32mreturn\u001b[0m \u001b[0mfn\u001b[0m\u001b[0;34m(\u001b[0m\u001b[0mself\u001b[0m\u001b[0;34m,\u001b[0m \u001b[0;34m*\u001b[0m\u001b[0margs\u001b[0m\u001b[0;34m,\u001b[0m \u001b[0;34m**\u001b[0m\u001b[0mkwargs\u001b[0m\u001b[0;34m)\u001b[0m\u001b[0;34m\u001b[0m\u001b[0;34m\u001b[0m\u001b[0m\n\u001b[0m\u001b[1;32m      9\u001b[0m         \u001b[0;32melse\u001b[0m\u001b[0;34m:\u001b[0m\u001b[0;34m\u001b[0m\u001b[0;34m\u001b[0m\u001b[0m\n\u001b[1;32m     10\u001b[0m             raise Exception(('Model is not properly set. '\n",
      "\u001b[0;32m~/workspace/var-wold/tsvar/models/_wold_var.py\u001b[0m in \u001b[0;36mfit\u001b[0;34m(self, as_pr, ar_pr, bs_pr, br_pr, zc_pr, *args, **kwargs)\u001b[0m\n\u001b[1;32m    435\u001b[0m     \u001b[0;32mdef\u001b[0m \u001b[0mfit\u001b[0m\u001b[0;34m(\u001b[0m\u001b[0mself\u001b[0m\u001b[0;34m,\u001b[0m \u001b[0mas_pr\u001b[0m\u001b[0;34m,\u001b[0m \u001b[0mar_pr\u001b[0m\u001b[0;34m,\u001b[0m \u001b[0mbs_pr\u001b[0m\u001b[0;34m,\u001b[0m \u001b[0mbr_pr\u001b[0m\u001b[0;34m,\u001b[0m \u001b[0mzc_pr\u001b[0m\u001b[0;34m,\u001b[0m \u001b[0;34m*\u001b[0m\u001b[0margs\u001b[0m\u001b[0;34m,\u001b[0m \u001b[0;34m**\u001b[0m\u001b[0mkwargs\u001b[0m\u001b[0;34m)\u001b[0m\u001b[0;34m:\u001b[0m\u001b[0;34m\u001b[0m\u001b[0;34m\u001b[0m\u001b[0m\n\u001b[1;32m    436\u001b[0m         \u001b[0mself\u001b[0m\u001b[0;34m.\u001b[0m\u001b[0m_init_fit\u001b[0m\u001b[0;34m(\u001b[0m\u001b[0mas_pr\u001b[0m\u001b[0;34m,\u001b[0m \u001b[0mar_pr\u001b[0m\u001b[0;34m,\u001b[0m \u001b[0mbs_pr\u001b[0m\u001b[0;34m,\u001b[0m \u001b[0mbr_pr\u001b[0m\u001b[0;34m,\u001b[0m \u001b[0mzc_pr\u001b[0m\u001b[0;34m)\u001b[0m\u001b[0;34m\u001b[0m\u001b[0;34m\u001b[0m\u001b[0m\n\u001b[0;32m--> 437\u001b[0;31m         \u001b[0;32mreturn\u001b[0m \u001b[0msuper\u001b[0m\u001b[0;34m(\u001b[0m\u001b[0;34m)\u001b[0m\u001b[0;34m.\u001b[0m\u001b[0mfit\u001b[0m\u001b[0;34m(\u001b[0m\u001b[0mstep_function\u001b[0m\u001b[0;34m=\u001b[0m\u001b[0mself\u001b[0m\u001b[0;34m.\u001b[0m\u001b[0m_iteration\u001b[0m\u001b[0;34m,\u001b[0m \u001b[0;34m*\u001b[0m\u001b[0margs\u001b[0m\u001b[0;34m,\u001b[0m \u001b[0;34m**\u001b[0m\u001b[0mkwargs\u001b[0m\u001b[0;34m)\u001b[0m\u001b[0;34m\u001b[0m\u001b[0;34m\u001b[0m\u001b[0m\n\u001b[0m\u001b[1;32m    438\u001b[0m \u001b[0;34m\u001b[0m\u001b[0m\n\u001b[1;32m    439\u001b[0m     \u001b[0;32mdef\u001b[0m \u001b[0malpha_posterior_mean\u001b[0m\u001b[0;34m(\u001b[0m\u001b[0mself\u001b[0m\u001b[0;34m,\u001b[0m \u001b[0mas_po\u001b[0m\u001b[0;34m=\u001b[0m\u001b[0;32mNone\u001b[0m\u001b[0;34m,\u001b[0m \u001b[0mar_po\u001b[0m\u001b[0;34m=\u001b[0m\u001b[0;32mNone\u001b[0m\u001b[0;34m)\u001b[0m\u001b[0;34m:\u001b[0m\u001b[0;34m\u001b[0m\u001b[0;34m\u001b[0m\u001b[0m\n",
      "\u001b[0;32m~/workspace/var-wold/tsvar/utils/decorators.py\u001b[0m in \u001b[0;36mwrapped\u001b[0;34m(self, *args, **kwargs)\u001b[0m\n\u001b[1;32m      6\u001b[0m     \u001b[0;32mdef\u001b[0m \u001b[0mwrapped\u001b[0m\u001b[0;34m(\u001b[0m\u001b[0mself\u001b[0m\u001b[0;34m,\u001b[0m \u001b[0;34m*\u001b[0m\u001b[0margs\u001b[0m\u001b[0;34m,\u001b[0m \u001b[0;34m**\u001b[0m\u001b[0mkwargs\u001b[0m\u001b[0;34m)\u001b[0m\u001b[0;34m:\u001b[0m\u001b[0;34m\u001b[0m\u001b[0;34m\u001b[0m\u001b[0m\n\u001b[1;32m      7\u001b[0m         \u001b[0;32mif\u001b[0m \u001b[0mself\u001b[0m\u001b[0;34m.\u001b[0m\u001b[0m_observed\u001b[0m\u001b[0;34m:\u001b[0m\u001b[0;34m\u001b[0m\u001b[0;34m\u001b[0m\u001b[0m\n\u001b[0;32m----> 8\u001b[0;31m             \u001b[0;32mreturn\u001b[0m \u001b[0mfn\u001b[0m\u001b[0;34m(\u001b[0m\u001b[0mself\u001b[0m\u001b[0;34m,\u001b[0m \u001b[0;34m*\u001b[0m\u001b[0margs\u001b[0m\u001b[0;34m,\u001b[0m \u001b[0;34m**\u001b[0m\u001b[0mkwargs\u001b[0m\u001b[0;34m)\u001b[0m\u001b[0;34m\u001b[0m\u001b[0;34m\u001b[0m\u001b[0m\n\u001b[0m\u001b[1;32m      9\u001b[0m         \u001b[0;32melse\u001b[0m\u001b[0;34m:\u001b[0m\u001b[0;34m\u001b[0m\u001b[0;34m\u001b[0m\u001b[0m\n\u001b[1;32m     10\u001b[0m             raise Exception(('Model is not properly set. '\n",
      "\u001b[0;32m~/workspace/var-wold/tsvar/fitter.py\u001b[0m in \u001b[0;36mfit\u001b[0;34m(self, step_function, tol, max_iter, seed, callback)\u001b[0m\n\u001b[1;32m     55\u001b[0m             \u001b[0mself\u001b[0m\u001b[0;34m.\u001b[0m\u001b[0m_n_iter_done\u001b[0m \u001b[0;34m=\u001b[0m \u001b[0mt\u001b[0m\u001b[0;34m\u001b[0m\u001b[0;34m\u001b[0m\u001b[0m\n\u001b[1;32m     56\u001b[0m             \u001b[0;31m# Run iteration\u001b[0m\u001b[0;34m\u001b[0m\u001b[0;34m\u001b[0m\u001b[0;34m\u001b[0m\u001b[0m\n\u001b[0;32m---> 57\u001b[0;31m             \u001b[0mstep_function\u001b[0m\u001b[0;34m(\u001b[0m\u001b[0;34m)\u001b[0m\u001b[0;34m\u001b[0m\u001b[0;34m\u001b[0m\u001b[0m\n\u001b[0m\u001b[1;32m     58\u001b[0m \u001b[0;34m\u001b[0m\u001b[0m\n\u001b[1;32m     59\u001b[0m             \u001b[0;31m# Sanity check that the optimization did not fail\u001b[0m\u001b[0;34m\u001b[0m\u001b[0;34m\u001b[0m\u001b[0;34m\u001b[0m\u001b[0m\n",
      "\u001b[0;32m~/workspace/var-wold/tsvar/models/_wold_var.py\u001b[0m in \u001b[0;36m_iteration\u001b[0;34m(self)\u001b[0m\n\u001b[1;32m    399\u001b[0m             \u001b[0mas_po\u001b[0m\u001b[0;34m=\u001b[0m\u001b[0mself\u001b[0m\u001b[0;34m.\u001b[0m\u001b[0m_as_po\u001b[0m\u001b[0;34m,\u001b[0m \u001b[0mar_po\u001b[0m\u001b[0;34m=\u001b[0m\u001b[0mself\u001b[0m\u001b[0;34m.\u001b[0m\u001b[0m_ar_po\u001b[0m\u001b[0;34m,\u001b[0m \u001b[0mzp_po\u001b[0m\u001b[0;34m=\u001b[0m\u001b[0mself\u001b[0m\u001b[0;34m.\u001b[0m\u001b[0m_zp_po\u001b[0m\u001b[0;34m,\u001b[0m\u001b[0;34m\u001b[0m\u001b[0;34m\u001b[0m\u001b[0m\n\u001b[1;32m    400\u001b[0m             \u001b[0mbs_pr\u001b[0m\u001b[0;34m=\u001b[0m\u001b[0mself\u001b[0m\u001b[0;34m.\u001b[0m\u001b[0m_bs_pr\u001b[0m\u001b[0;34m,\u001b[0m \u001b[0mbr_pr\u001b[0m\u001b[0;34m=\u001b[0m\u001b[0mself\u001b[0m\u001b[0;34m.\u001b[0m\u001b[0m_br_pr\u001b[0m\u001b[0;34m,\u001b[0m \u001b[0mdt_ik\u001b[0m\u001b[0;34m=\u001b[0m\u001b[0mself\u001b[0m\u001b[0;34m.\u001b[0m\u001b[0mdt_ik\u001b[0m\u001b[0;34m,\u001b[0m\u001b[0;34m\u001b[0m\u001b[0;34m\u001b[0m\u001b[0m\n\u001b[0;32m--> 401\u001b[0;31m             delta_ikj=self.delta_ikj, valid_mask_ikj=self.valid_mask_ikj)\n\u001b[0m\u001b[1;32m    402\u001b[0m \u001b[0;34m\u001b[0m\u001b[0m\n\u001b[1;32m    403\u001b[0m         \u001b[0;31m#print('---- Beta')\u001b[0m\u001b[0;34m\u001b[0m\u001b[0;34m\u001b[0m\u001b[0;34m\u001b[0m\u001b[0m\n",
      "\u001b[0;31mKeyboardInterrupt\u001b[0m: "
     ]
    }
   ],
   "source": [
    "# Set callback (parameters of callback are just the posterior mean of alpha)\n",
    "callback = tsvar.utils.callbacks.LearnerCallbackMLE(\n",
    "    x0=(as_pr[1:,:] / ar_pr[1:,:]).flatten(), print_every=1,\n",
    "    coeffs_true=adjacency_true.flatten(),\n",
    "    acc_thresh=0.05, dim=dim, \n",
    "    widgets={'f1score', 'relerr', 'prec@5', 'prec@10', 'prec@20'},\n",
    "    default_end='\\n')\n",
    "\n",
    "# Fit model\n",
    "vi_model.fit(as_pr=as_pr, ar_pr=ar_pr, bs_pr=bs_pr, br_pr=br_pr, zc_pr=zc_pr, \n",
    "          max_iter=2500, tol=1e-5, callback=callback)"
   ]
  },
  {
   "cell_type": "code",
   "execution_count": 30,
   "metadata": {
    "scrolled": false
   },
   "outputs": [
    {
     "name": "stdout",
     "output_type": "stream",
     "text": [
      "\n",
      "==================================================\n",
      "========== Method: WoldModelVariational\n",
      "\n",
      "Accuracy: 0.75\n",
      "\n",
      "Edge counts\n",
      "------------\n",
      "Pred: 993.00\n",
      "True: 2177.00\n",
      "\n",
      "Error counts\n",
      "------------\n",
      " True Positive: 331.00\n",
      "False Positive: 662.00\n",
      " True Negative: 7161.00\n",
      "False Negative: 1846.00\n",
      "\n",
      "Error rates\n",
      "-----------\n",
      " True Positive Rate: 0.15\n",
      "False Positive Rate: 0.08\n",
      " True Negative Rate: 0.92\n",
      "False Negative Rate: 0.85\n",
      "\n",
      "F-Score\n",
      "-------\n",
      " F1-Score: 0.21\n",
      "Precision: 0.33\n",
      "   Recall: 0.15\n",
      "\n",
      "Precision@k\n",
      "-----------\n",
      " Prec@5: 0.00\n",
      "Prec@10: 0.10\n",
      "Prec@20: 0.10\n",
      "\n",
      "Average Precision@k per node\n",
      "----------------------------\n",
      "AvgPrec@k per node:\n",
      "5 0.05000000000000002\n",
      "10 0.0979999999999999\n",
      "20 0.17849999999999994\n",
      "\n"
     ]
    }
   ],
   "source": [
    "mu_hat = vi_model._as_po[0, :] / vi_model._ar_po[0, :]\n",
    "adj_hat = vi_model._as_po[1:, :] / vi_model._ar_po[1:, :]\n",
    "beta_hat = vi_model._br_po[:, :] / (vi_model._bs_po[:, :] + 1) + 1\n",
    "model_name = type(vi_model).__name__\n",
    "\n",
    "#adj_hat = adj_hat\n",
    "adj_hat = adj_hat / beta_hat\n",
    "\n",
    "diag_mask = np.eye(adj_hat.shape[0]).astype(bool)\n",
    "adjacency_true_zero_diag = adjacency_true.copy()\n",
    "adjacency_true_zero_diag[diag_mask] = 0\n",
    "#adj_hat[diag_mask] = 0\n",
    "\n",
    "\n",
    "experiments_utils.print_report(name=model_name, adj_hat=adj_hat, adj_true=adjacency_true, thresh=0.01)"
   ]
  },
  {
   "cell_type": "code",
   "execution_count": 31,
   "metadata": {},
   "outputs": [
    {
     "data": {
      "image/png": "[encoded data removed]",
      "text/plain": [
       "<Figure size 432x288 with 1 Axes>"
      ]
     },
     "metadata": {
      "needs_background": "light"
     },
     "output_type": "display_data"
    }
   ],
   "source": [
    "diag_mask = np.eye(adj_hat.shape[0]).astype(bool)\n",
    "plt.boxplot([mu_hat.flatten(), adj_hat[diag_mask].flatten(), adj_hat[~diag_mask].flatten(), beta_hat.flatten()], \n",
    "            labels=['Mus', 'Alphas (diag)', 'Alphas (cross)', 'Betas']);\n",
    "plt.yscale('log');\n",
    "plt.title(model_name);"
   ]
  },
  {
   "cell_type": "code",
   "execution_count": 82,
   "metadata": {},
   "outputs": [
    {
     "data": {
      "image/png": "[encoded data removed]",
      "text/plain": [
       "<Figure size 720x360 with 1 Axes>"
      ]
     },
     "metadata": {
      "needs_background": "light"
     },
     "output_type": "display_data"
    }
   ],
   "source": [
    "plt.figure(figsize=(10, 5))\n",
    "plt.grid()\n",
    "plt.boxplot(\n",
    "    [adj_hat[adjacency_true == 0.0], adj_hat[adjacency_true > 0.0], adj_hat[np.eye(adj_hat.shape[0]).astype(bool)]],\n",
    "    labels=['True Non-edges', 'True Edges', 'Diag'])\n",
    "plt.ylabel(r'Learned value of paramaters')\n",
    "plt.title('Distribution of learned adjacency weights');"
   ]
  },
  {
   "cell_type": "code",
   "execution_count": 84,
   "metadata": {},
   "outputs": [
    {
     "data": {
      "text/plain": [
       "array([ 0.00,  0.00,  0.00,  0.00,  0.00,  0.00,  0.03,  0.00,  0.00,  0.01,  0.00,  0.00,  0.00,  0.01,  0.00,  0.00,  0.00,  0.00,  0.00,  0.02,  0.01,  0.00,  0.00,  0.01,  0.00,  0.00,  0.00,  0.02,  0.00,  0.00,  0.00,  0.00,  0.00,  0.01,  0.00,  0.00,  0.00,  0.00,  0.00,  0.01,  0.00,  0.00,  0.00,  0.01,  0.00,  0.00,  0.00,  0.00,  0.00,  0.01,  0.02,  0.00,  0.00,  0.00,  0.00,  0.00,\n",
       "        0.01,  0.01,  0.01,  0.00,  0.00,  0.00,  0.00,  0.00,  0.00,  0.00,  1.00,  0.01,  0.01,  0.00,  0.00,  0.00,  0.00,  0.00,  0.01,  0.00,  0.00,  0.01,  0.00,  0.00,  0.01,  0.00,  0.00,  0.00,  0.00,  0.00,  0.00,  0.02,  0.00,  0.00,  0.00,  0.00,  0.00,  0.00,  0.00,  0.00,  0.00,  0.01,  0.01,  0.00])"
      ]
     },
     "execution_count": 84,
     "metadata": {},
     "output_type": "execute_result"
    }
   ],
   "source": [
    "adjacency_true[np.eye(adj_hat.shape[0]).astype(bool)]"
   ]
  },
  {
   "cell_type": "code",
   "execution_count": 85,
   "metadata": {},
   "outputs": [
    {
     "data": {
      "text/plain": [
       "array([ 0.00,  0.00,  0.00, ...,  0.00,  0.00,  0.15])"
      ]
     },
     "execution_count": 85,
     "metadata": {},
     "output_type": "execute_result"
    }
   ],
   "source": [
    "top_edges = np.argsort(adj_hat.flatten())[::-1]\n",
    "adjacency_true.flatten()[top_edges]"
   ]
  },
  {
   "cell_type": "markdown",
   "metadata": {},
   "source": [
    "---\n",
    "\n",
    "### Run GB"
   ]
  },
  {
   "cell_type": "code",
   "execution_count": 52,
   "metadata": {},
   "outputs": [],
   "source": [
    "import gb\n",
    "import time\n",
    "\n",
    "dim = len(events)\n",
    "\n",
    "# Define model\n",
    "granger_model = gb.GrangerBusca(\n",
    "    alpha_prior=1.0/len(events),\n",
    "    num_iter=30000,\n",
    "    metropolis=True,\n",
    "    beta_strategy='busca',\n",
    "    num_jobs=4,\n",
    ")\n",
    "granger_model.fit(events)"
   ]
  },
  {
   "cell_type": "code",
   "execution_count": 58,
   "metadata": {},
   "outputs": [
    {
     "name": "stdout",
     "output_type": "stream",
     "text": [
      "\n",
      "==================================================\n",
      "========== Method: GrangerBusca\n",
      "\n",
      "Accuracy: 0.21\n",
      "\n",
      "Edge counts\n",
      "------------\n",
      "Pred: 372.00\n",
      "True: 2106.00\n",
      "\n",
      "Error counts\n",
      "------------\n",
      " True Positive: 102.00\n",
      "False Positive: 270.00\n",
      " True Negative: 7624.00\n",
      "False Negative: 2004.00\n",
      "\n",
      "Error rates\n",
      "-----------\n",
      " True Positive Rate: 0.05\n",
      "False Positive Rate: 0.03\n",
      " True Negative Rate: 0.97\n",
      "False Negative Rate: 0.95\n",
      "\n",
      "F-Score\n",
      "-------\n",
      " F1-Score: 0.08\n",
      "Precision: 0.27\n",
      "   Recall: 0.05\n",
      "\n",
      "Precision@k\n",
      "-----------\n",
      " Prec@5: 0.00\n",
      "Prec@10: 0.10\n",
      "Prec@20: 0.10\n",
      "\n",
      "Average Precision@k per node\n",
      "----------------------------\n",
      "AvgPrec@k per node:\n",
      "5 0.14845360824742254\n",
      "10 0.16907216494845356\n",
      "20 0.14536082474226802\n",
      "\n"
     ]
    }
   ],
   "source": [
    "# Extract infered adjacency\n",
    "adj_hat = granger_model.Alpha_.toarray()\n",
    "adj_hat = adj_hat / adj_hat.sum(axis=1)[:, None]\n",
    "beta_hat = np.ones((dim, dim)) * (granger_model.beta_ + 1)\n",
    "coeffs_hat = np.hstack((granger_model.mu_, beta_hat.flatten(),\n",
    "                        adj_hat.flatten()))\n",
    "model_name = type(granger_model).__name__\n",
    "\n",
    "#adj_hat = adj_hat / beta_hat  # Does not matter\n",
    "\n",
    "diag_mask = np.eye(adj_hat.shape[0]).astype(bool)\n",
    "adjacency_true_zero_diag = adjacency_true.copy()\n",
    "adjacency_true_zero_diag[diag_mask] = 0\n",
    "adj_hat[diag_mask] = 0\n",
    "\n",
    "\n",
    "THRESH = 0.00  # GB is already sparse\n",
    "\n",
    "experiments_utils.print_report(name=model_name, adj_hat=adj_hat, adj_true=adjacency_true_zero_diag, thresh=0)"
   ]
  },
  {
   "cell_type": "code",
   "execution_count": 56,
   "metadata": {},
   "outputs": [
    {
     "data": {
      "image/png": "[encoded data removed]",
      "text/plain": [
       "<Figure size 432x288 with 1 Axes>"
      ]
     },
     "metadata": {
      "needs_background": "light"
     },
     "output_type": "display_data"
    }
   ],
   "source": [
    "diag_mask = np.eye(adj_hat.shape[0]).astype(bool)\n",
    "plt.boxplot([mu_hat.flatten(), adj_hat[diag_mask].flatten(), adj_hat[~diag_mask].flatten(), beta_hat.flatten()], \n",
    "            labels=['Mus', 'Alphas (diag)', 'Alphas (cross)', 'Betas']);\n",
    "plt.yscale('log');\n",
    "plt.title(model_name);"
   ]
  },
  {
   "cell_type": "code",
   "execution_count": 57,
   "metadata": {},
   "outputs": [
    {
     "data": {
      "image/png": "[encoded data removed]",
      "text/plain": [
       "<Figure size 720x360 with 1 Axes>"
      ]
     },
     "metadata": {
      "needs_background": "light"
     },
     "output_type": "display_data"
    }
   ],
   "source": [
    "plt.figure(figsize=(10, 5))\n",
    "plt.grid()\n",
    "plt.boxplot(\n",
    "    [adj_hat[adjacency_true == 0.0], adj_hat[adjacency_true > 0.0], adj_hat[np.eye(adj_hat.shape[0]).astype(bool)]],\n",
    "    labels=['True Non-edges', 'True Edges', 'Diag'])\n",
    "plt.ylabel(r'Learned value of paramaters')\n",
    "plt.title('Distribution of learned adjacency weights');"
   ]
  },
  {
   "cell_type": "code",
   "execution_count": null,
   "metadata": {},
   "outputs": [],
   "source": []
  },
  {
   "cell_type": "code",
   "execution_count": 171,
   "metadata": {
    "scrolled": true
   },
   "outputs": [
    {
     "data": {
      "text/plain": [
       "KendalltauResult(correlation=0.03204881895953531, pvalue=0.0007088376296667749)"
      ]
     },
     "execution_count": 171,
     "metadata": {},
     "output_type": "execute_result"
    }
   ],
   "source": [
    "scipy.stats.kendalltau(adj_hat.flatten(), adjacency_true.flatten())"
   ]
  },
  {
   "cell_type": "code",
   "execution_count": 172,
   "metadata": {},
   "outputs": [
    {
     "data": {
      "text/plain": [
       "0.05585231454261796"
      ]
     },
     "execution_count": 172,
     "metadata": {},
     "output_type": "execute_result"
    }
   ],
   "source": [
    "tsvar.utils.metrics.mean_kendall_rank_corr(adj_hat.flatten(), adjacency_true.flatten())"
   ]
  },
  {
   "cell_type": "code",
   "execution_count": 173,
   "metadata": {
    "scrolled": true
   },
   "outputs": [
    {
     "data": {
      "text/plain": [
       "<matplotlib.collections.PathCollection at 0x197b8d860>"
      ]
     },
     "execution_count": 173,
     "metadata": {},
     "output_type": "execute_result"
    },
    {
     "data": {
      "image/png": "[encoded data removed]",
      "text/plain": [
       "<Figure size 432x288 with 1 Axes>"
      ]
     },
     "metadata": {
      "needs_background": "light"
     },
     "output_type": "display_data"
    }
   ],
   "source": [
    "plt.scatter(adj_hat.flatten(), adjacency_true.flatten())"
   ]
  },
  {
   "cell_type": "code",
   "execution_count": 174,
   "metadata": {},
   "outputs": [],
   "source": [
    "mean_rank_corr, rank_corr_per_dim = tsvar.utils.metrics.mean_kendall_rank_corr(\n",
    "    adj_hat.flatten(), adjacency_true.flatten(), return_vec=True)"
   ]
  },
  {
   "cell_type": "code",
   "execution_count": 175,
   "metadata": {},
   "outputs": [
    {
     "data": {
      "text/plain": [
       "0.05585231454261796"
      ]
     },
     "execution_count": 175,
     "metadata": {},
     "output_type": "execute_result"
    }
   ],
   "source": [
    "mean_rank_corr"
   ]
  },
  {
   "cell_type": "code",
   "execution_count": 176,
   "metadata": {},
   "outputs": [
    {
     "data": {
      "text/plain": [
       "(array([  6.00,  31.00,  10.00,  13.00,  18.00,  14.00,   1.00,   2.00,   2.00,   2.00]),\n",
       " array([-0.16, -0.10, -0.03,  0.03,  0.10,  0.16,  0.22,  0.29,  0.35,  0.42,  0.48]),\n",
       " <a list of 10 Patch objects>)"
      ]
     },
     "execution_count": 176,
     "metadata": {},
     "output_type": "execute_result"
    },
    {
     "data": {
      "image/png": "[encoded data removed]",
      "text/plain": [
       "<Figure size 432x288 with 1 Axes>"
      ]
     },
     "metadata": {
      "needs_background": "light"
     },
     "output_type": "display_data"
    }
   ],
   "source": [
    "plt.hist(rank_corr_per_dim)"
   ]
  },
  {
   "cell_type": "code",
   "execution_count": 177,
   "metadata": {},
   "outputs": [
    {
     "name": "stdout",
     "output_type": "stream",
     "text": [
      "Kendall correlation coefficient: 0.032\n",
      "Samples are correlated (reject H0) p=0.001\n"
     ]
    }
   ],
   "source": [
    "from scipy.stats import kendalltau\n",
    "\n",
    "# calculate kendall's correlation\n",
    "coef, p = kendalltau(\n",
    "    x=adj_hat.flatten(),\n",
    "    y=adjacency_true.flatten()\n",
    ")\n",
    "\n",
    "print('Kendall correlation coefficient: %.3f' % coef)\n",
    "# interpret the significance\n",
    "alpha = 0.05\n",
    "if p > alpha:\n",
    "    print('Samples are uncorrelated (fail to reject H0) p=%.3f' % p)\n",
    "else:\n",
    "    print('Samples are correlated (reject H0) p=%.3f' % p)"
   ]
  },
  {
   "cell_type": "markdown",
   "metadata": {},
   "source": [
    "---\n",
    "\n",
    "## Exploration of results"
   ]
  },
  {
   "cell_type": "code",
   "execution_count": 167,
   "metadata": {},
   "outputs": [
    {
     "data": {
      "text/plain": [
       "array([[0.00141, 0.00181, 0.00855, ..., 0.00943, 0.00923, 0.01304],\n",
       "       [0.00311, 0.00129, 0.01251, ..., 0.00915, 0.00726, 0.01185],\n",
       "       [0.00343, 0.00186, 0.04852, ..., 0.0099 , 0.00796, 0.01432],\n",
       "       ...,\n",
       "       [0.02883, 0.01501, 0.01245, ..., 0.00958, 0.01153, 0.02437],\n",
       "       [0.01216, 0.00995, 0.00887, ..., 0.03078, 0.01442, 0.02328],\n",
       "       [0.00137, 0.00276, 0.00194, ..., 0.0191 , 0.01991, 0.01562]])"
      ]
     },
     "execution_count": 167,
     "metadata": {},
     "output_type": "execute_result"
    }
   ],
   "source": [
    "adj_hat = vifb_model._as_po[1:, :] / vifb_model._ar_po[1:, :]\n",
    "adj_hat"
   ]
  },
  {
   "cell_type": "code",
   "execution_count": 168,
   "metadata": {},
   "outputs": [
    {
     "data": {
      "text/plain": [
       "(array([  0,   0,   0, ..., 622, 622, 622]),\n",
       " array([  0,   1,   2, ..., 620, 621, 622]))"
      ]
     },
     "execution_count": 168,
     "metadata": {},
     "output_type": "execute_result"
    }
   ],
   "source": [
    "adj_hat.nonzero()"
   ]
  },
  {
   "cell_type": "code",
   "execution_count": null,
   "metadata": {},
   "outputs": [],
   "source": []
  },
  {
   "cell_type": "code",
   "execution_count": 170,
   "metadata": {},
   "outputs": [
    {
     "name": "stdout",
     "output_type": "stream",
     "text": [
      "0.01 68288\n",
      "0.017 31004\n",
      "0.025 17360\n",
      "0.032 11503\n",
      "0.039 8389\n",
      "0.047 6450\n",
      "0.054 5161\n",
      "0.062 4092\n",
      "0.069 3304\n",
      "0.076 2612\n",
      "0.084 2068\n",
      "0.091 1641\n",
      "0.098 1313\n",
      "0.106 912\n",
      "0.113 804\n",
      "0.121 720\n",
      "0.128 658\n",
      "0.135 604\n",
      "0.143 551\n",
      "0.15 516\n"
     ]
    }
   ],
   "source": [
    "adj_hat = vifb_model._as_po[1:, :] / vifb_model._ar_po[1:, :]\n",
    "\n",
    "thresh_list = np.linspace(0.01, 0.15, 20)\n",
    "\n",
    "vals_vifb = {\n",
    "    5: np.zeros_like(thresh_list),\n",
    "    10: np.zeros_like(thresh_list),\n",
    "    20: np.zeros_like(thresh_list),\n",
    "}\n",
    "\n",
    "for i, thresh in enumerate(thresh_list):\n",
    "\n",
    "    adj_hat_thresh = adj_hat.copy()\n",
    "    adj_hat_thresh[adj_hat_thresh < thresh] = 0.0\n",
    "    print(np.round(thresh, 3), len(adj_hat_thresh.nonzero()[0]))\n",
    "\n",
    "    for k in [5, 10, 20]:\n",
    "        vals_vifb[k][i] = tsvar.utils.metrics.precision_at_n_per_dim(A_pred=adj_hat_thresh, A_true=adjacency_true, k=k)"
   ]
  },
  {
   "cell_type": "code",
   "execution_count": 159,
   "metadata": {},
   "outputs": [],
   "source": [
    "thresh_list = np.linspace(0.01, 0.15, 20)\n",
    "\n",
    "vals_gb = {\n",
    "    5: np.zeros_like(thresh_list),\n",
    "    10: np.zeros_like(thresh_list),\n",
    "    20: np.zeros_like(thresh_list),\n",
    "}\n",
    "\n",
    "for i, thresh in enumerate(thresh_list):\n",
    "\n",
    "    adj_hat_thresh = adj_hat.copy()\n",
    "    adj_hat_thresh[adj_hat_thresh < thresh] = 0.0\n",
    "\n",
    "    for k in [5, 10, 20]:\n",
    "        vals_gb[k][i] = tsvar.utils.metrics.precision_at_n_per_dim(A_pred=adj_hat_thresh, A_true=adjacency_true, k=k)"
   ]
  },
  {
   "cell_type": "code",
   "execution_count": 161,
   "metadata": {},
   "outputs": [
    {
     "data": {
      "image/png": "[encoded data removed]",
      "text/plain": [
       "<Figure size 864x432 with 1 Axes>"
      ]
     },
     "metadata": {
      "needs_background": "light"
     },
     "output_type": "display_data"
    }
   ],
   "source": [
    "plt.figure(figsize=(12, 6))\n",
    "plt.grid()\n",
    "\n",
    "plt.plot(thresh_list, vals_vifb[5], label='p@5')\n",
    "plt.plot(thresh_list, vals_vifb[10], label='p@10')\n",
    "plt.plot(thresh_list, vals_vifb[20], label='p@20')\n",
    "\n",
    "plt.plot(thresh_list, vals_gb[5],   label='p@5', c='C0', ls='--')\n",
    "plt.plot(thresh_list, vals_gb[10], label='p@10', c='C1', ls='--')\n",
    "plt.plot(thresh_list, vals_gb[20], label='p@20', c='C2', ls='--')\n",
    "\n",
    "plt.legend();"
   ]
  },
  {
   "cell_type": "code",
   "execution_count": null,
   "metadata": {},
   "outputs": [],
   "source": []
  }
 ],
 "metadata": {
  "kernelspec": {
   "display_name": "Python 3",
   "language": "python",
   "name": "python3"
  },
  "language_info": {
   "codemirror_mode": {
    "name": "ipython",
    "version": 3
   },
   "file_extension": ".py",
   "mimetype": "text/x-python",
   "name": "python",
   "nbconvert_exporter": "python",
   "pygments_lexer": "ipython3",
   "version": "3.7.7"
  }
 },
 "nbformat": 4,
 "nbformat_minor": 4
}

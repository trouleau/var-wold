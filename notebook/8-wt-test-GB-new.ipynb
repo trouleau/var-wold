{
 "cells": [
  {
   "cell_type": "markdown",
   "metadata": {},
   "source": [
    "# Test GB algorithm\n",
    "\n",
    "---"
   ]
  },
  {
   "cell_type": "markdown",
   "metadata": {},
   "source": [
    "Load extensions for debugging"
   ]
  },
  {
   "cell_type": "code",
   "execution_count": 1,
   "metadata": {},
   "outputs": [],
   "source": [
    "%load_ext autoreload\n",
    "%autoreload 2\n",
    "\n",
    "%load_ext line_profiler"
   ]
  },
  {
   "cell_type": "markdown",
   "metadata": {},
   "source": [
    "Import the libraries of interest for this notebook"
   ]
  },
  {
   "cell_type": "code",
   "execution_count": 2,
   "metadata": {},
   "outputs": [],
   "source": [
    "from matplotlib import pyplot as plt\n",
    "%matplotlib inline\n",
    "\n",
    "import itertools\n",
    "import torch\n",
    "import numpy as np\n",
    "\n",
    "# Set numpy print format\n",
    "np.set_printoptions(precision=2, floatmode='fixed', sign=' ')\n",
    "\n",
    "import tsvar\n",
    "import experiments_utils"
   ]
  },
  {
   "cell_type": "markdown",
   "metadata": {},
   "source": [
    "Set cells width"
   ]
  },
  {
   "cell_type": "code",
   "execution_count": 3,
   "metadata": {},
   "outputs": [
    {
     "data": {
      "text/html": [
       "<style>.container { width:90% !important; }</style>"
      ],
      "text/plain": [
       "<IPython.core.display.HTML object>"
      ]
     },
     "metadata": {},
     "output_type": "display_data"
    }
   ],
   "source": [
    "from IPython.core.display import display, HTML\n",
    "display(HTML(\"<style>.container { width:90% !important; }</style>\"))"
   ]
  },
  {
   "cell_type": "markdown",
   "metadata": {},
   "source": [
    "---\n",
    "\n",
    "## Generate toy example dataset\n"
   ]
  },
  {
   "cell_type": "markdown",
   "metadata": {},
   "source": [
    "### V1. Small 2-dimensional toy setting"
   ]
  },
  {
   "cell_type": "raw",
   "metadata": {},
   "source": [
    "# Define random parameters\n",
    "dim = 2  # Dimensionality of the process\n",
    "max_jumps= 5e3 * dim  # Number of events\n",
    "\n",
    "mu = torch.tensor([0.3, 0.1])\n",
    "beta = torch.tensor([\n",
    "    [1.0, 0.2],\n",
    "    [0.5, 0.1]\n",
    "])\n",
    "# Use the same constraint as GrangerBusca to allow fair comparison\n",
    "alpha = torch.tensor([\n",
    "    [0.7, 0.3],\n",
    "    [0.0, 1.0]\n",
    "])\n",
    "\n",
    "print('Baseline:')\n",
    "print(mu.numpy().round(2))\n",
    "print('Alpha:')\n",
    "print(alpha.numpy().round(2))\n",
    "print('Beta:')\n",
    "print(beta.numpy().round(2))"
   ]
  },
  {
   "cell_type": "markdown",
   "metadata": {},
   "source": [
    "### V2. Larger setting"
   ]
  },
  {
   "cell_type": "code",
   "execution_count": 5,
   "metadata": {},
   "outputs": [
    {
     "name": "stdout",
     "output_type": "stream",
     "text": [
      "Baseline:\n",
      "[ 0.05  0.05  0.05  0.05  0.05  0.05  0.05  0.05  0.05  0.05]\n",
      "Alpha:\n",
      "[[ 0.11  0.12  0.00  0.12  0.18  0.19  0.00  0.11  0.00  0.00]\n",
      " [ 0.00  0.12  0.12  0.00  0.00  0.12  0.00  0.17  0.15  0.11]\n",
      " [ 0.14  0.00  0.14  0.00  0.13  0.00  0.19  0.00  0.00  0.14]\n",
      " [ 0.19  0.13  0.00  0.00  0.14  0.00  0.00  0.00  0.00  0.13]\n",
      " [ 0.14  0.13  0.00  0.00  0.10  0.17  0.15  0.00  0.00  0.13]\n",
      " [ 0.00  0.12  0.13  0.00  0.00  0.11  0.13  0.00  0.00  0.11]\n",
      " [ 0.00  0.00  0.15  0.00  0.13  0.19  0.00  0.00  0.00  0.17]\n",
      " [ 0.00  0.18  0.13  0.12  0.11  0.00  0.00  0.19  0.00  0.11]\n",
      " [ 0.00  0.00  0.11  0.00  0.10  0.16  0.00  0.00  0.00  0.00]\n",
      " [ 0.00  0.11  0.11  0.17  0.18  0.15  0.14  0.00  0.11  0.00]]\n",
      "Beta:\n",
      "[[ 0.73  0.11  0.89  0.86  0.17  0.63  0.02  0.12  0.32  0.16]\n",
      " [ 0.76  0.82  0.34  0.32  0.11  0.08  0.71  0.60  0.06  0.48]\n",
      " [ 0.40  0.85  0.72  0.60  0.55  0.95  0.99  0.34  0.24  0.80]\n",
      " [ 0.06  0.36  0.07  0.32  0.07  0.29  0.79  0.91  0.79  0.56]\n",
      " [ 0.62  0.36  0.17  0.44  0.73  0.06  0.02  0.77  0.30  0.70]\n",
      " [ 0.73  0.93  0.40  0.36  0.81  0.76  0.65  0.81  0.64  0.96]\n",
      " [ 0.33  0.74  0.95  0.33  0.61  0.37  0.46  0.08  0.02  0.76]\n",
      " [ 0.45  0.62  0.74  0.42  0.37  0.17  0.79  0.83  0.73  0.88]\n",
      " [ 0.65  0.70  0.19  0.77  0.33  0.44  0.32  0.57  0.66  0.58]\n",
      " [ 0.32  0.22  0.84  0.30  0.44  0.09  0.30  0.09  0.34  0.71]]\n"
     ]
    }
   ],
   "source": [
    "from experiments_utils import generate_parameters\n",
    "\n",
    "dim = 10\n",
    "max_jumps=10e3 * dim\n",
    "\n",
    "param_dict = generate_parameters(dim=dim, base_range=[0.05, 0.05], adj_range=[0.1, 0.2], seed=11)\n",
    "\n",
    "mu = torch.tensor(param_dict['baseline'])\n",
    "beta = torch.tensor(param_dict['beta'])\n",
    "alpha = torch.tensor(param_dict['adjacency'])\n",
    "\n",
    "print('Baseline:')\n",
    "print(mu.numpy().round(2))\n",
    "print('Alpha:')\n",
    "print(alpha.numpy().round(2))\n",
    "print('Beta:')\n",
    "print(beta.numpy().round(2))"
   ]
  },
  {
   "cell_type": "markdown",
   "metadata": {},
   "source": [
    "### Simulate a realization"
   ]
  },
  {
   "cell_type": "code",
   "execution_count": 6,
   "metadata": {},
   "outputs": [
    {
     "name": "stdout",
     "output_type": "stream",
     "text": [
      "  - Simulate lots of data...\n",
      "    - Simulated 100,000 events with end time: 43380.59375\n",
      "    - Events:\n",
      "      - dim  0 ( 8324 events): [     1.39      2.98     11.44 ...  43357.89  43370.88  43372.73]\n",
      "      - dim  1 (12055 events): [     2.04      2.10      3.43 ...  43375.81  43377.50  43378.11]\n",
      "      - dim  2 (11529 events): [     1.70      5.15      5.16 ...  43366.12  43369.10  43374.16]\n",
      "      - dim  3 ( 6273 events): [     3.67      5.88     13.23 ...  43364.19  43374.50  43379.12]\n",
      "      - dim  4 (13492 events): [     0.61      2.10      3.19 ...  43362.09  43374.03  43380.59]\n",
      "      - dim  5 (15108 events): [     1.16      1.81      4.38 ...  43366.21  43368.67  43377.57]\n",
      "      - dim  6 ( 9612 events): [     3.90      9.25     13.03 ...  43357.92  43363.57  43368.16]\n",
      "      - dim  7 ( 6859 events): [     1.71      7.51      8.54 ...  43360.66  43369.35  43375.08]\n",
      "      - dim  8 ( 5466 events): [     5.74      7.33     10.76 ...  43349.46  43350.56  43359.27]\n",
      "      - dim  9 (11282 events): [     0.62      4.19      4.68 ...  43366.23  43368.97  43372.40]\n"
     ]
    }
   ],
   "source": [
    "coeffs_true = torch.cat((mu, beta.flatten(), alpha.flatten())).numpy()\n",
    "print('  - Simulate lots of data...')\n",
    "# Simulate lots of data\n",
    "wold_sim = tsvar.simulate.MultivariateWoldSimulatorOther(\n",
    "    mu_a=mu, alpha_ba=alpha, beta_ba=beta)\n",
    "events = wold_sim.simulate(max_jumps=max_jumps, seed=1234)\n",
    "events = [torch.tensor(ev, dtype=torch.float) for ev in events]\n",
    "end_time = max(map(max, events))\n",
    "print((f\"    - Simulated {sum(map(len, events)):,d} events \"\n",
    "       f\"with end time: {end_time}\"))\n",
    "print(\"    - Events:\")\n",
    "for i, events_i in enumerate(events):\n",
    "    print(f\"      - dim {i:>2d} ({len(events_i):>5d} events):\", events_i.numpy())"
   ]
  },
  {
   "cell_type": "markdown",
   "metadata": {},
   "source": [
    "---"
   ]
  },
  {
   "cell_type": "code",
   "execution_count": 13,
   "metadata": {},
   "outputs": [],
   "source": [
    "from gb import GrangerBusca\n",
    "\n",
    "def run_gb(num_iter):\n",
    "    # Define model\n",
    "    granger_model = GrangerBusca(\n",
    "        alpha_prior=1.0/len(events), \n",
    "        num_iter=num_iter, \n",
    "        metropolis=True, \n",
    "        beta_strategy='busca',\n",
    "    ) #recommended parameters\n",
    "    granger_model.fit(events)\n",
    "\n",
    "    adj_hat = granger_model.Alpha_.toarray()\n",
    "    adj_hat = adj_hat / adj_hat.sum(axis=1)[:, None]\n",
    "    return adj_hat"
   ]
  },
  {
   "cell_type": "code",
   "execution_count": 14,
   "metadata": {},
   "outputs": [
    {
     "name": "stdout",
     "output_type": "stream",
     "text": [
      "1/100 - 300\n",
      "2/100 - 300\n",
      "3/100 - 300\n",
      "4/100 - 300\n",
      "5/100 - 300\n",
      "6/100 - 300\n",
      "7/100 - 300\n",
      "8/100 - 300\n",
      "9/100 - 300\n",
      "10/100 - 300\n",
      "11/100 - 500\n",
      "12/100 - 500\n",
      "13/100 - 500\n",
      "14/100 - 500\n",
      "15/100 - 500\n",
      "16/100 - 500\n",
      "17/100 - 500\n",
      "18/100 - 500\n",
      "19/100 - 500\n",
      "20/100 - 500\n",
      "21/100 - 834\n",
      "22/100 - 834\n",
      "23/100 - 834\n",
      "24/100 - 834\n",
      "25/100 - 834\n",
      "26/100 - 834\n",
      "27/100 - 834\n",
      "28/100 - 834\n",
      "29/100 - 834\n",
      "30/100 - 834\n",
      "31/100 - 1392\n",
      "32/100 - 1392\n",
      "33/100 - 1392\n",
      "34/100 - 1392\n",
      "35/100 - 1392\n",
      "36/100 - 1392\n",
      "37/100 - 1392\n",
      "38/100 - 1392\n",
      "39/100 - 1392\n",
      "40/100 - 1392\n",
      "41/100 - 2322\n",
      "42/100 - 2322\n",
      "43/100 - 2322\n",
      "44/100 - 2322\n",
      "45/100 - 2322\n",
      "46/100 - 2322\n",
      "47/100 - 2322\n",
      "48/100 - 2322\n",
      "49/100 - 2322\n",
      "50/100 - 2322\n",
      "51/100 - 3874\n",
      "52/100 - 3874\n",
      "53/100 - 3874\n",
      "54/100 - 3874\n",
      "55/100 - 3874\n",
      "56/100 - 3874\n",
      "57/100 - 3874\n",
      "58/100 - 3874\n",
      "59/100 - 3874\n",
      "60/100 - 3874\n",
      "61/100 - 6463\n",
      "62/100 - 6463\n",
      "63/100 - 6463\n",
      "64/100 - 6463\n",
      "65/100 - 6463\n",
      "66/100 - 6463\n",
      "67/100 - 6463\n",
      "68/100 - 6463\n",
      "69/100 - 6463\n",
      "70/100 - 6463\n",
      "71/100 - 10781\n",
      "72/100 - 10781\n",
      "73/100 - 10781\n",
      "74/100 - 10781\n",
      "75/100 - 10781\n",
      "76/100 - 10781\n",
      "77/100 - 10781\n",
      "78/100 - 10781\n",
      "79/100 - 10781\n",
      "80/100 - 10781\n",
      "81/100 - 17984\n",
      "82/100 - 17984\n",
      "83/100 - 17984\n",
      "84/100 - 17984\n",
      "85/100 - 17984\n",
      "86/100 - 17984\n",
      "87/100 - 17984\n",
      "88/100 - 17984\n",
      "89/100 - 17984\n",
      "90/100 - 17984\n",
      "91/100 - 30000\n",
      "92/100 - 30000\n",
      "93/100 - 30000\n",
      "94/100 - 30000\n",
      "95/100 - 30000\n",
      "96/100 - 30000\n",
      "97/100 - 30000\n",
      "98/100 - 30000\n",
      "99/100 - 30000\n",
      "100/100 - 30000\n"
     ]
    }
   ],
   "source": [
    "num_iter_range = np.logspace(np.log10(300), np.log10(30000), 10).astype(int)\n",
    "num_runs = 10\n",
    "\n",
    "res = list()\n",
    "\n",
    "for i, num_iter in enumerate(num_iter_range):\n",
    "    for j in range(num_runs):\n",
    "        print(f\"{i*num_runs + j + 1}/{num_runs * len(num_iter_range)} - {num_iter}\")\n",
    "        adj_hat = run_gb(num_iter)\n",
    "        res.append({\n",
    "            'num_iter': num_iter,\n",
    "            'j': j,\n",
    "            'adj_hat': adj_hat,\n",
    "        })"
   ]
  },
  {
   "cell_type": "code",
   "execution_count": 54,
   "metadata": {},
   "outputs": [],
   "source": [
    "import pickle\n",
    "with open('test-GB-convergence.pickle', 'wb') as f:\n",
    "    pickle.dump(res, f)"
   ]
  },
  {
   "cell_type": "code",
   "execution_count": 17,
   "metadata": {},
   "outputs": [
    {
     "data": {
      "text/html": [
       "<div>\n",
       "<style scoped>\n",
       "    .dataframe tbody tr th:only-of-type {\n",
       "        vertical-align: middle;\n",
       "    }\n",
       "\n",
       "    .dataframe tbody tr th {\n",
       "        vertical-align: top;\n",
       "    }\n",
       "\n",
       "    .dataframe thead th {\n",
       "        text-align: right;\n",
       "    }\n",
       "</style>\n",
       "<table border=\"1\" class=\"dataframe\">\n",
       "  <thead>\n",
       "    <tr style=\"text-align: right;\">\n",
       "      <th></th>\n",
       "      <th>num_iter</th>\n",
       "      <th>j</th>\n",
       "      <th>adj_hat</th>\n",
       "    </tr>\n",
       "  </thead>\n",
       "  <tbody>\n",
       "    <tr>\n",
       "      <th>0</th>\n",
       "      <td>300</td>\n",
       "      <td>0</td>\n",
       "      <td>[[0.3164745258460394, 0.10803272592041652, 0.0...</td>\n",
       "    </tr>\n",
       "    <tr>\n",
       "      <th>1</th>\n",
       "      <td>300</td>\n",
       "      <td>1</td>\n",
       "      <td>[[0.270219903093552, 0.09690644800596347, 0.00...</td>\n",
       "    </tr>\n",
       "    <tr>\n",
       "      <th>2</th>\n",
       "      <td>300</td>\n",
       "      <td>2</td>\n",
       "      <td>[[0.2274241302738712, 0.17468541820873426, 0.0...</td>\n",
       "    </tr>\n",
       "    <tr>\n",
       "      <th>3</th>\n",
       "      <td>300</td>\n",
       "      <td>3</td>\n",
       "      <td>[[0.2678670874327084, 0.1266010766660479, 0.0,...</td>\n",
       "    </tr>\n",
       "    <tr>\n",
       "      <th>4</th>\n",
       "      <td>300</td>\n",
       "      <td>4</td>\n",
       "      <td>[[0.2834105653382762, 0.038368860055607044, 0....</td>\n",
       "    </tr>\n",
       "    <tr>\n",
       "      <th>...</th>\n",
       "      <td>...</td>\n",
       "      <td>...</td>\n",
       "      <td>...</td>\n",
       "    </tr>\n",
       "    <tr>\n",
       "      <th>95</th>\n",
       "      <td>30000</td>\n",
       "      <td>5</td>\n",
       "      <td>[[0.2394083272461651, 0.0, 0.00876552227903579...</td>\n",
       "    </tr>\n",
       "    <tr>\n",
       "      <th>96</th>\n",
       "      <td>30000</td>\n",
       "      <td>6</td>\n",
       "      <td>[[0.27322206095791, 0.14150943396226415, 0.008...</td>\n",
       "    </tr>\n",
       "    <tr>\n",
       "      <th>97</th>\n",
       "      <td>30000</td>\n",
       "      <td>7</td>\n",
       "      <td>[[0.30652702449971947, 0.18552459322984852, 0....</td>\n",
       "    </tr>\n",
       "    <tr>\n",
       "      <th>98</th>\n",
       "      <td>30000</td>\n",
       "      <td>8</td>\n",
       "      <td>[[0.260114539072603, 0.004803251431738408, 0.0...</td>\n",
       "    </tr>\n",
       "    <tr>\n",
       "      <th>99</th>\n",
       "      <td>30000</td>\n",
       "      <td>9</td>\n",
       "      <td>[[0.3048108005324206, 0.0, 0.0, 0.095645559992...</td>\n",
       "    </tr>\n",
       "  </tbody>\n",
       "</table>\n",
       "<p>100 rows × 3 columns</p>\n",
       "</div>"
      ],
      "text/plain": [
       "    num_iter  j                                            adj_hat\n",
       "0        300  0  [[0.3164745258460394, 0.10803272592041652, 0.0...\n",
       "1        300  1  [[0.270219903093552, 0.09690644800596347, 0.00...\n",
       "2        300  2  [[0.2274241302738712, 0.17468541820873426, 0.0...\n",
       "3        300  3  [[0.2678670874327084, 0.1266010766660479, 0.0,...\n",
       "4        300  4  [[0.2834105653382762, 0.038368860055607044, 0....\n",
       "..       ... ..                                                ...\n",
       "95     30000  5  [[0.2394083272461651, 0.0, 0.00876552227903579...\n",
       "96     30000  6  [[0.27322206095791, 0.14150943396226415, 0.008...\n",
       "97     30000  7  [[0.30652702449971947, 0.18552459322984852, 0....\n",
       "98     30000  8  [[0.260114539072603, 0.004803251431738408, 0.0...\n",
       "99     30000  9  [[0.3048108005324206, 0.0, 0.0, 0.095645559992...\n",
       "\n",
       "[100 rows x 3 columns]"
      ]
     },
     "execution_count": 17,
     "metadata": {},
     "output_type": "execute_result"
    }
   ],
   "source": [
    "df = pd.DataFrame(res)\n",
    "df"
   ]
  },
  {
   "cell_type": "code",
   "execution_count": 19,
   "metadata": {},
   "outputs": [],
   "source": [
    "from sklearn.metrics import jaccard_score"
   ]
  },
  {
   "cell_type": "code",
   "execution_count": 52,
   "metadata": {},
   "outputs": [],
   "source": [
    "vals = {}\n",
    "\n",
    "for num_iter in num_iter_range:\n",
    "    vals[num_iter] = list()\n",
    "    for i in df[df.num_iter == num_iter].index:\n",
    "        for j in df[df.num_iter == num_iter].index:\n",
    "            if i == j:\n",
    "                continue\n",
    "            arr1 = np.array(df.loc[i]['adj_hat']).flatten() > 0.05\n",
    "            arr2 = np.array(df.loc[j]['adj_hat']).flatten() > 0.05\n",
    "            vals[num_iter].append(np.sum(arr1 ^ arr2) / len(arr1))"
   ]
  },
  {
   "cell_type": "code",
   "execution_count": 53,
   "metadata": {},
   "outputs": [
    {
     "data": {
      "text/plain": [
       "Text(0.5, 1.0, 'Analysis of variability of estimated \\nadjacency matrix by GB')"
      ]
     },
     "execution_count": 53,
     "metadata": {},
     "output_type": "execute_result"
    },
    {
     "data": {
      "image/png": "[encoded data removed]",
      "text/plain": [
       "<Figure size 432x288 with 1 Axes>"
      ]
     },
     "metadata": {
      "needs_background": "light"
     },
     "output_type": "display_data"
    }
   ],
   "source": [
    "plt.boxplot(vals.values(), labels=vals.keys());\n",
    "plt.xlabel('Number of iterations')\n",
    "plt.ylabel('Average number of different \\nlearned edges between runs')\n",
    "plt.title('Analysis of variability of estimated \\nadjacency matrix by GB')"
   ]
  }
 ],
 "metadata": {
  "kernelspec": {
   "display_name": "Python 3",
   "language": "python",
   "name": "python3"
  },
  "language_info": {
   "codemirror_mode": {
    "name": "ipython",
    "version": 3
   },
   "file_extension": ".py",
   "mimetype": "text/x-python",
   "name": "python",
   "nbconvert_exporter": "python",
   "pygments_lexer": "ipython3",
   "version": "3.6.10"
  }
 },
 "nbformat": 4,
 "nbformat_minor": 2
}

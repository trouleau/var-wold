{
 "cells": [
  {
   "cell_type": "code",
   "execution_count": 1,
   "metadata": {},
   "outputs": [],
   "source": [
    "%load_ext autoreload\n",
    "%autoreload 2"
   ]
  },
  {
   "cell_type": "code",
   "execution_count": 2,
   "metadata": {},
   "outputs": [],
   "source": [
    "import numpy as np\n",
    "import torch\n",
    "\n",
    "import tsvar"
   ]
  },
  {
   "cell_type": "code",
   "execution_count": 16,
   "metadata": {},
   "outputs": [],
   "source": [
    "events = [\n",
    "    torch.tensor([1.0, 3.0, 4.0, 5.0]),\n",
    "    torch.tensor([2.0, 4.5, 6.0])\n",
    "]\n",
    "\n",
    "num_events = list(map(len, events))\n",
    "num_events_tot = sum(num_events)\n",
    "dim = len(events)\n",
    "\n",
    "end_time = 6.2\n",
    "\n",
    "mu = torch.tensor([0.2, 0.1])\n",
    "\n",
    "beta = torch.tensor([1.0, 2.0])\n",
    "\n",
    "alpha = torch.tensor([\n",
    "    [0.1, 0.9],\n",
    "    [0.4, 0.6]\n",
    "])\n",
    "\n",
    "coeffs = torch.cat((mu, beta, alpha.flatten()))"
   ]
  },
  {
   "cell_type": "code",
   "execution_count": 17,
   "metadata": {},
   "outputs": [],
   "source": [
    "wmodel = tsvar.models.WoldModel()\n",
    "wmodel.observe(events, end_time)"
   ]
  },
  {
   "cell_type": "code",
   "execution_count": 18,
   "metadata": {
    "scrolled": true
   },
   "outputs": [
    {
     "data": {
      "text/plain": [
       "tensor([[0.0000, 0.0000],\n",
       "        [0.0000, 0.0000],\n",
       "        [2.0000, 1.0000],\n",
       "        [1.0000, 2.0000],\n",
       "        [1.0000, 0.5000]])"
      ]
     },
     "execution_count": 18,
     "metadata": {},
     "output_type": "execute_result"
    }
   ],
   "source": [
    "wmodel.delta_ikj[0]"
   ]
  },
  {
   "cell_type": "code",
   "execution_count": 19,
   "metadata": {
    "scrolled": false
   },
   "outputs": [
    {
     "name": "stdout",
     "output_type": "stream",
     "text": [
      "0 tensor([0.2000, 0.2000, 0.3667, 0.3500, 0.4100])\n",
      "tensor([0.1000, 0.4000])\n",
      "tensor([[1., 2.]])\n",
      "1 tensor([0.1000, 0.5500, 0.8333, 0.7214])\n",
      "tensor([0.9000, 0.6000])\n",
      "tensor([[1., 2.]])\n"
     ]
    },
    {
     "data": {
      "text/plain": [
       "tensor(-13.1327)"
      ]
     },
     "execution_count": 19,
     "metadata": {},
     "output_type": "execute_result"
    }
   ],
   "source": [
    "wmodel.log_likelihood(coeffs)"
   ]
  },
  {
   "cell_type": "code",
   "execution_count": 20,
   "metadata": {},
   "outputs": [
    {
     "data": {
      "text/plain": [
       "tensor(-13.1327)"
      ]
     },
     "execution_count": 20,
     "metadata": {},
     "output_type": "execute_result"
    }
   ],
   "source": [
    "from math import log\n",
    "\n",
    "lam_true = [\n",
    "    np.array([\n",
    "        0.2, \n",
    "        0.2, \n",
    "        0.2 + 0.1 / (1 + 2) + 0.4 / (2 + 1), \n",
    "        0.2 + 0.1 / (1 + 1) + 0.4 / (2 + 2)\n",
    "    ]),\n",
    "    np.array([\n",
    "        0.1, \n",
    "        0.1 + 0.9 / (1 + 1), \n",
    "        0.1 + 0.9 / (1 + 0.5) + 0.6 / (2 + 2.5)\n",
    "    ])\n",
    "]\n",
    "\n",
    "lam_end_true = [\n",
    "    0.2 + 0.1 / (1 + 1) + 0.4 / (2 + 0.5),\n",
    "    0.1 + 0.9 / (1 + 1) + 0.6 / (2 + 1.5)\n",
    "]\n",
    "\n",
    "ll_true = (\n",
    "    np.log(lam_true[0]).sum() \n",
    "    - np.sum(lam_true[0] * np.hstack((events[0][0], np.diff(events[0]))))\n",
    "    - lam_end_true[0] * (end_time - events[0][-1])\n",
    "    \n",
    "    + np.log(lam_true[1]).sum() \n",
    "    - np.sum(lam_true[1] * np.hstack((events[1][0], np.diff(events[1]))))\n",
    "    - lam_end_true[1] * (end_time - events[1][-1])\n",
    ")\n",
    "\n",
    "ll_true"
   ]
  },
  {
   "cell_type": "code",
   "execution_count": null,
   "metadata": {},
   "outputs": [],
   "source": []
  },
  {
   "cell_type": "code",
   "execution_count": null,
   "metadata": {},
   "outputs": [],
   "source": []
  }
 ],
 "metadata": {
  "kernelspec": {
   "display_name": "Python 3",
   "language": "python",
   "name": "python3"
  },
  "language_info": {
   "codemirror_mode": {
    "name": "ipython",
    "version": 3
   },
   "file_extension": ".py",
   "mimetype": "text/x-python",
   "name": "python",
   "nbconvert_exporter": "python",
   "pygments_lexer": "ipython3",
   "version": "3.6.10"
  }
 },
 "nbformat": 4,
 "nbformat_minor": 2
}

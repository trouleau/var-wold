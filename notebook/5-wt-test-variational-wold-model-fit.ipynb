{
 "cells": [
  {
   "cell_type": "code",
   "execution_count": 1,
   "metadata": {},
   "outputs": [],
   "source": [
    "%load_ext autoreload\n",
    "%autoreload 2"
   ]
  },
  {
   "cell_type": "code",
   "execution_count": 2,
   "metadata": {},
   "outputs": [],
   "source": [
    "%load_ext line_profiler"
   ]
  },
  {
   "cell_type": "code",
   "execution_count": 3,
   "metadata": {},
   "outputs": [],
   "source": [
    "import itertools\n",
    "import torch\n",
    "\n",
    "from tsvar.simulate import GrangerBuscaSimulator\n",
    "from tsvar.wold_model import VariationalWoldModel"
   ]
  },
  {
   "cell_type": "markdown",
   "metadata": {},
   "source": [
    "---\n",
    "\n",
    "## Generate small toy example dataset\n",
    "\n",
    "Define model parameters"
   ]
  },
  {
   "cell_type": "code",
   "execution_count": 4,
   "metadata": {},
   "outputs": [
    {
     "name": "stdout",
     "output_type": "stream",
     "text": [
      "w(0 -> 0) = 0.30\n",
      "w(1 -> 0) = 0.20\n",
      "w(2 -> 0) = 0.20\n",
      "w(0 -> 1) = 0.80\n",
      "w(1 -> 1) = 0.30\n",
      "w(2 -> 1) = 0.10\n",
      "w(0 -> 2) = 0.10\n",
      "w(1 -> 2) = 0.10\n",
      "w(2 -> 2) = 0.00\n"
     ]
    }
   ],
   "source": [
    "dim = 3\n",
    "\n",
    "baseline = np.array([0.1, 0.1, 0.2])\n",
    "\n",
    "# adjacency[i,j] = magnitude of influence from i to j\n",
    "adjacency = np.array([\n",
    "    [0.3, 0.8, 0.1],\n",
    "    [0.2, 0.3, 0.1],\n",
    "    [0.2, 0.1, 0.0]\n",
    "])\n",
    "\n",
    "end_time = 1e5\n",
    "\n",
    "for i, j in itertools.product(range(dim), repeat=2):\n",
    "    print(f\"w({j:d} -> {i:d}) = {adjacency[j,i]:.2f}\")"
   ]
  },
  {
   "cell_type": "markdown",
   "metadata": {},
   "source": [
    "Simulate a dataset"
   ]
  },
  {
   "cell_type": "code",
   "execution_count": 5,
   "metadata": {
    "scrolled": true
   },
   "outputs": [
    {
     "name": "stdout",
     "output_type": "stream",
     "text": [
      "[36304, 55138, 28497]\n",
      "\n",
      "tensor([2.5502e+00, 3.3542e+00, 9.4456e+00,  ..., 9.9993e+04, 9.9998e+04,\n",
      "        9.9998e+04])\n",
      "\n",
      "tensor([1.0916e+01, 1.1661e+01, 1.1825e+01,  ..., 9.9996e+04, 9.9996e+04,\n",
      "        9.9997e+04])\n",
      "\n",
      "tensor([5.7092e+00, 2.1376e+01, 2.8914e+01,  ..., 9.9992e+04, 9.9993e+04,\n",
      "        9.9995e+04])\n"
     ]
    }
   ],
   "source": [
    "wold_sim = GrangerBuscaSimulator(mu_rates=baseline, Alpha_ba=adjacency, Beta_b=np.ones((dim,)))\n",
    "events = wold_sim.simulate(end_time, seed=42)\n",
    "events = [torch.tensor(ev, dtype=torch.float) for ev in events]\n",
    "\n",
    "\n",
    "print(list(map(len, events)))\n",
    "print()\n",
    "print(events[0])\n",
    "print()\n",
    "print(events[1])\n",
    "print()\n",
    "print(events[2])"
   ]
  },
  {
   "cell_type": "markdown",
   "metadata": {},
   "source": [
    "---\n",
    "\n",
    "## Test variational inference algorithm"
   ]
  },
  {
   "cell_type": "markdown",
   "metadata": {},
   "source": [
    "Create model object and set the data."
   ]
  },
  {
   "cell_type": "code",
   "execution_count": 6,
   "metadata": {},
   "outputs": [],
   "source": [
    "self = VariationalWoldModel(verbose=True)\n",
    "self.set_data(events)"
   ]
  },
  {
   "cell_type": "markdown",
   "metadata": {},
   "source": [
    "Define the parameters of the prior."
   ]
  },
  {
   "cell_type": "code",
   "execution_count": 10,
   "metadata": {},
   "outputs": [],
   "source": [
    "as_pr = 1.0 * np.ones((dim + 1, dim))\n",
    "ar_pr = 1.0 * np.ones((dim + 1, dim))\n",
    "\n",
    "# lamb = 2.0 * (dim + 1) * np.ones(dim + 1)\n",
    "lamb = 0.01 * self.n_jumps\n",
    "\n",
    "zc_pr = [1.0 * np.ones((len(events[i]), dim+1)) for i in range(dim)]"
   ]
  },
  {
   "cell_type": "code",
   "execution_count": 12,
   "metadata": {
    "scrolled": true
   },
   "outputs": [
    {
     "name": "stdout",
     "output_type": "stream",
     "text": [
      "-------------------------------------------------- 0\n",
      "Alpha posterior shape:\n",
      "[[1. 1. 1.]\n",
      " [1. 1. 1.]\n",
      " [1. 1. 1.]\n",
      " [1. 1. 1.]]\n",
      "Z posterior probabilities\n",
      "[[0.25 0.25 0.25 0.25]\n",
      " [0.25 0.25 0.25 0.25]\n",
      " [0.25 0.25 0.25 0.25]\n",
      " ...\n",
      " [0.25 0.25 0.25 0.25]\n",
      " [0.25 0.25 0.25 0.25]\n",
      " [0.25 0.25 0.25 0.25]]\n",
      "-------------------------------------------------- 1\n",
      "[36304 55138 28497]\n",
      "Alpha posterior shape:\n",
      "[[ 8977.   13685.5   7025.25]\n",
      " [ 8977.   13685.5   7025.25]\n",
      " [ 8977.   13685.5   7025.25]\n",
      " [ 8977.   13685.5   7025.25]]\n",
      "0.622597316673121 0.9999989754903778\n",
      "0.6226428217590246 0.9999989754903779\n",
      "0.622634018417539 0.9999989754903776\n",
      "Z posterior probabilities\n",
      "[[1.      0.      0.      0.     ]\n",
      " [1.      0.      0.      0.     ]\n",
      " [0.64337 0.35663 0.      0.     ]\n",
      " ...\n",
      " [0.50994 0.25299 0.10494 0.13213]\n",
      " [0.49364 0.15116 0.06928 0.28591]\n",
      " [0.47078 0.08323 0.30903 0.13696]]\n",
      "-------------------------------------------------- 2\n",
      "[36304 55138 28497]\n",
      "Alpha posterior shape:\n",
      "[[16617.31958 25005.10849 13138.31107]\n",
      " [ 6245.88152  9871.90879  4846.5093 ]\n",
      " [ 7475.63483 11525.86368  5798.46449]\n",
      " [ 5569.16406  8339.11904  4317.71514]]\n"
     ]
    },
    {
     "name": "stderr",
     "output_type": "stream",
     "text": [
      "/Users/trouleau/Workspace/EPFL/research/ongoing/var-wold/tsvar/wold_model.py:238: RuntimeWarning: divide by zero encountered in log\n",
      "  - digamma(Fi_k[:, np.newaxis]) - np.log(C_ik[i][:, np.newaxis]))\n"
     ]
    },
    {
     "name": "stdout",
     "output_type": "stream",
     "text": [
      "0.7859510998361572 0.9999943750873567\n",
      "0.7823714376032459 0.999994623682633\n",
      "0.7889537580327048 0.9999941699199634\n",
      "Z posterior probabilities\n",
      "[[1.      0.      0.      0.     ]\n",
      " [1.      0.      0.      0.     ]\n",
      " [0.82759 0.17241 0.      0.     ]\n",
      " ...\n",
      " [0.73213 0.13652 0.06778 0.06357]\n",
      " [0.72869 0.08387 0.04601 0.14144]\n",
      " [0.68529 0.04554 0.20236 0.06681]]\n",
      "-------------------------------------------------- 3\n",
      "[36304 55138 28497]\n",
      "Alpha posterior shape:\n",
      "[[24540.66981 36771.59692 19456.65637]\n",
      " [ 3531.08309  5846.11226  2683.85848]\n",
      " [ 5035.36915  7945.33498  3834.68273]\n",
      " [ 2800.87795  4178.95584  2125.80242]]\n",
      "0.8939721157857707 0.9999728677293767\n",
      "0.8891567888124464 0.9999749403979447\n",
      "0.8976673824876783 0.9999711758114064\n",
      "Z posterior probabilities\n",
      "[[1.      0.      0.      0.     ]\n",
      " [1.      0.      0.      0.     ]\n",
      " [0.92614 0.07386 0.      0.     ]\n",
      " ...\n",
      " [0.87476 0.06244 0.03693 0.02587]\n",
      " [0.87801 0.03868 0.02528 0.05803]\n",
      " [0.83801 0.02132 0.11286 0.02782]]\n",
      "-------------------------------------------------- 4\n",
      "[36304 55138 28497]\n",
      "Alpha posterior shape:\n",
      "[[30274.30167 45444.33861 23960.32149]\n",
      " [ 1650.94176  2916.85848  1208.21663]\n",
      " [ 2839.30602  4643.3277   2101.84968]\n",
      " [ 1143.45055  1737.47521   830.6122 ]]\n",
      "0.9524486165983432 0.9999227758246646\n",
      "0.9481313159091791 0.9999288828217375\n",
      "0.9555851584556042 0.9999179647658009\n",
      "Z posterior probabilities\n",
      "[[1.      0.      0.      0.     ]\n",
      " [1.      0.      0.      0.     ]\n",
      " [0.97067 0.02933 0.      0.     ]\n",
      " ...\n",
      " [0.94686 0.02561 0.01827 0.00926]\n",
      " [0.95082 0.01587 0.01251 0.02079]\n",
      " [0.92407 0.00891 0.05688 0.01015]]\n",
      "-------------------------------------------------- 5\n",
      "[36304 55138 28497]\n",
      "Alpha posterior shape:\n",
      "[[33501.87944 50462.33894 26444.03639]\n",
      " [  642.92192  1267.54894   433.78876]\n",
      " [ 1403.05384  2419.00229   993.6328 ]\n",
      " [  360.1448    593.10982   229.54205]]\n",
      "0.9806167414125982 0.9998646853242532\n",
      "0.9772832085241995 0.9998736713112545\n",
      "0.9829994748719068 0.9998578457058249\n",
      "Z posterior probabilities\n",
      "[[1.      0.      0.      0.     ]\n",
      " [1.      0.      0.      0.     ]\n",
      " [0.98948 0.01052 0.      0.     ]\n",
      " ...\n",
      " [0.97952 0.00932 0.00844 0.00272]\n",
      " [0.98235 0.00577 0.00577 0.00611]\n",
      " [0.96712 0.00328 0.02658 0.00302]]\n",
      "-------------------------------------------------- 6\n",
      "[36304 55138 28497]\n",
      "Alpha posterior shape:\n",
      "[[35086.62461 53001.91257 27638.13633]\n",
      " [  175.71313   465.57357    82.86884]\n",
      " [  607.39989  1149.3399    392.81277]\n",
      " [   38.26237   125.17396   -12.81795]]\n"
     ]
    },
    {
     "ename": "RuntimeError",
     "evalue": "Negative alpha!",
     "output_type": "error",
     "traceback": [
      "\u001b[0;31m---------------------------------------------------------------------------\u001b[0m",
      "\u001b[0;31mRuntimeError\u001b[0m                              Traceback (most recent call last)",
      "\u001b[0;32m<ipython-input-12-bebdc9a94e06>\u001b[0m in \u001b[0;36m<module>\u001b[0;34m\u001b[0m\n\u001b[0;32m----> 1\u001b[0;31m \u001b[0mself\u001b[0m\u001b[0;34m.\u001b[0m\u001b[0mfit\u001b[0m\u001b[0;34m(\u001b[0m\u001b[0mas_pr\u001b[0m\u001b[0;34m=\u001b[0m\u001b[0mas_pr\u001b[0m\u001b[0;34m,\u001b[0m \u001b[0mar_pr\u001b[0m\u001b[0;34m=\u001b[0m\u001b[0mar_pr\u001b[0m\u001b[0;34m,\u001b[0m \u001b[0mzc_pr\u001b[0m\u001b[0;34m=\u001b[0m\u001b[0mzc_pr\u001b[0m\u001b[0;34m,\u001b[0m \u001b[0mlamb\u001b[0m\u001b[0;34m=\u001b[0m\u001b[0mlamb\u001b[0m\u001b[0;34m,\u001b[0m \u001b[0mmax_iter\u001b[0m\u001b[0;34m=\u001b[0m\u001b[0;36m100\u001b[0m\u001b[0;34m,\u001b[0m \u001b[0mtol\u001b[0m\u001b[0;34m=\u001b[0m\u001b[0;36m1e-5\u001b[0m\u001b[0;34m)\u001b[0m\u001b[0;34m\u001b[0m\u001b[0;34m\u001b[0m\u001b[0m\n\u001b[0m",
      "\u001b[0;32m~/Workspace/EPFL/research/ongoing/var-wold/tsvar/utils/decorators.py\u001b[0m in \u001b[0;36mwrapped\u001b[0;34m(self, *args, **kwargs)\u001b[0m\n\u001b[1;32m      4\u001b[0m     \u001b[0;32mdef\u001b[0m \u001b[0mwrapped\u001b[0m\u001b[0;34m(\u001b[0m\u001b[0mself\u001b[0m\u001b[0;34m,\u001b[0m \u001b[0;34m*\u001b[0m\u001b[0margs\u001b[0m\u001b[0;34m,\u001b[0m \u001b[0;34m**\u001b[0m\u001b[0mkwargs\u001b[0m\u001b[0;34m)\u001b[0m\u001b[0;34m:\u001b[0m\u001b[0;34m\u001b[0m\u001b[0;34m\u001b[0m\u001b[0m\n\u001b[1;32m      5\u001b[0m         \u001b[0;32mif\u001b[0m \u001b[0mself\u001b[0m\u001b[0;34m.\u001b[0m\u001b[0m_fitted\u001b[0m\u001b[0;34m:\u001b[0m\u001b[0;34m\u001b[0m\u001b[0;34m\u001b[0m\u001b[0m\n\u001b[0;32m----> 6\u001b[0;31m             \u001b[0;32mreturn\u001b[0m \u001b[0mfn\u001b[0m\u001b[0;34m(\u001b[0m\u001b[0mself\u001b[0m\u001b[0;34m,\u001b[0m \u001b[0;34m*\u001b[0m\u001b[0margs\u001b[0m\u001b[0;34m,\u001b[0m \u001b[0;34m**\u001b[0m\u001b[0mkwargs\u001b[0m\u001b[0;34m)\u001b[0m\u001b[0;34m\u001b[0m\u001b[0;34m\u001b[0m\u001b[0m\n\u001b[0m\u001b[1;32m      7\u001b[0m         \u001b[0;32melse\u001b[0m\u001b[0;34m:\u001b[0m\u001b[0;34m\u001b[0m\u001b[0;34m\u001b[0m\u001b[0m\n\u001b[1;32m      8\u001b[0m             raise Exception(('Model is not properly set. '\n",
      "\u001b[0;32m~/Workspace/EPFL/research/ongoing/var-wold/tsvar/wold_model.py\u001b[0m in \u001b[0;36mfit\u001b[0;34m(self, as_pr, ar_pr, zc_pr, lamb, max_iter, tol)\u001b[0m\n\u001b[1;32m    294\u001b[0m             \u001b[0mprint\u001b[0m\u001b[0;34m(\u001b[0m\u001b[0mself\u001b[0m\u001b[0;34m.\u001b[0m\u001b[0m_as_po\u001b[0m\u001b[0;34m)\u001b[0m\u001b[0;34m\u001b[0m\u001b[0;34m\u001b[0m\u001b[0m\n\u001b[1;32m    295\u001b[0m             \u001b[0;32mif\u001b[0m \u001b[0mself\u001b[0m\u001b[0;34m.\u001b[0m\u001b[0m_as_po\u001b[0m\u001b[0;34m.\u001b[0m\u001b[0mmin\u001b[0m\u001b[0;34m(\u001b[0m\u001b[0;34m)\u001b[0m \u001b[0;34m<\u001b[0m \u001b[0;36m0\u001b[0m\u001b[0;34m:\u001b[0m\u001b[0;34m\u001b[0m\u001b[0;34m\u001b[0m\u001b[0m\n\u001b[0;32m--> 296\u001b[0;31m                 \u001b[0;32mraise\u001b[0m \u001b[0mRuntimeError\u001b[0m\u001b[0;34m(\u001b[0m\u001b[0;34m\"Negative alpha!\"\u001b[0m\u001b[0;34m)\u001b[0m\u001b[0;34m\u001b[0m\u001b[0;34m\u001b[0m\u001b[0m\n\u001b[0m\u001b[1;32m    297\u001b[0m \u001b[0;34m\u001b[0m\u001b[0m\n\u001b[1;32m    298\u001b[0m             \u001b[0;31m# Cache `C_ik` values\u001b[0m\u001b[0;34m\u001b[0m\u001b[0;34m\u001b[0m\u001b[0;34m\u001b[0m\u001b[0m\n",
      "\u001b[0;31mRuntimeError\u001b[0m: Negative alpha!"
     ]
    }
   ],
   "source": [
    "self.fit(as_pr=as_pr, ar_pr=ar_pr, zc_pr=zc_pr, lamb=lamb, max_iter=100, tol=1e-5)"
   ]
  },
  {
   "cell_type": "code",
   "execution_count": null,
   "metadata": {},
   "outputs": [],
   "source": [
    "self.delta_ikj[0].shape"
   ]
  },
  {
   "cell_type": "code",
   "execution_count": null,
   "metadata": {},
   "outputs": [],
   "source": [
    "self.valid_mask_ikj[0]"
   ]
  },
  {
   "cell_type": "code",
   "execution_count": null,
   "metadata": {},
   "outputs": [],
   "source": []
  },
  {
   "cell_type": "code",
   "execution_count": null,
   "metadata": {},
   "outputs": [],
   "source": []
  }
 ],
 "metadata": {
  "kernelspec": {
   "display_name": "Python 3",
   "language": "python",
   "name": "python3"
  },
  "language_info": {
   "codemirror_mode": {
    "name": "ipython",
    "version": 3
   },
   "file_extension": ".py",
   "mimetype": "text/x-python",
   "name": "python",
   "nbconvert_exporter": "python",
   "pygments_lexer": "ipython3",
   "version": "3.6.10"
  }
 },
 "nbformat": 4,
 "nbformat_minor": 2
}

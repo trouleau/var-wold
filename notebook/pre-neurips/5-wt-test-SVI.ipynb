{
 "cells": [
  {
   "cell_type": "markdown",
   "metadata": {},
   "source": [
    "# Test Variational Inference algorithms for Wold processes\n",
    "\n",
    "In this notebook, we test the various variational inference (VI) algorithms implemented for the multivariate Wold process. Namely:\n",
    "\n",
    "* `WoldModelVariational`: VI with parameters $\\alpha$ and $\\beta$\n",
    "\n",
    "with the **new updates** involving solving a set of 2d^2 1-dimensional equations.\n",
    "\n",
    "---"
   ]
  },
  {
   "cell_type": "markdown",
   "metadata": {},
   "source": [
    "Load extensions for debugging"
   ]
  },
  {
   "cell_type": "code",
   "execution_count": 1,
   "metadata": {},
   "outputs": [],
   "source": [
    "%load_ext autoreload\n",
    "%autoreload 2\n",
    "\n",
    "%load_ext line_profiler"
   ]
  },
  {
   "cell_type": "markdown",
   "metadata": {},
   "source": [
    "Import the libraries of interest for this notebook"
   ]
  },
  {
   "cell_type": "code",
   "execution_count": 2,
   "metadata": {},
   "outputs": [],
   "source": [
    "from matplotlib import pyplot as plt\n",
    "%matplotlib inline\n",
    "\n",
    "import itertools\n",
    "import torch\n",
    "import numpy as np\n",
    "\n",
    "# Set numpy print format\n",
    "np.set_printoptions(precision=2, floatmode='fixed', sign=' ')\n",
    "\n",
    "import tsvar"
   ]
  },
  {
   "cell_type": "markdown",
   "metadata": {},
   "source": [
    "---\n",
    "\n",
    "## Generate toy example dataset\n"
   ]
  },
  {
   "cell_type": "markdown",
   "metadata": {},
   "source": [
    "### V1. Small 2-dimensional toy setting"
   ]
  },
  {
   "cell_type": "raw",
   "metadata": {},
   "source": [
    "# Define random parameters\n",
    "dim = 2  # Dimensionality of the process\n",
    "\n",
    "#max_jumps= 5e3 * dim  # Number of events\n",
    "max_jumps = int(1e5)\n",
    "\n",
    "mu = torch.tensor([0.3, 0.1])\n",
    "beta = torch.tensor([\n",
    "    [1.0, 0.2],\n",
    "    [0.5, 0.1]\n",
    "])\n",
    "# Use the same constraint as GrangerBusca to allow fair comparison\n",
    "alpha = torch.tensor([\n",
    "    [0.7, 0.3],\n",
    "    [0.0, 1.0]\n",
    "])\n",
    "\n",
    "print('Baseline:')\n",
    "print(mu.numpy().round(2))\n",
    "print('Alpha:')\n",
    "print(alpha.numpy().round(2))\n",
    "print('Beta:')\n",
    "print(beta.numpy().round(2))"
   ]
  },
  {
   "cell_type": "markdown",
   "metadata": {},
   "source": [
    "### V2. Larger setting"
   ]
  },
  {
   "cell_type": "code",
   "execution_count": 3,
   "metadata": {},
   "outputs": [
    {
     "name": "stdout",
     "output_type": "stream",
     "text": [
      "Baseline:\n",
      "[ 0.05  0.05  0.05  0.05  0.05]\n",
      "Alpha:\n",
      "[[ 0.16  0.17  0.18  0.19  0.18]\n",
      " [ 0.14  0.18  0.13  0.00  0.00]\n",
      " [ 0.17  0.00  0.00  0.18  0.18]\n",
      " [ 0.16  0.19  0.14  0.18  0.00]\n",
      " [ 0.13  0.18  0.18  0.17  0.17]]\n",
      "Beta:\n",
      "[[ 0.82  0.51  0.13  0.21  0.63]\n",
      " [ 0.91  0.69  0.21  0.21  0.04]\n",
      " [ 0.18  0.17  0.18  0.90  0.13]\n",
      " [ 0.76  0.77  0.41  0.33  0.21]\n",
      " [ 0.28  0.63  0.66  0.71  0.61]]\n"
     ]
    }
   ],
   "source": [
    "from experiments_utils import generate_parameters\n",
    "\n",
    "dim = 5\n",
    "# max_jumps = 5e3 * dim\n",
    "max_jumps = int(1e4)\n",
    "\n",
    "param_dict = generate_parameters(dim=dim, base_range=[0.05, 0.05], adj_range=[0.1, 0.2])\n",
    "\n",
    "mu = torch.tensor(param_dict['baseline'])\n",
    "beta = torch.tensor(param_dict['beta'])\n",
    "alpha = torch.tensor(param_dict['adjacency'])\n",
    "\n",
    "print('Baseline:')\n",
    "print(mu.numpy().round(2))\n",
    "print('Alpha:')\n",
    "print(alpha.numpy().round(2))\n",
    "print('Beta:')\n",
    "print(beta.numpy().round(2))"
   ]
  },
  {
   "cell_type": "markdown",
   "metadata": {},
   "source": [
    "### Simulate a realization"
   ]
  },
  {
   "cell_type": "code",
   "execution_count": 4,
   "metadata": {},
   "outputs": [
    {
     "name": "stdout",
     "output_type": "stream",
     "text": [
      "  - Simulate lots of data...\n",
      "    - Simulated 10,000 events with end time: 9903.283203125\n",
      "    - Events:\n",
      "      - dim  0 ( 2193 events): [    6.00     9.57     9.97 ...  9895.56  9898.86  9900.08]\n",
      "      - dim  1 ( 2061 events): [    6.78     9.54    20.28 ...  9886.10  9890.66  9899.38]\n",
      "      - dim  2 ( 2018 events): [   10.60    11.19    18.73 ...  9867.59  9877.77  9891.08]\n",
      "      - dim  3 ( 2080 events): [    4.15    20.93    27.35 ...  9890.09  9902.74  9903.28]\n",
      "      - dim  4 ( 1648 events): [   25.02    36.47    42.65 ...  9875.28  9900.29  9900.55]\n"
     ]
    }
   ],
   "source": [
    "coeffs_true = torch.cat((mu, beta.flatten(), alpha.flatten())).numpy()\n",
    "print('  - Simulate lots of data...')\n",
    "# Simulate lots of data\n",
    "wold_sim = tsvar.simulate.MultivariateWoldSimulator(\n",
    "    mu_a=mu, alpha_ba=alpha, beta_ba=beta)\n",
    "events = wold_sim.simulate(max_jumps=max_jumps, seed=None)\n",
    "events = [torch.tensor(ev, dtype=torch.float) for ev in events]\n",
    "end_time = max(map(max, events))\n",
    "print((f\"    - Simulated {sum(map(len, events)):,d} events \"\n",
    "       f\"with end time: {end_time}\"))\n",
    "print(\"    - Events:\")\n",
    "for i, events_i in enumerate(events):\n",
    "    print(f\"      - dim {i:>2d} ({len(events_i):>5d} events):\", events_i.numpy())"
   ]
  },
  {
   "cell_type": "markdown",
   "metadata": {},
   "source": [
    "---\n",
    "\n",
    "## Test Mean-Field VI with Variable $\\{\\beta\\}$s using `WoldModelVariational`"
   ]
  },
  {
   "cell_type": "markdown",
   "metadata": {},
   "source": [
    "Define the parameters of the prior."
   ]
  },
  {
   "cell_type": "code",
   "execution_count": 5,
   "metadata": {
    "scrolled": false
   },
   "outputs": [
    {
     "name": "stdout",
     "output_type": "stream",
     "text": [
      "ALPHA:\n",
      "------\n",
      "mean\n",
      "[[ 0.10  0.10  0.10  0.10  0.10]\n",
      " [ 0.10  0.10  0.10  0.10  0.10]\n",
      " [ 0.10  0.10  0.10  0.10  0.10]\n",
      " [ 0.10  0.10  0.10  0.10  0.10]\n",
      " [ 0.10  0.10  0.10  0.10  0.10]\n",
      " [ 0.10  0.10  0.10  0.10  0.10]]\n",
      "variance\n",
      "[[ 0.10  0.10  0.10  0.10  0.10]\n",
      " [ 0.10  0.10  0.10  0.10  0.10]\n",
      " [ 0.10  0.10  0.10  0.10  0.10]\n",
      " [ 0.10  0.10  0.10  0.10  0.10]\n",
      " [ 0.10  0.10  0.10  0.10  0.10]\n",
      " [ 0.10  0.10  0.10  0.10  0.10]]\n",
      "BETA:\n",
      "-----\n",
      "mean\n",
      "[[ 1.11  1.11  1.11  1.11  1.11]\n",
      " [ 1.11  1.11  1.11  1.11  1.11]\n",
      " [ 1.11  1.11  1.11  1.11  1.11]\n",
      " [ 1.11  1.11  1.11  1.11  1.11]\n",
      " [ 1.11  1.11  1.11  1.11  1.11]]\n",
      "variance\n",
      "[[ 0.15  0.15  0.15  0.15  0.15]\n",
      " [ 0.15  0.15  0.15  0.15  0.15]\n",
      " [ 0.15  0.15  0.15  0.15  0.15]\n",
      " [ 0.15  0.15  0.15  0.15  0.15]\n",
      " [ 0.15  0.15  0.15  0.15  0.15]]\n"
     ]
    }
   ],
   "source": [
    "# Set priors\n",
    "# prior: Alpha\n",
    "as_pr = 0.1 * np.ones((dim + 1, dim))\n",
    "ar_pr = 1.0 * np.ones((dim + 1, dim))\n",
    "\n",
    "# prior: Beta\n",
    "bs_pr = 10.0 * np.ones((dim, dim))\n",
    "br_pr = 10.0 * np.ones((dim, dim))\n",
    "\n",
    "# prior: Z\n",
    "zc_pr = [1.0 * np.ones((len(events[i]), dim+1)) for i in range(dim)]\n",
    "\n",
    "print('ALPHA:')\n",
    "print('------')\n",
    "print('mean')\n",
    "print(as_pr / ar_pr)\n",
    "print('variance')\n",
    "print(as_pr / ar_pr ** 2)\n",
    "\n",
    "print('BETA:')\n",
    "print('-----')\n",
    "print('mean')\n",
    "print(br_pr / (bs_pr - 1))\n",
    "print('variance')\n",
    "print(br_pr**2 / ((bs_pr - 1)**2 * (bs_pr - 2)))"
   ]
  },
  {
   "cell_type": "markdown",
   "metadata": {},
   "source": [
    "Fit the model."
   ]
  },
  {
   "cell_type": "code",
   "execution_count": 7,
   "metadata": {
    "scrolled": false
   },
   "outputs": [
    {
     "name": "stdout",
     "output_type": "stream",
     "text": [
      "iter:    10 | dx: +4.4583e-03 | acc: 0.80 | f1-score: 0.89 | relerr: 2.50e-01 | p@5: 1.00 | p@10: 1.00 | p@20: 1.00 | time/it: 4.67e+00     \n",
      "iter:    20 | dx: +2.2282e-03 | acc: 0.84 | f1-score: 0.91 | relerr: 2.36e-01 | p@5: 1.00 | p@10: 1.00 | p@20: 1.00 | time/it: 1.43e-02     \n",
      "iter:    30 | dx: +1.3584e-03 | acc: 0.92 | f1-score: 0.95 | relerr: 2.31e-01 | p@5: 1.00 | p@10: 1.00 | p@20: 1.00 | time/it: 1.74e-02     \n",
      "iter:    40 | dx: +9.0703e-04 | acc: 0.96 | f1-score: 0.98 | relerr: 2.28e-01 | p@5: 1.00 | p@10: 1.00 | p@20: 1.00 | time/it: 1.43e-02     \n",
      "iter:    50 | dx: +6.3280e-04 | acc: 0.96 | f1-score: 0.98 | relerr: 2.28e-01 | p@5: 1.00 | p@10: 1.00 | p@20: 1.00 | time/it: 1.41e-02     \n",
      "iter:    60 | dx: +4.6259e-04 | acc: 0.96 | f1-score: 0.98 | relerr: 2.28e-01 | p@5: 1.00 | p@10: 1.00 | p@20: 1.00 | time/it: 1.43e-02     \n",
      "iter:    70 | dx: +3.5803e-04 | acc: 0.96 | f1-score: 0.98 | relerr: 2.29e-01 | p@5: 1.00 | p@10: 1.00 | p@20: 1.00 | time/it: 1.47e-02     \n",
      "iter:    80 | dx: +2.9527e-04 | acc: 1.00 | f1-score: 1.00 | relerr: 2.29e-01 | p@5: 1.00 | p@10: 1.00 | p@20: 1.00 | time/it: 1.44e-02     \n",
      "iter:    90 | dx: +2.5028e-04 | acc: 1.00 | f1-score: 1.00 | relerr: 2.30e-01 | p@5: 1.00 | p@10: 1.00 | p@20: 1.00 | time/it: 1.51e-02     \n",
      "iter:   100 | dx: +2.0924e-04 | acc: 1.00 | f1-score: 1.00 | relerr: 2.31e-01 | p@5: 1.00 | p@10: 1.00 | p@20: 1.00 | time/it: 1.40e-02     \n",
      "iter:   110 | dx: +1.7838e-04 | acc: 1.00 | f1-score: 1.00 | relerr: 2.32e-01 | p@5: 1.00 | p@10: 1.00 | p@20: 1.00 | time/it: 1.47e-02     \n",
      "iter:   120 | dx: +1.5942e-04 | acc: 1.00 | f1-score: 1.00 | relerr: 2.32e-01 | p@5: 1.00 | p@10: 1.00 | p@20: 1.00 | time/it: 1.43e-02     \n",
      "iter:   130 | dx: +1.4539e-04 | acc: 1.00 | f1-score: 1.00 | relerr: 2.32e-01 | p@5: 1.00 | p@10: 1.00 | p@20: 1.00 | time/it: 1.50e-02     \n",
      "iter:   140 | dx: +1.3481e-04 | acc: 1.00 | f1-score: 1.00 | relerr: 2.32e-01 | p@5: 1.00 | p@10: 1.00 | p@20: 1.00 | time/it: 1.41e-02     \n",
      "iter:   150 | dx: +1.2740e-04 | acc: 1.00 | f1-score: 1.00 | relerr: 2.32e-01 | p@5: 1.00 | p@10: 1.00 | p@20: 1.00 | time/it: 1.51e-02     \n",
      "iter:   160 | dx: +1.2264e-04 | acc: 1.00 | f1-score: 1.00 | relerr: 2.32e-01 | p@5: 1.00 | p@10: 1.00 | p@20: 1.00 | time/it: 1.52e-02     \n",
      "iter:   170 | dx: +1.2038e-04 | acc: 1.00 | f1-score: 1.00 | relerr: 2.32e-01 | p@5: 1.00 | p@10: 1.00 | p@20: 1.00 | time/it: 1.48e-02     \n",
      "iter:   180 | dx: +1.2036e-04 | acc: 1.00 | f1-score: 1.00 | relerr: 2.31e-01 | p@5: 1.00 | p@10: 1.00 | p@20: 1.00 | time/it: 1.53e-02     \n",
      "iter:   190 | dx: +1.2263e-04 | acc: 1.00 | f1-score: 1.00 | relerr: 2.31e-01 | p@5: 1.00 | p@10: 1.00 | p@20: 1.00 | time/it: 1.50e-02     \n",
      "iter:   200 | dx: +1.2702e-04 | acc: 1.00 | f1-score: 1.00 | relerr: 2.31e-01 | p@5: 1.00 | p@10: 1.00 | p@20: 1.00 | time/it: 1.47e-02     \n",
      "iter:   210 | dx: +1.2916e-04 | acc: 1.00 | f1-score: 1.00 | relerr: 2.30e-01 | p@5: 1.00 | p@10: 1.00 | p@20: 1.00 | time/it: 1.44e-02     \n",
      "iter:   220 | dx: +8.1361e-05 | acc: 1.00 | f1-score: 1.00 | relerr: 2.30e-01 | p@5: 1.00 | p@10: 1.00 | p@20: 1.00 | time/it: 1.49e-02     \n",
      "iter:   230 | dx: +8.2572e-05 | acc: 1.00 | f1-score: 1.00 | relerr: 2.30e-01 | p@5: 1.00 | p@10: 1.00 | p@20: 1.00 | time/it: 1.45e-02     \n",
      "iter:   240 | dx: +8.4359e-05 | acc: 1.00 | f1-score: 1.00 | relerr: 2.30e-01 | p@5: 1.00 | p@10: 1.00 | p@20: 1.00 | time/it: 1.48e-02     \n",
      "iter:   250 | dx: +8.7493e-05 | acc: 1.00 | f1-score: 1.00 | relerr: 2.29e-01 | p@5: 1.00 | p@10: 1.00 | p@20: 1.00 | time/it: 1.47e-02     \n",
      "iter:   260 | dx: +9.2008e-05 | acc: 1.00 | f1-score: 1.00 | relerr: 2.29e-01 | p@5: 1.00 | p@10: 1.00 | p@20: 1.00 | time/it: 1.41e-02     \n",
      "iter:   270 | dx: +9.7986e-05 | acc: 1.00 | f1-score: 1.00 | relerr: 2.29e-01 | p@5: 1.00 | p@10: 1.00 | p@20: 1.00 | time/it: 1.43e-02     \n",
      "iter:   280 | dx: +1.0581e-04 | acc: 1.00 | f1-score: 1.00 | relerr: 2.29e-01 | p@5: 1.00 | p@10: 1.00 | p@20: 1.00 | time/it: 1.51e-02     \n",
      "iter:   290 | dx: +1.1588e-04 | acc: 1.00 | f1-score: 1.00 | relerr: 2.28e-01 | p@5: 1.00 | p@10: 1.00 | p@20: 1.00 | time/it: 1.44e-02     \n",
      "iter:   300 | dx: +1.2687e-04 | acc: 1.00 | f1-score: 1.00 | relerr: 2.28e-01 | p@5: 1.00 | p@10: 1.00 | p@20: 1.00 | time/it: 1.41e-02     \n",
      "iter:   310 | dx: +1.9175e-05 | acc: 1.00 | f1-score: 1.00 | relerr: 2.28e-01 | p@5: 1.00 | p@10: 1.00 | p@20: 1.00 | time/it: 1.48e-02     \n",
      "iter:   320 | dx: +2.1496e-05 | acc: 1.00 | f1-score: 1.00 | relerr: 2.28e-01 | p@5: 1.00 | p@10: 1.00 | p@20: 1.00 | time/it: 1.41e-02     \n",
      "iter:   330 | dx: +2.2700e-05 | acc: 1.00 | f1-score: 1.00 | relerr: 2.28e-01 | p@5: 1.00 | p@10: 1.00 | p@20: 1.00 | time/it: 1.57e-02     \n",
      "iter:   340 | dx: +2.2329e-05 | acc: 1.00 | f1-score: 1.00 | relerr: 2.28e-01 | p@5: 1.00 | p@10: 1.00 | p@20: 1.00 | time/it: 1.41e-02     \n",
      "iter:   350 | dx: +2.0385e-05 | acc: 1.00 | f1-score: 1.00 | relerr: 2.28e-01 | p@5: 1.00 | p@10: 1.00 | p@20: 1.00 | time/it: 1.41e-02     \n",
      "iter:   360 | dx: +2.1093e-05 | acc: 1.00 | f1-score: 1.00 | relerr: 2.28e-01 | p@5: 1.00 | p@10: 1.00 | p@20: 1.00 | time/it: 1.48e-02     \n",
      "iter:   370 | dx: +1.1552e-05 | acc: 1.00 | f1-score: 1.00 | relerr: 2.28e-01 | p@5: 1.00 | p@10: 1.00 | p@20: 1.00 | time/it: 1.43e-02     \n",
      "iter:   380 | dx: +1.1947e-05 | acc: 1.00 | f1-score: 1.00 | relerr: 2.28e-01 | p@5: 1.00 | p@10: 1.00 | p@20: 1.00 | time/it: 1.50e-02     \n",
      "iter:   390 | dx: +1.5213e-05 | acc: 1.00 | f1-score: 1.00 | relerr: 2.28e-01 | p@5: 1.00 | p@10: 1.00 | p@20: 1.00 | time/it: 1.45e-02     \n",
      "iter:   400 | dx: +1.5713e-05 | acc: 1.00 | f1-score: 1.00 | relerr: 2.28e-01 | p@5: 1.00 | p@10: 1.00 | p@20: 1.00 | time/it: 1.43e-02     \n",
      "iter:   410 | dx: +1.4203e-05 | acc: 1.00 | f1-score: 1.00 | relerr: 2.28e-01 | p@5: 1.00 | p@10: 1.00 | p@20: 1.00 | time/it: 1.42e-02     \n",
      "iter:   420 | dx: +5.9717e-06 | acc: 1.00 | f1-score: 1.00 | relerr: 2.28e-01 | p@5: 1.00 | p@10: 1.00 | p@20: 1.00 | time/it: 1.43e-02     \n",
      "iter:   430 | dx: +4.3720e-06 | acc: 1.00 | f1-score: 1.00 | relerr: 2.28e-01 | p@5: 1.00 | p@10: 1.00 | p@20: 1.00 | time/it: 1.40e-02     \n",
      "iter:   440 | dx: +7.7937e-06 | acc: 1.00 | f1-score: 1.00 | relerr: 2.28e-01 | p@5: 1.00 | p@10: 1.00 | p@20: 1.00 | time/it: 1.46e-02     \n",
      "iter:   450 | dx: +6.1404e-06 | acc: 1.00 | f1-score: 1.00 | relerr: 2.28e-01 | p@5: 1.00 | p@10: 1.00 | p@20: 1.00 | time/it: 1.72e-02     \n",
      "iter:   460 | dx: +4.9579e-06 | acc: 1.00 | f1-score: 1.00 | relerr: 2.28e-01 | p@5: 1.00 | p@10: 1.00 | p@20: 1.00 | time/it: 4.03e-02     \n",
      "iter:   470 | dx: +1.4852e-05 | acc: 1.00 | f1-score: 1.00 | relerr: 2.28e-01 | p@5: 1.00 | p@10: 1.00 | p@20: 1.00 | time/it: 1.57e-02     \n",
      "iter:   480 | dx: +7.9421e-06 | acc: 1.00 | f1-score: 1.00 | relerr: 2.28e-01 | p@5: 1.00 | p@10: 1.00 | p@20: 1.00 | time/it: 1.63e-02     \n",
      "iter:   490 | dx: +5.6019e-06 | acc: 1.00 | f1-score: 1.00 | relerr: 2.28e-01 | p@5: 1.00 | p@10: 1.00 | p@20: 1.00 | time/it: 1.46e-02     \n",
      "iter:   500 | dx: +5.8531e-06 | acc: 1.00 | f1-score: 1.00 | relerr: 2.28e-01 | p@5: 1.00 | p@10: 1.00 | p@20: 1.00 | time/it: 1.74e-02     \n",
      "iter:   510 | dx: +7.4010e-06 | acc: 1.00 | f1-score: 1.00 | relerr: 2.28e-01 | p@5: 1.00 | p@10: 1.00 | p@20: 1.00 | time/it: 1.71e-02     \n",
      "iter:   520 | dx: +5.7499e-06 | acc: 1.00 | f1-score: 1.00 | relerr: 2.28e-01 | p@5: 1.00 | p@10: 1.00 | p@20: 1.00 | time/it: 2.20e-02     \n",
      "iter:   530 | dx: +9.8600e-06 | acc: 1.00 | f1-score: 1.00 | relerr: 2.28e-01 | p@5: 1.00 | p@10: 1.00 | p@20: 1.00 | time/it: 3.48e-02     \n",
      "iter:   540 | dx: +6.6032e-06 | acc: 1.00 | f1-score: 1.00 | relerr: 2.28e-01 | p@5: 1.00 | p@10: 1.00 | p@20: 1.00 | time/it: 3.28e-02     \n",
      "iter:   550 | dx: +1.1019e-05 | acc: 1.00 | f1-score: 1.00 | relerr: 2.28e-01 | p@5: 1.00 | p@10: 1.00 | p@20: 1.00 | time/it: 2.03e-02     \n",
      "iter:   560 | dx: +1.5437e-05 | acc: 1.00 | f1-score: 1.00 | relerr: 2.28e-01 | p@5: 1.00 | p@10: 1.00 | p@20: 1.00 | time/it: 2.37e-02     \n",
      "iter:   570 | dx: +6.8089e-06 | acc: 1.00 | f1-score: 1.00 | relerr: 2.28e-01 | p@5: 1.00 | p@10: 1.00 | p@20: 1.00 | time/it: 2.97e-02     \n",
      "iter:   580 | dx: +6.0672e-06 | acc: 1.00 | f1-score: 1.00 | relerr: 2.28e-01 | p@5: 1.00 | p@10: 1.00 | p@20: 1.00 | time/it: 2.68e-02     \n",
      "iter:   590 | dx: +9.2386e-06 | acc: 1.00 | f1-score: 1.00 | relerr: 2.28e-01 | p@5: 1.00 | p@10: 1.00 | p@20: 1.00 | time/it: 2.37e-02     \n"
     ]
    },
    {
     "name": "stdout",
     "output_type": "stream",
     "text": [
      "iter:   600 | dx: +9.9148e-06 | acc: 1.00 | f1-score: 1.00 | relerr: 2.28e-01 | p@5: 1.00 | p@10: 1.00 | p@20: 1.00 | time/it: 1.86e-02     \n",
      "iter:   610 | dx: +6.6556e-06 | acc: 1.00 | f1-score: 1.00 | relerr: 2.28e-01 | p@5: 1.00 | p@10: 1.00 | p@20: 1.00 | time/it: 1.84e-02     \n",
      "iter:   620 | dx: +1.4289e-05 | acc: 1.00 | f1-score: 1.00 | relerr: 2.28e-01 | p@5: 1.00 | p@10: 1.00 | p@20: 1.00 | time/it: 2.04e-02     \n",
      "iter:   630 | dx: +1.1040e-05 | acc: 1.00 | f1-score: 1.00 | relerr: 2.28e-01 | p@5: 1.00 | p@10: 1.00 | p@20: 1.00 | time/it: 1.99e-02     \n",
      "iter:   640 | dx: +7.4491e-06 | acc: 1.00 | f1-score: 1.00 | relerr: 2.28e-01 | p@5: 1.00 | p@10: 1.00 | p@20: 1.00 | time/it: 1.76e-02     \n",
      "*** KeyboardInterrupt exception caught in code being profiled."
     ]
    }
   ],
   "source": [
    "class MyCallback(tsvar.utils.callbacks.LearnerCallbackMLE):\n",
    "    \n",
    "    def __init__(self, *args, **kwargs):\n",
    "        super().__init__(*args, **kwargs)\n",
    "        self.extra = {'bs_po':[], 'br_po':[], 'as_po':[], 'ar_po':[], 'zp_po': []}\n",
    "    \n",
    "    def __call__(self, obj, **kwargs):\n",
    "        super().__call__(obj, **kwargs)\n",
    "        self.extra['bs_po'].append(obj._bs_po)\n",
    "        self.extra['br_po'].append(obj._br_po)\n",
    "        self.extra['as_po'].append(obj._as_po)\n",
    "        self.extra['ar_po'].append(obj._ar_po)\n",
    "        self.extra['zp_po'].append(obj._zp_po)\n",
    "        \n",
    "# Set callback to monitor progress\n",
    "coeffs_start = alpha.numpy().flatten().copy()\n",
    "callback = MyCallback(x0=coeffs_start,print_every=10, \n",
    "                      coeffs_true=alpha.numpy().flatten(), \n",
    "                      acc_thresh=0.05, dim=dim, default_end='\\n')\n",
    "\n",
    "# Set model & observations\n",
    "vi_model = tsvar.models.WoldModelVariational(verbose=True)\n",
    "vi_model.observe(events)\n",
    "\n",
    "# Fit model\n",
    "vi_model.fit(as_pr=as_pr, ar_pr=ar_pr, bs_pr=bs_pr, br_pr=br_pr, zc_pr=zc_pr, \n",
    "             max_iter=2500, tol=1e-5, callback=callback)"
   ]
  },
  {
   "cell_type": "code",
   "execution_count": null,
   "metadata": {},
   "outputs": [],
   "source": []
  },
  {
   "cell_type": "code",
   "execution_count": null,
   "metadata": {},
   "outputs": [],
   "source": []
  },
  {
   "cell_type": "code",
   "execution_count": 30,
   "metadata": {
    "scrolled": true
   },
   "outputs": [
    {
     "data": {
      "text/plain": [
       "(array([1, 4]), array([4, 4]))"
      ]
     },
     "execution_count": 30,
     "metadata": {},
     "output_type": "execute_result"
    }
   ],
   "source": [
    "np.where(vi_model._bs_po < 0)"
   ]
  },
  {
   "cell_type": "code",
   "execution_count": 24,
   "metadata": {},
   "outputs": [],
   "source": [
    "j = 2\n",
    "i = 4"
   ]
  },
  {
   "cell_type": "code",
   "execution_count": 25,
   "metadata": {},
   "outputs": [],
   "source": [
    "#vi_model.fit(as_pr=as_pr, ar_pr=ar_pr, bs_pr=bs_pr, br_pr=br_pr, zc_pr=zc_pr, max_iter=0, tol=1e-5)\n",
    "\n",
    "vi_model._init_fit(as_pr=as_pr, ar_pr=ar_pr, bs_pr=bs_pr, br_pr=br_pr, zc_pr=zc_pr)\n",
    "vi_model._as_po, vi_model._ar_po = tsvar.models._wold_var_stochastic._update_alpha(\n",
    "    as_pr=vi_model._as_pr, ar_pr=vi_model._ar_pr, zp_po=vi_model._zp_po,\n",
    "    bs_po=vi_model._bs_po, br_po=vi_model._br_po, dt_ik=vi_model.dt_ik,\n",
    "    delta_ikj=vi_model.delta_ikj, valid_mask_ikj=vi_model.valid_mask_ikj)"
   ]
  },
  {
   "cell_type": "code",
   "execution_count": 26,
   "metadata": {},
   "outputs": [],
   "source": [
    "kwargs = {'bs_pr': vi_model._bs_pr, 'br_pr': vi_model._br_pr, \n",
    "          'as_po': vi_model._as_po, 'ar_po': vi_model._ar_po, \n",
    "          'zp_po': vi_model._zp_po, 'dts': vi_model.dt_ik, \n",
    "          'delta': vi_model.delta_ikj, 'valid_mask': vi_model.valid_mask_ikj}\n",
    "\n",
    "x = np.linspace(0.01, 10.0, 100)\n",
    "n = 0\n",
    "\n",
    "y = np.zeros_like(x)\n",
    "dy = np.zeros_like(x)\n",
    "dy2 = np.zeros_like(x)\n",
    "\n",
    "for ii, xx in enumerate(x):\n",
    "    y[ii], dy[ii], dy2[ii] = tsvar.models._wold_var_stochastic._beta_funcs(xx, j=j, i=i, n=n, **kwargs)"
   ]
  },
  {
   "cell_type": "code",
   "execution_count": 27,
   "metadata": {},
   "outputs": [
    {
     "name": "stdout",
     "output_type": "stream",
     "text": [
      "10.0\n"
     ]
    },
    {
     "data": {
      "text/plain": [
       "(-2000.0, 50)"
      ]
     },
     "execution_count": 27,
     "metadata": {},
     "output_type": "execute_result"
    },
    {
     "data": {
      "image/png": "[encoded data removed]",
      "text/plain": [
       "<Figure size 1080x360 with 1 Axes>"
      ]
     },
     "metadata": {
      "needs_background": "light"
     },
     "output_type": "display_data"
    }
   ],
   "source": [
    "plt.figure(figsize=(15, 5))\n",
    "plt.grid()\n",
    "\n",
    "root = x[y < 0][-1]\n",
    "print(root)\n",
    "plt.axvline(root, c='r', ls=':')\n",
    "plt.axhline(0.0, c='k', ls='-')\n",
    "\n",
    "plt.plot(x, y, c='C0', label='func')\n",
    "plt.plot(x, dy, c='C1', label=\"fprime\")\n",
    "plt.plot(x, dy2, c='C2', label='fprime2')\n",
    "\n",
    "plt.xticks(np.arange(0, 10.1, 1))\n",
    "plt.legend()\n",
    "\n",
    "plt.ylim(bottom=-2000.0, top=50)"
   ]
  },
  {
   "cell_type": "code",
   "execution_count": 14,
   "metadata": {},
   "outputs": [
    {
     "name": "stdout",
     "output_type": "stream",
     "text": [
      "CPU times: user 900 ms, sys: 18.9 ms, total: 918 ms\n",
      "Wall time: 1.02 s\n",
      "3.756447340423636\n"
     ]
    },
    {
     "data": {
      "text/plain": [
       "(-2.069499056567281e-07, 18.23978927432922, -39.465776037531114)"
      ]
     },
     "execution_count": 14,
     "metadata": {},
     "output_type": "execute_result"
    }
   ],
   "source": [
    "%time val_halley = tsvar.models._wold_var_stochastic.solve_halley(xstart=0.01, max_iter=10, tol=1e-5, j=j, i=i, n=n, **kwargs)\n",
    "\n",
    "print(val_halley)\n",
    "tsvar.models._wold_var_stochastic._beta_funcs(x=val_halley, j=j, i=i, n=n, **kwargs)"
   ]
  },
  {
   "cell_type": "code",
   "execution_count": 15,
   "metadata": {},
   "outputs": [
    {
     "name": "stdout",
     "output_type": "stream",
     "text": [
      "CPU times: user 3.87 s, sys: 46.4 ms, total: 3.92 s\n",
      "Wall time: 3.95 s\n",
      "4.878105773925782\n"
     ]
    },
    {
     "data": {
      "text/plain": [
       "(-0.21617787772283137, 155.55086922855145, -1569.569918175321)"
      ]
     },
     "execution_count": 15,
     "metadata": {},
     "output_type": "execute_result"
    }
   ],
   "source": [
    "%time val_bs = tsvar.models._wold_var_stochastic.solve_binary_search(x_min=0.01, x_max=50.0, max_iter=15, tol=1e-2, j=j, i=i, n=n, **kwargs)\n",
    "\n",
    "print(val_bs)\n",
    "tsvar.models._wold_var_stochastic._beta_funcs(x=val_bs, j=j, i=i, n=n, **kwargs)"
   ]
  },
  {
   "cell_type": "code",
   "execution_count": 16,
   "metadata": {},
   "outputs": [
    {
     "name": "stdout",
     "output_type": "stream",
     "text": [
      "CPU times: user 807 ms, sys: 15.1 ms, total: 822 ms\n",
      "Wall time: 822 ms\n",
      "3.755306238486294\n"
     ]
    },
    {
     "data": {
      "text/plain": [
       "(-0.020839341970039116, 18.28477561943905, -39.38154640994855)"
      ]
     },
     "execution_count": 16,
     "metadata": {},
     "output_type": "execute_result"
    }
   ],
   "source": [
    "%time val_nt = tsvar.models._wold_var_stochastic.solve_newton(xstart=0.1, max_iter=10, tol=1e-2, j=j, i=i, n=n, **kwargs)\n",
    "\n",
    "print(val_nt)\n",
    "tsvar.models._wold_var_stochastic._beta_funcs(x=val_nt, j=j, i=i, n=n, **kwargs)"
   ]
  },
  {
   "cell_type": "code",
   "execution_count": null,
   "metadata": {},
   "outputs": [],
   "source": []
  }
 ],
 "metadata": {
  "kernelspec": {
   "display_name": "Python 3",
   "language": "python",
   "name": "python3"
  },
  "language_info": {
   "codemirror_mode": {
    "name": "ipython",
    "version": 3
   },
   "file_extension": ".py",
   "mimetype": "text/x-python",
   "name": "python",
   "nbconvert_exporter": "python",
   "pygments_lexer": "ipython3",
   "version": "3.6.10"
  }
 },
 "nbformat": 4,
 "nbformat_minor": 2
}

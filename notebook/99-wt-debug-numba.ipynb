{
 "cells": [
  {
   "cell_type": "code",
   "execution_count": 9,
   "metadata": {},
   "outputs": [],
   "source": [
    "import numba\n",
    "import numpy as np\n",
    "import math\n",
    "\n",
    "import scipy.special"
   ]
  },
  {
   "cell_type": "code",
   "execution_count": 69,
   "metadata": {},
   "outputs": [],
   "source": [
    "EPS = 1e-8\n",
    "\n",
    "@numba.jit(nopython=True, fastmath=True, parallel=True)\n",
    "def digamma(arr, eps=EPS):\n",
    "    \"\"\"Digamma function (arr is assumed to be 2-dimensional)\"\"\"\n",
    "    lgamma_prime = np.zeros_like(arr)\n",
    "    if arr.ndim == 2:\n",
    "        for j in numba.prange(arr.shape[0]):\n",
    "            for i in numba.prange(arr.shape[1]):\n",
    "                lgamma_prime[j, i] = (math.lgamma(arr[j, i] + eps) - math.lgamma(arr[j, i])) / eps\n",
    "    elif arr.ndim == 1:\n",
    "        for i in numba.prange(arr.shape[0]):\n",
    "            lgamma_prime[i] = (math.lgamma(arr[i] + eps) - math.lgamma(arr[i])) / eps\n",
    "    return lgamma_prime\n",
    "\n",
    "\n",
    "@numba.jit(nopython=True, fastmath=True, parallel=True)\n",
    "def expect_alpha(as_po, ar_po):\n",
    "    \"\"\"Compute the expectation of alpha\"\"\"\n",
    "    return as_po / ar_po\n",
    "\n",
    "\n",
    "@numba.jit(nopython=True, fastmath=True)\n",
    "def outer_func(arr_list):\n",
    "    dim = len(arr_list)\n",
    "    res_list = list()\n",
    "    for i in numba.prange(dim):\n",
    "        arr = arr_list[i]\n",
    "        res = np.zeros_like(arr)\n",
    "        res += digamma(arr)\n",
    "        res_list.append(res)\n",
    "    return res_list"
   ]
  },
  {
   "cell_type": "code",
   "execution_count": 70,
   "metadata": {
    "scrolled": false
   },
   "outputs": [
    {
     "data": {
      "text/plain": [
       "[array([[0.22672, 6.34059, 9.06638, 1.15469, 6.63486],\n",
       "        [2.16741, 3.7488 , 8.76838, 4.10292, 8.21289]]),\n",
       " array([[9.50271, 6.26632, 7.53082, 4.61954, 7.26448],\n",
       "        [5.49205, 5.05811, 1.14606, 8.18206, 8.97928]]),\n",
       " array([[2.43879, 3.78439, 8.07794, 9.26902, 2.89617],\n",
       "        [0.78869, 3.27529, 0.32494, 4.44891, 7.52243]])]"
      ]
     },
     "execution_count": 70,
     "metadata": {},
     "output_type": "execute_result"
    }
   ],
   "source": [
    "arr_list = [np.random.random(size=(2, 5)) * 10.0 for i in range(3)]\n",
    "arr_list"
   ]
  },
  {
   "cell_type": "code",
   "execution_count": 72,
   "metadata": {
    "scrolled": false
   },
   "outputs": [
    {
     "data": {
      "text/plain": [
       "array([-4.66646,  0.52545])"
      ]
     },
     "execution_count": 72,
     "metadata": {},
     "output_type": "execute_result"
    }
   ],
   "source": [
    "arr = arr_list[0]\n",
    "digamma(arr[:, 0])"
   ]
  },
  {
   "cell_type": "code",
   "execution_count": 103,
   "metadata": {},
   "outputs": [
    {
     "data": {
      "text/plain": [
       "array([[0.6 , 0.4 ],\n",
       "       [0.53, 0.47],\n",
       "       [0.52, 0.48],\n",
       "       [0.4 , 0.6 ]])"
      ]
     },
     "execution_count": 103,
     "metadata": {},
     "output_type": "execute_result"
    }
   ],
   "source": [
    "np.random.seed(2)\n",
    "arr = np.random.random(size=(4, 2))\n",
    "\n",
    "arr_max = np.expand_dims(arr.max(axis=1), 1)\n",
    "arr -= arr_max\n",
    "\n",
    "arr = np.exp(arr)\n",
    "arr /= np.expand_dims(arr.sum(axis=1), 1)\n",
    "\n",
    "arr.round(2)"
   ]
  },
  {
   "cell_type": "code",
   "execution_count": 104,
   "metadata": {},
   "outputs": [
    {
     "data": {
      "text/plain": [
       "array([[0.6 , 0.4 ],\n",
       "       [0.53, 0.47],\n",
       "       [0.52, 0.48],\n",
       "       [0.4 , 0.6 ]])"
      ]
     },
     "execution_count": 104,
     "metadata": {},
     "output_type": "execute_result"
    }
   ],
   "source": [
    "np.random.seed(2)\n",
    "arr = np.random.random(size=(4, 2))\n",
    "\n",
    "arr_max = np.expand_dims(arr.max(axis=1), 0)\n",
    "arr = (arr.T - arr_max).T\n",
    "\n",
    "arr = np.exp(arr)\n",
    "arr /= np.expand_dims(arr.sum(axis=1), 1)\n",
    "\n",
    "arr.round(2)"
   ]
  },
  {
   "cell_type": "code",
   "execution_count": 21,
   "metadata": {},
   "outputs": [
    {
     "data": {
      "text/plain": [
       "0.9346108200349625"
      ]
     },
     "execution_count": 21,
     "metadata": {},
     "output_type": "execute_result"
    }
   ],
   "source": [
    "#@numba.njit()\n",
    "def func(arr):\n",
    "    return arr.max()\n",
    "\n",
    "func(arr)"
   ]
  },
  {
   "cell_type": "code",
   "execution_count": null,
   "metadata": {},
   "outputs": [],
   "source": []
  }
 ],
 "metadata": {
  "kernelspec": {
   "display_name": "Python 3",
   "language": "python",
   "name": "python3"
  },
  "language_info": {
   "codemirror_mode": {
    "name": "ipython",
    "version": 3
   },
   "file_extension": ".py",
   "mimetype": "text/x-python",
   "name": "python",
   "nbconvert_exporter": "python",
   "pygments_lexer": "ipython3",
   "version": "3.6.10"
  }
 },
 "nbformat": 4,
 "nbformat_minor": 4
}

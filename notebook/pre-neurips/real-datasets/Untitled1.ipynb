{
 "cells": [
  {
   "cell_type": "code",
   "execution_count": 1,
   "metadata": {},
   "outputs": [],
   "source": [
    "chunk_total = 20"
   ]
  },
  {
   "cell_type": "code",
   "execution_count": 6,
   "metadata": {},
   "outputs": [
    {
     "name": "stdout",
     "output_type": "stream",
     "text": [
      "0.0 0.05\n",
      "0.05 0.1\n",
      "------\n",
      "0.05 0.1\n",
      "0.1 0.15\n",
      "------\n",
      "0.1 0.15\n",
      "0.15 0.2\n",
      "------\n",
      "0.15 0.2\n",
      "0.2 0.25\n",
      "------\n",
      "0.2 0.25\n",
      "0.25 0.3\n",
      "------\n",
      "0.25 0.3\n",
      "0.3 0.35\n",
      "------\n",
      "0.3 0.35\n",
      "0.35 0.4\n",
      "------\n",
      "0.35 0.4\n",
      "0.4 0.45\n",
      "------\n",
      "0.4 0.45\n",
      "0.45 0.5\n",
      "------\n",
      "0.45 0.5\n",
      "0.5 0.55\n",
      "------\n",
      "0.5 0.55\n",
      "0.55 0.6\n",
      "------\n",
      "0.55 0.6\n",
      "0.6 0.65\n",
      "------\n",
      "0.6 0.65\n",
      "0.65 0.7\n",
      "------\n",
      "0.65 0.7\n",
      "0.7 0.75\n",
      "------\n",
      "0.7 0.75\n",
      "0.75 0.8\n",
      "------\n",
      "0.75 0.8\n",
      "0.8 0.85\n",
      "------\n",
      "0.8 0.85\n",
      "0.85 0.9\n",
      "------\n",
      "0.85 0.9\n",
      "0.9 0.95\n",
      "------\n",
      "0.9 0.95\n",
      "0.95 1.0\n",
      "------\n"
     ]
    }
   ],
   "source": [
    "for chunk_idx in range(chunk_total-1):\n",
    "    print(chunk_idx / chunk_total, (chunk_idx + 1) / chunk_total)\n",
    "    print((chunk_idx + 1) / chunk_total, (chunk_idx + 2) / chunk_total)\n"
   ]
  },
  {
   "cell_type": "code",
   "execution_count": null,
   "metadata": {},
   "outputs": [],
   "source": []
  }
 ],
 "metadata": {
  "kernelspec": {
   "display_name": "Python 3",
   "language": "python",
   "name": "python3"
  },
  "language_info": {
   "codemirror_mode": {
    "name": "ipython",
    "version": 3
   },
   "file_extension": ".py",
   "mimetype": "text/x-python",
   "name": "python",
   "nbconvert_exporter": "python",
   "pygments_lexer": "ipython3",
   "version": "3.7.7"
  }
 },
 "nbformat": 4,
 "nbformat_minor": 4
}

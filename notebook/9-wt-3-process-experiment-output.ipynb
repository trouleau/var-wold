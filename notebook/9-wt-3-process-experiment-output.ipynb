{
 "cells": [
  {
   "cell_type": "code",
   "execution_count": null,
   "metadata": {
    "scrolled": true
   },
   "outputs": [],
   "source": [
    "%load_ext autoreload\n",
    "%autoreload 2"
   ]
  },
  {
   "cell_type": "code",
   "execution_count": null,
   "metadata": {},
   "outputs": [],
   "source": [
    "import os\n",
    "import glob\n",
    "import json\n",
    "import torch\n",
    "import numpy as np\n",
    "import pandas as pd\n",
    "\n",
    "import matplotlib\n",
    "import matplotlib.ticker as ticker\n",
    "from matplotlib.backends.backend_pgf import FigureCanvasPgf\n",
    "from matplotlib import pyplot as plt\n",
    "%matplotlib inline\n",
    "\n",
    "import tsvar\n",
    "tsvar.plotting.set_aistat_matplotib_rcparams()"
   ]
  },
  {
   "cell_type": "code",
   "execution_count": null,
   "metadata": {},
   "outputs": [],
   "source": [
    "def build_Id(row):\n",
    "    return os.path.join(os.path.split(row['expId'])[1], row['outputIdx'])"
   ]
  },
  {
   "cell_type": "markdown",
   "metadata": {},
   "source": [
    "## Choose and Load Experiment"
   ]
  },
  {
   "cell_type": "raw",
   "metadata": {},
   "source": [
    "EXP_DIR = \"../output/aistats-rebuttal/dimRegime-5-mle-only-maxiter10k/\"\n",
    "output_df = tsvar.plotting.load_outputs(exp_dir=EXP_DIR)\n",
    "\n",
    "print(output_df.shape)\n",
    "output_df.head()"
   ]
  },
  {
   "cell_type": "code",
   "execution_count": null,
   "metadata": {},
   "outputs": [],
   "source": [
    "EXP_DIR = \"../output/pre-aistats-rebuttal/dimRegime-5-all\"\n",
    "all_output_df = tsvar.plotting.load_outputs(exp_dir=EXP_DIR)\n",
    "all_output_df['Id'] = all_output_df.apply(build_Id, axis=1)\n",
    "def filter_func(col): \n",
    "    return ((not col.startswith('mle')) \n",
    "            and (not col.startswith('bbvi')) \n",
    "            and (not col in ['adjacency']))\n",
    "cols = [col for col in all_output_df.columns if filter_func(col)]\n",
    "all_output_df = all_output_df.loc[:, cols]\n",
    "\n",
    "EXP_DIR_MLE = \"../output/pre-aistats-rebuttal/dimRegime-5-mle-only-maxiter10k/\"\n",
    "mle_output_df = tsvar.plotting.load_outputs(exp_dir=EXP_DIR_MLE)\n",
    "mle_output_df['Id'] = mle_output_df.apply(build_Id, axis=1)\n",
    "def filter_func(col):\n",
    "    return (col.startswith('mle')\n",
    "            or col.startswith('bbvi')\n",
    "            or col in ['Id', 'adjacency', 'dim'])\n",
    "mle_cols = [col for col in mle_output_df.columns if filter_func(col)]\n",
    "mle_output_df = mle_output_df.loc[:, mle_cols]\n",
    "\n",
    "output_df = pd.merge(all_output_df, mle_output_df, on='Id', how='outer',)\n",
    "output_df['dim'] = output_df['dim_y']"
   ]
  },
  {
   "cell_type": "markdown",
   "metadata": {},
   "source": [
    "---"
   ]
  },
  {
   "cell_type": "markdown",
   "metadata": {},
   "source": [
    "Process dataframe for plot"
   ]
  },
  {
   "cell_type": "code",
   "execution_count": null,
   "metadata": {
    "scrolled": false
   },
   "outputs": [],
   "source": [
    "suf_col_dict = {\n",
    "    #'mle': 'mle_adjacency', \n",
    "    'mle_other': 'mle_other_adjacency', \n",
    "    \n",
    "    'bbvi': 'bbvi_adj_mean', \n",
    "    #'bbvi': 'bbvi_adj_mode',\n",
    "    \n",
    "    'vi': 'vi_adj_mean',\n",
    "    #'vi': 'vi_adj_mode',\n",
    "    \n",
    "    #'vi_fixed_beta_mean': 'vi_fixed_beta_adj_mean',\n",
    "    #'vi_fixed_beta_mode': 'vi_fixed_beta_adj_mode',\n",
    "    \n",
    "    'gb': 'gb_adj_normed',\n",
    "}\n",
    "\n",
    "plot_df = tsvar.plotting.make_plot_df(output_df, suf_col_dict, agg_col='dim', threshold=0.05)\n",
    "plot_df"
   ]
  },
  {
   "cell_type": "raw",
   "metadata": {},
   "source": [
    "plot_df = plot_df.fillna(0.01)\n",
    "plot_df.loc[5, ('relerr_mle', 'std')] *= 0.5\n",
    "plot_df.loc[15, ('relerr_mle', 'std')] *= 0.5"
   ]
  },
  {
   "cell_type": "markdown",
   "metadata": {},
   "source": [
    "Check count"
   ]
  },
  {
   "cell_type": "code",
   "execution_count": null,
   "metadata": {
    "scrolled": false
   },
   "outputs": [],
   "source": [
    "plt.figure(figsize=(5.5, 1.45))\n",
    "plt.grid()\n",
    "plt.plot(plot_df.index, plot_df['acc_vi']['count'])\n",
    "plt.ylabel('Number of simulations')\n",
    "plt.xlabel('Number of Dimensions')\n",
    "plt.ylim(bottom=0);"
   ]
  },
  {
   "cell_type": "markdown",
   "metadata": {},
   "source": [
    "Plot"
   ]
  },
  {
   "cell_type": "code",
   "execution_count": null,
   "metadata": {
    "scrolled": false
   },
   "outputs": [],
   "source": [
    "tsvar.plotting.set_aistat_matplotib_rcparams()\n",
    "\n",
    "# List the metrics to plots:\n",
    "# --------------------------\n",
    "#   (metric_name, label)\n",
    "plot_meta_data = [\n",
    "#     ('f1score',     'F1-Score',         ), \n",
    "    ('relerr',      'Relative Error',   ),\n",
    "#    ('log_relerr',      'Relative Error',   ),\n",
    "    ('runtime_log', 'Runtime (in min)', ),\n",
    "#    ('runtime_lin', 'Runtime (in min)', ),\n",
    "        \n",
    "#    ('precAt5',     'Precision@5',      ),\n",
    "    ('precAt10',    'Precision@10',     ),\n",
    "#    ('precAt20',    'Precision@20',     ),\n",
    "#    ('precAt50',    'Precision@50',     ),\n",
    "#    ('precAt100', 'Precision@100',     ),\n",
    "#    ('precAt200', 'Precision@200',     ),\n",
    "    \n",
    "   ('num_iter', 'Number of iterations'), \n",
    "    \n",
    "    ('pr_auc', 'PR-AUC'),\n",
    "#     ('roc_auc', 'ROC-AUC'),\n",
    "]\n",
    "\n",
    "# List the methods to plots:\n",
    "# --------------------------\n",
    "#   (prefix, label,  color,  ls,   lw)\n",
    "queries_list = [    \n",
    "    ('vi',    'VI',   'C2', '-',  1.85),\n",
    "    ('gb',    'GB',   'C4', '-',  1.0),\n",
    "    ('bbvi',  'BBVI', 'C1', '-',  1.0), \n",
    "    #('mle',  'MLE',   'C0', '-',  1.0), \n",
    "    ('mle_other',  'MLE',   'C0', '-',  1.0), \n",
    "]\n",
    "\n",
    "exp_name = EXP_DIR.rstrip(os.path.sep).split(os.path.sep)[-1]\n",
    "output_dir = os.path.join('/Users/trouleau/Desktop/', exp_name)\n",
    "if not os.path.exists(output_dir):\n",
    "    os.mkdir(output_dir)\n",
    "\n",
    "for i, (prefix, ylabel) in enumerate(plot_meta_data):\n",
    "    print(prefix)\n",
    "    \n",
    "    plt.figure(figsize=(3.25, 1.75))\n",
    "    \n",
    "    max_val = -np.inf\n",
    "    min_val = np.inf\n",
    "    for suf, label, color, ls, lw in queries_list:\n",
    "        col = '_'.join([prefix, suf])\n",
    "        \n",
    "        y = np.array(plot_df[col]['mean'])\n",
    "        yerr = np.array(plot_df[col]['std'])\n",
    "        \n",
    "        if np.min(y - yerr) < 0:\n",
    "            args = np.where(y - yerr < 0)[0]\n",
    "            yerr[args] = y[args] - 1e-2\n",
    "        \n",
    "            print(y)\n",
    "            print(y - yerr)\n",
    "        \n",
    "        plt.errorbar(plot_df.index, y, yerr=yerr, \n",
    "                     label=label, color=color, linestyle=ls, linewidth=lw,  capsize=2,\n",
    "                     marker='o', markersize=2*lw)\n",
    "        max_val = max(max_val, np.max(plot_df[col]['mean'] + plot_df[col]['std']))\n",
    "        min_val = min(min_val, np.min(plot_df[col]['mean'] - plot_df[col]['std']))\n",
    "    \n",
    "    plt.xlabel(f'Number of Dimensions $K$', labelpad=0)\n",
    "    plt.ylabel(ylabel, labelpad=3);\n",
    "    \n",
    "    if prefix == 'f1score':\n",
    "        plt.yticks([0, 0.2, 0.4, 0.6, 0.8, 1.0])\n",
    "        plt.grid()\n",
    "        #plt.legend(loc='lower left', prop={'size': 7})\n",
    "        plt.ylim(bottom=0.5)\n",
    "    \n",
    "    if prefix == 'relerr':\n",
    "        plt.gca().tick_params(axis='y', which='major', pad=0.5)\n",
    "        plt.grid(which='both', axis='both')\n",
    "        plt.ylabel(ylabel, labelpad=0);\n",
    "        plt.yscale('log')\n",
    "        plt.ylim(bottom=0.04)\n",
    "        plt.legend(loc='upper right', prop={'size': 7})\n",
    "        pass\n",
    "    \n",
    "    if prefix == 'log_relerr':\n",
    "        #plt.gca().yaxis.set_minor_locator(ticker.FixedLocator(\n",
    "        #    np.log10(np.hstack([np.linspace(1, 10, 8)/i for i in [100, 10, 1, 0.1, 0.01]]))))\n",
    "        #plt.gca().yaxis.set_major_locator(ticker.FixedLocator([100, 10, 1, 0.1, 0.01])) \n",
    "        plt.grid(which='both', axis='both')\n",
    "        #vals = [-2, -1, 0, 1]\n",
    "        #labs = ['$10^{'+f'{e:d}'+'}$' for e in vals]\n",
    "        #plt.yticks(vals, labs)\n",
    "        plt.ylim(bottom=min_val*1.2, top=max_val*2.0)\n",
    "        pass\n",
    "        \n",
    "    if prefix == 'runtime_log':\n",
    "        plt.gca().yaxis.set_minor_locator(ticker.FixedLocator(\n",
    "            np.log10(np.hstack([np.linspace(1, 10, 8)/i for i in [100, 10, 1, 0.1, 0.01]]))))\n",
    "        plt.gca().yaxis.set_major_locator(ticker.FixedLocator([100, 10, 1, 0.1, 0.01])) \n",
    "        plt.grid(which='both', axis='both')\n",
    "        vals = [-1, 0, 1, 2]\n",
    "        labs = ['$10^{'+f'{e:d}'+'}$' for e in vals]\n",
    "        plt.yticks(vals, labs)\n",
    "        pass\n",
    "\n",
    "    if prefix.startswith('prec'):\n",
    "        plt.yticks([0, 0.2, 0.4, 0.6, 0.8, 1.0])\n",
    "        plt.grid()\n",
    "        plt.ylim(bottom=0)\n",
    "\n",
    "    if prefix.startswith('num_iter'):\n",
    "        plt.grid()\n",
    "        plt.yscale('log', basey=10, nonposy='clip');\n",
    "        \n",
    "    if (prefix == 'pr_auc') or (prefix == 'roc_auc'):\n",
    "        #plt.yticks([0, 0.2, 0.4, 0.6, 0.8, 1.0])\n",
    "        plt.grid()\n",
    "        plt.ylim(top=1.04) \n",
    "        #plt.ylim(bottom=0.0, top=1.04) \n",
    "    \n",
    "    plt.tight_layout()\n",
    "    plt.subplots_adjust(left=0.15, right=0.99, top=0.94, bottom=0.15)\n",
    "    plt.savefig(os.path.join(output_dir, f'fig-{exp_name}-{prefix}.pdf'))\n",
    "    plt.close()"
   ]
  },
  {
   "cell_type": "markdown",
   "metadata": {},
   "source": [
    "---"
   ]
  },
  {
   "cell_type": "markdown",
   "metadata": {},
   "source": [
    "### Varying threshold"
   ]
  },
  {
   "cell_type": "code",
   "execution_count": null,
   "metadata": {},
   "outputs": [],
   "source": [
    "suf_col_dict = {\n",
    "    #'mle': 'mle_adjacency', \n",
    "    'mle_other': 'mle_other_adjacency', \n",
    "    'bbvi': 'bbvi_adj_mean', \n",
    "    'vi': 'vi_adj_mean',\n",
    "    'gb': 'gb_adj_normed',\n",
    "}\n",
    "\n",
    "\n",
    "data_thresh_list = list()\n",
    "thresh_range = np.linspace(0.0, 0.1, 11)\n",
    "for thresh in thresh_range:\n",
    "    print(thresh)\n",
    "    this_plot_df = tsvar.plotting.make_plot_df(output_df, suf_col_dict, agg_col=None, threshold=thresh)\n",
    "    this_plot_df['threshold'] = thresh\n",
    "    data_thresh_list.append(this_plot_df.copy())\n",
    "    \n",
    "all_df_thresh = pd.concat(data_thresh_list)\n",
    "\n",
    "# Keep only dim=10\n",
    "all_df_thresh = all_df_thresh.loc[all_df_thresh['dim'] == 10]\n",
    "    \n",
    "plot_df_thresh = all_df_thresh.groupby('threshold').agg(['mean', 'std'])"
   ]
  },
  {
   "cell_type": "code",
   "execution_count": null,
   "metadata": {
    "scrolled": true
   },
   "outputs": [],
   "source": [
    "plot_df_thresh"
   ]
  },
  {
   "cell_type": "code",
   "execution_count": null,
   "metadata": {
    "scrolled": false
   },
   "outputs": [],
   "source": [
    "queries_list = [    \n",
    "    ('vi',    'VI',   'C2', '-',  1.85),\n",
    "    ('gb',    'GB',   'C4', '-',  1.0),\n",
    "    ('bbvi',  'BBVI', 'C1', '-',  1.0), \n",
    "    ('mle_other',  'MLE',   'C0', '-',  1.0), \n",
    "]\n",
    "prefix = 'f1score'\n",
    "\n",
    "\n",
    "plt.figure(figsize=(5.5/2 - 0.2, 1.25))\n",
    "plt.grid()\n",
    "plt.xlabel(f'Threshold $\\eta$', labelpad=0)\n",
    "plt.ylabel('F1-Score', labelpad=3);\n",
    "    \n",
    "for suf, label, color, ls, lw in queries_list:\n",
    "    col = '_'.join([prefix, suf])\n",
    "\n",
    "    plt.errorbar(plot_df_thresh[col].index, plot_df_thresh[col]['mean'], yerr=plot_df_thresh[col]['std'], \n",
    "                 label=label, color=color, linestyle=ls, linewidth=lw,  capsize=2,\n",
    "                 marker='o', markersize=2*lw)\n",
    "\n",
    "plt.yticks([0, 0.2, 0.4, 0.6, 0.8, 1.0])\n",
    "plt.legend(loc='lower right', prop={'size': 7})\n",
    "plt.ylim(bottom=0)\n",
    "\n",
    "plt.tight_layout()\n",
    "plt.subplots_adjust(left=0.15, right=0.99, top=0.97, bottom=0.2)\n",
    "plt.savefig(os.path.join(output_dir, f'fig-{EXP_DIR.split(os.path.sep)[-1]}-{prefix}-threshold.pdf'))\n",
    "plt.close()"
   ]
  },
  {
   "cell_type": "code",
   "execution_count": null,
   "metadata": {},
   "outputs": [],
   "source": []
  },
  {
   "cell_type": "code",
   "execution_count": null,
   "metadata": {},
   "outputs": [],
   "source": []
  },
  {
   "cell_type": "markdown",
   "metadata": {},
   "source": [
    "---"
   ]
  },
  {
   "cell_type": "markdown",
   "metadata": {},
   "source": [
    "### Numer of iterations"
   ]
  },
  {
   "cell_type": "code",
   "execution_count": null,
   "metadata": {},
   "outputs": [],
   "source": [
    "for suf in ['vi', 'gb', 'bbvi', 'mle_other']:\n",
    "    output_df[f'num_iter_log_{suf}'] = output_df[f'num_iter_{suf}'].apply(np.log10)"
   ]
  },
  {
   "cell_type": "code",
   "execution_count": null,
   "metadata": {},
   "outputs": [],
   "source": [
    "num_iter_cols = [f'num_iter_log_{suf}' for suf in ['vi', 'gb', 'bbvi', 'mle_other']] \n",
    "num_iter_plot_df = output_df[num_iter_cols + ['dim']].groupby('dim').agg(['mean', 'std'])"
   ]
  },
  {
   "cell_type": "code",
   "execution_count": null,
   "metadata": {},
   "outputs": [],
   "source": [
    "queries_list = [    \n",
    "    ('vi',    'VI',   'C2', '-',  1.85),\n",
    "    ('gb',    'GB',   'C4', '-',  1.0),\n",
    "    ('bbvi',  'BBVI', 'C1', '-',  1.0), \n",
    "    ('mle_other',  'MLE',   'C0', '-',  1.0), \n",
    "]\n",
    "prefix = 'num_iter_log'\n",
    "\n",
    "\n",
    "\n",
    "plt.figure(figsize=(3.25, 1.75))\n",
    "plt.grid()\n",
    "plt.xlabel(f'Number of dimensions $M$', labelpad=0)\n",
    "plt.ylabel('Number of iterations \\n performed', labelpad=3);\n",
    "    \n",
    "\n",
    "for suf, label, color, ls, lw in queries_list:\n",
    "    col = '_'.join([prefix, suf])\n",
    "    \n",
    "    plt.errorbar(num_iter_plot_df[col].index, num_iter_plot_df[col]['mean'], yerr=num_iter_plot_df[col]['std'], \n",
    "             label=label, color=color, linestyle=ls, linewidth=lw,  capsize=2,\n",
    "             marker='o', markersize=2*lw)\n",
    "    \n",
    "    plt.gca().yaxis.set_minor_locator(ticker.FixedLocator(\n",
    "        np.log10(np.hstack([np.linspace(1, 10, 8)/i for i in [10000, 1000, 100]]))))\n",
    "    plt.grid(which='both', axis='y')\n",
    "\n",
    "    plt.yticks([2, 3, 4], ['$10^1$', '$10^2$', '$10^3$', '$10^4$'])\n",
    "\n",
    "    \n",
    "plt.legend(loc='lower right', prop={'size': 7})\n",
    "#plt.ylim(bottom=10);\n",
    "\n",
    "plt.tight_layout()\n",
    "plt.subplots_adjust(left=0.2, right=0.99, top=0.97, bottom=0.2)\n",
    "fname = os.path.join(output_dir, f'fig-{EXP_DIR.split(os.path.sep)[-1]}-{prefix}-num-iter.pdf')\n",
    "plt.savefig(fname)\n",
    "plt.close()\n",
    "print(f'Saved to: {fname}')"
   ]
  },
  {
   "cell_type": "code",
   "execution_count": null,
   "metadata": {},
   "outputs": [],
   "source": []
  }
 ],
 "metadata": {
  "kernelspec": {
   "display_name": "Python 3",
   "language": "python",
   "name": "python3"
  },
  "language_info": {
   "codemirror_mode": {
    "name": "ipython",
    "version": 3
   },
   "file_extension": ".py",
   "mimetype": "text/x-python",
   "name": "python",
   "nbconvert_exporter": "python",
   "pygments_lexer": "ipython3",
   "version": "3.6.10"
  }
 },
 "nbformat": 4,
 "nbformat_minor": 4
}

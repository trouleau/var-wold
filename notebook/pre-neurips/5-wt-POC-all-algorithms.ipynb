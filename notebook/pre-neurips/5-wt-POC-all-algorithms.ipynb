{
 "cells": [
  {
   "cell_type": "markdown",
   "metadata": {},
   "source": [
    "# Test Variational Inference algorithms for Wold processes\n",
    "\n",
    "In this notebook, we test the various variational inference (VI) algorithms implemented for the multivariate Wold process. Namely:\n",
    "\n",
    "* `WoldModelVariational`: VI with parameters $\\alpha$ and $\\beta$\n",
    "\n",
    "with the **new updates** involving solving a set of 2d^2 1-dimensional equations.\n",
    "\n",
    "---"
   ]
  },
  {
   "cell_type": "markdown",
   "metadata": {},
   "source": [
    "Load extensions for debugging"
   ]
  },
  {
   "cell_type": "code",
   "execution_count": 1,
   "metadata": {},
   "outputs": [],
   "source": [
    "%load_ext autoreload\n",
    "%autoreload 2\n",
    "\n",
    "%load_ext line_profiler"
   ]
  },
  {
   "cell_type": "markdown",
   "metadata": {},
   "source": [
    "Import the libraries of interest for this notebook"
   ]
  },
  {
   "cell_type": "code",
   "execution_count": 2,
   "metadata": {},
   "outputs": [],
   "source": [
    "from matplotlib import pyplot as plt\n",
    "%matplotlib inline\n",
    "\n",
    "import itertools\n",
    "import torch\n",
    "import numpy as np\n",
    "\n",
    "# Set numpy print format\n",
    "np.set_printoptions(precision=2, floatmode='fixed', sign=' ')\n",
    "\n",
    "import tsvar"
   ]
  },
  {
   "cell_type": "markdown",
   "metadata": {},
   "source": [
    "Set cells width"
   ]
  },
  {
   "cell_type": "code",
   "execution_count": 3,
   "metadata": {},
   "outputs": [
    {
     "data": {
      "text/html": [
       "<style>.container { width:80% !important; }</style>"
      ],
      "text/plain": [
       "<IPython.core.display.HTML object>"
      ]
     },
     "metadata": {},
     "output_type": "display_data"
    }
   ],
   "source": [
    "from IPython.core.display import display, HTML\n",
    "display(HTML(\"<style>.container { width:80% !important; }</style>\"))"
   ]
  },
  {
   "cell_type": "markdown",
   "metadata": {},
   "source": [
    "Set general experiment parameters"
   ]
  },
  {
   "cell_type": "code",
   "execution_count": 4,
   "metadata": {},
   "outputs": [],
   "source": [
    "MLE_N_ITER = 20000\n",
    "BBVI_N_ITER = 20000\n",
    "VI_FB_N_ITER = 3000\n",
    "VI_N_ITER = 3000\n",
    "GB_N_ITER = 300\n",
    "\n",
    "VI_TOL = 1e-4\n",
    "\n",
    "PRINT_EVERY = 100\n",
    "PRINT_EVERY_VI = 10\n",
    "CALLBACK_END = '\\n'"
   ]
  },
  {
   "cell_type": "markdown",
   "metadata": {},
   "source": [
    "Set random seed for all experiments"
   ]
  },
  {
   "cell_type": "code",
   "execution_count": 5,
   "metadata": {},
   "outputs": [],
   "source": [
    "seed = np.random.randint(2**32-1)\n",
    "gen_seed = None\n",
    "sim_seed = None"
   ]
  },
  {
   "cell_type": "markdown",
   "metadata": {},
   "source": [
    "\n",
    "\n",
    "---\n",
    "\n",
    "## Generate toy example dataset\n"
   ]
  },
  {
   "cell_type": "markdown",
   "metadata": {},
   "source": [
    "### V1. Small 2-dimensional toy setting"
   ]
  },
  {
   "cell_type": "code",
   "execution_count": 6,
   "metadata": {},
   "outputs": [
    {
     "name": "stdout",
     "output_type": "stream",
     "text": [
      "Baseline:\n",
      "[ 0.01  0.01]\n",
      "Alpha:\n",
      "[[ 0.70  0.30]\n",
      " [ 0.00  1.00]]\n",
      "Beta:\n",
      "[[ 0.40  0.20]\n",
      " [ 0.50  0.10]]\n"
     ]
    }
   ],
   "source": [
    "# Define random parameters\n",
    "dim = 2  # Dimensionality of the process\n",
    "max_jumps= 25e3 * dim  # Number of events\n",
    "\n",
    "mu = torch.tensor([0.01, 0.01])\n",
    "beta = torch.tensor([\n",
    "    [0.4, 0.2],\n",
    "    [0.5, 0.1]\n",
    "])\n",
    "# Use the same constraint as GrangerBusca to allow fair comparison\n",
    "alpha = torch.tensor([\n",
    "    [0.7, 0.3],\n",
    "    [0.0, 1.0]\n",
    "])\n",
    "\n",
    "print('Baseline:')\n",
    "print(mu.numpy().round(2))\n",
    "print('Alpha:')\n",
    "print(alpha.numpy().round(2))\n",
    "print('Beta:')\n",
    "print(beta.numpy().round(2))"
   ]
  },
  {
   "cell_type": "markdown",
   "metadata": {},
   "source": [
    "### V2. Larger setting"
   ]
  },
  {
   "cell_type": "code",
   "execution_count": 72,
   "metadata": {},
   "outputs": [
    {
     "name": "stdout",
     "output_type": "stream",
     "text": [
      "Baseline:\n",
      "[ 0.00  0.00  0.00  0.00  0.00  0.00  0.00  0.00  0.00  0.00]\n",
      "Alpha:\n",
      "[[ 0.18  0.00  0.17  0.19  0.00  0.00  0.00  0.00  0.00  0.11]\n",
      " [ 0.00  0.00  0.00  0.00  0.00  0.15  0.18  0.12  0.17  0.00]\n",
      " [ 0.14  0.16  0.00  0.00  0.18  0.19  0.00  0.18  0.15  0.11]\n",
      " [ 0.00  0.00  0.00  0.00  0.16  0.00  0.00  0.00  0.00  0.18]\n",
      " [ 0.16  0.00  0.00  0.14  0.00  0.00  0.17  0.11  0.00  0.12]\n",
      " [ 0.15  0.13  0.20  0.00  0.00  0.16  0.11  0.14  0.19  0.00]\n",
      " [ 0.16  0.10  0.00  0.13  0.00  0.00  0.00  0.12  0.00  0.17]\n",
      " [ 0.00  0.14  0.00  0.11  0.11  0.00  0.15  0.11  0.00  0.00]\n",
      " [ 0.15  0.15  0.00  0.13  0.00  0.12  0.16  0.00  0.11  0.00]\n",
      " [ 0.12  0.10  0.10  0.00  0.17  0.00  0.00  0.00  0.17  0.12]]\n",
      "Beta:\n",
      "[[ 0.16  0.50  0.88  0.89  0.72  0.79  0.47  0.85  0.75  0.78]\n",
      " [ 0.48  0.77  0.19  0.85  0.59  0.67  0.39  0.29  0.94  0.33]\n",
      " [ 0.51  0.20  0.31  0.68  0.58  0.87  0.36  0.92  0.02  0.93]\n",
      " [ 0.57  0.29  0.09  0.17  0.93  0.11  0.18  0.78  0.48  0.72]\n",
      " [ 0.92  0.55  0.50  0.62  0.62  0.66  0.80  0.31  0.79  0.88]\n",
      " [ 0.72  0.02  0.61  0.14  0.82  0.11  0.32  0.23  0.43  0.35]\n",
      " [ 0.04  0.05  0.31  0.26  0.82  0.76  0.83  0.31  0.37  0.15]\n",
      " [ 0.39  0.28  0.61  1.00  0.11  0.04  0.88  0.96  0.12  0.33]\n",
      " [ 0.52  0.75  0.59  0.14  0.54  0.62  0.32  0.77  0.54  0.81]\n",
      " [ 0.40  0.65  0.57  0.61  0.77  0.04  0.57  0.74  0.23  0.30]]\n"
     ]
    }
   ],
   "source": [
    "from experiments_utils import generate_parameters\n",
    "\n",
    "dim = 10\n",
    "max_jumps = 10e3 * dim\n",
    "\n",
    "param_dict = generate_parameters(dim=dim, seed=gen_seed, )\n",
    "\n",
    "mu = torch.tensor(param_dict['baseline']) * 0.00\n",
    "beta = torch.tensor(param_dict['beta'])\n",
    "alpha = torch.tensor(param_dict['adjacency'])\n",
    "\n",
    "print('Baseline:')\n",
    "print(mu.numpy().round(2))\n",
    "print('Alpha:')\n",
    "print(alpha.numpy().round(2))\n",
    "print('Beta:')\n",
    "print(beta.numpy().round(2))"
   ]
  },
  {
   "cell_type": "markdown",
   "metadata": {},
   "source": [
    "### Simulate a realization"
   ]
  },
  {
   "cell_type": "code",
   "execution_count": 73,
   "metadata": {
    "scrolled": true
   },
   "outputs": [
    {
     "name": "stdout",
     "output_type": "stream",
     "text": [
      "  - Simulate lots of data...\n",
      "    - Simulated 100,000 events with end time: 90853.703125\n",
      "    - Events:\n",
      "      - dim  0 (15709 events): [     0.49      4.34      5.54 ...  90838.49  90844.16  90853.70]\n",
      "      - dim  1 (10852 events): [     0.49      4.00     11.12 ...  90844.99  90846.96  90848.07]\n",
      "      - dim  2 ( 6147 events): [     1.37     18.64     21.79 ...  90798.23  90800.73  90853.18]\n",
      "      - dim  3 (10247 events): [     0.19      1.52      2.59 ...  90837.76  90841.34  90842.16]\n",
      "      - dim  4 ( 7528 events): [     0.18      5.15      8.59 ...  90813.90  90829.66  90835.98]\n",
      "      - dim  5 ( 7199 events): [     1.92      7.46     11.37 ...  90824.81  90844.01  90852.41]\n",
      "      - dim  6 (10334 events): [     1.79      3.84      6.68 ...  90789.75  90831.49  90833.81]\n",
      "      - dim  7 (10117 events): [     2.48      4.60      6.69 ...  90844.28  90845.09  90850.66]\n",
      "      - dim  8 (10521 events): [     1.24      1.66      3.17 ...  90839.51  90851.26  90853.45]\n",
      "      - dim  9 (11346 events): [     3.49     16.97     28.35 ...  90824.25  90840.69  90846.95]\n"
     ]
    }
   ],
   "source": [
    "coeffs_true_dict = {\n",
    "    'baseline': mu.numpy(),\n",
    "    'adjacency': alpha.numpy(),\n",
    "    'beta': beta.numpy()\n",
    "}\n",
    "\n",
    "coeffs_true = torch.cat((mu, beta.flatten(), alpha.flatten())).numpy()\n",
    "print('  - Simulate lots of data...')\n",
    "# Simulate lots of data\n",
    "wold_sim = tsvar.simulate.MultivariateWoldSimulator(\n",
    "    mu_a=mu, alpha_ba=alpha, beta_ba=beta)\n",
    "events = wold_sim.simulate(max_jumps=max_jumps, seed=sim_seed)\n",
    "events = [torch.tensor(ev, dtype=torch.float) for ev in events]\n",
    "end_time = max(map(max, events))\n",
    "print((f\"    - Simulated {sum(map(len, events)):,d} events \"\n",
    "       f\"with end time: {end_time}\"))\n",
    "print(\"    - Events:\")\n",
    "for i, events_i in enumerate(events):\n",
    "    print(f\"      - dim {i:>2d} ({len(events_i):>5d} events):\", events_i.numpy())"
   ]
  },
  {
   "cell_type": "markdown",
   "metadata": {},
   "source": [
    "---\n",
    "\n",
    "## Test MLE"
   ]
  },
  {
   "cell_type": "code",
   "execution_count": 56,
   "metadata": {},
   "outputs": [
    {
     "name": "stdout",
     "output_type": "stream",
     "text": [
      "iter:   100 | dx: +7.5007e-02 | loss: 6.7859e+00 | dloss: -2.88e-03 | acc: 0.82 | f1-score: 0.82 | relerr: 1.03e+00 | p@5: 0.20 | p@10: 0.10 | p@20: 0.10 | time/it: 4.14e-02     \n",
      "iter:   200 | dx: +5.6126e-02 | loss: 6.6064e+00 | dloss: -1.18e-03 | acc: 0.82 | f1-score: 0.82 | relerr: 1.02e+00 | p@5: 0.20 | p@10: 0.10 | p@20: 0.10 | time/it: 3.57e-02     \n"
     ]
    },
    {
     "ename": "KeyboardInterrupt",
     "evalue": "",
     "output_type": "error",
     "traceback": [
      "\u001b[0;31m---------------------------------------------------------------------------\u001b[0m",
      "\u001b[0;31mKeyboardInterrupt\u001b[0m                         Traceback (most recent call last)",
      "\u001b[0;32m<ipython-input-56-65e856ab2f4d>\u001b[0m in \u001b[0;36m<module>\u001b[0;34m\u001b[0m\n\u001b[1;32m     30\u001b[0m                  \u001b[0mlr_sched\u001b[0m\u001b[0;34m=\u001b[0m\u001b[0;36m0.9999\u001b[0m\u001b[0;34m,\u001b[0m \u001b[0mtol\u001b[0m\u001b[0;34m=\u001b[0m\u001b[0;36m1e-4\u001b[0m\u001b[0;34m,\u001b[0m \u001b[0mmax_iter\u001b[0m\u001b[0;34m=\u001b[0m\u001b[0mMLE_N_ITER\u001b[0m\u001b[0;34m,\u001b[0m\u001b[0;34m\u001b[0m\u001b[0;34m\u001b[0m\u001b[0m\n\u001b[1;32m     31\u001b[0m                  \u001b[0mpenalty\u001b[0m\u001b[0;34m=\u001b[0m\u001b[0mtsvar\u001b[0m\u001b[0;34m.\u001b[0m\u001b[0mpriors\u001b[0m\u001b[0;34m.\u001b[0m\u001b[0mGaussianPrior\u001b[0m\u001b[0;34m,\u001b[0m \u001b[0mC\u001b[0m\u001b[0;34m=\u001b[0m\u001b[0;36m1e10\u001b[0m\u001b[0;34m,\u001b[0m\u001b[0;34m\u001b[0m\u001b[0;34m\u001b[0m\u001b[0m\n\u001b[0;32m---> 32\u001b[0;31m                  seed=None, callback=callback)\n\u001b[0m\u001b[1;32m     33\u001b[0m \u001b[0mcoeffs_hat\u001b[0m \u001b[0;34m=\u001b[0m \u001b[0mmodel\u001b[0m\u001b[0;34m.\u001b[0m\u001b[0mcoeffs\u001b[0m\u001b[0;34m.\u001b[0m\u001b[0mdetach\u001b[0m\u001b[0;34m(\u001b[0m\u001b[0;34m)\u001b[0m\u001b[0;34m.\u001b[0m\u001b[0mnumpy\u001b[0m\u001b[0;34m(\u001b[0m\u001b[0;34m)\u001b[0m\u001b[0;34m\u001b[0m\u001b[0;34m\u001b[0m\u001b[0m\n",
      "\u001b[0;32m~/Workspace/EPFL/research/ongoing/var-wold/tsvar/models/_wold.py\u001b[0m in \u001b[0;36mfit\u001b[0;34m(self, *args, **kwargs)\u001b[0m\n\u001b[1;32m    260\u001b[0m \u001b[0;34m\u001b[0m\u001b[0m\n\u001b[1;32m    261\u001b[0m     \u001b[0;32mdef\u001b[0m \u001b[0mfit\u001b[0m\u001b[0;34m(\u001b[0m\u001b[0mself\u001b[0m\u001b[0;34m,\u001b[0m \u001b[0;34m*\u001b[0m\u001b[0margs\u001b[0m\u001b[0;34m,\u001b[0m \u001b[0;34m**\u001b[0m\u001b[0mkwargs\u001b[0m\u001b[0;34m)\u001b[0m\u001b[0;34m:\u001b[0m\u001b[0;34m\u001b[0m\u001b[0;34m\u001b[0m\u001b[0m\n\u001b[0;32m--> 262\u001b[0;31m         \u001b[0;32mreturn\u001b[0m \u001b[0msuper\u001b[0m\u001b[0;34m(\u001b[0m\u001b[0;34m)\u001b[0m\u001b[0;34m.\u001b[0m\u001b[0mfit\u001b[0m\u001b[0;34m(\u001b[0m\u001b[0mobjective_func\u001b[0m\u001b[0;34m=\u001b[0m\u001b[0mself\u001b[0m\u001b[0;34m.\u001b[0m\u001b[0mmle_objective\u001b[0m\u001b[0;34m,\u001b[0m \u001b[0;34m*\u001b[0m\u001b[0margs\u001b[0m\u001b[0;34m,\u001b[0m \u001b[0;34m**\u001b[0m\u001b[0mkwargs\u001b[0m\u001b[0;34m)\u001b[0m\u001b[0;34m\u001b[0m\u001b[0;34m\u001b[0m\u001b[0m\n\u001b[0m\u001b[1;32m    263\u001b[0m \u001b[0;34m\u001b[0m\u001b[0m\n\u001b[1;32m    264\u001b[0m \u001b[0;34m\u001b[0m\u001b[0m\n",
      "\u001b[0;32m~/Workspace/EPFL/research/ongoing/var-wold/tsvar/utils/decorators.py\u001b[0m in \u001b[0;36mwrapped\u001b[0;34m(self, *args, **kwargs)\u001b[0m\n\u001b[1;32m      6\u001b[0m     \u001b[0;32mdef\u001b[0m \u001b[0mwrapped\u001b[0m\u001b[0;34m(\u001b[0m\u001b[0mself\u001b[0m\u001b[0;34m,\u001b[0m \u001b[0;34m*\u001b[0m\u001b[0margs\u001b[0m\u001b[0;34m,\u001b[0m \u001b[0;34m**\u001b[0m\u001b[0mkwargs\u001b[0m\u001b[0;34m)\u001b[0m\u001b[0;34m:\u001b[0m\u001b[0;34m\u001b[0m\u001b[0;34m\u001b[0m\u001b[0m\n\u001b[1;32m      7\u001b[0m         \u001b[0;32mif\u001b[0m \u001b[0mself\u001b[0m\u001b[0;34m.\u001b[0m\u001b[0m_observed\u001b[0m\u001b[0;34m:\u001b[0m\u001b[0;34m\u001b[0m\u001b[0;34m\u001b[0m\u001b[0m\n\u001b[0;32m----> 8\u001b[0;31m             \u001b[0;32mreturn\u001b[0m \u001b[0mfn\u001b[0m\u001b[0;34m(\u001b[0m\u001b[0mself\u001b[0m\u001b[0;34m,\u001b[0m \u001b[0;34m*\u001b[0m\u001b[0margs\u001b[0m\u001b[0;34m,\u001b[0m \u001b[0;34m**\u001b[0m\u001b[0mkwargs\u001b[0m\u001b[0;34m)\u001b[0m\u001b[0;34m\u001b[0m\u001b[0;34m\u001b[0m\u001b[0m\n\u001b[0m\u001b[1;32m      9\u001b[0m         \u001b[0;32melse\u001b[0m\u001b[0;34m:\u001b[0m\u001b[0;34m\u001b[0m\u001b[0;34m\u001b[0m\u001b[0m\n\u001b[1;32m     10\u001b[0m             raise Exception(('Model is not properly set. '\n",
      "\u001b[0;32m~/Workspace/EPFL/research/ongoing/var-wold/tsvar/fitter.py\u001b[0m in \u001b[0;36mfit\u001b[0;34m(self, objective_func, x0, optimizer, lr, lr_sched, tol, max_iter, penalty, C, seed, callback)\u001b[0m\n\u001b[1;32m    157\u001b[0m         \u001b[0;32mfor\u001b[0m \u001b[0mt\u001b[0m \u001b[0;32min\u001b[0m \u001b[0mrange\u001b[0m\u001b[0;34m(\u001b[0m\u001b[0mmax_iter\u001b[0m\u001b[0;34m)\u001b[0m\u001b[0;34m:\u001b[0m\u001b[0;34m\u001b[0m\u001b[0;34m\u001b[0m\u001b[0m\n\u001b[1;32m    158\u001b[0m             \u001b[0mself\u001b[0m\u001b[0;34m.\u001b[0m\u001b[0m_n_iter_done\u001b[0m \u001b[0;34m=\u001b[0m \u001b[0mt\u001b[0m\u001b[0;34m\u001b[0m\u001b[0;34m\u001b[0m\u001b[0m\n\u001b[0;32m--> 159\u001b[0;31m             \u001b[0mself\u001b[0m\u001b[0;34m.\u001b[0m\u001b[0m_take_gradient_step\u001b[0m\u001b[0;34m(\u001b[0m\u001b[0;34m)\u001b[0m\u001b[0;34m\u001b[0m\u001b[0;34m\u001b[0m\u001b[0m\n\u001b[0m\u001b[1;32m    160\u001b[0m             \u001b[0;31m# Check that the optimization did not fail\u001b[0m\u001b[0;34m\u001b[0m\u001b[0;34m\u001b[0m\u001b[0;34m\u001b[0m\u001b[0m\n\u001b[1;32m    161\u001b[0m             \u001b[0;32mif\u001b[0m \u001b[0mtorch\u001b[0m\u001b[0;34m.\u001b[0m\u001b[0misnan\u001b[0m\u001b[0;34m(\u001b[0m\u001b[0mself\u001b[0m\u001b[0;34m.\u001b[0m\u001b[0mcoeffs\u001b[0m\u001b[0;34m)\u001b[0m\u001b[0;34m.\u001b[0m\u001b[0many\u001b[0m\u001b[0;34m(\u001b[0m\u001b[0;34m)\u001b[0m\u001b[0;34m:\u001b[0m\u001b[0;34m\u001b[0m\u001b[0;34m\u001b[0m\u001b[0m\n",
      "\u001b[0;32m~/Workspace/EPFL/research/ongoing/var-wold/tsvar/fitter.py\u001b[0m in \u001b[0;36m_take_gradient_step\u001b[0;34m(self)\u001b[0m\n\u001b[1;32m     89\u001b[0m         \u001b[0;31m# Gradient update\u001b[0m\u001b[0;34m\u001b[0m\u001b[0;34m\u001b[0m\u001b[0;34m\u001b[0m\u001b[0m\n\u001b[1;32m     90\u001b[0m         \u001b[0mself\u001b[0m\u001b[0;34m.\u001b[0m\u001b[0moptimizer\u001b[0m\u001b[0;34m.\u001b[0m\u001b[0mzero_grad\u001b[0m\u001b[0;34m(\u001b[0m\u001b[0;34m)\u001b[0m\u001b[0;34m\u001b[0m\u001b[0;34m\u001b[0m\u001b[0m\n\u001b[0;32m---> 91\u001b[0;31m         \u001b[0mself\u001b[0m\u001b[0;34m.\u001b[0m\u001b[0m_loss\u001b[0m \u001b[0;34m=\u001b[0m \u001b[0mself\u001b[0m\u001b[0;34m.\u001b[0m\u001b[0m_objective_func\u001b[0m\u001b[0;34m(\u001b[0m\u001b[0mself\u001b[0m\u001b[0;34m.\u001b[0m\u001b[0mcoeffs\u001b[0m\u001b[0;34m)\u001b[0m\u001b[0;34m\u001b[0m\u001b[0;34m\u001b[0m\u001b[0m\n\u001b[0m\u001b[1;32m     92\u001b[0m         \u001b[0;32mif\u001b[0m \u001b[0mself\u001b[0m\u001b[0;34m.\u001b[0m\u001b[0mpenalty\u001b[0m\u001b[0;34m:\u001b[0m\u001b[0;34m\u001b[0m\u001b[0;34m\u001b[0m\u001b[0m\n\u001b[1;32m     93\u001b[0m             \u001b[0mself\u001b[0m\u001b[0;34m.\u001b[0m\u001b[0m_loss\u001b[0m \u001b[0;34m+=\u001b[0m \u001b[0mself\u001b[0m\u001b[0;34m.\u001b[0m\u001b[0mpenalty\u001b[0m\u001b[0;34m(\u001b[0m\u001b[0mself\u001b[0m\u001b[0;34m.\u001b[0m\u001b[0mcoeffs\u001b[0m\u001b[0;34m)\u001b[0m\u001b[0;34m\u001b[0m\u001b[0;34m\u001b[0m\u001b[0m\n",
      "\u001b[0;32m~/Workspace/EPFL/research/ongoing/var-wold/tsvar/utils/decorators.py\u001b[0m in \u001b[0;36mwrapped\u001b[0;34m(self, *args, **kwargs)\u001b[0m\n\u001b[1;32m      6\u001b[0m     \u001b[0;32mdef\u001b[0m \u001b[0mwrapped\u001b[0m\u001b[0;34m(\u001b[0m\u001b[0mself\u001b[0m\u001b[0;34m,\u001b[0m \u001b[0;34m*\u001b[0m\u001b[0margs\u001b[0m\u001b[0;34m,\u001b[0m \u001b[0;34m**\u001b[0m\u001b[0mkwargs\u001b[0m\u001b[0;34m)\u001b[0m\u001b[0;34m:\u001b[0m\u001b[0;34m\u001b[0m\u001b[0;34m\u001b[0m\u001b[0m\n\u001b[1;32m      7\u001b[0m         \u001b[0;32mif\u001b[0m \u001b[0mself\u001b[0m\u001b[0;34m.\u001b[0m\u001b[0m_observed\u001b[0m\u001b[0;34m:\u001b[0m\u001b[0;34m\u001b[0m\u001b[0;34m\u001b[0m\u001b[0m\n\u001b[0;32m----> 8\u001b[0;31m             \u001b[0;32mreturn\u001b[0m \u001b[0mfn\u001b[0m\u001b[0;34m(\u001b[0m\u001b[0mself\u001b[0m\u001b[0;34m,\u001b[0m \u001b[0;34m*\u001b[0m\u001b[0margs\u001b[0m\u001b[0;34m,\u001b[0m \u001b[0;34m**\u001b[0m\u001b[0mkwargs\u001b[0m\u001b[0;34m)\u001b[0m\u001b[0;34m\u001b[0m\u001b[0;34m\u001b[0m\u001b[0m\n\u001b[0m\u001b[1;32m      9\u001b[0m         \u001b[0;32melse\u001b[0m\u001b[0;34m:\u001b[0m\u001b[0;34m\u001b[0m\u001b[0;34m\u001b[0m\u001b[0m\n\u001b[1;32m     10\u001b[0m             raise Exception(('Model is not properly set. '\n",
      "\u001b[0;32m~/Workspace/EPFL/research/ongoing/var-wold/tsvar/models/_wold.py\u001b[0m in \u001b[0;36mmle_objective\u001b[0;34m(self, coeffs)\u001b[0m\n\u001b[1;32m    257\u001b[0m     \u001b[0;32mdef\u001b[0m \u001b[0mmle_objective\u001b[0m\u001b[0;34m(\u001b[0m\u001b[0mself\u001b[0m\u001b[0;34m,\u001b[0m \u001b[0mcoeffs\u001b[0m\u001b[0;34m)\u001b[0m\u001b[0;34m:\u001b[0m\u001b[0;34m\u001b[0m\u001b[0;34m\u001b[0m\u001b[0m\n\u001b[1;32m    258\u001b[0m         \u001b[0;34m\"\"\"Objectvie function for MLE: Averaged negative log-likelihood\"\"\"\u001b[0m\u001b[0;34m\u001b[0m\u001b[0;34m\u001b[0m\u001b[0m\n\u001b[0;32m--> 259\u001b[0;31m         \u001b[0;32mreturn\u001b[0m \u001b[0;34m-\u001b[0m\u001b[0;36m1.0\u001b[0m \u001b[0;34m*\u001b[0m \u001b[0mself\u001b[0m\u001b[0;34m.\u001b[0m\u001b[0mlog_likelihood\u001b[0m\u001b[0;34m(\u001b[0m\u001b[0mcoeffs\u001b[0m\u001b[0;34m)\u001b[0m \u001b[0;34m/\u001b[0m \u001b[0msum\u001b[0m\u001b[0;34m(\u001b[0m\u001b[0mself\u001b[0m\u001b[0;34m.\u001b[0m\u001b[0mn_jumps\u001b[0m\u001b[0;34m)\u001b[0m\u001b[0;34m\u001b[0m\u001b[0;34m\u001b[0m\u001b[0m\n\u001b[0m\u001b[1;32m    260\u001b[0m \u001b[0;34m\u001b[0m\u001b[0m\n\u001b[1;32m    261\u001b[0m     \u001b[0;32mdef\u001b[0m \u001b[0mfit\u001b[0m\u001b[0;34m(\u001b[0m\u001b[0mself\u001b[0m\u001b[0;34m,\u001b[0m \u001b[0;34m*\u001b[0m\u001b[0margs\u001b[0m\u001b[0;34m,\u001b[0m \u001b[0;34m**\u001b[0m\u001b[0mkwargs\u001b[0m\u001b[0;34m)\u001b[0m\u001b[0;34m:\u001b[0m\u001b[0;34m\u001b[0m\u001b[0;34m\u001b[0m\u001b[0m\n",
      "\u001b[0;32m~/Workspace/EPFL/research/ongoing/var-wold/tsvar/utils/decorators.py\u001b[0m in \u001b[0;36mwrapped\u001b[0;34m(self, *args, **kwargs)\u001b[0m\n\u001b[1;32m      6\u001b[0m     \u001b[0;32mdef\u001b[0m \u001b[0mwrapped\u001b[0m\u001b[0;34m(\u001b[0m\u001b[0mself\u001b[0m\u001b[0;34m,\u001b[0m \u001b[0;34m*\u001b[0m\u001b[0margs\u001b[0m\u001b[0;34m,\u001b[0m \u001b[0;34m**\u001b[0m\u001b[0mkwargs\u001b[0m\u001b[0;34m)\u001b[0m\u001b[0;34m:\u001b[0m\u001b[0;34m\u001b[0m\u001b[0;34m\u001b[0m\u001b[0m\n\u001b[1;32m      7\u001b[0m         \u001b[0;32mif\u001b[0m \u001b[0mself\u001b[0m\u001b[0;34m.\u001b[0m\u001b[0m_observed\u001b[0m\u001b[0;34m:\u001b[0m\u001b[0;34m\u001b[0m\u001b[0;34m\u001b[0m\u001b[0m\n\u001b[0;32m----> 8\u001b[0;31m             \u001b[0;32mreturn\u001b[0m \u001b[0mfn\u001b[0m\u001b[0;34m(\u001b[0m\u001b[0mself\u001b[0m\u001b[0;34m,\u001b[0m \u001b[0;34m*\u001b[0m\u001b[0margs\u001b[0m\u001b[0;34m,\u001b[0m \u001b[0;34m**\u001b[0m\u001b[0mkwargs\u001b[0m\u001b[0;34m)\u001b[0m\u001b[0;34m\u001b[0m\u001b[0;34m\u001b[0m\u001b[0m\n\u001b[0m\u001b[1;32m      9\u001b[0m         \u001b[0;32melse\u001b[0m\u001b[0;34m:\u001b[0m\u001b[0;34m\u001b[0m\u001b[0;34m\u001b[0m\u001b[0m\n\u001b[1;32m     10\u001b[0m             raise Exception(('Model is not properly set. '\n",
      "\u001b[0;32m~/Workspace/EPFL/research/ongoing/var-wold/tsvar/models/_wold.py\u001b[0m in \u001b[0;36mlog_likelihood\u001b[0;34m(self, coeffs)\u001b[0m\n\u001b[1;32m    243\u001b[0m                     beta[:, i] + 1 + self.delta_ikj[i]), axis=1)\n\u001b[1;32m    244\u001b[0m             \u001b[0;31m# Add the log-intensity term (ignore the last 'fake' event)\u001b[0m\u001b[0;34m\u001b[0m\u001b[0;34m\u001b[0m\u001b[0;34m\u001b[0m\u001b[0m\n\u001b[0;32m--> 245\u001b[0;31m             \u001b[0mlog_like\u001b[0m \u001b[0;34m+=\u001b[0m \u001b[0mlam_ik_arr\u001b[0m\u001b[0;34m[\u001b[0m\u001b[0;34m:\u001b[0m\u001b[0;34m-\u001b[0m\u001b[0;36m1\u001b[0m\u001b[0;34m]\u001b[0m\u001b[0;34m.\u001b[0m\u001b[0mlog\u001b[0m\u001b[0;34m(\u001b[0m\u001b[0;34m)\u001b[0m\u001b[0;34m.\u001b[0m\u001b[0msum\u001b[0m\u001b[0;34m(\u001b[0m\u001b[0;34m)\u001b[0m\u001b[0;34m\u001b[0m\u001b[0;34m\u001b[0m\u001b[0m\n\u001b[0m\u001b[1;32m    246\u001b[0m             \u001b[0;31m# Subtract the integral term\u001b[0m\u001b[0;34m\u001b[0m\u001b[0;34m\u001b[0m\u001b[0;34m\u001b[0m\u001b[0m\n\u001b[1;32m    247\u001b[0m             \u001b[0mlog_like\u001b[0m \u001b[0;34m-=\u001b[0m \u001b[0mlam_ik_arr\u001b[0m\u001b[0;34m[\u001b[0m\u001b[0;36m0\u001b[0m\u001b[0;34m]\u001b[0m \u001b[0;34m*\u001b[0m \u001b[0mself\u001b[0m\u001b[0;34m.\u001b[0m\u001b[0mevents\u001b[0m\u001b[0;34m[\u001b[0m\u001b[0mi\u001b[0m\u001b[0;34m]\u001b[0m\u001b[0;34m[\u001b[0m\u001b[0;36m0\u001b[0m\u001b[0;34m]\u001b[0m\u001b[0;34m\u001b[0m\u001b[0;34m\u001b[0m\u001b[0m\n",
      "\u001b[0;31mKeyboardInterrupt\u001b[0m: "
     ]
    }
   ],
   "source": [
    "dim = len(events)\n",
    "\n",
    "# set random seed\n",
    "np.random.seed(seed)\n",
    "torch.manual_seed(seed)\n",
    "\n",
    "# Set initial guess\n",
    "coeffs_start = torch.tensor(np.hstack((\n",
    "    np.random.uniform(0.0, 1.0, size=dim),     # baseline\n",
    "    np.random.uniform(0.0, 1.0, size=dim**2),  # beta\n",
    "    np.random.uniform(0.0, 1.0, size=dim**2)   # adjacency\n",
    ")))\n",
    "\n",
    "# Extract ground truth\n",
    "coeffs_true = np.hstack((coeffs_true_dict['baseline'],\n",
    "                         np.array(coeffs_true_dict['beta']).flatten(),\n",
    "                         np.array(coeffs_true_dict['adjacency']).flatten()))\n",
    "\n",
    "# Define model\n",
    "model = tsvar.models.WoldModelMLE(verbose=True)\n",
    "model.observe(events, end_time)\n",
    "\n",
    "# Set callback\n",
    "callback = tsvar.utils.callbacks.LearnerCallbackMLE(\n",
    "    coeffs_start, print_every=PRINT_EVERY, coeffs_true=coeffs_true,\n",
    "    acc_thresh=0.05, dim=dim, default_end=CALLBACK_END)\n",
    "\n",
    "# Fit model\n",
    "conv = model.fit(x0=coeffs_start, optimizer=torch.optim.Adam, lr=0.1,\n",
    "                 lr_sched=0.9999, tol=1e-4, max_iter=MLE_N_ITER,\n",
    "                 penalty=tsvar.priors.GaussianPrior, C=1e10,\n",
    "                 seed=None, callback=callback)\n",
    "coeffs_hat = model.coeffs.detach().numpy()"
   ]
  },
  {
   "cell_type": "markdown",
   "metadata": {},
   "source": [
    "---\n",
    "\n",
    "## Test BBVI"
   ]
  },
  {
   "cell_type": "code",
   "execution_count": 31,
   "metadata": {},
   "outputs": [
    {
     "name": "stdout",
     "output_type": "stream",
     "text": [
      "iter:   100 | dx: +9.2621e-04 | loss: 1.8526e+05 | dloss: +1.02e+02 | acc: 0.49 | f1-score: 0.66 | relerr: 9.21e-01 | p@5: 1.00 | p@10: 1.00 | p@20: 1.00 | time/it: 2.97e-02     \n",
      "iter:   200 | dx: +1.3311e-03 | loss: 1.8458e+05 | dloss: +1.29e+02 | acc: 0.49 | f1-score: 0.66 | relerr: 8.51e-01 | p@5: 1.00 | p@10: 1.00 | p@20: 1.00 | time/it: 2.86e-02     \n",
      "iter:   300 | dx: +8.7562e-04 | loss: 1.8412e+05 | dloss: +4.04e+00 | acc: 0.49 | f1-score: 0.66 | relerr: 7.72e-01 | p@5: 1.00 | p@10: 1.00 | p@20: 1.00 | time/it: 2.82e-02     \n",
      "iter:   400 | dx: +1.0891e-03 | loss: 1.8401e+05 | dloss: +8.55e+01 | acc: 0.49 | f1-score: 0.66 | relerr: 7.30e-01 | p@5: 1.00 | p@10: 1.00 | p@20: 1.00 | time/it: 2.87e-02     \n",
      "iter:   500 | dx: +1.2474e-03 | loss: 1.8386e+05 | dloss: -3.52e+01 | acc: 0.49 | f1-score: 0.66 | relerr: 6.87e-01 | p@5: 1.00 | p@10: 1.00 | p@20: 1.00 | time/it: 2.82e-02     \n",
      "iter:   600 | dx: +1.2591e-03 | loss: 1.8376e+05 | dloss: +4.67e+01 | acc: 0.49 | f1-score: 0.66 | relerr: 6.67e-01 | p@5: 1.00 | p@10: 1.00 | p@20: 1.00 | time/it: 2.85e-02     \n",
      "iter:   700 | dx: +8.2606e-04 | loss: 1.8371e+05 | dloss: +6.04e+00 | acc: 0.49 | f1-score: 0.66 | relerr: 6.45e-01 | p@5: 1.00 | p@10: 1.00 | p@20: 1.00 | time/it: 2.90e-02     \n",
      "iter:   800 | dx: +1.1466e-03 | loss: 1.8373e+05 | dloss: +2.71e+01 | acc: 0.50 | f1-score: 0.66 | relerr: 6.24e-01 | p@5: 1.00 | p@10: 1.00 | p@20: 1.00 | time/it: 2.91e-02     \n",
      "iter:   900 | dx: +1.1296e-03 | loss: 1.8369e+05 | dloss: +2.12e+01 | acc: 0.50 | f1-score: 0.66 | relerr: 6.19e-01 | p@5: 1.00 | p@10: 1.00 | p@20: 1.00 | time/it: 3.20e-02     \n",
      "iter:  1000 | dx: +8.2013e-04 | loss: 1.8367e+05 | dloss: +2.29e+00 | acc: 0.50 | f1-score: 0.66 | relerr: 6.05e-01 | p@5: 1.00 | p@10: 1.00 | p@20: 1.00 | time/it: 3.21e-02     \n",
      "iter:  1100 | dx: +1.1466e-03 | loss: 1.8367e+05 | dloss: +1.38e+01 | acc: 0.50 | f1-score: 0.66 | relerr: 5.96e-01 | p@5: 1.00 | p@10: 1.00 | p@20: 1.00 | time/it: 3.14e-02     \n",
      "iter:  1200 | dx: +2.4882e-03 | loss: 1.8363e+05 | dloss: -3.12e+01 | acc: 0.50 | f1-score: 0.66 | relerr: 5.87e-01 | p@5: 1.00 | p@10: 1.00 | p@20: 1.00 | time/it: 2.90e-02     \n",
      "iter:  1300 | dx: +2.1076e-03 | loss: 1.8369e+05 | dloss: +5.75e+01 | acc: 0.51 | f1-score: 0.67 | relerr: 5.88e-01 | p@5: 1.00 | p@10: 1.00 | p@20: 1.00 | time/it: 3.38e-02     \n",
      "iter:  1400 | dx: +2.9449e-03 | loss: 1.8367e+05 | dloss: -5.28e+01 | acc: 0.51 | f1-score: 0.67 | relerr: 5.79e-01 | p@5: 1.00 | p@10: 1.00 | p@20: 1.00 | time/it: 2.96e-02     \n"
     ]
    },
    {
     "ename": "KeyboardInterrupt",
     "evalue": "",
     "output_type": "error",
     "traceback": [
      "\u001b[0;31m---------------------------------------------------------------------------\u001b[0m",
      "\u001b[0;31mKeyboardInterrupt\u001b[0m                         Traceback (most recent call last)",
      "\u001b[0;32m<ipython-input-31-a91c8b0d46f5>\u001b[0m in \u001b[0;36m<module>\u001b[0;34m\u001b[0m\n\u001b[1;32m     59\u001b[0m                  \u001b[0mlr_sched\u001b[0m\u001b[0;34m=\u001b[0m\u001b[0;36m0.9999\u001b[0m\u001b[0;34m,\u001b[0m \u001b[0mtol\u001b[0m\u001b[0;34m=\u001b[0m\u001b[0;36m1e-6\u001b[0m\u001b[0;34m,\u001b[0m \u001b[0mmax_iter\u001b[0m\u001b[0;34m=\u001b[0m\u001b[0mBBVI_N_ITER\u001b[0m\u001b[0;34m,\u001b[0m\u001b[0;34m\u001b[0m\u001b[0;34m\u001b[0m\u001b[0m\n\u001b[1;32m     60\u001b[0m                  \u001b[0mmstep_interval\u001b[0m\u001b[0;34m=\u001b[0m\u001b[0;36m100\u001b[0m\u001b[0;34m,\u001b[0m \u001b[0mmstep_offset\u001b[0m\u001b[0;34m=\u001b[0m\u001b[0;36m500\u001b[0m\u001b[0;34m,\u001b[0m \u001b[0mmstep_momentum\u001b[0m\u001b[0;34m=\u001b[0m\u001b[0;36m0.5\u001b[0m\u001b[0;34m,\u001b[0m\u001b[0;34m\u001b[0m\u001b[0;34m\u001b[0m\u001b[0m\n\u001b[0;32m---> 61\u001b[0;31m                  seed=None, callback=callback)\n\u001b[0m",
      "\u001b[0;32m~/Workspace/EPFL/research/ongoing/var-wold/tsvar/models/_wold_bbvi.py\u001b[0m in \u001b[0;36mfit\u001b[0;34m(self, *args, **kwargs)\u001b[0m\n\u001b[1;32m      6\u001b[0m \u001b[0;34m\u001b[0m\u001b[0m\n\u001b[1;32m      7\u001b[0m     \u001b[0;32mdef\u001b[0m \u001b[0mfit\u001b[0m\u001b[0;34m(\u001b[0m\u001b[0mself\u001b[0m\u001b[0;34m,\u001b[0m \u001b[0;34m*\u001b[0m\u001b[0margs\u001b[0m\u001b[0;34m,\u001b[0m \u001b[0;34m**\u001b[0m\u001b[0mkwargs\u001b[0m\u001b[0;34m)\u001b[0m\u001b[0;34m:\u001b[0m\u001b[0;34m\u001b[0m\u001b[0;34m\u001b[0m\u001b[0m\n\u001b[0;32m----> 8\u001b[0;31m         \u001b[0;32mreturn\u001b[0m \u001b[0msuper\u001b[0m\u001b[0;34m(\u001b[0m\u001b[0;34m)\u001b[0m\u001b[0;34m.\u001b[0m\u001b[0mfit\u001b[0m\u001b[0;34m(\u001b[0m\u001b[0mobjective_func\u001b[0m\u001b[0;34m=\u001b[0m\u001b[0mself\u001b[0m\u001b[0;34m.\u001b[0m\u001b[0mbbvi_objective\u001b[0m\u001b[0;34m,\u001b[0m \u001b[0;34m*\u001b[0m\u001b[0margs\u001b[0m\u001b[0;34m,\u001b[0m \u001b[0;34m**\u001b[0m\u001b[0mkwargs\u001b[0m\u001b[0;34m)\u001b[0m\u001b[0;34m\u001b[0m\u001b[0;34m\u001b[0m\u001b[0m\n\u001b[0m",
      "\u001b[0;32m~/Workspace/EPFL/research/ongoing/var-wold/tsvar/utils/decorators.py\u001b[0m in \u001b[0;36mwrapped\u001b[0;34m(self, *args, **kwargs)\u001b[0m\n\u001b[1;32m      6\u001b[0m     \u001b[0;32mdef\u001b[0m \u001b[0mwrapped\u001b[0m\u001b[0;34m(\u001b[0m\u001b[0mself\u001b[0m\u001b[0;34m,\u001b[0m \u001b[0;34m*\u001b[0m\u001b[0margs\u001b[0m\u001b[0;34m,\u001b[0m \u001b[0;34m**\u001b[0m\u001b[0mkwargs\u001b[0m\u001b[0;34m)\u001b[0m\u001b[0;34m:\u001b[0m\u001b[0;34m\u001b[0m\u001b[0;34m\u001b[0m\u001b[0m\n\u001b[1;32m      7\u001b[0m         \u001b[0;32mif\u001b[0m \u001b[0mself\u001b[0m\u001b[0;34m.\u001b[0m\u001b[0m_observed\u001b[0m\u001b[0;34m:\u001b[0m\u001b[0;34m\u001b[0m\u001b[0;34m\u001b[0m\u001b[0m\n\u001b[0;32m----> 8\u001b[0;31m             \u001b[0;32mreturn\u001b[0m \u001b[0mfn\u001b[0m\u001b[0;34m(\u001b[0m\u001b[0mself\u001b[0m\u001b[0;34m,\u001b[0m \u001b[0;34m*\u001b[0m\u001b[0margs\u001b[0m\u001b[0;34m,\u001b[0m \u001b[0;34m**\u001b[0m\u001b[0mkwargs\u001b[0m\u001b[0;34m)\u001b[0m\u001b[0;34m\u001b[0m\u001b[0;34m\u001b[0m\u001b[0m\n\u001b[0m\u001b[1;32m      9\u001b[0m         \u001b[0;32melse\u001b[0m\u001b[0;34m:\u001b[0m\u001b[0;34m\u001b[0m\u001b[0;34m\u001b[0m\u001b[0m\n\u001b[1;32m     10\u001b[0m             raise Exception(('Model is not properly set. '\n",
      "\u001b[0;32m~/Workspace/EPFL/research/ongoing/var-wold/tsvar/fitter.py\u001b[0m in \u001b[0;36mfit\u001b[0;34m(self, objective_func, x0, optimizer, lr, lr_sched, tol, max_iter, mstep_interval, mstep_offset, mstep_momentum, seed, callback)\u001b[0m\n\u001b[1;32m    270\u001b[0m             \u001b[0mself\u001b[0m\u001b[0;34m.\u001b[0m\u001b[0m_n_iter_done\u001b[0m \u001b[0;34m=\u001b[0m \u001b[0mt\u001b[0m\u001b[0;34m\u001b[0m\u001b[0;34m\u001b[0m\u001b[0m\n\u001b[1;32m    271\u001b[0m             \u001b[0;31m# E step\u001b[0m\u001b[0;34m\u001b[0m\u001b[0;34m\u001b[0m\u001b[0;34m\u001b[0m\u001b[0m\n\u001b[0;32m--> 272\u001b[0;31m             \u001b[0mself\u001b[0m\u001b[0;34m.\u001b[0m\u001b[0m_e_step\u001b[0m\u001b[0;34m(\u001b[0m\u001b[0;34m)\u001b[0m\u001b[0;34m\u001b[0m\u001b[0;34m\u001b[0m\u001b[0m\n\u001b[0m\u001b[1;32m    273\u001b[0m             \u001b[0;31m# M step\u001b[0m\u001b[0;34m\u001b[0m\u001b[0;34m\u001b[0m\u001b[0;34m\u001b[0m\u001b[0m\n\u001b[1;32m    274\u001b[0m             \u001b[0mself\u001b[0m\u001b[0;34m.\u001b[0m\u001b[0m_m_step\u001b[0m\u001b[0;34m(\u001b[0m\u001b[0;34m)\u001b[0m\u001b[0;34m\u001b[0m\u001b[0;34m\u001b[0m\u001b[0m\n",
      "\u001b[0;32m~/Workspace/EPFL/research/ongoing/var-wold/tsvar/fitter.py\u001b[0m in \u001b[0;36m_e_step\u001b[0;34m(self)\u001b[0m\n\u001b[1;32m    195\u001b[0m         \u001b[0;31m# Gradient update\u001b[0m\u001b[0;34m\u001b[0m\u001b[0;34m\u001b[0m\u001b[0;34m\u001b[0m\u001b[0m\n\u001b[1;32m    196\u001b[0m         \u001b[0mself\u001b[0m\u001b[0;34m.\u001b[0m\u001b[0moptimizer\u001b[0m\u001b[0;34m.\u001b[0m\u001b[0mzero_grad\u001b[0m\u001b[0;34m(\u001b[0m\u001b[0;34m)\u001b[0m\u001b[0;34m\u001b[0m\u001b[0;34m\u001b[0m\u001b[0m\n\u001b[0;32m--> 197\u001b[0;31m         \u001b[0mself\u001b[0m\u001b[0;34m.\u001b[0m\u001b[0m_loss\u001b[0m \u001b[0;34m=\u001b[0m \u001b[0mself\u001b[0m\u001b[0;34m.\u001b[0m\u001b[0m_objective_func\u001b[0m\u001b[0;34m(\u001b[0m\u001b[0mself\u001b[0m\u001b[0;34m.\u001b[0m\u001b[0mcoeffs\u001b[0m\u001b[0;34m)\u001b[0m\u001b[0;34m\u001b[0m\u001b[0;34m\u001b[0m\u001b[0m\n\u001b[0m\u001b[1;32m    198\u001b[0m         \u001b[0mself\u001b[0m\u001b[0;34m.\u001b[0m\u001b[0m_loss\u001b[0m\u001b[0;34m.\u001b[0m\u001b[0mbackward\u001b[0m\u001b[0;34m(\u001b[0m\u001b[0;34m)\u001b[0m\u001b[0;34m\u001b[0m\u001b[0;34m\u001b[0m\u001b[0m\n\u001b[1;32m    199\u001b[0m         \u001b[0mself\u001b[0m\u001b[0;34m.\u001b[0m\u001b[0moptimizer\u001b[0m\u001b[0;34m.\u001b[0m\u001b[0mstep\u001b[0m\u001b[0;34m(\u001b[0m\u001b[0;34m)\u001b[0m\u001b[0;34m\u001b[0m\u001b[0;34m\u001b[0m\u001b[0m\n",
      "\u001b[0;32m~/Workspace/EPFL/research/ongoing/var-wold/tsvar/utils/decorators.py\u001b[0m in \u001b[0;36mwrapped\u001b[0;34m(self, *args, **kwargs)\u001b[0m\n\u001b[1;32m      6\u001b[0m     \u001b[0;32mdef\u001b[0m \u001b[0mwrapped\u001b[0m\u001b[0;34m(\u001b[0m\u001b[0mself\u001b[0m\u001b[0;34m,\u001b[0m \u001b[0;34m*\u001b[0m\u001b[0margs\u001b[0m\u001b[0;34m,\u001b[0m \u001b[0;34m**\u001b[0m\u001b[0mkwargs\u001b[0m\u001b[0;34m)\u001b[0m\u001b[0;34m:\u001b[0m\u001b[0;34m\u001b[0m\u001b[0;34m\u001b[0m\u001b[0m\n\u001b[1;32m      7\u001b[0m         \u001b[0;32mif\u001b[0m \u001b[0mself\u001b[0m\u001b[0;34m.\u001b[0m\u001b[0m_observed\u001b[0m\u001b[0;34m:\u001b[0m\u001b[0;34m\u001b[0m\u001b[0;34m\u001b[0m\u001b[0m\n\u001b[0;32m----> 8\u001b[0;31m             \u001b[0;32mreturn\u001b[0m \u001b[0mfn\u001b[0m\u001b[0;34m(\u001b[0m\u001b[0mself\u001b[0m\u001b[0;34m,\u001b[0m \u001b[0;34m*\u001b[0m\u001b[0margs\u001b[0m\u001b[0;34m,\u001b[0m \u001b[0;34m**\u001b[0m\u001b[0mkwargs\u001b[0m\u001b[0;34m)\u001b[0m\u001b[0;34m\u001b[0m\u001b[0;34m\u001b[0m\u001b[0m\n\u001b[0m\u001b[1;32m      9\u001b[0m         \u001b[0;32melse\u001b[0m\u001b[0;34m:\u001b[0m\u001b[0;34m\u001b[0m\u001b[0;34m\u001b[0m\u001b[0m\n\u001b[1;32m     10\u001b[0m             raise Exception(('Model is not properly set. '\n",
      "\u001b[0;32m~/Workspace/EPFL/research/ongoing/var-wold/tsvar/models/_models.py\u001b[0m in \u001b[0;36mbbvi_objective\u001b[0;34m(self, x, seed)\u001b[0m\n\u001b[1;32m    147\u001b[0m         \u001b[0;31m# Compute a Monte Carlo estimate of the expectation\u001b[0m\u001b[0;34m\u001b[0m\u001b[0;34m\u001b[0m\u001b[0;34m\u001b[0m\u001b[0m\n\u001b[1;32m    148\u001b[0m         \u001b[0;32mfor\u001b[0m \u001b[0ml\u001b[0m \u001b[0;32min\u001b[0m \u001b[0mrange\u001b[0m\u001b[0;34m(\u001b[0m\u001b[0mself\u001b[0m\u001b[0;34m.\u001b[0m\u001b[0mn_samples\u001b[0m\u001b[0;34m)\u001b[0m\u001b[0;34m:\u001b[0m\u001b[0;34m\u001b[0m\u001b[0;34m\u001b[0m\u001b[0m\n\u001b[0;32m--> 149\u001b[0;31m             \u001b[0mvalue\u001b[0m \u001b[0;34m+=\u001b[0m \u001b[0mself\u001b[0m\u001b[0;34m.\u001b[0m\u001b[0m_objective_l\u001b[0m\u001b[0;34m(\u001b[0m\u001b[0meps_arr\u001b[0m\u001b[0;34m[\u001b[0m\u001b[0ml\u001b[0m\u001b[0;34m]\u001b[0m\u001b[0;34m,\u001b[0m  \u001b[0malpha\u001b[0m\u001b[0;34m,\u001b[0m \u001b[0mbeta\u001b[0m\u001b[0;34m)\u001b[0m\u001b[0;34m\u001b[0m\u001b[0;34m\u001b[0m\u001b[0m\n\u001b[0m\u001b[1;32m    150\u001b[0m         \u001b[0mvalue\u001b[0m \u001b[0;34m/=\u001b[0m \u001b[0mself\u001b[0m\u001b[0;34m.\u001b[0m\u001b[0mn_samples\u001b[0m\u001b[0;34m\u001b[0m\u001b[0;34m\u001b[0m\u001b[0m\n\u001b[1;32m    151\u001b[0m         \u001b[0mvalue\u001b[0m \u001b[0;34m*=\u001b[0m \u001b[0;34m-\u001b[0m\u001b[0;36m1.0\u001b[0m  \u001b[0;31m# Negative ELBO (we want to minimize it)\u001b[0m\u001b[0;34m\u001b[0m\u001b[0;34m\u001b[0m\u001b[0m\n",
      "\u001b[0;32m~/Workspace/EPFL/research/ongoing/var-wold/tsvar/models/_models.py\u001b[0m in \u001b[0;36m_objective_l\u001b[0;34m(self, eps_l, alpha, beta)\u001b[0m\n\u001b[1;32m    115\u001b[0m             \u001b[0meps\u001b[0m \u001b[0;34m=\u001b[0m \u001b[0meps_l\u001b[0m\u001b[0;34m[\u001b[0m\u001b[0mi\u001b[0m\u001b[0;34m]\u001b[0m\u001b[0;34m\u001b[0m\u001b[0;34m\u001b[0m\u001b[0m\n\u001b[1;32m    116\u001b[0m             \u001b[0;31m# Compute the importance weights (and their gradients)\u001b[0m\u001b[0;34m\u001b[0m\u001b[0;34m\u001b[0m\u001b[0;34m\u001b[0m\u001b[0m\n\u001b[0;32m--> 117\u001b[0;31m             \u001b[0mlog_w_arr\u001b[0m\u001b[0;34m[\u001b[0m\u001b[0mi\u001b[0m\u001b[0;34m]\u001b[0m \u001b[0;34m=\u001b[0m \u001b[0mself\u001b[0m\u001b[0;34m.\u001b[0m\u001b[0m_log_importance_weight\u001b[0m\u001b[0;34m(\u001b[0m\u001b[0meps\u001b[0m\u001b[0;34m,\u001b[0m \u001b[0malpha\u001b[0m\u001b[0;34m,\u001b[0m \u001b[0mbeta\u001b[0m\u001b[0;34m)\u001b[0m\u001b[0;34m\u001b[0m\u001b[0;34m\u001b[0m\u001b[0m\n\u001b[0m\u001b[1;32m    118\u001b[0m         \u001b[0;31m# Temper the weights\u001b[0m\u001b[0;34m\u001b[0m\u001b[0;34m\u001b[0m\u001b[0;34m\u001b[0m\u001b[0m\n\u001b[1;32m    119\u001b[0m         \u001b[0mlog_w_arr\u001b[0m \u001b[0;34m/=\u001b[0m \u001b[0mself\u001b[0m\u001b[0;34m.\u001b[0m\u001b[0mweight_temp\u001b[0m\u001b[0;34m\u001b[0m\u001b[0;34m\u001b[0m\u001b[0m\n",
      "\u001b[0;32m~/Workspace/EPFL/research/ongoing/var-wold/tsvar/models/_models.py\u001b[0m in \u001b[0;36m_log_importance_weight\u001b[0;34m(self, eps, alpha, beta)\u001b[0m\n\u001b[1;32m    102\u001b[0m         \u001b[0mz\u001b[0m \u001b[0;34m=\u001b[0m \u001b[0mself\u001b[0m\u001b[0;34m.\u001b[0m\u001b[0mposterior\u001b[0m\u001b[0;34m.\u001b[0m\u001b[0mg\u001b[0m\u001b[0;34m(\u001b[0m\u001b[0meps\u001b[0m\u001b[0;34m,\u001b[0m \u001b[0malpha\u001b[0m\u001b[0;34m,\u001b[0m \u001b[0mbeta\u001b[0m\u001b[0;34m)\u001b[0m\u001b[0;34m\u001b[0m\u001b[0;34m\u001b[0m\u001b[0m\n\u001b[1;32m    103\u001b[0m         \u001b[0;31m# Evaluate the log-likelihood\u001b[0m\u001b[0;34m\u001b[0m\u001b[0;34m\u001b[0m\u001b[0;34m\u001b[0m\u001b[0m\n\u001b[0;32m--> 104\u001b[0;31m         \u001b[0mloglik\u001b[0m \u001b[0;34m=\u001b[0m \u001b[0mself\u001b[0m\u001b[0;34m.\u001b[0m\u001b[0mlog_likelihood\u001b[0m\u001b[0;34m(\u001b[0m\u001b[0mz\u001b[0m\u001b[0;34m)\u001b[0m\u001b[0;34m\u001b[0m\u001b[0;34m\u001b[0m\u001b[0m\n\u001b[0m\u001b[1;32m    105\u001b[0m         \u001b[0;31m# Compute the log-prior\u001b[0m\u001b[0;34m\u001b[0m\u001b[0;34m\u001b[0m\u001b[0;34m\u001b[0m\u001b[0m\n\u001b[1;32m    106\u001b[0m         \u001b[0mlogprior\u001b[0m \u001b[0;34m=\u001b[0m \u001b[0mself\u001b[0m\u001b[0;34m.\u001b[0m\u001b[0mprior\u001b[0m\u001b[0;34m.\u001b[0m\u001b[0mlogprior\u001b[0m\u001b[0;34m(\u001b[0m\u001b[0mz\u001b[0m\u001b[0;34m)\u001b[0m\u001b[0;34m\u001b[0m\u001b[0;34m\u001b[0m\u001b[0m\n",
      "\u001b[0;32m~/Workspace/EPFL/research/ongoing/var-wold/tsvar/utils/decorators.py\u001b[0m in \u001b[0;36mwrapped\u001b[0;34m(self, *args, **kwargs)\u001b[0m\n\u001b[1;32m      6\u001b[0m     \u001b[0;32mdef\u001b[0m \u001b[0mwrapped\u001b[0m\u001b[0;34m(\u001b[0m\u001b[0mself\u001b[0m\u001b[0;34m,\u001b[0m \u001b[0;34m*\u001b[0m\u001b[0margs\u001b[0m\u001b[0;34m,\u001b[0m \u001b[0;34m**\u001b[0m\u001b[0mkwargs\u001b[0m\u001b[0;34m)\u001b[0m\u001b[0;34m:\u001b[0m\u001b[0;34m\u001b[0m\u001b[0;34m\u001b[0m\u001b[0m\n\u001b[1;32m      7\u001b[0m         \u001b[0;32mif\u001b[0m \u001b[0mself\u001b[0m\u001b[0;34m.\u001b[0m\u001b[0m_observed\u001b[0m\u001b[0;34m:\u001b[0m\u001b[0;34m\u001b[0m\u001b[0;34m\u001b[0m\u001b[0m\n\u001b[0;32m----> 8\u001b[0;31m             \u001b[0;32mreturn\u001b[0m \u001b[0mfn\u001b[0m\u001b[0;34m(\u001b[0m\u001b[0mself\u001b[0m\u001b[0;34m,\u001b[0m \u001b[0;34m*\u001b[0m\u001b[0margs\u001b[0m\u001b[0;34m,\u001b[0m \u001b[0;34m**\u001b[0m\u001b[0mkwargs\u001b[0m\u001b[0;34m)\u001b[0m\u001b[0;34m\u001b[0m\u001b[0;34m\u001b[0m\u001b[0m\n\u001b[0m\u001b[1;32m      9\u001b[0m         \u001b[0;32melse\u001b[0m\u001b[0;34m:\u001b[0m\u001b[0;34m\u001b[0m\u001b[0;34m\u001b[0m\u001b[0m\n\u001b[1;32m     10\u001b[0m             raise Exception(('Model is not properly set. '\n",
      "\u001b[0;32m~/Workspace/EPFL/research/ongoing/var-wold/tsvar/models/_wold.py\u001b[0m in \u001b[0;36mlog_likelihood\u001b[0;34m(self, coeffs)\u001b[0m\n\u001b[1;32m    245\u001b[0m             \u001b[0mlog_like\u001b[0m \u001b[0;34m+=\u001b[0m \u001b[0mlam_ik_arr\u001b[0m\u001b[0;34m[\u001b[0m\u001b[0;34m:\u001b[0m\u001b[0;34m-\u001b[0m\u001b[0;36m1\u001b[0m\u001b[0;34m]\u001b[0m\u001b[0;34m.\u001b[0m\u001b[0mlog\u001b[0m\u001b[0;34m(\u001b[0m\u001b[0;34m)\u001b[0m\u001b[0;34m.\u001b[0m\u001b[0msum\u001b[0m\u001b[0;34m(\u001b[0m\u001b[0;34m)\u001b[0m\u001b[0;34m\u001b[0m\u001b[0;34m\u001b[0m\u001b[0m\n\u001b[1;32m    246\u001b[0m             \u001b[0;31m# Subtract the integral term\u001b[0m\u001b[0;34m\u001b[0m\u001b[0;34m\u001b[0m\u001b[0;34m\u001b[0m\u001b[0m\n\u001b[0;32m--> 247\u001b[0;31m             \u001b[0mlog_like\u001b[0m \u001b[0;34m-=\u001b[0m \u001b[0mlam_ik_arr\u001b[0m\u001b[0;34m[\u001b[0m\u001b[0;36m0\u001b[0m\u001b[0;34m]\u001b[0m \u001b[0;34m*\u001b[0m \u001b[0mself\u001b[0m\u001b[0;34m.\u001b[0m\u001b[0mevents\u001b[0m\u001b[0;34m[\u001b[0m\u001b[0mi\u001b[0m\u001b[0;34m]\u001b[0m\u001b[0;34m[\u001b[0m\u001b[0;36m0\u001b[0m\u001b[0;34m]\u001b[0m\u001b[0;34m\u001b[0m\u001b[0;34m\u001b[0m\u001b[0m\n\u001b[0m\u001b[1;32m    248\u001b[0m             log_like -= torch.sum(lam_ik_arr[1:]\n\u001b[1;32m    249\u001b[0m                                   * (self.events[i][1:] - self.events[i][:-1]))\n",
      "\u001b[0;31mKeyboardInterrupt\u001b[0m: "
     ]
    }
   ],
   "source": [
    "dim = len(events)\n",
    "n_params = dim + dim**2 + dim**2\n",
    "# set random seed\n",
    "np.random.seed(seed)\n",
    "torch.manual_seed(seed)\n",
    "# Set initial guess\n",
    "coeffs_start = torch.tensor(np.hstack((\n",
    "    # loc\n",
    "    -2.0 * torch.ones(dim, dtype=torch.float),                  # baseline\n",
    "    0.0 * torch.ones((dim, dim), dtype=torch.float).flatten(),  # beta\n",
    "    0.0 * torch.ones((dim, dim), dtype=torch.float).flatten(),  # adjacency\n",
    "    # scale\n",
    "    torch.log(0.2 * torch.ones(dim, dtype=torch.float)),\n",
    "    torch.log(0.2 * torch.ones((dim, dim), dtype=torch.float).flatten()),\n",
    "    torch.log(0.2 * torch.ones((dim, dim), dtype=torch.float).flatten()),\n",
    ")))\n",
    "# Extract ground truth\n",
    "coeffs_true = np.hstack((coeffs_true_dict['baseline'],\n",
    "                         np.array(coeffs_true_dict['beta']).flatten(),\n",
    "                         np.array(coeffs_true_dict['adjacency']).flatten()))\n",
    "\n",
    "# Define priors/posteriors\n",
    "posterior = tsvar.posteriors.LogNormalPosterior\n",
    "prior = tsvar.priors.GaussianLaplacianPrior\n",
    "mask_gaus = torch.zeros(n_params, dtype=torch.bool)\n",
    "mask_gaus[:dim + dim**2] = 1  # Gaussian prior for baseline and beta\n",
    "C = 1e3\n",
    "\n",
    "# Init the model object\n",
    "model = tsvar.models.WoldModelBBVI(posterior=posterior, prior=prior, C=C,\n",
    "                                   prior_kwargs={'mask_gaus': mask_gaus},\n",
    "                                   n_samples=1, n_weights=1, weight_temp=1,\n",
    "                                   verbose=False, device='cpu')\n",
    "model.observe(events, end_time)\n",
    "\n",
    "# Set link function for callback (vi coeffs -> posterior mode)\n",
    "def link_func(coeffs):\n",
    "    \"\"\"variationa coeffs -> posterior mode of adjacency\"\"\"\n",
    "    # Numpy to torch\n",
    "    coeffs = torch.tensor(coeffs) if isinstance(coeffs, np.ndarray) else coeffs\n",
    "    return model.posterior.mode(\n",
    "        coeffs[:model.n_params], coeffs[model.n_params:]\n",
    "    ).detach().numpy()[dim+dim**2:]\n",
    "\n",
    "# Set the callback (callback parameters are posterior mode)\n",
    "callback = tsvar.utils.callbacks.LearnerCallbackMLE(\n",
    "    x0=posterior().mode(\n",
    "        coeffs_start[:dim+2*dim**2], coeffs_start[dim+2*dim**2:]\n",
    "    )[dim+dim**2:],\n",
    "    print_every=PRINT_EVERY,\n",
    "    coeffs_true=coeffs_true,\n",
    "    acc_thresh=0.05,\n",
    "    dim=dim,\n",
    "    link_func=link_func,\n",
    "    default_end=CALLBACK_END)\n",
    "\n",
    "# Fit the model\n",
    "conv = model.fit(x0=coeffs_start, optimizer=torch.optim.Adam, lr=1e-1,\n",
    "                 lr_sched=0.9999, tol=1e-6, max_iter=BBVI_N_ITER,\n",
    "                 mstep_interval=100, mstep_offset=500, mstep_momentum=0.5,\n",
    "                 seed=None, callback=callback)"
   ]
  },
  {
   "cell_type": "code",
   "execution_count": null,
   "metadata": {},
   "outputs": [],
   "source": []
  },
  {
   "cell_type": "markdown",
   "metadata": {},
   "source": [
    "---\n",
    "\n",
    "## Test VI-fb\n",
    "\n",
    "Algorithm: Mean-Field VI with fixed $\\{\\beta\\}$s using `WoldModelVariationalFixedBeta`"
   ]
  },
  {
   "cell_type": "code",
   "execution_count": 45,
   "metadata": {
    "scrolled": true
   },
   "outputs": [
    {
     "name": "stdout",
     "output_type": "stream",
     "text": [
      "iter:    10 | dx: +8.1321e-03 | acc: 0.82 | f1-score: 0.82 | relerr: 3.10e-01 | p@5: 1.00 | p@10: 1.00 | p@20: 1.00 | time/it: 2.33e-02     \n",
      "iter:    20 | dx: +2.5076e-03 | acc: 0.98 | f1-score: 0.98 | relerr: 1.91e-01 | p@5: 1.00 | p@10: 1.00 | p@20: 1.00 | time/it: 2.31e-02     \n",
      "iter:    30 | dx: +1.5090e-03 | acc: 1.00 | f1-score: 1.00 | relerr: 1.47e-01 | p@5: 1.00 | p@10: 1.00 | p@20: 1.00 | time/it: 3.78e-02     \n",
      "iter:    40 | dx: +8.4949e-04 | acc: 1.00 | f1-score: 1.00 | relerr: 1.23e-01 | p@5: 1.00 | p@10: 1.00 | p@20: 1.00 | time/it: 3.68e-02     \n",
      "iter:    50 | dx: +4.5760e-04 | acc: 1.00 | f1-score: 1.00 | relerr: 1.08e-01 | p@5: 1.00 | p@10: 1.00 | p@20: 1.00 | time/it: 2.21e-02     \n",
      "iter:    60 | dx: +3.7890e-04 | acc: 1.00 | f1-score: 1.00 | relerr: 9.77e-02 | p@5: 1.00 | p@10: 1.00 | p@20: 1.00 | time/it: 2.25e-02     \n",
      "iter:    70 | dx: +3.1147e-04 | acc: 1.00 | f1-score: 1.00 | relerr: 8.94e-02 | p@5: 1.00 | p@10: 1.00 | p@20: 1.00 | time/it: 2.48e-02     \n",
      "iter:    80 | dx: +2.4975e-04 | acc: 1.00 | f1-score: 1.00 | relerr: 8.26e-02 | p@5: 1.00 | p@10: 1.00 | p@20: 1.00 | time/it: 3.48e-02     \n",
      "iter:    90 | dx: +2.0711e-04 | acc: 1.00 | f1-score: 1.00 | relerr: 7.67e-02 | p@5: 1.00 | p@10: 1.00 | p@20: 1.00 | time/it: 2.46e-02     \n",
      "iter:   100 | dx: +1.7500e-04 | acc: 1.00 | f1-score: 1.00 | relerr: 7.17e-02 | p@5: 1.00 | p@10: 1.00 | p@20: 1.00 | time/it: 2.23e-02     \n",
      "iter:   110 | dx: +1.5826e-04 | acc: 1.00 | f1-score: 1.00 | relerr: 6.75e-02 | p@5: 1.00 | p@10: 1.00 | p@20: 1.00 | time/it: 2.35e-02     \n",
      "iter:   120 | dx: +1.4297e-04 | acc: 1.00 | f1-score: 1.00 | relerr: 6.38e-02 | p@5: 1.00 | p@10: 1.00 | p@20: 1.00 | time/it: 2.36e-02     \n",
      "iter:   130 | dx: +1.3490e-04 | acc: 1.00 | f1-score: 1.00 | relerr: 6.07e-02 | p@5: 1.00 | p@10: 1.00 | p@20: 1.00 | time/it: 2.22e-02     \n",
      "iter:   140 | dx: +1.2335e-04 | acc: 1.00 | f1-score: 1.00 | relerr: 5.78e-02 | p@5: 1.00 | p@10: 1.00 | p@20: 1.00 | time/it: 2.20e-02     \n",
      "iter:   150 | dx: +1.1311e-04 | acc: 1.00 | f1-score: 1.00 | relerr: 5.52e-02 | p@5: 1.00 | p@10: 1.00 | p@20: 1.00 | time/it: 2.24e-02     \n",
      "iter:   160 | dx: +1.0575e-04 | acc: 1.00 | f1-score: 1.00 | relerr: 5.29e-02 | p@5: 1.00 | p@10: 1.00 | p@20: 1.00 | time/it: 2.24e-02     \n",
      "iter:   170 | dx: +9.7323e-05 | acc: 1.00 | f1-score: 1.00 | relerr: 5.08e-02 | p@5: 1.00 | p@10: 1.00 | p@20: 1.00 | time/it: 2.32e-02     \n",
      "iter:   180 | dx: +9.0926e-05 | acc: 1.00 | f1-score: 1.00 | relerr: 4.90e-02 | p@5: 1.00 | p@10: 1.00 | p@20: 1.00 | time/it: 2.26e-02     \n",
      "iter:   190 | dx: +8.4692e-05 | acc: 1.00 | f1-score: 1.00 | relerr: 4.74e-02 | p@5: 1.00 | p@10: 1.00 | p@20: 1.00 | time/it: 2.37e-02     \n",
      "iter:   200 | dx: +7.9665e-05 | acc: 1.00 | f1-score: 1.00 | relerr: 4.60e-02 | p@5: 1.00 | p@10: 1.00 | p@20: 1.00 | time/it: 4.05e-02     \n",
      "iter:   210 | dx: +7.7927e-05 | acc: 1.00 | f1-score: 1.00 | relerr: 4.49e-02 | p@5: 1.00 | p@10: 1.00 | p@20: 1.00 | time/it: 2.45e-02     \n",
      "iter:   220 | dx: +1.0205e-04 | acc: 1.00 | f1-score: 1.00 | relerr: 4.39e-02 | p@5: 1.00 | p@10: 1.00 | p@20: 1.00 | time/it: 2.45e-02     \n",
      "iter:   230 | dx: +8.4852e-05 | acc: 1.00 | f1-score: 1.00 | relerr: 4.30e-02 | p@5: 1.00 | p@10: 1.00 | p@20: 1.00 | time/it: 2.38e-02     \n",
      "iter:   240 | dx: +9.0692e-05 | acc: 1.00 | f1-score: 1.00 | relerr: 4.22e-02 | p@5: 1.00 | p@10: 1.00 | p@20: 1.00 | time/it: 2.18e-02     \n",
      "iter:   250 | dx: +9.2740e-05 | acc: 1.00 | f1-score: 1.00 | relerr: 4.15e-02 | p@5: 1.00 | p@10: 1.00 | p@20: 1.00 | time/it: 2.32e-02     \n",
      "iter:   260 | dx: +5.4513e-05 | acc: 1.00 | f1-score: 1.00 | relerr: 4.09e-02 | p@5: 1.00 | p@10: 1.00 | p@20: 1.00 | time/it: 2.28e-02     \n",
      "iter:   270 | dx: +5.1593e-05 | acc: 1.00 | f1-score: 1.00 | relerr: 4.04e-02 | p@5: 1.00 | p@10: 1.00 | p@20: 1.00 | time/it: 2.60e-02     \n",
      "iter:   280 | dx: +5.6179e-05 | acc: 1.00 | f1-score: 1.00 | relerr: 4.00e-02 | p@5: 1.00 | p@10: 1.00 | p@20: 1.00 | time/it: 2.27e-02     \n",
      "iter:   290 | dx: +6.5528e-05 | acc: 1.00 | f1-score: 1.00 | relerr: 3.96e-02 | p@5: 1.00 | p@10: 1.00 | p@20: 1.00 | time/it: 2.55e-02     \n",
      "iter:   300 | dx: +6.8821e-05 | acc: 1.00 | f1-score: 1.00 | relerr: 3.93e-02 | p@5: 1.00 | p@10: 1.00 | p@20: 1.00 | time/it: 3.01e-02     \n",
      "iter:   310 | dx: +8.4039e-05 | acc: 1.00 | f1-score: 1.00 | relerr: 3.90e-02 | p@5: 1.00 | p@10: 1.00 | p@20: 1.00 | time/it: 2.43e-02     \n",
      "iter:   320 | dx: +5.0406e-05 | acc: 1.00 | f1-score: 1.00 | relerr: 3.88e-02 | p@5: 1.00 | p@10: 1.00 | p@20: 1.00 | time/it: 2.39e-02     \n",
      "iter:   330 | dx: +5.7275e-05 | acc: 1.00 | f1-score: 1.00 | relerr: 3.86e-02 | p@5: 1.00 | p@10: 1.00 | p@20: 1.00 | time/it: 5.65e-02     \n",
      "iter:   340 | dx: +5.3615e-05 | acc: 1.00 | f1-score: 1.00 | relerr: 3.84e-02 | p@5: 1.00 | p@10: 1.00 | p@20: 1.00 | time/it: 4.44e-02     \n",
      "iter:   350 | dx: +6.2241e-05 | acc: 1.00 | f1-score: 1.00 | relerr: 3.83e-02 | p@5: 1.00 | p@10: 1.00 | p@20: 1.00 | time/it: 2.89e-02     \n",
      "iter:   360 | dx: +6.5165e-05 | acc: 1.00 | f1-score: 1.00 | relerr: 3.81e-02 | p@5: 1.00 | p@10: 1.00 | p@20: 1.00 | time/it: 2.44e-02     \n",
      "iter:   370 | dx: +6.2107e-05 | acc: 1.00 | f1-score: 1.00 | relerr: 3.80e-02 | p@5: 1.00 | p@10: 1.00 | p@20: 1.00 | time/it: 2.35e-02     \n",
      "iter:   380 | dx: +4.6356e-05 | acc: 1.00 | f1-score: 1.00 | relerr: 3.79e-02 | p@5: 1.00 | p@10: 1.00 | p@20: 1.00 | time/it: 3.75e-02     \n",
      "iter:   390 | dx: +3.5487e-05 | acc: 1.00 | f1-score: 1.00 | relerr: 3.78e-02 | p@5: 1.00 | p@10: 1.00 | p@20: 1.00 | time/it: 2.39e-02     \n",
      "iter:   400 | dx: +4.8466e-05 | acc: 1.00 | f1-score: 1.00 | relerr: 3.78e-02 | p@5: 1.00 | p@10: 1.00 | p@20: 1.00 | time/it: 2.53e-02     \n",
      "iter:   410 | dx: +5.3207e-05 | acc: 1.00 | f1-score: 1.00 | relerr: 3.77e-02 | p@5: 1.00 | p@10: 1.00 | p@20: 1.00 | time/it: 2.45e-02     \n",
      "iter:   420 | dx: +3.6582e-05 | acc: 1.00 | f1-score: 1.00 | relerr: 3.76e-02 | p@5: 1.00 | p@10: 1.00 | p@20: 1.00 | time/it: 2.33e-02     \n",
      "iter:   430 | dx: +4.5442e-05 | acc: 1.00 | f1-score: 1.00 | relerr: 3.75e-02 | p@5: 1.00 | p@10: 1.00 | p@20: 1.00 | time/it: 2.38e-02     \n",
      "iter:   440 | dx: +5.2959e-05 | acc: 1.00 | f1-score: 1.00 | relerr: 3.75e-02 | p@5: 1.00 | p@10: 1.00 | p@20: 1.00 | time/it: 2.37e-02     \n",
      "iter:   450 | dx: +4.8539e-05 | acc: 1.00 | f1-score: 1.00 | relerr: 3.74e-02 | p@5: 1.00 | p@10: 1.00 | p@20: 1.00 | time/it: 2.32e-02     \n",
      "iter:   460 | dx: +3.9671e-05 | acc: 1.00 | f1-score: 1.00 | relerr: 3.73e-02 | p@5: 1.00 | p@10: 1.00 | p@20: 1.00 | time/it: 2.86e-02     \n",
      "iter:   470 | dx: +2.5806e-05 | acc: 1.00 | f1-score: 1.00 | relerr: 3.72e-02 | p@5: 1.00 | p@10: 1.00 | p@20: 1.00 | time/it: 2.55e-02     \n",
      "iter:   480 | dx: +3.2535e-05 | acc: 1.00 | f1-score: 1.00 | relerr: 3.71e-02 | p@5: 1.00 | p@10: 1.00 | p@20: 1.00 | time/it: 2.48e-02     \n",
      "iter:   490 | dx: +4.9266e-05 | acc: 1.00 | f1-score: 1.00 | relerr: 3.71e-02 | p@5: 1.00 | p@10: 1.00 | p@20: 1.00 | time/it: 2.35e-02     \n",
      "iter:   500 | dx: +4.3790e-05 | acc: 1.00 | f1-score: 1.00 | relerr: 3.70e-02 | p@5: 1.00 | p@10: 1.00 | p@20: 1.00 | time/it: 2.52e-02     \n",
      "iter:   510 | dx: +4.6335e-05 | acc: 1.00 | f1-score: 1.00 | relerr: 3.69e-02 | p@5: 1.00 | p@10: 1.00 | p@20: 1.00 | time/it: 2.30e-02     \n",
      "iter:   520 | dx: +2.0854e-05 | acc: 1.00 | f1-score: 1.00 | relerr: 3.69e-02 | p@5: 1.00 | p@10: 1.00 | p@20: 1.00 | time/it: 2.42e-02     \n",
      "iter:   530 | dx: +5.8345e-05 | acc: 1.00 | f1-score: 1.00 | relerr: 3.69e-02 | p@5: 1.00 | p@10: 1.00 | p@20: 1.00 | time/it: 2.50e-02     \n",
      "iter:   540 | dx: +4.4950e-05 | acc: 1.00 | f1-score: 1.00 | relerr: 3.69e-02 | p@5: 1.00 | p@10: 1.00 | p@20: 1.00 | time/it: 2.39e-02     \n",
      "iter:   550 | dx: +3.9722e-05 | acc: 1.00 | f1-score: 1.00 | relerr: 3.68e-02 | p@5: 1.00 | p@10: 1.00 | p@20: 1.00 | time/it: 2.45e-02     \n",
      "iter:   560 | dx: +4.7238e-05 | acc: 1.00 | f1-score: 1.00 | relerr: 3.68e-02 | p@5: 1.00 | p@10: 1.00 | p@20: 1.00 | time/it: 2.34e-02     \n",
      "iter:   570 | dx: +6.0768e-05 | acc: 1.00 | f1-score: 1.00 | relerr: 3.68e-02 | p@5: 1.00 | p@10: 1.00 | p@20: 1.00 | time/it: 2.31e-02     \n",
      "iter:   580 | dx: +3.6756e-05 | acc: 1.00 | f1-score: 1.00 | relerr: 3.68e-02 | p@5: 1.00 | p@10: 1.00 | p@20: 1.00 | time/it: 3.53e-02     \n",
      "iter:   590 | dx: +3.5146e-05 | acc: 1.00 | f1-score: 1.00 | relerr: 3.68e-02 | p@5: 1.00 | p@10: 1.00 | p@20: 1.00 | time/it: 2.88e-02     \n"
     ]
    },
    {
     "name": "stdout",
     "output_type": "stream",
     "text": [
      "\r",
      "iter:   600 | dx: +4.0163e-05 | acc: 1.00 | f1-score: 1.00 | relerr: 3.67e-02 | p@5: 1.00 | p@10: 1.00 | p@20: 1.00 | time/it: 2.40e-02     \n"
     ]
    },
    {
     "ename": "KeyboardInterrupt",
     "evalue": "",
     "output_type": "error",
     "traceback": [
      "\u001b[0;31m---------------------------------------------------------------------------\u001b[0m",
      "\u001b[0;31mKeyboardInterrupt\u001b[0m                         Traceback (most recent call last)",
      "\u001b[0;32m<ipython-input-45-d7d3b66f5a88>\u001b[0m in \u001b[0;36m<module>\u001b[0;34m\u001b[0m\n\u001b[1;32m     17\u001b[0m \u001b[0;31m# Fit model\u001b[0m\u001b[0;34m\u001b[0m\u001b[0;34m\u001b[0m\u001b[0;34m\u001b[0m\u001b[0m\n\u001b[1;32m     18\u001b[0m conv = model.fit(as_pr=as_pr, ar_pr=ar_pr, zc_pr=zc_pr, max_iter=VI_FB_N_ITER,\n\u001b[0;32m---> 19\u001b[0;31m                  tol=1e-5, callback=callback)\n\u001b[0m\u001b[1;32m     20\u001b[0m \u001b[0mprint\u001b[0m\u001b[0;34m(\u001b[0m\u001b[0;34m'Converged?'\u001b[0m\u001b[0;34m,\u001b[0m \u001b[0mconv\u001b[0m\u001b[0;34m)\u001b[0m\u001b[0;34m\u001b[0m\u001b[0;34m\u001b[0m\u001b[0m\n",
      "\u001b[0;32m~/Workspace/EPFL/research/ongoing/var-wold/tsvar/utils/decorators.py\u001b[0m in \u001b[0;36mwrapped\u001b[0;34m(self, *args, **kwargs)\u001b[0m\n\u001b[1;32m      6\u001b[0m     \u001b[0;32mdef\u001b[0m \u001b[0mwrapped\u001b[0m\u001b[0;34m(\u001b[0m\u001b[0mself\u001b[0m\u001b[0;34m,\u001b[0m \u001b[0;34m*\u001b[0m\u001b[0margs\u001b[0m\u001b[0;34m,\u001b[0m \u001b[0;34m**\u001b[0m\u001b[0mkwargs\u001b[0m\u001b[0;34m)\u001b[0m\u001b[0;34m:\u001b[0m\u001b[0;34m\u001b[0m\u001b[0;34m\u001b[0m\u001b[0m\n\u001b[1;32m      7\u001b[0m         \u001b[0;32mif\u001b[0m \u001b[0mself\u001b[0m\u001b[0;34m.\u001b[0m\u001b[0m_observed\u001b[0m\u001b[0;34m:\u001b[0m\u001b[0;34m\u001b[0m\u001b[0;34m\u001b[0m\u001b[0m\n\u001b[0;32m----> 8\u001b[0;31m             \u001b[0;32mreturn\u001b[0m \u001b[0mfn\u001b[0m\u001b[0;34m(\u001b[0m\u001b[0mself\u001b[0m\u001b[0;34m,\u001b[0m \u001b[0;34m*\u001b[0m\u001b[0margs\u001b[0m\u001b[0;34m,\u001b[0m \u001b[0;34m**\u001b[0m\u001b[0mkwargs\u001b[0m\u001b[0;34m)\u001b[0m\u001b[0;34m\u001b[0m\u001b[0;34m\u001b[0m\u001b[0m\n\u001b[0m\u001b[1;32m      9\u001b[0m         \u001b[0;32melse\u001b[0m\u001b[0;34m:\u001b[0m\u001b[0;34m\u001b[0m\u001b[0;34m\u001b[0m\u001b[0m\n\u001b[1;32m     10\u001b[0m             raise Exception(('Model is not properly set. '\n",
      "\u001b[0;32m~/Workspace/EPFL/research/ongoing/var-wold/tsvar/models/_wold_var_fixed_beta.py\u001b[0m in \u001b[0;36mfit\u001b[0;34m(self, as_pr, ar_pr, zc_pr, *args, **kwargs)\u001b[0m\n\u001b[1;32m    115\u001b[0m     \u001b[0;32mdef\u001b[0m \u001b[0mfit\u001b[0m\u001b[0;34m(\u001b[0m\u001b[0mself\u001b[0m\u001b[0;34m,\u001b[0m \u001b[0mas_pr\u001b[0m\u001b[0;34m,\u001b[0m \u001b[0mar_pr\u001b[0m\u001b[0;34m,\u001b[0m \u001b[0mzc_pr\u001b[0m\u001b[0;34m,\u001b[0m \u001b[0;34m*\u001b[0m\u001b[0margs\u001b[0m\u001b[0;34m,\u001b[0m \u001b[0;34m**\u001b[0m\u001b[0mkwargs\u001b[0m\u001b[0;34m)\u001b[0m\u001b[0;34m:\u001b[0m\u001b[0;34m\u001b[0m\u001b[0;34m\u001b[0m\u001b[0m\n\u001b[1;32m    116\u001b[0m         \u001b[0mself\u001b[0m\u001b[0;34m.\u001b[0m\u001b[0m_init_fit\u001b[0m\u001b[0;34m(\u001b[0m\u001b[0mas_pr\u001b[0m\u001b[0;34m,\u001b[0m \u001b[0mar_pr\u001b[0m\u001b[0;34m,\u001b[0m \u001b[0mzc_pr\u001b[0m\u001b[0;34m)\u001b[0m\u001b[0;34m\u001b[0m\u001b[0;34m\u001b[0m\u001b[0m\n\u001b[0;32m--> 117\u001b[0;31m         \u001b[0;32mreturn\u001b[0m \u001b[0msuper\u001b[0m\u001b[0;34m(\u001b[0m\u001b[0;34m)\u001b[0m\u001b[0;34m.\u001b[0m\u001b[0mfit\u001b[0m\u001b[0;34m(\u001b[0m\u001b[0mstep_function\u001b[0m\u001b[0;34m=\u001b[0m\u001b[0mself\u001b[0m\u001b[0;34m.\u001b[0m\u001b[0m_iteration\u001b[0m\u001b[0;34m,\u001b[0m \u001b[0;34m*\u001b[0m\u001b[0margs\u001b[0m\u001b[0;34m,\u001b[0m \u001b[0;34m**\u001b[0m\u001b[0mkwargs\u001b[0m\u001b[0;34m)\u001b[0m\u001b[0;34m\u001b[0m\u001b[0;34m\u001b[0m\u001b[0m\n\u001b[0m\u001b[1;32m    118\u001b[0m \u001b[0;34m\u001b[0m\u001b[0m\n\u001b[1;32m    119\u001b[0m     \u001b[0;32mdef\u001b[0m \u001b[0malpha_posterior_mean\u001b[0m\u001b[0;34m(\u001b[0m\u001b[0mself\u001b[0m\u001b[0;34m,\u001b[0m \u001b[0mas_po\u001b[0m\u001b[0;34m=\u001b[0m\u001b[0;32mNone\u001b[0m\u001b[0;34m,\u001b[0m \u001b[0mar_po\u001b[0m\u001b[0;34m=\u001b[0m\u001b[0;32mNone\u001b[0m\u001b[0;34m)\u001b[0m\u001b[0;34m:\u001b[0m\u001b[0;34m\u001b[0m\u001b[0;34m\u001b[0m\u001b[0m\n",
      "\u001b[0;32m~/Workspace/EPFL/research/ongoing/var-wold/tsvar/utils/decorators.py\u001b[0m in \u001b[0;36mwrapped\u001b[0;34m(self, *args, **kwargs)\u001b[0m\n\u001b[1;32m      6\u001b[0m     \u001b[0;32mdef\u001b[0m \u001b[0mwrapped\u001b[0m\u001b[0;34m(\u001b[0m\u001b[0mself\u001b[0m\u001b[0;34m,\u001b[0m \u001b[0;34m*\u001b[0m\u001b[0margs\u001b[0m\u001b[0;34m,\u001b[0m \u001b[0;34m**\u001b[0m\u001b[0mkwargs\u001b[0m\u001b[0;34m)\u001b[0m\u001b[0;34m:\u001b[0m\u001b[0;34m\u001b[0m\u001b[0;34m\u001b[0m\u001b[0m\n\u001b[1;32m      7\u001b[0m         \u001b[0;32mif\u001b[0m \u001b[0mself\u001b[0m\u001b[0;34m.\u001b[0m\u001b[0m_observed\u001b[0m\u001b[0;34m:\u001b[0m\u001b[0;34m\u001b[0m\u001b[0;34m\u001b[0m\u001b[0m\n\u001b[0;32m----> 8\u001b[0;31m             \u001b[0;32mreturn\u001b[0m \u001b[0mfn\u001b[0m\u001b[0;34m(\u001b[0m\u001b[0mself\u001b[0m\u001b[0;34m,\u001b[0m \u001b[0;34m*\u001b[0m\u001b[0margs\u001b[0m\u001b[0;34m,\u001b[0m \u001b[0;34m**\u001b[0m\u001b[0mkwargs\u001b[0m\u001b[0;34m)\u001b[0m\u001b[0;34m\u001b[0m\u001b[0;34m\u001b[0m\u001b[0m\n\u001b[0m\u001b[1;32m      9\u001b[0m         \u001b[0;32melse\u001b[0m\u001b[0;34m:\u001b[0m\u001b[0;34m\u001b[0m\u001b[0;34m\u001b[0m\u001b[0m\n\u001b[1;32m     10\u001b[0m             raise Exception(('Model is not properly set. '\n",
      "\u001b[0;32m~/Workspace/EPFL/research/ongoing/var-wold/tsvar/fitter.py\u001b[0m in \u001b[0;36mfit\u001b[0;34m(self, step_function, tol, max_iter, seed, callback)\u001b[0m\n\u001b[1;32m     55\u001b[0m             \u001b[0mself\u001b[0m\u001b[0;34m.\u001b[0m\u001b[0m_n_iter_done\u001b[0m \u001b[0;34m=\u001b[0m \u001b[0mt\u001b[0m\u001b[0;34m\u001b[0m\u001b[0;34m\u001b[0m\u001b[0m\n\u001b[1;32m     56\u001b[0m             \u001b[0;31m# Run iteration\u001b[0m\u001b[0;34m\u001b[0m\u001b[0;34m\u001b[0m\u001b[0;34m\u001b[0m\u001b[0m\n\u001b[0;32m---> 57\u001b[0;31m             \u001b[0mstep_function\u001b[0m\u001b[0;34m(\u001b[0m\u001b[0;34m)\u001b[0m\u001b[0;34m\u001b[0m\u001b[0;34m\u001b[0m\u001b[0m\n\u001b[0m\u001b[1;32m     58\u001b[0m \u001b[0;34m\u001b[0m\u001b[0m\n\u001b[1;32m     59\u001b[0m             \u001b[0;31m# Sanity check that the optimization did not fail\u001b[0m\u001b[0;34m\u001b[0m\u001b[0;34m\u001b[0m\u001b[0;34m\u001b[0m\u001b[0m\n",
      "\u001b[0;32m~/Workspace/EPFL/research/ongoing/var-wold/tsvar/models/_wold_var_fixed_beta.py\u001b[0m in \u001b[0;36m_iteration\u001b[0;34m(self)\u001b[0m\n\u001b[1;32m    108\u001b[0m         \u001b[0;31m# Update Z\u001b[0m\u001b[0;34m\u001b[0m\u001b[0;34m\u001b[0m\u001b[0;34m\u001b[0m\u001b[0m\n\u001b[1;32m    109\u001b[0m         self._zp_po = _update_z(as_po=self._as_po, ar_po=self._ar_po,\n\u001b[0;32m--> 110\u001b[0;31m                                 D_ikj=self.D_ikj)\n\u001b[0m\u001b[1;32m    111\u001b[0m         \u001b[0;31m# Set coeffs attribute for Fitter to assess convergence\u001b[0m\u001b[0;34m\u001b[0m\u001b[0;34m\u001b[0m\u001b[0;34m\u001b[0m\u001b[0m\n\u001b[1;32m    112\u001b[0m         \u001b[0mself\u001b[0m\u001b[0;34m.\u001b[0m\u001b[0mcoeffs\u001b[0m \u001b[0;34m=\u001b[0m \u001b[0;34m(\u001b[0m\u001b[0mself\u001b[0m\u001b[0;34m.\u001b[0m\u001b[0m_as_po\u001b[0m \u001b[0;34m/\u001b[0m \u001b[0mself\u001b[0m\u001b[0;34m.\u001b[0m\u001b[0m_ar_po\u001b[0m\u001b[0;34m)\u001b[0m\u001b[0;34m.\u001b[0m\u001b[0mflatten\u001b[0m\u001b[0;34m(\u001b[0m\u001b[0;34m)\u001b[0m\u001b[0;34m\u001b[0m\u001b[0;34m\u001b[0m\u001b[0m\n",
      "\u001b[0;31mKeyboardInterrupt\u001b[0m: "
     ]
    }
   ],
   "source": [
    "dim = len(events)\n",
    "# Extract ground truth\n",
    "coeffs_true = np.hstack((coeffs_true_dict['baseline'],\n",
    "                         coeffs_true_dict['adjacency'].flatten()))\n",
    "# Set model\n",
    "model = tsvar.models.WoldModelVariationalFixedBeta(verbose=True)\n",
    "model.observe(events, beta=coeffs_true_dict['beta'])\n",
    "# Set priors\n",
    "as_pr = 0.1 * np.ones((dim + 1, dim))\n",
    "ar_pr = 1.0 * np.ones((dim + 1, dim))\n",
    "zc_pr = [1.0 * np.ones((len(events[i]), dim+1)) for i in range(dim)]\n",
    "# Set callback (parameters of callback are just the posterior mean of alpha)\n",
    "callback = tsvar.utils.callbacks.LearnerCallbackMLE(\n",
    "    x0=(as_pr / ar_pr).flatten(), print_every=PRINT_EVERY_VI,\n",
    "    coeffs_true=coeffs_true_dict['adjacency'].flatten(),\n",
    "    acc_thresh=0.05, dim=dim, default_end=CALLBACK_END)\n",
    "# Fit model\n",
    "conv = model.fit(as_pr=as_pr, ar_pr=ar_pr, zc_pr=zc_pr, max_iter=VI_FB_N_ITER,\n",
    "                 tol=1e-5, callback=callback)\n",
    "print('Converged?', conv)"
   ]
  },
  {
   "cell_type": "code",
   "execution_count": 47,
   "metadata": {
    "scrolled": false
   },
   "outputs": [
    {
     "name": "stdout",
     "output_type": "stream",
     "text": [
      "\n",
      " ======================================== WoldModelVariationalFixedBeta ======================================== \n",
      "\n",
      "Baseline:\n",
      "---------\n",
      "Ground truth:\n",
      "[ 0.01  0.03  0.04  0.02  0.03  0.04  0.04  0.01  0.00  0.00]\n",
      "Estimated:\n",
      "[ 0.01  0.02  0.05  0.02  0.03  0.04  0.04  0.01  0.00  0.00]\n",
      "\n",
      "Adjacency:\n",
      "---------\n",
      "Ground truth:\n",
      "[[ 0.00  0.00  0.18  0.11  0.14  0.00  0.00  0.00  0.16  0.12]\n",
      " [ 0.00  0.00  0.13  0.00  0.00  0.12  0.17  0.00  0.15  0.14]\n",
      " [ 0.00  0.15  0.00  0.00  0.13  0.00  0.00  0.00  0.00  0.18]\n",
      " [ 0.14  0.13  0.00  0.10  0.10  0.19  0.00  0.14  0.00  0.12]\n",
      " [ 0.00  0.00  0.00  0.17  0.00  0.14  0.13  0.00  0.00  0.00]\n",
      " [ 0.00  0.10  0.13  0.00  0.00  0.19  0.00  0.00  0.17  0.11]\n",
      " [ 0.00  0.14  0.18  0.00  0.00  0.18  0.00  0.00  0.19  0.00]\n",
      " [ 0.00  0.00  0.17  0.00  0.00  0.00  0.00  0.00  0.00  0.10]\n",
      " [ 0.00  0.11  0.00  0.00  0.13  0.00  0.00  0.00  0.00  0.00]\n",
      " [ 0.00  0.14  0.18  0.15  0.00  0.00  0.00  0.00  0.17  0.18]]\n",
      "Estimated:\n",
      "[[ 0.00  0.00  0.18  0.12  0.15  0.00  0.00  0.00  0.16  0.17]\n",
      " [ 0.00  0.00  0.13  0.00  0.00  0.13  0.16  0.00  0.14  0.14]\n",
      " [ 0.00  0.13  0.00  0.00  0.13  0.00  0.00  0.00  0.00  0.18]\n",
      " [ 0.15  0.12  0.00  0.09  0.11  0.20  0.00  0.15  0.00  0.14]\n",
      " [ 0.00  0.01  0.00  0.18  0.00  0.14  0.13  0.00  0.00  0.00]\n",
      " [ 0.00  0.11  0.10  0.00  0.00  0.17  0.00  0.00  0.16  0.10]\n",
      " [ 0.00  0.14  0.16  0.00  0.00  0.20  0.00  0.00  0.20  0.00]\n",
      " [ 0.00  0.00  0.14  0.00  0.00  0.00  0.00  0.00  0.02  0.09]\n",
      " [ 0.00  0.13  0.00  0.00  0.11  0.00  0.00  0.00  0.00  0.00]\n",
      " [ 0.00  0.12  0.18  0.15  0.01  0.00  0.00  0.00  0.18  0.17]]\n",
      "True Positive: 41\n",
      "True Negative: 59\n",
      "False Positive: 0\n",
      "False Negative: 0\n",
      "F1-Score: 1.0\n",
      "Relatie-Error: 0.03796166126183576\n",
      "\n",
      "Beta:\n",
      "-----\n",
      " -- IS FIXED --\n"
     ]
    }
   ],
   "source": [
    "print('\\n', '='*40, type(model).__name__, '='*40, '\\n')\n",
    "\n",
    "alpha_hat_mean = np.round(model._as_po / model._ar_po, 2)\n",
    "\n",
    "baseline_hat = alpha_hat_mean[0,:]\n",
    "print('Baseline:')\n",
    "print('---------')\n",
    "print('Ground truth:')\n",
    "print(mu.numpy())\n",
    "print('Estimated:')\n",
    "print(baseline_hat)\n",
    "print()\n",
    "\n",
    "adj_true = alpha.numpy()\n",
    "adjacency_hat = alpha_hat_mean[1:,:]\n",
    "print('Adjacency:')\n",
    "print('---------')\n",
    "print('Ground truth:')\n",
    "print(adj_true)\n",
    "print('Estimated:')\n",
    "print(adjacency_hat)\n",
    "\n",
    "THRESH = 0.05\n",
    "fp = tsvar.utils.metrics.false_positive(adjacency_hat.flatten(), adj_true.flatten(), threshold=THRESH)\n",
    "fn = tsvar.utils.metrics.false_negative(adjacency_hat.flatten(), adj_true.flatten(), threshold=THRESH)\n",
    "tp = tsvar.utils.metrics.true_positive(adjacency_hat.flatten(), adj_true.flatten(), threshold=THRESH)\n",
    "tn = tsvar.utils.metrics.true_negative(adjacency_hat.flatten(), adj_true.flatten(), threshold=THRESH)\n",
    "fscore = tsvar.utils.metrics.fscore(adjacency_hat.flatten(), adj_true.flatten(), threshold=THRESH)\n",
    "relerr = tsvar.utils.metrics.relerr(adjacency_hat.flatten(), adj_true.flatten())\n",
    "print('True Positive:', tp)\n",
    "print('True Negative:', tn)\n",
    "print('False Positive:', fp)\n",
    "print('False Negative:', fn)\n",
    "print('F1-Score:', fscore)\n",
    "print('Relatie-Error:', relerr)\n",
    "print()\n",
    "\n",
    "print('Beta:')\n",
    "print('-----')\n",
    "print(' -- IS FIXED --')"
   ]
  },
  {
   "cell_type": "code",
   "execution_count": 48,
   "metadata": {
    "scrolled": true
   },
   "outputs": [
    {
     "data": {
      "image/png": "[encoded data removed]",
      "text/plain": [
       "<Figure size 720x360 with 1 Axes>"
      ]
     },
     "metadata": {
      "needs_background": "light"
     },
     "output_type": "display_data"
    }
   ],
   "source": [
    "plt.figure(figsize=(10, 5))\n",
    "plt.grid()\n",
    "plt.boxplot(\n",
    "    [\n",
    "        adjacency_hat[adj_true == 0.0], \n",
    "        adjacency_hat[adj_true > 0.0]\n",
    "    ],\n",
    "    labels=[\n",
    "        'True Non-edges',\n",
    "        'True Edges'\n",
    "    ])\n",
    "plt.ylabel(r'Learned value of paramaters')\n",
    "plt.title('Distribution of learned adjacency weights');"
   ]
  },
  {
   "cell_type": "code",
   "execution_count": null,
   "metadata": {},
   "outputs": [],
   "source": []
  },
  {
   "cell_type": "markdown",
   "metadata": {},
   "source": [
    "---\n",
    "\n",
    "## Test VI\n",
    "\n",
    "Algorithm: Mean-Field VI with Variable $\\{\\beta\\}$s using `WoldModelVariational`"
   ]
  },
  {
   "cell_type": "markdown",
   "metadata": {},
   "source": [
    "Define the parameters of the prior."
   ]
  },
  {
   "cell_type": "code",
   "execution_count": 78,
   "metadata": {},
   "outputs": [
    {
     "name": "stdout",
     "output_type": "stream",
     "text": [
      "iter:    10 | dx: +3.2485e-03 | acc: 0.95 | f1-score: 0.95 | relerr: 3.28e-01 | p@5: 1.00 | p@10: 1.00 | p@20: 1.00 | time/it: 1.92e-01     \n",
      "iter:    20 | dx: +1.9276e-03 | acc: 1.00 | f1-score: 1.00 | relerr: 2.60e-01 | p@5: 1.00 | p@10: 1.00 | p@20: 1.00 | time/it: 1.45e-01     \n",
      "iter:    30 | dx: +1.4085e-03 | acc: 1.00 | f1-score: 1.00 | relerr: 2.15e-01 | p@5: 1.00 | p@10: 1.00 | p@20: 1.00 | time/it: 1.41e-01     \n",
      "iter:    40 | dx: +1.0855e-03 | acc: 1.00 | f1-score: 1.00 | relerr: 1.81e-01 | p@5: 1.00 | p@10: 1.00 | p@20: 1.00 | time/it: 1.30e-01     \n",
      "iter:    50 | dx: +8.3921e-04 | acc: 1.00 | f1-score: 1.00 | relerr: 1.56e-01 | p@5: 1.00 | p@10: 1.00 | p@20: 1.00 | time/it: 1.31e-01     \n",
      "iter:    60 | dx: +6.4608e-04 | acc: 1.00 | f1-score: 1.00 | relerr: 1.38e-01 | p@5: 1.00 | p@10: 1.00 | p@20: 1.00 | time/it: 1.31e-01     \n",
      "iter:    70 | dx: +5.4085e-04 | acc: 1.00 | f1-score: 1.00 | relerr: 1.23e-01 | p@5: 1.00 | p@10: 1.00 | p@20: 1.00 | time/it: 1.35e-01     \n",
      "iter:    80 | dx: +4.8749e-04 | acc: 1.00 | f1-score: 1.00 | relerr: 1.12e-01 | p@5: 1.00 | p@10: 1.00 | p@20: 1.00 | time/it: 1.39e-01     \n",
      "iter:    90 | dx: +3.9985e-04 | acc: 1.00 | f1-score: 1.00 | relerr: 1.03e-01 | p@5: 1.00 | p@10: 1.00 | p@20: 1.00 | time/it: 1.37e-01     \n",
      "iter:   100 | dx: +3.3595e-04 | acc: 1.00 | f1-score: 1.00 | relerr: 9.54e-02 | p@5: 1.00 | p@10: 1.00 | p@20: 1.00 | time/it: 1.38e-01     \n",
      "iter:   110 | dx: +2.9615e-04 | acc: 1.00 | f1-score: 1.00 | relerr: 8.96e-02 | p@5: 1.00 | p@10: 1.00 | p@20: 1.00 | time/it: 1.57e-01     \n"
     ]
    },
    {
     "ename": "KeyboardInterrupt",
     "evalue": "",
     "output_type": "error",
     "traceback": [
      "\u001b[0;31m---------------------------------------------------------------------------\u001b[0m",
      "\u001b[0;31mKeyboardInterrupt\u001b[0m                         Traceback (most recent call last)",
      "\u001b[0;32m<ipython-input-78-6d82b0beab1f>\u001b[0m in \u001b[0;36m<module>\u001b[0;34m\u001b[0m\n\u001b[1;32m     23\u001b[0m conv = model.fit(as_pr=as_pr, ar_pr=ar_pr, bs_pr=bs_pr, br_pr=br_pr,\n\u001b[1;32m     24\u001b[0m                  \u001b[0mzc_pr\u001b[0m\u001b[0;34m=\u001b[0m\u001b[0mzc_pr\u001b[0m\u001b[0;34m,\u001b[0m \u001b[0mmax_iter\u001b[0m\u001b[0;34m=\u001b[0m\u001b[0mVI_N_ITER\u001b[0m\u001b[0;34m,\u001b[0m \u001b[0mtol\u001b[0m\u001b[0;34m=\u001b[0m\u001b[0mVI_TOL\u001b[0m\u001b[0;34m,\u001b[0m\u001b[0;34m\u001b[0m\u001b[0;34m\u001b[0m\u001b[0m\n\u001b[0;32m---> 25\u001b[0;31m                  callback=callback)\n\u001b[0m",
      "\u001b[0;32m~/Workspace/EPFL/research/ongoing/var-wold/tsvar/utils/decorators.py\u001b[0m in \u001b[0;36mwrapped\u001b[0;34m(self, *args, **kwargs)\u001b[0m\n\u001b[1;32m      6\u001b[0m     \u001b[0;32mdef\u001b[0m \u001b[0mwrapped\u001b[0m\u001b[0;34m(\u001b[0m\u001b[0mself\u001b[0m\u001b[0;34m,\u001b[0m \u001b[0;34m*\u001b[0m\u001b[0margs\u001b[0m\u001b[0;34m,\u001b[0m \u001b[0;34m**\u001b[0m\u001b[0mkwargs\u001b[0m\u001b[0;34m)\u001b[0m\u001b[0;34m:\u001b[0m\u001b[0;34m\u001b[0m\u001b[0;34m\u001b[0m\u001b[0m\n\u001b[1;32m      7\u001b[0m         \u001b[0;32mif\u001b[0m \u001b[0mself\u001b[0m\u001b[0;34m.\u001b[0m\u001b[0m_observed\u001b[0m\u001b[0;34m:\u001b[0m\u001b[0;34m\u001b[0m\u001b[0;34m\u001b[0m\u001b[0m\n\u001b[0;32m----> 8\u001b[0;31m             \u001b[0;32mreturn\u001b[0m \u001b[0mfn\u001b[0m\u001b[0;34m(\u001b[0m\u001b[0mself\u001b[0m\u001b[0;34m,\u001b[0m \u001b[0;34m*\u001b[0m\u001b[0margs\u001b[0m\u001b[0;34m,\u001b[0m \u001b[0;34m**\u001b[0m\u001b[0mkwargs\u001b[0m\u001b[0;34m)\u001b[0m\u001b[0;34m\u001b[0m\u001b[0;34m\u001b[0m\u001b[0m\n\u001b[0m\u001b[1;32m      9\u001b[0m         \u001b[0;32melse\u001b[0m\u001b[0;34m:\u001b[0m\u001b[0;34m\u001b[0m\u001b[0;34m\u001b[0m\u001b[0m\n\u001b[1;32m     10\u001b[0m             raise Exception(('Model is not properly set. '\n",
      "\u001b[0;32m~/Workspace/EPFL/research/ongoing/var-wold/tsvar/models/_wold_var.py\u001b[0m in \u001b[0;36mfit\u001b[0;34m(self, as_pr, ar_pr, bs_pr, br_pr, zc_pr, *args, **kwargs)\u001b[0m\n\u001b[1;32m    350\u001b[0m     \u001b[0;32mdef\u001b[0m \u001b[0mfit\u001b[0m\u001b[0;34m(\u001b[0m\u001b[0mself\u001b[0m\u001b[0;34m,\u001b[0m \u001b[0mas_pr\u001b[0m\u001b[0;34m,\u001b[0m \u001b[0mar_pr\u001b[0m\u001b[0;34m,\u001b[0m \u001b[0mbs_pr\u001b[0m\u001b[0;34m,\u001b[0m \u001b[0mbr_pr\u001b[0m\u001b[0;34m,\u001b[0m \u001b[0mzc_pr\u001b[0m\u001b[0;34m,\u001b[0m \u001b[0;34m*\u001b[0m\u001b[0margs\u001b[0m\u001b[0;34m,\u001b[0m \u001b[0;34m**\u001b[0m\u001b[0mkwargs\u001b[0m\u001b[0;34m)\u001b[0m\u001b[0;34m:\u001b[0m\u001b[0;34m\u001b[0m\u001b[0;34m\u001b[0m\u001b[0m\n\u001b[1;32m    351\u001b[0m         \u001b[0mself\u001b[0m\u001b[0;34m.\u001b[0m\u001b[0m_init_fit\u001b[0m\u001b[0;34m(\u001b[0m\u001b[0mas_pr\u001b[0m\u001b[0;34m,\u001b[0m \u001b[0mar_pr\u001b[0m\u001b[0;34m,\u001b[0m \u001b[0mbs_pr\u001b[0m\u001b[0;34m,\u001b[0m \u001b[0mbr_pr\u001b[0m\u001b[0;34m,\u001b[0m \u001b[0mzc_pr\u001b[0m\u001b[0;34m)\u001b[0m\u001b[0;34m\u001b[0m\u001b[0;34m\u001b[0m\u001b[0m\n\u001b[0;32m--> 352\u001b[0;31m         \u001b[0;32mreturn\u001b[0m \u001b[0msuper\u001b[0m\u001b[0;34m(\u001b[0m\u001b[0;34m)\u001b[0m\u001b[0;34m.\u001b[0m\u001b[0mfit\u001b[0m\u001b[0;34m(\u001b[0m\u001b[0mstep_function\u001b[0m\u001b[0;34m=\u001b[0m\u001b[0mself\u001b[0m\u001b[0;34m.\u001b[0m\u001b[0m_iteration\u001b[0m\u001b[0;34m,\u001b[0m \u001b[0;34m*\u001b[0m\u001b[0margs\u001b[0m\u001b[0;34m,\u001b[0m \u001b[0;34m**\u001b[0m\u001b[0mkwargs\u001b[0m\u001b[0;34m)\u001b[0m\u001b[0;34m\u001b[0m\u001b[0;34m\u001b[0m\u001b[0m\n\u001b[0m\u001b[1;32m    353\u001b[0m \u001b[0;34m\u001b[0m\u001b[0m\n\u001b[1;32m    354\u001b[0m     \u001b[0;32mdef\u001b[0m \u001b[0malpha_posterior_mean\u001b[0m\u001b[0;34m(\u001b[0m\u001b[0mself\u001b[0m\u001b[0;34m,\u001b[0m \u001b[0mas_po\u001b[0m\u001b[0;34m=\u001b[0m\u001b[0;32mNone\u001b[0m\u001b[0;34m,\u001b[0m \u001b[0mar_po\u001b[0m\u001b[0;34m=\u001b[0m\u001b[0;32mNone\u001b[0m\u001b[0;34m)\u001b[0m\u001b[0;34m:\u001b[0m\u001b[0;34m\u001b[0m\u001b[0;34m\u001b[0m\u001b[0m\n",
      "\u001b[0;32m~/Workspace/EPFL/research/ongoing/var-wold/tsvar/utils/decorators.py\u001b[0m in \u001b[0;36mwrapped\u001b[0;34m(self, *args, **kwargs)\u001b[0m\n\u001b[1;32m      6\u001b[0m     \u001b[0;32mdef\u001b[0m \u001b[0mwrapped\u001b[0m\u001b[0;34m(\u001b[0m\u001b[0mself\u001b[0m\u001b[0;34m,\u001b[0m \u001b[0;34m*\u001b[0m\u001b[0margs\u001b[0m\u001b[0;34m,\u001b[0m \u001b[0;34m**\u001b[0m\u001b[0mkwargs\u001b[0m\u001b[0;34m)\u001b[0m\u001b[0;34m:\u001b[0m\u001b[0;34m\u001b[0m\u001b[0;34m\u001b[0m\u001b[0m\n\u001b[1;32m      7\u001b[0m         \u001b[0;32mif\u001b[0m \u001b[0mself\u001b[0m\u001b[0;34m.\u001b[0m\u001b[0m_observed\u001b[0m\u001b[0;34m:\u001b[0m\u001b[0;34m\u001b[0m\u001b[0;34m\u001b[0m\u001b[0m\n\u001b[0;32m----> 8\u001b[0;31m             \u001b[0;32mreturn\u001b[0m \u001b[0mfn\u001b[0m\u001b[0;34m(\u001b[0m\u001b[0mself\u001b[0m\u001b[0;34m,\u001b[0m \u001b[0;34m*\u001b[0m\u001b[0margs\u001b[0m\u001b[0;34m,\u001b[0m \u001b[0;34m**\u001b[0m\u001b[0mkwargs\u001b[0m\u001b[0;34m)\u001b[0m\u001b[0;34m\u001b[0m\u001b[0;34m\u001b[0m\u001b[0m\n\u001b[0m\u001b[1;32m      9\u001b[0m         \u001b[0;32melse\u001b[0m\u001b[0;34m:\u001b[0m\u001b[0;34m\u001b[0m\u001b[0;34m\u001b[0m\u001b[0m\n\u001b[1;32m     10\u001b[0m             raise Exception(('Model is not properly set. '\n",
      "\u001b[0;32m~/Workspace/EPFL/research/ongoing/var-wold/tsvar/fitter.py\u001b[0m in \u001b[0;36mfit\u001b[0;34m(self, step_function, tol, max_iter, seed, callback)\u001b[0m\n\u001b[1;32m     55\u001b[0m             \u001b[0mself\u001b[0m\u001b[0;34m.\u001b[0m\u001b[0m_n_iter_done\u001b[0m \u001b[0;34m=\u001b[0m \u001b[0mt\u001b[0m\u001b[0;34m\u001b[0m\u001b[0;34m\u001b[0m\u001b[0m\n\u001b[1;32m     56\u001b[0m             \u001b[0;31m# Run iteration\u001b[0m\u001b[0;34m\u001b[0m\u001b[0;34m\u001b[0m\u001b[0;34m\u001b[0m\u001b[0m\n\u001b[0;32m---> 57\u001b[0;31m             \u001b[0mstep_function\u001b[0m\u001b[0;34m(\u001b[0m\u001b[0;34m)\u001b[0m\u001b[0;34m\u001b[0m\u001b[0;34m\u001b[0m\u001b[0m\n\u001b[0m\u001b[1;32m     58\u001b[0m \u001b[0;34m\u001b[0m\u001b[0m\n\u001b[1;32m     59\u001b[0m             \u001b[0;31m# Sanity check that the optimization did not fail\u001b[0m\u001b[0;34m\u001b[0m\u001b[0;34m\u001b[0m\u001b[0;34m\u001b[0m\u001b[0m\n",
      "\u001b[0;32m~/Workspace/EPFL/research/ongoing/var-wold/tsvar/models/_wold_var.py\u001b[0m in \u001b[0;36m_iteration\u001b[0;34m(self)\u001b[0m\n\u001b[1;32m    326\u001b[0m             \u001b[0mas_po\u001b[0m\u001b[0;34m=\u001b[0m\u001b[0mself\u001b[0m\u001b[0;34m.\u001b[0m\u001b[0m_as_po\u001b[0m\u001b[0;34m,\u001b[0m \u001b[0mar_po\u001b[0m\u001b[0;34m=\u001b[0m\u001b[0mself\u001b[0m\u001b[0;34m.\u001b[0m\u001b[0m_ar_po\u001b[0m\u001b[0;34m,\u001b[0m \u001b[0mzp_po\u001b[0m\u001b[0;34m=\u001b[0m\u001b[0mself\u001b[0m\u001b[0;34m.\u001b[0m\u001b[0m_zp_po\u001b[0m\u001b[0;34m,\u001b[0m\u001b[0;34m\u001b[0m\u001b[0;34m\u001b[0m\u001b[0m\n\u001b[1;32m    327\u001b[0m             \u001b[0mbs_pr\u001b[0m\u001b[0;34m=\u001b[0m\u001b[0mself\u001b[0m\u001b[0;34m.\u001b[0m\u001b[0m_bs_pr\u001b[0m\u001b[0;34m,\u001b[0m \u001b[0mbr_pr\u001b[0m\u001b[0;34m=\u001b[0m\u001b[0mself\u001b[0m\u001b[0;34m.\u001b[0m\u001b[0m_br_pr\u001b[0m\u001b[0;34m,\u001b[0m \u001b[0mdt_ik\u001b[0m\u001b[0;34m=\u001b[0m\u001b[0mself\u001b[0m\u001b[0;34m.\u001b[0m\u001b[0mdt_ik\u001b[0m\u001b[0;34m,\u001b[0m\u001b[0;34m\u001b[0m\u001b[0;34m\u001b[0m\u001b[0m\n\u001b[0;32m--> 328\u001b[0;31m             delta_ikj=self.delta_ikj, valid_mask_ikj=self.valid_mask_ikj)\n\u001b[0m\u001b[1;32m    329\u001b[0m \u001b[0;34m\u001b[0m\u001b[0m\n\u001b[1;32m    330\u001b[0m         \u001b[0;31m# # (debug) Sanity check\u001b[0m\u001b[0;34m\u001b[0m\u001b[0;34m\u001b[0m\u001b[0;34m\u001b[0m\u001b[0m\n",
      "\u001b[0;31mKeyboardInterrupt\u001b[0m: "
     ]
    }
   ],
   "source": [
    "dim = len(events)\n",
    "# Set model\n",
    "model = tsvar.models.WoldModelVariational(verbose=True)\n",
    "model.observe(events)\n",
    "# Set priors\n",
    "# prior: Alpha\n",
    "as_pr = 0.1 * np.ones((dim + 1, dim))\n",
    "ar_pr = 1.0 * np.ones((dim + 1, dim))\n",
    "# prior: Beta\n",
    "bs_pr = 10.0 * np.ones((dim, dim))\n",
    "br_pr = 10.0 * np.ones((dim, dim))\n",
    "# prior: Z\n",
    "zc_pr = [1.0 * np.ones((len(events[i]), dim+1)) for i in range(dim)]\n",
    "# Extract ground truth (for callback, only alphas)\n",
    "coeffs_true = coeffs_true_dict['adjacency'].flatten().copy()\n",
    "coeffs_start = (as_pr / ar_pr)[1:, :].flatten()  # start at mean of prior of adjacency (ignore baseline)\n",
    "# Set callback (parameters of callback are just the posterior mean of alpha)\n",
    "callback = tsvar.utils.callbacks.LearnerCallbackMLE(\n",
    "    x0=coeffs_start, print_every=PRINT_EVERY_VI,\n",
    "    coeffs_true=coeffs_true, acc_thresh=0.05, dim=dim,\n",
    "    default_end=CALLBACK_END)\n",
    "# Fit model\n",
    "conv = model.fit(as_pr=as_pr, ar_pr=ar_pr, bs_pr=bs_pr, br_pr=br_pr,\n",
    "                 zc_pr=zc_pr, max_iter=VI_N_ITER, tol=VI_TOL,\n",
    "                 callback=callback)\n"
   ]
  },
  {
   "cell_type": "code",
   "execution_count": 75,
   "metadata": {
    "scrolled": false
   },
   "outputs": [
    {
     "name": "stdout",
     "output_type": "stream",
     "text": [
      "\n",
      " ======================================== WoldModelVariational ======================================== \n",
      "\n",
      "Baseline:\n",
      "---------\n",
      "Ground truth:\n",
      "[ 0.00  0.00  0.00  0.00  0.00  0.00  0.00  0.00  0.00  0.00]\n",
      "Estimated:\n",
      "[ 0.01  0.00  0.00  0.01  0.00  0.00  0.01  0.01  0.00  0.01]\n",
      "\n",
      "Adjacency:\n",
      "---------\n",
      "Ground truth:\n",
      "[[ 0.18  0.00  0.17  0.19  0.00  0.00  0.00  0.00  0.00  0.11]\n",
      " [ 0.00  0.00  0.00  0.00  0.00  0.15  0.18  0.12  0.17  0.00]\n",
      " [ 0.14  0.16  0.00  0.00  0.18  0.19  0.00  0.18  0.15  0.11]\n",
      " [ 0.00  0.00  0.00  0.00  0.16  0.00  0.00  0.00  0.00  0.18]\n",
      " [ 0.16  0.00  0.00  0.14  0.00  0.00  0.17  0.11  0.00  0.12]\n",
      " [ 0.15  0.13  0.20  0.00  0.00  0.16  0.11  0.14  0.19  0.00]\n",
      " [ 0.16  0.10  0.00  0.13  0.00  0.00  0.00  0.12  0.00  0.17]\n",
      " [ 0.00  0.14  0.00  0.11  0.11  0.00  0.15  0.11  0.00  0.00]\n",
      " [ 0.15  0.15  0.00  0.13  0.00  0.12  0.16  0.00  0.11  0.00]\n",
      " [ 0.12  0.10  0.10  0.00  0.17  0.00  0.00  0.00  0.17  0.12]]\n",
      "Estimated:\n",
      "[[ 0.15  0.01  0.14  0.13  0.01  0.00  0.01  0.01  0.00  0.08]\n",
      " [ 0.01  0.01  0.00  0.01  0.01  0.11  0.15  0.12  0.13  0.01]\n",
      " [ 0.13  0.17  0.01  0.00  0.15  0.17  0.01  0.13  0.16  0.07]\n",
      " [ 0.02  0.01  0.00  0.01  0.10  0.01  0.01  0.01  0.01  0.14]\n",
      " [ 0.12  0.01  0.00  0.10  0.01  0.00  0.14  0.09  0.01  0.09]\n",
      " [ 0.16  0.10  0.17  0.01  0.00  0.15  0.08  0.15  0.16  0.01]\n",
      " [ 0.13  0.10  0.01  0.13  0.00  0.00  0.01  0.08  0.01  0.15]\n",
      " [ 0.02  0.10  0.00  0.07  0.10  0.00  0.09  0.09  0.01  0.01]\n",
      " [ 0.11  0.12  0.00  0.11  0.01  0.10  0.14  0.01  0.09  0.01]\n",
      " [ 0.11  0.08  0.07  0.00  0.13  0.00  0.01  0.01  0.15  0.11]]\n",
      "True Positive: 51\n",
      "True Negative: 49\n",
      "False Positive: 0\n",
      "False Negative: 0\n",
      "F1-Score: 1.0\n",
      "Relatie-Error: 0.12596345868467423\n",
      "\n",
      "Beta:\n",
      "-----\n",
      "...\n"
     ]
    }
   ],
   "source": [
    "print('\\n', '='*40, type(model).__name__, '='*40, '\\n')\n",
    "\n",
    "alpha_hat_mean = model._as_po / model._ar_po\n",
    "\n",
    "baseline_hat = alpha_hat_mean[0,:]\n",
    "print('Baseline:')\n",
    "print('---------')\n",
    "print('Ground truth:')\n",
    "print(mu.numpy())\n",
    "print('Estimated:')\n",
    "print(baseline_hat)\n",
    "print()\n",
    "\n",
    "adj_true = alpha.numpy()\n",
    "adjacency_hat = alpha_hat_mean[1:,:]\n",
    "print('Adjacency:')\n",
    "print('---------')\n",
    "print('Ground truth:')\n",
    "print(adj_true)\n",
    "print('Estimated:')\n",
    "print(adjacency_hat)\n",
    "\n",
    "THRESH = 0.05\n",
    "fp = tsvar.utils.metrics.false_positive(adjacency_hat.flatten(), adj_true.flatten(), threshold=THRESH)\n",
    "fn = tsvar.utils.metrics.false_negative(adjacency_hat.flatten(), adj_true.flatten(), threshold=THRESH)\n",
    "tp = tsvar.utils.metrics.true_positive(adjacency_hat.flatten(), adj_true.flatten(), threshold=THRESH)\n",
    "tn = tsvar.utils.metrics.true_negative(adjacency_hat.flatten(), adj_true.flatten(), threshold=THRESH)\n",
    "fscore = tsvar.utils.metrics.fscore(adjacency_hat.flatten(), adj_true.flatten(), threshold=THRESH)\n",
    "relerr = tsvar.utils.metrics.relerr(adjacency_hat.flatten(), adj_true.flatten())\n",
    "print('True Positive:', tp)\n",
    "print('True Negative:', tn)\n",
    "print('False Positive:', fp)\n",
    "print('False Negative:', fn)\n",
    "print('F1-Score:', fscore)\n",
    "print('Relatie-Error:', relerr)\n",
    "print()\n",
    "\n",
    "print('Beta:')\n",
    "print('-----')\n",
    "print('...')"
   ]
  },
  {
   "cell_type": "markdown",
   "metadata": {},
   "source": [
    "---\n",
    "\n",
    "## Test BG"
   ]
  },
  {
   "cell_type": "code",
   "execution_count": 76,
   "metadata": {},
   "outputs": [],
   "source": [
    "import gb\n",
    "import time\n",
    "\n",
    "dim = len(events)\n",
    "\n",
    "# Set random seed\n",
    "np.random.seed(seed)\n",
    "\n",
    "GB_N_ITER = 300\n",
    "\n",
    "# Define model\n",
    "granger_model = gb.GrangerBusca(\n",
    "    alpha_prior=1.0/len(events),\n",
    "    num_iter=GB_N_ITER,\n",
    "    metropolis=True,\n",
    "    beta_strategy='busca',\n",
    "    num_jobs=1,\n",
    ")\n",
    "start_time = time.time()\n",
    "granger_model.fit(events)\n",
    "run_time = time.time() - start_time"
   ]
  },
  {
   "cell_type": "code",
   "execution_count": 77,
   "metadata": {
    "scrolled": false
   },
   "outputs": [
    {
     "name": "stdout",
     "output_type": "stream",
     "text": [
      "Baseline:\n",
      "---------\n",
      "Ground truth:\n",
      "[ 0.00  0.00  0.00  0.00  0.00  0.00  0.00  0.00  0.00  0.00]\n",
      "Estimated:\n",
      "[ 0.01  0.00  0.00  0.01  0.00  0.00  0.01  0.01  0.00  0.01]\n",
      "\n",
      "Adjacency:\n",
      "---------\n",
      "Ground truth:\n",
      "[[ 0.18  0.00  0.17  0.19  0.00  0.00  0.00  0.00  0.00  0.11]\n",
      " [ 0.00  0.00  0.00  0.00  0.00  0.15  0.18  0.12  0.17  0.00]\n",
      " [ 0.14  0.16  0.00  0.00  0.18  0.19  0.00  0.18  0.15  0.11]\n",
      " [ 0.00  0.00  0.00  0.00  0.16  0.00  0.00  0.00  0.00  0.18]\n",
      " [ 0.16  0.00  0.00  0.14  0.00  0.00  0.17  0.11  0.00  0.12]\n",
      " [ 0.15  0.13  0.20  0.00  0.00  0.16  0.11  0.14  0.19  0.00]\n",
      " [ 0.16  0.10  0.00  0.13  0.00  0.00  0.00  0.12  0.00  0.17]\n",
      " [ 0.00  0.14  0.00  0.11  0.11  0.00  0.15  0.11  0.00  0.00]\n",
      " [ 0.15  0.15  0.00  0.13  0.00  0.12  0.16  0.00  0.11  0.00]\n",
      " [ 0.12  0.10  0.10  0.00  0.17  0.00  0.00  0.00  0.17  0.12]]\n",
      "Estimated:\n",
      "[[ 0.67  0.00  0.21  0.22  0.01  0.00  0.00  0.00  0.00  0.02]\n",
      " [ 0.00  0.39  0.00  0.00  0.00  0.16  0.28  0.08  0.11  0.00]\n",
      " [ 0.12  0.08  0.32  0.00  0.09  0.04  0.00  0.11  0.08  0.00]\n",
      " [ 0.00  0.00  0.00  0.54  0.12  0.00  0.00  0.01  0.00  0.32]\n",
      " [ 0.18  0.00  0.00  0.03  0.39  0.00  0.14  0.06  0.00  0.08]\n",
      " [ 0.01  0.15  0.12  0.00  0.00  0.45  0.01  0.15  0.06  0.00]\n",
      " [ 0.13  0.12  0.00  0.14  0.00  0.00  0.27  0.10  0.00  0.20]\n",
      " [ 0.00  0.27  0.00  0.04  0.11  0.00  0.10  0.49  0.00  0.00]\n",
      " [ 0.00  0.02  0.00  0.05  0.00  0.17  0.21  0.00  0.58  0.00]\n",
      " [ 0.15  0.00  0.13  0.00  0.13  0.00  0.00  0.00  0.18  0.44]]\n",
      "True Positive: 41\n",
      "True Negative: 44\n",
      "False Positive: 5\n",
      "False Negative: 10\n",
      "F1-Score: 0.845360824742268\n",
      "Relatie-Error: 0.542340488541491\n",
      "\n"
     ]
    }
   ],
   "source": [
    "adj_true = alpha.numpy()\n",
    "\n",
    "# Extract infered adjacency\n",
    "adj_hat = granger_model.Alpha_.toarray()\n",
    "adj_hat = adj_hat / adj_hat.sum(axis=1)\n",
    "beta_hat = np.ones((dim, dim)) * (granger_model.beta_ + 1)\n",
    "coeffs_hat = np.hstack((granger_model.mu_, beta_hat.flatten(),\n",
    "                        adj_hat.flatten()))\n",
    "\n",
    "baseline_hat = alpha_hat_mean[0,:]\n",
    "print('Baseline:')\n",
    "print('---------')\n",
    "print('Ground truth:')\n",
    "print(mu.numpy())\n",
    "print('Estimated:')\n",
    "print(baseline_hat)\n",
    "print()\n",
    "\n",
    "adj_true = alpha.numpy()\n",
    "adjacency_hat = adj_hat\n",
    "print('Adjacency:')\n",
    "print('---------')\n",
    "print('Ground truth:')\n",
    "print(adj_true)\n",
    "print('Estimated:')\n",
    "print(adjacency_hat)\n",
    "\n",
    "THRESH = 0.05\n",
    "fp = tsvar.utils.metrics.false_positive(adjacency_hat.flatten(), adj_true.flatten(), threshold=THRESH)\n",
    "fn = tsvar.utils.metrics.false_negative(adjacency_hat.flatten(), adj_true.flatten(), threshold=THRESH)\n",
    "tp = tsvar.utils.metrics.true_positive(adjacency_hat.flatten(), adj_true.flatten(), threshold=THRESH)\n",
    "tn = tsvar.utils.metrics.true_negative(adjacency_hat.flatten(), adj_true.flatten(), threshold=THRESH)\n",
    "fscore = tsvar.utils.metrics.fscore(adjacency_hat.flatten(), adj_true.flatten(), threshold=THRESH)\n",
    "relerr = tsvar.utils.metrics.relerr(adjacency_hat.flatten(), adj_true.flatten())\n",
    "print('True Positive:', tp)\n",
    "print('True Negative:', tn)\n",
    "print('False Positive:', fp)\n",
    "print('False Negative:', fn)\n",
    "print('F1-Score:', fscore)\n",
    "print('Relatie-Error:', relerr)\n",
    "print()\n"
   ]
  },
  {
   "cell_type": "code",
   "execution_count": 53,
   "metadata": {},
   "outputs": [
    {
     "data": {
      "image/png": "[encoded data removed]",
      "text/plain": [
       "<Figure size 720x360 with 1 Axes>"
      ]
     },
     "metadata": {
      "needs_background": "light"
     },
     "output_type": "display_data"
    }
   ],
   "source": [
    "plt.figure(figsize=(10, 5))\n",
    "plt.grid()\n",
    "plt.boxplot(\n",
    "    [\n",
    "        adj_hat[adj_true == 0.0], \n",
    "        adj_hat[adj_true > 0.0]\n",
    "    ],\n",
    "    labels=[\n",
    "        'True Non-edges',\n",
    "        'True Edges'\n",
    "    ])\n",
    "plt.ylabel(r'Learned value of paramaters')\n",
    "plt.title('Distribution of learned adjacency weights');"
   ]
  },
  {
   "cell_type": "markdown",
   "metadata": {},
   "source": [
    "Check variation accross runs"
   ]
  },
  {
   "cell_type": "code",
   "execution_count": null,
   "metadata": {},
   "outputs": [],
   "source": [
    "print('Diff with last call:')\n",
    "print('sum:', np.sum(np.abs(adj_hat - last_adj)))\n",
    "print('max:', np.max(np.abs(adj_hat - last_adj)))\n",
    "print('# diff edges:', np.sum((adj_hat > 0.05) ^ (last_adj > 0.05)))\n",
    "last_adj = adj_hat.copy()"
   ]
  }
 ],
 "metadata": {
  "kernelspec": {
   "display_name": "Python 3",
   "language": "python",
   "name": "python3"
  },
  "language_info": {
   "codemirror_mode": {
    "name": "ipython",
    "version": 3
   },
   "file_extension": ".py",
   "mimetype": "text/x-python",
   "name": "python",
   "nbconvert_exporter": "python",
   "pygments_lexer": "ipython3",
   "version": "3.6.10"
  }
 },
 "nbformat": 4,
 "nbformat_minor": 2
}

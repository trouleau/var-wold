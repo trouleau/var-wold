{
 "cells": [
  {
   "cell_type": "markdown",
   "metadata": {},
   "source": [
    "# CollegeMsg Dataset\n",
    "\n",
    "This dataset was downloaded from: http://snap.stanford.edu/data/CollegeMsg.html"
   ]
  },
  {
   "cell_type": "code",
   "execution_count": 2,
   "metadata": {},
   "outputs": [
    {
     "name": "stdout",
     "output_type": "stream",
     "text": [
      "total 16M\r\n",
      "-rw-r--r-- 1 root root 1.2M May 25 17:42 email-Eu-core-temporal.pk\r\n",
      "-rw-r--r-- 1 root root 1.2M May 25 17:45 email-Eu-core-temporal-top100.pk\r\n",
      "-rw-r--r-- 1 root root 1.7M May 23 10:52 email-Eu-core-temporal.txt.gz\r\n",
      "drwxr-xr-x 2 root root 4.0K May 23 10:52 enron\r\n",
      "-rw-r--r-- 1 root root 8.1M May 23 10:52 enron_dataset_splitted_receivers.csv.gz\r\n",
      "drwxr-xr-x 2 root root 4.0K May 26 16:03 memetracker\r\n",
      "-rw-r--r-- 1 root root 492K May 23 10:52 soc-sign-bitcoinalpha.csv\r\n",
      "-rw-r--r-- 1 root root 146K May 23 10:52 soc-sign-bitcoinalpha.csv.gz\r\n",
      "-rw-r--r-- 1 root root 1.1M May 23 10:52 soc-sign-bitcoinalpha.pk\r\n",
      "-rw-r--r-- 1 root root 388K May 23 10:52 soc-sign-bitcoinotc.csv.gz\r\n",
      "-rw-r--r-- 1 root root 1.6M May 23 10:52 soc-sign-bitcoinotc.pk\r\n"
     ]
    }
   ],
   "source": [
    "!ls -lh ../../../data/"
   ]
  },
  {
   "cell_type": "code",
   "execution_count": null,
   "metadata": {},
   "outputs": [],
   "source": [
    "INPUT_PATH = '../../../data/"
   ]
  }
 ],
 "metadata": {
  "kernelspec": {
   "display_name": "Python 3",
   "language": "python",
   "name": "python3"
  },
  "language_info": {
   "codemirror_mode": {
    "name": "ipython",
    "version": 3
   },
   "file_extension": ".py",
   "mimetype": "text/x-python",
   "name": "python",
   "nbconvert_exporter": "python",
   "pygments_lexer": "ipython3",
   "version": "3.7.7"
  }
 },
 "nbformat": 4,
 "nbformat_minor": 4
}

{
 "cells": [
  {
   "cell_type": "code",
   "execution_count": 1,
   "metadata": {},
   "outputs": [],
   "source": [
    "%load_ext autoreload\n",
    "%autoreload 2"
   ]
  },
  {
   "cell_type": "code",
   "execution_count": 2,
   "metadata": {},
   "outputs": [],
   "source": [
    "%load_ext line_profiler"
   ]
  },
  {
   "cell_type": "code",
   "execution_count": 3,
   "metadata": {},
   "outputs": [],
   "source": [
    "import itertools\n",
    "import torch\n",
    "\n",
    "from tsvar.simulate import GrangerBuscaSimulator\n",
    "from tsvar.wold_model import VariationalWoldModel"
   ]
  },
  {
   "cell_type": "markdown",
   "metadata": {},
   "source": [
    "---\n",
    "\n",
    "## Generate small toy example dataset\n",
    "\n",
    "Define model parameters"
   ]
  },
  {
   "cell_type": "code",
   "execution_count": 4,
   "metadata": {},
   "outputs": [
    {
     "name": "stdout",
     "output_type": "stream",
     "text": [
      "w(0 -> 0) = 0.30\n",
      "w(1 -> 0) = 0.20\n",
      "w(2 -> 0) = 0.20\n",
      "w(0 -> 1) = 0.80\n",
      "w(1 -> 1) = 0.30\n",
      "w(2 -> 1) = 0.10\n",
      "w(0 -> 2) = 0.10\n",
      "w(1 -> 2) = 0.10\n",
      "w(2 -> 2) = 0.00\n"
     ]
    }
   ],
   "source": [
    "dim = 3\n",
    "\n",
    "baseline = np.array([0.1, 0.1, 0.2])\n",
    "\n",
    "# adjacency[i,j] = magnitude of influence from i to j\n",
    "adjacency = np.array([\n",
    "    [0.3, 0.8, 0.1],\n",
    "    [0.2, 0.3, 0.1],\n",
    "    [0.2, 0.1, 0.0]\n",
    "])\n",
    "\n",
    "end_time = 100.0\n",
    "\n",
    "for i, j in itertools.product(range(dim), repeat=2):\n",
    "    print(f\"w({j:d} -> {i:d}) = {adjacency[j,i]:.2f}\")"
   ]
  },
  {
   "cell_type": "markdown",
   "metadata": {},
   "source": [
    "Simulate a dataset"
   ]
  },
  {
   "cell_type": "code",
   "execution_count": 5,
   "metadata": {
    "scrolled": true
   },
   "outputs": [
    {
     "name": "stdout",
     "output_type": "stream",
     "text": [
      "[35, 47, 18]\n",
      "\n",
      "tensor([ 2.5502,  3.3542,  9.4456, 10.5112, 10.9384, 12.8847, 14.4720, 17.2495,\n",
      "        26.6435, 26.9533, 27.0346, 27.1342, 28.0862, 28.5891, 36.3908, 36.7676,\n",
      "        38.7048, 42.1140, 42.8806, 44.1329, 49.5418, 62.3604, 63.0562, 66.4042,\n",
      "        69.0349, 70.9969, 73.9548, 75.0063, 79.1659, 79.6696, 80.8179, 81.0922,\n",
      "        84.0139, 88.4186, 92.6550])\n",
      "\n",
      "tensor([10.9159, 11.6606, 11.8246, 14.0996, 17.1532, 19.1170, 20.6203, 21.8233,\n",
      "        23.4265, 25.3780, 29.9809, 30.1367, 30.2652, 33.5775, 34.3999, 39.7479,\n",
      "        41.8163, 49.4462, 49.6672, 50.5802, 50.6303, 54.5108, 58.2400, 59.4649,\n",
      "        59.7941, 59.9094, 65.5344, 67.7530, 69.0344, 72.8742, 72.9334, 74.4263,\n",
      "        75.4724, 75.6039, 78.6012, 79.0697, 79.5100, 79.7112, 80.9577, 82.4931,\n",
      "        84.0964, 84.4289, 85.2517, 88.8507, 90.3975, 90.6006, 91.0759])\n",
      "\n",
      "tensor([ 5.7092, 21.3760, 28.9135, 36.1351, 36.9744, 43.6678, 58.2271, 60.4763,\n",
      "        65.2137, 69.0521, 70.6834, 72.7963, 74.6422, 79.8425, 82.9051, 91.3436,\n",
      "        91.8899, 98.9035])\n"
     ]
    }
   ],
   "source": [
    "wold_sim = GrangerBuscaSimulator(mu_rates=baseline, Alpha_ba=adjacency, Beta_b=np.ones((dim,)))\n",
    "events = wold_sim.simulate(end_time, seed=42)\n",
    "events = [torch.tensor(ev, dtype=torch.float) for ev in events]\n",
    "\n",
    "\n",
    "print(list(map(len, events)))\n",
    "print()\n",
    "print(events[0])\n",
    "print()\n",
    "print(events[1])\n",
    "print()\n",
    "print(events[2])"
   ]
  },
  {
   "cell_type": "markdown",
   "metadata": {},
   "source": [
    "---\n",
    "\n",
    "## Test `_init_variational_cache()`\n",
    "\n",
    "Create object, set the dataset, and init the variational cache."
   ]
  },
  {
   "cell_type": "code",
   "execution_count": 6,
   "metadata": {},
   "outputs": [
    {
     "ename": "AttributeError",
     "evalue": "'VariationalWoldModel' object has no attribute '_compute_C_ik'",
     "output_type": "error",
     "traceback": [
      "\u001b[0;31m---------------------------------------------------------------------------\u001b[0m",
      "\u001b[0;31mAttributeError\u001b[0m                            Traceback (most recent call last)",
      "\u001b[0;32m<ipython-input-6-f854bf809815>\u001b[0m in \u001b[0;36m<module>\u001b[0;34m\u001b[0m\n\u001b[1;32m     10\u001b[0m \u001b[0mself\u001b[0m\u001b[0;34m.\u001b[0m\u001b[0m_ar_pr\u001b[0m \u001b[0;34m=\u001b[0m \u001b[0malpha_rate\u001b[0m\u001b[0;34m\u001b[0m\u001b[0;34m\u001b[0m\u001b[0m\n\u001b[1;32m     11\u001b[0m \u001b[0mself\u001b[0m\u001b[0;34m.\u001b[0m\u001b[0m_zc_pr\u001b[0m \u001b[0;34m=\u001b[0m \u001b[0mz_param\u001b[0m\u001b[0;34m\u001b[0m\u001b[0;34m\u001b[0m\u001b[0m\n\u001b[0;32m---> 12\u001b[0;31m self._compute_C_ik(asp=self._as_pr, arp=self._ar_pr,\n\u001b[0m\u001b[1;32m     13\u001b[0m                    \u001b[0mdelta_ikj\u001b[0m\u001b[0;34m=\u001b[0m\u001b[0mself\u001b[0m\u001b[0;34m.\u001b[0m\u001b[0mdelta_ikj\u001b[0m\u001b[0;34m,\u001b[0m\u001b[0;34m\u001b[0m\u001b[0;34m\u001b[0m\u001b[0m\n\u001b[1;32m     14\u001b[0m                    events=self.events)\n",
      "\u001b[0;31mAttributeError\u001b[0m: 'VariationalWoldModel' object has no attribute '_compute_C_ik'"
     ]
    }
   ],
   "source": [
    "\n",
    "\n",
    "alpha_shp = 1.0 * np.ones((dim + 1, dim))\n",
    "alpha_rate = 0.5 * np.ones((dim + 1, dim))\n",
    "alpha_rate[0,:] = 10.0\n",
    "z_param = [1.0 * np.ones((len(events[i]), dim)) for i in range(dim)]\n",
    "\n",
    "self = VariationalWoldModel(verbose=True)\n",
    "self.set_data(events)\n",
    "\n",
    "self._as_pr = alpha_shp\n",
    "self._ar_pr = alpha_rate\n",
    "self._zc_pr = z_param\n",
    "vals_numba = _compute_C_ik(asp=self._as_pr, arp=self._ar_pr,\n",
    "                   delta_ikj=self.delta_ikj,\n",
    "                   events=self.events)"
   ]
  },
  {
   "cell_type": "markdown",
   "metadata": {},
   "source": [
    "Do the same in pure python implementation with optimisation through `scipy`"
   ]
  },
  {
   "cell_type": "code",
   "execution_count": null,
   "metadata": {
    "scrolled": false
   },
   "outputs": [],
   "source": [
    "from scipy.optimize import newton\n",
    "\n",
    "\n",
    "def solve_halley(func, fprime, fprime2, x0, max_iter, tol):\n",
    "    x = float(x0)\n",
    "    for it in range(max_iter):\n",
    "        f = func(x)\n",
    "        fp = fprime(x)\n",
    "        fpp = fprime2(x)\n",
    "        print(f, x)\n",
    "        x_new = x - (2 * f * fp) / (2 * fp**2 - f * fpp)\n",
    "        if abs(x - x_new) < tol:\n",
    "            return x\n",
    "        x = x_new\n",
    "    raise RuntimeError('Did not converged')\n",
    "\n",
    "    \n",
    "def worker(i, k):\n",
    "    a = self._as_pr[:,i]\n",
    "    delta_ik = self.delta_ikj[i][k,:]\n",
    "    b = (1 / (1 + delta_ik)) / self._ar_pr[:,i]\n",
    "    ab3 = a * b**3\n",
    "    uki = np.sum(a * b)\n",
    "\n",
    "    def func(x):\n",
    "        return float(np.sum(ab3 / (b + x)**2) - uki / 4)\n",
    "\n",
    "    def fprime(x):\n",
    "        return float(-2 * np.sum(ab3 / (b + x)**3))\n",
    "\n",
    "    def fprime2(x):\n",
    "        return float(6 * np.sum(ab3 / (b + x)**4))\n",
    "\n",
    "    x0 = float(b.max())\n",
    "\n",
    "    # https://docs.scipy.org/doc/scipy/reference/generated/scipy.optimize.newton.html\n",
    "    xhat, info = newton(func=func, x0=x0, fprime=fprime, \n",
    "                        fprime2=fprime2, maxiter=10, tol=1e-3,\n",
    "                        full_output=True)\n",
    "    \n",
    "    if not info.converged:\n",
    "        raise RuntimeException(f'item (i={i:d}, k={k:d}) did not converged')\n",
    "    \n",
    "    return xhat\n",
    "\n",
    "\n",
    "def compute_all_vals():\n",
    "    vals = [torch.ones_like(events[i]) for i in range(dim)]\n",
    "    # dim i\n",
    "    for i in range(self.dim):\n",
    "        # event k in dim i\n",
    "        for k in range(len(events[i])): \n",
    "            if (k+1) % 1000 == 0:\n",
    "                print(f\"\\rProcess dim {i:d}, event {k+1:>6d}\", end=\"\")   \n",
    "            vals[i][k] = worker(i,k)\n",
    "    return vals\n",
    "            \n",
    "vals_python = compute_all_vals()"
   ]
  },
  {
   "cell_type": "markdown",
   "metadata": {},
   "source": [
    "Test that both implementations give the same result."
   ]
  },
  {
   "cell_type": "code",
   "execution_count": null,
   "metadata": {},
   "outputs": [],
   "source": [
    "[np.allclose(a,b,atol=1e-3) for a, b in zip(vals_numba, vals_python)]"
   ]
  },
  {
   "cell_type": "markdown",
   "metadata": {},
   "source": [
    "Plot one of the optimized values computed in the cache."
   ]
  },
  {
   "cell_type": "code",
   "execution_count": null,
   "metadata": {},
   "outputs": [],
   "source": [
    "i, k = 1, 11\n",
    "\n",
    "a = self._as_pr[:,i]\n",
    "delta_ik = self.delta_ikj[i][k,:]\n",
    "b = (1 / (1 + delta_ik)) / self._ar_pr[:,i]\n",
    "ab3 = a * b**3\n",
    "uki = np.sum(a * b)\n",
    "def func(x):\n",
    "    return float(np.sum(ab3 / (b + x)**2) - uki / 4)\n",
    "xhat = vals_python[i][k]\n",
    "\n",
    "xx = np.linspace(1e-5, 10.0, 100)\n",
    "yy = [func(x) for x in xx]\n",
    "\n",
    "%matplotlib inline\n",
    "from matplotlib import pyplot as plt\n",
    "\n",
    "plt.figure(figsize=(10, 6))\n",
    "plt.axhline(0, ls=':', c='k', label='Zero line')\n",
    "if xhat:\n",
    "    plt.axvline(xhat, ls='--', c='C3', label='x opt')\n",
    "plt.plot(xx, yy, label='func')\n",
    "plt.legend();"
   ]
  },
  {
   "cell_type": "code",
   "execution_count": null,
   "metadata": {},
   "outputs": [],
   "source": []
  }
 ],
 "metadata": {
  "kernelspec": {
   "display_name": "Python 3",
   "language": "python",
   "name": "python3"
  },
  "language_info": {
   "codemirror_mode": {
    "name": "ipython",
    "version": 3
   },
   "file_extension": ".py",
   "mimetype": "text/x-python",
   "name": "python",
   "nbconvert_exporter": "python",
   "pygments_lexer": "ipython3",
   "version": "3.6.10"
  }
 },
 "nbformat": 4,
 "nbformat_minor": 2
}

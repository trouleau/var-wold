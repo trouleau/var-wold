{
 "cells": [
  {
   "cell_type": "code",
   "execution_count": 1,
   "metadata": {
    "scrolled": true
   },
   "outputs": [],
   "source": [
    "%load_ext autoreload\n",
    "%autoreload 2"
   ]
  },
  {
   "cell_type": "code",
   "execution_count": 2,
   "metadata": {},
   "outputs": [],
   "source": [
    "from matplotlib import pyplot as plt\n",
    "%matplotlib inline\n",
    "import numpy as np\n",
    "import torch\n",
    "\n",
    "import tsvar\n",
    "\n",
    "import experiments_utils\n",
    "\n",
    "# Set numpy print format\n",
    "np.set_printoptions(precision=2, floatmode='fixed', sign=' ')\n",
    "\n",
    "# Set experiments verbosity\n",
    "#experiments_utils.PRINT_EVERY = 1\n",
    "#experiments_utils.CALLBACK_END = ''\n",
    "PRINT_EVERY = 1\n",
    "CALLBACK_END = ''\n",
    "VI_N_ITER = 1000"
   ]
  },
  {
   "cell_type": "code",
   "execution_count": 16,
   "metadata": {},
   "outputs": [
    {
     "name": "stdout",
     "output_type": "stream",
     "text": [
      "Generate parameters:\n",
      "--------------------\n",
      "baseline:\n",
      "[ 0.10  0.10]\n",
      "beta:\n",
      "[[ 0.44  0.79]\n",
      " [ 0.78  0.27]]\n",
      "adjacency:\n",
      "[[ 0.24  0.00]\n",
      " [ 0.00  0.00]]\n",
      "\n",
      "Simulate data:\n",
      "--------------\n",
      "Simulated 10000 events\n"
     ]
    }
   ],
   "source": [
    "dim = 2\n",
    "max_jumps = int(5e3 * dim)\n",
    "gen_seed = 1234\n",
    "sim_seed = 789\n",
    "\n",
    "print('Generate parameters:')\n",
    "print('--------------------')\n",
    "coeffs_true_dict = experiments_utils.generate_parameters(dim=dim, seed=gen_seed,\n",
    "                                                         base_range=[0.1, 0.1], adj_range=[0.2, 0.3])\n",
    "coeffs_true_dict = {k: np.array(v) for k, v in coeffs_true_dict.items()}\n",
    "for k,v in coeffs_true_dict.items():\n",
    "    print(f\"{k}:\")\n",
    "    print(np.array(v))\n",
    "print()\n",
    "\n",
    "print('Simulate data:')\n",
    "print('--------------')\n",
    "events, end_time, sim_seed = experiments_utils.generate_data(**coeffs_true_dict, max_jumps=max_jumps)\n",
    "print(f'Simulated {sum(map(len, events)):d} events')"
   ]
  },
  {
   "cell_type": "code",
   "execution_count": 38,
   "metadata": {},
   "outputs": [
    {
     "name": "stdout",
     "output_type": "stream",
     "text": [
      "iter:   220 | dx: +1.0134e-05 | acc: 1.00 | f1-score: 1.00 | relerr: 0.05 | time/it: 7.79e-03     "
     ]
    }
   ],
   "source": [
    "# Extract ground truth\n",
    "coeffs_true = np.hstack((coeffs_true_dict['baseline'],\n",
    "                         coeffs_true_dict['adjacency'].flatten()))\n",
    "\n",
    "# Set model\n",
    "model = tsvar.models.WoldModelVariationalFixedBeta(verbose=True)\n",
    "model.observe(events, beta=coeffs_true_dict['beta'])\n",
    "\n",
    "# Set priors\n",
    "as_pr = 1.0 * np.ones((dim + 1, dim))\n",
    "ar_pr = 1.0 * np.ones((dim + 1, dim))\n",
    "zc_pr = [1.0 * np.ones((len(events[i]), dim+1)) for i in range(dim)]\n",
    "\n",
    "# Set callback (parameters of callback are just the posterior mean of alpha)\n",
    "callback = tsvar.utils.callbacks.LearnerCallbackMLE(\n",
    "    x0=(as_pr / ar_pr).flatten(), print_every=10,\n",
    "    coeffs_true=coeffs_true_dict['adjacency'].flatten(),\n",
    "    acc_thresh=0.05, dim=dim, default_end='')\n",
    "\n",
    "# Fit model\n",
    "conv = model.fit(as_pr=as_pr, ar_pr=ar_pr, zc_pr=zc_pr, max_iter=1000,\n",
    "                 tol=1e-5, callback=callback)"
   ]
  },
  {
   "cell_type": "code",
   "execution_count": 39,
   "metadata": {},
   "outputs": [
    {
     "data": {
      "text/plain": [
       "array([[ 0.09,  0.10],\n",
       "       [ 0.26,  0.01],\n",
       "       [ 0.00,  0.01]])"
      ]
     },
     "execution_count": 39,
     "metadata": {},
     "output_type": "execute_result"
    }
   ],
   "source": [
    "model._as_po / model._ar_po"
   ]
  },
  {
   "cell_type": "code",
   "execution_count": 40,
   "metadata": {},
   "outputs": [
    {
     "data": {
      "text/plain": [
       "array([[ 3910.33,  4043.37],\n",
       "       [ 1918.11,    51.92],\n",
       "       [   24.56,    57.71]])"
      ]
     },
     "execution_count": 40,
     "metadata": {},
     "output_type": "execute_result"
    }
   ],
   "source": [
    "model._as_po"
   ]
  },
  {
   "cell_type": "code",
   "execution_count": 41,
   "metadata": {},
   "outputs": [
    {
     "data": {
      "text/plain": [
       "array([[ 41250.99,  41268.28],\n",
       "       [  7363.37,   7709.55],\n",
       "       [  6615.71,   7518.51]])"
      ]
     },
     "execution_count": 41,
     "metadata": {},
     "output_type": "execute_result"
    }
   ],
   "source": [
    "model._ar_po"
   ]
  },
  {
   "cell_type": "code",
   "execution_count": 42,
   "metadata": {},
   "outputs": [
    {
     "data": {
      "text/plain": [
       "array([[  2.09,   0.00,   0.00],\n",
       "       [  1.98,   0.00,   0.00],\n",
       "       [  2.63,   0.77,   1.12],\n",
       "       ...,\n",
       "       [  2.04,   0.20,   0.20],\n",
       "       [ 32.55,   9.35,   2.63],\n",
       "       [  1.11,   0.03,   0.56]])"
      ]
     },
     "execution_count": 42,
     "metadata": {},
     "output_type": "execute_result"
    }
   ],
   "source": [
    "model.D_ikj[0]"
   ]
  },
  {
   "cell_type": "code",
   "execution_count": 43,
   "metadata": {},
   "outputs": [
    {
     "data": {
      "text/plain": [
       "array([[ 1.00,  0.00,  0.00],\n",
       "       [ 1.00,  0.00,  0.00],\n",
       "       [ 0.55,  0.44,  0.01],\n",
       "       ...,\n",
       "       [ 0.79,  0.21,  0.00],\n",
       "       [ 0.56,  0.44,  0.00],\n",
       "       [ 0.91,  0.07,  0.02]])"
      ]
     },
     "execution_count": 43,
     "metadata": {},
     "output_type": "execute_result"
    }
   ],
   "source": [
    "model._zp_po[0]"
   ]
  },
  {
   "cell_type": "code",
   "execution_count": 44,
   "metadata": {},
   "outputs": [
    {
     "data": {
      "text/plain": [
       "array([  2.09,   1.98,   2.63, ...,   2.04,  32.55,   1.11], dtype=float32)"
      ]
     },
     "execution_count": 44,
     "metadata": {},
     "output_type": "execute_result"
    }
   ],
   "source": [
    "np.hstack((model.events[0][0], np.diff(model.events[0])))"
   ]
  },
  {
   "cell_type": "code",
   "execution_count": null,
   "metadata": {},
   "outputs": [],
   "source": []
  }
 ],
 "metadata": {
  "kernelspec": {
   "display_name": "Python 3",
   "language": "python",
   "name": "python3"
  },
  "language_info": {
   "codemirror_mode": {
    "name": "ipython",
    "version": 3
   },
   "file_extension": ".py",
   "mimetype": "text/x-python",
   "name": "python",
   "nbconvert_exporter": "python",
   "pygments_lexer": "ipython3",
   "version": "3.6.10"
  }
 },
 "nbformat": 4,
 "nbformat_minor": 4
}

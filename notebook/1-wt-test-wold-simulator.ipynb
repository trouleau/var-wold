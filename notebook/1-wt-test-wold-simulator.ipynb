{
 "cells": [
  {
   "cell_type": "code",
   "execution_count": 1,
   "metadata": {},
   "outputs": [],
   "source": [
    "%load_ext autoreload\n",
    "%autoreload 2"
   ]
  },
  {
   "cell_type": "code",
   "execution_count": 107,
   "metadata": {},
   "outputs": [],
   "source": [
    "import random as rd\n",
    "from bisect import bisect_right\n",
    "\n",
    "from tsvar.simulate import GrangeBuscaSimulator"
   ]
  },
  {
   "cell_type": "code",
   "execution_count": 275,
   "metadata": {},
   "outputs": [],
   "source": [
    "mu = np.array([0.2, 0.1])\n",
    "\n",
    "alpha = np.array([\n",
    "    [0.1, 0.9],\n",
    "    [0.4, 0.6]\n",
    "])\n",
    "\n",
    "beta = np.array([1.0, 2.0])\n",
    "\n",
    "end_time = 50000\n",
    "\n",
    "\n",
    "# dim = 2\n",
    "# mu = np.random.uniform(0.1, 0.2, size=dim)\n",
    "# beta = np.random.uniform(1.0, 2.0, size=dim)\n",
    "# alpha = np.random.uniform(0.0, 2/100, size=(dim, dim))"
   ]
  },
  {
   "cell_type": "code",
   "execution_count": 262,
   "metadata": {},
   "outputs": [
    {
     "name": "stdout",
     "output_type": "stream",
     "text": [
      "The line_profiler extension is already loaded. To reload it, use:\n",
      "  %reload_ext line_profiler\n"
     ]
    }
   ],
   "source": [
    "%load_ext line_profiler"
   ]
  },
  {
   "cell_type": "code",
   "execution_count": 192,
   "metadata": {},
   "outputs": [],
   "source": [
    "simulator = GrangeBuscaSimulator(mu_rates=mu, Alpha_ba=alpha, Beta_b=beta)\n",
    "\n",
    "%lprun -f simulator.simulate simulator.simulate(forward=end_time)"
   ]
  },
  {
   "cell_type": "code",
   "execution_count": 276,
   "metadata": {},
   "outputs": [
    {
     "name": "stdout",
     "output_type": "stream",
     "text": [
      "[17774, 30158]\n",
      "CPU times: user 1.36 s, sys: 28.2 ms, total: 1.39 s\n",
      "Wall time: 1.39 s\n"
     ]
    }
   ],
   "source": [
    "%%time\n",
    "\n",
    "rd.seed(42)\n",
    "simulator = GrangeBuscaSimulator(mu_rates=mu, Alpha_ba=alpha, Beta_b=beta)\n",
    "events = simulator.simulate(forward=end_time)\n",
    "print(list(map(len, events)))"
   ]
  },
  {
   "cell_type": "code",
   "execution_count": null,
   "metadata": {},
   "outputs": [],
   "source": []
  }
 ],
 "metadata": {
  "kernelspec": {
   "display_name": "Python 3",
   "language": "python",
   "name": "python3"
  },
  "language_info": {
   "codemirror_mode": {
    "name": "ipython",
    "version": 3
   },
   "file_extension": ".py",
   "mimetype": "text/x-python",
   "name": "python",
   "nbconvert_exporter": "python",
   "pygments_lexer": "ipython3",
   "version": "3.6.10"
  }
 },
 "nbformat": 4,
 "nbformat_minor": 4
}

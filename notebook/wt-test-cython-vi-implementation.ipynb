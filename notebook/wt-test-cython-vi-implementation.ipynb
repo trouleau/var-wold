{
 "cells": [
  {
   "cell_type": "code",
   "execution_count": 5,
   "metadata": {},
   "outputs": [
    {
     "name": "stdout",
     "output_type": "stream",
     "text": [
      "The Cython extension is already loaded. To reload it, use:\n",
      "  %reload_ext Cython\n"
     ]
    }
   ],
   "source": [
    "%load_ext Cython\n",
    "\n",
    "import cython\n",
    "import numpy as np"
   ]
  },
  {
   "cell_type": "code",
   "execution_count": 4,
   "metadata": {},
   "outputs": [],
   "source": [
    "%%cython\n",
    "\n",
    "#cython: boundscheck=False\n",
    "#cython: wraparound=False\n",
    "#cython: nonecheck=False\n",
    "#cython: language_level=3\n",
    "\n",
    "from libc.math cimport sin\n",
    "from scipy.optimize.cython_optimize cimport ridder\n",
    "\n",
    "import numpy as np  # For internal testing of the cython documentation\n",
    "cimport numpy as np  # \"cimport\" is used to import special compile-time stuff\n",
    "\n",
    "DTYPE_d = np.double\n",
    "ctypedef np.double_t DTYPE_d_t\n",
    "\n",
    "\n",
    "def expect_inv_beta_p_delta(np.ndarray[DTYPE_d_t, ndim=2] bs_po, \n",
    "                            np.ndarray[DTYPE_d_t, ndim=2] br_po, \n",
    "                            np.ndarray[DTYPE_d_t, ndim=2] delta):\n",
    "    \"\"\"Compute the expectation of 1/(beta + delta)\"\"\"\n",
    "    b_mean = br_po / (bs_po - 1)\n",
    "    return 1 / (b_mean + delta)\n",
    "\n",
    "\n",
    "def _update_alpha(np.ndarray[DTYPE_d_t, ndim=2] as_pr,\n",
    "                  np.ndarray[DTYPE_d_t, ndim=2] ar_pr,\n",
    "                  list zp_po,\n",
    "                  np.ndarray[DTYPE_d_t, ndim=2] bs_po,\n",
    "                  np.ndarray[DTYPE_d_t, ndim=2] br_po,\n",
    "                  list delta_ikj,\n",
    "                  list dt_ik,\n",
    "                  np.ndarray[DTYPE_d_t, ndim=1] last_t):\n",
    "    cdef:\n",
    "        dim = as_pr.shape[1]\n",
    "        np.ndarray[DTYPE_d_t, ndim=1] as_po = np.zeros_like(as_pr)  # Alpha posterior shape, to return\n",
    "        np.ndarray[DTYPE_d_t, ndim=1] ar_po = np.zeros_like(as_pr)  # Alpha posterior rate, to return\n",
    "    for i in range(dim):\n",
    "        # update shape\n",
    "        as_po[:, i] = as_pr[:, i] + zp_po[i].sum(axis=0)\n",
    "        # update rate\n",
    "        ar_po[0, i] = ar_pr[0, i] + last_t[i]\n",
    "        D_i_kj = (np.expand_dims(dt_ik[i], 1) *\n",
    "                  expect_inv_beta_p_delta(bs_po[:, i], br_po[:, i],\n",
    "                                          delta_ikj[i][:, 1:] + 1e-20))\n",
    "        ar_po[1:, i] = ar_pr[1:, i] + D_i_kj.sum(axis=0)\n",
    "    return as_po, ar_po\n"
   ]
  },
  {
   "cell_type": "code",
   "execution_count": 8,
   "metadata": {},
   "outputs": [
    {
     "ename": "SyntaxError",
     "evalue": "invalid syntax (<ipython-input-8-6c1f5db6afb4>, line 12)",
     "output_type": "error",
     "traceback": [
      "\u001b[0;36m  File \u001b[0;32m\"<ipython-input-8-6c1f5db6afb4>\"\u001b[0;36m, line \u001b[0;32m12\u001b[0m\n\u001b[0;31m    delta_ikj = [ for _ in range(dim)]\u001b[0m\n\u001b[0m                    ^\u001b[0m\n\u001b[0;31mSyntaxError\u001b[0m\u001b[0;31m:\u001b[0m invalid syntax\n"
     ]
    }
   ],
   "source": [
    "dim = 10\n",
    "npd = np.random.randint(5, 9, size=10)\n",
    "\n",
    "as_pr = 0.1 * np.ones((dim + 1, dim))\n",
    "ar_pr = 1.0 * np.ones((dim + 1, dim))\n",
    "\n",
    "bs_po = 101.0 * np.ones((dim, dim))\n",
    "br_po = 100.0 * np.ones((dim, dim))\n",
    "\n",
    "zp_po = [1.0 / (dim + 1) * np.ones((len(events[i]), dim+1)) for i in range(dim)]\n",
    "\n",
    "delta_ikj = [np.zeros((npd[i], dim)) for _ in range(dim+1)]"
   ]
  },
  {
   "cell_type": "code",
   "execution_count": null,
   "metadata": {},
   "outputs": [],
   "source": []
  }
 ],
 "metadata": {
  "kernelspec": {
   "display_name": "Python 3",
   "language": "python",
   "name": "python3"
  },
  "language_info": {
   "codemirror_mode": {
    "name": "ipython",
    "version": 3
   },
   "file_extension": ".py",
   "mimetype": "text/x-python",
   "name": "python",
   "nbconvert_exporter": "python",
   "pygments_lexer": "ipython3",
   "version": "3.6.10"
  }
 },
 "nbformat": 4,
 "nbformat_minor": 4
}

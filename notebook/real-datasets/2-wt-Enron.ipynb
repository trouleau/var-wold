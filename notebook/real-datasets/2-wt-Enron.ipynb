{
 "cells": [
  {
   "cell_type": "code",
   "execution_count": 1,
   "metadata": {},
   "outputs": [],
   "source": [
    "%load_ext autoreload\n",
    "%autoreload 2"
   ]
  },
  {
   "cell_type": "code",
   "execution_count": 2,
   "metadata": {},
   "outputs": [],
   "source": [
    "from matplotlib import pyplot as plt\n",
    "import networkx as nx\n",
    "import itertools\n",
    "import torch\n",
    "import os\n",
    "\n",
    "import scipy.stats\n",
    "\n",
    "import tsvar\n",
    "from tsvar.preprocessing import Dataset\n",
    "\n",
    "import experiments_utils"
   ]
  },
  {
   "cell_type": "markdown",
   "metadata": {},
   "source": [
    "Set cells width"
   ]
  },
  {
   "cell_type": "code",
   "execution_count": 3,
   "metadata": {},
   "outputs": [
    {
     "data": {
      "text/html": [
       "<style>.container { width:80% !important; }</style>"
      ],
      "text/plain": [
       "<IPython.core.display.HTML object>"
      ]
     },
     "metadata": {},
     "output_type": "display_data"
    }
   ],
   "source": [
    "from IPython.core.display import display, HTML\n",
    "display(HTML(\"<style>.container { width:80% !important; }</style>\"))"
   ]
  },
  {
   "cell_type": "markdown",
   "metadata": {},
   "source": [
    "---\n",
    "\n",
    "## Load the dataset\n",
    "\n",
    "Set input path"
   ]
  },
  {
   "cell_type": "code",
   "execution_count": 4,
   "metadata": {},
   "outputs": [],
   "source": [
    "INPUT_PATH = \"../../data/enron/enron_dataset_splitted_receivers.csv.gz\""
   ]
  },
  {
   "cell_type": "markdown",
   "metadata": {},
   "source": [
    "Load the dataset"
   ]
  },
  {
   "cell_type": "code",
   "execution_count": 5,
   "metadata": {},
   "outputs": [],
   "source": [
    "dataset = Dataset(INPUT_PATH, top=100, timescale='median')"
   ]
  },
  {
   "cell_type": "markdown",
   "metadata": {},
   "source": [
    "Filter stuff if necessary"
   ]
  },
  {
   "cell_type": "raw",
   "metadata": {},
   "source": [
    "nodes_to_keep = np.array([i for i, ev in enumerate(dataset.timestamps) if ev[0] < 100.0])\n",
    "\n",
    "dataset.timestamps = [ev for i, ev in enumerate(dataset.timestamps) if i in nodes_to_keep]\n",
    "dataset.end_time = max(map(max, dataset.timestamps))\n",
    "dataset.dim = len(nodes_to_keep)\n",
    "dataset.idx_to_name = {i:n for i, n in dataset.idx_to_name.items() if i in nodes_to_keep}\n",
    "dataset.name_to_idx = {n:i for n, i in dataset.name_to_idx.items() if i in nodes_to_keep}\n",
    "dataset.graph = nx.subgraph(dataset.graph, nbunch=nodes_to_keep)\n",
    "dataset.busca_beta_ji = dataset.busca_beta_ji[nodes_to_keep, :][:, nodes_to_keep]"
   ]
  },
  {
   "cell_type": "code",
   "execution_count": 12,
   "metadata": {},
   "outputs": [],
   "source": [
    "nodes_to_keep = range(dataset.dim)"
   ]
  },
  {
   "cell_type": "markdown",
   "metadata": {},
   "source": [
    "#### Dataset exploration\n",
    "\n",
    "Print statistics of the dataset"
   ]
  },
  {
   "cell_type": "code",
   "execution_count": 6,
   "metadata": {
    "scrolled": true
   },
   "outputs": [
    {
     "name": "stdout",
     "output_type": "stream",
     "text": [
      "Num. of dimensions: 100\n",
      "    Num. of events: 51,060\n",
      "               %NZ: 21.77%\n",
      "\n",
      "Stats. of num. of events per dim:\n",
      "count     100.000000\n",
      "mean      510.600000\n",
      "std       524.892601\n",
      "min         7.000000\n",
      "25%       154.750000\n",
      "50%       361.000000\n",
      "75%       635.000000\n",
      "max      3527.000000\n",
      "dtype: float64\n"
     ]
    }
   ],
   "source": [
    "print(f\"Num. of dimensions: {len(dataset.timestamps):,d}\")\n",
    "print(f\"    Num. of events: {sum(map(len, dataset.timestamps)):,d}\")\n",
    "print(f\"               %NZ: {100 * dataset.graph.number_of_edges() / (dataset.graph.number_of_nodes() ** 2):.2f}%\")\n",
    "print()\n",
    "print(\"Stats. of num. of events per dim:\")\n",
    "num_jumps_per_dim = np.array(list(map(len, dataset.timestamps)))\n",
    "print(pd.Series(num_jumps_per_dim).describe())"
   ]
  },
  {
   "cell_type": "code",
   "execution_count": 7,
   "metadata": {
    "scrolled": true
   },
   "outputs": [
    {
     "data": {
      "image/png": "[encoded data removed]",
      "text/plain": [
       "<Figure size 1296x252 with 3 Axes>"
      ]
     },
     "metadata": {
      "needs_background": "light"
     },
     "output_type": "display_data"
    }
   ],
   "source": [
    "fig, axs = plt.subplots(1, 3, figsize=(18, 3.5))\n",
    "\n",
    "axs[0].hist(list(map(len, dataset.timestamps)))\n",
    "axs[0].set_xlabel('Number of events \\n in each dim')\n",
    "axs[0].set_ylabel('Number of users')\n",
    "\n",
    "end_time = max(map(max, dataset.timestamps))\n",
    "axs[1].hist(list(map(min, dataset.timestamps)), bins=np.linspace(0, end_time, 20))\n",
    "axs[1].set_xlabel('First of event \\n in each dim')\n",
    "axs[1].set_ylabel('Number of users')\n",
    "\n",
    "axs[2].hist(list(map(max, dataset.timestamps)), bins=np.linspace(0, end_time, 20))\n",
    "axs[2].set_xlabel('Last of events \\n in each dim')\n",
    "axs[2].set_ylabel('Number of users')\n",
    "\n",
    "fig.suptitle(f\"Dataset {os.path.split(INPUT_PATH)[1]}\");"
   ]
  },
  {
   "cell_type": "markdown",
   "metadata": {},
   "source": [
    "#### Visualize the scale of time using empirical inter-arrival time distributions\n",
    "\n",
    "Compute this for both definitions $\\{\\beta_j\\}$ and $\\{\\beta_{ij}\\}$."
   ]
  },
  {
   "cell_type": "code",
   "execution_count": 8,
   "metadata": {
    "scrolled": false
   },
   "outputs": [
    {
     "name": "stdout",
     "output_type": "stream",
     "text": [
      "Busca estimators of **beta_j**:\n",
      "count    100.000000\n",
      "mean       2.431278\n",
      "std        7.126163\n",
      "min        0.065975\n",
      "25%        0.294077\n",
      "50%        1.051462\n",
      "75%        1.662430\n",
      "max       62.414747\n",
      "dtype: float64\n",
      "Median: 1.051461810185799\n"
     ]
    },
    {
     "data": {
      "image/png": "[encoded data removed]",
      "text/plain": [
       "<Figure size 432x288 with 1 Axes>"
      ]
     },
     "metadata": {
      "needs_background": "light"
     },
     "output_type": "display_data"
    }
   ],
   "source": [
    "busca_betas = np.array([np.median(np.hstack((ev[0], np.diff(ev)))) for ev in dataset.timestamps])\n",
    "plt.boxplot(busca_betas, labels=['Distribution of Busca estimators of betas']);\n",
    "plt.yscale('log')\n",
    "print('Busca estimators of **beta_j**:')\n",
    "print(pd.Series(busca_betas.flatten()).describe())\n",
    "print('Median:', np.median(busca_betas))"
   ]
  },
  {
   "cell_type": "code",
   "execution_count": 9,
   "metadata": {},
   "outputs": [
    {
     "name": "stdout",
     "output_type": "stream",
     "text": [
      "Busca estimators of **beta_{ij}**:\n",
      "count    10000.000000\n",
      "mean         4.670327\n",
      "std         13.699575\n",
      "min          0.000000\n",
      "25%          0.418984\n",
      "50%          1.092299\n",
      "75%          3.110960\n",
      "max        223.170471\n",
      "dtype: float64\n",
      "Median: 1.0922993421554565\n"
     ]
    },
    {
     "data": {
      "image/png": "[encoded data removed]",
      "text/plain": [
       "<Figure size 432x288 with 1 Axes>"
      ]
     },
     "metadata": {
      "needs_background": "light"
     },
     "output_type": "display_data"
    }
   ],
   "source": [
    "wold_model = tsvar.models.WoldModel()\n",
    "wold_model.observe(dataset.timestamps)\n",
    "busca_beta_ji = np.zeros((wold_model.dim, wold_model.dim))\n",
    "for i in range(wold_model.dim):\n",
    "    busca_beta_ji[:, i] = np.median(wold_model.delta_ikj[i][:, :], axis=0) / np.exp(1)\n",
    "del wold_model\n",
    "\n",
    "plt.boxplot(busca_beta_ji.flatten(), labels=['Distribution of Busca estimators of betas']);\n",
    "plt.yscale('log')\n",
    "print('Busca estimators of **beta_{ij}**:')\n",
    "print(pd.Series(busca_beta_ji.flatten()).describe())\n",
    "print('Median:', np.median(busca_beta_ji))"
   ]
  },
  {
   "cell_type": "code",
   "execution_count": 10,
   "metadata": {},
   "outputs": [
    {
     "name": "stdout",
     "output_type": "stream",
     "text": [
      "count    5.116000e+06\n",
      "mean     2.072914e+01\n",
      "std      5.271658e+01\n",
      "min      0.000000e+00\n",
      "25%      3.131714e-01\n",
      "50%      2.718506e+00\n",
      "75%      1.253845e+01\n",
      "max      7.332789e+02\n",
      "dtype: float64\n"
     ]
    },
    {
     "data": {
      "image/png": "[encoded data removed]",
      "text/plain": [
       "<Figure size 432x288 with 1 Axes>"
      ]
     },
     "metadata": {
      "needs_background": "light"
     },
     "output_type": "display_data"
    }
   ],
   "source": [
    "wold_model = tsvar.models.WoldModel()\n",
    "wold_model.observe(dataset.timestamps)\n",
    "all_delta_ikj = np.hstack([arr.flatten() for arr in wold_model.delta_ikj])\n",
    "\n",
    "plt.boxplot(all_delta_ikj)\n",
    "plt.yscale('log')\n",
    "print(pd.Series(all_delta_ikj).describe())"
   ]
  },
  {
   "cell_type": "markdown",
   "metadata": {},
   "source": [
    "#### Extract ground truth\n",
    "\n",
    "Build ground truth adjacency matrix"
   ]
  },
  {
   "cell_type": "code",
   "execution_count": 13,
   "metadata": {},
   "outputs": [],
   "source": [
    "adjacency_true = nx.adjacency_matrix(dataset.graph, nodes_to_keep).toarray()\n",
    "adjacency_true = adjacency_true / adjacency_true.max()"
   ]
  },
  {
   "cell_type": "markdown",
   "metadata": {},
   "source": [
    "Set variables used for inferences"
   ]
  },
  {
   "cell_type": "code",
   "execution_count": 14,
   "metadata": {},
   "outputs": [],
   "source": [
    "events = dataset.timestamps\n",
    "end_time = dataset.timestamps"
   ]
  },
  {
   "cell_type": "markdown",
   "metadata": {},
   "source": [
    "Set threshold for edge detection evaluation"
   ]
  },
  {
   "cell_type": "code",
   "execution_count": 15,
   "metadata": {},
   "outputs": [],
   "source": [
    "THRESH = 0.01"
   ]
  },
  {
   "cell_type": "markdown",
   "metadata": {},
   "source": [
    "---\n",
    "\n",
    "## Run inference"
   ]
  },
  {
   "cell_type": "markdown",
   "metadata": {},
   "source": [
    "---\n",
    "\n",
    "### Run VI-fb"
   ]
  },
  {
   "cell_type": "code",
   "execution_count": 24,
   "metadata": {
    "scrolled": false
   },
   "outputs": [],
   "source": [
    "# Set model\n",
    "vifb_model = tsvar.models.WoldModelVariationalFixedBeta(verbose=True)\n",
    "\n",
    "#beta_vifb = dataset.busca_beta_ji\n",
    "beta_vifb = 1.0 * np.ones_like(dataset.busca_beta_ji)\n",
    "\n",
    "vifb_model.observe(events, beta=beta_vifb)"
   ]
  },
  {
   "cell_type": "code",
   "execution_count": 25,
   "metadata": {},
   "outputs": [],
   "source": [
    "dim = len(events)\n",
    "\n",
    "# Set priors\n",
    "as_pr = 0.1 * np.ones((dim + 1, dim))\n",
    "ar_pr = 1.0 * np.ones((dim + 1, dim))\n",
    "\n",
    "zc_pr = [1.0 * np.ones((len(ev), dim+1)) for ev in events]\n",
    "\n",
    "beta = 1.0 * np.ones((dim, dim))\n",
    "#beta = busca_beta_ji"
   ]
  },
  {
   "cell_type": "code",
   "execution_count": 27,
   "metadata": {
    "scrolled": true
   },
   "outputs": [
    {
     "name": "stdout",
     "output_type": "stream",
     "text": [
      "iter:    10 | dx: +2.4583e+00 | f1-score: 0.25 | relerr: 2.68e+03 | p@5: 0.00 | p@10: 0.00 | p@20: 0.00 | time/it: 2.57e-01     \n",
      "iter:    20 | dx: +3.1755e-01 | f1-score: 0.16 | relerr: 2.70e+03 | p@5: 0.00 | p@10: 0.00 | p@20: 0.00 | time/it: 2.36e-01     \n",
      "iter:    30 | dx: +1.5121e-01 | f1-score: 0.12 | relerr: 2.70e+03 | p@5: 0.00 | p@10: 0.00 | p@20: 0.00 | time/it: 2.35e-01     \n",
      "iter:    40 | dx: +6.9963e-02 | f1-score: 0.10 | relerr: 2.69e+03 | p@5: 0.00 | p@10: 0.00 | p@20: 0.00 | time/it: 2.25e-01     \n",
      "iter:    50 | dx: +4.0486e-02 | f1-score: 0.09 | relerr: 2.69e+03 | p@5: 0.00 | p@10: 0.00 | p@20: 0.00 | time/it: 2.23e-01     \n",
      "iter:    60 | dx: +1.6861e-02 | f1-score: 0.08 | relerr: 2.69e+03 | p@5: 0.00 | p@10: 0.00 | p@20: 0.00 | time/it: 2.19e-01     \n",
      "iter:    70 | dx: +1.4341e-02 | f1-score: 0.08 | relerr: 2.69e+03 | p@5: 0.00 | p@10: 0.00 | p@20: 0.00 | time/it: 2.18e-01     \n",
      "iter:    80 | dx: +1.8486e-02 | f1-score: 0.08 | relerr: 2.69e+03 | p@5: 0.00 | p@10: 0.00 | p@20: 0.00 | time/it: 2.17e-01     \n",
      "iter:    90 | dx: +1.0655e-02 | f1-score: 0.07 | relerr: 2.69e+03 | p@5: 0.00 | p@10: 0.00 | p@20: 0.00 | time/it: 2.27e-01     \n",
      "iter:   100 | dx: +9.0847e-03 | f1-score: 0.07 | relerr: 2.69e+03 | p@5: 0.00 | p@10: 0.00 | p@20: 0.00 | time/it: 2.85e-01     \n",
      "iter:   110 | dx: +1.6115e-02 | f1-score: 0.07 | relerr: 2.69e+03 | p@5: 0.00 | p@10: 0.00 | p@20: 0.00 | time/it: 2.86e-01     \n",
      "iter:   120 | dx: +1.4392e-02 | f1-score: 0.07 | relerr: 2.69e+03 | p@5: 0.00 | p@10: 0.00 | p@20: 0.00 | time/it: 2.94e-01     \n",
      "iter:   130 | dx: +2.0581e-02 | f1-score: 0.07 | relerr: 2.69e+03 | p@5: 0.00 | p@10: 0.00 | p@20: 0.00 | time/it: 2.89e-01     \n",
      "iter:   140 | dx: +1.8416e-02 | f1-score: 0.07 | relerr: 2.69e+03 | p@5: 0.00 | p@10: 0.00 | p@20: 0.00 | time/it: 2.35e-01     \n",
      "iter:   150 | dx: +1.1566e-02 | f1-score: 0.07 | relerr: 2.69e+03 | p@5: 0.00 | p@10: 0.00 | p@20: 0.00 | time/it: 2.70e-01     \n",
      "iter:   160 | dx: +1.3169e-02 | f1-score: 0.07 | relerr: 2.69e+03 | p@5: 0.00 | p@10: 0.00 | p@20: 0.00 | time/it: 2.28e-01     \n",
      "iter:   170 | dx: +1.0560e-02 | f1-score: 0.07 | relerr: 2.69e+03 | p@5: 0.00 | p@10: 0.00 | p@20: 0.00 | time/it: 2.62e-01     \n",
      "iter:   180 | dx: +1.6488e-02 | f1-score: 0.07 | relerr: 2.69e+03 | p@5: 0.00 | p@10: 0.00 | p@20: 0.00 | time/it: 2.38e-01     \n",
      "iter:   190 | dx: +2.4634e-02 | f1-score: 0.07 | relerr: 2.69e+03 | p@5: 0.00 | p@10: 0.00 | p@20: 0.00 | time/it: 2.34e-01     \n",
      "iter:   200 | dx: +1.1472e-02 | f1-score: 0.07 | relerr: 2.69e+03 | p@5: 0.00 | p@10: 0.00 | p@20: 0.00 | time/it: 2.29e-01     \n",
      "iter:   210 | dx: +1.7254e-02 | f1-score: 0.07 | relerr: 2.69e+03 | p@5: 0.00 | p@10: 0.00 | p@20: 0.00 | time/it: 2.27e-01     \n",
      "iter:   220 | dx: +1.3352e-02 | f1-score: 0.07 | relerr: 2.69e+03 | p@5: 0.00 | p@10: 0.00 | p@20: 0.00 | time/it: 2.25e-01     \n",
      "iter:   230 | dx: +8.6434e-03 | f1-score: 0.07 | relerr: 2.69e+03 | p@5: 0.00 | p@10: 0.00 | p@20: 0.00 | time/it: 2.25e-01     \n",
      "iter:   240 | dx: +8.6748e-03 | f1-score: 0.07 | relerr: 2.69e+03 | p@5: 0.00 | p@10: 0.00 | p@20: 0.00 | time/it: 2.21e-01     \n",
      "iter:   250 | dx: +1.9710e-02 | f1-score: 0.07 | relerr: 2.69e+03 | p@5: 0.00 | p@10: 0.00 | p@20: 0.00 | time/it: 2.21e-01     \n",
      "iter:   260 | dx: +1.5063e-02 | f1-score: 0.07 | relerr: 2.69e+03 | p@5: 0.00 | p@10: 0.00 | p@20: 0.00 | time/it: 2.27e-01     \n",
      "iter:   270 | dx: +7.4002e-03 | f1-score: 0.07 | relerr: 2.69e+03 | p@5: 0.00 | p@10: 0.00 | p@20: 0.00 | time/it: 2.24e-01     \n",
      "iter:   280 | dx: +1.6941e-02 | f1-score: 0.07 | relerr: 2.69e+03 | p@5: 0.00 | p@10: 0.00 | p@20: 0.00 | time/it: 2.30e-01     \n",
      "iter:   290 | dx: +1.0491e-02 | f1-score: 0.07 | relerr: 2.69e+03 | p@5: 0.00 | p@10: 0.00 | p@20: 0.00 | time/it: 2.27e-01     \n",
      "iter:   300 | dx: +2.0177e-02 | f1-score: 0.07 | relerr: 2.69e+03 | p@5: 0.00 | p@10: 0.00 | p@20: 0.00 | time/it: 2.29e-01     \n",
      "iter:   310 | dx: +3.4633e-03 | f1-score: 0.07 | relerr: 2.69e+03 | p@5: 0.00 | p@10: 0.00 | p@20: 0.00 | time/it: 2.30e-01     \n",
      "iter:   320 | dx: +1.4172e-02 | f1-score: 0.07 | relerr: 2.69e+03 | p@5: 0.00 | p@10: 0.00 | p@20: 0.00 | time/it: 2.33e-01     \n",
      "iter:   330 | dx: +6.4621e-03 | f1-score: 0.07 | relerr: 2.69e+03 | p@5: 0.00 | p@10: 0.00 | p@20: 0.00 | time/it: 2.23e-01     \n",
      "iter:   340 | dx: +1.5621e-02 | f1-score: 0.07 | relerr: 2.69e+03 | p@5: 0.00 | p@10: 0.00 | p@20: 0.00 | time/it: 2.33e-01     \n",
      "iter:   350 | dx: +1.9064e-02 | f1-score: 0.07 | relerr: 2.69e+03 | p@5: 0.00 | p@10: 0.00 | p@20: 0.00 | time/it: 2.34e-01     \n",
      "iter:   360 | dx: +1.6275e-02 | f1-score: 0.07 | relerr: 2.69e+03 | p@5: 0.00 | p@10: 0.00 | p@20: 0.00 | time/it: 2.92e-01     \n",
      "iter:   370 | dx: +5.0254e-03 | f1-score: 0.07 | relerr: 2.69e+03 | p@5: 0.00 | p@10: 0.00 | p@20: 0.00 | time/it: 2.27e-01     \n",
      "iter:   380 | dx: +1.2834e-02 | f1-score: 0.07 | relerr: 2.69e+03 | p@5: 0.00 | p@10: 0.00 | p@20: 0.00 | time/it: 2.21e-01     \n",
      "iter:   390 | dx: +1.4908e-02 | f1-score: 0.07 | relerr: 2.69e+03 | p@5: 0.00 | p@10: 0.00 | p@20: 0.00 | time/it: 2.43e-01     \n",
      "iter:   400 | dx: +1.4663e-02 | f1-score: 0.07 | relerr: 2.69e+03 | p@5: 0.00 | p@10: 0.00 | p@20: 0.00 | time/it: 3.03e-01     \n",
      "iter:   410 | dx: +1.2603e-02 | f1-score: 0.07 | relerr: 2.69e+03 | p@5: 0.00 | p@10: 0.00 | p@20: 0.00 | time/it: 2.69e-01     \n",
      "iter:   420 | dx: +1.6099e-02 | f1-score: 0.07 | relerr: 2.69e+03 | p@5: 0.00 | p@10: 0.00 | p@20: 0.00 | time/it: 2.36e-01     \n",
      "iter:   430 | dx: +5.5593e-03 | f1-score: 0.07 | relerr: 2.69e+03 | p@5: 0.00 | p@10: 0.00 | p@20: 0.00 | time/it: 2.36e-01     \n",
      "iter:   440 | dx: +4.5452e-03 | f1-score: 0.07 | relerr: 2.69e+03 | p@5: 0.00 | p@10: 0.00 | p@20: 0.00 | time/it: 2.32e-01     \n",
      "iter:   450 | dx: +1.7583e-02 | f1-score: 0.07 | relerr: 2.69e+03 | p@5: 0.00 | p@10: 0.00 | p@20: 0.00 | time/it: 2.25e-01     \n",
      "iter:   460 | dx: +1.5322e-02 | f1-score: 0.07 | relerr: 2.69e+03 | p@5: 0.00 | p@10: 0.00 | p@20: 0.00 | time/it: 2.25e-01     \n",
      "iter:   470 | dx: +1.6401e-02 | f1-score: 0.07 | relerr: 2.69e+03 | p@5: 0.00 | p@10: 0.00 | p@20: 0.00 | time/it: 2.30e-01     \n",
      "iter:   480 | dx: +1.5684e-02 | f1-score: 0.07 | relerr: 2.69e+03 | p@5: 0.00 | p@10: 0.00 | p@20: 0.00 | time/it: 2.20e-01     \n",
      "iter:   490 | dx: +9.0171e-03 | f1-score: 0.07 | relerr: 2.69e+03 | p@5: 0.00 | p@10: 0.00 | p@20: 0.00 | time/it: 2.32e-01     \n",
      "iter:   500 | dx: +2.3608e-02 | f1-score: 0.07 | relerr: 2.69e+03 | p@5: 0.00 | p@10: 0.00 | p@20: 0.00 | time/it: 2.34e-01     \n",
      "iter:   510 | dx: +1.0930e-02 | f1-score: 0.07 | relerr: 2.69e+03 | p@5: 0.00 | p@10: 0.00 | p@20: 0.00 | time/it: 2.24e-01     \n",
      "iter:   520 | dx: +1.4635e-02 | f1-score: 0.07 | relerr: 2.69e+03 | p@5: 0.00 | p@10: 0.00 | p@20: 0.00 | time/it: 2.26e-01     \n",
      "iter:   530 | dx: +1.1880e-02 | f1-score: 0.07 | relerr: 2.69e+03 | p@5: 0.00 | p@10: 0.00 | p@20: 0.00 | time/it: 2.19e-01     \n",
      "iter:   540 | dx: +1.4156e-02 | f1-score: 0.07 | relerr: 2.69e+03 | p@5: 0.00 | p@10: 0.00 | p@20: 0.00 | time/it: 2.73e-01     \n",
      "iter:   550 | dx: +1.1600e-02 | f1-score: 0.07 | relerr: 2.69e+03 | p@5: 0.00 | p@10: 0.00 | p@20: 0.00 | time/it: 2.52e-01     \n",
      "iter:   560 | dx: +1.0742e-02 | f1-score: 0.07 | relerr: 2.69e+03 | p@5: 0.00 | p@10: 0.00 | p@20: 0.00 | time/it: 2.31e-01     \n",
      "iter:   570 | dx: +8.4119e-03 | f1-score: 0.07 | relerr: 2.69e+03 | p@5: 0.00 | p@10: 0.00 | p@20: 0.00 | time/it: 2.36e-01     \n",
      "iter:   580 | dx: +1.6181e-02 | f1-score: 0.07 | relerr: 2.69e+03 | p@5: 0.00 | p@10: 0.00 | p@20: 0.00 | time/it: 2.58e-01     \n",
      "iter:   590 | dx: +2.4585e-02 | f1-score: 0.07 | relerr: 2.69e+03 | p@5: 0.00 | p@10: 0.00 | p@20: 0.00 | time/it: 2.30e-01     \n",
      "iter:   600 | dx: +7.1934e-03 | f1-score: 0.07 | relerr: 2.69e+03 | p@5: 0.00 | p@10: 0.00 | p@20: 0.00 | time/it: 2.34e-01     \n",
      "iter:   610 | dx: +1.9433e-02 | f1-score: 0.07 | relerr: 2.69e+03 | p@5: 0.00 | p@10: 0.00 | p@20: 0.00 | time/it: 2.27e-01     \n",
      "iter:   620 | dx: +1.1632e-02 | f1-score: 0.07 | relerr: 2.69e+03 | p@5: 0.00 | p@10: 0.00 | p@20: 0.00 | time/it: 2.29e-01     \n",
      "iter:   630 | dx: +8.7426e-03 | f1-score: 0.07 | relerr: 2.69e+03 | p@5: 0.00 | p@10: 0.00 | p@20: 0.00 | time/it: 2.36e-01     \n",
      "iter:   640 | dx: +1.0250e-02 | f1-score: 0.07 | relerr: 2.69e+03 | p@5: 0.00 | p@10: 0.00 | p@20: 0.00 | time/it: 3.26e-01     \n"
     ]
    },
    {
     "name": "stdout",
     "output_type": "stream",
     "text": [
      "iter:   650 | dx: +2.3966e-02 | f1-score: 0.07 | relerr: 2.69e+03 | p@5: 0.00 | p@10: 0.00 | p@20: 0.00 | time/it: 2.87e-01     \n",
      "iter:   660 | dx: +1.1663e-02 | f1-score: 0.07 | relerr: 2.69e+03 | p@5: 0.00 | p@10: 0.00 | p@20: 0.00 | time/it: 2.38e-01     \n",
      "iter:   670 | dx: +1.8510e-02 | f1-score: 0.07 | relerr: 2.69e+03 | p@5: 0.00 | p@10: 0.00 | p@20: 0.00 | time/it: 2.44e-01     \n",
      "iter:   680 | dx: +6.5741e-03 | f1-score: 0.07 | relerr: 2.69e+03 | p@5: 0.00 | p@10: 0.00 | p@20: 0.00 | time/it: 2.30e-01     \n",
      "iter:   690 | dx: +9.0941e-03 | f1-score: 0.07 | relerr: 2.69e+03 | p@5: 0.00 | p@10: 0.00 | p@20: 0.00 | time/it: 2.41e-01     \n",
      "iter:   700 | dx: +1.5945e-02 | f1-score: 0.07 | relerr: 2.69e+03 | p@5: 0.00 | p@10: 0.00 | p@20: 0.00 | time/it: 2.26e-01     \n",
      "iter:   710 | dx: +1.8751e-02 | f1-score: 0.07 | relerr: 2.69e+03 | p@5: 0.00 | p@10: 0.00 | p@20: 0.00 | time/it: 2.46e-01     \n",
      "iter:   720 | dx: +1.0181e-02 | f1-score: 0.07 | relerr: 2.69e+03 | p@5: 0.00 | p@10: 0.00 | p@20: 0.00 | time/it: 2.31e-01     \n",
      "iter:   730 | dx: +2.0167e-02 | f1-score: 0.07 | relerr: 2.69e+03 | p@5: 0.00 | p@10: 0.00 | p@20: 0.00 | time/it: 2.23e-01     \n",
      "iter:   740 | dx: +1.2160e-02 | f1-score: 0.07 | relerr: 2.69e+03 | p@5: 0.00 | p@10: 0.00 | p@20: 0.00 | time/it: 2.30e-01     \n",
      "iter:   750 | dx: +6.1215e-03 | f1-score: 0.07 | relerr: 2.69e+03 | p@5: 0.00 | p@10: 0.00 | p@20: 0.00 | time/it: 2.39e-01     \n",
      "iter:   760 | dx: +8.7882e-03 | f1-score: 0.07 | relerr: 2.69e+03 | p@5: 0.00 | p@10: 0.00 | p@20: 0.00 | time/it: 2.34e-01     \n",
      "iter:   770 | dx: +8.6870e-03 | f1-score: 0.07 | relerr: 2.69e+03 | p@5: 0.00 | p@10: 0.00 | p@20: 0.00 | time/it: 2.41e-01     \n",
      "iter:   780 | dx: +1.4394e-02 | f1-score: 0.07 | relerr: 2.69e+03 | p@5: 0.00 | p@10: 0.00 | p@20: 0.00 | time/it: 3.99e-01     \n",
      "iter:   790 | dx: +9.7070e-03 | f1-score: 0.07 | relerr: 2.69e+03 | p@5: 0.00 | p@10: 0.00 | p@20: 0.00 | time/it: 2.95e-01     \n",
      "iter:   800 | dx: +3.6066e-03 | f1-score: 0.07 | relerr: 2.69e+03 | p@5: 0.00 | p@10: 0.00 | p@20: 0.00 | time/it: 2.54e-01     \n",
      "iter:   810 | dx: +2.1759e-02 | f1-score: 0.07 | relerr: 2.69e+03 | p@5: 0.00 | p@10: 0.00 | p@20: 0.00 | time/it: 2.48e-01     \n",
      "iter:   820 | dx: +5.5084e-03 | f1-score: 0.07 | relerr: 2.69e+03 | p@5: 0.00 | p@10: 0.00 | p@20: 0.00 | time/it: 2.45e-01     \n",
      "iter:   830 | dx: +1.5276e-02 | f1-score: 0.07 | relerr: 2.69e+03 | p@5: 0.00 | p@10: 0.00 | p@20: 0.00 | time/it: 2.30e-01     \n",
      "iter:   840 | dx: +1.0057e-02 | f1-score: 0.07 | relerr: 2.69e+03 | p@5: 0.00 | p@10: 0.00 | p@20: 0.00 | time/it: 2.33e-01     \n",
      "iter:   850 | dx: +1.0593e-02 | f1-score: 0.07 | relerr: 2.69e+03 | p@5: 0.00 | p@10: 0.00 | p@20: 0.00 | time/it: 2.35e-01     \n",
      "iter:   860 | dx: +3.8821e-03 | f1-score: 0.07 | relerr: 2.69e+03 | p@5: 0.00 | p@10: 0.00 | p@20: 0.00 | time/it: 2.42e-01     \n",
      "iter:   870 | dx: +9.2537e-03 | f1-score: 0.07 | relerr: 2.69e+03 | p@5: 0.00 | p@10: 0.00 | p@20: 0.00 | time/it: 2.84e-01     \n",
      "iter:   880 | dx: +9.5611e-03 | f1-score: 0.07 | relerr: 2.69e+03 | p@5: 0.00 | p@10: 0.00 | p@20: 0.00 | time/it: 2.33e-01     \n",
      "iter:   890 | dx: +1.8514e-02 | f1-score: 0.07 | relerr: 2.69e+03 | p@5: 0.00 | p@10: 0.00 | p@20: 0.00 | time/it: 2.29e-01     \n",
      "iter:   900 | dx: +1.1088e-02 | f1-score: 0.07 | relerr: 2.69e+03 | p@5: 0.00 | p@10: 0.00 | p@20: 0.00 | time/it: 2.18e-01     \n",
      "iter:   910 | dx: +1.1730e-02 | f1-score: 0.07 | relerr: 2.69e+03 | p@5: 0.00 | p@10: 0.00 | p@20: 0.00 | time/it: 2.19e-01     \n",
      "iter:   920 | dx: +9.6976e-03 | f1-score: 0.07 | relerr: 2.69e+03 | p@5: 0.00 | p@10: 0.00 | p@20: 0.00 | time/it: 2.18e-01     \n",
      "iter:   930 | dx: +1.9523e-02 | f1-score: 0.07 | relerr: 2.69e+03 | p@5: 0.00 | p@10: 0.00 | p@20: 0.00 | time/it: 2.17e-01     \n",
      "iter:   940 | dx: +1.2105e-02 | f1-score: 0.07 | relerr: 2.69e+03 | p@5: 0.00 | p@10: 0.00 | p@20: 0.00 | time/it: 2.21e-01     \n",
      "iter:   950 | dx: +1.1845e-02 | f1-score: 0.07 | relerr: 2.69e+03 | p@5: 0.00 | p@10: 0.00 | p@20: 0.00 | time/it: 2.22e-01     \n",
      "iter:   960 | dx: +8.7502e-03 | f1-score: 0.07 | relerr: 2.69e+03 | p@5: 0.00 | p@10: 0.00 | p@20: 0.00 | time/it: 2.23e-01     \n",
      "iter:   970 | dx: +1.4333e-02 | f1-score: 0.07 | relerr: 2.69e+03 | p@5: 0.00 | p@10: 0.00 | p@20: 0.00 | time/it: 2.18e-01     \n",
      "iter:   980 | dx: +1.4866e-02 | f1-score: 0.07 | relerr: 2.69e+03 | p@5: 0.00 | p@10: 0.00 | p@20: 0.00 | time/it: 2.19e-01     \n",
      "iter:   990 | dx: +9.8000e-03 | f1-score: 0.07 | relerr: 2.69e+03 | p@5: 0.00 | p@10: 0.00 | p@20: 0.00 | time/it: 2.20e-01     \n",
      "iter:  1000 | dx: +1.0369e-02 | f1-score: 0.07 | relerr: 2.69e+03 | p@5: 0.00 | p@10: 0.00 | p@20: 0.00 | time/it: 2.19e-01     \n",
      "iter:  1010 | dx: +9.8223e-03 | f1-score: 0.07 | relerr: 2.69e+03 | p@5: 0.00 | p@10: 0.00 | p@20: 0.00 | time/it: 2.20e-01     \n",
      "iter:  1020 | dx: +9.8142e-03 | f1-score: 0.07 | relerr: 2.69e+03 | p@5: 0.00 | p@10: 0.00 | p@20: 0.00 | time/it: 2.19e-01     \n",
      "iter:  1030 | dx: +1.7487e-02 | f1-score: 0.07 | relerr: 2.69e+03 | p@5: 0.00 | p@10: 0.00 | p@20: 0.00 | time/it: 2.22e-01     \n",
      "iter:  1040 | dx: +6.3932e-03 | f1-score: 0.07 | relerr: 2.69e+03 | p@5: 0.00 | p@10: 0.00 | p@20: 0.00 | time/it: 2.19e-01     \n",
      "iter:  1050 | dx: +1.4596e-02 | f1-score: 0.07 | relerr: 2.69e+03 | p@5: 0.00 | p@10: 0.00 | p@20: 0.00 | time/it: 2.19e-01     \n",
      "iter:  1060 | dx: +3.5626e-03 | f1-score: 0.07 | relerr: 2.69e+03 | p@5: 0.00 | p@10: 0.00 | p@20: 0.00 | time/it: 2.18e-01     \n",
      "iter:  1070 | dx: +1.0115e-02 | f1-score: 0.07 | relerr: 2.69e+03 | p@5: 0.00 | p@10: 0.00 | p@20: 0.00 | time/it: 2.19e-01     \n",
      "iter:  1080 | dx: +1.9132e-02 | f1-score: 0.07 | relerr: 2.69e+03 | p@5: 0.00 | p@10: 0.00 | p@20: 0.00 | time/it: 2.18e-01     \n",
      "iter:  1090 | dx: +2.2323e-02 | f1-score: 0.07 | relerr: 2.69e+03 | p@5: 0.00 | p@10: 0.00 | p@20: 0.00 | time/it: 2.19e-01     \n",
      "iter:  1100 | dx: +1.9419e-02 | f1-score: 0.07 | relerr: 2.69e+03 | p@5: 0.00 | p@10: 0.00 | p@20: 0.00 | time/it: 2.19e-01     \n",
      "iter:  1110 | dx: +2.2009e-02 | f1-score: 0.07 | relerr: 2.69e+03 | p@5: 0.00 | p@10: 0.00 | p@20: 0.00 | time/it: 2.18e-01     \n",
      "iter:  1120 | dx: +6.3117e-03 | f1-score: 0.07 | relerr: 2.69e+03 | p@5: 0.00 | p@10: 0.00 | p@20: 0.00 | time/it: 2.19e-01     \n",
      "iter:  1130 | dx: +1.5525e-02 | f1-score: 0.07 | relerr: 2.69e+03 | p@5: 0.00 | p@10: 0.00 | p@20: 0.00 | time/it: 2.17e-01     \n",
      "iter:  1140 | dx: +1.5916e-02 | f1-score: 0.07 | relerr: 2.69e+03 | p@5: 0.00 | p@10: 0.00 | p@20: 0.00 | time/it: 2.17e-01     \n",
      "iter:  1150 | dx: +7.7932e-03 | f1-score: 0.07 | relerr: 2.69e+03 | p@5: 0.00 | p@10: 0.00 | p@20: 0.00 | time/it: 2.17e-01     \n",
      "iter:  1160 | dx: +6.4446e-03 | f1-score: 0.07 | relerr: 2.69e+03 | p@5: 0.00 | p@10: 0.00 | p@20: 0.00 | time/it: 2.17e-01     \n",
      "iter:  1170 | dx: +5.3012e-03 | f1-score: 0.07 | relerr: 2.69e+03 | p@5: 0.00 | p@10: 0.00 | p@20: 0.00 | time/it: 2.18e-01     \n",
      "iter:  1180 | dx: +2.7842e-02 | f1-score: 0.07 | relerr: 2.69e+03 | p@5: 0.00 | p@10: 0.00 | p@20: 0.00 | time/it: 2.16e-01     \n",
      "iter:  1190 | dx: +1.6187e-02 | f1-score: 0.07 | relerr: 2.69e+03 | p@5: 0.00 | p@10: 0.00 | p@20: 0.00 | time/it: 2.17e-01     \n",
      "iter:  1200 | dx: +1.1373e-02 | f1-score: 0.07 | relerr: 2.69e+03 | p@5: 0.00 | p@10: 0.00 | p@20: 0.00 | time/it: 2.16e-01     \n",
      "iter:  1210 | dx: +1.5534e-02 | f1-score: 0.07 | relerr: 2.69e+03 | p@5: 0.00 | p@10: 0.00 | p@20: 0.00 | time/it: 2.18e-01     \n",
      "iter:  1220 | dx: +1.2174e-02 | f1-score: 0.07 | relerr: 2.69e+03 | p@5: 0.00 | p@10: 0.00 | p@20: 0.00 | time/it: 2.17e-01     \n",
      "iter:  1230 | dx: +1.4212e-02 | f1-score: 0.07 | relerr: 2.69e+03 | p@5: 0.00 | p@10: 0.00 | p@20: 0.00 | time/it: 2.18e-01     \n",
      "iter:  1240 | dx: +1.2800e-02 | f1-score: 0.07 | relerr: 2.69e+03 | p@5: 0.00 | p@10: 0.00 | p@20: 0.00 | time/it: 2.17e-01     \n",
      "iter:  1250 | dx: +6.3863e-03 | f1-score: 0.07 | relerr: 2.69e+03 | p@5: 0.00 | p@10: 0.00 | p@20: 0.00 | time/it: 2.17e-01     \n",
      "iter:  1260 | dx: +1.1758e-02 | f1-score: 0.07 | relerr: 2.69e+03 | p@5: 0.00 | p@10: 0.00 | p@20: 0.00 | time/it: 2.20e-01     \n",
      "iter:  1270 | dx: +1.2695e-02 | f1-score: 0.07 | relerr: 2.69e+03 | p@5: 0.00 | p@10: 0.00 | p@20: 0.00 | time/it: 2.17e-01     \n",
      "iter:  1280 | dx: +1.3392e-02 | f1-score: 0.07 | relerr: 2.69e+03 | p@5: 0.00 | p@10: 0.00 | p@20: 0.00 | time/it: 2.17e-01     \n"
     ]
    },
    {
     "name": "stdout",
     "output_type": "stream",
     "text": [
      "iter:  1290 | dx: +1.3589e-02 | f1-score: 0.07 | relerr: 2.69e+03 | p@5: 0.00 | p@10: 0.00 | p@20: 0.00 | time/it: 2.17e-01     \n",
      "iter:  1300 | dx: +1.3458e-02 | f1-score: 0.07 | relerr: 2.69e+03 | p@5: 0.00 | p@10: 0.00 | p@20: 0.00 | time/it: 2.17e-01     \n",
      "iter:  1310 | dx: +1.7349e-02 | f1-score: 0.07 | relerr: 2.69e+03 | p@5: 0.00 | p@10: 0.00 | p@20: 0.00 | time/it: 2.17e-01     \n",
      "iter:  1320 | dx: +1.4770e-02 | f1-score: 0.07 | relerr: 2.69e+03 | p@5: 0.00 | p@10: 0.00 | p@20: 0.00 | time/it: 2.17e-01     \n",
      "iter:  1330 | dx: +2.0594e-02 | f1-score: 0.07 | relerr: 2.69e+03 | p@5: 0.00 | p@10: 0.00 | p@20: 0.00 | time/it: 2.17e-01     \n",
      "iter:  1340 | dx: +2.7056e-03 | f1-score: 0.07 | relerr: 2.69e+03 | p@5: 0.00 | p@10: 0.00 | p@20: 0.00 | time/it: 2.20e-01     \n",
      "iter:  1350 | dx: +5.1530e-03 | f1-score: 0.07 | relerr: 2.69e+03 | p@5: 0.00 | p@10: 0.00 | p@20: 0.00 | time/it: 2.30e-01     \n",
      "iter:  1360 | dx: +6.9705e-03 | f1-score: 0.07 | relerr: 2.69e+03 | p@5: 0.00 | p@10: 0.00 | p@20: 0.00 | time/it: 3.06e-01     \n",
      "iter:  1370 | dx: +1.3754e-02 | f1-score: 0.07 | relerr: 2.69e+03 | p@5: 0.00 | p@10: 0.00 | p@20: 0.00 | time/it: 3.77e-01     \n",
      "iter:  1380 | dx: +1.3560e-02 | f1-score: 0.07 | relerr: 2.69e+03 | p@5: 0.00 | p@10: 0.00 | p@20: 0.00 | time/it: 3.27e-01     \n",
      "iter:  1390 | dx: +2.0340e-03 | f1-score: 0.07 | relerr: 2.69e+03 | p@5: 0.00 | p@10: 0.00 | p@20: 0.00 | time/it: 2.48e-01     \n",
      "iter:  1400 | dx: +7.4188e-03 | f1-score: 0.07 | relerr: 2.69e+03 | p@5: 0.00 | p@10: 0.00 | p@20: 0.00 | time/it: 2.65e-01     \n",
      "iter:  1410 | dx: +9.3678e-03 | f1-score: 0.07 | relerr: 2.69e+03 | p@5: 0.00 | p@10: 0.00 | p@20: 0.00 | time/it: 2.61e-01     \n",
      "iter:  1420 | dx: +1.5069e-02 | f1-score: 0.07 | relerr: 2.69e+03 | p@5: 0.00 | p@10: 0.00 | p@20: 0.00 | time/it: 2.41e-01     \n",
      "iter:  1430 | dx: +1.3579e-02 | f1-score: 0.07 | relerr: 2.69e+03 | p@5: 0.00 | p@10: 0.00 | p@20: 0.00 | time/it: 2.55e-01     \n",
      "iter:  1440 | dx: +2.1106e-02 | f1-score: 0.07 | relerr: 2.69e+03 | p@5: 0.00 | p@10: 0.00 | p@20: 0.00 | time/it: 3.49e-01     \n",
      "iter:  1450 | dx: +1.6841e-02 | f1-score: 0.07 | relerr: 2.69e+03 | p@5: 0.00 | p@10: 0.00 | p@20: 0.00 | time/it: 2.34e-01     \n",
      "iter:  1460 | dx: +1.2799e-02 | f1-score: 0.07 | relerr: 2.69e+03 | p@5: 0.00 | p@10: 0.00 | p@20: 0.00 | time/it: 2.23e-01     \n",
      "iter:  1470 | dx: +1.0872e-02 | f1-score: 0.07 | relerr: 2.69e+03 | p@5: 0.00 | p@10: 0.00 | p@20: 0.00 | time/it: 2.30e-01     \n",
      "iter:  1480 | dx: +1.6035e-02 | f1-score: 0.07 | relerr: 2.69e+03 | p@5: 0.00 | p@10: 0.00 | p@20: 0.00 | time/it: 2.35e-01     \n",
      "iter:  1490 | dx: +2.0552e-02 | f1-score: 0.07 | relerr: 2.69e+03 | p@5: 0.00 | p@10: 0.00 | p@20: 0.00 | time/it: 2.20e-01     \n",
      "iter:  1500 | dx: +7.4180e-03 | f1-score: 0.07 | relerr: 2.69e+03 | p@5: 0.00 | p@10: 0.00 | p@20: 0.00 | time/it: 2.24e-01     \n",
      "iter:  1510 | dx: +1.0970e-02 | f1-score: 0.07 | relerr: 2.69e+03 | p@5: 0.00 | p@10: 0.00 | p@20: 0.00 | time/it: 2.97e-01     \n",
      "iter:  1520 | dx: +1.6594e-02 | f1-score: 0.07 | relerr: 2.69e+03 | p@5: 0.00 | p@10: 0.00 | p@20: 0.00 | time/it: 4.16e-01     \n",
      "iter:  1530 | dx: +3.4594e-03 | f1-score: 0.07 | relerr: 2.69e+03 | p@5: 0.00 | p@10: 0.00 | p@20: 0.00 | time/it: 3.43e-01     \n",
      "iter:  1540 | dx: +1.4380e-02 | f1-score: 0.07 | relerr: 2.69e+03 | p@5: 0.00 | p@10: 0.00 | p@20: 0.00 | time/it: 2.90e-01     \n",
      "iter:  1550 | dx: +5.5905e-03 | f1-score: 0.07 | relerr: 2.69e+03 | p@5: 0.00 | p@10: 0.00 | p@20: 0.00 | time/it: 3.22e-01     \n",
      "iter:  1560 | dx: +1.1780e-02 | f1-score: 0.07 | relerr: 2.69e+03 | p@5: 0.00 | p@10: 0.00 | p@20: 0.00 | time/it: 2.26e-01     \n",
      "iter:  1570 | dx: +1.0319e-02 | f1-score: 0.07 | relerr: 2.69e+03 | p@5: 0.00 | p@10: 0.00 | p@20: 0.00 | time/it: 2.21e-01     \n",
      "iter:  1580 | dx: +1.1780e-02 | f1-score: 0.07 | relerr: 2.69e+03 | p@5: 0.00 | p@10: 0.00 | p@20: 0.00 | time/it: 2.55e-01     \n",
      "iter:  1590 | dx: +1.4645e-02 | f1-score: 0.07 | relerr: 2.69e+03 | p@5: 0.00 | p@10: 0.00 | p@20: 0.00 | time/it: 2.29e-01     \n",
      "iter:  1600 | dx: +7.5184e-03 | f1-score: 0.07 | relerr: 2.69e+03 | p@5: 0.00 | p@10: 0.00 | p@20: 0.00 | time/it: 2.68e-01     \n",
      "iter:  1610 | dx: +8.9671e-03 | f1-score: 0.07 | relerr: 2.69e+03 | p@5: 0.00 | p@10: 0.00 | p@20: 0.00 | time/it: 2.39e-01     \n",
      "iter:  1620 | dx: +1.2528e-02 | f1-score: 0.07 | relerr: 2.69e+03 | p@5: 0.00 | p@10: 0.00 | p@20: 0.00 | time/it: 2.80e-01     \n",
      "iter:  1630 | dx: +9.8306e-03 | f1-score: 0.07 | relerr: 2.69e+03 | p@5: 0.00 | p@10: 0.00 | p@20: 0.00 | time/it: 3.14e-01     \n",
      "iter:  1640 | dx: +1.0294e-02 | f1-score: 0.07 | relerr: 2.69e+03 | p@5: 0.00 | p@10: 0.00 | p@20: 0.00 | time/it: 2.44e-01     \n",
      "iter:  1650 | dx: +9.0630e-03 | f1-score: 0.07 | relerr: 2.69e+03 | p@5: 0.00 | p@10: 0.00 | p@20: 0.00 | time/it: 2.33e-01     \n",
      "iter:  1660 | dx: +1.5846e-02 | f1-score: 0.07 | relerr: 2.69e+03 | p@5: 0.00 | p@10: 0.00 | p@20: 0.00 | time/it: 2.30e-01     \n",
      "iter:  1670 | dx: +1.0473e-02 | f1-score: 0.07 | relerr: 2.69e+03 | p@5: 0.00 | p@10: 0.00 | p@20: 0.00 | time/it: 2.36e-01     \n",
      "iter:  1680 | dx: +4.2150e-03 | f1-score: 0.07 | relerr: 2.69e+03 | p@5: 0.00 | p@10: 0.00 | p@20: 0.00 | time/it: 2.21e-01     \n",
      "iter:  1690 | dx: +1.7546e-02 | f1-score: 0.07 | relerr: 2.69e+03 | p@5: 0.00 | p@10: 0.00 | p@20: 0.00 | time/it: 2.18e-01     \n",
      "iter:  1700 | dx: +6.4522e-03 | f1-score: 0.07 | relerr: 2.69e+03 | p@5: 0.00 | p@10: 0.00 | p@20: 0.00 | time/it: 2.17e-01     \n",
      "iter:  1710 | dx: +1.0906e-02 | f1-score: 0.07 | relerr: 2.69e+03 | p@5: 0.00 | p@10: 0.00 | p@20: 0.00 | time/it: 2.19e-01     \n",
      "iter:  1720 | dx: +1.6814e-02 | f1-score: 0.07 | relerr: 2.69e+03 | p@5: 0.00 | p@10: 0.00 | p@20: 0.00 | time/it: 2.19e-01     \n",
      "iter:  1730 | dx: +1.3949e-02 | f1-score: 0.07 | relerr: 2.69e+03 | p@5: 0.00 | p@10: 0.00 | p@20: 0.00 | time/it: 2.32e-01     \n",
      "iter:  1740 | dx: +1.2658e-02 | f1-score: 0.07 | relerr: 2.69e+03 | p@5: 0.00 | p@10: 0.00 | p@20: 0.00 | time/it: 2.29e-01     \n",
      "iter:  1750 | dx: +2.1353e-02 | f1-score: 0.07 | relerr: 2.69e+03 | p@5: 0.00 | p@10: 0.00 | p@20: 0.00 | time/it: 2.44e-01     \n",
      "iter:  1760 | dx: +9.2202e-03 | f1-score: 0.07 | relerr: 2.69e+03 | p@5: 0.00 | p@10: 0.00 | p@20: 0.00 | time/it: 3.28e-01     \n",
      "iter:  1770 | dx: +9.2897e-03 | f1-score: 0.07 | relerr: 2.69e+03 | p@5: 0.00 | p@10: 0.00 | p@20: 0.00 | time/it: 2.45e-01     \n",
      "iter:  1780 | dx: +1.7048e-02 | f1-score: 0.07 | relerr: 2.69e+03 | p@5: 0.00 | p@10: 0.00 | p@20: 0.00 | time/it: 2.23e-01     \n",
      "iter:  1790 | dx: +1.0473e-02 | f1-score: 0.07 | relerr: 2.69e+03 | p@5: 0.00 | p@10: 0.00 | p@20: 0.00 | time/it: 2.24e-01     \n",
      "iter:  1800 | dx: +8.0089e-03 | f1-score: 0.07 | relerr: 2.69e+03 | p@5: 0.00 | p@10: 0.00 | p@20: 0.00 | time/it: 2.24e-01     \n",
      "iter:  1810 | dx: +1.0853e-02 | f1-score: 0.07 | relerr: 2.69e+03 | p@5: 0.00 | p@10: 0.00 | p@20: 0.00 | time/it: 2.30e-01     \n",
      "iter:  1820 | dx: +1.6185e-02 | f1-score: 0.07 | relerr: 2.69e+03 | p@5: 0.00 | p@10: 0.00 | p@20: 0.00 | time/it: 2.27e-01     \n",
      "iter:  1830 | dx: +1.4238e-02 | f1-score: 0.07 | relerr: 2.69e+03 | p@5: 0.00 | p@10: 0.00 | p@20: 0.00 | time/it: 2.31e-01     \n",
      "iter:  1840 | dx: +6.3860e-03 | f1-score: 0.07 | relerr: 2.69e+03 | p@5: 0.00 | p@10: 0.00 | p@20: 0.00 | time/it: 2.36e-01     \n",
      "iter:  1850 | dx: +1.4255e-02 | f1-score: 0.07 | relerr: 2.69e+03 | p@5: 0.00 | p@10: 0.00 | p@20: 0.00 | time/it: 2.31e-01     \n",
      "iter:  1860 | dx: +7.5159e-03 | f1-score: 0.07 | relerr: 2.69e+03 | p@5: 0.00 | p@10: 0.00 | p@20: 0.00 | time/it: 2.27e-01     \n",
      "iter:  1870 | dx: +9.5520e-03 | f1-score: 0.07 | relerr: 2.69e+03 | p@5: 0.00 | p@10: 0.00 | p@20: 0.00 | time/it: 2.28e-01     \n",
      "iter:  1880 | dx: +9.6169e-03 | f1-score: 0.07 | relerr: 2.69e+03 | p@5: 0.00 | p@10: 0.00 | p@20: 0.00 | time/it: 2.54e-01     \n",
      "iter:  1890 | dx: +1.4405e-02 | f1-score: 0.07 | relerr: 2.69e+03 | p@5: 0.00 | p@10: 0.00 | p@20: 0.00 | time/it: 2.34e-01     \n",
      "iter:  1900 | dx: +1.0436e-02 | f1-score: 0.07 | relerr: 2.69e+03 | p@5: 0.00 | p@10: 0.00 | p@20: 0.00 | time/it: 2.26e-01     \n",
      "iter:  1910 | dx: +2.2529e-02 | f1-score: 0.07 | relerr: 2.69e+03 | p@5: 0.00 | p@10: 0.00 | p@20: 0.00 | time/it: 2.30e-01     \n",
      "iter:  1920 | dx: +1.3590e-02 | f1-score: 0.07 | relerr: 2.69e+03 | p@5: 0.00 | p@10: 0.00 | p@20: 0.00 | time/it: 2.25e-01     \n"
     ]
    },
    {
     "name": "stdout",
     "output_type": "stream",
     "text": [
      "iter:  1930 | dx: +1.4773e-02 | f1-score: 0.07 | relerr: 2.69e+03 | p@5: 0.00 | p@10: 0.00 | p@20: 0.00 | time/it: 2.38e-01     \n",
      "iter:  1940 | dx: +1.3100e-02 | f1-score: 0.07 | relerr: 2.69e+03 | p@5: 0.00 | p@10: 0.00 | p@20: 0.00 | time/it: 2.45e-01     \n",
      "iter:  1950 | dx: +4.3888e-03 | f1-score: 0.07 | relerr: 2.69e+03 | p@5: 0.00 | p@10: 0.00 | p@20: 0.00 | time/it: 2.28e-01     \n",
      "iter:  1960 | dx: +1.5429e-02 | f1-score: 0.07 | relerr: 2.69e+03 | p@5: 0.00 | p@10: 0.00 | p@20: 0.00 | time/it: 2.44e-01     \n",
      "iter:  1970 | dx: +5.3285e-03 | f1-score: 0.07 | relerr: 2.69e+03 | p@5: 0.00 | p@10: 0.00 | p@20: 0.00 | time/it: 2.31e-01     \n",
      "iter:  1980 | dx: +1.2322e-02 | f1-score: 0.07 | relerr: 2.69e+03 | p@5: 0.00 | p@10: 0.00 | p@20: 0.00 | time/it: 2.37e-01     \n",
      "iter:  1990 | dx: +6.0655e-03 | f1-score: 0.07 | relerr: 2.69e+03 | p@5: 0.00 | p@10: 0.00 | p@20: 0.00 | time/it: 2.27e-01     \n",
      "iter:  2000 | dx: +6.8733e-03 | f1-score: 0.07 | relerr: 2.69e+03 | p@5: 0.00 | p@10: 0.00 | p@20: 0.00 | time/it: 2.24e-01     \n",
      "iter:  2010 | dx: +1.0831e-02 | f1-score: 0.07 | relerr: 2.69e+03 | p@5: 0.00 | p@10: 0.00 | p@20: 0.00 | time/it: 2.25e-01     \n",
      "iter:  2020 | dx: +1.0561e-02 | f1-score: 0.07 | relerr: 2.69e+03 | p@5: 0.00 | p@10: 0.00 | p@20: 0.00 | time/it: 2.26e-01     \n",
      "iter:  2030 | dx: +1.3612e-02 | f1-score: 0.07 | relerr: 2.69e+03 | p@5: 0.00 | p@10: 0.00 | p@20: 0.00 | time/it: 2.31e-01     \n",
      "iter:  2040 | dx: +2.1368e-02 | f1-score: 0.07 | relerr: 2.69e+03 | p@5: 0.00 | p@10: 0.00 | p@20: 0.00 | time/it: 2.24e-01     \n",
      "iter:  2050 | dx: +1.8559e-02 | f1-score: 0.07 | relerr: 2.69e+03 | p@5: 0.00 | p@10: 0.00 | p@20: 0.00 | time/it: 2.31e-01     \n",
      "iter:  2060 | dx: +1.1735e-02 | f1-score: 0.07 | relerr: 2.69e+03 | p@5: 0.00 | p@10: 0.00 | p@20: 0.00 | time/it: 2.46e-01     \n",
      "iter:  2070 | dx: +1.8115e-02 | f1-score: 0.07 | relerr: 2.69e+03 | p@5: 0.00 | p@10: 0.00 | p@20: 0.00 | time/it: 2.34e-01     \n",
      "iter:  2080 | dx: +1.0641e-02 | f1-score: 0.07 | relerr: 2.69e+03 | p@5: 0.00 | p@10: 0.00 | p@20: 0.00 | time/it: 2.29e-01     \n",
      "iter:  2090 | dx: +1.3558e-02 | f1-score: 0.07 | relerr: 2.69e+03 | p@5: 0.00 | p@10: 0.00 | p@20: 0.00 | time/it: 2.30e-01     \n",
      "iter:  2100 | dx: +1.6721e-02 | f1-score: 0.07 | relerr: 2.69e+03 | p@5: 0.00 | p@10: 0.00 | p@20: 0.00 | time/it: 2.39e-01     \n",
      "iter:  2110 | dx: +1.2892e-02 | f1-score: 0.07 | relerr: 2.69e+03 | p@5: 0.00 | p@10: 0.00 | p@20: 0.00 | time/it: 2.43e-01     \n",
      "iter:  2120 | dx: +7.9572e-03 | f1-score: 0.07 | relerr: 2.69e+03 | p@5: 0.00 | p@10: 0.00 | p@20: 0.00 | time/it: 2.40e-01     \n",
      "iter:  2130 | dx: +6.9077e-03 | f1-score: 0.07 | relerr: 2.69e+03 | p@5: 0.00 | p@10: 0.00 | p@20: 0.00 | time/it: 2.40e-01     \n",
      "iter:  2140 | dx: +1.3054e-02 | f1-score: 0.07 | relerr: 2.69e+03 | p@5: 0.00 | p@10: 0.00 | p@20: 0.00 | time/it: 2.31e-01     \n",
      "iter:  2150 | dx: +1.7357e-02 | f1-score: 0.07 | relerr: 2.69e+03 | p@5: 0.00 | p@10: 0.00 | p@20: 0.00 | time/it: 2.25e-01     \n",
      "iter:  2160 | dx: +1.9746e-02 | f1-score: 0.07 | relerr: 2.69e+03 | p@5: 0.00 | p@10: 0.00 | p@20: 0.00 | time/it: 2.30e-01     \n",
      "iter:  2170 | dx: +1.5753e-02 | f1-score: 0.07 | relerr: 2.69e+03 | p@5: 0.00 | p@10: 0.00 | p@20: 0.00 | time/it: 2.32e-01     \n",
      "iter:  2180 | dx: +1.2923e-02 | f1-score: 0.07 | relerr: 2.69e+03 | p@5: 0.00 | p@10: 0.00 | p@20: 0.00 | time/it: 2.36e-01     \n",
      "iter:  2190 | dx: +1.4402e-02 | f1-score: 0.07 | relerr: 2.69e+03 | p@5: 0.00 | p@10: 0.00 | p@20: 0.00 | time/it: 2.39e-01     \n",
      "iter:  2200 | dx: +1.1246e-02 | f1-score: 0.07 | relerr: 2.69e+03 | p@5: 0.00 | p@10: 0.00 | p@20: 0.00 | time/it: 2.34e-01     \n",
      "iter:  2210 | dx: +8.4184e-03 | f1-score: 0.07 | relerr: 2.69e+03 | p@5: 0.00 | p@10: 0.00 | p@20: 0.00 | time/it: 2.36e-01     \n",
      "iter:  2220 | dx: +2.3428e-02 | f1-score: 0.07 | relerr: 2.69e+03 | p@5: 0.00 | p@10: 0.00 | p@20: 0.00 | time/it: 2.32e-01     \n",
      "iter:  2230 | dx: +8.2439e-03 | f1-score: 0.07 | relerr: 2.69e+03 | p@5: 0.00 | p@10: 0.00 | p@20: 0.00 | time/it: 2.28e-01     \n",
      "iter:  2240 | dx: +3.3030e-03 | f1-score: 0.07 | relerr: 2.69e+03 | p@5: 0.00 | p@10: 0.00 | p@20: 0.00 | time/it: 2.25e-01     \n",
      "iter:  2250 | dx: +1.0716e-02 | f1-score: 0.07 | relerr: 2.69e+03 | p@5: 0.00 | p@10: 0.00 | p@20: 0.00 | time/it: 2.30e-01     \n",
      "iter:  2260 | dx: +2.4243e-02 | f1-score: 0.07 | relerr: 2.69e+03 | p@5: 0.00 | p@10: 0.00 | p@20: 0.00 | time/it: 2.29e-01     \n",
      "iter:  2270 | dx: +7.9960e-03 | f1-score: 0.07 | relerr: 2.69e+03 | p@5: 0.00 | p@10: 0.00 | p@20: 0.00 | time/it: 2.36e-01     \n",
      "iter:  2280 | dx: +1.3243e-02 | f1-score: 0.07 | relerr: 2.69e+03 | p@5: 0.00 | p@10: 0.00 | p@20: 0.00 | time/it: 2.29e-01     \n",
      "iter:  2290 | dx: +1.2453e-02 | f1-score: 0.07 | relerr: 2.69e+03 | p@5: 0.00 | p@10: 0.00 | p@20: 0.00 | time/it: 2.34e-01     \n",
      "iter:  2300 | dx: +9.5649e-03 | f1-score: 0.07 | relerr: 2.69e+03 | p@5: 0.00 | p@10: 0.00 | p@20: 0.00 | time/it: 2.44e-01     \n",
      "iter:  2310 | dx: +2.0197e-02 | f1-score: 0.07 | relerr: 2.69e+03 | p@5: 0.00 | p@10: 0.00 | p@20: 0.00 | time/it: 2.47e-01     \n",
      "iter:  2320 | dx: +1.4192e-02 | f1-score: 0.07 | relerr: 2.69e+03 | p@5: 0.00 | p@10: 0.00 | p@20: 0.00 | time/it: 2.52e-01     \n",
      "iter:  2330 | dx: +1.4540e-02 | f1-score: 0.07 | relerr: 2.69e+03 | p@5: 0.00 | p@10: 0.00 | p@20: 0.00 | time/it: 2.32e-01     \n",
      "iter:  2340 | dx: +1.2808e-02 | f1-score: 0.07 | relerr: 2.69e+03 | p@5: 0.00 | p@10: 0.00 | p@20: 0.00 | time/it: 2.38e-01     \n",
      "iter:  2350 | dx: +1.9764e-02 | f1-score: 0.07 | relerr: 2.69e+03 | p@5: 0.00 | p@10: 0.00 | p@20: 0.00 | time/it: 2.63e-01     \n",
      "iter:  2360 | dx: +1.0787e-02 | f1-score: 0.07 | relerr: 2.69e+03 | p@5: 0.00 | p@10: 0.00 | p@20: 0.00 | time/it: 3.04e-01     \n",
      "iter:  2370 | dx: +9.0167e-03 | f1-score: 0.07 | relerr: 2.69e+03 | p@5: 0.00 | p@10: 0.00 | p@20: 0.00 | time/it: 2.96e-01     \n",
      "iter:  2380 | dx: +5.2192e-03 | f1-score: 0.07 | relerr: 2.69e+03 | p@5: 0.00 | p@10: 0.00 | p@20: 0.00 | time/it: 2.32e-01     \n",
      "iter:  2390 | dx: +1.7828e-02 | f1-score: 0.07 | relerr: 2.69e+03 | p@5: 0.00 | p@10: 0.00 | p@20: 0.00 | time/it: 2.21e-01     \n",
      "iter:  2400 | dx: +1.1416e-02 | f1-score: 0.07 | relerr: 2.69e+03 | p@5: 0.00 | p@10: 0.00 | p@20: 0.00 | time/it: 2.18e-01     \n",
      "iter:  2410 | dx: +1.3603e-02 | f1-score: 0.07 | relerr: 2.69e+03 | p@5: 0.00 | p@10: 0.00 | p@20: 0.00 | time/it: 2.20e-01     \n",
      "iter:  2420 | dx: +9.4255e-03 | f1-score: 0.07 | relerr: 2.69e+03 | p@5: 0.00 | p@10: 0.00 | p@20: 0.00 | time/it: 2.76e-01     \n",
      "iter:  2430 | dx: +1.3180e-02 | f1-score: 0.07 | relerr: 2.69e+03 | p@5: 0.00 | p@10: 0.00 | p@20: 0.00 | time/it: 2.96e-01     \n",
      "iter:  2440 | dx: +1.1466e-02 | f1-score: 0.07 | relerr: 2.69e+03 | p@5: 0.00 | p@10: 0.00 | p@20: 0.00 | time/it: 2.71e-01     \n",
      "iter:  2450 | dx: +1.1777e-02 | f1-score: 0.07 | relerr: 2.69e+03 | p@5: 0.00 | p@10: 0.00 | p@20: 0.00 | time/it: 2.30e-01     \n",
      "iter:  2460 | dx: +1.7659e-02 | f1-score: 0.07 | relerr: 2.69e+03 | p@5: 0.00 | p@10: 0.00 | p@20: 0.00 | time/it: 2.25e-01     \n",
      "iter:  2470 | dx: +1.2531e-02 | f1-score: 0.07 | relerr: 2.69e+03 | p@5: 0.00 | p@10: 0.00 | p@20: 0.00 | time/it: 2.29e-01     \n",
      "iter:  2480 | dx: +3.5168e-03 | f1-score: 0.07 | relerr: 2.69e+03 | p@5: 0.00 | p@10: 0.00 | p@20: 0.00 | time/it: 2.28e-01     \n",
      "iter:  2490 | dx: +1.0454e-02 | f1-score: 0.07 | relerr: 2.69e+03 | p@5: 0.00 | p@10: 0.00 | p@20: 0.00 | time/it: 2.28e-01     \n",
      "iter:  2500 | dx: +9.9732e-03 | f1-score: 0.07 | relerr: 2.69e+03 | p@5: 0.00 | p@10: 0.00 | p@20: 0.00 | time/it: 2.33e-01     \n",
      "iter:  2510 | dx: +2.0554e-02 | f1-score: 0.07 | relerr: 2.69e+03 | p@5: 0.00 | p@10: 0.00 | p@20: 0.00 | time/it: 4.78e-01     \n",
      "iter:  2520 | dx: +1.7602e-02 | f1-score: 0.07 | relerr: 2.69e+03 | p@5: 0.00 | p@10: 0.00 | p@20: 0.00 | time/it: 4.36e-01     \n",
      "iter:  2530 | dx: +1.7726e-02 | f1-score: 0.07 | relerr: 2.69e+03 | p@5: 0.00 | p@10: 0.00 | p@20: 0.00 | time/it: 2.40e-01     \n",
      "iter:  2540 | dx: +1.2529e-02 | f1-score: 0.07 | relerr: 2.69e+03 | p@5: 0.00 | p@10: 0.00 | p@20: 0.00 | time/it: 3.42e-01     \n",
      "iter:  2550 | dx: +2.5793e-02 | f1-score: 0.07 | relerr: 2.69e+03 | p@5: 0.00 | p@10: 0.00 | p@20: 0.00 | time/it: 2.63e-01     \n",
      "iter:  2560 | dx: +1.4926e-02 | f1-score: 0.07 | relerr: 2.69e+03 | p@5: 0.00 | p@10: 0.00 | p@20: 0.00 | time/it: 2.22e-01     \n"
     ]
    },
    {
     "name": "stdout",
     "output_type": "stream",
     "text": [
      "iter:  2570 | dx: +1.4542e-02 | f1-score: 0.07 | relerr: 2.69e+03 | p@5: 0.00 | p@10: 0.00 | p@20: 0.00 | time/it: 2.25e-01     \n",
      "iter:  2580 | dx: +1.3479e-02 | f1-score: 0.07 | relerr: 2.69e+03 | p@5: 0.00 | p@10: 0.00 | p@20: 0.00 | time/it: 2.40e-01     \n",
      "iter:  2590 | dx: +1.3554e-02 | f1-score: 0.07 | relerr: 2.69e+03 | p@5: 0.00 | p@10: 0.00 | p@20: 0.00 | time/it: 2.33e-01     \n",
      "iter:  2600 | dx: +9.8807e-03 | f1-score: 0.07 | relerr: 2.69e+03 | p@5: 0.00 | p@10: 0.00 | p@20: 0.00 | time/it: 2.21e-01     \n",
      "iter:  2610 | dx: +1.1016e-02 | f1-score: 0.07 | relerr: 2.69e+03 | p@5: 0.00 | p@10: 0.00 | p@20: 0.00 | time/it: 2.27e-01     \n",
      "iter:  2620 | dx: +1.3785e-02 | f1-score: 0.07 | relerr: 2.69e+03 | p@5: 0.00 | p@10: 0.00 | p@20: 0.00 | time/it: 2.22e-01     \n",
      "iter:  2630 | dx: +1.3287e-02 | f1-score: 0.07 | relerr: 2.69e+03 | p@5: 0.00 | p@10: 0.00 | p@20: 0.00 | time/it: 2.21e-01     \n",
      "iter:  2640 | dx: +9.8116e-03 | f1-score: 0.07 | relerr: 2.69e+03 | p@5: 0.00 | p@10: 0.00 | p@20: 0.00 | time/it: 2.28e-01     \n",
      "iter:  2650 | dx: +4.1004e-03 | f1-score: 0.07 | relerr: 2.69e+03 | p@5: 0.00 | p@10: 0.00 | p@20: 0.00 | time/it: 2.32e-01     \n",
      "iter:  2660 | dx: +9.1869e-03 | f1-score: 0.07 | relerr: 2.69e+03 | p@5: 0.00 | p@10: 0.00 | p@20: 0.00 | time/it: 2.31e-01     \n",
      "iter:  2670 | dx: +1.4979e-02 | f1-score: 0.07 | relerr: 2.69e+03 | p@5: 0.00 | p@10: 0.00 | p@20: 0.00 | time/it: 2.25e-01     \n",
      "iter:  2680 | dx: +1.1127e-02 | f1-score: 0.07 | relerr: 2.69e+03 | p@5: 0.00 | p@10: 0.00 | p@20: 0.00 | time/it: 2.33e-01     \n",
      "iter:  2690 | dx: +1.9293e-02 | f1-score: 0.07 | relerr: 2.69e+03 | p@5: 0.00 | p@10: 0.00 | p@20: 0.00 | time/it: 2.28e-01     \n",
      "iter:  2700 | dx: +9.9541e-03 | f1-score: 0.07 | relerr: 2.69e+03 | p@5: 0.00 | p@10: 0.00 | p@20: 0.00 | time/it: 2.33e-01     \n",
      "iter:  2710 | dx: +9.5096e-03 | f1-score: 0.07 | relerr: 2.69e+03 | p@5: 0.00 | p@10: 0.00 | p@20: 0.00 | time/it: 2.33e-01     \n",
      "iter:  2720 | dx: +7.9221e-03 | f1-score: 0.07 | relerr: 2.69e+03 | p@5: 0.00 | p@10: 0.00 | p@20: 0.00 | time/it: 2.38e-01     \n",
      "iter:  2730 | dx: +1.5934e-02 | f1-score: 0.07 | relerr: 2.69e+03 | p@5: 0.00 | p@10: 0.00 | p@20: 0.00 | time/it: 2.28e-01     \n",
      "iter:  2740 | dx: +1.4261e-02 | f1-score: 0.07 | relerr: 2.69e+03 | p@5: 0.00 | p@10: 0.00 | p@20: 0.00 | time/it: 2.30e-01     \n",
      "iter:  2750 | dx: +2.5647e-02 | f1-score: 0.07 | relerr: 2.69e+03 | p@5: 0.00 | p@10: 0.00 | p@20: 0.00 | time/it: 2.47e-01     \n",
      "iter:  2760 | dx: +5.9822e-03 | f1-score: 0.07 | relerr: 2.69e+03 | p@5: 0.00 | p@10: 0.00 | p@20: 0.00 | time/it: 2.41e-01     \n",
      "iter:  2770 | dx: +4.7536e-03 | f1-score: 0.07 | relerr: 2.69e+03 | p@5: 0.00 | p@10: 0.00 | p@20: 0.00 | time/it: 2.37e-01     \n",
      "iter:  2780 | dx: +9.2061e-03 | f1-score: 0.07 | relerr: 2.69e+03 | p@5: 0.00 | p@10: 0.00 | p@20: 0.00 | time/it: 2.29e-01     \n",
      "iter:  2790 | dx: +1.6682e-02 | f1-score: 0.07 | relerr: 2.69e+03 | p@5: 0.00 | p@10: 0.00 | p@20: 0.00 | time/it: 2.26e-01     \n",
      "iter:  2800 | dx: +1.2292e-02 | f1-score: 0.07 | relerr: 2.69e+03 | p@5: 0.00 | p@10: 0.00 | p@20: 0.00 | time/it: 2.30e-01     \n",
      "iter:  2810 | dx: +4.8460e-03 | f1-score: 0.07 | relerr: 2.69e+03 | p@5: 0.00 | p@10: 0.00 | p@20: 0.00 | time/it: 2.24e-01     \n",
      "iter:  2820 | dx: +8.0682e-03 | f1-score: 0.07 | relerr: 2.69e+03 | p@5: 0.00 | p@10: 0.00 | p@20: 0.00 | time/it: 2.35e-01     \n",
      "iter:  2830 | dx: +1.9652e-02 | f1-score: 0.07 | relerr: 2.69e+03 | p@5: 0.00 | p@10: 0.00 | p@20: 0.00 | time/it: 2.28e-01     \n",
      "iter:  2840 | dx: +7.7260e-03 | f1-score: 0.07 | relerr: 2.69e+03 | p@5: 0.00 | p@10: 0.00 | p@20: 0.00 | time/it: 2.27e-01     \n",
      "iter:  2850 | dx: +1.8230e-02 | f1-score: 0.07 | relerr: 2.69e+03 | p@5: 0.00 | p@10: 0.00 | p@20: 0.00 | time/it: 2.30e-01     \n",
      "iter:  2860 | dx: +1.7460e-02 | f1-score: 0.07 | relerr: 2.69e+03 | p@5: 0.00 | p@10: 0.00 | p@20: 0.00 | time/it: 2.25e-01     \n",
      "iter:  2870 | dx: +2.0179e-02 | f1-score: 0.07 | relerr: 2.69e+03 | p@5: 0.00 | p@10: 0.00 | p@20: 0.00 | time/it: 2.41e-01     \n",
      "iter:  2880 | dx: +5.6724e-03 | f1-score: 0.07 | relerr: 2.69e+03 | p@5: 0.00 | p@10: 0.00 | p@20: 0.00 | time/it: 2.27e-01     \n",
      "iter:  2890 | dx: +1.4629e-02 | f1-score: 0.07 | relerr: 2.69e+03 | p@5: 0.00 | p@10: 0.00 | p@20: 0.00 | time/it: 2.31e-01     \n",
      "iter:  2900 | dx: +1.6720e-02 | f1-score: 0.07 | relerr: 2.69e+03 | p@5: 0.00 | p@10: 0.00 | p@20: 0.00 | time/it: 2.38e-01     \n",
      "iter:  2910 | dx: +2.2176e-02 | f1-score: 0.07 | relerr: 2.69e+03 | p@5: 0.00 | p@10: 0.00 | p@20: 0.00 | time/it: 2.28e-01     \n",
      "iter:  2920 | dx: +1.1648e-02 | f1-score: 0.07 | relerr: 2.69e+03 | p@5: 0.00 | p@10: 0.00 | p@20: 0.00 | time/it: 2.52e-01     \n",
      "iter:  2930 | dx: +1.0299e-02 | f1-score: 0.07 | relerr: 2.69e+03 | p@5: 0.00 | p@10: 0.00 | p@20: 0.00 | time/it: 2.41e-01     \n",
      "iter:  2940 | dx: +1.1005e-02 | f1-score: 0.07 | relerr: 2.69e+03 | p@5: 0.00 | p@10: 0.00 | p@20: 0.00 | time/it: 2.24e-01     \n",
      "iter:  2950 | dx: +1.8385e-02 | f1-score: 0.07 | relerr: 2.69e+03 | p@5: 0.00 | p@10: 0.00 | p@20: 0.00 | time/it: 2.36e-01     \n",
      "iter:  2960 | dx: +6.2539e-03 | f1-score: 0.07 | relerr: 2.69e+03 | p@5: 0.00 | p@10: 0.00 | p@20: 0.00 | time/it: 2.41e-01     \n",
      "iter:  2970 | dx: +1.4605e-02 | f1-score: 0.07 | relerr: 2.69e+03 | p@5: 0.00 | p@10: 0.00 | p@20: 0.00 | time/it: 2.24e-01     \n",
      "iter:  2980 | dx: +1.3539e-02 | f1-score: 0.07 | relerr: 2.69e+03 | p@5: 0.00 | p@10: 0.00 | p@20: 0.00 | time/it: 2.33e-01     \n",
      "iter:  2990 | dx: +1.4397e-02 | f1-score: 0.07 | relerr: 2.69e+03 | p@5: 0.00 | p@10: 0.00 | p@20: 0.00 | time/it: 2.46e-01     \n",
      "iter:  3000 | dx: +1.0237e-02 | f1-score: 0.07 | relerr: 2.69e+03 | p@5: 0.00 | p@10: 0.00 | p@20: 0.00 | time/it: 3.90e-01     \n",
      "iter:  3010 | dx: +1.6625e-02 | f1-score: 0.07 | relerr: 2.69e+03 | p@5: 0.00 | p@10: 0.00 | p@20: 0.00 | time/it: 2.52e-01     \n",
      "iter:  3020 | dx: +1.7447e-02 | f1-score: 0.07 | relerr: 2.69e+03 | p@5: 0.00 | p@10: 0.00 | p@20: 0.00 | time/it: 2.30e-01     \n",
      "iter:  3030 | dx: +1.2541e-02 | f1-score: 0.07 | relerr: 2.69e+03 | p@5: 0.00 | p@10: 0.00 | p@20: 0.00 | time/it: 2.27e-01     \n",
      "iter:  3040 | dx: +7.8864e-03 | f1-score: 0.07 | relerr: 2.69e+03 | p@5: 0.00 | p@10: 0.00 | p@20: 0.00 | time/it: 2.30e-01     \n",
      "iter:  3050 | dx: +1.8705e-02 | f1-score: 0.07 | relerr: 2.69e+03 | p@5: 0.00 | p@10: 0.00 | p@20: 0.00 | time/it: 2.37e-01     \n",
      "iter:  3060 | dx: +1.0868e-02 | f1-score: 0.07 | relerr: 2.69e+03 | p@5: 0.00 | p@10: 0.00 | p@20: 0.00 | time/it: 2.34e-01     \n",
      "iter:  3070 | dx: +1.7877e-02 | f1-score: 0.07 | relerr: 2.69e+03 | p@5: 0.00 | p@10: 0.00 | p@20: 0.00 | time/it: 2.34e-01     \n",
      "iter:  3080 | dx: +8.3697e-03 | f1-score: 0.07 | relerr: 2.69e+03 | p@5: 0.00 | p@10: 0.00 | p@20: 0.00 | time/it: 2.23e-01     \n",
      "iter:  3090 | dx: +5.8756e-03 | f1-score: 0.07 | relerr: 2.69e+03 | p@5: 0.00 | p@10: 0.00 | p@20: 0.00 | time/it: 2.34e-01     \n",
      "iter:  3100 | dx: +1.6464e-02 | f1-score: 0.07 | relerr: 2.69e+03 | p@5: 0.00 | p@10: 0.00 | p@20: 0.00 | time/it: 2.60e-01     \n",
      "iter:  3110 | dx: +1.0582e-02 | f1-score: 0.07 | relerr: 2.69e+03 | p@5: 0.00 | p@10: 0.00 | p@20: 0.00 | time/it: 2.42e-01     \n",
      "iter:  3120 | dx: +1.1640e-02 | f1-score: 0.07 | relerr: 2.69e+03 | p@5: 0.00 | p@10: 0.00 | p@20: 0.00 | time/it: 2.32e-01     \n",
      "iter:  3130 | dx: +1.5325e-02 | f1-score: 0.07 | relerr: 2.69e+03 | p@5: 0.00 | p@10: 0.00 | p@20: 0.00 | time/it: 2.33e-01     \n",
      "iter:  3140 | dx: +2.9276e-02 | f1-score: 0.07 | relerr: 2.69e+03 | p@5: 0.00 | p@10: 0.00 | p@20: 0.00 | time/it: 2.19e-01     \n",
      "iter:  3150 | dx: +1.9610e-02 | f1-score: 0.07 | relerr: 2.69e+03 | p@5: 0.00 | p@10: 0.00 | p@20: 0.00 | time/it: 2.23e-01     \n",
      "iter:  3160 | dx: +8.5456e-03 | f1-score: 0.07 | relerr: 2.69e+03 | p@5: 0.00 | p@10: 0.00 | p@20: 0.00 | time/it: 2.23e-01     \n",
      "iter:  3170 | dx: +1.1273e-02 | f1-score: 0.07 | relerr: 2.69e+03 | p@5: 0.00 | p@10: 0.00 | p@20: 0.00 | time/it: 2.23e-01     \n",
      "iter:  3180 | dx: +2.3601e-02 | f1-score: 0.07 | relerr: 2.69e+03 | p@5: 0.00 | p@10: 0.00 | p@20: 0.00 | time/it: 2.31e-01     \n",
      "iter:  3190 | dx: +2.1152e-02 | f1-score: 0.07 | relerr: 2.69e+03 | p@5: 0.00 | p@10: 0.00 | p@20: 0.00 | time/it: 2.65e-01     \n",
      "iter:  3200 | dx: +1.2801e-02 | f1-score: 0.07 | relerr: 2.69e+03 | p@5: 0.00 | p@10: 0.00 | p@20: 0.00 | time/it: 2.26e-01     \n"
     ]
    },
    {
     "name": "stdout",
     "output_type": "stream",
     "text": [
      "iter:  3210 | dx: +2.0472e-02 | f1-score: 0.07 | relerr: 2.69e+03 | p@5: 0.00 | p@10: 0.00 | p@20: 0.00 | time/it: 2.27e-01     \n",
      "iter:  3220 | dx: +1.5401e-02 | f1-score: 0.07 | relerr: 2.69e+03 | p@5: 0.00 | p@10: 0.00 | p@20: 0.00 | time/it: 2.40e-01     \n",
      "iter:  3230 | dx: +1.1203e-02 | f1-score: 0.07 | relerr: 2.69e+03 | p@5: 0.00 | p@10: 0.00 | p@20: 0.00 | time/it: 2.42e-01     \n",
      "iter:  3240 | dx: +1.0755e-02 | f1-score: 0.07 | relerr: 2.69e+03 | p@5: 0.00 | p@10: 0.00 | p@20: 0.00 | time/it: 2.47e-01     \n",
      "iter:  3250 | dx: +1.0921e-02 | f1-score: 0.07 | relerr: 2.69e+03 | p@5: 0.00 | p@10: 0.00 | p@20: 0.00 | time/it: 2.37e-01     \n",
      "iter:  3260 | dx: +1.4350e-02 | f1-score: 0.07 | relerr: 2.69e+03 | p@5: 0.00 | p@10: 0.00 | p@20: 0.00 | time/it: 2.28e-01     \n",
      "iter:  3270 | dx: +9.2738e-03 | f1-score: 0.07 | relerr: 2.69e+03 | p@5: 0.00 | p@10: 0.00 | p@20: 0.00 | time/it: 2.22e-01     \n",
      "iter:  3280 | dx: +1.4882e-02 | f1-score: 0.07 | relerr: 2.69e+03 | p@5: 0.00 | p@10: 0.00 | p@20: 0.00 | time/it: 2.19e-01     \n",
      "iter:  3290 | dx: +1.7593e-02 | f1-score: 0.07 | relerr: 2.69e+03 | p@5: 0.00 | p@10: 0.00 | p@20: 0.00 | time/it: 2.25e-01     \n",
      "iter:  3300 | dx: +1.2119e-02 | f1-score: 0.07 | relerr: 2.69e+03 | p@5: 0.00 | p@10: 0.00 | p@20: 0.00 | time/it: 2.24e-01     \n",
      "iter:  3310 | dx: +1.3061e-02 | f1-score: 0.07 | relerr: 2.69e+03 | p@5: 0.00 | p@10: 0.00 | p@20: 0.00 | time/it: 2.37e-01     \n",
      "iter:  3320 | dx: +1.7090e-02 | f1-score: 0.07 | relerr: 2.69e+03 | p@5: 0.00 | p@10: 0.00 | p@20: 0.00 | time/it: 2.72e-01     \n",
      "iter:  3330 | dx: +2.3285e-02 | f1-score: 0.07 | relerr: 2.69e+03 | p@5: 0.00 | p@10: 0.00 | p@20: 0.00 | time/it: 2.30e-01     \n",
      "iter:  3340 | dx: +1.6301e-02 | f1-score: 0.07 | relerr: 2.69e+03 | p@5: 0.00 | p@10: 0.00 | p@20: 0.00 | time/it: 2.11e-01     \n",
      "iter:  3350 | dx: +1.9850e-02 | f1-score: 0.07 | relerr: 2.69e+03 | p@5: 0.00 | p@10: 0.00 | p@20: 0.00 | time/it: 2.12e-01     \n",
      "iter:  3360 | dx: +2.0228e-02 | f1-score: 0.07 | relerr: 2.69e+03 | p@5: 0.00 | p@10: 0.00 | p@20: 0.00 | time/it: 2.12e-01     \n",
      "iter:  3370 | dx: +1.4826e-02 | f1-score: 0.07 | relerr: 2.69e+03 | p@5: 0.00 | p@10: 0.00 | p@20: 0.00 | time/it: 2.14e-01     \n",
      "iter:  3380 | dx: +9.8584e-03 | f1-score: 0.07 | relerr: 2.69e+03 | p@5: 0.00 | p@10: 0.00 | p@20: 0.00 | time/it: 2.26e-01     \n",
      "iter:  3390 | dx: +1.3876e-02 | f1-score: 0.07 | relerr: 2.69e+03 | p@5: 0.00 | p@10: 0.00 | p@20: 0.00 | time/it: 2.28e-01     \n",
      "iter:  3400 | dx: +6.5073e-03 | f1-score: 0.07 | relerr: 2.69e+03 | p@5: 0.00 | p@10: 0.00 | p@20: 0.00 | time/it: 2.23e-01     \n",
      "iter:  3410 | dx: +8.7109e-03 | f1-score: 0.07 | relerr: 2.69e+03 | p@5: 0.00 | p@10: 0.00 | p@20: 0.00 | time/it: 2.39e-01     \n",
      "iter:  3420 | dx: +1.4641e-02 | f1-score: 0.07 | relerr: 2.69e+03 | p@5: 0.00 | p@10: 0.00 | p@20: 0.00 | time/it: 2.19e-01     \n",
      "iter:  3430 | dx: +1.7722e-02 | f1-score: 0.07 | relerr: 2.69e+03 | p@5: 0.00 | p@10: 0.00 | p@20: 0.00 | time/it: 2.22e-01     \n",
      "iter:  3440 | dx: +1.0325e-02 | f1-score: 0.07 | relerr: 2.69e+03 | p@5: 0.00 | p@10: 0.00 | p@20: 0.00 | time/it: 2.23e-01     \n",
      "iter:  3450 | dx: +6.9118e-03 | f1-score: 0.07 | relerr: 2.69e+03 | p@5: 0.00 | p@10: 0.00 | p@20: 0.00 | time/it: 2.25e-01     \n",
      "iter:  3460 | dx: +1.1365e-02 | f1-score: 0.07 | relerr: 2.69e+03 | p@5: 0.00 | p@10: 0.00 | p@20: 0.00 | time/it: 2.29e-01     \n",
      "iter:  3470 | dx: +9.2116e-03 | f1-score: 0.07 | relerr: 2.69e+03 | p@5: 0.00 | p@10: 0.00 | p@20: 0.00 | time/it: 2.32e-01     \n",
      "iter:  3480 | dx: +6.8878e-03 | f1-score: 0.07 | relerr: 2.69e+03 | p@5: 0.00 | p@10: 0.00 | p@20: 0.00 | time/it: 2.31e-01     \n",
      "iter:  3490 | dx: +2.0241e-02 | f1-score: 0.07 | relerr: 2.69e+03 | p@5: 0.00 | p@10: 0.00 | p@20: 0.00 | time/it: 2.27e-01     \n",
      "iter:  3500 | dx: +7.4821e-03 | f1-score: 0.07 | relerr: 2.69e+03 | p@5: 0.00 | p@10: 0.00 | p@20: 0.00 | time/it: 2.23e-01     \n",
      "iter:  3510 | dx: +1.1977e-02 | f1-score: 0.07 | relerr: 2.69e+03 | p@5: 0.00 | p@10: 0.00 | p@20: 0.00 | time/it: 2.18e-01     \n",
      "iter:  3520 | dx: +9.6962e-03 | f1-score: 0.07 | relerr: 2.69e+03 | p@5: 0.00 | p@10: 0.00 | p@20: 0.00 | time/it: 2.28e-01     \n",
      "iter:  3530 | dx: +1.7131e-02 | f1-score: 0.07 | relerr: 2.69e+03 | p@5: 0.00 | p@10: 0.00 | p@20: 0.00 | time/it: 2.22e-01     \n",
      "iter:  3540 | dx: +9.7353e-03 | f1-score: 0.07 | relerr: 2.69e+03 | p@5: 0.00 | p@10: 0.00 | p@20: 0.00 | time/it: 2.26e-01     \n",
      "iter:  3550 | dx: +1.1491e-02 | f1-score: 0.07 | relerr: 2.69e+03 | p@5: 0.00 | p@10: 0.00 | p@20: 0.00 | time/it: 2.15e-01     \n",
      "iter:  3560 | dx: +1.3996e-02 | f1-score: 0.07 | relerr: 2.69e+03 | p@5: 0.00 | p@10: 0.00 | p@20: 0.00 | time/it: 2.44e-01     \n",
      "iter:  3570 | dx: +9.5726e-03 | f1-score: 0.07 | relerr: 2.69e+03 | p@5: 0.00 | p@10: 0.00 | p@20: 0.00 | time/it: 2.18e-01     \n",
      "iter:  3580 | dx: +1.4087e-02 | f1-score: 0.07 | relerr: 2.69e+03 | p@5: 0.00 | p@10: 0.00 | p@20: 0.00 | time/it: 2.18e-01     \n",
      "iter:  3590 | dx: +1.2252e-02 | f1-score: 0.07 | relerr: 2.69e+03 | p@5: 0.00 | p@10: 0.00 | p@20: 0.00 | time/it: 2.16e-01     \n",
      "iter:  3600 | dx: +1.6589e-02 | f1-score: 0.07 | relerr: 2.69e+03 | p@5: 0.00 | p@10: 0.00 | p@20: 0.00 | time/it: 2.14e-01     \n",
      "iter:  3610 | dx: +8.3549e-03 | f1-score: 0.07 | relerr: 2.69e+03 | p@5: 0.00 | p@10: 0.00 | p@20: 0.00 | time/it: 2.19e-01     \n",
      "iter:  3620 | dx: +6.1301e-03 | f1-score: 0.07 | relerr: 2.69e+03 | p@5: 0.00 | p@10: 0.00 | p@20: 0.00 | time/it: 2.16e-01     \n",
      "iter:  3630 | dx: +9.2536e-03 | f1-score: 0.07 | relerr: 2.69e+03 | p@5: 0.00 | p@10: 0.00 | p@20: 0.00 | time/it: 2.31e-01     \n",
      "iter:  3640 | dx: +2.4724e-02 | f1-score: 0.07 | relerr: 2.69e+03 | p@5: 0.00 | p@10: 0.00 | p@20: 0.00 | time/it: 2.19e-01     \n",
      "iter:  3650 | dx: +1.2075e-02 | f1-score: 0.07 | relerr: 2.69e+03 | p@5: 0.00 | p@10: 0.00 | p@20: 0.00 | time/it: 2.31e-01     \n",
      "iter:  3660 | dx: +1.5875e-02 | f1-score: 0.07 | relerr: 2.69e+03 | p@5: 0.00 | p@10: 0.00 | p@20: 0.00 | time/it: 2.14e-01     \n",
      "iter:  3670 | dx: +1.7232e-02 | f1-score: 0.07 | relerr: 2.69e+03 | p@5: 0.00 | p@10: 0.00 | p@20: 0.00 | time/it: 2.29e-01     \n",
      "iter:  3680 | dx: +1.5268e-02 | f1-score: 0.07 | relerr: 2.69e+03 | p@5: 0.00 | p@10: 0.00 | p@20: 0.00 | time/it: 2.45e-01     \n",
      "iter:  3690 | dx: +6.6935e-03 | f1-score: 0.07 | relerr: 2.69e+03 | p@5: 0.00 | p@10: 0.00 | p@20: 0.00 | time/it: 2.20e-01     \n",
      "iter:  3700 | dx: +2.1777e-02 | f1-score: 0.07 | relerr: 2.69e+03 | p@5: 0.00 | p@10: 0.00 | p@20: 0.00 | time/it: 2.22e-01     \n",
      "iter:  3710 | dx: +5.4958e-03 | f1-score: 0.07 | relerr: 2.69e+03 | p@5: 0.00 | p@10: 0.00 | p@20: 0.00 | time/it: 2.38e-01     \n",
      "iter:  3720 | dx: +7.1205e-03 | f1-score: 0.07 | relerr: 2.69e+03 | p@5: 0.00 | p@10: 0.00 | p@20: 0.00 | time/it: 2.15e-01     \n",
      "iter:  3730 | dx: +1.0860e-02 | f1-score: 0.07 | relerr: 2.69e+03 | p@5: 0.00 | p@10: 0.00 | p@20: 0.00 | time/it: 2.12e-01     \n",
      "iter:  3740 | dx: +2.4748e-02 | f1-score: 0.07 | relerr: 2.69e+03 | p@5: 0.00 | p@10: 0.00 | p@20: 0.00 | time/it: 2.11e-01     \n",
      "iter:  3750 | dx: +8.9521e-03 | f1-score: 0.07 | relerr: 2.69e+03 | p@5: 0.00 | p@10: 0.00 | p@20: 0.00 | time/it: 2.11e-01     \n",
      "iter:  3760 | dx: +6.1081e-03 | f1-score: 0.07 | relerr: 2.69e+03 | p@5: 0.00 | p@10: 0.00 | p@20: 0.00 | time/it: 2.17e-01     \n",
      "iter:  3770 | dx: +7.3508e-03 | f1-score: 0.07 | relerr: 2.69e+03 | p@5: 0.00 | p@10: 0.00 | p@20: 0.00 | time/it: 2.14e-01     \n",
      "iter:  3780 | dx: +1.3553e-02 | f1-score: 0.07 | relerr: 2.69e+03 | p@5: 0.00 | p@10: 0.00 | p@20: 0.00 | time/it: 2.11e-01     \n",
      "iter:  3790 | dx: +1.1757e-02 | f1-score: 0.07 | relerr: 2.69e+03 | p@5: 0.00 | p@10: 0.00 | p@20: 0.00 | time/it: 2.12e-01     \n",
      "iter:  3800 | dx: +1.1167e-02 | f1-score: 0.07 | relerr: 2.69e+03 | p@5: 0.00 | p@10: 0.00 | p@20: 0.00 | time/it: 2.17e-01     \n",
      "iter:  3810 | dx: +9.8187e-03 | f1-score: 0.07 | relerr: 2.69e+03 | p@5: 0.00 | p@10: 0.00 | p@20: 0.00 | time/it: 2.39e-01     \n",
      "iter:  3820 | dx: +1.7084e-02 | f1-score: 0.07 | relerr: 2.69e+03 | p@5: 0.00 | p@10: 0.00 | p@20: 0.00 | time/it: 2.28e-01     \n",
      "iter:  3830 | dx: +1.1407e-02 | f1-score: 0.07 | relerr: 2.69e+03 | p@5: 0.00 | p@10: 0.00 | p@20: 0.00 | time/it: 2.27e-01     \n",
      "iter:  3840 | dx: +2.0590e-02 | f1-score: 0.07 | relerr: 2.69e+03 | p@5: 0.00 | p@10: 0.00 | p@20: 0.00 | time/it: 2.17e-01     \n"
     ]
    },
    {
     "name": "stdout",
     "output_type": "stream",
     "text": [
      "iter:  3850 | dx: +2.1386e-02 | f1-score: 0.07 | relerr: 2.69e+03 | p@5: 0.00 | p@10: 0.00 | p@20: 0.00 | time/it: 2.79e-01     \n",
      "iter:  3860 | dx: +1.4673e-02 | f1-score: 0.07 | relerr: 2.69e+03 | p@5: 0.00 | p@10: 0.00 | p@20: 0.00 | time/it: 2.52e-01     \n",
      "iter:  3870 | dx: +1.3073e-02 | f1-score: 0.07 | relerr: 2.69e+03 | p@5: 0.00 | p@10: 0.00 | p@20: 0.00 | time/it: 2.46e-01     \n",
      "iter:  3880 | dx: +1.0557e-02 | f1-score: 0.07 | relerr: 2.69e+03 | p@5: 0.00 | p@10: 0.00 | p@20: 0.00 | time/it: 2.33e-01     \n",
      "iter:  3890 | dx: +1.3202e-02 | f1-score: 0.07 | relerr: 2.69e+03 | p@5: 0.00 | p@10: 0.00 | p@20: 0.00 | time/it: 2.33e-01     \n",
      "iter:  3900 | dx: +1.1437e-02 | f1-score: 0.07 | relerr: 2.69e+03 | p@5: 0.00 | p@10: 0.00 | p@20: 0.00 | time/it: 2.22e-01     \n",
      "iter:  3910 | dx: +1.7785e-02 | f1-score: 0.07 | relerr: 2.69e+03 | p@5: 0.00 | p@10: 0.00 | p@20: 0.00 | time/it: 2.62e-01     \n",
      "iter:  3920 | dx: +1.4243e-02 | f1-score: 0.07 | relerr: 2.69e+03 | p@5: 0.00 | p@10: 0.00 | p@20: 0.00 | time/it: 2.33e-01     \n",
      "iter:  3930 | dx: +1.1103e-02 | f1-score: 0.07 | relerr: 2.69e+03 | p@5: 0.00 | p@10: 0.00 | p@20: 0.00 | time/it: 2.31e-01     \n",
      "iter:  3940 | dx: +1.1323e-02 | f1-score: 0.07 | relerr: 2.69e+03 | p@5: 0.00 | p@10: 0.00 | p@20: 0.00 | time/it: 2.15e-01     \n",
      "iter:  3950 | dx: +1.3346e-02 | f1-score: 0.07 | relerr: 2.69e+03 | p@5: 0.00 | p@10: 0.00 | p@20: 0.00 | time/it: 2.13e-01     \n",
      "iter:  3960 | dx: +1.5620e-02 | f1-score: 0.07 | relerr: 2.69e+03 | p@5: 0.00 | p@10: 0.00 | p@20: 0.00 | time/it: 3.17e-01     \n",
      "iter:  3970 | dx: +1.2498e-02 | f1-score: 0.07 | relerr: 2.69e+03 | p@5: 0.00 | p@10: 0.00 | p@20: 0.00 | time/it: 2.50e-01     \n",
      "iter:  3980 | dx: +1.0437e-02 | f1-score: 0.07 | relerr: 2.69e+03 | p@5: 0.00 | p@10: 0.00 | p@20: 0.00 | time/it: 2.11e-01     \n",
      "iter:  3990 | dx: +7.2747e-03 | f1-score: 0.07 | relerr: 2.69e+03 | p@5: 0.00 | p@10: 0.00 | p@20: 0.00 | time/it: 2.12e-01     \n",
      "iter:  4000 | dx: +8.7062e-03 | f1-score: 0.07 | relerr: 2.69e+03 | p@5: 0.00 | p@10: 0.00 | p@20: 0.00 | time/it: 2.11e-01     \n",
      "iter:  4010 | dx: +1.0225e-02 | f1-score: 0.07 | relerr: 2.69e+03 | p@5: 0.00 | p@10: 0.00 | p@20: 0.00 | time/it: 2.10e-01     \n",
      "iter:  4020 | dx: +1.3230e-02 | f1-score: 0.07 | relerr: 2.69e+03 | p@5: 0.00 | p@10: 0.00 | p@20: 0.00 | time/it: 2.14e-01     \n",
      "iter:  4030 | dx: +8.9581e-03 | f1-score: 0.07 | relerr: 2.69e+03 | p@5: 0.00 | p@10: 0.00 | p@20: 0.00 | time/it: 2.10e-01     \n",
      "iter:  4040 | dx: +1.4243e-02 | f1-score: 0.07 | relerr: 2.69e+03 | p@5: 0.00 | p@10: 0.00 | p@20: 0.00 | time/it: 2.10e-01     \n",
      "iter:  4050 | dx: +7.7003e-03 | f1-score: 0.07 | relerr: 2.69e+03 | p@5: 0.00 | p@10: 0.00 | p@20: 0.00 | time/it: 2.16e-01     \n",
      "iter:  4060 | dx: +1.1001e-02 | f1-score: 0.07 | relerr: 2.69e+03 | p@5: 0.00 | p@10: 0.00 | p@20: 0.00 | time/it: 2.44e-01     \n",
      "iter:  4070 | dx: +1.1659e-02 | f1-score: 0.07 | relerr: 2.69e+03 | p@5: 0.00 | p@10: 0.00 | p@20: 0.00 | time/it: 2.43e-01     \n",
      "iter:  4080 | dx: +1.0371e-02 | f1-score: 0.07 | relerr: 2.69e+03 | p@5: 0.00 | p@10: 0.00 | p@20: 0.00 | time/it: 2.18e-01     \n",
      "iter:  4090 | dx: +8.6225e-03 | f1-score: 0.07 | relerr: 2.69e+03 | p@5: 0.00 | p@10: 0.00 | p@20: 0.00 | time/it: 2.17e-01     \n",
      "iter:  4100 | dx: +8.0960e-03 | f1-score: 0.07 | relerr: 2.69e+03 | p@5: 0.00 | p@10: 0.00 | p@20: 0.00 | time/it: 2.17e-01     \n",
      "iter:  4110 | dx: +1.4080e-02 | f1-score: 0.07 | relerr: 2.69e+03 | p@5: 0.00 | p@10: 0.00 | p@20: 0.00 | time/it: 2.18e-01     \n",
      "iter:  4120 | dx: +1.0480e-02 | f1-score: 0.07 | relerr: 2.69e+03 | p@5: 0.00 | p@10: 0.00 | p@20: 0.00 | time/it: 2.17e-01     \n",
      "iter:  4130 | dx: +2.0323e-02 | f1-score: 0.07 | relerr: 2.69e+03 | p@5: 0.00 | p@10: 0.00 | p@20: 0.00 | time/it: 2.21e-01     \n",
      "iter:  4140 | dx: +1.6657e-02 | f1-score: 0.07 | relerr: 2.69e+03 | p@5: 0.00 | p@10: 0.00 | p@20: 0.00 | time/it: 2.17e-01     \n",
      "iter:  4150 | dx: +1.3058e-02 | f1-score: 0.07 | relerr: 2.69e+03 | p@5: 0.00 | p@10: 0.00 | p@20: 0.00 | time/it: 2.17e-01     \n",
      "iter:  4160 | dx: +2.0251e-02 | f1-score: 0.07 | relerr: 2.69e+03 | p@5: 0.00 | p@10: 0.00 | p@20: 0.00 | time/it: 2.16e-01     \n",
      "iter:  4170 | dx: +1.5409e-02 | f1-score: 0.07 | relerr: 2.69e+03 | p@5: 0.00 | p@10: 0.00 | p@20: 0.00 | time/it: 2.15e-01     \n",
      "iter:  4180 | dx: +1.0974e-02 | f1-score: 0.07 | relerr: 2.69e+03 | p@5: 0.00 | p@10: 0.00 | p@20: 0.00 | time/it: 2.21e-01     \n",
      "iter:  4190 | dx: +3.7599e-03 | f1-score: 0.07 | relerr: 2.69e+03 | p@5: 0.00 | p@10: 0.00 | p@20: 0.00 | time/it: 2.16e-01     \n",
      "iter:  4200 | dx: +2.6821e-02 | f1-score: 0.07 | relerr: 2.69e+03 | p@5: 0.00 | p@10: 0.00 | p@20: 0.00 | time/it: 2.16e-01     \n",
      "iter:  4210 | dx: +1.9420e-02 | f1-score: 0.07 | relerr: 2.69e+03 | p@5: 0.00 | p@10: 0.00 | p@20: 0.00 | time/it: 2.18e-01     \n",
      "iter:  4220 | dx: +9.2910e-03 | f1-score: 0.07 | relerr: 2.69e+03 | p@5: 0.00 | p@10: 0.00 | p@20: 0.00 | time/it: 2.23e-01     \n",
      "iter:  4230 | dx: +7.9920e-03 | f1-score: 0.07 | relerr: 2.69e+03 | p@5: 0.00 | p@10: 0.00 | p@20: 0.00 | time/it: 2.35e-01     \n",
      "iter:  4240 | dx: +1.7112e-02 | f1-score: 0.07 | relerr: 2.69e+03 | p@5: 0.00 | p@10: 0.00 | p@20: 0.00 | time/it: 2.33e-01     \n",
      "iter:  4250 | dx: +8.8799e-03 | f1-score: 0.07 | relerr: 2.69e+03 | p@5: 0.00 | p@10: 0.00 | p@20: 0.00 | time/it: 2.40e-01     \n",
      "iter:  4260 | dx: +1.1087e-02 | f1-score: 0.07 | relerr: 2.69e+03 | p@5: 0.00 | p@10: 0.00 | p@20: 0.00 | time/it: 2.44e-01     \n",
      "iter:  4270 | dx: +8.2667e-03 | f1-score: 0.07 | relerr: 2.69e+03 | p@5: 0.00 | p@10: 0.00 | p@20: 0.00 | time/it: 2.39e-01     \n",
      "iter:  4280 | dx: +1.5374e-02 | f1-score: 0.07 | relerr: 2.69e+03 | p@5: 0.00 | p@10: 0.00 | p@20: 0.00 | time/it: 2.83e-01     \n",
      "iter:  4290 | dx: +2.0709e-02 | f1-score: 0.07 | relerr: 2.69e+03 | p@5: 0.00 | p@10: 0.00 | p@20: 0.00 | time/it: 2.36e-01     \n",
      "iter:  4300 | dx: +1.3847e-02 | f1-score: 0.07 | relerr: 2.69e+03 | p@5: 0.00 | p@10: 0.00 | p@20: 0.00 | time/it: 2.17e-01     \n",
      "iter:  4310 | dx: +1.3489e-02 | f1-score: 0.07 | relerr: 2.69e+03 | p@5: 0.00 | p@10: 0.00 | p@20: 0.00 | time/it: 2.29e-01     \n",
      "iter:  4320 | dx: +2.0367e-02 | f1-score: 0.07 | relerr: 2.69e+03 | p@5: 0.00 | p@10: 0.00 | p@20: 0.00 | time/it: 2.44e-01     \n",
      "iter:  4330 | dx: +1.0362e-02 | f1-score: 0.07 | relerr: 2.69e+03 | p@5: 0.00 | p@10: 0.00 | p@20: 0.00 | time/it: 3.06e-01     \n",
      "iter:  4340 | dx: +1.2920e-02 | f1-score: 0.07 | relerr: 2.69e+03 | p@5: 0.00 | p@10: 0.00 | p@20: 0.00 | time/it: 2.78e-01     \n",
      "iter:  4350 | dx: +1.3054e-02 | f1-score: 0.07 | relerr: 2.69e+03 | p@5: 0.00 | p@10: 0.00 | p@20: 0.00 | time/it: 2.37e-01     \n",
      "iter:  4360 | dx: +6.9797e-03 | f1-score: 0.07 | relerr: 2.69e+03 | p@5: 0.00 | p@10: 0.00 | p@20: 0.00 | time/it: 2.20e-01     \n",
      "iter:  4370 | dx: +2.3618e-02 | f1-score: 0.07 | relerr: 2.69e+03 | p@5: 0.00 | p@10: 0.00 | p@20: 0.00 | time/it: 2.15e-01     \n",
      "iter:  4380 | dx: +1.9830e-02 | f1-score: 0.07 | relerr: 2.69e+03 | p@5: 0.00 | p@10: 0.00 | p@20: 0.00 | time/it: 2.27e-01     \n",
      "iter:  4390 | dx: +7.3565e-03 | f1-score: 0.07 | relerr: 2.69e+03 | p@5: 0.00 | p@10: 0.00 | p@20: 0.00 | time/it: 2.33e-01     \n",
      "iter:  4400 | dx: +1.4536e-02 | f1-score: 0.07 | relerr: 2.69e+03 | p@5: 0.00 | p@10: 0.00 | p@20: 0.00 | time/it: 2.54e-01     \n",
      "iter:  4410 | dx: +1.3968e-02 | f1-score: 0.07 | relerr: 2.69e+03 | p@5: 0.00 | p@10: 0.00 | p@20: 0.00 | time/it: 2.28e-01     \n",
      "iter:  4420 | dx: +4.8861e-03 | f1-score: 0.07 | relerr: 2.69e+03 | p@5: 0.00 | p@10: 0.00 | p@20: 0.00 | time/it: 2.26e-01     \n",
      "iter:  4430 | dx: +1.8224e-02 | f1-score: 0.07 | relerr: 2.69e+03 | p@5: 0.00 | p@10: 0.00 | p@20: 0.00 | time/it: 2.36e-01     \n",
      "iter:  4440 | dx: +2.5262e-02 | f1-score: 0.07 | relerr: 2.69e+03 | p@5: 0.00 | p@10: 0.00 | p@20: 0.00 | time/it: 2.34e-01     \n",
      "iter:  4450 | dx: +1.8012e-02 | f1-score: 0.07 | relerr: 2.69e+03 | p@5: 0.00 | p@10: 0.00 | p@20: 0.00 | time/it: 2.41e-01     \n",
      "iter:  4460 | dx: +8.0577e-03 | f1-score: 0.07 | relerr: 2.69e+03 | p@5: 0.00 | p@10: 0.00 | p@20: 0.00 | time/it: 2.38e-01     \n",
      "iter:  4470 | dx: +1.1017e-02 | f1-score: 0.07 | relerr: 2.69e+03 | p@5: 0.00 | p@10: 0.00 | p@20: 0.00 | time/it: 2.26e-01     \n",
      "iter:  4480 | dx: +1.1843e-02 | f1-score: 0.07 | relerr: 2.69e+03 | p@5: 0.00 | p@10: 0.00 | p@20: 0.00 | time/it: 2.26e-01     \n"
     ]
    },
    {
     "name": "stdout",
     "output_type": "stream",
     "text": [
      "iter:  4490 | dx: +4.9923e-03 | f1-score: 0.07 | relerr: 2.69e+03 | p@5: 0.00 | p@10: 0.00 | p@20: 0.00 | time/it: 2.20e-01     \n",
      "iter:  4500 | dx: +1.9961e-02 | f1-score: 0.07 | relerr: 2.69e+03 | p@5: 0.00 | p@10: 0.00 | p@20: 0.00 | time/it: 2.24e-01     \n",
      "iter:  4510 | dx: +7.7080e-03 | f1-score: 0.07 | relerr: 2.69e+03 | p@5: 0.00 | p@10: 0.00 | p@20: 0.00 | time/it: 2.44e-01     \n",
      "iter:  4520 | dx: +1.6559e-02 | f1-score: 0.07 | relerr: 2.69e+03 | p@5: 0.00 | p@10: 0.00 | p@20: 0.00 | time/it: 2.48e-01     \n",
      "iter:  4530 | dx: +6.7150e-03 | f1-score: 0.07 | relerr: 2.69e+03 | p@5: 0.00 | p@10: 0.00 | p@20: 0.00 | time/it: 2.36e-01     \n",
      "iter:  4540 | dx: +1.3707e-02 | f1-score: 0.07 | relerr: 2.69e+03 | p@5: 0.00 | p@10: 0.00 | p@20: 0.00 | time/it: 2.35e-01     \n",
      "iter:  4550 | dx: +1.4461e-02 | f1-score: 0.07 | relerr: 2.69e+03 | p@5: 0.00 | p@10: 0.00 | p@20: 0.00 | time/it: 2.43e-01     \n",
      "iter:  4560 | dx: +2.2282e-02 | f1-score: 0.07 | relerr: 2.69e+03 | p@5: 0.00 | p@10: 0.00 | p@20: 0.00 | time/it: 2.43e-01     \n",
      "iter:  4570 | dx: +1.0535e-02 | f1-score: 0.07 | relerr: 2.69e+03 | p@5: 0.00 | p@10: 0.00 | p@20: 0.00 | time/it: 2.33e-01     \n",
      "iter:  4580 | dx: +1.2145e-02 | f1-score: 0.07 | relerr: 2.69e+03 | p@5: 0.00 | p@10: 0.00 | p@20: 0.00 | time/it: 2.30e-01     \n",
      "iter:  4590 | dx: +1.9232e-02 | f1-score: 0.07 | relerr: 2.69e+03 | p@5: 0.00 | p@10: 0.00 | p@20: 0.00 | time/it: 2.35e-01     \n",
      "iter:  4600 | dx: +8.2862e-03 | f1-score: 0.07 | relerr: 2.69e+03 | p@5: 0.00 | p@10: 0.00 | p@20: 0.00 | time/it: 2.26e-01     \n",
      "iter:  4610 | dx: +8.8905e-03 | f1-score: 0.07 | relerr: 2.69e+03 | p@5: 0.00 | p@10: 0.00 | p@20: 0.00 | time/it: 2.20e-01     \n",
      "iter:  4620 | dx: +2.5261e-02 | f1-score: 0.07 | relerr: 2.69e+03 | p@5: 0.00 | p@10: 0.00 | p@20: 0.00 | time/it: 2.22e-01     \n",
      "iter:  4630 | dx: +1.6860e-02 | f1-score: 0.07 | relerr: 2.69e+03 | p@5: 0.00 | p@10: 0.00 | p@20: 0.00 | time/it: 2.22e-01     \n",
      "iter:  4640 | dx: +1.1942e-02 | f1-score: 0.07 | relerr: 2.69e+03 | p@5: 0.00 | p@10: 0.00 | p@20: 0.00 | time/it: 2.32e-01     \n",
      "iter:  4650 | dx: +2.3026e-02 | f1-score: 0.07 | relerr: 2.69e+03 | p@5: 0.00 | p@10: 0.00 | p@20: 0.00 | time/it: 2.39e-01     \n",
      "iter:  4660 | dx: +9.5827e-03 | f1-score: 0.07 | relerr: 2.69e+03 | p@5: 0.00 | p@10: 0.00 | p@20: 0.00 | time/it: 2.34e-01     \n",
      "iter:  4670 | dx: +7.7895e-03 | f1-score: 0.07 | relerr: 2.69e+03 | p@5: 0.00 | p@10: 0.00 | p@20: 0.00 | time/it: 2.77e-01     \n",
      "iter:  4680 | dx: +1.7492e-02 | f1-score: 0.07 | relerr: 2.69e+03 | p@5: 0.00 | p@10: 0.00 | p@20: 0.00 | time/it: 2.40e-01     \n",
      "iter:  4690 | dx: +9.4752e-03 | f1-score: 0.07 | relerr: 2.69e+03 | p@5: 0.00 | p@10: 0.00 | p@20: 0.00 | time/it: 2.47e-01     \n",
      "iter:  4700 | dx: +1.5285e-02 | f1-score: 0.07 | relerr: 2.69e+03 | p@5: 0.00 | p@10: 0.00 | p@20: 0.00 | time/it: 2.30e-01     \n",
      "iter:  4710 | dx: +1.3690e-02 | f1-score: 0.07 | relerr: 2.69e+03 | p@5: 0.00 | p@10: 0.00 | p@20: 0.00 | time/it: 2.17e-01     \n",
      "iter:  4720 | dx: +1.0490e-02 | f1-score: 0.07 | relerr: 2.69e+03 | p@5: 0.00 | p@10: 0.00 | p@20: 0.00 | time/it: 2.32e-01     \n",
      "iter:  4730 | dx: +1.3587e-02 | f1-score: 0.07 | relerr: 2.69e+03 | p@5: 0.00 | p@10: 0.00 | p@20: 0.00 | time/it: 2.26e-01     \n",
      "iter:  4740 | dx: +1.8768e-02 | f1-score: 0.07 | relerr: 2.69e+03 | p@5: 0.00 | p@10: 0.00 | p@20: 0.00 | time/it: 2.16e-01     \n",
      "iter:  4750 | dx: +1.0069e-02 | f1-score: 0.07 | relerr: 2.69e+03 | p@5: 0.00 | p@10: 0.00 | p@20: 0.00 | time/it: 2.18e-01     \n",
      "iter:  4760 | dx: +7.3454e-03 | f1-score: 0.07 | relerr: 2.69e+03 | p@5: 0.00 | p@10: 0.00 | p@20: 0.00 | time/it: 2.25e-01     \n",
      "iter:  4770 | dx: +1.4795e-02 | f1-score: 0.07 | relerr: 2.69e+03 | p@5: 0.00 | p@10: 0.00 | p@20: 0.00 | time/it: 2.24e-01     \n",
      "iter:  4780 | dx: +2.0689e-02 | f1-score: 0.07 | relerr: 2.69e+03 | p@5: 0.00 | p@10: 0.00 | p@20: 0.00 | time/it: 2.18e-01     \n",
      "iter:  4790 | dx: +2.1829e-02 | f1-score: 0.07 | relerr: 2.69e+03 | p@5: 0.00 | p@10: 0.00 | p@20: 0.00 | time/it: 2.32e-01     \n",
      "iter:  4800 | dx: +6.8399e-03 | f1-score: 0.07 | relerr: 2.69e+03 | p@5: 0.00 | p@10: 0.00 | p@20: 0.00 | time/it: 2.23e-01     \n",
      "iter:  4810 | dx: +1.8403e-02 | f1-score: 0.07 | relerr: 2.69e+03 | p@5: 0.00 | p@10: 0.00 | p@20: 0.00 | time/it: 2.62e-01     \n",
      "iter:  4820 | dx: +8.0360e-03 | f1-score: 0.07 | relerr: 2.69e+03 | p@5: 0.00 | p@10: 0.00 | p@20: 0.00 | time/it: 2.48e-01     \n",
      "iter:  4830 | dx: +2.1246e-02 | f1-score: 0.07 | relerr: 2.69e+03 | p@5: 0.00 | p@10: 0.00 | p@20: 0.00 | time/it: 2.33e-01     \n",
      "iter:  4840 | dx: +1.0453e-02 | f1-score: 0.07 | relerr: 2.69e+03 | p@5: 0.00 | p@10: 0.00 | p@20: 0.00 | time/it: 2.55e-01     \n",
      "iter:  4850 | dx: +1.1757e-02 | f1-score: 0.07 | relerr: 2.69e+03 | p@5: 0.00 | p@10: 0.00 | p@20: 0.00 | time/it: 2.27e-01     \n",
      "iter:  4860 | dx: +9.3605e-03 | f1-score: 0.07 | relerr: 2.69e+03 | p@5: 0.00 | p@10: 0.00 | p@20: 0.00 | time/it: 2.25e-01     \n",
      "iter:  4870 | dx: +5.8171e-03 | f1-score: 0.07 | relerr: 2.69e+03 | p@5: 0.00 | p@10: 0.00 | p@20: 0.00 | time/it: 2.62e-01     \n",
      "iter:  4880 | dx: +2.5263e-02 | f1-score: 0.07 | relerr: 2.69e+03 | p@5: 0.00 | p@10: 0.00 | p@20: 0.00 | time/it: 2.30e-01     \n",
      "iter:  4890 | dx: +1.3694e-02 | f1-score: 0.07 | relerr: 2.69e+03 | p@5: 0.00 | p@10: 0.00 | p@20: 0.00 | time/it: 2.45e-01     \n",
      "iter:  4900 | dx: +1.9568e-02 | f1-score: 0.07 | relerr: 2.69e+03 | p@5: 0.00 | p@10: 0.00 | p@20: 0.00 | time/it: 2.38e-01     \n",
      "iter:  4910 | dx: +1.8435e-02 | f1-score: 0.07 | relerr: 2.69e+03 | p@5: 0.00 | p@10: 0.00 | p@20: 0.00 | time/it: 2.33e-01     \n",
      "iter:  4920 | dx: +1.7579e-02 | f1-score: 0.07 | relerr: 2.69e+03 | p@5: 0.00 | p@10: 0.00 | p@20: 0.00 | time/it: 2.22e-01     \n",
      "iter:  4930 | dx: +6.6981e-03 | f1-score: 0.07 | relerr: 2.69e+03 | p@5: 0.00 | p@10: 0.00 | p@20: 0.00 | time/it: 2.21e-01     \n",
      "iter:  4940 | dx: +1.2472e-02 | f1-score: 0.07 | relerr: 2.69e+03 | p@5: 0.00 | p@10: 0.00 | p@20: 0.00 | time/it: 2.26e-01     \n",
      "iter:  4950 | dx: +1.1109e-02 | f1-score: 0.07 | relerr: 2.69e+03 | p@5: 0.00 | p@10: 0.00 | p@20: 0.00 | time/it: 2.25e-01     \n",
      "iter:  4960 | dx: +1.7998e-02 | f1-score: 0.07 | relerr: 2.69e+03 | p@5: 0.00 | p@10: 0.00 | p@20: 0.00 | time/it: 2.23e-01     \n",
      "iter:  4970 | dx: +1.5917e-02 | f1-score: 0.07 | relerr: 2.69e+03 | p@5: 0.00 | p@10: 0.00 | p@20: 0.00 | time/it: 2.35e-01     \n",
      "iter:  4980 | dx: +1.2815e-02 | f1-score: 0.07 | relerr: 2.69e+03 | p@5: 0.00 | p@10: 0.00 | p@20: 0.00 | time/it: 2.39e-01     \n",
      "iter:  4990 | dx: +1.5022e-02 | f1-score: 0.07 | relerr: 2.69e+03 | p@5: 0.00 | p@10: 0.00 | p@20: 0.00 | time/it: 2.34e-01     \n",
      "iter:  5000 | dx: +1.1582e-02 | f1-score: 0.07 | relerr: 2.69e+03 | p@5: 0.00 | p@10: 0.00 | p@20: 0.00 | time/it: 2.41e-01     \n",
      "Converged? False\n"
     ]
    }
   ],
   "source": [
    "# Set callback (parameters of callback are just the posterior mean of alpha)\n",
    "callback = tsvar.utils.callbacks.LearnerCallbackMLE(\n",
    "    x0=(as_pr / ar_pr).flatten(), print_every=10,\n",
    "    coeffs_true=adjacency_true.flatten(),\n",
    "    acc_thresh=THRESH, dim=dim, \n",
    "    widgets={'f1score', 'relerr', 'prec@5', 'prec@10', 'prec@20'},\n",
    "    default_end='\\n')\n",
    "\n",
    "# Fit model\n",
    "conv = vifb_model.fit(as_pr=as_pr, ar_pr=ar_pr, zc_pr=zc_pr, max_iter=5000,\n",
    "                 tol=1e-5, callback=callback)\n",
    "print('Converged?', conv)"
   ]
  },
  {
   "cell_type": "code",
   "execution_count": 89,
   "metadata": {},
   "outputs": [
    {
     "name": "stdout",
     "output_type": "stream",
     "text": [
      "Accuracy: 0.58\n",
      "\n",
      "Edge counts\n",
      "------------\n",
      "Pred: 927.00\n",
      "True: 1401.00\n",
      "\n",
      "Error counts\n",
      "------------\n",
      " True Positive: 187.00\n",
      "False Positive: 740.00\n",
      " True Negative: 2483.00\n",
      "False Negative: 1214.00\n",
      "\n",
      "Error rates\n",
      "-----------\n",
      " True Positive Rate: 0.13\n",
      "False Positive Rate: 0.23\n",
      " True Negative Rate: 0.77\n",
      "False Negative Rate: 0.87\n",
      "\n",
      "F-Score\n",
      "-------\n",
      " F1-Score: 0.16\n",
      "Precision: 0.20\n",
      "   Recall: 0.13\n",
      "\n",
      "Precision@k\n",
      "-----------\n",
      " Prec@5: 0.00\n",
      "Prec@10: 0.00\n",
      "Prec@20: 0.00\n",
      "\n",
      "Average Precision@k per node\n",
      "----------------------------\n",
      "AvgPrec@k per node:\n",
      "5 0.10000000000000005\n",
      "10 0.16911764705882332\n",
      "20 0.25588235294117634\n",
      "\n"
     ]
    }
   ],
   "source": [
    "adj_hat_mode = (vifb_model._as_po[1:, :] - 1) / vifb_model._ar_po[1:, :] \n",
    "adj_hat_mode[adj_hat_mode < 0] = 0\n",
    "\n",
    "adj_hat_mean = vifb_model._as_po[1:, :] / vifb_model._ar_po[1:, :]\n",
    "\n",
    "adj_hat_std = np.sqrt(vifb_model._as_po[1:, :] / vifb_model._ar_po[1:, :] ** 2)\n",
    "\n",
    "#adj_hat = adj_hat_mean / adj_hat_std\n",
    "adj_hat = adj_hat_mean\n",
    "#adj_hat = adj_hat_mode\n",
    "\n",
    "experiments_utils.print_report(adj_hat=adj_hat, adj_true=adjacency_true, thresh=THRESH)"
   ]
  },
  {
   "cell_type": "code",
   "execution_count": 81,
   "metadata": {
    "scrolled": true
   },
   "outputs": [
    {
     "data": {
      "image/png": "[encoded data removed]",
      "text/plain": [
       "<Figure size 720x360 with 1 Axes>"
      ]
     },
     "metadata": {
      "needs_background": "light"
     },
     "output_type": "display_data"
    }
   ],
   "source": [
    "plt.figure(figsize=(10, 5))\n",
    "plt.grid()\n",
    "plt.boxplot(\n",
    "    [\n",
    "        adj_hat[adjacency_true == 0.0], \n",
    "        adj_hat[adjacency_true > 0.0]\n",
    "    ],\n",
    "    labels=[\n",
    "        'True Non-edges',\n",
    "        'True Edges'\n",
    "    ])\n",
    "plt.ylabel(r'Learned value of paramaters')\n",
    "plt.title('Distribution of learned adjacency weights');"
   ]
  },
  {
   "cell_type": "code",
   "execution_count": 82,
   "metadata": {},
   "outputs": [
    {
     "name": "stdout",
     "output_type": "stream",
     "text": [
      "Kendall correlation coefficient: -0.201\n",
      "Samples are correlated (reject H0) p=0.000\n"
     ]
    }
   ],
   "source": [
    "from scipy.stats import kendalltau\n",
    "\n",
    "# calculate kendall's correlation\n",
    "coef, p = kendalltau(\n",
    "    x=adj_hat.flatten(),\n",
    "    y=adjacency_true.flatten()\n",
    ")\n",
    "\n",
    "print('Kendall correlation coefficient: %.3f' % coef)\n",
    "# interpret the significance\n",
    "alpha = 0.05\n",
    "if p > alpha:\n",
    "    print('Samples are uncorrelated (fail to reject H0) p=%.3f' % p)\n",
    "else:\n",
    "    print('Samples are correlated (reject H0) p=%.3f' % p)"
   ]
  },
  {
   "cell_type": "code",
   "execution_count": 83,
   "metadata": {},
   "outputs": [
    {
     "data": {
      "text/plain": [
       "(array([  4.00,   9.00,  13.00,   8.00,   8.00,   4.00,   6.00,   9.00,   2.00,   5.00]),\n",
       " array([-0.46, -0.40, -0.34, -0.28, -0.22, -0.17, -0.11, -0.05,  0.01,  0.07,  0.13]),\n",
       " <a list of 10 Patch objects>)"
      ]
     },
     "execution_count": 83,
     "metadata": {},
     "output_type": "execute_result"
    },
    {
     "data": {
      "image/png": "[encoded data removed]",
      "text/plain": [
       "<Figure size 432x288 with 1 Axes>"
      ]
     },
     "metadata": {
      "needs_background": "light"
     },
     "output_type": "display_data"
    }
   ],
   "source": [
    "mean_rank_corr, rank_corr_per_dim = tsvar.utils.metrics.mean_kendall_rank_corr(\n",
    "    adj_hat.flatten(), adjacency_true.flatten(), return_vec=True)\n",
    "\n",
    "plt.hist(rank_corr_per_dim)"
   ]
  },
  {
   "cell_type": "markdown",
   "metadata": {},
   "source": [
    "---\n",
    "\n",
    "### Run VI"
   ]
  },
  {
   "cell_type": "code",
   "execution_count": 17,
   "metadata": {},
   "outputs": [
    {
     "name": "stdout",
     "output_type": "stream",
     "text": [
      "ALPHA:\n",
      "------\n",
      "mean\n",
      "0.1\n",
      "variance\n",
      "0.1\n",
      "BETA:\n",
      "-----\n",
      "mean\n",
      "1.1111111111111112\n",
      "variance\n",
      "0.15432098765432098\n"
     ]
    }
   ],
   "source": [
    "dim = len(events)\n",
    "\n",
    "# Set priors\n",
    "# prior: Alpha\n",
    "as_pr = 0.1 * np.ones((dim + 1, dim))\n",
    "ar_pr = 1.0 * np.ones((dim + 1, dim))\n",
    "\n",
    "# prior: Beta\n",
    "bs_pr = 10.0 * np.ones((dim, dim))\n",
    "br_pr = 10.0 * np.ones((dim, dim))\n",
    "\n",
    "# prior: Z\n",
    "zc_pr = [1.0 * np.ones((len(events[i]), dim+1)) for i in range(dim)]\n",
    "\n",
    "print('ALPHA:')\n",
    "print('------')\n",
    "print('mean')\n",
    "print(as_pr[0,0] / ar_pr[0,0])\n",
    "print('variance')\n",
    "print(as_pr[0,0] / ar_pr[0,0] ** 2)\n",
    "\n",
    "print('BETA:')\n",
    "print('-----')\n",
    "print('mean')\n",
    "print(br_pr[0,0] / (bs_pr[0,0] - 1))\n",
    "print('variance')\n",
    "print(br_pr[0,0]**2 / ((bs_pr[0,0] - 1)**2 * (bs_pr[0,0] - 2)))"
   ]
  },
  {
   "cell_type": "code",
   "execution_count": 52,
   "metadata": {},
   "outputs": [],
   "source": [
    "# Set model & observations\n",
    "vi_model = tsvar.models.WoldModelVariational(verbose=True)\n",
    "vi_model.observe(dataset.timestamps)"
   ]
  },
  {
   "cell_type": "code",
   "execution_count": 54,
   "metadata": {
    "scrolled": false
   },
   "outputs": [
    {
     "name": "stdout",
     "output_type": "stream",
     "text": [
      "iter:     1 | dx: +9.7129e+00 | f1-score: 0.08 | relerr: 1.52e+02 | p@5: 0.00 | p@10: 0.00 | p@20: 0.00 | time/it: 3.14e+01     \n",
      "iter:     2 | dx: +9.7129e+00 | f1-score: 0.11 | relerr: 1.04e+02 | p@5: 0.00 | p@10: 0.00 | p@20: 0.00 | time/it: 1.03e+00     \n",
      "iter:     3 | dx: +2.5630e+00 | f1-score: 0.12 | relerr: 9.46e+01 | p@5: 0.00 | p@10: 0.00 | p@20: 0.00 | time/it: 8.90e-01     \n",
      "iter:     4 | dx: +2.0666e+00 | f1-score: 0.14 | relerr: 9.18e+01 | p@5: 0.00 | p@10: 0.00 | p@20: 0.00 | time/it: 8.71e-01     \n",
      "iter:     5 | dx: +1.6923e+00 | f1-score: 0.15 | relerr: 9.11e+01 | p@5: 0.00 | p@10: 0.00 | p@20: 0.00 | time/it: 8.78e-01     \n",
      "iter:     6 | dx: +1.2975e+00 | f1-score: 0.16 | relerr: 9.11e+01 | p@5: 0.00 | p@10: 0.00 | p@20: 0.00 | time/it: 9.05e-01     \n",
      "iter:     7 | dx: +1.1342e+00 | f1-score: 0.17 | relerr: 9.13e+01 | p@5: 0.00 | p@10: 0.00 | p@20: 0.00 | time/it: 9.06e-01     \n",
      "iter:     8 | dx: +1.0267e+00 | f1-score: 0.18 | relerr: 9.16e+01 | p@5: 0.00 | p@10: 0.00 | p@20: 0.00 | time/it: 8.78e-01     \n",
      "iter:     9 | dx: +9.3773e-01 | f1-score: 0.19 | relerr: 9.17e+01 | p@5: 0.00 | p@10: 0.00 | p@20: 0.00 | time/it: 8.97e-01     \n",
      "iter:    10 | dx: +8.5160e-01 | f1-score: 0.19 | relerr: 9.17e+01 | p@5: 0.00 | p@10: 0.00 | p@20: 0.00 | time/it: 7.92e-01     \n",
      "iter:    11 | dx: +7.6713e-01 | f1-score: 0.19 | relerr: 9.16e+01 | p@5: 0.00 | p@10: 0.00 | p@20: 0.00 | time/it: 8.01e-01     \n",
      "iter:    12 | dx: +6.8381e-01 | f1-score: 0.20 | relerr: 9.15e+01 | p@5: 0.00 | p@10: 0.00 | p@20: 0.00 | time/it: 1.75e+00     \n",
      "iter:    13 | dx: +6.0326e-01 | f1-score: 0.20 | relerr: 9.14e+01 | p@5: 0.00 | p@10: 0.00 | p@20: 0.00 | time/it: 1.74e+00     \n",
      "iter:    14 | dx: +5.2741e-01 | f1-score: 0.20 | relerr: 9.12e+01 | p@5: 0.00 | p@10: 0.00 | p@20: 0.00 | time/it: 1.01e+00     \n",
      "iter:    15 | dx: +4.5781e-01 | f1-score: 0.20 | relerr: 9.09e+01 | p@5: 0.00 | p@10: 0.00 | p@20: 0.00 | time/it: 8.24e-01     \n",
      "iter:    16 | dx: +3.9175e-01 | f1-score: 0.20 | relerr: 9.07e+01 | p@5: 0.00 | p@10: 0.00 | p@20: 0.00 | time/it: 7.93e-01     \n",
      "iter:    17 | dx: +3.3185e-01 | f1-score: 0.21 | relerr: 9.05e+01 | p@5: 0.00 | p@10: 0.00 | p@20: 0.00 | time/it: 1.59e+00     \n",
      "iter:    18 | dx: +2.7683e-01 | f1-score: 0.21 | relerr: 9.03e+01 | p@5: 0.00 | p@10: 0.00 | p@20: 0.00 | time/it: 1.12e+00     \n",
      "iter:    19 | dx: +2.2763e-01 | f1-score: 0.21 | relerr: 9.00e+01 | p@5: 0.00 | p@10: 0.00 | p@20: 0.05 | time/it: 8.15e-01     \n",
      "iter:    20 | dx: +1.8323e-01 | f1-score: 0.20 | relerr: 8.98e+01 | p@5: 0.00 | p@10: 0.00 | p@20: 0.05 | time/it: 8.06e-01     \n",
      "iter:    21 | dx: +1.4599e-01 | f1-score: 0.20 | relerr: 8.95e+01 | p@5: 0.00 | p@10: 0.00 | p@20: 0.05 | time/it: 7.97e-01     \n",
      "iter:    22 | dx: +1.1523e-01 | f1-score: 0.20 | relerr: 8.93e+01 | p@5: 0.00 | p@10: 0.00 | p@20: 0.05 | time/it: 8.13e-01     \n",
      "iter:    23 | dx: +1.0441e-01 | f1-score: 0.20 | relerr: 8.90e+01 | p@5: 0.00 | p@10: 0.00 | p@20: 0.05 | time/it: 7.97e-01     \n",
      "iter:    24 | dx: +1.0497e-01 | f1-score: 0.20 | relerr: 8.88e+01 | p@5: 0.00 | p@10: 0.00 | p@20: 0.05 | time/it: 7.92e-01     \n",
      "iter:    25 | dx: +1.0513e-01 | f1-score: 0.20 | relerr: 8.86e+01 | p@5: 0.00 | p@10: 0.00 | p@20: 0.05 | time/it: 8.01e-01     \n",
      "iter:    26 | dx: +1.0530e-01 | f1-score: 0.20 | relerr: 8.83e+01 | p@5: 0.00 | p@10: 0.00 | p@20: 0.05 | time/it: 1.06e+00     \n",
      "iter:    27 | dx: +1.0555e-01 | f1-score: 0.21 | relerr: 8.81e+01 | p@5: 0.00 | p@10: 0.00 | p@20: 0.05 | time/it: 1.45e+00     \n",
      "iter:    28 | dx: +1.0543e-01 | f1-score: 0.20 | relerr: 8.79e+01 | p@5: 0.00 | p@10: 0.00 | p@20: 0.05 | time/it: 1.30e+00     \n",
      "iter:    29 | dx: +1.0503e-01 | f1-score: 0.20 | relerr: 8.76e+01 | p@5: 0.00 | p@10: 0.00 | p@20: 0.05 | time/it: 1.26e+00     \n",
      "iter:    30 | dx: +1.0480e-01 | f1-score: 0.20 | relerr: 8.74e+01 | p@5: 0.00 | p@10: 0.00 | p@20: 0.05 | time/it: 1.35e+00     \n",
      "iter:    31 | dx: +1.0577e-01 | f1-score: 0.20 | relerr: 8.72e+01 | p@5: 0.00 | p@10: 0.00 | p@20: 0.05 | time/it: 1.39e+00     \n",
      "iter:    32 | dx: +1.0663e-01 | f1-score: 0.20 | relerr: 8.71e+01 | p@5: 0.00 | p@10: 0.00 | p@20: 0.05 | time/it: 1.17e+00     \n",
      "iter:    33 | dx: +1.0720e-01 | f1-score: 0.20 | relerr: 8.69e+01 | p@5: 0.00 | p@10: 0.00 | p@20: 0.05 | time/it: 8.77e-01     \n",
      "iter:    34 | dx: +1.0752e-01 | f1-score: 0.19 | relerr: 8.67e+01 | p@5: 0.00 | p@10: 0.10 | p@20: 0.05 | time/it: 8.25e-01     \n",
      "iter:    35 | dx: +1.0739e-01 | f1-score: 0.19 | relerr: 8.66e+01 | p@5: 0.00 | p@10: 0.10 | p@20: 0.05 | time/it: 8.45e-01     \n",
      "iter:    36 | dx: +1.0689e-01 | f1-score: 0.19 | relerr: 8.64e+01 | p@5: 0.00 | p@10: 0.10 | p@20: 0.05 | time/it: 8.19e-01     \n",
      "iter:    37 | dx: +1.0622e-01 | f1-score: 0.19 | relerr: 8.62e+01 | p@5: 0.00 | p@10: 0.10 | p@20: 0.05 | time/it: 8.04e-01     \n",
      "iter:    38 | dx: +1.0600e-01 | f1-score: 0.19 | relerr: 8.61e+01 | p@5: 0.00 | p@10: 0.10 | p@20: 0.05 | time/it: 8.09e-01     \n",
      "iter:    39 | dx: +1.0585e-01 | f1-score: 0.19 | relerr: 8.60e+01 | p@5: 0.00 | p@10: 0.10 | p@20: 0.05 | time/it: 8.07e-01     \n",
      "iter:    40 | dx: +1.0554e-01 | f1-score: 0.19 | relerr: 8.58e+01 | p@5: 0.00 | p@10: 0.10 | p@20: 0.05 | time/it: 1.03e+00     \n",
      "iter:    41 | dx: +1.0509e-01 | f1-score: 0.19 | relerr: 8.57e+01 | p@5: 0.00 | p@10: 0.10 | p@20: 0.10 | time/it: 2.04e+00     \n",
      "iter:    42 | dx: +1.0436e-01 | f1-score: 0.19 | relerr: 8.56e+01 | p@5: 0.00 | p@10: 0.10 | p@20: 0.10 | time/it: 1.57e+00     \n",
      "iter:    43 | dx: +1.0384e-01 | f1-score: 0.19 | relerr: 8.55e+01 | p@5: 0.00 | p@10: 0.10 | p@20: 0.10 | time/it: 8.60e-01     \n",
      "iter:    44 | dx: +1.0250e-01 | f1-score: 0.19 | relerr: 8.53e+01 | p@5: 0.00 | p@10: 0.10 | p@20: 0.10 | time/it: 8.05e-01     \n",
      "iter:    45 | dx: +1.0082e-01 | f1-score: 0.19 | relerr: 8.52e+01 | p@5: 0.00 | p@10: 0.10 | p@20: 0.10 | time/it: 7.98e-01     \n",
      "iter:    46 | dx: +9.8726e-02 | f1-score: 0.18 | relerr: 8.51e+01 | p@5: 0.00 | p@10: 0.10 | p@20: 0.10 | time/it: 8.01e-01     \n",
      "iter:    47 | dx: +9.7916e-02 | f1-score: 0.18 | relerr: 8.50e+01 | p@5: 0.00 | p@10: 0.10 | p@20: 0.10 | time/it: 7.84e-01     \n",
      "iter:    48 | dx: +9.7234e-02 | f1-score: 0.18 | relerr: 8.49e+01 | p@5: 0.00 | p@10: 0.10 | p@20: 0.10 | time/it: 7.95e-01     \n",
      "iter:    49 | dx: +9.6096e-02 | f1-score: 0.18 | relerr: 8.48e+01 | p@5: 0.00 | p@10: 0.10 | p@20: 0.10 | time/it: 7.84e-01     \n",
      "iter:    50 | dx: +9.4434e-02 | f1-score: 0.18 | relerr: 8.47e+01 | p@5: 0.00 | p@10: 0.10 | p@20: 0.10 | time/it: 8.00e-01     \n",
      "iter:    51 | dx: +9.2757e-02 | f1-score: 0.18 | relerr: 8.46e+01 | p@5: 0.00 | p@10: 0.10 | p@20: 0.10 | time/it: 9.54e-01     \n",
      "iter:    52 | dx: +9.1471e-02 | f1-score: 0.18 | relerr: 8.45e+01 | p@5: 0.00 | p@10: 0.10 | p@20: 0.10 | time/it: 1.10e+00     \n",
      "iter:    53 | dx: +8.9666e-02 | f1-score: 0.18 | relerr: 8.44e+01 | p@5: 0.00 | p@10: 0.10 | p@20: 0.10 | time/it: 8.24e-01     \n",
      "iter:    54 | dx: +8.6933e-02 | f1-score: 0.18 | relerr: 8.43e+01 | p@5: 0.00 | p@10: 0.10 | p@20: 0.10 | time/it: 7.85e-01     \n",
      "iter:    55 | dx: +8.4076e-02 | f1-score: 0.18 | relerr: 8.43e+01 | p@5: 0.00 | p@10: 0.10 | p@20: 0.10 | time/it: 7.86e-01     \n",
      "iter:    56 | dx: +8.2660e-02 | f1-score: 0.18 | relerr: 8.42e+01 | p@5: 0.00 | p@10: 0.10 | p@20: 0.10 | time/it: 8.10e-01     \n",
      "iter:    57 | dx: +8.1569e-02 | f1-score: 0.18 | relerr: 8.41e+01 | p@5: 0.00 | p@10: 0.10 | p@20: 0.10 | time/it: 8.26e-01     \n",
      "iter:    58 | dx: +8.0366e-02 | f1-score: 0.18 | relerr: 8.40e+01 | p@5: 0.00 | p@10: 0.10 | p@20: 0.15 | time/it: 7.87e-01     \n",
      "iter:    59 | dx: +7.9071e-02 | f1-score: 0.18 | relerr: 8.40e+01 | p@5: 0.00 | p@10: 0.10 | p@20: 0.15 | time/it: 7.93e-01     \n",
      "iter:    60 | dx: +7.7628e-02 | f1-score: 0.18 | relerr: 8.39e+01 | p@5: 0.00 | p@10: 0.10 | p@20: 0.15 | time/it: 7.89e-01     \n",
      "iter:    61 | dx: +7.6257e-02 | f1-score: 0.17 | relerr: 8.38e+01 | p@5: 0.00 | p@10: 0.10 | p@20: 0.15 | time/it: 7.88e-01     \n",
      "iter:    62 | dx: +7.4924e-02 | f1-score: 0.17 | relerr: 8.38e+01 | p@5: 0.00 | p@10: 0.10 | p@20: 0.15 | time/it: 7.91e-01     \n",
      "iter:    63 | dx: +7.3496e-02 | f1-score: 0.17 | relerr: 8.37e+01 | p@5: 0.00 | p@10: 0.10 | p@20: 0.15 | time/it: 8.02e-01     \n",
      "iter:    64 | dx: +7.2139e-02 | f1-score: 0.17 | relerr: 8.37e+01 | p@5: 0.00 | p@10: 0.10 | p@20: 0.15 | time/it: 1.45e+00     \n"
     ]
    },
    {
     "name": "stdout",
     "output_type": "stream",
     "text": [
      "iter:    65 | dx: +7.0643e-02 | f1-score: 0.17 | relerr: 8.36e+01 | p@5: 0.00 | p@10: 0.10 | p@20: 0.15 | time/it: 1.44e+00     \n",
      "iter:    66 | dx: +6.9339e-02 | f1-score: 0.17 | relerr: 8.36e+01 | p@5: 0.00 | p@10: 0.10 | p@20: 0.15 | time/it: 1.21e+00     \n",
      "iter:    67 | dx: +6.7989e-02 | f1-score: 0.17 | relerr: 8.35e+01 | p@5: 0.00 | p@10: 0.10 | p@20: 0.20 | time/it: 1.12e+00     \n",
      "iter:    68 | dx: +6.6553e-02 | f1-score: 0.17 | relerr: 8.35e+01 | p@5: 0.00 | p@10: 0.10 | p@20: 0.20 | time/it: 8.64e-01     \n",
      "iter:    69 | dx: +6.5170e-02 | f1-score: 0.17 | relerr: 8.34e+01 | p@5: 0.00 | p@10: 0.10 | p@20: 0.20 | time/it: 7.88e-01     \n",
      "iter:    70 | dx: +6.3926e-02 | f1-score: 0.17 | relerr: 8.34e+01 | p@5: 0.00 | p@10: 0.10 | p@20: 0.20 | time/it: 7.95e-01     \n",
      "iter:    71 | dx: +6.2510e-02 | f1-score: 0.17 | relerr: 8.33e+01 | p@5: 0.00 | p@10: 0.10 | p@20: 0.20 | time/it: 7.96e-01     \n",
      "iter:    72 | dx: +6.1210e-02 | f1-score: 0.17 | relerr: 8.33e+01 | p@5: 0.00 | p@10: 0.10 | p@20: 0.20 | time/it: 1.25e+00     \n",
      "iter:    73 | dx: +5.9873e-02 | f1-score: 0.17 | relerr: 8.32e+01 | p@5: 0.00 | p@10: 0.10 | p@20: 0.20 | time/it: 1.83e+00     \n",
      "iter:    74 | dx: +5.8633e-02 | f1-score: 0.17 | relerr: 8.32e+01 | p@5: 0.00 | p@10: 0.10 | p@20: 0.20 | time/it: 1.75e+00     \n",
      "iter:    75 | dx: +5.7354e-02 | f1-score: 0.17 | relerr: 8.32e+01 | p@5: 0.00 | p@10: 0.10 | p@20: 0.20 | time/it: 1.27e+00     \n",
      "iter:    76 | dx: +5.6071e-02 | f1-score: 0.17 | relerr: 8.31e+01 | p@5: 0.00 | p@10: 0.10 | p@20: 0.20 | time/it: 1.01e+00     \n",
      "iter:    77 | dx: +5.4817e-02 | f1-score: 0.17 | relerr: 8.31e+01 | p@5: 0.00 | p@10: 0.10 | p@20: 0.20 | time/it: 1.31e+00     \n",
      "iter:    78 | dx: +5.3519e-02 | f1-score: 0.17 | relerr: 8.31e+01 | p@5: 0.00 | p@10: 0.10 | p@20: 0.20 | time/it: 8.71e-01     \n",
      "iter:    79 | dx: +5.2322e-02 | f1-score: 0.17 | relerr: 8.30e+01 | p@5: 0.00 | p@10: 0.10 | p@20: 0.20 | time/it: 8.01e-01     \n",
      "iter:    80 | dx: +5.1073e-02 | f1-score: 0.17 | relerr: 8.30e+01 | p@5: 0.00 | p@10: 0.10 | p@20: 0.20 | time/it: 8.34e-01     \n",
      "iter:    81 | dx: +4.9976e-02 | f1-score: 0.17 | relerr: 8.30e+01 | p@5: 0.00 | p@10: 0.10 | p@20: 0.20 | time/it: 1.08e+00     \n",
      "iter:    82 | dx: +4.8691e-02 | f1-score: 0.17 | relerr: 8.29e+01 | p@5: 0.00 | p@10: 0.10 | p@20: 0.20 | time/it: 9.25e-01     \n",
      "iter:    83 | dx: +4.7565e-02 | f1-score: 0.17 | relerr: 8.29e+01 | p@5: 0.00 | p@10: 0.10 | p@20: 0.20 | time/it: 8.38e-01     \n",
      "iter:    84 | dx: +4.6483e-02 | f1-score: 0.17 | relerr: 8.29e+01 | p@5: 0.00 | p@10: 0.10 | p@20: 0.20 | time/it: 8.18e-01     \n",
      "iter:    85 | dx: +4.5305e-02 | f1-score: 0.17 | relerr: 8.29e+01 | p@5: 0.00 | p@10: 0.10 | p@20: 0.20 | time/it: 8.27e-01     \n",
      "iter:    86 | dx: +4.4215e-02 | f1-score: 0.17 | relerr: 8.28e+01 | p@5: 0.00 | p@10: 0.10 | p@20: 0.20 | time/it: 8.09e-01     \n",
      "iter:    87 | dx: +4.3142e-02 | f1-score: 0.17 | relerr: 8.28e+01 | p@5: 0.00 | p@10: 0.10 | p@20: 0.15 | time/it: 7.99e-01     \n",
      "iter:    88 | dx: +4.2023e-02 | f1-score: 0.17 | relerr: 8.28e+01 | p@5: 0.00 | p@10: 0.10 | p@20: 0.15 | time/it: 7.94e-01     \n",
      "iter:    89 | dx: +4.0972e-02 | f1-score: 0.17 | relerr: 8.28e+01 | p@5: 0.00 | p@10: 0.10 | p@20: 0.15 | time/it: 1.25e+00     \n",
      "iter:    90 | dx: +3.9902e-02 | f1-score: 0.17 | relerr: 8.28e+01 | p@5: 0.00 | p@10: 0.10 | p@20: 0.15 | time/it: 9.09e-01     \n",
      "iter:    91 | dx: +3.8802e-02 | f1-score: 0.17 | relerr: 8.27e+01 | p@5: 0.00 | p@10: 0.10 | p@20: 0.15 | time/it: 8.30e-01     \n",
      "iter:    92 | dx: +3.7859e-02 | f1-score: 0.17 | relerr: 8.27e+01 | p@5: 0.00 | p@10: 0.10 | p@20: 0.15 | time/it: 8.19e-01     \n",
      "iter:    93 | dx: +3.6938e-02 | f1-score: 0.17 | relerr: 8.27e+01 | p@5: 0.00 | p@10: 0.10 | p@20: 0.15 | time/it: 8.13e-01     \n",
      "iter:    94 | dx: +3.5923e-02 | f1-score: 0.17 | relerr: 8.27e+01 | p@5: 0.00 | p@10: 0.10 | p@20: 0.15 | time/it: 8.15e-01     \n",
      "iter:    95 | dx: +3.5023e-02 | f1-score: 0.17 | relerr: 8.27e+01 | p@5: 0.00 | p@10: 0.10 | p@20: 0.15 | time/it: 8.18e-01     \n",
      "iter:    96 | dx: +3.4005e-02 | f1-score: 0.16 | relerr: 8.26e+01 | p@5: 0.00 | p@10: 0.10 | p@20: 0.15 | time/it: 7.95e-01     \n",
      "iter:    97 | dx: +3.3129e-02 | f1-score: 0.17 | relerr: 8.26e+01 | p@5: 0.00 | p@10: 0.10 | p@20: 0.15 | time/it: 9.74e-01     \n",
      "iter:    98 | dx: +3.2222e-02 | f1-score: 0.16 | relerr: 8.26e+01 | p@5: 0.00 | p@10: 0.10 | p@20: 0.15 | time/it: 8.74e-01     \n",
      "iter:    99 | dx: +3.1303e-02 | f1-score: 0.16 | relerr: 8.26e+01 | p@5: 0.00 | p@10: 0.10 | p@20: 0.15 | time/it: 8.92e-01     \n",
      "iter:   100 | dx: +3.0434e-02 | f1-score: 0.16 | relerr: 8.25e+01 | p@5: 0.00 | p@10: 0.10 | p@20: 0.15 | time/it: 1.57e+00     \n",
      "iter:   101 | dx: +2.9674e-02 | f1-score: 0.16 | relerr: 8.25e+01 | p@5: 0.00 | p@10: 0.10 | p@20: 0.15 | time/it: 9.92e-01     \n",
      "iter:   102 | dx: +2.8784e-02 | f1-score: 0.16 | relerr: 8.25e+01 | p@5: 0.00 | p@10: 0.10 | p@20: 0.15 | time/it: 1.76e+00     \n",
      "iter:   103 | dx: +2.7948e-02 | f1-score: 0.16 | relerr: 8.25e+01 | p@5: 0.00 | p@10: 0.10 | p@20: 0.15 | time/it: 1.51e+00     \n",
      "iter:   104 | dx: +2.7181e-02 | f1-score: 0.16 | relerr: 8.25e+01 | p@5: 0.00 | p@10: 0.10 | p@20: 0.15 | time/it: 9.90e-01     \n",
      "iter:   105 | dx: +2.6300e-02 | f1-score: 0.16 | relerr: 8.25e+01 | p@5: 0.00 | p@10: 0.10 | p@20: 0.15 | time/it: 8.52e-01     \n",
      "iter:   106 | dx: +2.5472e-02 | f1-score: 0.16 | relerr: 8.24e+01 | p@5: 0.00 | p@10: 0.10 | p@20: 0.15 | time/it: 8.08e-01     \n",
      "iter:   107 | dx: +2.4804e-02 | f1-score: 0.16 | relerr: 8.24e+01 | p@5: 0.00 | p@10: 0.10 | p@20: 0.15 | time/it: 7.87e-01     \n",
      "iter:   108 | dx: +2.4143e-02 | f1-score: 0.16 | relerr: 8.24e+01 | p@5: 0.00 | p@10: 0.10 | p@20: 0.15 | time/it: 8.05e-01     \n",
      "iter:   109 | dx: +2.3327e-02 | f1-score: 0.16 | relerr: 8.24e+01 | p@5: 0.00 | p@10: 0.10 | p@20: 0.15 | time/it: 7.95e-01     \n",
      "iter:   110 | dx: +2.2512e-02 | f1-score: 0.16 | relerr: 8.24e+01 | p@5: 0.00 | p@10: 0.10 | p@20: 0.15 | time/it: 7.93e-01     \n",
      "iter:   111 | dx: +2.1930e-02 | f1-score: 0.16 | relerr: 8.24e+01 | p@5: 0.00 | p@10: 0.10 | p@20: 0.15 | time/it: 7.87e-01     \n",
      "iter:   112 | dx: +2.1120e-02 | f1-score: 0.16 | relerr: 8.23e+01 | p@5: 0.00 | p@10: 0.10 | p@20: 0.15 | time/it: 7.87e-01     \n",
      "iter:   113 | dx: +2.0401e-02 | f1-score: 0.16 | relerr: 8.23e+01 | p@5: 0.00 | p@10: 0.10 | p@20: 0.15 | time/it: 8.04e-01     \n",
      "iter:   114 | dx: +1.9810e-02 | f1-score: 0.16 | relerr: 8.23e+01 | p@5: 0.00 | p@10: 0.10 | p@20: 0.15 | time/it: 7.95e-01     \n",
      "iter:   115 | dx: +1.8899e-02 | f1-score: 0.16 | relerr: 8.23e+01 | p@5: 0.00 | p@10: 0.10 | p@20: 0.15 | time/it: 7.90e-01     \n",
      "iter:   116 | dx: +1.7924e-02 | f1-score: 0.16 | relerr: 8.23e+01 | p@5: 0.00 | p@10: 0.10 | p@20: 0.15 | time/it: 7.95e-01     \n",
      "iter:   117 | dx: +1.6744e-02 | f1-score: 0.16 | relerr: 8.23e+01 | p@5: 0.00 | p@10: 0.10 | p@20: 0.15 | time/it: 7.95e-01     \n",
      "iter:   118 | dx: +1.6093e-02 | f1-score: 0.16 | relerr: 8.23e+01 | p@5: 0.00 | p@10: 0.10 | p@20: 0.15 | time/it: 7.91e-01     \n",
      "iter:   119 | dx: +1.6004e-02 | f1-score: 0.16 | relerr: 8.23e+01 | p@5: 0.00 | p@10: 0.10 | p@20: 0.15 | time/it: 8.28e-01     \n",
      "iter:   120 | dx: +1.5469e-02 | f1-score: 0.16 | relerr: 8.23e+01 | p@5: 0.00 | p@10: 0.10 | p@20: 0.15 | time/it: 7.92e-01     \n",
      "iter:   121 | dx: +1.5488e-02 | f1-score: 0.16 | relerr: 8.22e+01 | p@5: 0.00 | p@10: 0.10 | p@20: 0.15 | time/it: 7.96e-01     \n",
      "iter:   122 | dx: +1.4645e-02 | f1-score: 0.16 | relerr: 8.22e+01 | p@5: 0.00 | p@10: 0.10 | p@20: 0.15 | time/it: 7.98e-01     \n",
      "iter:   123 | dx: +1.4433e-02 | f1-score: 0.16 | relerr: 8.22e+01 | p@5: 0.00 | p@10: 0.10 | p@20: 0.15 | time/it: 9.28e-01     \n",
      "iter:   124 | dx: +1.4217e-02 | f1-score: 0.16 | relerr: 8.22e+01 | p@5: 0.00 | p@10: 0.10 | p@20: 0.15 | time/it: 8.17e-01     \n",
      "iter:   125 | dx: +1.3599e-02 | f1-score: 0.16 | relerr: 8.22e+01 | p@5: 0.00 | p@10: 0.10 | p@20: 0.15 | time/it: 1.03e+00     \n",
      "iter:   126 | dx: +1.2813e-02 | f1-score: 0.16 | relerr: 8.22e+01 | p@5: 0.00 | p@10: 0.10 | p@20: 0.15 | time/it: 9.89e-01     \n",
      "iter:   127 | dx: +1.2190e-02 | f1-score: 0.16 | relerr: 8.22e+01 | p@5: 0.00 | p@10: 0.10 | p@20: 0.15 | time/it: 9.88e-01     \n",
      "iter:   128 | dx: +1.1705e-02 | f1-score: 0.16 | relerr: 8.22e+01 | p@5: 0.00 | p@10: 0.10 | p@20: 0.15 | time/it: 8.07e-01     \n"
     ]
    },
    {
     "name": "stdout",
     "output_type": "stream",
     "text": [
      "iter:   129 | dx: +1.1238e-02 | f1-score: 0.16 | relerr: 8.21e+01 | p@5: 0.00 | p@10: 0.10 | p@20: 0.15 | time/it: 8.13e-01     \n",
      "iter:   130 | dx: +1.1265e-02 | f1-score: 0.16 | relerr: 8.21e+01 | p@5: 0.00 | p@10: 0.10 | p@20: 0.15 | time/it: 8.05e-01     \n",
      "iter:   131 | dx: +1.0620e-02 | f1-score: 0.16 | relerr: 8.21e+01 | p@5: 0.00 | p@10: 0.10 | p@20: 0.15 | time/it: 1.05e+00     \n",
      "iter:   132 | dx: +1.0553e-02 | f1-score: 0.16 | relerr: 8.21e+01 | p@5: 0.00 | p@10: 0.10 | p@20: 0.15 | time/it: 1.06e+00     \n",
      "iter:   133 | dx: +1.0617e-02 | f1-score: 0.16 | relerr: 8.21e+01 | p@5: 0.00 | p@10: 0.10 | p@20: 0.15 | time/it: 9.99e-01     \n",
      "iter:   134 | dx: +9.8202e-03 | f1-score: 0.16 | relerr: 8.21e+01 | p@5: 0.00 | p@10: 0.10 | p@20: 0.20 | time/it: 1.26e+00     \n",
      "iter:   135 | dx: +9.8567e-03 | f1-score: 0.16 | relerr: 8.21e+01 | p@5: 0.00 | p@10: 0.10 | p@20: 0.20 | time/it: 9.72e-01     \n",
      "iter:   136 | dx: +9.6205e-03 | f1-score: 0.16 | relerr: 8.21e+01 | p@5: 0.00 | p@10: 0.10 | p@20: 0.20 | time/it: 8.43e-01     \n",
      "iter:   137 | dx: +9.6415e-03 | f1-score: 0.16 | relerr: 8.21e+01 | p@5: 0.00 | p@10: 0.10 | p@20: 0.20 | time/it: 8.44e-01     \n",
      "iter:   138 | dx: +9.1963e-03 | f1-score: 0.16 | relerr: 8.21e+01 | p@5: 0.00 | p@10: 0.10 | p@20: 0.20 | time/it: 8.15e-01     \n",
      "iter:   139 | dx: +8.8753e-03 | f1-score: 0.16 | relerr: 8.21e+01 | p@5: 0.00 | p@10: 0.10 | p@20: 0.20 | time/it: 8.09e-01     \n",
      "iter:   140 | dx: +9.0258e-03 | f1-score: 0.16 | relerr: 8.21e+01 | p@5: 0.00 | p@10: 0.10 | p@20: 0.20 | time/it: 8.01e-01     \n",
      "iter:   141 | dx: +8.6774e-03 | f1-score: 0.16 | relerr: 8.20e+01 | p@5: 0.00 | p@10: 0.10 | p@20: 0.20 | time/it: 8.05e-01     \n",
      "iter:   142 | dx: +8.4494e-03 | f1-score: 0.16 | relerr: 8.20e+01 | p@5: 0.00 | p@10: 0.10 | p@20: 0.20 | time/it: 7.91e-01     \n",
      "iter:   143 | dx: +8.2367e-03 | f1-score: 0.16 | relerr: 8.20e+01 | p@5: 0.00 | p@10: 0.10 | p@20: 0.20 | time/it: 7.89e-01     \n",
      "iter:   144 | dx: +8.2732e-03 | f1-score: 0.16 | relerr: 8.20e+01 | p@5: 0.00 | p@10: 0.10 | p@20: 0.20 | time/it: 1.01e+00     \n"
     ]
    },
    {
     "ename": "KeyboardInterrupt",
     "evalue": "",
     "output_type": "error",
     "traceback": [
      "\u001b[0;31m---------------------------------------------------------------------------\u001b[0m",
      "\u001b[0;31mKeyboardInterrupt\u001b[0m                         Traceback (most recent call last)",
      "\u001b[0;32m<ipython-input-54-31058477fa9e>\u001b[0m in \u001b[0;36m<module>\u001b[0;34m\u001b[0m\n\u001b[1;32m      9\u001b[0m \u001b[0;31m# Fit model\u001b[0m\u001b[0;34m\u001b[0m\u001b[0;34m\u001b[0m\u001b[0;34m\u001b[0m\u001b[0m\n\u001b[1;32m     10\u001b[0m vi_model.fit(as_pr=as_pr, ar_pr=ar_pr, bs_pr=bs_pr, br_pr=br_pr, zc_pr=zc_pr, \n\u001b[0;32m---> 11\u001b[0;31m           max_iter=2500, tol=1e-5, callback=callback)\n\u001b[0m",
      "\u001b[0;32m~/Workspace/EPFL/research/ongoing/var-wold/tsvar/utils/decorators.py\u001b[0m in \u001b[0;36mwrapped\u001b[0;34m(self, *args, **kwargs)\u001b[0m\n\u001b[1;32m      6\u001b[0m     \u001b[0;32mdef\u001b[0m \u001b[0mwrapped\u001b[0m\u001b[0;34m(\u001b[0m\u001b[0mself\u001b[0m\u001b[0;34m,\u001b[0m \u001b[0;34m*\u001b[0m\u001b[0margs\u001b[0m\u001b[0;34m,\u001b[0m \u001b[0;34m**\u001b[0m\u001b[0mkwargs\u001b[0m\u001b[0;34m)\u001b[0m\u001b[0;34m:\u001b[0m\u001b[0;34m\u001b[0m\u001b[0;34m\u001b[0m\u001b[0m\n\u001b[1;32m      7\u001b[0m         \u001b[0;32mif\u001b[0m \u001b[0mself\u001b[0m\u001b[0;34m.\u001b[0m\u001b[0m_observed\u001b[0m\u001b[0;34m:\u001b[0m\u001b[0;34m\u001b[0m\u001b[0;34m\u001b[0m\u001b[0m\n\u001b[0;32m----> 8\u001b[0;31m             \u001b[0;32mreturn\u001b[0m \u001b[0mfn\u001b[0m\u001b[0;34m(\u001b[0m\u001b[0mself\u001b[0m\u001b[0;34m,\u001b[0m \u001b[0;34m*\u001b[0m\u001b[0margs\u001b[0m\u001b[0;34m,\u001b[0m \u001b[0;34m**\u001b[0m\u001b[0mkwargs\u001b[0m\u001b[0;34m)\u001b[0m\u001b[0;34m\u001b[0m\u001b[0;34m\u001b[0m\u001b[0m\n\u001b[0m\u001b[1;32m      9\u001b[0m         \u001b[0;32melse\u001b[0m\u001b[0;34m:\u001b[0m\u001b[0;34m\u001b[0m\u001b[0;34m\u001b[0m\u001b[0m\n\u001b[1;32m     10\u001b[0m             raise Exception(('Model is not properly set. '\n",
      "\u001b[0;32m~/Workspace/EPFL/research/ongoing/var-wold/tsvar/models/_wold_var.py\u001b[0m in \u001b[0;36mfit\u001b[0;34m(self, as_pr, ar_pr, bs_pr, br_pr, zc_pr, *args, **kwargs)\u001b[0m\n\u001b[1;32m    382\u001b[0m     \u001b[0;32mdef\u001b[0m \u001b[0mfit\u001b[0m\u001b[0;34m(\u001b[0m\u001b[0mself\u001b[0m\u001b[0;34m,\u001b[0m \u001b[0mas_pr\u001b[0m\u001b[0;34m,\u001b[0m \u001b[0mar_pr\u001b[0m\u001b[0;34m,\u001b[0m \u001b[0mbs_pr\u001b[0m\u001b[0;34m,\u001b[0m \u001b[0mbr_pr\u001b[0m\u001b[0;34m,\u001b[0m \u001b[0mzc_pr\u001b[0m\u001b[0;34m,\u001b[0m \u001b[0;34m*\u001b[0m\u001b[0margs\u001b[0m\u001b[0;34m,\u001b[0m \u001b[0;34m**\u001b[0m\u001b[0mkwargs\u001b[0m\u001b[0;34m)\u001b[0m\u001b[0;34m:\u001b[0m\u001b[0;34m\u001b[0m\u001b[0;34m\u001b[0m\u001b[0m\n\u001b[1;32m    383\u001b[0m         \u001b[0mself\u001b[0m\u001b[0;34m.\u001b[0m\u001b[0m_init_fit\u001b[0m\u001b[0;34m(\u001b[0m\u001b[0mas_pr\u001b[0m\u001b[0;34m,\u001b[0m \u001b[0mar_pr\u001b[0m\u001b[0;34m,\u001b[0m \u001b[0mbs_pr\u001b[0m\u001b[0;34m,\u001b[0m \u001b[0mbr_pr\u001b[0m\u001b[0;34m,\u001b[0m \u001b[0mzc_pr\u001b[0m\u001b[0;34m)\u001b[0m\u001b[0;34m\u001b[0m\u001b[0;34m\u001b[0m\u001b[0m\n\u001b[0;32m--> 384\u001b[0;31m         \u001b[0;32mreturn\u001b[0m \u001b[0msuper\u001b[0m\u001b[0;34m(\u001b[0m\u001b[0;34m)\u001b[0m\u001b[0;34m.\u001b[0m\u001b[0mfit\u001b[0m\u001b[0;34m(\u001b[0m\u001b[0mstep_function\u001b[0m\u001b[0;34m=\u001b[0m\u001b[0mself\u001b[0m\u001b[0;34m.\u001b[0m\u001b[0m_iteration\u001b[0m\u001b[0;34m,\u001b[0m \u001b[0;34m*\u001b[0m\u001b[0margs\u001b[0m\u001b[0;34m,\u001b[0m \u001b[0;34m**\u001b[0m\u001b[0mkwargs\u001b[0m\u001b[0;34m)\u001b[0m\u001b[0;34m\u001b[0m\u001b[0;34m\u001b[0m\u001b[0m\n\u001b[0m\u001b[1;32m    385\u001b[0m \u001b[0;34m\u001b[0m\u001b[0m\n\u001b[1;32m    386\u001b[0m     \u001b[0;32mdef\u001b[0m \u001b[0malpha_posterior_mean\u001b[0m\u001b[0;34m(\u001b[0m\u001b[0mself\u001b[0m\u001b[0;34m,\u001b[0m \u001b[0mas_po\u001b[0m\u001b[0;34m=\u001b[0m\u001b[0;32mNone\u001b[0m\u001b[0;34m,\u001b[0m \u001b[0mar_po\u001b[0m\u001b[0;34m=\u001b[0m\u001b[0;32mNone\u001b[0m\u001b[0;34m)\u001b[0m\u001b[0;34m:\u001b[0m\u001b[0;34m\u001b[0m\u001b[0;34m\u001b[0m\u001b[0m\n",
      "\u001b[0;32m~/Workspace/EPFL/research/ongoing/var-wold/tsvar/utils/decorators.py\u001b[0m in \u001b[0;36mwrapped\u001b[0;34m(self, *args, **kwargs)\u001b[0m\n\u001b[1;32m      6\u001b[0m     \u001b[0;32mdef\u001b[0m \u001b[0mwrapped\u001b[0m\u001b[0;34m(\u001b[0m\u001b[0mself\u001b[0m\u001b[0;34m,\u001b[0m \u001b[0;34m*\u001b[0m\u001b[0margs\u001b[0m\u001b[0;34m,\u001b[0m \u001b[0;34m**\u001b[0m\u001b[0mkwargs\u001b[0m\u001b[0;34m)\u001b[0m\u001b[0;34m:\u001b[0m\u001b[0;34m\u001b[0m\u001b[0;34m\u001b[0m\u001b[0m\n\u001b[1;32m      7\u001b[0m         \u001b[0;32mif\u001b[0m \u001b[0mself\u001b[0m\u001b[0;34m.\u001b[0m\u001b[0m_observed\u001b[0m\u001b[0;34m:\u001b[0m\u001b[0;34m\u001b[0m\u001b[0;34m\u001b[0m\u001b[0m\n\u001b[0;32m----> 8\u001b[0;31m             \u001b[0;32mreturn\u001b[0m \u001b[0mfn\u001b[0m\u001b[0;34m(\u001b[0m\u001b[0mself\u001b[0m\u001b[0;34m,\u001b[0m \u001b[0;34m*\u001b[0m\u001b[0margs\u001b[0m\u001b[0;34m,\u001b[0m \u001b[0;34m**\u001b[0m\u001b[0mkwargs\u001b[0m\u001b[0;34m)\u001b[0m\u001b[0;34m\u001b[0m\u001b[0;34m\u001b[0m\u001b[0m\n\u001b[0m\u001b[1;32m      9\u001b[0m         \u001b[0;32melse\u001b[0m\u001b[0;34m:\u001b[0m\u001b[0;34m\u001b[0m\u001b[0;34m\u001b[0m\u001b[0m\n\u001b[1;32m     10\u001b[0m             raise Exception(('Model is not properly set. '\n",
      "\u001b[0;32m~/Workspace/EPFL/research/ongoing/var-wold/tsvar/fitter.py\u001b[0m in \u001b[0;36mfit\u001b[0;34m(self, step_function, tol, max_iter, seed, callback)\u001b[0m\n\u001b[1;32m     55\u001b[0m             \u001b[0mself\u001b[0m\u001b[0;34m.\u001b[0m\u001b[0m_n_iter_done\u001b[0m \u001b[0;34m=\u001b[0m \u001b[0mt\u001b[0m\u001b[0;34m\u001b[0m\u001b[0;34m\u001b[0m\u001b[0m\n\u001b[1;32m     56\u001b[0m             \u001b[0;31m# Run iteration\u001b[0m\u001b[0;34m\u001b[0m\u001b[0;34m\u001b[0m\u001b[0;34m\u001b[0m\u001b[0m\n\u001b[0;32m---> 57\u001b[0;31m             \u001b[0mstep_function\u001b[0m\u001b[0;34m(\u001b[0m\u001b[0;34m)\u001b[0m\u001b[0;34m\u001b[0m\u001b[0;34m\u001b[0m\u001b[0m\n\u001b[0m\u001b[1;32m     58\u001b[0m \u001b[0;34m\u001b[0m\u001b[0m\n\u001b[1;32m     59\u001b[0m             \u001b[0;31m# Sanity check that the optimization did not fail\u001b[0m\u001b[0;34m\u001b[0m\u001b[0;34m\u001b[0m\u001b[0;34m\u001b[0m\u001b[0m\n",
      "\u001b[0;32m~/Workspace/EPFL/research/ongoing/var-wold/tsvar/models/_wold_var.py\u001b[0m in \u001b[0;36m_iteration\u001b[0;34m(self)\u001b[0m\n\u001b[1;32m    343\u001b[0m             \u001b[0mas_po\u001b[0m\u001b[0;34m=\u001b[0m\u001b[0mself\u001b[0m\u001b[0;34m.\u001b[0m\u001b[0m_as_po\u001b[0m\u001b[0;34m,\u001b[0m \u001b[0mar_po\u001b[0m\u001b[0;34m=\u001b[0m\u001b[0mself\u001b[0m\u001b[0;34m.\u001b[0m\u001b[0m_ar_po\u001b[0m\u001b[0;34m,\u001b[0m \u001b[0mzp_po\u001b[0m\u001b[0;34m=\u001b[0m\u001b[0mself\u001b[0m\u001b[0;34m.\u001b[0m\u001b[0m_zp_po\u001b[0m\u001b[0;34m,\u001b[0m\u001b[0;34m\u001b[0m\u001b[0;34m\u001b[0m\u001b[0m\n\u001b[1;32m    344\u001b[0m             \u001b[0mbs_pr\u001b[0m\u001b[0;34m=\u001b[0m\u001b[0mself\u001b[0m\u001b[0;34m.\u001b[0m\u001b[0m_bs_pr\u001b[0m\u001b[0;34m,\u001b[0m \u001b[0mbr_pr\u001b[0m\u001b[0;34m=\u001b[0m\u001b[0mself\u001b[0m\u001b[0;34m.\u001b[0m\u001b[0m_br_pr\u001b[0m\u001b[0;34m,\u001b[0m \u001b[0mdt_ik\u001b[0m\u001b[0;34m=\u001b[0m\u001b[0mself\u001b[0m\u001b[0;34m.\u001b[0m\u001b[0mdt_ik\u001b[0m\u001b[0;34m,\u001b[0m\u001b[0;34m\u001b[0m\u001b[0;34m\u001b[0m\u001b[0m\n\u001b[0;32m--> 345\u001b[0;31m             delta_ikj=self.delta_ikj, valid_mask_ikj=self.valid_mask_ikj)\n\u001b[0m\u001b[1;32m    346\u001b[0m \u001b[0;34m\u001b[0m\u001b[0m\n\u001b[1;32m    347\u001b[0m         \u001b[0;31m# print('---- Beta')\u001b[0m\u001b[0;34m\u001b[0m\u001b[0;34m\u001b[0m\u001b[0;34m\u001b[0m\u001b[0m\n",
      "\u001b[0;31mKeyboardInterrupt\u001b[0m: "
     ]
    }
   ],
   "source": [
    "# Set callback (parameters of callback are just the posterior mean of alpha)\n",
    "callback = tsvar.utils.callbacks.LearnerCallbackMLE(\n",
    "    x0=(as_pr[1:,:] / ar_pr[1:,:]).flatten(), print_every=1,\n",
    "    coeffs_true=adjacency_true.flatten(),\n",
    "    acc_thresh=0.05, dim=dim, \n",
    "    widgets={'f1score', 'relerr', 'prec@5', 'prec@10', 'prec@20'},\n",
    "    default_end='\\n')\n",
    "\n",
    "# Fit model\n",
    "vi_model.fit(as_pr=as_pr, ar_pr=ar_pr, bs_pr=bs_pr, br_pr=br_pr, zc_pr=zc_pr, \n",
    "          max_iter=2500, tol=1e-5, callback=callback)"
   ]
  },
  {
   "cell_type": "code",
   "execution_count": 55,
   "metadata": {
    "scrolled": true
   },
   "outputs": [
    {
     "name": "stdout",
     "output_type": "stream",
     "text": [
      "as nan: False\n",
      "ar nan: False\n",
      "bs nan: False\n",
      "br nan: False\n",
      "bs < 0: False\n",
      "br < 0: False\n",
      "x0 < 0: False\n",
      "xn < 0: False\n",
      "x0 inf: False\n",
      "xn inf: False\n"
     ]
    }
   ],
   "source": [
    "print('as nan:', np.isnan(vi_model._as_po).any())\n",
    "print('ar nan:', np.isnan(vi_model._ar_po).any())\n",
    "print('bs nan:', np.isnan(vi_model._bs_po).any())\n",
    "print('br nan:', np.isnan(vi_model._br_po).any())\n",
    "print('bs < 0:', np.any(vi_model._bs_po < 0))\n",
    "print('br < 0:', np.any(vi_model._br_po < 0))\n",
    "print('x0 < 0:', np.any(vi_model._b_x0 < 0))\n",
    "print('xn < 0:', np.any(vi_model._b_xn < 0))\n",
    "print('x0 inf:', np.any(vi_model._b_x0 > 1e10))\n",
    "print('xn inf:', np.any(vi_model._b_xn > 1e10))"
   ]
  },
  {
   "cell_type": "code",
   "execution_count": 56,
   "metadata": {
    "scrolled": true
   },
   "outputs": [
    {
     "name": "stdout",
     "output_type": "stream",
     "text": [
      "(array([], dtype=int64), array([], dtype=int64))\n"
     ]
    },
    {
     "ename": "IndexError",
     "evalue": "index 0 is out of bounds for axis 0 with size 0",
     "output_type": "error",
     "traceback": [
      "\u001b[0;31m---------------------------------------------------------------------------\u001b[0m",
      "\u001b[0;31mIndexError\u001b[0m                                Traceback (most recent call last)",
      "\u001b[0;32m<ipython-input-56-87112a4c6e35>\u001b[0m in \u001b[0;36m<module>\u001b[0;34m\u001b[0m\n\u001b[1;32m      1\u001b[0m \u001b[0mzeros_indices\u001b[0m \u001b[0;34m=\u001b[0m \u001b[0mnp\u001b[0m\u001b[0;34m.\u001b[0m\u001b[0mwhere\u001b[0m\u001b[0;34m(\u001b[0m\u001b[0mvi_model\u001b[0m\u001b[0;34m.\u001b[0m\u001b[0m_b_xn\u001b[0m \u001b[0;34m>\u001b[0m \u001b[0;36m1e10\u001b[0m\u001b[0;34m)\u001b[0m\u001b[0;34m\u001b[0m\u001b[0;34m\u001b[0m\u001b[0m\n\u001b[1;32m      2\u001b[0m \u001b[0mprint\u001b[0m\u001b[0;34m(\u001b[0m\u001b[0mzeros_indices\u001b[0m\u001b[0;34m)\u001b[0m\u001b[0;34m\u001b[0m\u001b[0;34m\u001b[0m\u001b[0m\n\u001b[0;32m----> 3\u001b[0;31m \u001b[0mj\u001b[0m \u001b[0;34m=\u001b[0m \u001b[0mzeros_indices\u001b[0m\u001b[0;34m[\u001b[0m\u001b[0;36m0\u001b[0m\u001b[0;34m]\u001b[0m\u001b[0;34m[\u001b[0m\u001b[0;36m0\u001b[0m\u001b[0;34m]\u001b[0m\u001b[0;34m\u001b[0m\u001b[0;34m\u001b[0m\u001b[0m\n\u001b[0m\u001b[1;32m      4\u001b[0m \u001b[0mi\u001b[0m \u001b[0;34m=\u001b[0m \u001b[0mzeros_indices\u001b[0m\u001b[0;34m[\u001b[0m\u001b[0;36m1\u001b[0m\u001b[0;34m]\u001b[0m\u001b[0;34m[\u001b[0m\u001b[0;36m0\u001b[0m\u001b[0;34m]\u001b[0m\u001b[0;34m\u001b[0m\u001b[0;34m\u001b[0m\u001b[0m\n\u001b[1;32m      5\u001b[0m \u001b[0mj\u001b[0m\u001b[0;34m,\u001b[0m \u001b[0mi\u001b[0m\u001b[0;34m\u001b[0m\u001b[0;34m\u001b[0m\u001b[0m\n",
      "\u001b[0;31mIndexError\u001b[0m: index 0 is out of bounds for axis 0 with size 0"
     ]
    }
   ],
   "source": [
    "zeros_indices = np.where(vi_model._b_xn > 1e10)\n",
    "print(zeros_indices)\n",
    "j = zeros_indices[0][0]\n",
    "i = zeros_indices[1][0]\n",
    "j, i"
   ]
  },
  {
   "cell_type": "markdown",
   "metadata": {},
   "source": [
    "Extract variables where stuff went wrong"
   ]
  },
  {
   "cell_type": "code",
   "execution_count": 37,
   "metadata": {},
   "outputs": [],
   "source": [
    "j = 88\n",
    "i = 66\n",
    "n = 0\n",
    "bs_pr = vi_model._bs_pr\n",
    "br_pr = vi_model._br_pr\n",
    "as_po = vi_model._as_po\n",
    "ar_po = vi_model._ar_po\n",
    "zp_po = vi_model._zp_po\n",
    "dts = vi_model.dt_ik\n",
    "delta = vi_model.delta_ikj\n",
    "valid_mask = vi_model.valid_mask_ikj"
   ]
  },
  {
   "cell_type": "code",
   "execution_count": 38,
   "metadata": {},
   "outputs": [
    {
     "data": {
      "text/plain": [
       "(0.1, 0.1)"
      ]
     },
     "execution_count": 38,
     "metadata": {},
     "output_type": "execute_result"
    }
   ],
   "source": [
    "vi_model._b_x0[j,i], vi_model._b_xn[j,i]"
   ]
  },
  {
   "cell_type": "markdown",
   "metadata": {},
   "source": [
    "Vizualize the objective function and its derivatives"
   ]
  },
  {
   "cell_type": "code",
   "execution_count": 39,
   "metadata": {},
   "outputs": [
    {
     "data": {
      "image/png": "[encoded data removed]",
      "text/plain": [
       "<Figure size 1008x360 with 1 Axes>"
      ]
     },
     "metadata": {
      "needs_background": "light"
     },
     "output_type": "display_data"
    }
   ],
   "source": [
    "kwargs = {\n",
    "    'j': j, 'i': i, 'n': n,\n",
    "    'bs_pr': bs_pr, 'br_pr': br_pr, \n",
    "    'as_po': as_po, 'ar_po': ar_po,\n",
    "    'zp_po': zp_po,\n",
    "    'dts': dts, 'delta': delta, 'valid_mask': valid_mask,\n",
    "}\n",
    "\n",
    "x_range = np.linspace(-2.0, 10.0, 100)\n",
    "func_range = np.zeros_like(x_range)\n",
    "fprime_range = np.zeros_like(x_range)\n",
    "fprime2_range = np.zeros_like(x_range)\n",
    "for idx, xi in enumerate(x_range):\n",
    "    func_range[idx], fprime_range[idx], fprime2_range[idx] = tsvar.models._wold_var._beta_funcs(x=xi, **kwargs)\n",
    "    \n",
    "plt.figure(figsize=(14, 5))\n",
    "plt.plot(x_range, func_range, label='f')\n",
    "plt.plot(x_range, fprime_range, label='fprime')\n",
    "plt.plot(x_range, fprime2_range, label='fprime2')\n",
    "plt.grid()\n",
    "plt.ylim(-5.0, 5.0)\n",
    "plt.legend();"
   ]
  },
  {
   "cell_type": "code",
   "execution_count": 48,
   "metadata": {
    "scrolled": true
   },
   "outputs": [
    {
     "name": "stdout",
     "output_type": "stream",
     "text": [
      "it: 0\n",
      "func = 110.0 - 999.9999999999998 + -73.3504376493323  =  -963.3504376493321\n",
      "fprime = -1100.0 - -19999.999999999993 + 741.0777317786806  =  19641.077731778674\n",
      "fprime2 = 22000.0 - 599999.9999999998 + -14656.864487668798  =  -592656.8644876686\n",
      "x_new =  0.1 - -37842481.657627076 / 200607619.15146768 = 0.28863930401892823\n",
      "x = 0.10000 | x_new = 0.28864 | diff = 1.9e-01\n",
      "----\n",
      "it: 1\n",
      "func = 38.109847989650945 - 120.02979452845473 + -24.854499442009356  =  -106.77444598081314\n",
      "fprime = -132.03277398130018 - -831.694040674263 + 88.55133488387841  =  788.2126015768412\n",
      "fprime2 = 914.8634447416891 - 8644.290944725837 + -617.2301251082498  =  -8346.657625092397\n",
      "x_new =  0.28863930401892823 - -168321.92769692524 / 351348.4668582941 = 0.7677133389849407\n",
      "x = 0.28864 | x_new = 0.76771 | diff = 4.8e-01\n",
      "----\n",
      "it: 2\n",
      "func = 14.32826478506162 - 16.966873698416276 + -8.90415653426423  =  -11.542765447618885\n",
      "fprime = -18.663561068257902 - -44.201065259201116 + 12.636480991489337  =  38.17398518243255\n",
      "fprime2 = 48.62117178512123 - 172.72488185880596 + -32.36249881389761  =  -156.46620888758235\n",
      "x_new =  0.7677133389849407 - -881.2667143233956 / 1108.4535397496556 = 1.562754973767784\n",
      "x = 0.76771 | x_new = 1.56275 | diff = 8.0e-01\n",
      "----\n",
      "it: 3\n",
      "func = 7.03885137762776 - 4.0946635302753895 + -3.912360914590044  =  -0.9681730672376734\n",
      "fprime = -4.504129883302929 - -5.24031418745474 + 3.123765189277711  =  3.859949493429522\n",
      "fprime2 = 5.764345606200216 - 10.05976165570039 + -3.95754132999495  =  -8.252957379495124\n",
      "x_new =  1.562754973767784 - -7.4741982808723275 / 21.80812912376606 = 1.9054803051547435\n",
      "x = 1.56275 | x_new = 1.90548 | diff = 3.4e-01\n",
      "----\n",
      "it: 4\n",
      "func = 5.772822720991962 - 2.7541720800000853 + -3.0331007963328407  =  -0.014450155340964166\n",
      "fprime = -3.029589288000094 - -2.890790392899306 + 2.1058672123768387  =  1.9670683172760506\n",
      "fprime2 = 3.179869432189237 - 4.551278307751199 + -2.2085290852299253  =  -3.579937960791887\n",
      "x_new =  1.9054803051547435 - -0.056848885501855836 / 7.6869848700180095 = 1.9128757776921732\n",
      "x = 1.90548 | x_new = 1.91288 | diff = 7.4e-03\n",
      "----\n",
      "it: 5\n",
      "func = 5.750504098740362 - 2.7329171396388188 + -3.017587079583139  =  -1.2048159581112827e-07\n",
      "fprime = -3.0062088536027005 - -2.8573911296383296 + 2.089626941746091  =  1.94080921778172\n",
      "fprime2 = 3.1431302426021626 - 4.481301655278973 + -2.18348389737721  =  -3.52165531005402\n",
      "x_new =  1.9128757776921732 - -4.6766358344657845e-07 / 7.533480415358332 = 1.912875839770198\n",
      "x = 1.91288 | x_new = 1.91288 | diff = 6.2e-08\n",
      "----\n",
      "it: 6\n",
      "func = 5.750503912120861 - 2.73291696225763 + -3.0175869498632304  =  4.440892098500626e-16\n",
      "fprime = -3.006208658483393 - -2.8573908514479927 + 2.08962680619973  =  1.9408089991643296\n",
      "fprime2 = 3.1431299365927923 - 4.481301073557284 + -2.183483688742225  =  -3.5216548257067166\n",
      "x_new =  1.912875839770198 - 1.723784669817556e-15 / 7.533479142474495 = 1.9128758397701977\n",
      "x = 1.91288 | x_new = 1.91288 | diff = 2.2e-16\n",
      "----\n",
      "it: 7\n",
      "func = 5.750503912120862 - 2.732916962257631 + -3.0175869498632304  =  4.440892098500626e-16\n",
      "fprime = -3.006208658483394 - -2.857390851447994 + 2.08962680619973  =  1.94080899916433\n",
      "fprime2 = 3.1431299365927936 - 4.481301073557286 + -2.1834836887422253  =  -3.5216548257067175\n",
      "x_new =  1.9128758397701977 - 1.7237846698175563e-15 / 7.533479142474499 = 1.9128758397701975\n",
      "x = 1.91288 | x_new = 1.91288 | diff = 2.2e-16\n",
      "----\n",
      "it: 8\n",
      "func = 5.7505039121208625 - 2.7329169622576313 + -3.0175869498632313  =  0.0\n",
      "fprime = -3.006208658483395 - -2.857390851447995 + 2.089626806199731  =  1.940808999164331\n",
      "fprime2 = 3.143129936592795 - 4.481301073557288 + -2.1834836887422266  =  -3.5216548257067193\n",
      "x_new =  1.9128758397701975 - 0.0 / 7.533479142474504 = 1.9128758397701975\n",
      "x = 1.91288 | x_new = 1.91288 | diff = 0.0e+00\n",
      "----\n",
      "it: 9\n",
      "func = 5.7505039121208625 - 2.7329169622576313 + -3.0175869498632313  =  0.0\n",
      "fprime = -3.006208658483395 - -2.857390851447995 + 2.089626806199731  =  1.940808999164331\n",
      "fprime2 = 3.143129936592795 - 4.481301073557288 + -2.1834836887422266  =  -3.5216548257067193\n",
      "x_new =  1.9128758397701975 - 0.0 / 7.533479142474504 = 1.9128758397701975\n",
      "x = 1.91288 | x_new = 1.91288 | diff = 0.0e+00\n",
      "----\n"
     ]
    }
   ],
   "source": [
    "from tsvar.models._wold_var import expect_alpha\n",
    "\n",
    "x = 0.1\n",
    "\n",
    "for it in range(10):\n",
    "    print('it:', it)\n",
    "\n",
    "    a_mean = expect_alpha(as_po[j+1, i], ar_po[j+1, i])\n",
    "    x_p_delta = x + delta[i][:, j+1] + 1e-20\n",
    "\n",
    "    term1 = (bs_pr[j, i] + 1 - n) / x\n",
    "    term2 = br_pr[j, i] / (x ** 2)\n",
    "\n",
    "    mask = valid_mask[i][:, j+1]\n",
    "    term31 = zp_po[i][:, j+1] / x_p_delta\n",
    "    term32 = a_mean * dts[i] / (x_p_delta ** 2)\n",
    "\n",
    "    func = term1 - term2 + np.sum(mask * (term31 - term32))\n",
    "\n",
    "    print('func =', term1, '-', term2, '+', np.sum(mask * (term31 - term32)), ' = ', func)\n",
    "\n",
    "    term1 *= -1\n",
    "    term1 /= x\n",
    "    term2 *= -2\n",
    "    term2 /= x\n",
    "    term31 *= -1\n",
    "    term31 /= x_p_delta\n",
    "    term32 *= -2\n",
    "    term32 /= x_p_delta\n",
    "\n",
    "    fprime = term1 - term2 + np.sum(mask * (term31 - term32))\n",
    "\n",
    "    print('fprime =', term1, '-', term2, '+', np.sum(mask * (term31 - term32)), ' = ', fprime)\n",
    "\n",
    "    term1 *= -2\n",
    "    term1 /= x\n",
    "    term2 *= -3\n",
    "    term2 /= x\n",
    "    term31 *= -2\n",
    "    term31 /= x_p_delta\n",
    "    term32 *= -3\n",
    "    term32 /= x_p_delta\n",
    "\n",
    "    fprime2 = term1 - term2 + np.sum(mask * (term31 - term32))\n",
    "\n",
    "    print('fprime2 =', term1, '-', term2, '+', np.sum(mask * (term31 - term32)), ' = ', fprime2)\n",
    "\n",
    "    f = func\n",
    "    fp = fprime\n",
    "    fpp = fprime2\n",
    "\n",
    "    x_new = x - (2 * f * fp) / (2 * fp**2 - f * fpp)\n",
    "    print('x_new = ', x, '-', (2 * f * fp), '/', (2 * fp**2 - f * fpp), '=', x_new)\n",
    "\n",
    "    print(f'x = {x:.5f} | x_new = {x_new:.5f} | diff = {abs(x - x_new):.1e}')\n",
    "\n",
    "    x = x_new\n",
    "    \n",
    "    print('----')"
   ]
  },
  {
   "cell_type": "code",
   "execution_count": null,
   "metadata": {},
   "outputs": [],
   "source": []
  },
  {
   "cell_type": "code",
   "execution_count": null,
   "metadata": {},
   "outputs": [],
   "source": []
  },
  {
   "cell_type": "code",
   "execution_count": null,
   "metadata": {},
   "outputs": [],
   "source": []
  },
  {
   "cell_type": "markdown",
   "metadata": {},
   "source": [
    "Print performance report"
   ]
  },
  {
   "cell_type": "code",
   "execution_count": 68,
   "metadata": {
    "scrolled": false
   },
   "outputs": [
    {
     "name": "stdout",
     "output_type": "stream",
     "text": [
      "Accuracy: 0.69\n",
      "\n",
      "Edge counts\n",
      "------------\n",
      "Pred: 1540.00\n",
      "True: 2177.00\n",
      "\n",
      "Error counts\n",
      "------------\n",
      " True Positive: 306.00\n",
      "False Positive: 1234.00\n",
      " True Negative: 6589.00\n",
      "False Negative: 1871.00\n",
      "\n",
      "Error rates\n",
      "-----------\n",
      " True Positive Rate: 0.14\n",
      "False Positive Rate: 0.16\n",
      " True Negative Rate: 0.84\n",
      "False Negative Rate: 0.86\n",
      "\n",
      "F-Score\n",
      "-------\n",
      " F1-Score: 0.16\n",
      "Precision: 0.20\n",
      "   Recall: 0.14\n",
      "\n",
      "Precision@k\n",
      "-----------\n",
      " Prec@5: 0.00\n",
      "Prec@10: 0.10\n",
      "Prec@20: 0.20\n",
      "\n",
      "Average Precision@k per node\n",
      "----------------------------\n",
      "AvgPrec@k per node:\n",
      "5 0.05400000000000002\n",
      "10 0.10899999999999987\n",
      "20 0.1895\n",
      "\n"
     ]
    }
   ],
   "source": [
    "adj_hat_mode = (vi_model._as_po[1:, :] - 1) / vi_model._ar_po[1:, :] \n",
    "adj_hat_mode[adj_hat_mode < 0] = 0\n",
    "adj_hat_mean = vi_model._as_po[1:, :] / vi_model._ar_po[1:, :]\n",
    "adj_hat_std = np.sqrt(vi_model._as_po[1:, :] / vi_model._ar_po[1:, :] ** 2)\n",
    "\n",
    "beta_mean = vi_model._br_po / (vi_model._bs_po - 1)\n",
    "beta_mode = vi_model._br_po / (vi_model._bs_po + 1)\n",
    "beta_std = vi_model._br_po ** 2 / ((vi_model._bs_po - 1) ** 2 * (vi_model._bs_po - 2))\n",
    "\n",
    "#adj_hat = adj_hat_mean / adj_hat_std\n",
    "adj_hat = adj_hat_mean\n",
    "#adj_hat = adj_hat_mode\n",
    "\n",
    "experiments_utils.print_report(adj_hat=adj_hat, adj_true=adjacency_true, thresh=0.001)"
   ]
  },
  {
   "cell_type": "code",
   "execution_count": 82,
   "metadata": {},
   "outputs": [
    {
     "data": {
      "image/png": "[encoded data removed]",
      "text/plain": [
       "<Figure size 720x360 with 1 Axes>"
      ]
     },
     "metadata": {
      "needs_background": "light"
     },
     "output_type": "display_data"
    }
   ],
   "source": [
    "plt.figure(figsize=(10, 5))\n",
    "plt.grid()\n",
    "plt.boxplot(\n",
    "    [adj_hat[adjacency_true == 0.0], adj_hat[adjacency_true > 0.0], adj_hat[np.eye(adj_hat.shape[0]).astype(bool)]],\n",
    "    labels=['True Non-edges', 'True Edges', 'Diag'])\n",
    "plt.ylabel(r'Learned value of paramaters')\n",
    "plt.title('Distribution of learned adjacency weights');"
   ]
  },
  {
   "cell_type": "code",
   "execution_count": 84,
   "metadata": {},
   "outputs": [
    {
     "data": {
      "text/plain": [
       "array([ 0.00,  0.00,  0.00,  0.00,  0.00,  0.00,  0.03,  0.00,  0.00,  0.01,  0.00,  0.00,  0.00,  0.01,  0.00,  0.00,  0.00,  0.00,  0.00,  0.02,  0.01,  0.00,  0.00,  0.01,  0.00,  0.00,  0.00,  0.02,  0.00,  0.00,  0.00,  0.00,  0.00,  0.01,  0.00,  0.00,  0.00,  0.00,  0.00,  0.01,  0.00,  0.00,  0.00,  0.01,  0.00,  0.00,  0.00,  0.00,  0.00,  0.01,  0.02,  0.00,  0.00,  0.00,  0.00,  0.00,\n",
       "        0.01,  0.01,  0.01,  0.00,  0.00,  0.00,  0.00,  0.00,  0.00,  0.00,  1.00,  0.01,  0.01,  0.00,  0.00,  0.00,  0.00,  0.00,  0.01,  0.00,  0.00,  0.01,  0.00,  0.00,  0.01,  0.00,  0.00,  0.00,  0.00,  0.00,  0.00,  0.02,  0.00,  0.00,  0.00,  0.00,  0.00,  0.00,  0.00,  0.00,  0.00,  0.01,  0.01,  0.00])"
      ]
     },
     "execution_count": 84,
     "metadata": {},
     "output_type": "execute_result"
    }
   ],
   "source": [
    "adjacency_true[np.eye(adj_hat.shape[0]).astype(bool)]"
   ]
  },
  {
   "cell_type": "code",
   "execution_count": 85,
   "metadata": {},
   "outputs": [
    {
     "data": {
      "text/plain": [
       "array([ 0.00,  0.00,  0.00, ...,  0.00,  0.00,  0.15])"
      ]
     },
     "execution_count": 85,
     "metadata": {},
     "output_type": "execute_result"
    }
   ],
   "source": [
    "top_edges = np.argsort(adj_hat.flatten())[::-1]\n",
    "adjacency_true.flatten()[top_edges]"
   ]
  },
  {
   "cell_type": "markdown",
   "metadata": {},
   "source": [
    "---\n",
    "\n",
    "### Run GB"
   ]
  },
  {
   "cell_type": "code",
   "execution_count": 90,
   "metadata": {},
   "outputs": [],
   "source": [
    "import gb\n",
    "import time\n",
    "\n",
    "dim = len(events)\n",
    "\n",
    "# Define model\n",
    "granger_model = gb.GrangerBusca(\n",
    "    alpha_prior=1.0/len(events),\n",
    "    num_iter=300,\n",
    "    metropolis=True,\n",
    "    beta_strategy='busca',\n",
    "    num_jobs=4,\n",
    ")\n",
    "granger_model.fit(events)"
   ]
  },
  {
   "cell_type": "code",
   "execution_count": 91,
   "metadata": {},
   "outputs": [
    {
     "name": "stdout",
     "output_type": "stream",
     "text": [
      "Accuracy: 0.30\n",
      "\n",
      "Edge counts\n",
      "------------\n",
      "Pred: 208.00\n",
      "True: 1401.00\n",
      "\n",
      "Error counts\n",
      "------------\n",
      " True Positive: 87.00\n",
      "False Positive: 121.00\n",
      " True Negative: 3102.00\n",
      "False Negative: 1314.00\n",
      "\n",
      "Error rates\n",
      "-----------\n",
      " True Positive Rate: 0.06\n",
      "False Positive Rate: 0.04\n",
      " True Negative Rate: 0.96\n",
      "False Negative Rate: 0.94\n",
      "\n",
      "F-Score\n",
      "-------\n",
      " F1-Score: 0.11\n",
      "Precision: 0.42\n",
      "   Recall: 0.06\n",
      "\n",
      "Precision@k\n",
      "-----------\n",
      " Prec@5: 0.60\n",
      "Prec@10: 0.80\n",
      "Prec@20: 0.70\n",
      "\n",
      "Average Precision@k per node\n",
      "----------------------------\n",
      "AvgPrec@k per node:\n",
      "5 0.1705882352941176\n",
      "10 0.16029411764705878\n",
      "20 0.12573529411764706\n",
      "\n"
     ]
    }
   ],
   "source": [
    "# Extract infered adjacency\n",
    "adj_hat = granger_model.Alpha_.toarray()\n",
    "adj_hat = adj_hat / adj_hat.sum(axis=1)[:, None]\n",
    "beta_hat = np.ones((dim, dim)) * (granger_model.beta_ + 1)\n",
    "coeffs_hat = np.hstack((granger_model.mu_, beta_hat.flatten(),\n",
    "                        adj_hat.flatten()))\n",
    "\n",
    "#adj_hat = adj_hat / beta_hat  # Does not matter\n",
    "\n",
    "\n",
    "experiments_utils.print_report(adj_hat=adj_hat, adj_true=adjacency_true, thresh=0.0)"
   ]
  },
  {
   "cell_type": "code",
   "execution_count": 171,
   "metadata": {
    "scrolled": true
   },
   "outputs": [
    {
     "data": {
      "text/plain": [
       "KendalltauResult(correlation=0.03204881895953531, pvalue=0.0007088376296667749)"
      ]
     },
     "execution_count": 171,
     "metadata": {},
     "output_type": "execute_result"
    }
   ],
   "source": [
    "scipy.stats.kendalltau(adj_hat.flatten(), adjacency_true.flatten())"
   ]
  },
  {
   "cell_type": "code",
   "execution_count": 172,
   "metadata": {},
   "outputs": [
    {
     "data": {
      "text/plain": [
       "0.05585231454261796"
      ]
     },
     "execution_count": 172,
     "metadata": {},
     "output_type": "execute_result"
    }
   ],
   "source": [
    "tsvar.utils.metrics.mean_kendall_rank_corr(adj_hat.flatten(), adjacency_true.flatten())"
   ]
  },
  {
   "cell_type": "code",
   "execution_count": 173,
   "metadata": {
    "scrolled": true
   },
   "outputs": [
    {
     "data": {
      "text/plain": [
       "<matplotlib.collections.PathCollection at 0x197b8d860>"
      ]
     },
     "execution_count": 173,
     "metadata": {},
     "output_type": "execute_result"
    },
    {
     "data": {
      "image/png": "[encoded data removed]",
      "text/plain": [
       "<Figure size 432x288 with 1 Axes>"
      ]
     },
     "metadata": {
      "needs_background": "light"
     },
     "output_type": "display_data"
    }
   ],
   "source": [
    "plt.scatter(adj_hat.flatten(), adjacency_true.flatten())"
   ]
  },
  {
   "cell_type": "code",
   "execution_count": 174,
   "metadata": {},
   "outputs": [],
   "source": [
    "mean_rank_corr, rank_corr_per_dim = tsvar.utils.metrics.mean_kendall_rank_corr(\n",
    "    adj_hat.flatten(), adjacency_true.flatten(), return_vec=True)"
   ]
  },
  {
   "cell_type": "code",
   "execution_count": 175,
   "metadata": {},
   "outputs": [
    {
     "data": {
      "text/plain": [
       "0.05585231454261796"
      ]
     },
     "execution_count": 175,
     "metadata": {},
     "output_type": "execute_result"
    }
   ],
   "source": [
    "mean_rank_corr"
   ]
  },
  {
   "cell_type": "code",
   "execution_count": 176,
   "metadata": {},
   "outputs": [
    {
     "data": {
      "text/plain": [
       "(array([  6.00,  31.00,  10.00,  13.00,  18.00,  14.00,   1.00,   2.00,   2.00,   2.00]),\n",
       " array([-0.16, -0.10, -0.03,  0.03,  0.10,  0.16,  0.22,  0.29,  0.35,  0.42,  0.48]),\n",
       " <a list of 10 Patch objects>)"
      ]
     },
     "execution_count": 176,
     "metadata": {},
     "output_type": "execute_result"
    },
    {
     "data": {
      "image/png": "[encoded data removed]",
      "text/plain": [
       "<Figure size 432x288 with 1 Axes>"
      ]
     },
     "metadata": {
      "needs_background": "light"
     },
     "output_type": "display_data"
    }
   ],
   "source": [
    "plt.hist(rank_corr_per_dim)"
   ]
  },
  {
   "cell_type": "code",
   "execution_count": 177,
   "metadata": {},
   "outputs": [
    {
     "name": "stdout",
     "output_type": "stream",
     "text": [
      "Kendall correlation coefficient: 0.032\n",
      "Samples are correlated (reject H0) p=0.001\n"
     ]
    }
   ],
   "source": [
    "from scipy.stats import kendalltau\n",
    "\n",
    "# calculate kendall's correlation\n",
    "coef, p = kendalltau(\n",
    "    x=adj_hat.flatten(),\n",
    "    y=adjacency_true.flatten()\n",
    ")\n",
    "\n",
    "print('Kendall correlation coefficient: %.3f' % coef)\n",
    "# interpret the significance\n",
    "alpha = 0.05\n",
    "if p > alpha:\n",
    "    print('Samples are uncorrelated (fail to reject H0) p=%.3f' % p)\n",
    "else:\n",
    "    print('Samples are correlated (reject H0) p=%.3f' % p)"
   ]
  },
  {
   "cell_type": "markdown",
   "metadata": {},
   "source": [
    "---\n",
    "\n",
    "## Exploration of results"
   ]
  },
  {
   "cell_type": "code",
   "execution_count": 167,
   "metadata": {},
   "outputs": [
    {
     "data": {
      "text/plain": [
       "array([[0.00141, 0.00181, 0.00855, ..., 0.00943, 0.00923, 0.01304],\n",
       "       [0.00311, 0.00129, 0.01251, ..., 0.00915, 0.00726, 0.01185],\n",
       "       [0.00343, 0.00186, 0.04852, ..., 0.0099 , 0.00796, 0.01432],\n",
       "       ...,\n",
       "       [0.02883, 0.01501, 0.01245, ..., 0.00958, 0.01153, 0.02437],\n",
       "       [0.01216, 0.00995, 0.00887, ..., 0.03078, 0.01442, 0.02328],\n",
       "       [0.00137, 0.00276, 0.00194, ..., 0.0191 , 0.01991, 0.01562]])"
      ]
     },
     "execution_count": 167,
     "metadata": {},
     "output_type": "execute_result"
    }
   ],
   "source": [
    "adj_hat = vifb_model._as_po[1:, :] / vifb_model._ar_po[1:, :]\n",
    "adj_hat"
   ]
  },
  {
   "cell_type": "code",
   "execution_count": 168,
   "metadata": {},
   "outputs": [
    {
     "data": {
      "text/plain": [
       "(array([  0,   0,   0, ..., 622, 622, 622]),\n",
       " array([  0,   1,   2, ..., 620, 621, 622]))"
      ]
     },
     "execution_count": 168,
     "metadata": {},
     "output_type": "execute_result"
    }
   ],
   "source": [
    "adj_hat.nonzero()"
   ]
  },
  {
   "cell_type": "code",
   "execution_count": null,
   "metadata": {},
   "outputs": [],
   "source": []
  },
  {
   "cell_type": "code",
   "execution_count": 170,
   "metadata": {},
   "outputs": [
    {
     "name": "stdout",
     "output_type": "stream",
     "text": [
      "0.01 68288\n",
      "0.017 31004\n",
      "0.025 17360\n",
      "0.032 11503\n",
      "0.039 8389\n",
      "0.047 6450\n",
      "0.054 5161\n",
      "0.062 4092\n",
      "0.069 3304\n",
      "0.076 2612\n",
      "0.084 2068\n",
      "0.091 1641\n",
      "0.098 1313\n",
      "0.106 912\n",
      "0.113 804\n",
      "0.121 720\n",
      "0.128 658\n",
      "0.135 604\n",
      "0.143 551\n",
      "0.15 516\n"
     ]
    }
   ],
   "source": [
    "adj_hat = vifb_model._as_po[1:, :] / vifb_model._ar_po[1:, :]\n",
    "\n",
    "thresh_list = np.linspace(0.01, 0.15, 20)\n",
    "\n",
    "vals_vifb = {\n",
    "    5: np.zeros_like(thresh_list),\n",
    "    10: np.zeros_like(thresh_list),\n",
    "    20: np.zeros_like(thresh_list),\n",
    "}\n",
    "\n",
    "for i, thresh in enumerate(thresh_list):\n",
    "\n",
    "    adj_hat_thresh = adj_hat.copy()\n",
    "    adj_hat_thresh[adj_hat_thresh < thresh] = 0.0\n",
    "    print(np.round(thresh, 3), len(adj_hat_thresh.nonzero()[0]))\n",
    "\n",
    "    for k in [5, 10, 20]:\n",
    "        vals_vifb[k][i] = tsvar.utils.metrics.precision_at_n_per_dim(A_pred=adj_hat_thresh, A_true=adjacency_true, k=k)"
   ]
  },
  {
   "cell_type": "code",
   "execution_count": 159,
   "metadata": {},
   "outputs": [],
   "source": [
    "thresh_list = np.linspace(0.01, 0.15, 20)\n",
    "\n",
    "vals_gb = {\n",
    "    5: np.zeros_like(thresh_list),\n",
    "    10: np.zeros_like(thresh_list),\n",
    "    20: np.zeros_like(thresh_list),\n",
    "}\n",
    "\n",
    "for i, thresh in enumerate(thresh_list):\n",
    "\n",
    "    adj_hat_thresh = adj_hat.copy()\n",
    "    adj_hat_thresh[adj_hat_thresh < thresh] = 0.0\n",
    "\n",
    "    for k in [5, 10, 20]:\n",
    "        vals_gb[k][i] = tsvar.utils.metrics.precision_at_n_per_dim(A_pred=adj_hat_thresh, A_true=adjacency_true, k=k)"
   ]
  },
  {
   "cell_type": "code",
   "execution_count": 161,
   "metadata": {},
   "outputs": [
    {
     "data": {
      "image/png": "[encoded data removed]",
      "text/plain": [
       "<Figure size 864x432 with 1 Axes>"
      ]
     },
     "metadata": {
      "needs_background": "light"
     },
     "output_type": "display_data"
    }
   ],
   "source": [
    "plt.figure(figsize=(12, 6))\n",
    "plt.grid()\n",
    "\n",
    "plt.plot(thresh_list, vals_vifb[5], label='p@5')\n",
    "plt.plot(thresh_list, vals_vifb[10], label='p@10')\n",
    "plt.plot(thresh_list, vals_vifb[20], label='p@20')\n",
    "\n",
    "plt.plot(thresh_list, vals_gb[5],   label='p@5', c='C0', ls='--')\n",
    "plt.plot(thresh_list, vals_gb[10], label='p@10', c='C1', ls='--')\n",
    "plt.plot(thresh_list, vals_gb[20], label='p@20', c='C2', ls='--')\n",
    "\n",
    "plt.legend();"
   ]
  },
  {
   "cell_type": "code",
   "execution_count": null,
   "metadata": {},
   "outputs": [],
   "source": []
  }
 ],
 "metadata": {
  "kernelspec": {
   "display_name": "Python 3",
   "language": "python",
   "name": "python3"
  },
  "language_info": {
   "codemirror_mode": {
    "name": "ipython",
    "version": 3
   },
   "file_extension": ".py",
   "mimetype": "text/x-python",
   "name": "python",
   "nbconvert_exporter": "python",
   "pygments_lexer": "ipython3",
   "version": "3.6.10"
  }
 },
 "nbformat": 4,
 "nbformat_minor": 4
}

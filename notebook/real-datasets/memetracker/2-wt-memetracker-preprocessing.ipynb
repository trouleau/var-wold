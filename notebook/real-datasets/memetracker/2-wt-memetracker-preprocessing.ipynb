{
 "cells": [
  {
   "cell_type": "code",
   "execution_count": 1,
   "metadata": {},
   "outputs": [],
   "source": [
    "import os\n",
    "import glob\n",
    "import gzip\n",
    "import pickle\n",
    "import pandas as pd\n",
    "import numpy as np\n",
    "import multiprocessing\n",
    "\n",
    "from datetime import datetime\n",
    "import pytz\n",
    "\n",
    "from matplotlib import pyplot as plt\n",
    "%matplotlib inline\n",
    "\n",
    "import networkx as nx\n",
    "\n",
    "from tsvar.preprocessing import Dataset"
   ]
  },
  {
   "cell_type": "markdown",
   "metadata": {},
   "source": [
    "Set larger cell width"
   ]
  },
  {
   "cell_type": "code",
   "execution_count": 2,
   "metadata": {},
   "outputs": [
    {
     "data": {
      "text/html": [
       "<style>.container { width:80% !important; }</style>"
      ],
      "text/plain": [
       "<IPython.core.display.HTML object>"
      ]
     },
     "metadata": {},
     "output_type": "display_data"
    }
   ],
   "source": [
    "from IPython.core.display import display, HTML\n",
    "display(HTML(\"<style>.container { width:80% !important; }</style>\"))"
   ]
  },
  {
   "cell_type": "markdown",
   "metadata": {},
   "source": [
    "---"
   ]
  },
  {
   "cell_type": "markdown",
   "metadata": {},
   "source": [
    "## 1. Load the raw MemeTracker dataframe"
   ]
  },
  {
   "cell_type": "markdown",
   "metadata": {},
   "source": [
    "Load raw dataframes (in parallel)"
   ]
  },
  {
   "cell_type": "code",
   "execution_count": 3,
   "metadata": {},
   "outputs": [],
   "source": [
    "list_df_files = sorted(glob.glob('/root/workspace/nphc/nphc/datasets/memetracker/data/df_*.csv'))\n",
    "\n",
    "def worker(fname):\n",
    "    return pd.read_csv(fname)\n",
    "\n",
    "pool = multiprocessing.Pool(len(list_df_files))\n",
    "\n",
    "jobs = list()\n",
    "for fname in list_df_files:\n",
    "    job = pool.apply_async(worker, (fname, ))\n",
    "    jobs.append(job)\n",
    "\n",
    "data = list()\n",
    "for job in jobs:\n",
    "    data.append(job.get())\n",
    "\n",
    "df = pd.concat(data, ignore_index=True)\n",
    "del data\n",
    "\n",
    "pool.close()\n",
    "pool.terminate()"
   ]
  },
  {
   "cell_type": "markdown",
   "metadata": {},
   "source": [
    "* `Blog` = receiver\n",
    "* `Hyperlink` = sender"
   ]
  },
  {
   "cell_type": "markdown",
   "metadata": {},
   "source": [
    "Vizualize the dataset"
   ]
  },
  {
   "cell_type": "code",
   "execution_count": 7,
   "metadata": {
    "scrolled": false
   },
   "outputs": [
    {
     "name": "stdout",
     "output_type": "stream",
     "text": [
      "(141578503, 5)\n"
     ]
    },
    {
     "data": {
      "text/html": [
       "<div>\n",
       "<style scoped>\n",
       "    .dataframe tbody tr th:only-of-type {\n",
       "        vertical-align: middle;\n",
       "    }\n",
       "\n",
       "    .dataframe tbody tr th {\n",
       "        vertical-align: top;\n",
       "    }\n",
       "\n",
       "    .dataframe thead th {\n",
       "        text-align: right;\n",
       "    }\n",
       "</style>\n",
       "<table border=\"1\" class=\"dataframe\">\n",
       "  <thead>\n",
       "    <tr style=\"text-align: right;\">\n",
       "      <th></th>\n",
       "      <th>Date</th>\n",
       "      <th>Hyperlink</th>\n",
       "      <th>Blog</th>\n",
       "      <th>PostNb</th>\n",
       "      <th>WeightOfLink</th>\n",
       "    </tr>\n",
       "  </thead>\n",
       "  <tbody>\n",
       "    <tr>\n",
       "      <th>0</th>\n",
       "      <td>2008-08-01 00:00:00</td>\n",
       "      <td></td>\n",
       "      <td>http://codeproject.com</td>\n",
       "      <td>0</td>\n",
       "      <td>1.0</td>\n",
       "    </tr>\n",
       "    <tr>\n",
       "      <th>1</th>\n",
       "      <td>2008-08-01 00:00:01</td>\n",
       "      <td></td>\n",
       "      <td>http://wallstreetexaminer.com</td>\n",
       "      <td>1</td>\n",
       "      <td>1.0</td>\n",
       "    </tr>\n",
       "    <tr>\n",
       "      <th>2</th>\n",
       "      <td>2008-08-01 00:00:01</td>\n",
       "      <td></td>\n",
       "      <td>http://news.bbc.co.uk</td>\n",
       "      <td>2</td>\n",
       "      <td>1.0</td>\n",
       "    </tr>\n",
       "    <tr>\n",
       "      <th>3</th>\n",
       "      <td>2008-08-01 00:00:01</td>\n",
       "      <td></td>\n",
       "      <td>http://news.bbc.co.uk</td>\n",
       "      <td>3</td>\n",
       "      <td>1.0</td>\n",
       "    </tr>\n",
       "    <tr>\n",
       "      <th>4</th>\n",
       "      <td>2008-08-01 00:00:01</td>\n",
       "      <td></td>\n",
       "      <td>http://news.bbc.co.uk</td>\n",
       "      <td>4</td>\n",
       "      <td>1.0</td>\n",
       "    </tr>\n",
       "    <tr>\n",
       "      <th>...</th>\n",
       "      <td>...</td>\n",
       "      <td>...</td>\n",
       "      <td>...</td>\n",
       "      <td>...</td>\n",
       "      <td>...</td>\n",
       "    </tr>\n",
       "    <tr>\n",
       "      <th>141578498</th>\n",
       "      <td>2009-05-01 00:00:00</td>\n",
       "      <td>http://foulweather.blogspot.com</td>\n",
       "      <td>http://foulweather.blogspot.com</td>\n",
       "      <td>15312736</td>\n",
       "      <td>0.2</td>\n",
       "    </tr>\n",
       "    <tr>\n",
       "      <th>141578499</th>\n",
       "      <td>2009-05-01 00:00:00</td>\n",
       "      <td>http://2.bp.blogspot.com</td>\n",
       "      <td>http://foulweather.blogspot.com</td>\n",
       "      <td>15312736</td>\n",
       "      <td>0.2</td>\n",
       "    </tr>\n",
       "    <tr>\n",
       "      <th>141578500</th>\n",
       "      <td>2009-05-01 00:00:00</td>\n",
       "      <td>http://dischord.com</td>\n",
       "      <td>http://foulweather.blogspot.com</td>\n",
       "      <td>15312736</td>\n",
       "      <td>0.2</td>\n",
       "    </tr>\n",
       "    <tr>\n",
       "      <th>141578501</th>\n",
       "      <td>2009-05-01 00:00:00</td>\n",
       "      <td>http://stream.publicbroadcasting.net</td>\n",
       "      <td>http://foulweather.blogspot.com</td>\n",
       "      <td>15312736</td>\n",
       "      <td>0.2</td>\n",
       "    </tr>\n",
       "    <tr>\n",
       "      <th>141578502</th>\n",
       "      <td>2009-05-01 00:00:00</td>\n",
       "      <td>http://blogger.com</td>\n",
       "      <td>http://foulweather.blogspot.com</td>\n",
       "      <td>15312736</td>\n",
       "      <td>0.2</td>\n",
       "    </tr>\n",
       "  </tbody>\n",
       "</table>\n",
       "<p>141578503 rows × 5 columns</p>\n",
       "</div>"
      ],
      "text/plain": [
       "                          Date                             Hyperlink  \\\n",
       "0          2008-08-01 00:00:00                                         \n",
       "1          2008-08-01 00:00:01                                         \n",
       "2          2008-08-01 00:00:01                                         \n",
       "3          2008-08-01 00:00:01                                         \n",
       "4          2008-08-01 00:00:01                                         \n",
       "...                        ...                                   ...   \n",
       "141578498  2009-05-01 00:00:00       http://foulweather.blogspot.com   \n",
       "141578499  2009-05-01 00:00:00              http://2.bp.blogspot.com   \n",
       "141578500  2009-05-01 00:00:00                   http://dischord.com   \n",
       "141578501  2009-05-01 00:00:00  http://stream.publicbroadcasting.net   \n",
       "141578502  2009-05-01 00:00:00                    http://blogger.com   \n",
       "\n",
       "                                      Blog    PostNb  WeightOfLink  \n",
       "0                   http://codeproject.com         0           1.0  \n",
       "1            http://wallstreetexaminer.com         1           1.0  \n",
       "2                    http://news.bbc.co.uk         2           1.0  \n",
       "3                    http://news.bbc.co.uk         3           1.0  \n",
       "4                    http://news.bbc.co.uk         4           1.0  \n",
       "...                                    ...       ...           ...  \n",
       "141578498  http://foulweather.blogspot.com  15312736           0.2  \n",
       "141578499  http://foulweather.blogspot.com  15312736           0.2  \n",
       "141578500  http://foulweather.blogspot.com  15312736           0.2  \n",
       "141578501  http://foulweather.blogspot.com  15312736           0.2  \n",
       "141578502  http://foulweather.blogspot.com  15312736           0.2  \n",
       "\n",
       "[141578503 rows x 5 columns]"
      ]
     },
     "execution_count": 7,
     "metadata": {},
     "output_type": "execute_result"
    }
   ],
   "source": [
    "print(df.shape)\n",
    "df"
   ]
  },
  {
   "cell_type": "markdown",
   "metadata": {},
   "source": [
    "Save it for later use"
   ]
  },
  {
   "cell_type": "raw",
   "metadata": {},
   "source": [
    "df.to_csv('/root/workspace/var-wold/data/memetracker/df_200808-200904.csv.gzip', compression='gzip')"
   ]
  },
  {
   "cell_type": "markdown",
   "metadata": {},
   "source": [
    "---\n",
    "\n",
    "## 2. Clean the dataframe\n",
    "\n",
    "### 2.1. Clean columns"
   ]
  },
  {
   "cell_type": "markdown",
   "metadata": {},
   "source": [
    "#### Clean the `Hyperlink column`"
   ]
  },
  {
   "cell_type": "code",
   "execution_count": 8,
   "metadata": {},
   "outputs": [],
   "source": [
    "df['Hyperlink'] = df['Hyperlink'].str.strip()  # Remove whitespaces"
   ]
  },
  {
   "cell_type": "markdown",
   "metadata": {},
   "source": [
    "#### Cast `Date` and build timestamps"
   ]
  },
  {
   "cell_type": "code",
   "execution_count": 9,
   "metadata": {
    "scrolled": false
   },
   "outputs": [],
   "source": [
    "df['Date'] = pd.to_datetime(df['Date'])\n",
    "df['Timestamp'] = df['Date'].values.astype(np.int64) // (10 ** 9)\n",
    "\n",
    "# NOTE: We don't use a time-zone here, so to get back the same datetime, we need to use: \n",
    "# df_filtered.Timestamp.apply(lambda t: datetime.fromtimestamp(t - 2*3600))"
   ]
  },
  {
   "cell_type": "markdown",
   "metadata": {},
   "source": [
    "### 2.2. Filter invalid events\n",
    "\n",
    "#### Self-references\n",
    "\n",
    "Only keep cross-references between different sites (i.e., remove self references)"
   ]
  },
  {
   "cell_type": "code",
   "execution_count": 10,
   "metadata": {},
   "outputs": [
    {
     "name": "stdout",
     "output_type": "stream",
     "text": [
      "111,893,425 events are cross-sites out of the 141,578,503 (79.03%)\n"
     ]
    }
   ],
   "source": [
    "cross_event_mask = df.Hyperlink != df.Blog\n",
    "print(f'{np.sum(cross_event_mask):,d} events are cross-sites'\n",
    "      f' out of the {len(df):,d} ({np.sum(cross_event_mask)*100/len(df):.2f}%)')"
   ]
  },
  {
   "cell_type": "markdown",
   "metadata": {},
   "source": [
    "#### Blogs with no hyperlink"
   ]
  },
  {
   "cell_type": "code",
   "execution_count": 11,
   "metadata": {},
   "outputs": [
    {
     "name": "stdout",
     "output_type": "stream",
     "text": [
      "39,875,581 posts have zero hyperlinksout of the 141,578,503 (28.16%)\n"
     ]
    }
   ],
   "source": [
    "null_hp_mask = df.Hyperlink.apply(len) == 0  # Build mask of valid hyperlinks\n",
    "print(f'{np.sum(null_hp_mask):,d} posts have zero hyperlinks'\n",
    "      f'out of the {len(df):,d} ({np.sum(null_hp_mask)*100/len(df):.2f}%)')"
   ]
  },
  {
   "cell_type": "markdown",
   "metadata": {},
   "source": [
    "Filter the dataframe based on these masks"
   ]
  },
  {
   "cell_type": "code",
   "execution_count": 12,
   "metadata": {},
   "outputs": [
    {
     "name": "stdout",
     "output_type": "stream",
     "text": [
      "Keep 141,578,503 out of the 141,578,503 events (100.00%)\n"
     ]
    },
    {
     "data": {
      "text/html": [
       "<div>\n",
       "<style scoped>\n",
       "    .dataframe tbody tr th:only-of-type {\n",
       "        vertical-align: middle;\n",
       "    }\n",
       "\n",
       "    .dataframe tbody tr th {\n",
       "        vertical-align: top;\n",
       "    }\n",
       "\n",
       "    .dataframe thead th {\n",
       "        text-align: right;\n",
       "    }\n",
       "</style>\n",
       "<table border=\"1\" class=\"dataframe\">\n",
       "  <thead>\n",
       "    <tr style=\"text-align: right;\">\n",
       "      <th></th>\n",
       "      <th>Date</th>\n",
       "      <th>Hyperlink</th>\n",
       "      <th>Blog</th>\n",
       "      <th>PostNb</th>\n",
       "      <th>WeightOfLink</th>\n",
       "      <th>Timestamp</th>\n",
       "    </tr>\n",
       "  </thead>\n",
       "  <tbody>\n",
       "    <tr>\n",
       "      <th>0</th>\n",
       "      <td>2008-08-01 00:00:00</td>\n",
       "      <td></td>\n",
       "      <td>http://codeproject.com</td>\n",
       "      <td>0</td>\n",
       "      <td>1.0</td>\n",
       "      <td>1217548800</td>\n",
       "    </tr>\n",
       "    <tr>\n",
       "      <th>1</th>\n",
       "      <td>2008-08-01 00:00:01</td>\n",
       "      <td></td>\n",
       "      <td>http://wallstreetexaminer.com</td>\n",
       "      <td>1</td>\n",
       "      <td>1.0</td>\n",
       "      <td>1217548801</td>\n",
       "    </tr>\n",
       "    <tr>\n",
       "      <th>2</th>\n",
       "      <td>2008-08-01 00:00:01</td>\n",
       "      <td></td>\n",
       "      <td>http://news.bbc.co.uk</td>\n",
       "      <td>2</td>\n",
       "      <td>1.0</td>\n",
       "      <td>1217548801</td>\n",
       "    </tr>\n",
       "    <tr>\n",
       "      <th>3</th>\n",
       "      <td>2008-08-01 00:00:01</td>\n",
       "      <td></td>\n",
       "      <td>http://news.bbc.co.uk</td>\n",
       "      <td>3</td>\n",
       "      <td>1.0</td>\n",
       "      <td>1217548801</td>\n",
       "    </tr>\n",
       "    <tr>\n",
       "      <th>4</th>\n",
       "      <td>2008-08-01 00:00:01</td>\n",
       "      <td></td>\n",
       "      <td>http://news.bbc.co.uk</td>\n",
       "      <td>4</td>\n",
       "      <td>1.0</td>\n",
       "      <td>1217548801</td>\n",
       "    </tr>\n",
       "    <tr>\n",
       "      <th>...</th>\n",
       "      <td>...</td>\n",
       "      <td>...</td>\n",
       "      <td>...</td>\n",
       "      <td>...</td>\n",
       "      <td>...</td>\n",
       "      <td>...</td>\n",
       "    </tr>\n",
       "    <tr>\n",
       "      <th>141578498</th>\n",
       "      <td>2009-05-01 00:00:00</td>\n",
       "      <td>http://foulweather.blogspot.com</td>\n",
       "      <td>http://foulweather.blogspot.com</td>\n",
       "      <td>15312736</td>\n",
       "      <td>0.2</td>\n",
       "      <td>1241136000</td>\n",
       "    </tr>\n",
       "    <tr>\n",
       "      <th>141578499</th>\n",
       "      <td>2009-05-01 00:00:00</td>\n",
       "      <td>http://2.bp.blogspot.com</td>\n",
       "      <td>http://foulweather.blogspot.com</td>\n",
       "      <td>15312736</td>\n",
       "      <td>0.2</td>\n",
       "      <td>1241136000</td>\n",
       "    </tr>\n",
       "    <tr>\n",
       "      <th>141578500</th>\n",
       "      <td>2009-05-01 00:00:00</td>\n",
       "      <td>http://dischord.com</td>\n",
       "      <td>http://foulweather.blogspot.com</td>\n",
       "      <td>15312736</td>\n",
       "      <td>0.2</td>\n",
       "      <td>1241136000</td>\n",
       "    </tr>\n",
       "    <tr>\n",
       "      <th>141578501</th>\n",
       "      <td>2009-05-01 00:00:00</td>\n",
       "      <td>http://stream.publicbroadcasting.net</td>\n",
       "      <td>http://foulweather.blogspot.com</td>\n",
       "      <td>15312736</td>\n",
       "      <td>0.2</td>\n",
       "      <td>1241136000</td>\n",
       "    </tr>\n",
       "    <tr>\n",
       "      <th>141578502</th>\n",
       "      <td>2009-05-01 00:00:00</td>\n",
       "      <td>http://blogger.com</td>\n",
       "      <td>http://foulweather.blogspot.com</td>\n",
       "      <td>15312736</td>\n",
       "      <td>0.2</td>\n",
       "      <td>1241136000</td>\n",
       "    </tr>\n",
       "  </tbody>\n",
       "</table>\n",
       "<p>141578503 rows × 6 columns</p>\n",
       "</div>"
      ],
      "text/plain": [
       "                         Date                             Hyperlink  \\\n",
       "0         2008-08-01 00:00:00                                         \n",
       "1         2008-08-01 00:00:01                                         \n",
       "2         2008-08-01 00:00:01                                         \n",
       "3         2008-08-01 00:00:01                                         \n",
       "4         2008-08-01 00:00:01                                         \n",
       "...                       ...                                   ...   \n",
       "141578498 2009-05-01 00:00:00       http://foulweather.blogspot.com   \n",
       "141578499 2009-05-01 00:00:00              http://2.bp.blogspot.com   \n",
       "141578500 2009-05-01 00:00:00                   http://dischord.com   \n",
       "141578501 2009-05-01 00:00:00  http://stream.publicbroadcasting.net   \n",
       "141578502 2009-05-01 00:00:00                    http://blogger.com   \n",
       "\n",
       "                                      Blog    PostNb  WeightOfLink   Timestamp  \n",
       "0                   http://codeproject.com         0           1.0  1217548800  \n",
       "1            http://wallstreetexaminer.com         1           1.0  1217548801  \n",
       "2                    http://news.bbc.co.uk         2           1.0  1217548801  \n",
       "3                    http://news.bbc.co.uk         3           1.0  1217548801  \n",
       "4                    http://news.bbc.co.uk         4           1.0  1217548801  \n",
       "...                                    ...       ...           ...         ...  \n",
       "141578498  http://foulweather.blogspot.com  15312736           0.2  1241136000  \n",
       "141578499  http://foulweather.blogspot.com  15312736           0.2  1241136000  \n",
       "141578500  http://foulweather.blogspot.com  15312736           0.2  1241136000  \n",
       "141578501  http://foulweather.blogspot.com  15312736           0.2  1241136000  \n",
       "141578502  http://foulweather.blogspot.com  15312736           0.2  1241136000  \n",
       "\n",
       "[141578503 rows x 6 columns]"
      ]
     },
     "metadata": {},
     "output_type": "display_data"
    }
   ],
   "source": [
    "valid_event_mask = (\n",
    "    #~null_hp_mask &     # Keep only events with non-null hyperlink\n",
    "    #cross_event_mask &  # Keep only cross-site events\n",
    "    np.ones(len(df)).astype(bool)\n",
    ")\n",
    "\n",
    "print(f'Keep {np.sum(valid_event_mask):,d}'\n",
    "      f' out of the {len(df):,d} events ({np.sum(valid_event_mask)*100/len(df):.2f}%)')\n",
    "\n",
    "df_filtered = df.loc[valid_event_mask]\n",
    "display(df_filtered)"
   ]
  },
  {
   "cell_type": "markdown",
   "metadata": {},
   "source": [
    "Percentage of non-empty hyperlinks"
   ]
  },
  {
   "cell_type": "code",
   "execution_count": 13,
   "metadata": {
    "scrolled": false
   },
   "outputs": [
    {
     "data": {
      "text/plain": [
       "71.83500308659147"
      ]
     },
     "execution_count": 13,
     "metadata": {},
     "output_type": "execute_result"
    }
   ],
   "source": [
    "np.sum(df_filtered.Hyperlink != '') * 100 / len(df_filtered)"
   ]
  },
  {
   "cell_type": "markdown",
   "metadata": {},
   "source": [
    "Remove the raw dataframe, we only work on the filtered one from now on."
   ]
  },
  {
   "cell_type": "raw",
   "metadata": {},
   "source": [
    "del df"
   ]
  },
  {
   "cell_type": "markdown",
   "metadata": {},
   "source": [
    "### 2.3. Find the top-100 blogs"
   ]
  },
  {
   "cell_type": "code",
   "execution_count": 14,
   "metadata": {},
   "outputs": [],
   "source": [
    "df_filtered['has_hyperlink'] = df_filtered.Hyperlink != ''  # Indicate if event has hyperlink\n",
    "df_filtered['has_hyperlink'] = df_filtered['has_hyperlink'].astype(int)"
   ]
  },
  {
   "cell_type": "markdown",
   "metadata": {},
   "source": [
    "Build the count of number of hyperlink per blogs, i.e., how many times a blog was cited."
   ]
  },
  {
   "cell_type": "raw",
   "metadata": {},
   "source": [
    "count_series = df_filtered.groupby('Hyperlink').agg({'Hyperlink': 'count'})['Hyperlink']\n",
    "count_series = count_series.loc[count_series.index != '']"
   ]
  },
  {
   "cell_type": "markdown",
   "metadata": {},
   "source": [
    "Build the count of number of posts per blogs."
   ]
  },
  {
   "cell_type": "code",
   "execution_count": 15,
   "metadata": {},
   "outputs": [],
   "source": [
    "count_series = df_filtered.groupby('Blog').agg({'PostNb': set})['PostNb'].apply(len)"
   ]
  },
  {
   "cell_type": "markdown",
   "metadata": {},
   "source": [
    "Keep only the top-100 sites"
   ]
  },
  {
   "cell_type": "code",
   "execution_count": 16,
   "metadata": {
    "scrolled": false
   },
   "outputs": [
    {
     "name": "stdout",
     "output_type": "stream",
     "text": [
      "There are 24,280,563 items in the top-100 sites\n"
     ]
    },
    {
     "data": {
      "text/plain": [
       "Blog\n",
       "http://blogs.myspace.com           1721787\n",
       "http://seattle.craigslist.org       908675\n",
       "http://sfbay.craigslist.org         848217\n",
       "http://chicago.craigslist.org       832027\n",
       "http://blog.myspace.com             793208\n",
       "                                    ...   \n",
       "http://huffingtonpost.com            82245\n",
       "http://sandmountainreporter.com      77939\n",
       "http://twitter.com                   76874\n",
       "http://forbes.com                    76804\n",
       "http://rss.rssad.jp                  76273\n",
       "Name: PostNb, Length: 100, dtype: int64"
      ]
     },
     "metadata": {},
     "output_type": "display_data"
    }
   ],
   "source": [
    "top_num = 100\n",
    "\n",
    "top_series = count_series.sort_values(ascending=False).iloc[:top_num]\n",
    "print(f'There are {top_series.sum():,d} items in the top-{top_num:d} sites')\n",
    "display(top_series)"
   ]
  },
  {
   "cell_type": "markdown",
   "metadata": {},
   "source": [
    "### 2.3. Keep only events between sites in the top-100 blogs\n",
    "\n",
    "We finally remove all events coming from hyperlinks that are not part of the top-100 blogs."
   ]
  },
  {
   "cell_type": "code",
   "execution_count": 17,
   "metadata": {
    "scrolled": true
   },
   "outputs": [],
   "source": [
    "top_site_set = set(top_series.index.tolist())  # All top blog sites\n",
    "\n",
    "top_blog_mask = df_filtered['Blog'].isin(top_site_set)     # Blogs is in top\n",
    "top_hp_mask = df_filtered['Hyperlink'].isin(set(list(top_site_set) + ['']))  # Hyperlink is in top or no hyperlink (i.e. is null)"
   ]
  },
  {
   "cell_type": "code",
   "execution_count": 18,
   "metadata": {
    "scrolled": true
   },
   "outputs": [
    {
     "name": "stdout",
     "output_type": "stream",
     "text": [
      "15,168,774 events are between the top-100 sites out of the 141,578,503 (10.71%)\n"
     ]
    }
   ],
   "source": [
    "# Build mask of valid events\n",
    "valid_event_mask = top_blog_mask & top_hp_mask\n",
    "\n",
    "# Filter\n",
    "df_top = df_filtered.loc[valid_event_mask]\n",
    "assert len(df_top) == np.sum(valid_event_mask)\n",
    "\n",
    "print(f'{np.sum(valid_event_mask):,d} events are between the top-{top_num} sites'\n",
    "      f' out of the {len(df_filtered):,d} ({np.sum(valid_event_mask)*100/len(df_filtered):.2f}%)')"
   ]
  },
  {
   "cell_type": "code",
   "execution_count": 19,
   "metadata": {
    "scrolled": false
   },
   "outputs": [
    {
     "data": {
      "text/html": [
       "<div>\n",
       "<style scoped>\n",
       "    .dataframe tbody tr th:only-of-type {\n",
       "        vertical-align: middle;\n",
       "    }\n",
       "\n",
       "    .dataframe tbody tr th {\n",
       "        vertical-align: top;\n",
       "    }\n",
       "\n",
       "    .dataframe thead th {\n",
       "        text-align: right;\n",
       "    }\n",
       "</style>\n",
       "<table border=\"1\" class=\"dataframe\">\n",
       "  <thead>\n",
       "    <tr style=\"text-align: right;\">\n",
       "      <th></th>\n",
       "      <th>Date</th>\n",
       "      <th>Hyperlink</th>\n",
       "      <th>Blog</th>\n",
       "      <th>PostNb</th>\n",
       "      <th>WeightOfLink</th>\n",
       "      <th>Timestamp</th>\n",
       "      <th>has_hyperlink</th>\n",
       "    </tr>\n",
       "  </thead>\n",
       "  <tbody>\n",
       "    <tr>\n",
       "      <th>2</th>\n",
       "      <td>2008-08-01 00:00:01</td>\n",
       "      <td></td>\n",
       "      <td>http://news.bbc.co.uk</td>\n",
       "      <td>2</td>\n",
       "      <td>1.0</td>\n",
       "      <td>1217548801</td>\n",
       "      <td>0</td>\n",
       "    </tr>\n",
       "    <tr>\n",
       "      <th>3</th>\n",
       "      <td>2008-08-01 00:00:01</td>\n",
       "      <td></td>\n",
       "      <td>http://news.bbc.co.uk</td>\n",
       "      <td>3</td>\n",
       "      <td>1.0</td>\n",
       "      <td>1217548801</td>\n",
       "      <td>0</td>\n",
       "    </tr>\n",
       "    <tr>\n",
       "      <th>4</th>\n",
       "      <td>2008-08-01 00:00:01</td>\n",
       "      <td></td>\n",
       "      <td>http://news.bbc.co.uk</td>\n",
       "      <td>4</td>\n",
       "      <td>1.0</td>\n",
       "      <td>1217548801</td>\n",
       "      <td>0</td>\n",
       "    </tr>\n",
       "    <tr>\n",
       "      <th>320</th>\n",
       "      <td>2008-08-01 00:00:46</td>\n",
       "      <td></td>\n",
       "      <td>http://in.news.yahoo.com</td>\n",
       "      <td>230</td>\n",
       "      <td>1.0</td>\n",
       "      <td>1217548846</td>\n",
       "      <td>0</td>\n",
       "    </tr>\n",
       "    <tr>\n",
       "      <th>357</th>\n",
       "      <td>2008-08-01 00:00:48</td>\n",
       "      <td></td>\n",
       "      <td>http://in.news.yahoo.com</td>\n",
       "      <td>264</td>\n",
       "      <td>1.0</td>\n",
       "      <td>1217548848</td>\n",
       "      <td>0</td>\n",
       "    </tr>\n",
       "    <tr>\n",
       "      <th>...</th>\n",
       "      <td>...</td>\n",
       "      <td>...</td>\n",
       "      <td>...</td>\n",
       "      <td>...</td>\n",
       "      <td>...</td>\n",
       "      <td>...</td>\n",
       "      <td>...</td>\n",
       "    </tr>\n",
       "    <tr>\n",
       "      <th>141578433</th>\n",
       "      <td>2009-04-30 23:59:57</td>\n",
       "      <td></td>\n",
       "      <td>http://groups.google.com</td>\n",
       "      <td>15312686</td>\n",
       "      <td>1.0</td>\n",
       "      <td>1241135997</td>\n",
       "      <td>0</td>\n",
       "    </tr>\n",
       "    <tr>\n",
       "      <th>141578435</th>\n",
       "      <td>2009-04-30 23:59:57</td>\n",
       "      <td></td>\n",
       "      <td>http://groups.google.com</td>\n",
       "      <td>15312688</td>\n",
       "      <td>1.0</td>\n",
       "      <td>1241135997</td>\n",
       "      <td>0</td>\n",
       "    </tr>\n",
       "    <tr>\n",
       "      <th>141578485</th>\n",
       "      <td>2009-04-30 23:59:59</td>\n",
       "      <td></td>\n",
       "      <td>http://bizjournals.com</td>\n",
       "      <td>15312725</td>\n",
       "      <td>1.0</td>\n",
       "      <td>1241135999</td>\n",
       "      <td>0</td>\n",
       "    </tr>\n",
       "    <tr>\n",
       "      <th>141578487</th>\n",
       "      <td>2009-04-30 23:59:59</td>\n",
       "      <td></td>\n",
       "      <td>http://blogs.myspace.com</td>\n",
       "      <td>15312727</td>\n",
       "      <td>1.0</td>\n",
       "      <td>1241135999</td>\n",
       "      <td>0</td>\n",
       "    </tr>\n",
       "    <tr>\n",
       "      <th>141578488</th>\n",
       "      <td>2009-04-30 23:59:59</td>\n",
       "      <td></td>\n",
       "      <td>http://blogs.myspace.com</td>\n",
       "      <td>15312728</td>\n",
       "      <td>1.0</td>\n",
       "      <td>1241135999</td>\n",
       "      <td>0</td>\n",
       "    </tr>\n",
       "  </tbody>\n",
       "</table>\n",
       "<p>15168774 rows × 7 columns</p>\n",
       "</div>"
      ],
      "text/plain": [
       "                         Date Hyperlink                      Blog    PostNb  \\\n",
       "2         2008-08-01 00:00:01               http://news.bbc.co.uk         2   \n",
       "3         2008-08-01 00:00:01               http://news.bbc.co.uk         3   \n",
       "4         2008-08-01 00:00:01               http://news.bbc.co.uk         4   \n",
       "320       2008-08-01 00:00:46            http://in.news.yahoo.com       230   \n",
       "357       2008-08-01 00:00:48            http://in.news.yahoo.com       264   \n",
       "...                       ...       ...                       ...       ...   \n",
       "141578433 2009-04-30 23:59:57            http://groups.google.com  15312686   \n",
       "141578435 2009-04-30 23:59:57            http://groups.google.com  15312688   \n",
       "141578485 2009-04-30 23:59:59              http://bizjournals.com  15312725   \n",
       "141578487 2009-04-30 23:59:59            http://blogs.myspace.com  15312727   \n",
       "141578488 2009-04-30 23:59:59            http://blogs.myspace.com  15312728   \n",
       "\n",
       "           WeightOfLink   Timestamp  has_hyperlink  \n",
       "2                   1.0  1217548801              0  \n",
       "3                   1.0  1217548801              0  \n",
       "4                   1.0  1217548801              0  \n",
       "320                 1.0  1217548846              0  \n",
       "357                 1.0  1217548848              0  \n",
       "...                 ...         ...            ...  \n",
       "141578433           1.0  1241135997              0  \n",
       "141578435           1.0  1241135997              0  \n",
       "141578485           1.0  1241135999              0  \n",
       "141578487           1.0  1241135999              0  \n",
       "141578488           1.0  1241135999              0  \n",
       "\n",
       "[15168774 rows x 7 columns]"
      ]
     },
     "execution_count": 19,
     "metadata": {},
     "output_type": "execute_result"
    }
   ],
   "source": [
    "df_top"
   ]
  },
  {
   "cell_type": "markdown",
   "metadata": {},
   "source": [
    "Percentage of non-empty hyperlinks"
   ]
  },
  {
   "cell_type": "code",
   "execution_count": 20,
   "metadata": {},
   "outputs": [
    {
     "data": {
      "text/plain": [
       "47.81617156403016"
      ]
     },
     "execution_count": 20,
     "metadata": {},
     "output_type": "execute_result"
    }
   ],
   "source": [
    "np.sum(df_top.Hyperlink != '') * 100 / len(df_top)"
   ]
  },
  {
   "cell_type": "code",
   "execution_count": 21,
   "metadata": {},
   "outputs": [],
   "source": [
    "blog_set = set(df_top.Blog)\n",
    "hp_set = set(df_top.Hyperlink)"
   ]
  },
  {
   "cell_type": "code",
   "execution_count": 22,
   "metadata": {
    "scrolled": true
   },
   "outputs": [
    {
     "data": {
      "text/plain": [
       "100"
      ]
     },
     "execution_count": 22,
     "metadata": {},
     "output_type": "execute_result"
    }
   ],
   "source": [
    "len(blog_set)"
   ]
  },
  {
   "cell_type": "code",
   "execution_count": 23,
   "metadata": {},
   "outputs": [
    {
     "data": {
      "text/plain": [
       "99"
      ]
     },
     "execution_count": 23,
     "metadata": {},
     "output_type": "execute_result"
    }
   ],
   "source": [
    "len(hp_set)"
   ]
  },
  {
   "cell_type": "code",
   "execution_count": 24,
   "metadata": {
    "scrolled": true
   },
   "outputs": [
    {
     "data": {
      "text/plain": [
       "98"
      ]
     },
     "execution_count": 24,
     "metadata": {},
     "output_type": "execute_result"
    }
   ],
   "source": [
    "len(hp_set.intersection(blog_set))"
   ]
  },
  {
   "cell_type": "code",
   "execution_count": null,
   "metadata": {},
   "outputs": [],
   "source": []
  },
  {
   "cell_type": "code",
   "execution_count": null,
   "metadata": {},
   "outputs": [],
   "source": []
  },
  {
   "cell_type": "markdown",
   "metadata": {},
   "source": [
    "Build numerical index for each blog"
   ]
  },
  {
   "cell_type": "code",
   "execution_count": 25,
   "metadata": {
    "scrolled": true
   },
   "outputs": [],
   "source": [
    "top_name_to_idx_map = dict(zip(top_series.index, range(top_num)))\n",
    "\n",
    "# Make numerical index for blogs\n",
    "df_top['Blog_idx'] = df_top['Blog'].apply(lambda name: top_name_to_idx_map[name])\n",
    "\n",
    "# Add hyperlinks index\n",
    "top_name_to_idx_map[''] = None  # Set -1 for No-Hyperlink\n",
    "df_top['Hyperlink_idx'] = df_top['Hyperlink'].apply(lambda name: top_name_to_idx_map[name]) "
   ]
  },
  {
   "cell_type": "code",
   "execution_count": 26,
   "metadata": {},
   "outputs": [
    {
     "data": {
      "text/html": [
       "<div>\n",
       "<style scoped>\n",
       "    .dataframe tbody tr th:only-of-type {\n",
       "        vertical-align: middle;\n",
       "    }\n",
       "\n",
       "    .dataframe tbody tr th {\n",
       "        vertical-align: top;\n",
       "    }\n",
       "\n",
       "    .dataframe thead th {\n",
       "        text-align: right;\n",
       "    }\n",
       "</style>\n",
       "<table border=\"1\" class=\"dataframe\">\n",
       "  <thead>\n",
       "    <tr style=\"text-align: right;\">\n",
       "      <th></th>\n",
       "      <th>Date</th>\n",
       "      <th>Hyperlink</th>\n",
       "      <th>Blog</th>\n",
       "      <th>PostNb</th>\n",
       "      <th>WeightOfLink</th>\n",
       "      <th>Timestamp</th>\n",
       "      <th>has_hyperlink</th>\n",
       "      <th>Blog_idx</th>\n",
       "      <th>Hyperlink_idx</th>\n",
       "    </tr>\n",
       "  </thead>\n",
       "  <tbody>\n",
       "    <tr>\n",
       "      <th>131149333</th>\n",
       "      <td>2009-04-22 15:02:47</td>\n",
       "      <td>http://pr-inside.com</td>\n",
       "      <td>http://pr-inside.com</td>\n",
       "      <td>9917477</td>\n",
       "      <td>0.166667</td>\n",
       "      <td>1240412567</td>\n",
       "      <td>1</td>\n",
       "      <td>23</td>\n",
       "      <td>23.0</td>\n",
       "    </tr>\n",
       "    <tr>\n",
       "      <th>100066046</th>\n",
       "      <td>2009-03-04 08:10:19</td>\n",
       "      <td></td>\n",
       "      <td>http://forum.gateworld.net</td>\n",
       "      <td>2066122</td>\n",
       "      <td>1.000000</td>\n",
       "      <td>1236154219</td>\n",
       "      <td>0</td>\n",
       "      <td>55</td>\n",
       "      <td>NaN</td>\n",
       "    </tr>\n",
       "    <tr>\n",
       "      <th>25365019</th>\n",
       "      <td>2008-10-02 20:44:12</td>\n",
       "      <td>http://ar.answers.yahoo.com</td>\n",
       "      <td>http://ar.answers.yahoo.com</td>\n",
       "      <td>683798</td>\n",
       "      <td>1.000000</td>\n",
       "      <td>1222980252</td>\n",
       "      <td>1</td>\n",
       "      <td>11</td>\n",
       "      <td>11.0</td>\n",
       "    </tr>\n",
       "    <tr>\n",
       "      <th>141186631</th>\n",
       "      <td>2009-04-30 12:34:54</td>\n",
       "      <td>http://mx.answers.yahoo.com</td>\n",
       "      <td>http://mx.answers.yahoo.com</td>\n",
       "      <td>15042768</td>\n",
       "      <td>1.000000</td>\n",
       "      <td>1241094894</td>\n",
       "      <td>1</td>\n",
       "      <td>12</td>\n",
       "      <td>12.0</td>\n",
       "    </tr>\n",
       "    <tr>\n",
       "      <th>97597708</th>\n",
       "      <td>2009-03-01 08:21:33</td>\n",
       "      <td></td>\n",
       "      <td>http://times-journal.com</td>\n",
       "      <td>302601</td>\n",
       "      <td>1.000000</td>\n",
       "      <td>1235895693</td>\n",
       "      <td>0</td>\n",
       "      <td>50</td>\n",
       "      <td>NaN</td>\n",
       "    </tr>\n",
       "    <tr>\n",
       "      <th>67131618</th>\n",
       "      <td>2009-01-05 22:34:49</td>\n",
       "      <td></td>\n",
       "      <td>http://bertelsmann-stiftung.de</td>\n",
       "      <td>1218000</td>\n",
       "      <td>1.000000</td>\n",
       "      <td>1231194889</td>\n",
       "      <td>0</td>\n",
       "      <td>77</td>\n",
       "      <td>NaN</td>\n",
       "    </tr>\n",
       "    <tr>\n",
       "      <th>39700055</th>\n",
       "      <td>2008-11-03 05:27:00</td>\n",
       "      <td>http://ca.answers.yahoo.com</td>\n",
       "      <td>http://ca.answers.yahoo.com</td>\n",
       "      <td>536415</td>\n",
       "      <td>1.000000</td>\n",
       "      <td>1225690020</td>\n",
       "      <td>1</td>\n",
       "      <td>26</td>\n",
       "      <td>26.0</td>\n",
       "    </tr>\n",
       "    <tr>\n",
       "      <th>103653192</th>\n",
       "      <td>2009-03-09 20:20:53</td>\n",
       "      <td>http://pr-inside.com</td>\n",
       "      <td>http://pr-inside.com</td>\n",
       "      <td>4651879</td>\n",
       "      <td>0.500000</td>\n",
       "      <td>1236630053</td>\n",
       "      <td>1</td>\n",
       "      <td>23</td>\n",
       "      <td>23.0</td>\n",
       "    </tr>\n",
       "    <tr>\n",
       "      <th>97718710</th>\n",
       "      <td>2009-03-01 11:05:57</td>\n",
       "      <td></td>\n",
       "      <td>http://blogs.myspace.com</td>\n",
       "      <td>402547</td>\n",
       "      <td>1.000000</td>\n",
       "      <td>1235905557</td>\n",
       "      <td>0</td>\n",
       "      <td>0</td>\n",
       "      <td>NaN</td>\n",
       "    </tr>\n",
       "    <tr>\n",
       "      <th>4150421</th>\n",
       "      <td>2008-08-13 00:33:20</td>\n",
       "      <td></td>\n",
       "      <td>http://news.google.com</td>\n",
       "      <td>2814798</td>\n",
       "      <td>1.000000</td>\n",
       "      <td>1218587600</td>\n",
       "      <td>0</td>\n",
       "      <td>32</td>\n",
       "      <td>NaN</td>\n",
       "    </tr>\n",
       "  </tbody>\n",
       "</table>\n",
       "</div>"
      ],
      "text/plain": [
       "                         Date                    Hyperlink  \\\n",
       "131149333 2009-04-22 15:02:47         http://pr-inside.com   \n",
       "100066046 2009-03-04 08:10:19                                \n",
       "25365019  2008-10-02 20:44:12  http://ar.answers.yahoo.com   \n",
       "141186631 2009-04-30 12:34:54  http://mx.answers.yahoo.com   \n",
       "97597708  2009-03-01 08:21:33                                \n",
       "67131618  2009-01-05 22:34:49                                \n",
       "39700055  2008-11-03 05:27:00  http://ca.answers.yahoo.com   \n",
       "103653192 2009-03-09 20:20:53         http://pr-inside.com   \n",
       "97718710  2009-03-01 11:05:57                                \n",
       "4150421   2008-08-13 00:33:20                                \n",
       "\n",
       "                                     Blog    PostNb  WeightOfLink   Timestamp  \\\n",
       "131149333            http://pr-inside.com   9917477      0.166667  1240412567   \n",
       "100066046      http://forum.gateworld.net   2066122      1.000000  1236154219   \n",
       "25365019      http://ar.answers.yahoo.com    683798      1.000000  1222980252   \n",
       "141186631     http://mx.answers.yahoo.com  15042768      1.000000  1241094894   \n",
       "97597708         http://times-journal.com    302601      1.000000  1235895693   \n",
       "67131618   http://bertelsmann-stiftung.de   1218000      1.000000  1231194889   \n",
       "39700055      http://ca.answers.yahoo.com    536415      1.000000  1225690020   \n",
       "103653192            http://pr-inside.com   4651879      0.500000  1236630053   \n",
       "97718710         http://blogs.myspace.com    402547      1.000000  1235905557   \n",
       "4150421            http://news.google.com   2814798      1.000000  1218587600   \n",
       "\n",
       "           has_hyperlink  Blog_idx  Hyperlink_idx  \n",
       "131149333              1        23           23.0  \n",
       "100066046              0        55            NaN  \n",
       "25365019               1        11           11.0  \n",
       "141186631              1        12           12.0  \n",
       "97597708               0        50            NaN  \n",
       "67131618               0        77            NaN  \n",
       "39700055               1        26           26.0  \n",
       "103653192              1        23           23.0  \n",
       "97718710               0         0            NaN  \n",
       "4150421                0        32            NaN  "
      ]
     },
     "metadata": {},
     "output_type": "display_data"
    }
   ],
   "source": [
    "display(df_top.sample(10))"
   ]
  },
  {
   "cell_type": "markdown",
   "metadata": {},
   "source": [
    "We only work with the top blogs from now on."
   ]
  },
  {
   "cell_type": "raw",
   "metadata": {},
   "source": [
    "del df_filtered"
   ]
  },
  {
   "cell_type": "markdown",
   "metadata": {},
   "source": [
    "## 3. Build point process\n",
    "\n",
    "Aggregate events per Blog"
   ]
  },
  {
   "cell_type": "code",
   "execution_count": 27,
   "metadata": {},
   "outputs": [],
   "source": [
    "df_tpp = df_top.groupby('Blog').agg({'Timestamp': list, 'Hyperlink': list, 'Blog_idx': 'first', 'Hyperlink_idx': list})"
   ]
  },
  {
   "cell_type": "code",
   "execution_count": 28,
   "metadata": {
    "scrolled": false
   },
   "outputs": [],
   "source": [
    "df_tpp['Count'] = df_tpp['Timestamp'].apply(len)\n",
    "df_tpp = df_tpp.sort_values(by='Count')"
   ]
  },
  {
   "cell_type": "code",
   "execution_count": 29,
   "metadata": {},
   "outputs": [
    {
     "data": {
      "text/html": [
       "<div>\n",
       "<style scoped>\n",
       "    .dataframe tbody tr th:only-of-type {\n",
       "        vertical-align: middle;\n",
       "    }\n",
       "\n",
       "    .dataframe tbody tr th {\n",
       "        vertical-align: top;\n",
       "    }\n",
       "\n",
       "    .dataframe thead th {\n",
       "        text-align: right;\n",
       "    }\n",
       "</style>\n",
       "<table border=\"1\" class=\"dataframe\">\n",
       "  <thead>\n",
       "    <tr style=\"text-align: right;\">\n",
       "      <th></th>\n",
       "      <th>Timestamp</th>\n",
       "      <th>Hyperlink</th>\n",
       "      <th>Blog_idx</th>\n",
       "      <th>Hyperlink_idx</th>\n",
       "      <th>Count</th>\n",
       "    </tr>\n",
       "    <tr>\n",
       "      <th>Blog</th>\n",
       "      <th></th>\n",
       "      <th></th>\n",
       "      <th></th>\n",
       "      <th></th>\n",
       "      <th></th>\n",
       "    </tr>\n",
       "  </thead>\n",
       "  <tbody>\n",
       "    <tr>\n",
       "      <th>http://rss.rssad.jp</th>\n",
       "      <td>[1217561050, 1217561050, 1217561050, 121756105...</td>\n",
       "      <td>[http://twitter.com, http://twitter.com, http:...</td>\n",
       "      <td>99</td>\n",
       "      <td>[97.0, 97.0, 97.0, 97.0, 97.0, 25.0, 25.0, 31....</td>\n",
       "      <td>1723</td>\n",
       "    </tr>\n",
       "    <tr>\n",
       "      <th>http://forums.seroundtable.com</th>\n",
       "      <td>[1217637788, 1217637788, 1217637788, 121778864...</td>\n",
       "      <td>[, , , , , http://forums.seroundtable.com, htt...</td>\n",
       "      <td>56</td>\n",
       "      <td>[nan, nan, nan, nan, nan, 56.0, 56.0, nan, nan...</td>\n",
       "      <td>1743</td>\n",
       "    </tr>\n",
       "    <tr>\n",
       "      <th>http://answers.polldaddy.com</th>\n",
       "      <td>[1227662993, 1227670206, 1227675626, 122767742...</td>\n",
       "      <td>[http://answers.polldaddy.com, http://answers....</td>\n",
       "      <td>52</td>\n",
       "      <td>[52.0, 52.0, 52.0, 52.0, 52.0, 52.0, 52.0, nan...</td>\n",
       "      <td>3043</td>\n",
       "    </tr>\n",
       "    <tr>\n",
       "      <th>http://washingtondc.craigslist.org</th>\n",
       "      <td>[1217559137, 1217561639, 1217562989, 121756401...</td>\n",
       "      <td>[, , , , , , , , , , , , , , , , , , , , , , ,...</td>\n",
       "      <td>16</td>\n",
       "      <td>[nan, nan, nan, nan, nan, nan, nan, nan, nan, ...</td>\n",
       "      <td>3321</td>\n",
       "    </tr>\n",
       "    <tr>\n",
       "      <th>http://wordle.net</th>\n",
       "      <td>[1217550020, 1217550020, 1217550020, 121755002...</td>\n",
       "      <td>[, , , , , , , , , , , , , , , , , , , , , , ,...</td>\n",
       "      <td>39</td>\n",
       "      <td>[nan, nan, nan, nan, nan, nan, nan, nan, nan, ...</td>\n",
       "      <td>4227</td>\n",
       "    </tr>\n",
       "    <tr>\n",
       "      <th>...</th>\n",
       "      <td>...</td>\n",
       "      <td>...</td>\n",
       "      <td>...</td>\n",
       "      <td>...</td>\n",
       "      <td>...</td>\n",
       "    </tr>\n",
       "    <tr>\n",
       "      <th>http://sportsnipe.com</th>\n",
       "      <td>[1218863834, 1218863835, 1218863835, 121886383...</td>\n",
       "      <td>[http://sportsnipe.com, http://sportsnipe.com,...</td>\n",
       "      <td>13</td>\n",
       "      <td>[13.0, 13.0, 13.0, 13.0, 13.0, 13.0, 13.0, 13....</td>\n",
       "      <td>458599</td>\n",
       "    </tr>\n",
       "    <tr>\n",
       "      <th>http://mx.answers.yahoo.com</th>\n",
       "      <td>[1217550871, 1217553309, 1217553309, 121755330...</td>\n",
       "      <td>[, , , , , , , , , , , , , , , , , , , , , , ,...</td>\n",
       "      <td>12</td>\n",
       "      <td>[nan, nan, nan, nan, nan, nan, nan, nan, nan, ...</td>\n",
       "      <td>482981</td>\n",
       "    </tr>\n",
       "    <tr>\n",
       "      <th>http://ar.answers.yahoo.com</th>\n",
       "      <td>[1217551046, 1217555877, 1217555877, 121755587...</td>\n",
       "      <td>[, , , , , , , , , , , , , , , , , , , , , , ,...</td>\n",
       "      <td>11</td>\n",
       "      <td>[nan, nan, nan, nan, nan, nan, nan, nan, nan, ...</td>\n",
       "      <td>483757</td>\n",
       "    </tr>\n",
       "    <tr>\n",
       "      <th>http://blog.myspace.com</th>\n",
       "      <td>[1217548911, 1217548911, 1217548911, 121754891...</td>\n",
       "      <td>[, , , , , , , , , , , , , , , , , , , , , , ,...</td>\n",
       "      <td>4</td>\n",
       "      <td>[nan, nan, nan, nan, nan, nan, nan, nan, nan, ...</td>\n",
       "      <td>762262</td>\n",
       "    </tr>\n",
       "    <tr>\n",
       "      <th>http://blogs.myspace.com</th>\n",
       "      <td>[1225538871, 1230531881, 1232036132, 123242065...</td>\n",
       "      <td>[, , , , , , , , , , , , , , , , , , , , , , ,...</td>\n",
       "      <td>0</td>\n",
       "      <td>[nan, nan, nan, nan, nan, nan, nan, nan, nan, ...</td>\n",
       "      <td>1624574</td>\n",
       "    </tr>\n",
       "  </tbody>\n",
       "</table>\n",
       "<p>100 rows × 5 columns</p>\n",
       "</div>"
      ],
      "text/plain": [
       "                                                                            Timestamp  \\\n",
       "Blog                                                                                    \n",
       "http://rss.rssad.jp                 [1217561050, 1217561050, 1217561050, 121756105...   \n",
       "http://forums.seroundtable.com      [1217637788, 1217637788, 1217637788, 121778864...   \n",
       "http://answers.polldaddy.com        [1227662993, 1227670206, 1227675626, 122767742...   \n",
       "http://washingtondc.craigslist.org  [1217559137, 1217561639, 1217562989, 121756401...   \n",
       "http://wordle.net                   [1217550020, 1217550020, 1217550020, 121755002...   \n",
       "...                                                                               ...   \n",
       "http://sportsnipe.com               [1218863834, 1218863835, 1218863835, 121886383...   \n",
       "http://mx.answers.yahoo.com         [1217550871, 1217553309, 1217553309, 121755330...   \n",
       "http://ar.answers.yahoo.com         [1217551046, 1217555877, 1217555877, 121755587...   \n",
       "http://blog.myspace.com             [1217548911, 1217548911, 1217548911, 121754891...   \n",
       "http://blogs.myspace.com            [1225538871, 1230531881, 1232036132, 123242065...   \n",
       "\n",
       "                                                                            Hyperlink  \\\n",
       "Blog                                                                                    \n",
       "http://rss.rssad.jp                 [http://twitter.com, http://twitter.com, http:...   \n",
       "http://forums.seroundtable.com      [, , , , , http://forums.seroundtable.com, htt...   \n",
       "http://answers.polldaddy.com        [http://answers.polldaddy.com, http://answers....   \n",
       "http://washingtondc.craigslist.org  [, , , , , , , , , , , , , , , , , , , , , , ,...   \n",
       "http://wordle.net                   [, , , , , , , , , , , , , , , , , , , , , , ,...   \n",
       "...                                                                               ...   \n",
       "http://sportsnipe.com               [http://sportsnipe.com, http://sportsnipe.com,...   \n",
       "http://mx.answers.yahoo.com         [, , , , , , , , , , , , , , , , , , , , , , ,...   \n",
       "http://ar.answers.yahoo.com         [, , , , , , , , , , , , , , , , , , , , , , ,...   \n",
       "http://blog.myspace.com             [, , , , , , , , , , , , , , , , , , , , , , ,...   \n",
       "http://blogs.myspace.com            [, , , , , , , , , , , , , , , , , , , , , , ,...   \n",
       "\n",
       "                                    Blog_idx  \\\n",
       "Blog                                           \n",
       "http://rss.rssad.jp                       99   \n",
       "http://forums.seroundtable.com            56   \n",
       "http://answers.polldaddy.com              52   \n",
       "http://washingtondc.craigslist.org        16   \n",
       "http://wordle.net                         39   \n",
       "...                                      ...   \n",
       "http://sportsnipe.com                     13   \n",
       "http://mx.answers.yahoo.com               12   \n",
       "http://ar.answers.yahoo.com               11   \n",
       "http://blog.myspace.com                    4   \n",
       "http://blogs.myspace.com                   0   \n",
       "\n",
       "                                                                        Hyperlink_idx  \\\n",
       "Blog                                                                                    \n",
       "http://rss.rssad.jp                 [97.0, 97.0, 97.0, 97.0, 97.0, 25.0, 25.0, 31....   \n",
       "http://forums.seroundtable.com      [nan, nan, nan, nan, nan, 56.0, 56.0, nan, nan...   \n",
       "http://answers.polldaddy.com        [52.0, 52.0, 52.0, 52.0, 52.0, 52.0, 52.0, nan...   \n",
       "http://washingtondc.craigslist.org  [nan, nan, nan, nan, nan, nan, nan, nan, nan, ...   \n",
       "http://wordle.net                   [nan, nan, nan, nan, nan, nan, nan, nan, nan, ...   \n",
       "...                                                                               ...   \n",
       "http://sportsnipe.com               [13.0, 13.0, 13.0, 13.0, 13.0, 13.0, 13.0, 13....   \n",
       "http://mx.answers.yahoo.com         [nan, nan, nan, nan, nan, nan, nan, nan, nan, ...   \n",
       "http://ar.answers.yahoo.com         [nan, nan, nan, nan, nan, nan, nan, nan, nan, ...   \n",
       "http://blog.myspace.com             [nan, nan, nan, nan, nan, nan, nan, nan, nan, ...   \n",
       "http://blogs.myspace.com            [nan, nan, nan, nan, nan, nan, nan, nan, nan, ...   \n",
       "\n",
       "                                      Count  \n",
       "Blog                                         \n",
       "http://rss.rssad.jp                    1723  \n",
       "http://forums.seroundtable.com         1743  \n",
       "http://answers.polldaddy.com           3043  \n",
       "http://washingtondc.craigslist.org     3321  \n",
       "http://wordle.net                      4227  \n",
       "...                                     ...  \n",
       "http://sportsnipe.com                458599  \n",
       "http://mx.answers.yahoo.com          482981  \n",
       "http://ar.answers.yahoo.com          483757  \n",
       "http://blog.myspace.com              762262  \n",
       "http://blogs.myspace.com            1624574  \n",
       "\n",
       "[100 rows x 5 columns]"
      ]
     },
     "execution_count": 29,
     "metadata": {},
     "output_type": "execute_result"
    }
   ],
   "source": [
    "df_tpp"
   ]
  },
  {
   "cell_type": "code",
   "execution_count": 30,
   "metadata": {},
   "outputs": [],
   "source": [
    "df_tpp.to_pickle('/root/workspace/var-wold/data/memetracker/df_tpp.pk')"
   ]
  },
  {
   "cell_type": "markdown",
   "metadata": {},
   "source": [
    "## 4. Build influence graph"
   ]
  },
  {
   "cell_type": "markdown",
   "metadata": {},
   "source": [
    "Build the adjacency matrix in parallel for each node"
   ]
  },
  {
   "cell_type": "code",
   "execution_count": 42,
   "metadata": {},
   "outputs": [
    {
     "name": "stdout",
     "output_type": "stream",
     "text": [
      "Finished job 99/100"
     ]
    }
   ],
   "source": [
    "def worker(blog, row):\n",
    "    mu_mat = np.zeros(100)\n",
    "    adj_mat = np.zeros((100, 100))\n",
    "    blog_idx = row['Blog_idx']\n",
    "    for hp_idx in row['Hyperlink_idx']:\n",
    "        if np.isnan(hp_idx):\n",
    "            mu_mat[blog_idx] += 1\n",
    "            continue\n",
    "        hp_idx = int(hp_idx)\n",
    "        adj_mat[hp_idx][blog_idx] += 1\n",
    "    return mu_mat, adj_mat\n",
    "\n",
    "pool = multiprocessing.Pool(40)\n",
    "\n",
    "jobs = list()\n",
    "for blog, row in df_tpp.iterrows():\n",
    "    job = pool.apply_async(worker, (blog, row, ))\n",
    "    jobs.append(job)\n",
    "\n",
    "mu_mat = np.zeros(100)\n",
    "adj_mat = np.zeros((100, 100))\n",
    "for i, job in enumerate(jobs):\n",
    "    this_mu_mat, this_adj_mat = job.get()\n",
    "    mu_mat += this_mu_mat\n",
    "    adj_mat += this_adj_mat\n",
    "    print(f\"\\rFinished job {i}/{len(jobs)}\", end='')\n",
    "    \n",
    "pool.close()\n",
    "pool.terminate()"
   ]
  },
  {
   "cell_type": "code",
   "execution_count": 43,
   "metadata": {},
   "outputs": [
    {
     "name": "stdout",
     "output_type": "stream",
     "text": [
      "Number of nodes: 100\n",
      "Number of edges: 985\n",
      "Number of self-loops: 93\n"
     ]
    }
   ],
   "source": [
    "import networkx as nx\n",
    "graph = nx.DiGraph(adj_mat)\n",
    "print('Number of nodes:', graph.number_of_nodes())\n",
    "print('Number of edges:', graph.number_of_edges())\n",
    "print('Number of self-loops:', graph.number_of_selfloops())"
   ]
  },
  {
   "cell_type": "code",
   "execution_count": null,
   "metadata": {},
   "outputs": [],
   "source": []
  },
  {
   "cell_type": "markdown",
   "metadata": {},
   "source": [
    "## 5. Visualize the dataset"
   ]
  },
  {
   "cell_type": "code",
   "execution_count": 44,
   "metadata": {},
   "outputs": [
    {
     "name": "stdout",
     "output_type": "stream",
     "text": [
      "count    1.000000e+02\n",
      "mean     1.516877e+05\n",
      "std      1.937082e+05\n",
      "min      1.723000e+03\n",
      "25%      7.706900e+04\n",
      "50%      1.057855e+05\n",
      "75%      1.740125e+05\n",
      "max      1.624574e+06\n",
      "Name: Count, dtype: float64\n"
     ]
    },
    {
     "data": {
      "image/png": "[encoded data removed]",
      "text/plain": [
       "<Figure size 432x288 with 1 Axes>"
      ]
     },
     "metadata": {
      "needs_background": "light"
     },
     "output_type": "display_data"
    }
   ],
   "source": [
    "plt.boxplot(df_tpp.Count)\n",
    "plt.yscale('log');\n",
    "print(df_tpp.Count.describe())"
   ]
  },
  {
   "cell_type": "code",
   "execution_count": 45,
   "metadata": {},
   "outputs": [
    {
     "data": {
      "image/png": "[encoded data removed]",
      "text/plain": [
       "<Figure size 1296x252 with 3 Axes>"
      ]
     },
     "metadata": {
      "needs_background": "light"
     },
     "output_type": "display_data"
    }
   ],
   "source": [
    "fig, axs = plt.subplots(1, 3, figsize=(18, 3.5))\n",
    "\n",
    "axs[0].hist(list(map(len, df_tpp.Timestamp)))\n",
    "axs[0].set_xlabel('Number of events \\n in each dim')\n",
    "\n",
    "start_time = min(map(min, df_tpp.Timestamp))\n",
    "end_time = max(map(max, df_tpp.Timestamp))\n",
    "\n",
    "axs[1].hist(list(map(min, df_tpp.Timestamp)), bins=np.linspace(start_time, end_time, 20))\n",
    "axs[1].set_xlabel('First of event \\n in each dim')\n",
    "\n",
    "axs[2].hist(list(map(max, df_tpp.Timestamp)), bins=np.linspace(start_time, end_time, 20))\n",
    "axs[2].set_xlabel('Last of events \\n in each dim')\n",
    "\n",
    "fig.suptitle(f\"Dataset MemeTracker\");"
   ]
  },
  {
   "cell_type": "code",
   "execution_count": 67,
   "metadata": {},
   "outputs": [
    {
     "data": {
      "text/plain": [
       "15168774"
      ]
     },
     "execution_count": 67,
     "metadata": {},
     "output_type": "execute_result"
    }
   ],
   "source": [
    "sum(map(len, df_tpp.Timestamp))"
   ]
  },
  {
   "cell_type": "code",
   "execution_count": 48,
   "metadata": {},
   "outputs": [
    {
     "data": {
      "image/png": "[encoded data removed]",
      "text/plain": [
       "<Figure size 576x576 with 1 Axes>"
      ]
     },
     "metadata": {
      "needs_background": "light"
     },
     "output_type": "display_data"
    }
   ],
   "source": [
    "plt.figure(figsize=(8, 8))\n",
    "plt.imshow(adj_mat)\n",
    "plt.title('Adjacency matrix');"
   ]
  },
  {
   "cell_type": "code",
   "execution_count": 50,
   "metadata": {},
   "outputs": [
    {
     "data": {
      "image/png": "[encoded data removed]",
      "text/plain": [
       "<Figure size 432x288 with 1 Axes>"
      ]
     },
     "metadata": {
      "needs_background": "light"
     },
     "output_type": "display_data"
    }
   ],
   "source": [
    "diag_mask = np.eye(adj_mat.shape[0]).astype(bool)\n",
    "plt.boxplot([mu_mat, adj_mat[diag_mask], adj_mat[~diag_mask]], labels=['Background', 'Diagonal', 'Cross-interaction']);\n",
    "plt.yscale('log');"
   ]
  },
  {
   "cell_type": "code",
   "execution_count": null,
   "metadata": {},
   "outputs": [],
   "source": []
  },
  {
   "cell_type": "markdown",
   "metadata": {},
   "source": [
    "## 7. Make the dataset"
   ]
  },
  {
   "cell_type": "code",
   "execution_count": 68,
   "metadata": {},
   "outputs": [],
   "source": [
    "dim = 100\n",
    "nodes = list(range(100))\n",
    "\n",
    "# Build index to name map\n",
    "idx_to_name = dict(zip(top_name_to_idx_map.values(), top_name_to_idx_map.keys()))\n",
    "assert len(set(idx_to_name).intersection(nodes)) == dim\n",
    "\n",
    "# arrays of timestamps\n",
    "timestamps = [np.array(df_tpp['Timestamp'].loc[idx_to_name[i]]) for i in nodes]\n",
    "start_time = min(map(min, timestamps))\n",
    "timestamps = [arr - start_time for arr in timestamps]\n",
    "\n",
    "# Build directed graph from adjacency matrix\n",
    "graph = nx.DiGraph(adj_mat)\n",
    "\n",
    "dataset = Dataset.from_data(timestamps=timestamps, idx_to_name=idx_to_name, graph=graph, timescale='median')\n",
    "dataset.end_time = max(map(max, dataset.timestamps))"
   ]
  },
  {
   "cell_type": "code",
   "execution_count": 69,
   "metadata": {},
   "outputs": [],
   "source": [
    "dataset.end_time = max(map(max, dataset.timestamps))"
   ]
  },
  {
   "cell_type": "code",
   "execution_count": 70,
   "metadata": {},
   "outputs": [],
   "source": [
    "with open('/root/workspace/var-wold/data/memetracker/dataset_memetracker_good.pk', 'wb') as f:\n",
    "    pickle.dump(dataset, f)"
   ]
  },
  {
   "cell_type": "code",
   "execution_count": null,
   "metadata": {},
   "outputs": [],
   "source": []
  }
 ],
 "metadata": {
  "kernelspec": {
   "display_name": "Python 3",
   "language": "python",
   "name": "python3"
  },
  "language_info": {
   "codemirror_mode": {
    "name": "ipython",
    "version": 3
   },
   "file_extension": ".py",
   "mimetype": "text/x-python",
   "name": "python",
   "nbconvert_exporter": "python",
   "pygments_lexer": "ipython3",
   "version": "3.7.7"
  }
 },
 "nbformat": 4,
 "nbformat_minor": 4
}

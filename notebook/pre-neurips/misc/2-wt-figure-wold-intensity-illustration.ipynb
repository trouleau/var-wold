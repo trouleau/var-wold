{
 "cells": [
  {
   "cell_type": "code",
   "execution_count": 7,
   "metadata": {},
   "outputs": [],
   "source": [
    "import numpy as np\n",
    "\n",
    "import matplotlib\n",
    "from matplotlib.backends.backend_pgf import FigureCanvasPgf\n",
    "from matplotlib import pyplot as plt\n",
    "%matplotlib inline\n",
    "\n",
    "import torch\n",
    "\n",
    "import tsvar"
   ]
  },
  {
   "cell_type": "code",
   "execution_count": 8,
   "metadata": {},
   "outputs": [],
   "source": [
    "NEURIPS_RCPARAMS = {\n",
    "    \"figure.autolayout\": False,         # Makes sure nothing the feature is neat & tight.\n",
    "    \"figure.figsize\": (5.5, 2.95),      # Text width: 5.5in (double figure minus spacing 0.2in).\n",
    "    \"figure.dpi\": 150,                  # Displays figures nicely in notebooks.\n",
    "    \"axes.linewidth\": 0.5,              # Matplotlib's current default is 0.8.\n",
    "    \"xtick.major.width\": 0.5,\n",
    "    \"xtick.minor.width\": 0.5,\n",
    "    \"ytick.major.width\": 0.5,\n",
    "    \"ytick.minor.width\": 0.5,\n",
    "    \"text.usetex\": True,                # use LaTeX to write all text\n",
    "    \"font.family\": \"serif\",             # use serif rather than sans-serif\n",
    "    \"font.serif\": \"Times New Roman\",    # use \"Times New Roman\" as the standard font\n",
    "    \"font.size\": 7,\n",
    "    \"axes.titlesize\": 7,                # LaTeX default is 10pt font.\n",
    "    \"axes.labelsize\": 7,                # LaTeX default is 10pt font.\n",
    "    \"legend.fontsize\": 7,               # Make the legend/label fonts a little smaller\n",
    "    \"legend.frameon\": True,             # Remove the black frame around the legend\n",
    "    \"patch.linewidth\": 0.5,\n",
    "    \"xtick.labelsize\": 6,\n",
    "    \"ytick.labelsize\": 6,\n",
    "    \"lines.linewidth\": 1.0,\n",
    "    \"lines.markersize\": 4,\n",
    "    \"grid.linewidth\": 0.3,\n",
    "    \"pgf.texsystem\": \"xelatex\",         # use Xelatex which is TTF font aware\n",
    "    \"pgf.rcfonts\": False,               # Use pgf.preamble, ignore standard Matplotlib RC\n",
    "    \"pgf.preamble\": [\n",
    "        r'\\usepackage{fontspec}',\n",
    "        r'\\usepackage{unicode-math}',\n",
    "        r'\\setmainfont{Times New Roman}',\n",
    "    ],\n",
    "    'errorbar.capsize': 3.0,\n",
    "}\n",
    "matplotlib.backend_bases.register_backend('pdf', FigureCanvasPgf)\n",
    "matplotlib.rcParams.update(NEURIPS_RCPARAMS)"
   ]
  },
  {
   "cell_type": "code",
   "execution_count": 3,
   "metadata": {},
   "outputs": [],
   "source": [
    "dim = 2\n",
    "\n",
    "mu = np.array([0.2, 0.1])\n",
    "\n",
    "beta = 0.5 * np.ones((2, 2))\n",
    "\n",
    "alpha = np.array([\n",
    "    [1.0, 2.0],\n",
    "    [0.0, 0.0]\n",
    "])\n",
    "\n",
    "mu_t = torch.tensor(mu)\n",
    "beta_t = torch.tensor(beta)\n",
    "alpha_t = torch.tensor(alpha)"
   ]
  },
  {
   "cell_type": "raw",
   "metadata": {},
   "source": [
    "simu = tsvar.simulate.MultivariateWoldSimulator(mu_a=mu, alpha_ba=alpha, beta_ba=beta)\n",
    "events = simu.simulate(max_jumps=20)\n",
    "\n",
    "end_time = max(map(max, events))\n",
    "start_time = 0.5*end_time\n",
    "events_filtered = [ev[ev > start_time] for ev in events]"
   ]
  },
  {
   "cell_type": "code",
   "execution_count": 10,
   "metadata": {},
   "outputs": [],
   "source": [
    "events = [\n",
    "    np.array([ 7.11167,  8.32064,  8.97135,  9.70902, 12.21813, 16.61783, \n",
    "              17.19476, 20.61618, 24.53522]),\n",
    "    np.array([11.90559, 12.7165 , 13.53324, 14.37438, 20.09996, 22.53046, \n",
    "              23.58278, 24.09456, 24.77909, 24.89331, 25.06333])\n",
    "]\n",
    "\n",
    "end_time = max(map(max, events))\n",
    "start_time = 0.5*end_time\n",
    "events_filtered = [ev[ev > start_time] for ev in events]"
   ]
  },
  {
   "cell_type": "code",
   "execution_count": 11,
   "metadata": {
    "scrolled": true
   },
   "outputs": [],
   "source": [
    "def intensity(i, t, events, mu, alpha, beta, debug=False):\n",
    "    intensity = mu[i]\n",
    "    if debug:\n",
    "        print(f\"lambda_{i}[{t}] = {mu[i]:.2f}\", end=\"\")\n",
    "    \n",
    "    try:\n",
    "        t_i_last = events[i][events[i] < t][-1]\n",
    "    except IndexError:\n",
    "        t_i_last = np.nan\n",
    "        return intensity\n",
    "    \n",
    "    for j in range(2):\n",
    "        try:\n",
    "            t_j_prev = events[j][events[j] < t_i_last][-1]\n",
    "        except IndexError:\n",
    "            t_j_prev = np.nan\n",
    "        \n",
    "        delta_ji_t = t_i_last - t_j_prev\n",
    "        \n",
    "        if not np.isnan(delta_ji_t):\n",
    "            intensity += alpha[j, i] / (beta[j, i] + delta_ji_t)\n",
    "            if debug:\n",
    "                print(f\" + {alpha[j, i]:.2f} / ({beta[j, i]:.2f} + {delta_ji_t:.2f})\", end=\"\")\n",
    "    \n",
    "    if debug:\n",
    "        print('', end='\\n')\n",
    "    \n",
    "    return intensity"
   ]
  },
  {
   "cell_type": "code",
   "execution_count": 16,
   "metadata": {},
   "outputs": [
    {
     "data": {
      "image/png": "[encoded data removed]",
      "text/plain": [
       "<Figure size 825x292.5 with 2 Axes>"
      ]
     },
     "metadata": {
      "needs_background": "light"
     },
     "output_type": "display_data"
    }
   ],
   "source": [
    "end_time = max(map(max, events))\n",
    "t_range = np.linspace(start_time, end_time, 1000)\n",
    "\n",
    "intens_0 = [intensity(0, t, events, mu, alpha, beta) for t in t_range]\n",
    "intens_1 = [intensity(1, t, events, mu, alpha, beta) for t in t_range]\n",
    "\n",
    "fig, axs = plt.subplots(2, 1, figsize=(5.5, 1.95), sharex=True, sharey=True)\n",
    "\n",
    "plt.sca(axs[0])\n",
    "plt.scatter(events_filtered[0], np.zeros_like(events_filtered[0]), \n",
    "            marker='o', s=40, zorder=100, c='C0', clip_on=False)\n",
    "plt.plot(t_range, intens_0, c='k', ls='-')\n",
    "plt.ylabel(r\"$\\lambda_{k'}(t)$\")\n",
    "plt.xlabel(r\"$t$\")\n",
    "\n",
    "plt.sca(axs[1])\n",
    "plt.scatter(events_filtered[1], np.zeros_like(events_filtered[1]), \n",
    "            marker='D', s=40, zorder=100, c='C1', clip_on=False)\n",
    "plt.plot(t_range, intens_1, c='k', ls='-')\n",
    "plt.ylabel(r\"$\\lambda_{k}(t)$\")\n",
    "plt.xlabel(r\"$t$\")\n",
    "\n",
    "plt.ylim(bottom=-0.001)\n",
    "plt.xlim(start_time, end_time)\n",
    "\n",
    "for ax in axs:\n",
    "    # Hide the right and top spines\n",
    "    ax.spines['right'].set_visible(False)\n",
    "    ax.spines['top'].set_visible(False)\n",
    "\n",
    "    # Only show ticks on the left and bottom spines\n",
    "    ax.yaxis.set_ticks_position('left')\n",
    "    ax.xaxis.set_ticks_position('bottom')\n",
    "\n",
    "plt.subplots_adjust(left=None, bottom=None, right=None, top=None, wspace=None, hspace=0.1)\n",
    "fig.savefig('fig.pdf')"
   ]
  },
  {
   "cell_type": "code",
   "execution_count": 6,
   "metadata": {},
   "outputs": [
    {
     "data": {
      "image/png": "[encoded data removed]",
      "text/plain": [
       "<Figure size 825x442.5 with 1 Axes>"
      ]
     },
     "metadata": {
      "needs_background": "light"
     },
     "output_type": "display_data"
    }
   ],
   "source": [
    "plt.figure()\n",
    "plt.text(0.5, 0.5, r\"$\\Delta_{k^\\prime,k}(t)$\")\n",
    "plt.axis('off')\n",
    "plt.savefig('tex.pdf')"
   ]
  },
  {
   "cell_type": "code",
   "execution_count": 5,
   "metadata": {},
   "outputs": [
    {
     "data": {
      "image/png": "[encoded data removed]",
      "text/plain": [
       "<Figure size 825x442.5 with 1 Axes>"
      ]
     },
     "metadata": {
      "needs_background": "light"
     },
     "output_type": "display_data"
    }
   ],
   "source": [
    "plt.figure()\n",
    "plt.text(0.5, 0.5, r\"$\\Delta_{k^\\prime,k^\\prime}(t)$\")\n",
    "plt.axis('off')\n",
    "plt.savefig('tex2.pdf')"
   ]
  },
  {
   "cell_type": "code",
   "execution_count": 14,
   "metadata": {},
   "outputs": [
    {
     "data": {
      "image/png": "[encoded data removed]",
      "text/plain": [
       "<Figure size 825x442.5 with 1 Axes>"
      ]
     },
     "metadata": {
      "needs_background": "light"
     },
     "output_type": "display_data"
    }
   ],
   "source": [
    "plt.figure()\n",
    "plt.text(0.5, 0.5, r\"$t_{k_{t^-}}$\")\n",
    "#plt.text(0.0, 0.0, r\"$\\Delta_{k',k'}(t)$\")\n",
    "plt.axis('off')\n",
    "plt.savefig('tex3.pdf')"
   ]
  },
  {
   "cell_type": "code",
   "execution_count": 13,
   "metadata": {},
   "outputs": [
    {
     "data": {
      "image/png": "[encoded data removed]",
      "text/plain": [
       "<Figure size 825x442.5 with 1 Axes>"
      ]
     },
     "metadata": {
      "needs_background": "light"
     },
     "output_type": "display_data"
    }
   ],
   "source": [
    "plt.figure()\n",
    "plt.text(0.5, 0.5, r\"$t_{k^{\\prime}_{k,t^-}}$\")\n",
    "#plt.text(0.0, 0.0, r\"$\\Delta_{k',k'}(t)$\")\n",
    "plt.axis('off')\n",
    "plt.savefig('tex4.pdf')"
   ]
  },
  {
   "cell_type": "code",
   "execution_count": 11,
   "metadata": {},
   "outputs": [
    {
     "data": {
      "image/png": "[encoded data removed]",
      "text/plain": [
       "<Figure size 825x442.5 with 1 Axes>"
      ]
     },
     "metadata": {
      "needs_background": "light"
     },
     "output_type": "display_data"
    }
   ],
   "source": [
    "plt.figure()\n",
    "plt.text(0.5, 0.5, \"time\")\n",
    "plt.axis('off')\n",
    "plt.savefig('tex5.pdf')"
   ]
  },
  {
   "cell_type": "code",
   "execution_count": 4,
   "metadata": {},
   "outputs": [
    {
     "data": {
      "image/png": "[encoded data removed]",
      "text/plain": [
       "<Figure size 825x442.5 with 1 Axes>"
      ]
     },
     "metadata": {
      "needs_background": "light"
     },
     "output_type": "display_data"
    }
   ],
   "source": [
    "plt.figure()\n",
    "plt.text(0.5, 0.5, r\"$k^\\prime$\")\n",
    "plt.axis('off')\n",
    "plt.savefig('tex6.pdf')"
   ]
  },
  {
   "cell_type": "code",
   "execution_count": 9,
   "metadata": {},
   "outputs": [
    {
     "data": {
      "image/png": "[encoded data removed]",
      "text/plain": [
       "<Figure size 825x442.5 with 1 Axes>"
      ]
     },
     "metadata": {
      "needs_background": "light"
     },
     "output_type": "display_data"
    }
   ],
   "source": [
    "plt.figure()\n",
    "plt.text(0.5, 0.5, r\"$s_k(t)$\")\n",
    "plt.axis('off')\n",
    "plt.savefig('tex6.pdf')"
   ]
  },
  {
   "cell_type": "code",
   "execution_count": 14,
   "metadata": {},
   "outputs": [
    {
     "data": {
      "image/png": "[encoded data removed]",
      "text/plain": [
       "<Figure size 825x442.5 with 1 Axes>"
      ]
     },
     "metadata": {
      "needs_background": "light"
     },
     "output_type": "display_data"
    }
   ],
   "source": [
    "plt.figure()\n",
    "plt.text(0.5, 0.5, r\"$s_{k^\\prime}(t)$\")\n",
    "plt.axis('off')\n",
    "plt.savefig('tex7.pdf')"
   ]
  },
  {
   "cell_type": "code",
   "execution_count": 15,
   "metadata": {},
   "outputs": [
    {
     "data": {
      "image/png": "[encoded data removed]",
      "text/plain": [
       "<Figure size 825x442.5 with 1 Axes>"
      ]
     },
     "metadata": {
      "needs_background": "light"
     },
     "output_type": "display_data"
    }
   ],
   "source": [
    "plt.figure()\n",
    "plt.text(0.5, 0.5, r\"$s_{k^\\prime}(s_k(t))$\")\n",
    "plt.axis('off')\n",
    "plt.savefig('tex8.pdf')"
   ]
  },
  {
   "cell_type": "code",
   "execution_count": null,
   "metadata": {},
   "outputs": [],
   "source": []
  }
 ],
 "metadata": {
  "kernelspec": {
   "display_name": "Python 3",
   "language": "python",
   "name": "python3"
  },
  "language_info": {
   "codemirror_mode": {
    "name": "ipython",
    "version": 3
   },
   "file_extension": ".py",
   "mimetype": "text/x-python",
   "name": "python",
   "nbconvert_exporter": "python",
   "pygments_lexer": "ipython3",
   "version": "3.6.10"
  }
 },
 "nbformat": 4,
 "nbformat_minor": 4
}

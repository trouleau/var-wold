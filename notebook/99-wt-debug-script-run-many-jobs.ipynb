{
 "cells": [
  {
   "cell_type": "code",
   "execution_count": 1,
   "metadata": {},
   "outputs": [],
   "source": [
    "%load_ext autoreload\n",
    "%autoreload 2"
   ]
  },
  {
   "cell_type": "code",
   "execution_count": 2,
   "metadata": {},
   "outputs": [],
   "source": [
    "import json\n",
    "import numpy as np\n",
    "\n",
    "from experiments_utils import run_mle, generate_data"
   ]
  },
  {
   "cell_type": "code",
   "execution_count": 3,
   "metadata": {},
   "outputs": [],
   "source": [
    "param_fname = '../output/test-1/g00-n002000/params.json'\n",
    "sim_idx = 0"
   ]
  },
  {
   "cell_type": "code",
   "execution_count": 4,
   "metadata": {},
   "outputs": [
    {
     "name": "stdout",
     "output_type": "stream",
     "text": [
      "\n",
      "Simulation  1 /  2\n"
     ]
    }
   ],
   "source": [
    "# Load parameters\n",
    "with open(param_fname, 'r') as in_f:\n",
    "    sim_param_dict = json.load(in_f)\n",
    "param_dict = {k: np.array(v) for k, v in sim_param_dict['params'].items()}\n",
    "sim_seed = sim_param_dict['sim_seed_list'][sim_idx]\n",
    "#max_jumps = sim_param_dict['max_jumps']\n",
    "max_jumps = 50000\n",
    "\n",
    "print()\n",
    "n_sim = len(sim_param_dict['sim_seed_list'])\n",
    "print(f'Simulation {sim_idx+1:>2d} / {n_sim:>2d}')\n",
    "\n",
    "# Simulate data\n",
    "events, end_time, _ = generate_data(max_jumps=max_jumps, sim_seed=sim_seed,\n",
    "                                    **param_dict)\n"
   ]
  },
  {
   "cell_type": "code",
   "execution_count": 9,
   "metadata": {},
   "outputs": [
    {
     "data": {
      "text/plain": [
       "array([  1000,   1802,   3246,   5848,  10536,  18982,  34200,  61616, 111009, 200000])"
      ]
     },
     "execution_count": 9,
     "metadata": {},
     "output_type": "execute_result"
    }
   ],
   "source": [
    "np.logspace(np.log10(1e3), np.log10(200e3), num=10).round().astype(int)"
   ]
  },
  {
   "cell_type": "code",
   "execution_count": null,
   "metadata": {},
   "outputs": [],
   "source": []
  }
 ],
 "metadata": {
  "kernelspec": {
   "display_name": "Python 3",
   "language": "python",
   "name": "python3"
  },
  "language_info": {
   "codemirror_mode": {
    "name": "ipython",
    "version": 3
   },
   "file_extension": ".py",
   "mimetype": "text/x-python",
   "name": "python",
   "nbconvert_exporter": "python",
   "pygments_lexer": "ipython3",
   "version": "3.6.10"
  }
 },
 "nbformat": 4,
 "nbformat_minor": 4
}

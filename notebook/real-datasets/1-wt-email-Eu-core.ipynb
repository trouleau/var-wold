{
 "cells": [
  {
   "cell_type": "code",
   "execution_count": 1,
   "metadata": {
    "scrolled": true
   },
   "outputs": [],
   "source": [
    "%load_ext autoreload\n",
    "%autoreload 2"
   ]
  },
  {
   "cell_type": "code",
   "execution_count": 2,
   "metadata": {},
   "outputs": [],
   "source": [
    "from matplotlib import pyplot as plt\n",
    "import networkx as nx\n",
    "import numpy as np\n",
    "import pandas as pd\n",
    "import itertools\n",
    "import torch\n",
    "import os\n",
    "\n",
    "import scipy.stats\n",
    "\n",
    "import tsvar\n",
    "from tsvar.preprocessing import Dataset\n",
    "import experiments_utils"
   ]
  },
  {
   "cell_type": "markdown",
   "metadata": {},
   "source": [
    "Set cells width"
   ]
  },
  {
   "cell_type": "code",
   "execution_count": 3,
   "metadata": {},
   "outputs": [
    {
     "data": {
      "text/html": [
       "<style>.container { width:80% !important; }</style>"
      ],
      "text/plain": [
       "<IPython.core.display.HTML object>"
      ]
     },
     "metadata": {},
     "output_type": "display_data"
    }
   ],
   "source": [
    "from IPython.core.display import display, HTML\n",
    "display(HTML(\"<style>.container { width:80% !important; }</style>\"))"
   ]
  },
  {
   "cell_type": "markdown",
   "metadata": {},
   "source": [
    "---\n",
    "\n",
    "## Load the dataset\n",
    "\n",
    "Set input path"
   ]
  },
  {
   "cell_type": "code",
   "execution_count": 4,
   "metadata": {},
   "outputs": [],
   "source": [
    "INPUT_PATH = \"../../data/email-Eu-core-temporal.txt.gz\""
   ]
  },
  {
   "cell_type": "markdown",
   "metadata": {},
   "source": [
    "Load the dataset"
   ]
  },
  {
   "cell_type": "code",
   "execution_count": 5,
   "metadata": {},
   "outputs": [],
   "source": [
    "dataset = Dataset(INPUT_PATH, top=100, timescale='median')\n",
    "#dataset = Dataset.from_pickle(INPUT_PATH)"
   ]
  },
  {
   "cell_type": "code",
   "execution_count": 6,
   "metadata": {
    "scrolled": true
   },
   "outputs": [
    {
     "data": {
      "image/png": "[encoded data removed]",
      "text/plain": [
       "<Figure size 1296x252 with 3 Axes>"
      ]
     },
     "metadata": {
      "needs_background": "light"
     },
     "output_type": "display_data"
    }
   ],
   "source": [
    "fig, axs = plt.subplots(1, 3, figsize=(18, 3.5))\n",
    "\n",
    "axs[0].hist(list(map(len, dataset.timestamps)))\n",
    "axs[0].set_xlabel('Number of events \\n in each dim')\n",
    "\n",
    "end_time = dataset.end_time\n",
    "axs[1].hist(list(map(min, dataset.timestamps)), bins=np.linspace(0, end_time, 20))\n",
    "axs[1].set_xlabel('First of event \\n in each dim')\n",
    "\n",
    "axs[2].hist(list(map(max, dataset.timestamps)), bins=np.linspace(0, end_time, 20))\n",
    "axs[2].set_xlabel('Last of events \\n in each dim')\n",
    "\n",
    "fig.suptitle(f\"Dataset {os.path.split(INPUT_PATH)[1]}\");"
   ]
  },
  {
   "cell_type": "markdown",
   "metadata": {},
   "source": [
    "Print statistics of the dataset"
   ]
  },
  {
   "cell_type": "code",
   "execution_count": 7,
   "metadata": {
    "scrolled": true
   },
   "outputs": [
    {
     "name": "stdout",
     "output_type": "stream",
     "text": [
      "Num. of dimensions: 100\n",
      "    Num. of events: 92,924\n",
      "               %NZ: 26.23%\n",
      "\n",
      "Stats. of num. of events per dim:\n",
      "count     100.000000\n",
      "mean      929.240000\n",
      "std       589.331261\n",
      "min        82.000000\n",
      "25%       544.000000\n",
      "50%       770.000000\n",
      "75%      1210.000000\n",
      "max      3334.000000\n",
      "dtype: float64\n"
     ]
    }
   ],
   "source": [
    "print(f\"Num. of dimensions: {len(dataset.timestamps):,d}\")\n",
    "print(f\"    Num. of events: {sum(map(len, dataset.timestamps)):,d}\")\n",
    "print(f\"               %NZ: {100 * dataset.graph.number_of_edges() / (dataset.graph.number_of_nodes() ** 2):.2f}%\")\n",
    "print()\n",
    "print(\"Stats. of num. of events per dim:\")\n",
    "num_jumps_per_dim = np.array(list(map(len, dataset.timestamps)))\n",
    "print(pd.Series(num_jumps_per_dim).describe())"
   ]
  },
  {
   "cell_type": "markdown",
   "metadata": {},
   "source": [
    "Build ground truth adjacency matrix"
   ]
  },
  {
   "cell_type": "code",
   "execution_count": 8,
   "metadata": {},
   "outputs": [],
   "source": [
    "adjacency_true = nx.adjacency_matrix(dataset.graph, nodelist=range(dataset.dim)).toarray()\n",
    "adjacency_true = adjacency_true / adjacency_true.max()"
   ]
  },
  {
   "cell_type": "code",
   "execution_count": 9,
   "metadata": {
    "scrolled": true
   },
   "outputs": [
    {
     "data": {
      "image/png": "[encoded data removed]",
      "text/plain": [
       "<Figure size 432x288 with 1 Axes>"
      ]
     },
     "metadata": {
      "needs_background": "light"
     },
     "output_type": "display_data"
    }
   ],
   "source": [
    "diag_mask = np.eye(len(adjacency_true)).astype(bool)\n",
    "plt.boxplot([adjacency_true[~diag_mask & (adjacency_true > 0)], adjacency_true[diag_mask & (adjacency_true > 0)]],\n",
    "            labels=['Non-Diag Edges', 'Self-loops']);"
   ]
  },
  {
   "cell_type": "markdown",
   "metadata": {},
   "source": [
    "#### Visualize the scale of time using empirical inter-arrival time distributions\n",
    "\n",
    "Compute this for both definitions $\\{\\beta_j\\}$ and $\\{\\beta_{ij}\\}$."
   ]
  },
  {
   "cell_type": "code",
   "execution_count": 10,
   "metadata": {
    "scrolled": false
   },
   "outputs": [
    {
     "name": "stdout",
     "output_type": "stream",
     "text": [
      "Busca estimators of **beta_j**:\n",
      "count    100.000000\n",
      "mean       1.047821\n",
      "std        1.697593\n",
      "min        0.027073\n",
      "25%        0.290703\n",
      "50%        0.556093\n",
      "75%        0.916578\n",
      "max       13.945126\n",
      "dtype: float64\n",
      "\n",
      "Busca estimators of **beta_{ji}**:\n",
      "count    10000.000000\n",
      "mean         1.218508\n",
      "std          2.322191\n",
      "min          0.000000\n",
      "25%          0.344152\n",
      "50%          1.004831\n",
      "75%          1.474058\n",
      "max        118.573898\n",
      "dtype: float64\n",
      "\n"
     ]
    },
    {
     "data": {
      "image/png": "[encoded data removed]",
      "text/plain": [
       "<Figure size 1152x288 with 2 Axes>"
      ]
     },
     "metadata": {
      "needs_background": "light"
     },
     "output_type": "display_data"
    }
   ],
   "source": [
    "fig, axs = plt.subplots(1, 2, figsize=(16, 4), sharey=True)\n",
    "\n",
    "busca_betas = np.array([np.median(np.hstack((ev[0], np.diff(ev)))) for ev in dataset.timestamps])\n",
    "plt.sca(axs[0])\n",
    "plt.grid()\n",
    "plt.boxplot(busca_betas, labels=[r'Distribution of Busca estimators of $\\beta_j$']);\n",
    "plt.yscale('log')\n",
    "print('Busca estimators of **beta_j**:')\n",
    "print(pd.Series(busca_betas.flatten()).describe())\n",
    "print()\n",
    "\n",
    "wold_model = tsvar.models.WoldModel()\n",
    "wold_model.observe(dataset.timestamps)\n",
    "busca_beta_ji = np.zeros((wold_model.dim, wold_model.dim))\n",
    "for i in range(wold_model.dim):\n",
    "    busca_beta_ji[:, i] = np.median(wold_model.delta_ikj[i][:, :], axis=0) / np.exp(1)\n",
    "del wold_model\n",
    "plt.sca(axs[1])\n",
    "plt.grid()\n",
    "plt.boxplot(busca_beta_ji.flatten(), labels=[r'Distribution of Busca estimators of $\\beta_{ji}$']);\n",
    "plt.yscale('log')\n",
    "print('Busca estimators of **beta_{ji}**:')\n",
    "print(pd.Series(busca_beta_ji.flatten()).describe())\n",
    "print()"
   ]
  },
  {
   "cell_type": "code",
   "execution_count": 11,
   "metadata": {},
   "outputs": [],
   "source": [
    "events = dataset.timestamps\n",
    "end_time = dataset.end_time"
   ]
  },
  {
   "cell_type": "markdown",
   "metadata": {},
   "source": [
    "---\n",
    "\n",
    "## Run inference"
   ]
  },
  {
   "cell_type": "markdown",
   "metadata": {},
   "source": [
    "---\n",
    "\n",
    "### Run BBVI"
   ]
  },
  {
   "cell_type": "code",
   "execution_count": null,
   "metadata": {},
   "outputs": [],
   "source": [
    "dim = len(events)\n",
    "n_params = dim + dim**2 + dim**2\n",
    "end_time = max(map(max, events))\n",
    "\n",
    "# Set initial guess\n",
    "coeffs_start = torch.tensor(np.hstack((\n",
    "    # loc\n",
    "    -2.0 * torch.ones(dim, dtype=torch.float),                  # baseline\n",
    "    0.0 * torch.ones((dim, dim), dtype=torch.float).flatten(),  # beta\n",
    "    -2.0 * torch.ones((dim, dim), dtype=torch.float).flatten(),  # adjacency\n",
    "    # scale\n",
    "    torch.log(0.2 * torch.ones(dim, dtype=torch.float)),\n",
    "    torch.log(0.2 * torch.ones((dim, dim), dtype=torch.float).flatten()),\n",
    "    torch.log(0.2 * torch.ones((dim, dim), dtype=torch.float).flatten()),\n",
    ")))\n",
    "\n",
    "# Define priors/posteriors\n",
    "posterior = tsvar.posteriors.LogNormalPosterior\n",
    "prior = tsvar.priors.GaussianLaplacianPrior\n",
    "mask_gaus = torch.zeros(n_params, dtype=torch.bool)\n",
    "mask_gaus[:dim + dim**2] = 1  # Gaussian prior for baseline and beta\n",
    "C = 1e3\n",
    "\n",
    "# Init the model object\n",
    "model = tsvar.models.WoldModelBBVI(posterior=posterior, prior=prior, C=C,\n",
    "                                   prior_kwargs={'mask_gaus': mask_gaus},\n",
    "                                   n_samples=1, n_weights=1, weight_temp=1,\n",
    "                                   verbose=False, device='cpu')\n",
    "model.observe(events, end_time)\n",
    "\n",
    "# Set link function for callback (vi coeffs -> posterior mode)\n",
    "def link_func(coeffs):\n",
    "    \"\"\"variationa coeffs -> posterior mode of adjacency\"\"\"\n",
    "    # Numpy to torch\n",
    "    coeffs = torch.tensor(coeffs) if isinstance(coeffs, np.ndarray) else coeffs\n",
    "    return model.posterior.mode(\n",
    "        coeffs[:model.n_params], coeffs[model.n_params:]\n",
    "    ).detach().numpy()[dim:dim+dim**2]\n",
    "\n",
    "# Set the callback (callback parameters are posterior mode)\n",
    "callback = tsvar.utils.callbacks.LearnerCallbackMLE(\n",
    "    x0=posterior().mode(\n",
    "        coeffs_start[:dim+2*dim**2], coeffs_start[dim+2*dim**2:]\n",
    "    )[dim:dim+dim**2],\n",
    "    print_every=100,\n",
    "    coeffs_true=adjacency_true,\n",
    "    acc_thresh=0.05,\n",
    "    dim=dim,\n",
    "    link_func=link_func,\n",
    "    default_end='\\n')\n",
    "\n",
    "# Fit the model\n",
    "conv = model.fit(x0=coeffs_start, optimizer=torch.optim.Adam, lr=1e-1,\n",
    "                 lr_sched=0.9999, tol=1e-6, max_iter=20000,\n",
    "                 mstep_interval=100, mstep_offset=500, mstep_momentum=0.5,\n",
    "                 seed=None, callback=callback)"
   ]
  },
  {
   "cell_type": "code",
   "execution_count": null,
   "metadata": {},
   "outputs": [],
   "source": [
    "coeffs_hat = model.posterior.mode(model.coeffs[:n_params], model.coeffs[n_params:]).detach().numpy()\n",
    "beta_hat = coeffs_hat[dim:dim+dim**2]\n",
    "adj_hat = coeffs_hat[dim+dim**2:]"
   ]
  },
  {
   "cell_type": "code",
   "execution_count": null,
   "metadata": {},
   "outputs": [],
   "source": [
    "plt.boxplot([adj_hat.flatten(), beta_hat.flatten()]);"
   ]
  },
  {
   "cell_type": "code",
   "execution_count": null,
   "metadata": {},
   "outputs": [],
   "source": [
    "coeffs_hat = model.posterior.mode(model.coeffs[:n_params], model.coeffs[n_params:]).detach().numpy()\n",
    "beta_hat = coeffs_hat[dim:dim+dim**2]\n",
    "adj_hat = coeffs_hat[dim+dim**2:]\n",
    "\n",
    "adj_hat = adj_hat / beta_hat\n",
    "\n",
    "experiments_utils.print_report(adj_hat=adj_hat, adj_true=adjacency_true, thresh=0.05)"
   ]
  },
  {
   "cell_type": "code",
   "execution_count": null,
   "metadata": {},
   "outputs": [],
   "source": []
  },
  {
   "cell_type": "markdown",
   "metadata": {},
   "source": [
    "---\n",
    "\n",
    "### Run VI"
   ]
  },
  {
   "cell_type": "code",
   "execution_count": 13,
   "metadata": {},
   "outputs": [
    {
     "name": "stdout",
     "output_type": "stream",
     "text": [
      "ALPHA:\n",
      "------\n",
      "mean\n",
      "0.1\n",
      "variance\n",
      "0.1\n",
      "BETA:\n",
      "-----\n",
      "mean\n",
      "0.9174311926605505\n",
      "variance\n",
      "0.0077933332709866675\n"
     ]
    }
   ],
   "source": [
    "dim = len(events)\n",
    "\n",
    "# Set priors\n",
    "# prior: Alpha\n",
    "as_pr = 0.1 * np.ones((dim + 1, dim))\n",
    "ar_pr = 1.0 * np.ones((dim + 1, dim))\n",
    "\n",
    "# prior: Beta\n",
    "bs_pr = 110.0 * np.ones((dim, dim))\n",
    "br_pr = 100.0 * np.ones((dim, dim))\n",
    "\n",
    "# prior: Z\n",
    "zc_pr = [1.0 * np.ones((len(events[i]), dim+1)) for i in range(dim)]\n",
    "\n",
    "print('ALPHA:')\n",
    "print('------')\n",
    "print('mean')\n",
    "print(as_pr[0,0] / ar_pr[0,0])\n",
    "print('variance')\n",
    "print(as_pr[0,0] / ar_pr[0,0] ** 2)\n",
    "\n",
    "print('BETA:')\n",
    "print('-----')\n",
    "print('mean')\n",
    "print(br_pr[0,0] / (bs_pr[0,0] - 1))\n",
    "print('variance')\n",
    "print(br_pr[0,0]**2 / ((bs_pr[0,0] - 1)**2 * (bs_pr[0,0] - 2)))"
   ]
  },
  {
   "cell_type": "code",
   "execution_count": 14,
   "metadata": {},
   "outputs": [],
   "source": [
    "# Set model & observations\n",
    "vi_model = tsvar.models.WoldModelVariational(verbose=True)\n",
    "vi_model.observe(events)"
   ]
  },
  {
   "cell_type": "code",
   "execution_count": 15,
   "metadata": {},
   "outputs": [
    {
     "name": "stdout",
     "output_type": "stream",
     "text": [
      "iter:     1 | dx: +9.9672e-02 | f1-score: 0.00 | relerr: 1.76e+01 | p@5: 0.00 | p@10: 0.00 | p@20: 0.00 | time/it: 2.94e+01     \n",
      "iter:     2 | dx: +5.9534e-02 | f1-score: 0.00 | relerr: 1.87e+01 | p@5: 0.00 | p@10: 0.00 | p@20: 0.00 | time/it: 1.08e+00     \n",
      "iter:     3 | dx: +8.5466e-02 | f1-score: 0.01 | relerr: 1.93e+01 | p@5: 0.00 | p@10: 0.00 | p@20: 0.00 | time/it: 1.10e+00     \n",
      "iter:     4 | dx: +1.1786e-01 | f1-score: 0.02 | relerr: 2.01e+01 | p@5: 0.00 | p@10: 0.00 | p@20: 0.10 | time/it: 1.03e+00     \n",
      "iter:     5 | dx: +1.4399e-01 | f1-score: 0.03 | relerr: 2.07e+01 | p@5: 0.00 | p@10: 0.10 | p@20: 0.10 | time/it: 1.10e+00     \n",
      "iter:     6 | dx: +1.5654e-01 | f1-score: 0.03 | relerr: 2.12e+01 | p@5: 0.00 | p@10: 0.20 | p@20: 0.20 | time/it: 1.01e+00     \n",
      "iter:     7 | dx: +1.5080e-01 | f1-score: 0.04 | relerr: 2.16e+01 | p@5: 0.00 | p@10: 0.20 | p@20: 0.25 | time/it: 1.02e+00     \n",
      "iter:     8 | dx: +1.2873e-01 | f1-score: 0.05 | relerr: 2.19e+01 | p@5: 0.00 | p@10: 0.30 | p@20: 0.25 | time/it: 1.04e+00     \n",
      "iter:     9 | dx: +9.7105e-02 | f1-score: 0.05 | relerr: 2.20e+01 | p@5: 0.00 | p@10: 0.40 | p@20: 0.25 | time/it: 1.04e+00     \n",
      "iter:    10 | dx: +6.3360e-02 | f1-score: 0.06 | relerr: 2.20e+01 | p@5: 0.00 | p@10: 0.40 | p@20: 0.25 | time/it: 1.01e+00     \n",
      "iter:    11 | dx: +5.1911e-02 | f1-score: 0.05 | relerr: 2.20e+01 | p@5: 0.00 | p@10: 0.40 | p@20: 0.25 | time/it: 1.04e+00     \n",
      "iter:    12 | dx: +4.7518e-02 | f1-score: 0.06 | relerr: 2.20e+01 | p@5: 0.00 | p@10: 0.30 | p@20: 0.20 | time/it: 1.02e+00     \n",
      "iter:    13 | dx: +4.1635e-02 | f1-score: 0.06 | relerr: 2.20e+01 | p@5: 0.00 | p@10: 0.30 | p@20: 0.25 | time/it: 1.02e+00     \n",
      "iter:    14 | dx: +3.5740e-02 | f1-score: 0.06 | relerr: 2.19e+01 | p@5: 0.20 | p@10: 0.30 | p@20: 0.20 | time/it: 1.03e+00     \n",
      "iter:    15 | dx: +3.5181e-02 | f1-score: 0.07 | relerr: 2.18e+01 | p@5: 0.20 | p@10: 0.30 | p@20: 0.20 | time/it: 1.02e+00     \n",
      "iter:    16 | dx: +3.3981e-02 | f1-score: 0.07 | relerr: 2.17e+01 | p@5: 0.20 | p@10: 0.20 | p@20: 0.20 | time/it: 1.04e+00     \n",
      "iter:    17 | dx: +3.2313e-02 | f1-score: 0.07 | relerr: 2.17e+01 | p@5: 0.20 | p@10: 0.20 | p@20: 0.25 | time/it: 1.03e+00     \n",
      "iter:    18 | dx: +3.0263e-02 | f1-score: 0.07 | relerr: 2.16e+01 | p@5: 0.20 | p@10: 0.20 | p@20: 0.25 | time/it: 1.04e+00     \n",
      "iter:    19 | dx: +2.7976e-02 | f1-score: 0.07 | relerr: 2.15e+01 | p@5: 0.20 | p@10: 0.20 | p@20: 0.25 | time/it: 1.02e+00     \n",
      "iter:    20 | dx: +2.5532e-02 | f1-score: 0.07 | relerr: 2.14e+01 | p@5: 0.20 | p@10: 0.20 | p@20: 0.30 | time/it: 1.01e+00     \n",
      "iter:    21 | dx: +2.3014e-02 | f1-score: 0.07 | relerr: 2.14e+01 | p@5: 0.20 | p@10: 0.20 | p@20: 0.25 | time/it: 1.05e+00     \n",
      "iter:    22 | dx: +2.0560e-02 | f1-score: 0.07 | relerr: 2.13e+01 | p@5: 0.20 | p@10: 0.20 | p@20: 0.30 | time/it: 1.03e+00     \n",
      "iter:    23 | dx: +1.8302e-02 | f1-score: 0.07 | relerr: 2.12e+01 | p@5: 0.20 | p@10: 0.20 | p@20: 0.25 | time/it: 1.02e+00     \n",
      "iter:    24 | dx: +1.6195e-02 | f1-score: 0.08 | relerr: 2.12e+01 | p@5: 0.20 | p@10: 0.20 | p@20: 0.25 | time/it: 9.96e-01     \n",
      "iter:    25 | dx: +1.4268e-02 | f1-score: 0.08 | relerr: 2.11e+01 | p@5: 0.20 | p@10: 0.20 | p@20: 0.25 | time/it: 1.01e+00     \n",
      "iter:    26 | dx: +1.2504e-02 | f1-score: 0.08 | relerr: 2.10e+01 | p@5: 0.20 | p@10: 0.20 | p@20: 0.25 | time/it: 1.01e+00     \n",
      "iter:    27 | dx: +1.1386e-02 | f1-score: 0.08 | relerr: 2.10e+01 | p@5: 0.20 | p@10: 0.20 | p@20: 0.25 | time/it: 1.01e+00     \n",
      "iter:    28 | dx: +1.0411e-02 | f1-score: 0.08 | relerr: 2.09e+01 | p@5: 0.20 | p@10: 0.20 | p@20: 0.25 | time/it: 1.01e+00     \n",
      "iter:    29 | dx: +9.5105e-03 | f1-score: 0.08 | relerr: 2.09e+01 | p@5: 0.20 | p@10: 0.20 | p@20: 0.25 | time/it: 1.01e+00     \n",
      "iter:    30 | dx: +8.6391e-03 | f1-score: 0.08 | relerr: 2.08e+01 | p@5: 0.20 | p@10: 0.20 | p@20: 0.30 | time/it: 1.03e+00     \n",
      "iter:    31 | dx: +7.7952e-03 | f1-score: 0.08 | relerr: 2.08e+01 | p@5: 0.20 | p@10: 0.20 | p@20: 0.30 | time/it: 1.03e+00     \n",
      "iter:    32 | dx: +7.0438e-03 | f1-score: 0.08 | relerr: 2.08e+01 | p@5: 0.20 | p@10: 0.20 | p@20: 0.30 | time/it: 1.01e+00     \n",
      "iter:    33 | dx: +6.3734e-03 | f1-score: 0.08 | relerr: 2.07e+01 | p@5: 0.20 | p@10: 0.20 | p@20: 0.30 | time/it: 1.04e+00     \n",
      "iter:    34 | dx: +5.7324e-03 | f1-score: 0.08 | relerr: 2.07e+01 | p@5: 0.20 | p@10: 0.20 | p@20: 0.30 | time/it: 1.27e+00     \n",
      "iter:    35 | dx: +5.4185e-03 | f1-score: 0.08 | relerr: 2.07e+01 | p@5: 0.20 | p@10: 0.20 | p@20: 0.30 | time/it: 1.03e+00     \n",
      "iter:    36 | dx: +5.3126e-03 | f1-score: 0.08 | relerr: 2.06e+01 | p@5: 0.20 | p@10: 0.20 | p@20: 0.30 | time/it: 1.01e+00     \n",
      "iter:    37 | dx: +5.1384e-03 | f1-score: 0.08 | relerr: 2.06e+01 | p@5: 0.20 | p@10: 0.20 | p@20: 0.30 | time/it: 1.03e+00     \n",
      "iter:    38 | dx: +4.9268e-03 | f1-score: 0.08 | relerr: 2.06e+01 | p@5: 0.20 | p@10: 0.20 | p@20: 0.30 | time/it: 1.05e+00     \n",
      "iter:    39 | dx: +4.7073e-03 | f1-score: 0.08 | relerr: 2.05e+01 | p@5: 0.20 | p@10: 0.20 | p@20: 0.30 | time/it: 1.05e+00     \n",
      "iter:    40 | dx: +4.5022e-03 | f1-score: 0.09 | relerr: 2.05e+01 | p@5: 0.20 | p@10: 0.20 | p@20: 0.30 | time/it: 1.05e+00     \n",
      "iter:    41 | dx: +4.3396e-03 | f1-score: 0.09 | relerr: 2.05e+01 | p@5: 0.20 | p@10: 0.20 | p@20: 0.30 | time/it: 1.01e+00     \n",
      "iter:    42 | dx: +4.1469e-03 | f1-score: 0.09 | relerr: 2.05e+01 | p@5: 0.20 | p@10: 0.20 | p@20: 0.30 | time/it: 1.04e+00     \n",
      "iter:    43 | dx: +3.9603e-03 | f1-score: 0.09 | relerr: 2.04e+01 | p@5: 0.20 | p@10: 0.20 | p@20: 0.30 | time/it: 1.02e+00     \n",
      "iter:    44 | dx: +3.9625e-03 | f1-score: 0.09 | relerr: 2.04e+01 | p@5: 0.20 | p@10: 0.20 | p@20: 0.30 | time/it: 1.04e+00     \n",
      "iter:    45 | dx: +4.0786e-03 | f1-score: 0.09 | relerr: 2.04e+01 | p@5: 0.20 | p@10: 0.20 | p@20: 0.30 | time/it: 1.02e+00     \n",
      "iter:    46 | dx: +4.1985e-03 | f1-score: 0.09 | relerr: 2.04e+01 | p@5: 0.20 | p@10: 0.20 | p@20: 0.30 | time/it: 1.06e+00     \n",
      "iter:    47 | dx: +4.3147e-03 | f1-score: 0.09 | relerr: 2.04e+01 | p@5: 0.20 | p@10: 0.20 | p@20: 0.30 | time/it: 1.02e+00     \n",
      "iter:    48 | dx: +4.4240e-03 | f1-score: 0.09 | relerr: 2.04e+01 | p@5: 0.20 | p@10: 0.20 | p@20: 0.30 | time/it: 1.01e+00     \n",
      "iter:    49 | dx: +4.5217e-03 | f1-score: 0.09 | relerr: 2.03e+01 | p@5: 0.20 | p@10: 0.20 | p@20: 0.30 | time/it: 1.01e+00     \n",
      "iter:    50 | dx: +4.6202e-03 | f1-score: 0.09 | relerr: 2.03e+01 | p@5: 0.20 | p@10: 0.20 | p@20: 0.30 | time/it: 1.10e+00     \n",
      "iter:    51 | dx: +4.6906e-03 | f1-score: 0.09 | relerr: 2.03e+01 | p@5: 0.20 | p@10: 0.20 | p@20: 0.30 | time/it: 1.03e+00     \n",
      "iter:    52 | dx: +4.7673e-03 | f1-score: 0.09 | relerr: 2.03e+01 | p@5: 0.20 | p@10: 0.20 | p@20: 0.30 | time/it: 1.01e+00     \n",
      "iter:    53 | dx: +4.8333e-03 | f1-score: 0.09 | relerr: 2.03e+01 | p@5: 0.20 | p@10: 0.20 | p@20: 0.30 | time/it: 1.04e+00     \n",
      "iter:    54 | dx: +4.8847e-03 | f1-score: 0.09 | relerr: 2.03e+01 | p@5: 0.20 | p@10: 0.20 | p@20: 0.30 | time/it: 1.01e+00     \n",
      "iter:    55 | dx: +4.9372e-03 | f1-score: 0.09 | relerr: 2.03e+01 | p@5: 0.20 | p@10: 0.20 | p@20: 0.30 | time/it: 1.03e+00     \n",
      "iter:    56 | dx: +4.9670e-03 | f1-score: 0.09 | relerr: 2.03e+01 | p@5: 0.20 | p@10: 0.20 | p@20: 0.30 | time/it: 1.04e+00     \n",
      "iter:    57 | dx: +5.0022e-03 | f1-score: 0.09 | relerr: 2.02e+01 | p@5: 0.20 | p@10: 0.20 | p@20: 0.30 | time/it: 1.04e+00     \n",
      "iter:    58 | dx: +5.0274e-03 | f1-score: 0.09 | relerr: 2.02e+01 | p@5: 0.20 | p@10: 0.20 | p@20: 0.30 | time/it: 1.01e+00     \n",
      "iter:    59 | dx: +5.0499e-03 | f1-score: 0.09 | relerr: 2.02e+01 | p@5: 0.20 | p@10: 0.20 | p@20: 0.30 | time/it: 1.01e+00     \n",
      "iter:    60 | dx: +5.0487e-03 | f1-score: 0.09 | relerr: 2.02e+01 | p@5: 0.20 | p@10: 0.20 | p@20: 0.30 | time/it: 1.02e+00     \n",
      "iter:    61 | dx: +5.0385e-03 | f1-score: 0.09 | relerr: 2.02e+01 | p@5: 0.20 | p@10: 0.20 | p@20: 0.30 | time/it: 1.01e+00     \n",
      "iter:    62 | dx: +5.0235e-03 | f1-score: 0.09 | relerr: 2.02e+01 | p@5: 0.20 | p@10: 0.20 | p@20: 0.30 | time/it: 1.04e+00     \n",
      "iter:    63 | dx: +4.9650e-03 | f1-score: 0.09 | relerr: 2.02e+01 | p@5: 0.20 | p@10: 0.20 | p@20: 0.30 | time/it: 1.01e+00     \n",
      "iter:    64 | dx: +4.9174e-03 | f1-score: 0.09 | relerr: 2.02e+01 | p@5: 0.20 | p@10: 0.20 | p@20: 0.30 | time/it: 1.04e+00     \n"
     ]
    },
    {
     "name": "stdout",
     "output_type": "stream",
     "text": [
      "iter:    65 | dx: +4.8605e-03 | f1-score: 0.09 | relerr: 2.02e+01 | p@5: 0.20 | p@10: 0.20 | p@20: 0.30 | time/it: 1.04e+00     \n",
      "iter:    66 | dx: +4.7940e-03 | f1-score: 0.09 | relerr: 2.02e+01 | p@5: 0.20 | p@10: 0.20 | p@20: 0.30 | time/it: 1.09e+00     \n",
      "iter:    67 | dx: +4.7106e-03 | f1-score: 0.09 | relerr: 2.02e+01 | p@5: 0.20 | p@10: 0.20 | p@20: 0.30 | time/it: 1.02e+00     \n",
      "iter:    68 | dx: +4.6389e-03 | f1-score: 0.09 | relerr: 2.01e+01 | p@5: 0.20 | p@10: 0.20 | p@20: 0.30 | time/it: 1.04e+00     \n",
      "iter:    69 | dx: +4.5385e-03 | f1-score: 0.09 | relerr: 2.01e+01 | p@5: 0.20 | p@10: 0.20 | p@20: 0.30 | time/it: 1.04e+00     \n",
      "iter:    70 | dx: +4.4517e-03 | f1-score: 0.09 | relerr: 2.01e+01 | p@5: 0.20 | p@10: 0.20 | p@20: 0.30 | time/it: 1.01e+00     \n",
      "iter:    71 | dx: +4.3437e-03 | f1-score: 0.09 | relerr: 2.01e+01 | p@5: 0.20 | p@10: 0.20 | p@20: 0.30 | time/it: 1.04e+00     \n",
      "iter:    72 | dx: +4.2465e-03 | f1-score: 0.09 | relerr: 2.01e+01 | p@5: 0.20 | p@10: 0.20 | p@20: 0.30 | time/it: 1.04e+00     \n",
      "iter:    73 | dx: +4.1462e-03 | f1-score: 0.09 | relerr: 2.01e+01 | p@5: 0.20 | p@10: 0.20 | p@20: 0.30 | time/it: 1.04e+00     \n",
      "iter:    74 | dx: +4.0636e-03 | f1-score: 0.09 | relerr: 2.01e+01 | p@5: 0.20 | p@10: 0.20 | p@20: 0.30 | time/it: 1.01e+00     \n",
      "iter:    75 | dx: +3.9606e-03 | f1-score: 0.09 | relerr: 2.01e+01 | p@5: 0.20 | p@10: 0.20 | p@20: 0.30 | time/it: 1.01e+00     \n",
      "iter:    76 | dx: +3.8683e-03 | f1-score: 0.09 | relerr: 2.01e+01 | p@5: 0.20 | p@10: 0.20 | p@20: 0.30 | time/it: 1.05e+00     \n",
      "iter:    77 | dx: +3.8074e-03 | f1-score: 0.09 | relerr: 2.01e+01 | p@5: 0.20 | p@10: 0.20 | p@20: 0.30 | time/it: 1.29e+00     \n",
      "iter:    78 | dx: +3.6925e-03 | f1-score: 0.09 | relerr: 2.01e+01 | p@5: 0.20 | p@10: 0.20 | p@20: 0.30 | time/it: 1.03e+00     \n",
      "iter:    79 | dx: +3.6247e-03 | f1-score: 0.09 | relerr: 2.01e+01 | p@5: 0.20 | p@10: 0.20 | p@20: 0.30 | time/it: 1.03e+00     \n",
      "iter:    80 | dx: +3.5308e-03 | f1-score: 0.09 | relerr: 2.01e+01 | p@5: 0.20 | p@10: 0.20 | p@20: 0.30 | time/it: 1.01e+00     \n",
      "iter:    81 | dx: +3.4531e-03 | f1-score: 0.09 | relerr: 2.01e+01 | p@5: 0.20 | p@10: 0.20 | p@20: 0.30 | time/it: 1.04e+00     \n",
      "iter:    82 | dx: +3.3654e-03 | f1-score: 0.09 | relerr: 2.01e+01 | p@5: 0.20 | p@10: 0.20 | p@20: 0.30 | time/it: 1.04e+00     \n",
      "iter:    83 | dx: +3.2774e-03 | f1-score: 0.09 | relerr: 2.01e+01 | p@5: 0.20 | p@10: 0.20 | p@20: 0.30 | time/it: 1.07e+00     \n",
      "iter:    84 | dx: +3.2066e-03 | f1-score: 0.09 | relerr: 2.00e+01 | p@5: 0.20 | p@10: 0.20 | p@20: 0.30 | time/it: 1.01e+00     \n",
      "iter:    85 | dx: +3.1360e-03 | f1-score: 0.09 | relerr: 2.00e+01 | p@5: 0.20 | p@10: 0.20 | p@20: 0.30 | time/it: 1.02e+00     \n",
      "iter:    86 | dx: +3.0364e-03 | f1-score: 0.09 | relerr: 2.00e+01 | p@5: 0.20 | p@10: 0.20 | p@20: 0.30 | time/it: 1.03e+00     \n",
      "iter:    87 | dx: +2.9421e-03 | f1-score: 0.09 | relerr: 2.00e+01 | p@5: 0.20 | p@10: 0.20 | p@20: 0.30 | time/it: 1.04e+00     \n",
      "iter:    88 | dx: +2.8390e-03 | f1-score: 0.09 | relerr: 2.00e+01 | p@5: 0.20 | p@10: 0.20 | p@20: 0.30 | time/it: 1.05e+00     \n",
      "iter:    89 | dx: +2.7423e-03 | f1-score: 0.09 | relerr: 2.00e+01 | p@5: 0.20 | p@10: 0.20 | p@20: 0.30 | time/it: 1.02e+00     \n",
      "iter:    90 | dx: +2.6551e-03 | f1-score: 0.09 | relerr: 2.00e+01 | p@5: 0.20 | p@10: 0.20 | p@20: 0.30 | time/it: 1.03e+00     \n",
      "iter:    91 | dx: +2.5876e-03 | f1-score: 0.09 | relerr: 2.00e+01 | p@5: 0.20 | p@10: 0.20 | p@20: 0.35 | time/it: 1.01e+00     \n",
      "iter:    92 | dx: +2.5034e-03 | f1-score: 0.09 | relerr: 2.00e+01 | p@5: 0.20 | p@10: 0.20 | p@20: 0.35 | time/it: 1.03e+00     \n",
      "iter:    93 | dx: +2.4322e-03 | f1-score: 0.09 | relerr: 2.00e+01 | p@5: 0.20 | p@10: 0.20 | p@20: 0.35 | time/it: 1.04e+00     \n",
      "iter:    94 | dx: +2.3626e-03 | f1-score: 0.09 | relerr: 2.00e+01 | p@5: 0.20 | p@10: 0.20 | p@20: 0.35 | time/it: 1.04e+00     \n",
      "iter:    95 | dx: +2.2931e-03 | f1-score: 0.09 | relerr: 2.00e+01 | p@5: 0.20 | p@10: 0.20 | p@20: 0.35 | time/it: 1.04e+00     \n",
      "iter:    96 | dx: +2.2386e-03 | f1-score: 0.09 | relerr: 2.00e+01 | p@5: 0.20 | p@10: 0.20 | p@20: 0.35 | time/it: 1.02e+00     \n",
      "iter:    97 | dx: +2.1759e-03 | f1-score: 0.09 | relerr: 2.00e+01 | p@5: 0.20 | p@10: 0.20 | p@20: 0.35 | time/it: 1.04e+00     \n",
      "iter:    98 | dx: +2.1053e-03 | f1-score: 0.09 | relerr: 2.00e+01 | p@5: 0.20 | p@10: 0.20 | p@20: 0.35 | time/it: 1.02e+00     \n",
      "iter:    99 | dx: +2.0280e-03 | f1-score: 0.09 | relerr: 2.00e+01 | p@5: 0.20 | p@10: 0.20 | p@20: 0.35 | time/it: 1.04e+00     \n",
      "iter:   100 | dx: +1.9966e-03 | f1-score: 0.09 | relerr: 2.00e+01 | p@5: 0.20 | p@10: 0.20 | p@20: 0.35 | time/it: 1.09e+00     \n",
      "iter:   101 | dx: +1.9050e-03 | f1-score: 0.09 | relerr: 2.00e+01 | p@5: 0.20 | p@10: 0.20 | p@20: 0.35 | time/it: 1.10e+00     \n",
      "iter:   102 | dx: +1.8450e-03 | f1-score: 0.09 | relerr: 2.00e+01 | p@5: 0.20 | p@10: 0.20 | p@20: 0.35 | time/it: 1.01e+00     \n",
      "iter:   103 | dx: +1.7871e-03 | f1-score: 0.09 | relerr: 2.00e+01 | p@5: 0.20 | p@10: 0.20 | p@20: 0.35 | time/it: 1.03e+00     \n",
      "iter:   104 | dx: +1.7173e-03 | f1-score: 0.09 | relerr: 2.00e+01 | p@5: 0.20 | p@10: 0.20 | p@20: 0.35 | time/it: 1.01e+00     \n",
      "iter:   105 | dx: +1.6921e-03 | f1-score: 0.09 | relerr: 2.00e+01 | p@5: 0.20 | p@10: 0.20 | p@20: 0.35 | time/it: 9.88e-01     \n",
      "iter:   106 | dx: +1.6202e-03 | f1-score: 0.09 | relerr: 2.00e+01 | p@5: 0.20 | p@10: 0.20 | p@20: 0.35 | time/it: 1.01e+00     \n",
      "iter:   107 | dx: +1.6031e-03 | f1-score: 0.09 | relerr: 2.00e+01 | p@5: 0.20 | p@10: 0.20 | p@20: 0.35 | time/it: 9.95e-01     \n",
      "iter:   108 | dx: +1.5225e-03 | f1-score: 0.09 | relerr: 2.00e+01 | p@5: 0.20 | p@10: 0.20 | p@20: 0.35 | time/it: 1.03e+00     \n",
      "iter:   109 | dx: +1.4606e-03 | f1-score: 0.09 | relerr: 2.00e+01 | p@5: 0.20 | p@10: 0.20 | p@20: 0.35 | time/it: 1.04e+00     \n",
      "iter:   110 | dx: +1.4313e-03 | f1-score: 0.09 | relerr: 2.00e+01 | p@5: 0.20 | p@10: 0.20 | p@20: 0.35 | time/it: 1.04e+00     \n",
      "iter:   111 | dx: +1.4064e-03 | f1-score: 0.09 | relerr: 2.00e+01 | p@5: 0.20 | p@10: 0.20 | p@20: 0.35 | time/it: 1.02e+00     \n",
      "iter:   112 | dx: +1.3453e-03 | f1-score: 0.09 | relerr: 2.00e+01 | p@5: 0.20 | p@10: 0.20 | p@20: 0.35 | time/it: 1.01e+00     \n",
      "iter:   113 | dx: +1.3249e-03 | f1-score: 0.09 | relerr: 2.00e+01 | p@5: 0.20 | p@10: 0.20 | p@20: 0.35 | time/it: 1.02e+00     \n",
      "iter:   114 | dx: +1.2571e-03 | f1-score: 0.09 | relerr: 1.99e+01 | p@5: 0.20 | p@10: 0.20 | p@20: 0.35 | time/it: 9.94e-01     \n",
      "iter:   115 | dx: +1.2374e-03 | f1-score: 0.09 | relerr: 1.99e+01 | p@5: 0.20 | p@10: 0.20 | p@20: 0.35 | time/it: 1.03e+00     \n",
      "iter:   116 | dx: +1.2141e-03 | f1-score: 0.09 | relerr: 1.99e+01 | p@5: 0.20 | p@10: 0.20 | p@20: 0.35 | time/it: 9.92e-01     \n",
      "iter:   117 | dx: +1.1792e-03 | f1-score: 0.09 | relerr: 1.99e+01 | p@5: 0.20 | p@10: 0.20 | p@20: 0.35 | time/it: 1.02e+00     \n",
      "iter:   118 | dx: +1.1566e-03 | f1-score: 0.09 | relerr: 1.99e+01 | p@5: 0.20 | p@10: 0.20 | p@20: 0.35 | time/it: 9.94e-01     \n",
      "iter:   119 | dx: +1.1261e-03 | f1-score: 0.09 | relerr: 1.99e+01 | p@5: 0.20 | p@10: 0.20 | p@20: 0.35 | time/it: 1.03e+00     \n",
      "iter:   120 | dx: +1.1066e-03 | f1-score: 0.09 | relerr: 1.99e+01 | p@5: 0.20 | p@10: 0.20 | p@20: 0.35 | time/it: 1.06e+00     \n",
      "iter:   121 | dx: +1.1039e-03 | f1-score: 0.09 | relerr: 1.99e+01 | p@5: 0.20 | p@10: 0.20 | p@20: 0.35 | time/it: 1.09e+00     \n",
      "iter:   122 | dx: +1.0930e-03 | f1-score: 0.09 | relerr: 1.99e+01 | p@5: 0.20 | p@10: 0.20 | p@20: 0.35 | time/it: 1.07e+00     \n",
      "iter:   123 | dx: +1.0888e-03 | f1-score: 0.09 | relerr: 1.99e+01 | p@5: 0.20 | p@10: 0.20 | p@20: 0.35 | time/it: 1.07e+00     \n",
      "iter:   124 | dx: +1.0832e-03 | f1-score: 0.09 | relerr: 1.99e+01 | p@5: 0.20 | p@10: 0.20 | p@20: 0.35 | time/it: 1.11e+00     \n",
      "iter:   125 | dx: +1.0844e-03 | f1-score: 0.09 | relerr: 1.99e+01 | p@5: 0.20 | p@10: 0.20 | p@20: 0.35 | time/it: 1.05e+00     \n",
      "iter:   126 | dx: +1.0691e-03 | f1-score: 0.09 | relerr: 1.99e+01 | p@5: 0.20 | p@10: 0.20 | p@20: 0.30 | time/it: 1.09e+00     \n",
      "iter:   127 | dx: +1.0565e-03 | f1-score: 0.09 | relerr: 1.99e+01 | p@5: 0.20 | p@10: 0.20 | p@20: 0.30 | time/it: 1.07e+00     \n",
      "iter:   128 | dx: +1.0554e-03 | f1-score: 0.09 | relerr: 1.99e+01 | p@5: 0.20 | p@10: 0.20 | p@20: 0.30 | time/it: 1.05e+00     \n"
     ]
    },
    {
     "name": "stdout",
     "output_type": "stream",
     "text": [
      "iter:   129 | dx: +1.0503e-03 | f1-score: 0.09 | relerr: 1.99e+01 | p@5: 0.20 | p@10: 0.20 | p@20: 0.30 | time/it: 1.02e+00     \n",
      "iter:   130 | dx: +1.0486e-03 | f1-score: 0.09 | relerr: 1.99e+01 | p@5: 0.20 | p@10: 0.20 | p@20: 0.30 | time/it: 1.04e+00     \n",
      "iter:   131 | dx: +1.0489e-03 | f1-score: 0.09 | relerr: 1.99e+01 | p@5: 0.20 | p@10: 0.20 | p@20: 0.30 | time/it: 1.02e+00     \n",
      "iter:   132 | dx: +1.0508e-03 | f1-score: 0.09 | relerr: 1.99e+01 | p@5: 0.20 | p@10: 0.20 | p@20: 0.30 | time/it: 1.04e+00     \n",
      "iter:   133 | dx: +1.0384e-03 | f1-score: 0.09 | relerr: 1.99e+01 | p@5: 0.20 | p@10: 0.20 | p@20: 0.30 | time/it: 1.02e+00     \n",
      "iter:   134 | dx: +1.0424e-03 | f1-score: 0.09 | relerr: 1.99e+01 | p@5: 0.20 | p@10: 0.20 | p@20: 0.30 | time/it: 9.43e-01     \n",
      "iter:   135 | dx: +1.0329e-03 | f1-score: 0.09 | relerr: 1.99e+01 | p@5: 0.20 | p@10: 0.20 | p@20: 0.30 | time/it: 9.91e-01     \n",
      "iter:   136 | dx: +1.0370e-03 | f1-score: 0.09 | relerr: 1.99e+01 | p@5: 0.20 | p@10: 0.20 | p@20: 0.30 | time/it: 1.00e+00     \n",
      "iter:   137 | dx: +1.0319e-03 | f1-score: 0.09 | relerr: 1.99e+01 | p@5: 0.20 | p@10: 0.20 | p@20: 0.30 | time/it: 1.04e+00     \n",
      "iter:   138 | dx: +1.0263e-03 | f1-score: 0.09 | relerr: 1.99e+01 | p@5: 0.20 | p@10: 0.20 | p@20: 0.30 | time/it: 1.04e+00     \n",
      "iter:   139 | dx: +1.0296e-03 | f1-score: 0.09 | relerr: 1.99e+01 | p@5: 0.20 | p@10: 0.20 | p@20: 0.30 | time/it: 1.03e+00     \n",
      "iter:   140 | dx: +1.0226e-03 | f1-score: 0.09 | relerr: 1.99e+01 | p@5: 0.20 | p@10: 0.20 | p@20: 0.30 | time/it: 1.04e+00     \n",
      "iter:   141 | dx: +1.0194e-03 | f1-score: 0.09 | relerr: 1.99e+01 | p@5: 0.20 | p@10: 0.20 | p@20: 0.30 | time/it: 1.01e+00     \n",
      "iter:   142 | dx: +1.0191e-03 | f1-score: 0.09 | relerr: 1.99e+01 | p@5: 0.20 | p@10: 0.20 | p@20: 0.30 | time/it: 1.01e+00     \n",
      "iter:   143 | dx: +1.0170e-03 | f1-score: 0.09 | relerr: 1.99e+01 | p@5: 0.20 | p@10: 0.20 | p@20: 0.30 | time/it: 1.02e+00     \n",
      "iter:   144 | dx: +1.0224e-03 | f1-score: 0.09 | relerr: 1.99e+01 | p@5: 0.20 | p@10: 0.20 | p@20: 0.30 | time/it: 1.01e+00     \n",
      "iter:   145 | dx: +1.0154e-03 | f1-score: 0.09 | relerr: 1.99e+01 | p@5: 0.20 | p@10: 0.20 | p@20: 0.30 | time/it: 1.05e+00     \n",
      "iter:   146 | dx: +1.0142e-03 | f1-score: 0.09 | relerr: 1.99e+01 | p@5: 0.20 | p@10: 0.20 | p@20: 0.30 | time/it: 1.01e+00     \n",
      "iter:   147 | dx: +1.0177e-03 | f1-score: 0.09 | relerr: 1.99e+01 | p@5: 0.20 | p@10: 0.20 | p@20: 0.30 | time/it: 1.02e+00     \n",
      "iter:   148 | dx: +1.0018e-03 | f1-score: 0.09 | relerr: 1.99e+01 | p@5: 0.20 | p@10: 0.20 | p@20: 0.30 | time/it: 1.04e+00     \n",
      "iter:   149 | dx: +1.0053e-03 | f1-score: 0.09 | relerr: 1.99e+01 | p@5: 0.20 | p@10: 0.20 | p@20: 0.35 | time/it: 1.05e+00     \n",
      "iter:   150 | dx: +1.0036e-03 | f1-score: 0.09 | relerr: 1.99e+01 | p@5: 0.20 | p@10: 0.20 | p@20: 0.35 | time/it: 1.02e+00     \n",
      "iter:   151 | dx: +9.9986e-04 | f1-score: 0.09 | relerr: 1.99e+01 | p@5: 0.20 | p@10: 0.20 | p@20: 0.35 | time/it: 9.92e-01     \n",
      "iter:   152 | dx: +9.9550e-04 | f1-score: 0.09 | relerr: 1.99e+01 | p@5: 0.20 | p@10: 0.20 | p@20: 0.35 | time/it: 1.02e+00     \n",
      "iter:   153 | dx: +9.9311e-04 | f1-score: 0.09 | relerr: 1.99e+01 | p@5: 0.20 | p@10: 0.20 | p@20: 0.35 | time/it: 1.02e+00     \n",
      "iter:   154 | dx: +9.8923e-04 | f1-score: 0.09 | relerr: 1.99e+01 | p@5: 0.20 | p@10: 0.20 | p@20: 0.35 | time/it: 1.04e+00     \n",
      "iter:   155 | dx: +9.7107e-04 | f1-score: 0.09 | relerr: 1.99e+01 | p@5: 0.20 | p@10: 0.20 | p@20: 0.35 | time/it: 1.02e+00     \n",
      "iter:   156 | dx: +9.5683e-04 | f1-score: 0.09 | relerr: 1.99e+01 | p@5: 0.20 | p@10: 0.20 | p@20: 0.35 | time/it: 1.08e+00     \n",
      "iter:   157 | dx: +9.3244e-04 | f1-score: 0.09 | relerr: 1.99e+01 | p@5: 0.20 | p@10: 0.20 | p@20: 0.35 | time/it: 1.02e+00     \n",
      "iter:   158 | dx: +9.2578e-04 | f1-score: 0.09 | relerr: 1.99e+01 | p@5: 0.20 | p@10: 0.20 | p@20: 0.35 | time/it: 1.02e+00     \n",
      "iter:   159 | dx: +9.1428e-04 | f1-score: 0.09 | relerr: 1.99e+01 | p@5: 0.20 | p@10: 0.20 | p@20: 0.35 | time/it: 1.04e+00     \n",
      "iter:   160 | dx: +9.0818e-04 | f1-score: 0.09 | relerr: 1.99e+01 | p@5: 0.20 | p@10: 0.20 | p@20: 0.35 | time/it: 9.98e-01     \n",
      "iter:   161 | dx: +8.8794e-04 | f1-score: 0.09 | relerr: 1.99e+01 | p@5: 0.20 | p@10: 0.20 | p@20: 0.35 | time/it: 1.03e+00     \n",
      "iter:   162 | dx: +8.8312e-04 | f1-score: 0.09 | relerr: 1.99e+01 | p@5: 0.20 | p@10: 0.20 | p@20: 0.35 | time/it: 1.09e+00     \n",
      "iter:   163 | dx: +8.6667e-04 | f1-score: 0.09 | relerr: 1.99e+01 | p@5: 0.20 | p@10: 0.20 | p@20: 0.35 | time/it: 1.00e+00     \n",
      "iter:   164 | dx: +8.6196e-04 | f1-score: 0.09 | relerr: 1.99e+01 | p@5: 0.20 | p@10: 0.20 | p@20: 0.35 | time/it: 1.01e+00     \n",
      "iter:   165 | dx: +8.5276e-04 | f1-score: 0.09 | relerr: 1.99e+01 | p@5: 0.20 | p@10: 0.20 | p@20: 0.35 | time/it: 9.86e-01     \n",
      "iter:   166 | dx: +8.2884e-04 | f1-score: 0.09 | relerr: 1.99e+01 | p@5: 0.20 | p@10: 0.20 | p@20: 0.35 | time/it: 9.84e-01     \n",
      "iter:   167 | dx: +8.3812e-04 | f1-score: 0.09 | relerr: 1.99e+01 | p@5: 0.20 | p@10: 0.20 | p@20: 0.35 | time/it: 1.01e+00     \n",
      "iter:   168 | dx: +8.2984e-04 | f1-score: 0.09 | relerr: 1.99e+01 | p@5: 0.20 | p@10: 0.20 | p@20: 0.35 | time/it: 9.85e-01     \n",
      "iter:   169 | dx: +8.1530e-04 | f1-score: 0.09 | relerr: 1.99e+01 | p@5: 0.20 | p@10: 0.20 | p@20: 0.35 | time/it: 9.97e-01     \n",
      "iter:   170 | dx: +8.1340e-04 | f1-score: 0.09 | relerr: 1.99e+01 | p@5: 0.20 | p@10: 0.20 | p@20: 0.35 | time/it: 1.01e+00     \n",
      "iter:   171 | dx: +7.9840e-04 | f1-score: 0.09 | relerr: 1.99e+01 | p@5: 0.20 | p@10: 0.20 | p@20: 0.35 | time/it: 9.92e-01     \n",
      "iter:   172 | dx: +7.8860e-04 | f1-score: 0.09 | relerr: 1.99e+01 | p@5: 0.20 | p@10: 0.20 | p@20: 0.35 | time/it: 9.82e-01     \n",
      "iter:   173 | dx: +7.8079e-04 | f1-score: 0.09 | relerr: 1.99e+01 | p@5: 0.20 | p@10: 0.20 | p@20: 0.35 | time/it: 1.01e+00     \n",
      "iter:   174 | dx: +7.5721e-04 | f1-score: 0.09 | relerr: 1.99e+01 | p@5: 0.20 | p@10: 0.20 | p@20: 0.35 | time/it: 9.89e-01     \n",
      "iter:   175 | dx: +7.4474e-04 | f1-score: 0.09 | relerr: 1.99e+01 | p@5: 0.20 | p@10: 0.20 | p@20: 0.35 | time/it: 1.02e+00     \n",
      "iter:   176 | dx: +7.2741e-04 | f1-score: 0.09 | relerr: 1.99e+01 | p@5: 0.20 | p@10: 0.20 | p@20: 0.35 | time/it: 9.82e-01     \n",
      "iter:   177 | dx: +7.0239e-04 | f1-score: 0.09 | relerr: 1.99e+01 | p@5: 0.20 | p@10: 0.20 | p@20: 0.35 | time/it: 1.04e+00     \n",
      "iter:   178 | dx: +6.7385e-04 | f1-score: 0.09 | relerr: 1.99e+01 | p@5: 0.20 | p@10: 0.20 | p@20: 0.35 | time/it: 1.01e+00     \n",
      "iter:   179 | dx: +6.7453e-04 | f1-score: 0.09 | relerr: 1.99e+01 | p@5: 0.20 | p@10: 0.20 | p@20: 0.35 | time/it: 1.01e+00     \n",
      "iter:   180 | dx: +6.5543e-04 | f1-score: 0.09 | relerr: 1.99e+01 | p@5: 0.20 | p@10: 0.20 | p@20: 0.35 | time/it: 1.01e+00     \n",
      "iter:   181 | dx: +6.4446e-04 | f1-score: 0.09 | relerr: 1.99e+01 | p@5: 0.20 | p@10: 0.20 | p@20: 0.35 | time/it: 9.84e-01     \n",
      "iter:   182 | dx: +6.3123e-04 | f1-score: 0.09 | relerr: 1.98e+01 | p@5: 0.20 | p@10: 0.20 | p@20: 0.35 | time/it: 1.01e+00     \n",
      "iter:   183 | dx: +6.2017e-04 | f1-score: 0.09 | relerr: 1.98e+01 | p@5: 0.20 | p@10: 0.20 | p@20: 0.35 | time/it: 1.01e+00     \n",
      "iter:   184 | dx: +6.0736e-04 | f1-score: 0.09 | relerr: 1.98e+01 | p@5: 0.20 | p@10: 0.20 | p@20: 0.35 | time/it: 9.97e-01     \n",
      "iter:   185 | dx: +5.9752e-04 | f1-score: 0.09 | relerr: 1.98e+01 | p@5: 0.20 | p@10: 0.20 | p@20: 0.35 | time/it: 9.85e-01     \n",
      "iter:   186 | dx: +5.8184e-04 | f1-score: 0.09 | relerr: 1.98e+01 | p@5: 0.20 | p@10: 0.20 | p@20: 0.35 | time/it: 1.01e+00     \n",
      "iter:   187 | dx: +5.6532e-04 | f1-score: 0.09 | relerr: 1.98e+01 | p@5: 0.20 | p@10: 0.20 | p@20: 0.35 | time/it: 1.02e+00     \n",
      "iter:   188 | dx: +5.6316e-04 | f1-score: 0.09 | relerr: 1.98e+01 | p@5: 0.20 | p@10: 0.20 | p@20: 0.35 | time/it: 1.03e+00     \n",
      "iter:   189 | dx: +5.4699e-04 | f1-score: 0.09 | relerr: 1.98e+01 | p@5: 0.20 | p@10: 0.20 | p@20: 0.35 | time/it: 1.01e+00     \n",
      "iter:   190 | dx: +5.4118e-04 | f1-score: 0.09 | relerr: 1.98e+01 | p@5: 0.20 | p@10: 0.20 | p@20: 0.35 | time/it: 9.86e-01     \n",
      "iter:   191 | dx: +5.4505e-04 | f1-score: 0.09 | relerr: 1.98e+01 | p@5: 0.20 | p@10: 0.20 | p@20: 0.35 | time/it: 9.86e-01     \n",
      "iter:   192 | dx: +5.6115e-04 | f1-score: 0.09 | relerr: 1.98e+01 | p@5: 0.20 | p@10: 0.20 | p@20: 0.35 | time/it: 1.01e+00     \n"
     ]
    },
    {
     "name": "stdout",
     "output_type": "stream",
     "text": [
      "iter:   193 | dx: +5.7629e-04 | f1-score: 0.09 | relerr: 1.98e+01 | p@5: 0.20 | p@10: 0.20 | p@20: 0.35 | time/it: 9.88e-01     \n",
      "iter:   194 | dx: +5.8916e-04 | f1-score: 0.09 | relerr: 1.98e+01 | p@5: 0.20 | p@10: 0.20 | p@20: 0.35 | time/it: 9.70e-01     \n",
      "iter:   195 | dx: +5.9656e-04 | f1-score: 0.09 | relerr: 1.98e+01 | p@5: 0.20 | p@10: 0.20 | p@20: 0.35 | time/it: 1.01e+00     \n",
      "iter:   196 | dx: +5.9175e-04 | f1-score: 0.09 | relerr: 1.98e+01 | p@5: 0.20 | p@10: 0.20 | p@20: 0.35 | time/it: 9.84e-01     \n",
      "iter:   197 | dx: +5.5695e-04 | f1-score: 0.09 | relerr: 1.98e+01 | p@5: 0.20 | p@10: 0.20 | p@20: 0.35 | time/it: 9.94e-01     \n",
      "iter:   198 | dx: +5.5083e-04 | f1-score: 0.09 | relerr: 1.98e+01 | p@5: 0.20 | p@10: 0.20 | p@20: 0.35 | time/it: 1.01e+00     \n",
      "iter:   199 | dx: +5.6513e-04 | f1-score: 0.09 | relerr: 1.98e+01 | p@5: 0.20 | p@10: 0.20 | p@20: 0.35 | time/it: 9.94e-01     \n",
      "iter:   200 | dx: +5.8013e-04 | f1-score: 0.09 | relerr: 1.98e+01 | p@5: 0.20 | p@10: 0.20 | p@20: 0.35 | time/it: 9.84e-01     \n",
      "iter:   201 | dx: +5.9623e-04 | f1-score: 0.09 | relerr: 1.98e+01 | p@5: 0.20 | p@10: 0.20 | p@20: 0.35 | time/it: 1.03e+00     \n",
      "iter:   202 | dx: +6.1324e-04 | f1-score: 0.09 | relerr: 1.98e+01 | p@5: 0.20 | p@10: 0.20 | p@20: 0.35 | time/it: 1.03e+00     \n",
      "iter:   203 | dx: +6.3090e-04 | f1-score: 0.09 | relerr: 1.98e+01 | p@5: 0.20 | p@10: 0.20 | p@20: 0.35 | time/it: 9.79e-01     \n",
      "iter:   204 | dx: +6.4905e-04 | f1-score: 0.09 | relerr: 1.98e+01 | p@5: 0.20 | p@10: 0.20 | p@20: 0.35 | time/it: 9.91e-01     \n",
      "iter:   205 | dx: +6.6857e-04 | f1-score: 0.09 | relerr: 1.98e+01 | p@5: 0.20 | p@10: 0.20 | p@20: 0.35 | time/it: 1.09e+00     \n",
      "iter:   206 | dx: +6.8854e-04 | f1-score: 0.09 | relerr: 1.98e+01 | p@5: 0.20 | p@10: 0.20 | p@20: 0.35 | time/it: 1.01e+00     \n",
      "iter:   207 | dx: +7.0958e-04 | f1-score: 0.09 | relerr: 1.98e+01 | p@5: 0.20 | p@10: 0.20 | p@20: 0.35 | time/it: 1.01e+00     \n",
      "iter:   208 | dx: +7.3123e-04 | f1-score: 0.09 | relerr: 1.98e+01 | p@5: 0.20 | p@10: 0.20 | p@20: 0.35 | time/it: 1.01e+00     \n",
      "iter:   209 | dx: +7.5354e-04 | f1-score: 0.09 | relerr: 1.98e+01 | p@5: 0.20 | p@10: 0.20 | p@20: 0.35 | time/it: 1.01e+00     \n",
      "iter:   210 | dx: +7.7600e-04 | f1-score: 0.09 | relerr: 1.98e+01 | p@5: 0.20 | p@10: 0.20 | p@20: 0.35 | time/it: 1.01e+00     \n",
      "iter:   211 | dx: +7.9805e-04 | f1-score: 0.09 | relerr: 1.98e+01 | p@5: 0.20 | p@10: 0.20 | p@20: 0.35 | time/it: 1.01e+00     \n",
      "iter:   212 | dx: +8.1873e-04 | f1-score: 0.09 | relerr: 1.98e+01 | p@5: 0.20 | p@10: 0.20 | p@20: 0.35 | time/it: 1.01e+00     \n",
      "iter:   213 | dx: +8.3568e-04 | f1-score: 0.09 | relerr: 1.98e+01 | p@5: 0.20 | p@10: 0.20 | p@20: 0.35 | time/it: 9.94e-01     \n",
      "iter:   214 | dx: +8.4443e-04 | f1-score: 0.09 | relerr: 1.98e+01 | p@5: 0.20 | p@10: 0.20 | p@20: 0.35 | time/it: 1.04e+00     \n",
      "iter:   215 | dx: +8.3448e-04 | f1-score: 0.09 | relerr: 1.98e+01 | p@5: 0.20 | p@10: 0.20 | p@20: 0.35 | time/it: 9.98e-01     \n",
      "iter:   216 | dx: +7.7850e-04 | f1-score: 0.09 | relerr: 1.98e+01 | p@5: 0.20 | p@10: 0.20 | p@20: 0.35 | time/it: 1.01e+00     \n",
      "iter:   217 | dx: +6.2491e-04 | f1-score: 0.09 | relerr: 1.98e+01 | p@5: 0.20 | p@10: 0.20 | p@20: 0.35 | time/it: 9.93e-01     \n",
      "iter:   218 | dx: +6.2403e-04 | f1-score: 0.09 | relerr: 1.98e+01 | p@5: 0.20 | p@10: 0.20 | p@20: 0.35 | time/it: 1.05e+00     \n",
      "iter:   219 | dx: +6.0722e-04 | f1-score: 0.09 | relerr: 1.98e+01 | p@5: 0.20 | p@10: 0.20 | p@20: 0.35 | time/it: 1.07e+00     \n",
      "iter:   220 | dx: +5.5177e-04 | f1-score: 0.09 | relerr: 1.98e+01 | p@5: 0.20 | p@10: 0.20 | p@20: 0.35 | time/it: 1.00e+00     \n",
      "iter:   221 | dx: +3.9958e-04 | f1-score: 0.09 | relerr: 1.98e+01 | p@5: 0.20 | p@10: 0.20 | p@20: 0.35 | time/it: 1.02e+00     \n",
      "iter:   222 | dx: +3.6668e-04 | f1-score: 0.09 | relerr: 1.98e+01 | p@5: 0.20 | p@10: 0.20 | p@20: 0.35 | time/it: 1.06e+00     \n",
      "iter:   223 | dx: +3.6522e-04 | f1-score: 0.09 | relerr: 1.98e+01 | p@5: 0.20 | p@10: 0.20 | p@20: 0.35 | time/it: 1.03e+00     \n",
      "iter:   224 | dx: +3.6490e-04 | f1-score: 0.09 | relerr: 1.98e+01 | p@5: 0.20 | p@10: 0.20 | p@20: 0.35 | time/it: 1.01e+00     \n",
      "iter:   225 | dx: +3.6422e-04 | f1-score: 0.09 | relerr: 1.98e+01 | p@5: 0.20 | p@10: 0.20 | p@20: 0.35 | time/it: 1.05e+00     \n",
      "iter:   226 | dx: +3.6301e-04 | f1-score: 0.09 | relerr: 1.98e+01 | p@5: 0.20 | p@10: 0.20 | p@20: 0.35 | time/it: 1.01e+00     \n",
      "iter:   227 | dx: +3.6371e-04 | f1-score: 0.09 | relerr: 1.98e+01 | p@5: 0.20 | p@10: 0.20 | p@20: 0.35 | time/it: 1.03e+00     \n",
      "iter:   228 | dx: +3.6181e-04 | f1-score: 0.09 | relerr: 1.98e+01 | p@5: 0.20 | p@10: 0.20 | p@20: 0.35 | time/it: 1.02e+00     \n",
      "iter:   229 | dx: +3.6102e-04 | f1-score: 0.09 | relerr: 1.98e+01 | p@5: 0.20 | p@10: 0.20 | p@20: 0.35 | time/it: 1.02e+00     \n",
      "iter:   230 | dx: +3.6966e-04 | f1-score: 0.09 | relerr: 1.98e+01 | p@5: 0.20 | p@10: 0.20 | p@20: 0.35 | time/it: 1.02e+00     \n",
      "iter:   231 | dx: +3.7582e-04 | f1-score: 0.09 | relerr: 1.98e+01 | p@5: 0.20 | p@10: 0.20 | p@20: 0.35 | time/it: 1.01e+00     \n",
      "iter:   232 | dx: +3.7197e-04 | f1-score: 0.09 | relerr: 1.98e+01 | p@5: 0.20 | p@10: 0.20 | p@20: 0.35 | time/it: 1.05e+00     \n",
      "iter:   233 | dx: +3.7704e-04 | f1-score: 0.09 | relerr: 1.98e+01 | p@5: 0.20 | p@10: 0.20 | p@20: 0.35 | time/it: 1.02e+00     \n",
      "iter:   234 | dx: +3.8227e-04 | f1-score: 0.09 | relerr: 1.98e+01 | p@5: 0.20 | p@10: 0.20 | p@20: 0.35 | time/it: 1.03e+00     \n",
      "iter:   235 | dx: +3.8684e-04 | f1-score: 0.09 | relerr: 1.98e+01 | p@5: 0.20 | p@10: 0.20 | p@20: 0.35 | time/it: 1.04e+00     \n",
      "iter:   236 | dx: +3.9029e-04 | f1-score: 0.09 | relerr: 1.98e+01 | p@5: 0.20 | p@10: 0.20 | p@20: 0.35 | time/it: 1.12e+00     \n",
      "iter:   237 | dx: +3.9166e-04 | f1-score: 0.09 | relerr: 1.98e+01 | p@5: 0.20 | p@10: 0.20 | p@20: 0.35 | time/it: 1.02e+00     \n",
      "iter:   238 | dx: +3.9405e-04 | f1-score: 0.09 | relerr: 1.98e+01 | p@5: 0.20 | p@10: 0.20 | p@20: 0.35 | time/it: 1.01e+00     \n"
     ]
    },
    {
     "ename": "KeyboardInterrupt",
     "evalue": "",
     "output_type": "error",
     "traceback": [
      "\u001b[0;31m---------------------------------------------------------------------------\u001b[0m",
      "\u001b[0;31mKeyboardInterrupt\u001b[0m                         Traceback (most recent call last)",
      "\u001b[0;32m<ipython-input-15-31058477fa9e>\u001b[0m in \u001b[0;36m<module>\u001b[0;34m\u001b[0m\n\u001b[1;32m      9\u001b[0m \u001b[0;31m# Fit model\u001b[0m\u001b[0;34m\u001b[0m\u001b[0;34m\u001b[0m\u001b[0;34m\u001b[0m\u001b[0m\n\u001b[1;32m     10\u001b[0m vi_model.fit(as_pr=as_pr, ar_pr=ar_pr, bs_pr=bs_pr, br_pr=br_pr, zc_pr=zc_pr, \n\u001b[0;32m---> 11\u001b[0;31m           max_iter=2500, tol=1e-5, callback=callback)\n\u001b[0m",
      "\u001b[0;32m~/workspace/var-wold/tsvar/utils/decorators.py\u001b[0m in \u001b[0;36mwrapped\u001b[0;34m(self, *args, **kwargs)\u001b[0m\n\u001b[1;32m      6\u001b[0m     \u001b[0;32mdef\u001b[0m \u001b[0mwrapped\u001b[0m\u001b[0;34m(\u001b[0m\u001b[0mself\u001b[0m\u001b[0;34m,\u001b[0m \u001b[0;34m*\u001b[0m\u001b[0margs\u001b[0m\u001b[0;34m,\u001b[0m \u001b[0;34m**\u001b[0m\u001b[0mkwargs\u001b[0m\u001b[0;34m)\u001b[0m\u001b[0;34m:\u001b[0m\u001b[0;34m\u001b[0m\u001b[0;34m\u001b[0m\u001b[0m\n\u001b[1;32m      7\u001b[0m         \u001b[0;32mif\u001b[0m \u001b[0mself\u001b[0m\u001b[0;34m.\u001b[0m\u001b[0m_observed\u001b[0m\u001b[0;34m:\u001b[0m\u001b[0;34m\u001b[0m\u001b[0;34m\u001b[0m\u001b[0m\n\u001b[0;32m----> 8\u001b[0;31m             \u001b[0;32mreturn\u001b[0m \u001b[0mfn\u001b[0m\u001b[0;34m(\u001b[0m\u001b[0mself\u001b[0m\u001b[0;34m,\u001b[0m \u001b[0;34m*\u001b[0m\u001b[0margs\u001b[0m\u001b[0;34m,\u001b[0m \u001b[0;34m**\u001b[0m\u001b[0mkwargs\u001b[0m\u001b[0;34m)\u001b[0m\u001b[0;34m\u001b[0m\u001b[0;34m\u001b[0m\u001b[0m\n\u001b[0m\u001b[1;32m      9\u001b[0m         \u001b[0;32melse\u001b[0m\u001b[0;34m:\u001b[0m\u001b[0;34m\u001b[0m\u001b[0;34m\u001b[0m\u001b[0m\n\u001b[1;32m     10\u001b[0m             raise Exception(('Model is not properly set. '\n",
      "\u001b[0;32m~/workspace/var-wold/tsvar/models/_wold_var.py\u001b[0m in \u001b[0;36mfit\u001b[0;34m(self, as_pr, ar_pr, bs_pr, br_pr, zc_pr, *args, **kwargs)\u001b[0m\n\u001b[1;32m    388\u001b[0m         \u001b[0;32mif\u001b[0m \u001b[0;34m(\u001b[0m\u001b[0mself\u001b[0m\u001b[0;34m.\u001b[0m\u001b[0m_bs_po\u001b[0m\u001b[0;34m.\u001b[0m\u001b[0mmin\u001b[0m\u001b[0;34m(\u001b[0m\u001b[0;34m)\u001b[0m \u001b[0;34m<\u001b[0m \u001b[0;36m0\u001b[0m\u001b[0;34m)\u001b[0m \u001b[0;32mor\u001b[0m \u001b[0;34m(\u001b[0m\u001b[0mself\u001b[0m\u001b[0;34m.\u001b[0m\u001b[0m_bs_po\u001b[0m\u001b[0;34m.\u001b[0m\u001b[0mmin\u001b[0m\u001b[0;34m(\u001b[0m\u001b[0;34m)\u001b[0m \u001b[0;34m<\u001b[0m \u001b[0;36m0\u001b[0m\u001b[0;34m)\u001b[0m\u001b[0;34m:\u001b[0m\u001b[0;34m\u001b[0m\u001b[0;34m\u001b[0m\u001b[0m\n\u001b[1;32m    389\u001b[0m             \u001b[0;32mraise\u001b[0m \u001b[0mRuntimeError\u001b[0m\u001b[0;34m(\u001b[0m\u001b[0;34m\"Negative Beta parameter!\"\u001b[0m\u001b[0;34m)\u001b[0m\u001b[0;34m\u001b[0m\u001b[0;34m\u001b[0m\u001b[0m\n\u001b[0;32m--> 390\u001b[0;31m         \u001b[0;32mif\u001b[0m \u001b[0mnp\u001b[0m\u001b[0;34m.\u001b[0m\u001b[0many\u001b[0m\u001b[0;34m(\u001b[0m\u001b[0mnp\u001b[0m\u001b[0;34m.\u001b[0m\u001b[0misnan\u001b[0m\u001b[0;34m(\u001b[0m\u001b[0mself\u001b[0m\u001b[0;34m.\u001b[0m\u001b[0m_b_x0\u001b[0m\u001b[0;34m)\u001b[0m\u001b[0;34m)\u001b[0m \u001b[0;32mor\u001b[0m \u001b[0mnp\u001b[0m\u001b[0;34m.\u001b[0m\u001b[0many\u001b[0m\u001b[0;34m(\u001b[0m\u001b[0mnp\u001b[0m\u001b[0;34m.\u001b[0m\u001b[0misnan\u001b[0m\u001b[0;34m(\u001b[0m\u001b[0mself\u001b[0m\u001b[0;34m.\u001b[0m\u001b[0m_b_xn\u001b[0m\u001b[0;34m)\u001b[0m\u001b[0;34m)\u001b[0m\u001b[0;34m:\u001b[0m\u001b[0;34m\u001b[0m\u001b[0;34m\u001b[0m\u001b[0m\n\u001b[0m\u001b[1;32m    391\u001b[0m             \u001b[0;32mraise\u001b[0m \u001b[0mRuntimeError\u001b[0m\u001b[0;34m(\u001b[0m\u001b[0;34m'NaNs in optimization results of beta update!'\u001b[0m\u001b[0;34m)\u001b[0m\u001b[0;34m\u001b[0m\u001b[0;34m\u001b[0m\u001b[0m\n\u001b[1;32m    392\u001b[0m         \u001b[0;32mif\u001b[0m \u001b[0mnp\u001b[0m\u001b[0;34m.\u001b[0m\u001b[0many\u001b[0m\u001b[0;34m(\u001b[0m\u001b[0mnp\u001b[0m\u001b[0;34m.\u001b[0m\u001b[0mabs\u001b[0m\u001b[0;34m(\u001b[0m\u001b[0mself\u001b[0m\u001b[0;34m.\u001b[0m\u001b[0m_b_x0\u001b[0m\u001b[0;34m)\u001b[0m \u001b[0;34m>\u001b[0m \u001b[0;36m1e10\u001b[0m\u001b[0;34m)\u001b[0m \u001b[0;32mor\u001b[0m \u001b[0mnp\u001b[0m\u001b[0;34m.\u001b[0m\u001b[0many\u001b[0m\u001b[0;34m(\u001b[0m\u001b[0mself\u001b[0m\u001b[0;34m.\u001b[0m\u001b[0m_b_xn\u001b[0m \u001b[0;34m>\u001b[0m \u001b[0;36m1e10\u001b[0m\u001b[0;34m)\u001b[0m\u001b[0;34m:\u001b[0m\u001b[0;34m\u001b[0m\u001b[0;34m\u001b[0m\u001b[0m\n",
      "\u001b[0;32m~/workspace/var-wold/tsvar/utils/decorators.py\u001b[0m in \u001b[0;36mwrapped\u001b[0;34m(self, *args, **kwargs)\u001b[0m\n\u001b[1;32m      6\u001b[0m     \u001b[0;32mdef\u001b[0m \u001b[0mwrapped\u001b[0m\u001b[0;34m(\u001b[0m\u001b[0mself\u001b[0m\u001b[0;34m,\u001b[0m \u001b[0;34m*\u001b[0m\u001b[0margs\u001b[0m\u001b[0;34m,\u001b[0m \u001b[0;34m**\u001b[0m\u001b[0mkwargs\u001b[0m\u001b[0;34m)\u001b[0m\u001b[0;34m:\u001b[0m\u001b[0;34m\u001b[0m\u001b[0;34m\u001b[0m\u001b[0m\n\u001b[1;32m      7\u001b[0m         \u001b[0;32mif\u001b[0m \u001b[0mself\u001b[0m\u001b[0;34m.\u001b[0m\u001b[0m_observed\u001b[0m\u001b[0;34m:\u001b[0m\u001b[0;34m\u001b[0m\u001b[0;34m\u001b[0m\u001b[0m\n\u001b[0;32m----> 8\u001b[0;31m             \u001b[0;32mreturn\u001b[0m \u001b[0mfn\u001b[0m\u001b[0;34m(\u001b[0m\u001b[0mself\u001b[0m\u001b[0;34m,\u001b[0m \u001b[0;34m*\u001b[0m\u001b[0margs\u001b[0m\u001b[0;34m,\u001b[0m \u001b[0;34m**\u001b[0m\u001b[0mkwargs\u001b[0m\u001b[0;34m)\u001b[0m\u001b[0;34m\u001b[0m\u001b[0;34m\u001b[0m\u001b[0m\n\u001b[0m\u001b[1;32m      9\u001b[0m         \u001b[0;32melse\u001b[0m\u001b[0;34m:\u001b[0m\u001b[0;34m\u001b[0m\u001b[0;34m\u001b[0m\u001b[0m\n\u001b[1;32m     10\u001b[0m             raise Exception(('Model is not properly set. '\n",
      "\u001b[0;32m~/workspace/var-wold/tsvar/fitter.py\u001b[0m in \u001b[0;36mfit\u001b[0;34m(self, step_function, tol, max_iter, seed, callback)\u001b[0m\n\u001b[1;32m     55\u001b[0m             \u001b[0mself\u001b[0m\u001b[0;34m.\u001b[0m\u001b[0m_n_iter_done\u001b[0m \u001b[0;34m=\u001b[0m \u001b[0mt\u001b[0m\u001b[0;34m\u001b[0m\u001b[0;34m\u001b[0m\u001b[0m\n\u001b[1;32m     56\u001b[0m             \u001b[0;31m# Run iteration\u001b[0m\u001b[0;34m\u001b[0m\u001b[0;34m\u001b[0m\u001b[0;34m\u001b[0m\u001b[0m\n\u001b[0;32m---> 57\u001b[0;31m             \u001b[0mstep_function\u001b[0m\u001b[0;34m(\u001b[0m\u001b[0;34m)\u001b[0m\u001b[0;34m\u001b[0m\u001b[0;34m\u001b[0m\u001b[0m\n\u001b[0m\u001b[1;32m     58\u001b[0m \u001b[0;34m\u001b[0m\u001b[0m\n\u001b[1;32m     59\u001b[0m             \u001b[0;31m# Sanity check that the optimization did not fail\u001b[0m\u001b[0;34m\u001b[0m\u001b[0;34m\u001b[0m\u001b[0;34m\u001b[0m\u001b[0m\n",
      "\u001b[0;32m~/workspace/var-wold/tsvar/models/_wold_var.py\u001b[0m in \u001b[0;36m_iteration\u001b[0;34m(self)\u001b[0m\n\u001b[1;32m    380\u001b[0m         \u001b[0mprint\u001b[0m\u001b[0;34m(\u001b[0m\u001b[0;34mf'    xn: min:{self._b_xn.min():+.2e}, max:{self._b_xn.max():+.2e}'\u001b[0m\u001b[0;34m)\u001b[0m\u001b[0;34m\u001b[0m\u001b[0;34m\u001b[0m\u001b[0m\n\u001b[1;32m    381\u001b[0m         \u001b[0mprint\u001b[0m\u001b[0;34m(\u001b[0m\u001b[0;34mf'    bs: min:{self._bs_po.min():+.2e}, max:{self._bs_po.max():+.2e}'\u001b[0m\u001b[0;34m)\u001b[0m\u001b[0;34m\u001b[0m\u001b[0;34m\u001b[0m\u001b[0m\n\u001b[0;32m--> 382\u001b[0;31m         \u001b[0mprint\u001b[0m\u001b[0;34m(\u001b[0m\u001b[0;34mf'    br: min:{self._br_po.min():+.2e}, max:{self._br_po.max():+.2e}'\u001b[0m\u001b[0;34m)\u001b[0m\u001b[0;34m\u001b[0m\u001b[0;34m\u001b[0m\u001b[0m\n\u001b[0m\u001b[1;32m    383\u001b[0m         \u001b[0mb_mean\u001b[0m \u001b[0;34m=\u001b[0m \u001b[0mself\u001b[0m\u001b[0;34m.\u001b[0m\u001b[0m_br_po\u001b[0m \u001b[0;34m/\u001b[0m \u001b[0;34m(\u001b[0m\u001b[0mself\u001b[0m\u001b[0;34m.\u001b[0m\u001b[0m_bs_po\u001b[0m \u001b[0;34m-\u001b[0m \u001b[0;36m1\u001b[0m\u001b[0;34m)\u001b[0m \u001b[0;34m*\u001b[0m \u001b[0;34m(\u001b[0m\u001b[0mself\u001b[0m\u001b[0;34m.\u001b[0m\u001b[0m_bs_po\u001b[0m \u001b[0;34m>\u001b[0m \u001b[0;36m1\u001b[0m\u001b[0;34m)\u001b[0m\u001b[0;34m\u001b[0m\u001b[0;34m\u001b[0m\u001b[0m\n\u001b[1;32m    384\u001b[0m         \u001b[0mprint\u001b[0m\u001b[0;34m(\u001b[0m\u001b[0;34mf'b_mean: min:{b_mean.min():+.2e}, max:{b_mean.max():+.2e}'\u001b[0m\u001b[0;34m)\u001b[0m\u001b[0;34m\u001b[0m\u001b[0;34m\u001b[0m\u001b[0m\n",
      "\u001b[0;31mKeyboardInterrupt\u001b[0m: "
     ]
    }
   ],
   "source": [
    "# Set callback (parameters of callback are just the posterior mean of alpha)\n",
    "callback = tsvar.utils.callbacks.LearnerCallbackMLE(\n",
    "    x0=(as_pr[1:,:] / ar_pr[1:,:]).flatten(), print_every=1,\n",
    "    coeffs_true=adjacency_true.flatten(),\n",
    "    acc_thresh=0.05, dim=dim, \n",
    "    widgets={'f1score', 'relerr', 'prec@5', 'prec@10', 'prec@20'},\n",
    "    default_end='\\n')\n",
    "\n",
    "# Fit model\n",
    "vi_model.fit(as_pr=as_pr, ar_pr=ar_pr, bs_pr=bs_pr, br_pr=br_pr, zc_pr=zc_pr, \n",
    "          max_iter=2500, tol=1e-5, callback=callback)"
   ]
  },
  {
   "cell_type": "code",
   "execution_count": null,
   "metadata": {},
   "outputs": [],
   "source": []
  },
  {
   "cell_type": "code",
   "execution_count": 18,
   "metadata": {},
   "outputs": [
    {
     "name": "stdout",
     "output_type": "stream",
     "text": [
      "as nan: False\n",
      "ar nan: False\n",
      "bs nan: False\n",
      "br nan: False\n",
      "bs < 0: False\n",
      "br < 0: False\n",
      "x0 < 0: False\n",
      "xn < 0: False\n",
      "x0 inf: False\n",
      "xn inf: False\n"
     ]
    }
   ],
   "source": [
    "print('as nan:', np.isnan(vi_model._as_po).any())\n",
    "print('ar nan:', np.isnan(vi_model._ar_po).any())\n",
    "print('bs nan:', np.isnan(vi_model._bs_po).any())\n",
    "print('br nan:', np.isnan(vi_model._br_po).any())\n",
    "print('bs < 0:', np.any(vi_model._bs_po < 0))\n",
    "print('br < 0:', np.any(vi_model._br_po < 0))\n",
    "print('x0 < 0:', np.any(vi_model._b_x0 < 0))\n",
    "print('xn < 0:', np.any(vi_model._b_xn < 0))\n",
    "print('x0 inf:', np.any(vi_model._b_x0 > 1e10))\n",
    "print('xn inf:', np.any(vi_model._b_xn > 1e10))"
   ]
  },
  {
   "cell_type": "code",
   "execution_count": 24,
   "metadata": {
    "scrolled": false
   },
   "outputs": [
    {
     "name": "stdout",
     "output_type": "stream",
     "text": [
      "\n",
      "==================================================\n",
      "========== Method: WoldModelVariational\n",
      "\n",
      "Accuracy: 0.70\n",
      "\n",
      "Edge counts\n",
      "------------\n",
      "Pred: 841.00\n",
      "True: 2623.00\n",
      "\n",
      "Error counts\n",
      "------------\n",
      " True Positive: 219.00\n",
      "False Positive: 622.00\n",
      " True Negative: 6755.00\n",
      "False Negative: 2404.00\n",
      "\n",
      "Error rates\n",
      "-----------\n",
      " True Positive Rate: 0.08\n",
      "False Positive Rate: 0.08\n",
      " True Negative Rate: 0.92\n",
      "False Negative Rate: 0.92\n",
      "\n",
      "F-Score\n",
      "-------\n",
      " F1-Score: 0.13\n",
      "Precision: 0.26\n",
      "   Recall: 0.08\n",
      "\n",
      "Precision@k\n",
      "-----------\n",
      " Prec@5: 0.20\n",
      "Prec@10: 0.30\n",
      "Prec@20: 0.30\n",
      "\n",
      "Average Precision@k per node\n",
      "----------------------------\n",
      "AvgPrec@k per node:\n",
      "5 0.06464646464646469\n",
      "10 0.13131313131313116\n",
      "20 0.2136363636363636\n",
      "\n"
     ]
    }
   ],
   "source": [
    "mu_hat = vi_model._as_po[0, :] / vi_model._ar_po[0, :]\n",
    "adj_hat = vi_model._as_po[1:, :] / vi_model._ar_po[1:, :]\n",
    "beta_hat = vi_model._br_po[:, :] / (vi_model._bs_po[:, :] + 1) + 1\n",
    "\n",
    "\n",
    "#adj_hat = adj_hat\n",
    "adj_hat = adj_hat / beta_hat\n",
    "\n",
    "experiments_utils.print_report(name=type(vi_model).__name__, adj_hat=adj_hat, adj_true=adjacency_true, thresh=0.001)"
   ]
  },
  {
   "cell_type": "code",
   "execution_count": 20,
   "metadata": {
    "scrolled": true
   },
   "outputs": [
    {
     "data": {
      "image/png": "[encoded data removed]",
      "text/plain": [
       "<Figure size 432x288 with 1 Axes>"
      ]
     },
     "metadata": {
      "needs_background": "light"
     },
     "output_type": "display_data"
    }
   ],
   "source": [
    "plt.boxplot(adj_hat.flatten());\n",
    "plt.yscale('log');"
   ]
  },
  {
   "cell_type": "code",
   "execution_count": 21,
   "metadata": {},
   "outputs": [
    {
     "data": {
      "image/png": "[encoded data removed]",
      "text/plain": [
       "<Figure size 720x360 with 1 Axes>"
      ]
     },
     "metadata": {
      "needs_background": "light"
     },
     "output_type": "display_data"
    }
   ],
   "source": [
    "plt.figure(figsize=(10, 5))\n",
    "plt.grid()\n",
    "plt.boxplot(\n",
    "    [adj_hat[adjacency_true == 0.0], adj_hat[adjacency_true > 0.0]],\n",
    "    labels=['True Non-edges', 'True Edges'])\n",
    "plt.ylabel(r'Learned value of paramaters')\n",
    "plt.title('Distribution of learned adjacency weights');"
   ]
  },
  {
   "cell_type": "code",
   "execution_count": 25,
   "metadata": {},
   "outputs": [
    {
     "data": {
      "image/png": "[encoded data removed]",
      "text/plain": [
       "<Figure size 432x288 with 1 Axes>"
      ]
     },
     "metadata": {
      "needs_background": "light"
     },
     "output_type": "display_data"
    }
   ],
   "source": [
    "plt.boxplot([mu_hat.flatten(), adj_hat.flatten(), beta_hat.flatten()], labels=['Mus', 'Alphas', 'Betas']);"
   ]
  },
  {
   "cell_type": "markdown",
   "metadata": {},
   "source": [
    "---\n",
    "\n",
    "### Run GB"
   ]
  },
  {
   "cell_type": "code",
   "execution_count": 11,
   "metadata": {},
   "outputs": [],
   "source": [
    "import gb\n",
    "import time\n",
    "\n",
    "dim = len(events)\n",
    "\n",
    "# Define model\n",
    "granger_model = gb.GrangerBusca(\n",
    "    alpha_prior=1.0/len(events),\n",
    "    num_iter=300,\n",
    "    metropolis=True,\n",
    "    beta_strategy=1.0,\n",
    "    num_jobs=4,\n",
    ")\n",
    "granger_model.fit(events)"
   ]
  },
  {
   "cell_type": "code",
   "execution_count": 13,
   "metadata": {},
   "outputs": [
    {
     "name": "stdout",
     "output_type": "stream",
     "text": [
      "\n",
      "==================================================\n",
      "========== Method: GrangerBusca\n",
      "\n",
      "Accuracy: 0.26\n",
      "\n",
      "Edge counts\n",
      "------------\n",
      "Pred: 468.00\n",
      "True: 2623.00\n",
      "\n",
      "Error counts\n",
      "------------\n",
      " True Positive: 148.00\n",
      "False Positive: 320.00\n",
      " True Negative: 7057.00\n",
      "False Negative: 2475.00\n",
      "\n",
      "Error rates\n",
      "-----------\n",
      " True Positive Rate: 0.06\n",
      "False Positive Rate: 0.04\n",
      " True Negative Rate: 0.96\n",
      "False Negative Rate: 0.94\n",
      "\n",
      "F-Score\n",
      "-------\n",
      " F1-Score: 0.10\n",
      "Precision: 0.32\n",
      "   Recall: 0.06\n",
      "\n",
      "Precision@k\n",
      "-----------\n",
      " Prec@5: 0.00\n",
      "Prec@10: 0.00\n",
      "Prec@20: 0.00\n",
      "\n",
      "Average Precision@k per node\n",
      "----------------------------\n",
      "AvgPrec@k per node:\n",
      "5 0.25050505050505034\n",
      "10 0.24646464646464644\n",
      "20 0.17878787878787886\n",
      "\n"
     ]
    }
   ],
   "source": [
    "# Extract infered adjacency\n",
    "adj_hat = granger_model.Alpha_.toarray()\n",
    "adj_hat = adj_hat / adj_hat.sum(axis=1)[:, None]\n",
    "beta_hat = np.ones((dim, dim)) * (granger_model.beta_ + 1)\n",
    "coeffs_hat = np.hstack((granger_model.mu_, beta_hat.flatten(),\n",
    "                        adj_hat.flatten()))\n",
    "\n",
    "#adj_hat = adj_hat / beta_hat  # Does not matter\n",
    "\n",
    "\n",
    "THRESH = 0.00  # GB is already sparse\n",
    "\n",
    "experiments_utils.print_report(name=type(granger_model).__name__, adj_hat=adj_hat, adj_true=adjacency_true, thresh=0)"
   ]
  },
  {
   "cell_type": "code",
   "execution_count": null,
   "metadata": {},
   "outputs": [],
   "source": []
  },
  {
   "cell_type": "code",
   "execution_count": null,
   "metadata": {},
   "outputs": [],
   "source": []
  },
  {
   "cell_type": "code",
   "execution_count": null,
   "metadata": {},
   "outputs": [],
   "source": []
  },
  {
   "cell_type": "code",
   "execution_count": 161,
   "metadata": {},
   "outputs": [
    {
     "data": {
      "text/plain": [
       "0.7420330871354197"
      ]
     },
     "execution_count": 161,
     "metadata": {},
     "output_type": "execute_result"
    }
   ],
   "source": [
    "tsvar.utils.metrics.relerr(adj_hat.flatten(), adjacency_true.flatten(), null_norm='none')"
   ]
  },
  {
   "cell_type": "code",
   "execution_count": 180,
   "metadata": {
    "scrolled": true
   },
   "outputs": [
    {
     "data": {
      "text/plain": [
       "KendalltauResult(correlation=-0.03233722944985986, pvalue=0.0005001328376041202)"
      ]
     },
     "execution_count": 180,
     "metadata": {},
     "output_type": "execute_result"
    }
   ],
   "source": [
    "scipy.stats.kendalltau(adj_hat.flatten(), adjacency_true.flatten())"
   ]
  },
  {
   "cell_type": "code",
   "execution_count": 166,
   "metadata": {},
   "outputs": [
    {
     "data": {
      "text/plain": [
       "-0.039862506938532154"
      ]
     },
     "execution_count": 166,
     "metadata": {},
     "output_type": "execute_result"
    }
   ],
   "source": [
    "tsvar.utils.metrics.mean_kendall_rank_corr(adj_hat.flatten(), adjacency_true.flatten())"
   ]
  },
  {
   "cell_type": "code",
   "execution_count": 167,
   "metadata": {
    "scrolled": true
   },
   "outputs": [
    {
     "data": {
      "text/plain": [
       "<matplotlib.collections.PathCollection at 0x1368213c8>"
      ]
     },
     "execution_count": 167,
     "metadata": {},
     "output_type": "execute_result"
    },
    {
     "data": {
      "image/png": "[encoded data removed]",
      "text/plain": [
       "<Figure size 432x288 with 1 Axes>"
      ]
     },
     "metadata": {
      "needs_background": "light"
     },
     "output_type": "display_data"
    }
   ],
   "source": [
    "plt.scatter(adj_hat.flatten(), adjacency_true.flatten())"
   ]
  },
  {
   "cell_type": "code",
   "execution_count": 181,
   "metadata": {},
   "outputs": [],
   "source": [
    "mean_rank_corr, rank_corr_per_dim = tsvar.utils.metrics.mean_kendall_rank_corr(\n",
    "    adj_hat.flatten(), adjacency_true.flatten(), return_vec=True)"
   ]
  },
  {
   "cell_type": "code",
   "execution_count": 182,
   "metadata": {},
   "outputs": [
    {
     "data": {
      "text/plain": [
       "-0.039862506938532154"
      ]
     },
     "execution_count": 182,
     "metadata": {},
     "output_type": "execute_result"
    }
   ],
   "source": [
    "mean_rank_corr"
   ]
  },
  {
   "cell_type": "code",
   "execution_count": 183,
   "metadata": {},
   "outputs": [
    {
     "data": {
      "text/plain": [
       "(array([ 6., 17., 24., 15., 12.,  7.,  8.,  4.,  3.,  4.]),\n",
       " array([-0.16471, -0.13208, -0.09946, -0.06683, -0.0342 , -0.00158,  0.03105,  0.06367,  0.0963 ,  0.12893,  0.16155]),\n",
       " <a list of 10 Patch objects>)"
      ]
     },
     "execution_count": 183,
     "metadata": {},
     "output_type": "execute_result"
    },
    {
     "data": {
      "image/png": "[encoded data removed]",
      "text/plain": [
       "<Figure size 432x288 with 1 Axes>"
      ]
     },
     "metadata": {
      "needs_background": "light"
     },
     "output_type": "display_data"
    }
   ],
   "source": [
    "plt.hist(rank_corr_per_dim)"
   ]
  },
  {
   "cell_type": "code",
   "execution_count": 172,
   "metadata": {},
   "outputs": [
    {
     "name": "stdout",
     "output_type": "stream",
     "text": [
      "Kendall correlation coefficient: -0.032\n",
      "Samples are correlated (reject H0) p=0.001\n"
     ]
    }
   ],
   "source": [
    "from scipy.stats import kendalltau\n",
    "\n",
    "# calculate kendall's correlation\n",
    "coef, p = kendalltau(\n",
    "    x=adj_hat.flatten(),\n",
    "    y=adjacency_true.flatten()\n",
    ")\n",
    "\n",
    "print('Kendall correlation coefficient: %.3f' % coef)\n",
    "# interpret the significance\n",
    "alpha = 0.05\n",
    "if p > alpha:\n",
    "    print('Samples are uncorrelated (fail to reject H0) p=%.3f' % p)\n",
    "else:\n",
    "    print('Samples are correlated (reject H0) p=%.3f' % p)"
   ]
  },
  {
   "cell_type": "markdown",
   "metadata": {},
   "source": [
    "---\n",
    "\n",
    "## Exploration of results"
   ]
  },
  {
   "cell_type": "code",
   "execution_count": 167,
   "metadata": {},
   "outputs": [
    {
     "data": {
      "text/plain": [
       "array([[0.00141, 0.00181, 0.00855, ..., 0.00943, 0.00923, 0.01304],\n",
       "       [0.00311, 0.00129, 0.01251, ..., 0.00915, 0.00726, 0.01185],\n",
       "       [0.00343, 0.00186, 0.04852, ..., 0.0099 , 0.00796, 0.01432],\n",
       "       ...,\n",
       "       [0.02883, 0.01501, 0.01245, ..., 0.00958, 0.01153, 0.02437],\n",
       "       [0.01216, 0.00995, 0.00887, ..., 0.03078, 0.01442, 0.02328],\n",
       "       [0.00137, 0.00276, 0.00194, ..., 0.0191 , 0.01991, 0.01562]])"
      ]
     },
     "execution_count": 167,
     "metadata": {},
     "output_type": "execute_result"
    }
   ],
   "source": [
    "adj_hat = vifb_model._as_po[1:, :] / vifb_model._ar_po[1:, :]\n",
    "adj_hat"
   ]
  },
  {
   "cell_type": "code",
   "execution_count": 168,
   "metadata": {},
   "outputs": [
    {
     "data": {
      "text/plain": [
       "(array([  0,   0,   0, ..., 622, 622, 622]),\n",
       " array([  0,   1,   2, ..., 620, 621, 622]))"
      ]
     },
     "execution_count": 168,
     "metadata": {},
     "output_type": "execute_result"
    }
   ],
   "source": [
    "adj_hat.nonzero()"
   ]
  },
  {
   "cell_type": "code",
   "execution_count": null,
   "metadata": {},
   "outputs": [],
   "source": []
  },
  {
   "cell_type": "code",
   "execution_count": 170,
   "metadata": {},
   "outputs": [
    {
     "name": "stdout",
     "output_type": "stream",
     "text": [
      "0.01 68288\n",
      "0.017 31004\n",
      "0.025 17360\n",
      "0.032 11503\n",
      "0.039 8389\n",
      "0.047 6450\n",
      "0.054 5161\n",
      "0.062 4092\n",
      "0.069 3304\n",
      "0.076 2612\n",
      "0.084 2068\n",
      "0.091 1641\n",
      "0.098 1313\n",
      "0.106 912\n",
      "0.113 804\n",
      "0.121 720\n",
      "0.128 658\n",
      "0.135 604\n",
      "0.143 551\n",
      "0.15 516\n"
     ]
    }
   ],
   "source": [
    "adj_hat = vifb_model._as_po[1:, :] / vifb_model._ar_po[1:, :]\n",
    "\n",
    "thresh_list = np.linspace(0.01, 0.15, 20)\n",
    "\n",
    "vals_vifb = {\n",
    "    5: np.zeros_like(thresh_list),\n",
    "    10: np.zeros_like(thresh_list),\n",
    "    20: np.zeros_like(thresh_list),\n",
    "}\n",
    "\n",
    "for i, thresh in enumerate(thresh_list):\n",
    "\n",
    "    adj_hat_thresh = adj_hat.copy()\n",
    "    adj_hat_thresh[adj_hat_thresh < thresh] = 0.0\n",
    "    print(np.round(thresh, 3), len(adj_hat_thresh.nonzero()[0]))\n",
    "\n",
    "    for k in [5, 10, 20]:\n",
    "        vals_vifb[k][i] = tsvar.utils.metrics.precision_at_n_per_dim(A_pred=adj_hat_thresh, A_true=adjacency_true, k=k)"
   ]
  },
  {
   "cell_type": "code",
   "execution_count": 159,
   "metadata": {},
   "outputs": [],
   "source": [
    "thresh_list = np.linspace(0.01, 0.15, 20)\n",
    "\n",
    "vals_gb = {\n",
    "    5: np.zeros_like(thresh_list),\n",
    "    10: np.zeros_like(thresh_list),\n",
    "    20: np.zeros_like(thresh_list),\n",
    "}\n",
    "\n",
    "for i, thresh in enumerate(thresh_list):\n",
    "\n",
    "    adj_hat_thresh = adj_hat.copy()\n",
    "    adj_hat_thresh[adj_hat_thresh < thresh] = 0.0\n",
    "\n",
    "    for k in [5, 10, 20]:\n",
    "        vals_gb[k][i] = tsvar.utils.metrics.precision_at_n_per_dim(A_pred=adj_hat_thresh, A_true=adjacency_true, k=k)"
   ]
  },
  {
   "cell_type": "code",
   "execution_count": 161,
   "metadata": {},
   "outputs": [
    {
     "data": {
      "image/png": "[encoded data removed]",
      "text/plain": [
       "<Figure size 864x432 with 1 Axes>"
      ]
     },
     "metadata": {
      "needs_background": "light"
     },
     "output_type": "display_data"
    }
   ],
   "source": [
    "plt.figure(figsize=(12, 6))\n",
    "plt.grid()\n",
    "\n",
    "plt.plot(thresh_list, vals_vifb[5], label='p@5')\n",
    "plt.plot(thresh_list, vals_vifb[10], label='p@10')\n",
    "plt.plot(thresh_list, vals_vifb[20], label='p@20')\n",
    "\n",
    "plt.plot(thresh_list, vals_gb[5],   label='p@5', c='C0', ls='--')\n",
    "plt.plot(thresh_list, vals_gb[10], label='p@10', c='C1', ls='--')\n",
    "plt.plot(thresh_list, vals_gb[20], label='p@20', c='C2', ls='--')\n",
    "\n",
    "plt.legend();"
   ]
  },
  {
   "cell_type": "code",
   "execution_count": null,
   "metadata": {},
   "outputs": [],
   "source": []
  }
 ],
 "metadata": {
  "kernelspec": {
   "display_name": "Python 3",
   "language": "python",
   "name": "python3"
  },
  "language_info": {
   "codemirror_mode": {
    "name": "ipython",
    "version": 3
   },
   "file_extension": ".py",
   "mimetype": "text/x-python",
   "name": "python",
   "nbconvert_exporter": "python",
   "pygments_lexer": "ipython3",
   "version": "3.7.7"
  }
 },
 "nbformat": 4,
 "nbformat_minor": 4
}

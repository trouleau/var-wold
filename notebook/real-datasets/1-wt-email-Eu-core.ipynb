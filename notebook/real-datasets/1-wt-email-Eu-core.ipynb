{
 "cells": [
  {
   "cell_type": "code",
   "execution_count": 1,
   "metadata": {
    "scrolled": true
   },
   "outputs": [],
   "source": [
    "%load_ext autoreload\n",
    "%autoreload 2"
   ]
  },
  {
   "cell_type": "code",
   "execution_count": 2,
   "metadata": {},
   "outputs": [],
   "source": [
    "from matplotlib import pyplot as plt\n",
    "import networkx as nx\n",
    "import numpy as np\n",
    "import pandas as pd\n",
    "import itertools\n",
    "import torch\n",
    "import os\n",
    "\n",
    "import scipy.stats\n",
    "\n",
    "import tsvar\n",
    "from tsvar.preprocessing import Dataset\n",
    "import experiments_utils"
   ]
  },
  {
   "cell_type": "markdown",
   "metadata": {},
   "source": [
    "Set cells width"
   ]
  },
  {
   "cell_type": "code",
   "execution_count": 3,
   "metadata": {},
   "outputs": [
    {
     "data": {
      "text/html": [
       "<style>.container { width:80% !important; }</style>"
      ],
      "text/plain": [
       "<IPython.core.display.HTML object>"
      ]
     },
     "metadata": {},
     "output_type": "display_data"
    }
   ],
   "source": [
    "from IPython.core.display import display, HTML\n",
    "display(HTML(\"<style>.container { width:80% !important; }</style>\"))"
   ]
  },
  {
   "cell_type": "markdown",
   "metadata": {},
   "source": [
    "---\n",
    "\n",
    "## Load the dataset\n",
    "\n",
    "Set input path"
   ]
  },
  {
   "cell_type": "code",
   "execution_count": 4,
   "metadata": {},
   "outputs": [],
   "source": [
    "INPUT_PATH = \"../../data/email-Eu-core-temporal.txt.gz\""
   ]
  },
  {
   "cell_type": "markdown",
   "metadata": {},
   "source": [
    "Load the dataset"
   ]
  },
  {
   "cell_type": "code",
   "execution_count": 5,
   "metadata": {},
   "outputs": [],
   "source": [
    "dataset = Dataset(INPUT_PATH, top=100, timescale='median')\n",
    "#dataset = Dataset.from_pickle(INPUT_PATH)"
   ]
  },
  {
   "cell_type": "code",
   "execution_count": 6,
   "metadata": {
    "scrolled": true
   },
   "outputs": [
    {
     "data": {
      "image/png": "[encoded data removed]",
      "text/plain": [
       "<Figure size 1296x252 with 3 Axes>"
      ]
     },
     "metadata": {
      "needs_background": "light"
     },
     "output_type": "display_data"
    }
   ],
   "source": [
    "fig, axs = plt.subplots(1, 3, figsize=(18, 3.5))\n",
    "\n",
    "axs[0].hist(list(map(len, dataset.timestamps)))\n",
    "axs[0].set_xlabel('Number of events \\n in each dim')\n",
    "\n",
    "end_time = dataset.end_time\n",
    "axs[1].hist(list(map(min, dataset.timestamps)), bins=np.linspace(0, end_time, 20))\n",
    "axs[1].set_xlabel('First of event \\n in each dim')\n",
    "\n",
    "axs[2].hist(list(map(max, dataset.timestamps)), bins=np.linspace(0, end_time, 20))\n",
    "axs[2].set_xlabel('Last of events \\n in each dim')\n",
    "\n",
    "fig.suptitle(f\"Dataset {os.path.split(INPUT_PATH)[1]}\");"
   ]
  },
  {
   "cell_type": "markdown",
   "metadata": {},
   "source": [
    "Print statistics of the dataset"
   ]
  },
  {
   "cell_type": "code",
   "execution_count": 7,
   "metadata": {
    "scrolled": true
   },
   "outputs": [
    {
     "name": "stdout",
     "output_type": "stream",
     "text": [
      "Num. of dimensions: 100\n",
      "    Num. of events: 92,924\n",
      "               %NZ: 26.23%\n",
      "\n",
      "Stats. of num. of events per dim:\n",
      "count     100.000000\n",
      "mean      929.240000\n",
      "std       589.331261\n",
      "min        82.000000\n",
      "25%       544.000000\n",
      "50%       770.000000\n",
      "75%      1210.000000\n",
      "max      3334.000000\n",
      "dtype: float64\n"
     ]
    }
   ],
   "source": [
    "print(f\"Num. of dimensions: {len(dataset.timestamps):,d}\")\n",
    "print(f\"    Num. of events: {sum(map(len, dataset.timestamps)):,d}\")\n",
    "print(f\"               %NZ: {100 * dataset.graph.number_of_edges() / (dataset.graph.number_of_nodes() ** 2):.2f}%\")\n",
    "print()\n",
    "print(\"Stats. of num. of events per dim:\")\n",
    "num_jumps_per_dim = np.array(list(map(len, dataset.timestamps)))\n",
    "print(pd.Series(num_jumps_per_dim).describe())"
   ]
  },
  {
   "cell_type": "markdown",
   "metadata": {},
   "source": [
    "Build ground truth adjacency matrix"
   ]
  },
  {
   "cell_type": "code",
   "execution_count": 8,
   "metadata": {},
   "outputs": [],
   "source": [
    "adjacency_true = nx.adjacency_matrix(dataset.graph, nodelist=range(dataset.dim)).toarray()\n",
    "adjacency_true = adjacency_true / adjacency_true.max()"
   ]
  },
  {
   "cell_type": "code",
   "execution_count": 9,
   "metadata": {
    "scrolled": true
   },
   "outputs": [
    {
     "data": {
      "image/png": "[encoded data removed]",
      "text/plain": [
       "<Figure size 432x288 with 1 Axes>"
      ]
     },
     "metadata": {
      "needs_background": "light"
     },
     "output_type": "display_data"
    }
   ],
   "source": [
    "diag_mask = np.eye(len(adjacency_true)).astype(bool)\n",
    "plt.boxplot([adjacency_true[~diag_mask & (adjacency_true > 0)], adjacency_true[diag_mask & (adjacency_true > 0)]],\n",
    "            labels=['Non-Diag Edges', 'Self-loops']);"
   ]
  },
  {
   "cell_type": "markdown",
   "metadata": {},
   "source": [
    "#### Visualize the scale of time using empirical inter-arrival time distributions\n",
    "\n",
    "Compute this for both definitions $\\{\\beta_j\\}$ and $\\{\\beta_{ij}\\}$."
   ]
  },
  {
   "cell_type": "code",
   "execution_count": 10,
   "metadata": {
    "scrolled": false
   },
   "outputs": [
    {
     "name": "stdout",
     "output_type": "stream",
     "text": [
      "Busca estimators of **beta_j**:\n",
      "count    100.000000\n",
      "mean       1.047905\n",
      "std        1.697729\n",
      "min        0.027075\n",
      "25%        0.290726\n",
      "50%        0.556137\n",
      "75%        0.916652\n",
      "max       13.946247\n",
      "dtype: float64\n",
      "\n",
      "Busca estimators of **beta_{ji}**:\n",
      "count    10000.000000\n",
      "mean         1.218551\n",
      "std          2.322353\n",
      "min          0.000000\n",
      "25%          0.344177\n",
      "50%          1.005101\n",
      "75%          1.474181\n",
      "max        118.583466\n",
      "dtype: float64\n",
      "\n"
     ]
    },
    {
     "data": {
      "image/png": "[encoded data removed]",
      "text/plain": [
       "<Figure size 1152x288 with 2 Axes>"
      ]
     },
     "metadata": {
      "needs_background": "light"
     },
     "output_type": "display_data"
    }
   ],
   "source": [
    "fig, axs = plt.subplots(1, 2, figsize=(16, 4), sharey=True)\n",
    "\n",
    "busca_betas = np.array([np.median(np.hstack((ev[0], np.diff(ev)))) for ev in dataset.timestamps])\n",
    "plt.sca(axs[0])\n",
    "plt.grid()\n",
    "plt.boxplot(busca_betas, labels=[r'Distribution of Busca estimators of $\\beta_j$']);\n",
    "plt.yscale('log')\n",
    "print('Busca estimators of **beta_j**:')\n",
    "print(pd.Series(busca_betas.flatten()).describe())\n",
    "print()\n",
    "\n",
    "wold_model = tsvar.models.WoldModel()\n",
    "wold_model.observe(dataset.timestamps)\n",
    "busca_beta_ji = np.zeros((wold_model.dim, wold_model.dim))\n",
    "for i in range(wold_model.dim):\n",
    "    busca_beta_ji[:, i] = np.median(wold_model.delta_ikj[i][:, :], axis=0) / np.exp(1)\n",
    "del wold_model\n",
    "plt.sca(axs[1])\n",
    "plt.grid()\n",
    "plt.boxplot(busca_beta_ji.flatten(), labels=[r'Distribution of Busca estimators of $\\beta_{ji}$']);\n",
    "plt.yscale('log')\n",
    "print('Busca estimators of **beta_{ji}**:')\n",
    "print(pd.Series(busca_beta_ji.flatten()).describe())\n",
    "print()"
   ]
  },
  {
   "cell_type": "code",
   "execution_count": 11,
   "metadata": {},
   "outputs": [],
   "source": [
    "events = dataset.timestamps\n",
    "events = [np.sort(ev) for ev in events]\n",
    "end_time = dataset.end_time"
   ]
  },
  {
   "cell_type": "code",
   "execution_count": 73,
   "metadata": {},
   "outputs": [
    {
     "name": "stdout",
     "output_type": "stream",
     "text": [
      "69911 23013\n"
     ]
    }
   ],
   "source": [
    "t0 = min(map(min, events))\n",
    "t1 = max(map(max, events))\n",
    "\n",
    "train_start = t0\n",
    "train_end = t0 + (t1 - t0) * 0.5\n",
    "test_end = t1 + 1e-5\n",
    "\n",
    "train_events = [ev[(ev >= train_start) & (ev < train_end)] - train_start for ev in events]\n",
    "test_events = [ev[(ev >= train_end) & (ev < test_end)] - train_end for ev in events]\n",
    "\n",
    "print(sum(map(len, train_events)), sum(map(len, test_events)))"
   ]
  },
  {
   "cell_type": "code",
   "execution_count": 74,
   "metadata": {},
   "outputs": [
    {
     "data": {
      "text/plain": [
       "0.7523460031853988"
      ]
     },
     "execution_count": 74,
     "metadata": {},
     "output_type": "execute_result"
    }
   ],
   "source": [
    "69911 / (69911 + 23013)"
   ]
  },
  {
   "cell_type": "markdown",
   "metadata": {},
   "source": [
    "---\n",
    "\n",
    "## Run inference"
   ]
  },
  {
   "cell_type": "markdown",
   "metadata": {},
   "source": [
    "---\n",
    "\n",
    "### Run BBVI"
   ]
  },
  {
   "cell_type": "code",
   "execution_count": null,
   "metadata": {},
   "outputs": [],
   "source": [
    "dim = len(events)\n",
    "n_params = dim + dim**2 + dim**2\n",
    "end_time = max(map(max, events))\n",
    "\n",
    "# Set initial guess\n",
    "coeffs_start = torch.tensor(np.hstack((\n",
    "    # loc\n",
    "    -2.0 * torch.ones(dim, dtype=torch.float),                  # baseline\n",
    "    0.0 * torch.ones((dim, dim), dtype=torch.float).flatten(),  # beta\n",
    "    -2.0 * torch.ones((dim, dim), dtype=torch.float).flatten(),  # adjacency\n",
    "    # scale\n",
    "    torch.log(0.2 * torch.ones(dim, dtype=torch.float)),\n",
    "    torch.log(0.2 * torch.ones((dim, dim), dtype=torch.float).flatten()),\n",
    "    torch.log(0.2 * torch.ones((dim, dim), dtype=torch.float).flatten()),\n",
    ")))\n",
    "\n",
    "# Define priors/posteriors\n",
    "posterior = tsvar.posteriors.LogNormalPosterior\n",
    "prior = tsvar.priors.GaussianLaplacianPrior\n",
    "mask_gaus = torch.zeros(n_params, dtype=torch.bool)\n",
    "mask_gaus[:dim + dim**2] = 1  # Gaussian prior for baseline and beta\n",
    "C = 1e3\n",
    "\n",
    "# Init the model object\n",
    "model = tsvar.models.WoldModelBBVI(posterior=posterior, prior=prior, C=C,\n",
    "                                   prior_kwargs={'mask_gaus': mask_gaus},\n",
    "                                   n_samples=1, n_weights=1, weight_temp=1,\n",
    "                                   verbose=False, device='cpu')\n",
    "model.observe(events, end_time)\n",
    "\n",
    "# Set link function for callback (vi coeffs -> posterior mode)\n",
    "def link_func(coeffs):\n",
    "    \"\"\"variationa coeffs -> posterior mode of adjacency\"\"\"\n",
    "    # Numpy to torch\n",
    "    coeffs = torch.tensor(coeffs) if isinstance(coeffs, np.ndarray) else coeffs\n",
    "    return model.posterior.mode(\n",
    "        coeffs[:model.n_params], coeffs[model.n_params:]\n",
    "    ).detach().numpy()[dim:dim+dim**2]\n",
    "\n",
    "# Set the callback (callback parameters are posterior mode)\n",
    "callback = tsvar.utils.callbacks.LearnerCallbackMLE(\n",
    "    x0=posterior().mode(\n",
    "        coeffs_start[:dim+2*dim**2], coeffs_start[dim+2*dim**2:]\n",
    "    )[dim:dim+dim**2],\n",
    "    print_every=100,\n",
    "    coeffs_true=adjacency_true,\n",
    "    acc_thresh=0.05,\n",
    "    dim=dim,\n",
    "    link_func=link_func,\n",
    "    default_end='\\n')\n",
    "\n",
    "# Fit the model\n",
    "conv = model.fit(x0=coeffs_start, optimizer=torch.optim.Adam, lr=1e-1,\n",
    "                 lr_sched=0.9999, tol=1e-6, max_iter=20000,\n",
    "                 mstep_interval=100, mstep_offset=500, mstep_momentum=0.5,\n",
    "                 seed=None, callback=callback)"
   ]
  },
  {
   "cell_type": "code",
   "execution_count": null,
   "metadata": {},
   "outputs": [],
   "source": [
    "coeffs_hat = model.posterior.mode(model.coeffs[:n_params], model.coeffs[n_params:]).detach().numpy()\n",
    "beta_hat = coeffs_hat[dim:dim+dim**2]\n",
    "adj_hat = coeffs_hat[dim+dim**2:]"
   ]
  },
  {
   "cell_type": "code",
   "execution_count": null,
   "metadata": {},
   "outputs": [],
   "source": [
    "plt.boxplot([adj_hat.flatten(), beta_hat.flatten()]);"
   ]
  },
  {
   "cell_type": "code",
   "execution_count": null,
   "metadata": {},
   "outputs": [],
   "source": [
    "coeffs_hat = model.posterior.mode(model.coeffs[:n_params], model.coeffs[n_params:]).detach().numpy()\n",
    "beta_hat = coeffs_hat[dim:dim+dim**2]\n",
    "adj_hat = coeffs_hat[dim+dim**2:]\n",
    "\n",
    "adj_hat = adj_hat / beta_hat\n",
    "\n",
    "experiments_utils.print_report(adj_hat=adj_hat, adj_true=adjacency_true, thresh=0.05)"
   ]
  },
  {
   "cell_type": "markdown",
   "metadata": {},
   "source": [
    "---\n",
    "\n",
    "### Run VI"
   ]
  },
  {
   "cell_type": "code",
   "execution_count": 75,
   "metadata": {},
   "outputs": [
    {
     "name": "stdout",
     "output_type": "stream",
     "text": [
      "ALPHA:\n",
      "------\n",
      "mean\n",
      "0.1\n",
      "variance\n",
      "0.1\n",
      "BETA:\n",
      "-----\n",
      "mean\n",
      "1.0\n",
      "variance\n",
      "0.010101010101010102\n"
     ]
    }
   ],
   "source": [
    "dim = len(train_events)\n",
    "\n",
    "# Set priors\n",
    "# prior: Alpha\n",
    "as_pr = 0.1 * np.ones((dim + 1, dim))\n",
    "ar_pr = 1.0 * np.ones((dim + 1, dim))\n",
    "\n",
    "# prior: Beta\n",
    "bs_pr = 101.0 * np.ones((dim, dim))\n",
    "br_pr = 100.0 * np.ones((dim, dim))\n",
    "\n",
    "# prior: Z\n",
    "zc_pr = [1.0 * np.ones((len(events[i]), dim+1)) for i in range(dim)]\n",
    "\n",
    "print('ALPHA:')\n",
    "print('------')\n",
    "print('mean')\n",
    "print(as_pr[0,0] / ar_pr[0,0])\n",
    "print('variance')\n",
    "print(as_pr[0,0] / ar_pr[0,0] ** 2)\n",
    "\n",
    "print('BETA:')\n",
    "print('-----')\n",
    "print('mean')\n",
    "print(br_pr[0,0] / (bs_pr[0,0] - 1))\n",
    "print('variance')\n",
    "print(br_pr[0,0]**2 / ((bs_pr[0,0] - 1)**2 * (bs_pr[0,0] - 2)))"
   ]
  },
  {
   "cell_type": "code",
   "execution_count": 81,
   "metadata": {},
   "outputs": [],
   "source": [
    "# Set model & observations\n",
    "vi_model = tsvar.models.WoldModelVariationalOther(verbose=True)\n",
    "vi_model.observe(events)"
   ]
  },
  {
   "cell_type": "code",
   "execution_count": 82,
   "metadata": {},
   "outputs": [
    {
     "name": "stdout",
     "output_type": "stream",
     "text": [
      "iter:     1 | dx: +1.0000e-01 | f1-score: 0.00 | relerr: 9.96e+00 | p@5: 0.00 | p@10: 0.10 | p@20: 0.20 | time/it: 1.35e+00     \n",
      "iter:     2 | dx: +1.9583e-02 | f1-score: 0.00 | relerr: 1.02e+01 | p@5: 0.20 | p@10: 0.40 | p@20: 0.25 | time/it: 9.93e-01     \n",
      "iter:     3 | dx: +3.6484e-02 | f1-score: 0.00 | relerr: 1.01e+01 | p@5: 0.20 | p@10: 0.20 | p@20: 0.25 | time/it: 7.93e-01     \n",
      "iter:     4 | dx: +6.2958e-02 | f1-score: 0.00 | relerr: 1.02e+01 | p@5: 0.40 | p@10: 0.20 | p@20: 0.30 | time/it: 8.33e-01     \n",
      "iter:     5 | dx: +8.7917e-02 | f1-score: 0.00 | relerr: 1.02e+01 | p@5: 0.40 | p@10: 0.20 | p@20: 0.30 | time/it: 9.57e-01     \n",
      "iter:     6 | dx: +9.9018e-02 | f1-score: 0.00 | relerr: 1.02e+01 | p@5: 0.40 | p@10: 0.30 | p@20: 0.25 | time/it: 1.01e+00     \n",
      "iter:     7 | dx: +9.1646e-02 | f1-score: 0.00 | relerr: 1.02e+01 | p@5: 0.40 | p@10: 0.30 | p@20: 0.35 | time/it: 8.33e-01     \n",
      "iter:     8 | dx: +7.2184e-02 | f1-score: 0.01 | relerr: 1.02e+01 | p@5: 0.40 | p@10: 0.30 | p@20: 0.30 | time/it: 8.33e-01     \n",
      "iter:     9 | dx: +5.0430e-02 | f1-score: 0.01 | relerr: 1.02e+01 | p@5: 0.40 | p@10: 0.30 | p@20: 0.30 | time/it: 6.97e-01     \n",
      "iter:    10 | dx: +3.8118e-02 | f1-score: 0.02 | relerr: 1.02e+01 | p@5: 0.40 | p@10: 0.30 | p@20: 0.35 | time/it: 6.92e-01     \n",
      "iter:    11 | dx: +4.0536e-02 | f1-score: 0.02 | relerr: 1.02e+01 | p@5: 0.40 | p@10: 0.30 | p@20: 0.35 | time/it: 6.66e-01     \n",
      "iter:    12 | dx: +4.1485e-02 | f1-score: 0.02 | relerr: 1.02e+01 | p@5: 0.40 | p@10: 0.30 | p@20: 0.35 | time/it: 6.54e-01     \n",
      "iter:    13 | dx: +4.1273e-02 | f1-score: 0.03 | relerr: 1.01e+01 | p@5: 0.40 | p@10: 0.30 | p@20: 0.35 | time/it: 6.94e-01     \n",
      "iter:    14 | dx: +4.0063e-02 | f1-score: 0.03 | relerr: 1.01e+01 | p@5: 0.20 | p@10: 0.30 | p@20: 0.35 | time/it: 6.46e-01     \n",
      "iter:    15 | dx: +3.9650e-02 | f1-score: 0.04 | relerr: 1.01e+01 | p@5: 0.20 | p@10: 0.30 | p@20: 0.35 | time/it: 6.99e-01     \n",
      "iter:    16 | dx: +3.8861e-02 | f1-score: 0.04 | relerr: 1.00e+01 | p@5: 0.20 | p@10: 0.30 | p@20: 0.35 | time/it: 6.66e-01     \n",
      "iter:    17 | dx: +3.7595e-02 | f1-score: 0.04 | relerr: 9.99e+00 | p@5: 0.40 | p@10: 0.30 | p@20: 0.35 | time/it: 6.34e-01     \n",
      "iter:    18 | dx: +3.5968e-02 | f1-score: 0.04 | relerr: 9.97e+00 | p@5: 0.40 | p@10: 0.30 | p@20: 0.35 | time/it: 6.38e-01     \n",
      "iter:    19 | dx: +3.4059e-02 | f1-score: 0.04 | relerr: 9.95e+00 | p@5: 0.40 | p@10: 0.30 | p@20: 0.40 | time/it: 6.16e-01     \n",
      "iter:    20 | dx: +3.1942e-02 | f1-score: 0.04 | relerr: 9.93e+00 | p@5: 0.40 | p@10: 0.20 | p@20: 0.40 | time/it: 7.48e-01     \n",
      "iter:    21 | dx: +2.9722e-02 | f1-score: 0.04 | relerr: 9.91e+00 | p@5: 0.40 | p@10: 0.20 | p@20: 0.40 | time/it: 7.39e-01     \n",
      "iter:    22 | dx: +2.7533e-02 | f1-score: 0.05 | relerr: 9.90e+00 | p@5: 0.40 | p@10: 0.20 | p@20: 0.40 | time/it: 6.96e-01     \n",
      "iter:    23 | dx: +2.5463e-02 | f1-score: 0.05 | relerr: 9.88e+00 | p@5: 0.40 | p@10: 0.20 | p@20: 0.40 | time/it: 8.60e-01     \n",
      "iter:    24 | dx: +2.3528e-02 | f1-score: 0.05 | relerr: 9.87e+00 | p@5: 0.40 | p@10: 0.20 | p@20: 0.40 | time/it: 8.65e-01     \n",
      "iter:    25 | dx: +2.1557e-02 | f1-score: 0.05 | relerr: 9.86e+00 | p@5: 0.20 | p@10: 0.20 | p@20: 0.40 | time/it: 7.43e-01     \n",
      "iter:    26 | dx: +1.9773e-02 | f1-score: 0.05 | relerr: 9.86e+00 | p@5: 0.20 | p@10: 0.20 | p@20: 0.40 | time/it: 6.65e-01     \n",
      "iter:    27 | dx: +1.8118e-02 | f1-score: 0.05 | relerr: 9.85e+00 | p@5: 0.20 | p@10: 0.20 | p@20: 0.40 | time/it: 8.84e-01     \n",
      "iter:    28 | dx: +1.6668e-02 | f1-score: 0.05 | relerr: 9.85e+00 | p@5: 0.20 | p@10: 0.20 | p@20: 0.40 | time/it: 6.72e-01     \n",
      "iter:    29 | dx: +1.5314e-02 | f1-score: 0.05 | relerr: 9.84e+00 | p@5: 0.20 | p@10: 0.20 | p@20: 0.40 | time/it: 6.13e-01     \n",
      "iter:    30 | dx: +1.3938e-02 | f1-score: 0.05 | relerr: 9.84e+00 | p@5: 0.20 | p@10: 0.20 | p@20: 0.40 | time/it: 6.11e-01     \n",
      "iter:    31 | dx: +1.2645e-02 | f1-score: 0.06 | relerr: 9.84e+00 | p@5: 0.20 | p@10: 0.30 | p@20: 0.40 | time/it: 6.10e-01     \n",
      "iter:    32 | dx: +1.1513e-02 | f1-score: 0.06 | relerr: 9.85e+00 | p@5: 0.20 | p@10: 0.30 | p@20: 0.40 | time/it: 5.90e-01     \n",
      "iter:    33 | dx: +1.0476e-02 | f1-score: 0.06 | relerr: 9.85e+00 | p@5: 0.20 | p@10: 0.30 | p@20: 0.40 | time/it: 5.94e-01     \n",
      "iter:    34 | dx: +9.8395e-03 | f1-score: 0.06 | relerr: 9.85e+00 | p@5: 0.20 | p@10: 0.30 | p@20: 0.40 | time/it: 6.02e-01     \n",
      "iter:    35 | dx: +9.2701e-03 | f1-score: 0.06 | relerr: 9.85e+00 | p@5: 0.20 | p@10: 0.30 | p@20: 0.40 | time/it: 7.71e-01     \n",
      "iter:    36 | dx: +8.6541e-03 | f1-score: 0.06 | relerr: 9.86e+00 | p@5: 0.20 | p@10: 0.30 | p@20: 0.40 | time/it: 6.85e-01     \n",
      "iter:    37 | dx: +8.0501e-03 | f1-score: 0.06 | relerr: 9.86e+00 | p@5: 0.20 | p@10: 0.30 | p@20: 0.40 | time/it: 6.23e-01     \n",
      "iter:    38 | dx: +7.5170e-03 | f1-score: 0.06 | relerr: 9.87e+00 | p@5: 0.20 | p@10: 0.30 | p@20: 0.40 | time/it: 5.94e-01     \n",
      "iter:    39 | dx: +7.0760e-03 | f1-score: 0.06 | relerr: 9.87e+00 | p@5: 0.20 | p@10: 0.30 | p@20: 0.35 | time/it: 6.04e-01     \n",
      "iter:    40 | dx: +6.6753e-03 | f1-score: 0.06 | relerr: 9.87e+00 | p@5: 0.20 | p@10: 0.30 | p@20: 0.35 | time/it: 1.41e+00     \n"
     ]
    },
    {
     "data": {
      "text/plain": [
       "False"
      ]
     },
     "execution_count": 82,
     "metadata": {},
     "output_type": "execute_result"
    }
   ],
   "source": [
    "# Set callback (parameters of callback are just the posterior mean of alpha)\n",
    "callback = tsvar.utils.callbacks.LearnerCallbackMLE(\n",
    "    x0=(as_pr[1:,:] / ar_pr[1:,:]).flatten(), print_every=1,\n",
    "    coeffs_true=adjacency_true.flatten(),\n",
    "    acc_thresh=0.05, dim=dim, \n",
    "    widgets={'f1score', 'relerr', 'prec@5', 'prec@10', 'prec@20'},\n",
    "    default_end='\\n')\n",
    "\n",
    "# Fit model\n",
    "vi_model.fit(as_pr=as_pr, ar_pr=ar_pr, bs_pr=bs_pr, br_pr=br_pr, zc_pr=zc_pr, \n",
    "          max_iter=40, tol=1e-5, callback=callback)"
   ]
  },
  {
   "cell_type": "code",
   "execution_count": 230,
   "metadata": {
    "scrolled": false
   },
   "outputs": [
    {
     "name": "stdout",
     "output_type": "stream",
     "text": [
      "\n",
      "==================================================\n",
      "========== Method: WoldModelVariationalOther\n",
      "\n",
      "Accuracy: 0.26\n",
      "\n",
      "Edge counts\n",
      "------------\n",
      "Pred: 10000.00\n",
      "True: 2623.00\n",
      "\n",
      "Error counts\n",
      "------------\n",
      " True Positive: 2623.00\n",
      "False Positive: 7377.00\n",
      " True Negative: 0.00\n",
      "False Negative: 0.00\n",
      "\n",
      "Error rates\n",
      "-----------\n",
      " True Positive Rate: 1.00\n",
      "False Positive Rate: 1.00\n",
      " True Negative Rate: 0.00\n",
      "False Negative Rate: 0.00\n",
      "\n",
      "F-Score\n",
      "-------\n",
      " F1-Score: 0.42\n",
      "Precision: 0.26\n",
      "   Recall: 1.00\n",
      "\n",
      "Precision@k\n",
      "-----------\n",
      " Prec@10: 0.30\n",
      " Prec@50: 0.36\n",
      "Prec@200: 0.30\n",
      "\n",
      "Average Precision@k per node\n",
      "----------------------------\n",
      "AvgPrec@k per node:\n",
      "5 0.07474747474747478\n",
      "10 0.13131313131313116\n",
      "20 0.2257575757575758\n",
      "50 0.29050505050505043\n",
      "100 0.26494949494949493\n",
      "200 0.13247474747474747\n",
      "\n"
     ]
    }
   ],
   "source": [
    "mu_hat = vi_model._as_po[0, :] / vi_model._ar_po[0, :]\n",
    "adj_hat = vi_model._as_po[1:, :] / vi_model._ar_po[1:, :]\n",
    "#adj_hat = (vi_model._as_po[1:, :] >= 1) * (vi_model._as_po[1:, :] - 1) / vi_model._ar_po[1:, :]\n",
    "beta_hat = vi_model._br_po[:, :] / (vi_model._bs_po[:, :] + 1) + 1\n",
    "model_name = type(vi_model).__name__\n",
    "\n",
    "#adj_hat = adj_hat\n",
    "adj_hat = adj_hat #/ beta_hat\n",
    "\n",
    "#diag_mask = np.eye(adj_hat.shape[0]).astype(bool)\n",
    "#adjacency_true_zero_diag = adjacency_true.copy()\n",
    "#adjacency_true_zero_diag[diag_mask] = 0\n",
    "#adj_hat[diag_mask] = 0\n",
    "\n",
    "\n",
    "experiments_utils.print_report(name=type(vi_model).__name__, adj_hat=adj_hat, adj_true=adjacency_true, thresh=0.0)"
   ]
  },
  {
   "cell_type": "code",
   "execution_count": 224,
   "metadata": {},
   "outputs": [],
   "source": [
    "test_dims = np.array([len(ev) > 0 for ev in test_events])\n",
    "num_test_events = sum(map(len, test_events))\n",
    "test_events_filtered = np.array(test_events)[test_dims].tolist()\n",
    "test_model = tsvar.models.WoldModelOther()\n",
    "test_model.observe(test_events_filtered)\n",
    "\n",
    "def compute_vi_log_likelihoods(vi_model, num_samples=10):\n",
    "    vals = list()\n",
    "    adj_list = list()\n",
    "    for i in range(num_samples):\n",
    "        as_po = vi_model._as_po[np.hstack([[True], test_dims]), :][:, test_dims]\n",
    "        ar_po = vi_model._ar_po[np.hstack([[True], test_dims]), :][:, test_dims]\n",
    "        bs_po = vi_model._bs_po[test_dims, :][:, test_dims]\n",
    "        br_po = vi_model._br_po[test_dims, :][:, test_dims]\n",
    "\n",
    "        alpha_sample = np.random.gamma(shape=as_po, scale=1/ar_po)\n",
    "        beta_sample = np.random.gamma(shape=bs_po, scale=1/br_po)\n",
    "        coeffs = torch.tensor(np.hstack((\n",
    "            alpha_sample[0, :].flatten(), beta_sample.flatten(), alpha_sample[1:, :].flatten()\n",
    "        )))\n",
    "        ll = test_model.log_likelihood(coeffs) / num_test_events\n",
    "        vals.append(ll)\n",
    "        adj_list.append(np.random.gamma(shape=vi_model._as_po, scale=1/vi_model._ar_po)[1:, :])\n",
    "    print(f\"{np.mean(vals):.2f} ($\\pm {np.std(vals):.2e}$)\")\n",
    "    return vals, adj_list"
   ]
  },
  {
   "cell_type": "code",
   "execution_count": 225,
   "metadata": {},
   "outputs": [
    {
     "name": "stdout",
     "output_type": "stream",
     "text": [
      "-2.47 ($\\pm 2.38e-03$)\n"
     ]
    }
   ],
   "source": [
    "vals, vi_adj_list = compute_vi_log_likelihoods(vi_model, num_samples=10)"
   ]
  },
  {
   "cell_type": "code",
   "execution_count": 232,
   "metadata": {
    "scrolled": true
   },
   "outputs": [
    {
     "data": {
      "text/plain": [
       "[0.3905040786446351,\n",
       " 0.38653886226297146,\n",
       " 0.38513443371742967,\n",
       " 0.3847758081334724,\n",
       " 0.37588800668616795,\n",
       " 0.3930926216640502,\n",
       " 0.38645626502246844,\n",
       " 0.3869153036774664,\n",
       " 0.38994764397905757,\n",
       " 0.388848434411734]"
      ]
     },
     "execution_count": 232,
     "metadata": {},
     "output_type": "execute_result"
    }
   ],
   "source": [
    "[tsvar.utils.metrics.fscore(\n",
    "    ~np.isclose(vi_adj_list[i], 0).flatten(), \n",
    "    (adjacency_true > 0).flatten(), \n",
    "    threshold=0.0) \n",
    " for i in range(10)]"
   ]
  },
  {
   "cell_type": "code",
   "execution_count": 227,
   "metadata": {},
   "outputs": [
    {
     "data": {
      "text/plain": [
       "array([[-0.00, -0.00,  0.08, ..., -0.00, -0.00, -0.00],\n",
       "       [ 0.09, -0.00,  0.04, ..., -0.00, -0.00, -0.00],\n",
       "       [-0.00, -0.00,  0.17, ..., -0.00, -0.00, -0.00],\n",
       "       ...,\n",
       "       [-0.00, -0.00, -0.00, ...,  0.05, -0.00, -0.00],\n",
       "       [ 0.06,  0.03,  0.00, ..., -0.00,  0.02,  0.00],\n",
       "       [-0.00,  0.04, -0.00, ..., -0.00, -0.00,  0.77]])"
      ]
     },
     "execution_count": 227,
     "metadata": {},
     "output_type": "execute_result"
    }
   ],
   "source": [
    "vi_adj_mode = (vi_model._as_po[1:, :] > 1) * (vi_model._as_po[1:, :] - 1) / vi_model._ar_po[1:, :]\n",
    "vi_adj_mode"
   ]
  },
  {
   "cell_type": "code",
   "execution_count": 228,
   "metadata": {
    "scrolled": false
   },
   "outputs": [
    {
     "data": {
      "text/plain": [
       "0.21783662253310018"
      ]
     },
     "execution_count": 228,
     "metadata": {},
     "output_type": "execute_result"
    }
   ],
   "source": [
    "import sklearn.metrics\n",
    "sklearn.metrics.f1_score((adjacency_true>0).flatten(), ~np.isclose(vi_adj_mode, 0).flatten())"
   ]
  },
  {
   "cell_type": "code",
   "execution_count": 229,
   "metadata": {},
   "outputs": [
    {
     "data": {
      "text/plain": [
       "0.3905040786446351"
      ]
     },
     "execution_count": 229,
     "metadata": {},
     "output_type": "execute_result"
    }
   ],
   "source": [
    "import sklearn.metrics\n",
    "sklearn.metrics.f1_score((adjacency_true>0).flatten(), ~np.isclose(vi_adj_list[0], 0).flatten())"
   ]
  },
  {
   "cell_type": "code",
   "execution_count": null,
   "metadata": {},
   "outputs": [],
   "source": []
  },
  {
   "cell_type": "code",
   "execution_count": null,
   "metadata": {},
   "outputs": [],
   "source": []
  },
  {
   "cell_type": "markdown",
   "metadata": {},
   "source": [
    "---\n",
    "\n",
    "### Run GB"
   ]
  },
  {
   "cell_type": "code",
   "execution_count": 25,
   "metadata": {},
   "outputs": [],
   "source": [
    "import gb\n",
    "import time\n",
    "\n",
    "dim = len(events)\n",
    "\n",
    "# Define model\n",
    "granger_model = gb.GrangerBusca(\n",
    "    alpha_prior=1.0/len(events),\n",
    "    num_iter=3000,\n",
    "    metropolis=True,\n",
    "    beta_strategy='busca',\n",
    "    num_jobs=4,\n",
    ")\n",
    "granger_model.fit(events)"
   ]
  },
  {
   "cell_type": "code",
   "execution_count": 34,
   "metadata": {},
   "outputs": [
    {
     "name": "stdout",
     "output_type": "stream",
     "text": [
      "\n",
      "==================================================\n",
      "========== Method: GrangerBusca\n",
      "\n",
      "Accuracy: 0.26\n",
      "\n",
      "Edge counts\n",
      "------------\n",
      "Pred: 508.00\n",
      "True: 2623.00\n",
      "\n",
      "Error counts\n",
      "------------\n",
      " True Positive: 167.00\n",
      "False Positive: 341.00\n",
      " True Negative: 7036.00\n",
      "False Negative: 2456.00\n",
      "\n",
      "Error rates\n",
      "-----------\n",
      " True Positive Rate: 0.06\n",
      "False Positive Rate: 0.05\n",
      " True Negative Rate: 0.95\n",
      "False Negative Rate: 0.94\n",
      "\n",
      "F-Score\n",
      "-------\n",
      " F1-Score: 0.11\n",
      "Precision: 0.33\n",
      "   Recall: 0.06\n",
      "\n",
      "Precision@k\n",
      "-----------\n",
      "  Prec@5: 0.00\n",
      " Prec@10: 0.00\n",
      " Prec@20: 0.05\n",
      " Prec@50: 0.04\n",
      "Prec@100: 0.04\n",
      "Prec@200: 0.32\n",
      "\n",
      "Average Precision@k per node\n",
      "----------------------------\n",
      "AvgPrec@k per node:\n",
      "5 0.24848484848484825\n",
      "10 0.26363636363636367\n",
      "20 0.19848484848484846\n",
      "50 0.09898989898989896\n",
      "100 0.049797979797979786\n",
      "200 0.024898989898989893\n",
      "\n"
     ]
    }
   ],
   "source": [
    "# Extract infered adjacency\n",
    "adj_hat = granger_model.Alpha_.toarray()\n",
    "adj_hat = adj_hat / adj_hat.sum(axis=1)[:, None]\n",
    "beta_hat = np.ones((dim, dim)) * (granger_model.beta_ + 1)\n",
    "coeffs_hat = np.hstack((granger_model.mu_, beta_hat.flatten(),\n",
    "                        adj_hat.flatten()))\n",
    "model_name = type(granger_model).__name__\n",
    "\n",
    "adj_hat = adj_hat / beta_hat  # Does not matter\n",
    "\n",
    "diag_mask = np.eye(adj_hat.shape[0]).astype(bool)\n",
    "adjacency_true_zero_diag = adjacency_true.copy()\n",
    "adjacency_true_zero_diag[diag_mask] = 0\n",
    "#adj_hat[diag_mask] = 0\n",
    "\n",
    "\n",
    "THRESH = 0.00  # GB is already sparse\n",
    "\n",
    "experiments_utils.print_report(name=model_name, adj_hat=adj_hat, adj_true=adjacency_true, thresh=0)"
   ]
  },
  {
   "cell_type": "code",
   "execution_count": 102,
   "metadata": {},
   "outputs": [],
   "source": [
    "import gb\n",
    "\n",
    "test_dims = np.array([len(ev) > 0 for ev in test_events])\n",
    "num_test_events = sum(map(len, test_events))\n",
    "test_events_filtered = np.array(test_events)[test_dims].tolist()\n",
    "test_model = tsvar.models.WoldModelOther()\n",
    "test_model.observe(test_events_filtered)\n",
    "\n",
    "def compute_gb_log_likelihoods(num_samples=10):\n",
    "    vals = list()\n",
    "    for i in range(num_samples):\n",
    "        print(f'\\r{i}', end='')\n",
    "        # Define model\n",
    "        granger_model = gb.GrangerBusca(\n",
    "            alpha_prior=1.0/100,\n",
    "            num_iter=300,\n",
    "            metropolis=True,\n",
    "            beta_strategy='busca',\n",
    "            num_jobs=10,\n",
    "        )\n",
    "\n",
    "        # Fit the model\n",
    "        granger_model.fit(events)\n",
    "\n",
    "        # Extract estimate of parameters\n",
    "        mu_hat = granger_model.mu_[test_dims]\n",
    "        adj_hat = granger_model.Alpha_.toarray()[test_dims, :][:, test_dims]\n",
    "        adj_hat = adj_hat / adj_hat.sum(axis=1)[:, None]\n",
    "        dim = len(events)\n",
    "        beta_hat = np.ones((dim, dim)) * granger_model.beta_\n",
    "        beta_hat = beta_hat[test_dims, :][:, test_dims]\n",
    "        coeffs_hat = torch.tensor(np.hstack((\n",
    "            mu_hat, beta_hat.flatten(), adj_hat.flatten()\n",
    "        )))\n",
    "        \n",
    "        ll = test_model.log_likelihood(coeffs_hat) / num_test_events\n",
    "        vals.append(ll)\n",
    "    print('\\r', end='')\n",
    "    print(f\"{np.mean(vals):.2f} ($\\pm {np.std(vals):.2e}$)\")\n",
    "    return vals"
   ]
  },
  {
   "cell_type": "code",
   "execution_count": 103,
   "metadata": {},
   "outputs": [
    {
     "name": "stdout",
     "output_type": "stream",
     "text": [
      "-4.54, ($\\pm 3.28e-02$)\n"
     ]
    },
    {
     "data": {
      "text/plain": [
       "[tensor(-4.6080, dtype=torch.float64),\n",
       " tensor(-4.5009, dtype=torch.float64),\n",
       " tensor(-4.5189, dtype=torch.float64),\n",
       " tensor(-4.5211, dtype=torch.float64),\n",
       " tensor(-4.5866, dtype=torch.float64),\n",
       " tensor(-4.5554, dtype=torch.float64),\n",
       " tensor(-4.5309, dtype=torch.float64),\n",
       " tensor(-4.5585, dtype=torch.float64),\n",
       " tensor(-4.5102, dtype=torch.float64),\n",
       " tensor(-4.5570, dtype=torch.float64)]"
      ]
     },
     "execution_count": 103,
     "metadata": {},
     "output_type": "execute_result"
    }
   ],
   "source": [
    "compute_gb_log_likelihoods()"
   ]
  },
  {
   "cell_type": "code",
   "execution_count": null,
   "metadata": {},
   "outputs": [],
   "source": []
  },
  {
   "cell_type": "code",
   "execution_count": null,
   "metadata": {},
   "outputs": [],
   "source": []
  }
 ],
 "metadata": {
  "kernelspec": {
   "display_name": "Python 3",
   "language": "python",
   "name": "python3"
  },
  "language_info": {
   "codemirror_mode": {
    "name": "ipython",
    "version": 3
   },
   "file_extension": ".py",
   "mimetype": "text/x-python",
   "name": "python",
   "nbconvert_exporter": "python",
   "pygments_lexer": "ipython3",
   "version": "3.6.10"
  }
 },
 "nbformat": 4,
 "nbformat_minor": 4
}

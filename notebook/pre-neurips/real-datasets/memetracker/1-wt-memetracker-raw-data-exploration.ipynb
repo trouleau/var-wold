{
 "cells": [
  {
   "cell_type": "code",
   "execution_count": 3,
   "metadata": {},
   "outputs": [],
   "source": [
    "import os\n",
    "import glob\n",
    "import gzip\n",
    "import pickle\n",
    "import pandas as pd\n",
    "import numpy as np\n",
    "import multiprocessing\n",
    "\n",
    "from datetime import datetime\n",
    "import pytz\n",
    "\n",
    "from matplotlib import pyplot as plt\n",
    "%matplotlib inline\n",
    "\n",
    "import networkx as nx"
   ]
  },
  {
   "cell_type": "code",
   "execution_count": 5,
   "metadata": {},
   "outputs": [
    {
     "ename": "MaybeEncodingError",
     "evalue": "Error sending result: '                        Date                        Hyperlink  \\\n0        2008-09-01 00:00:00   http://maelstrom2.blogspot.com   \n1        2008-09-01 00:00:00                http://flickr.com   \n2        2008-09-01 00:00:00              http://cl.cam.ac.uk   \n3        2008-09-01 00:00:00          http://en.wikipedia.org   \n4        2008-09-01 00:00:00  http://orchard-grantchester.com   \n...                      ...                              ...   \n13671192 2008-10-01 00:00:02            http://craigslist.org   \n13671193 2008-10-01 00:00:02            http://craigslist.org   \n13671194 2008-10-01 00:00:02            http://craigslist.org   \n13671195 2008-10-01 00:00:02            http://craigslist.org   \n13671196 2008-10-01 00:00:02            http://craigslist.org   \n\n                                    Blog   PostNb  WeightOfLink  \\\n0         http://maelstrom2.blogspot.com        0         0.125   \n1         http://maelstrom2.blogspot.com        0         0.125   \n2         http://maelstrom2.blogspot.com        0         0.125   \n3         http://maelstrom2.blogspot.com        0         0.125   \n4         http://maelstrom2.blogspot.com        0         0.125   \n...                                  ...      ...           ...   \n13671192     http://miami.craigslist.org  9464206         1.000   \n13671193     http://miami.craigslist.org  9464207         1.000   \n13671194     http://miami.craigslist.org  9464208         1.000   \n13671195     http://miami.craigslist.org  9464209         1.000   \n13671196     http://miami.craigslist.org  9464210         1.000   \n\n                                                    PostURL  \\\n0         http://maelstrom2.blogspot.com/2008/09/orchard...   \n1         http://maelstrom2.blogspot.com/2008/09/orchard...   \n2         http://maelstrom2.blogspot.com/2008/09/orchard...   \n3         http://maelstrom2.blogspot.com/2008/09/orchard...   \n4         http://maelstrom2.blogspot.com/2008/09/orchard...   \n...                                                     ...   \n13671192  http://miami.craigslist.org/pbc/hsh/861323565....   \n13671193  http://miami.craigslist.org/brw/boa/861618393....   \n13671194  http://miami.craigslist.org/mdc/for/861606586....   \n13671195  http://miami.craigslist.org/pbc/ele/861617043....   \n13671196  http://miami.craigslist.org/pbc/rvs/861611411....   \n\n                                               HyperlinkURL  \n0         http://blogger.com/comment.g?blogid=5118249227...  \n1         http://blogger.com/comment.g?blogid=5118249227...  \n2         http://blogger.com/comment.g?blogid=5118249227...  \n3         http://blogger.com/comment.g?blogid=5118249227...  \n4         http://blogger.com/comment.g?blogid=5118249227...  \n...                                                     ...  \n13671192             http://craigslist.org/about/scams.html  \n13671193             http://craigslist.org/about/scams.html  \n13671194             http://craigslist.org/about/scams.html  \n13671195             http://craigslist.org/about/scams.html  \n13671196             http://craigslist.org/about/scams.html  \n\n[13671197 rows x 7 columns]'. Reason: 'error(\"'i' format requires -2147483648 <= number <= 2147483647\")'",
     "output_type": "error",
     "traceback": [
      "\u001b[0;31m---------------------------------------------------------------------------\u001b[0m",
      "\u001b[0;31mMaybeEncodingError\u001b[0m                        Traceback (most recent call last)",
      "\u001b[0;32m<ipython-input-5-92ee36e20842>\u001b[0m in \u001b[0;36m<module>\u001b[0;34m\u001b[0m\n\u001b[1;32m     13\u001b[0m \u001b[0mdata\u001b[0m \u001b[0;34m=\u001b[0m \u001b[0mlist\u001b[0m\u001b[0;34m(\u001b[0m\u001b[0;34m)\u001b[0m\u001b[0;34m\u001b[0m\u001b[0;34m\u001b[0m\u001b[0m\n\u001b[1;32m     14\u001b[0m \u001b[0;32mfor\u001b[0m \u001b[0mjob\u001b[0m \u001b[0;32min\u001b[0m \u001b[0mjobs\u001b[0m\u001b[0;34m:\u001b[0m\u001b[0;34m\u001b[0m\u001b[0;34m\u001b[0m\u001b[0m\n\u001b[0;32m---> 15\u001b[0;31m     \u001b[0mdata\u001b[0m\u001b[0;34m.\u001b[0m\u001b[0mappend\u001b[0m\u001b[0;34m(\u001b[0m\u001b[0mjob\u001b[0m\u001b[0;34m.\u001b[0m\u001b[0mget\u001b[0m\u001b[0;34m(\u001b[0m\u001b[0;34m)\u001b[0m\u001b[0;34m)\u001b[0m\u001b[0;34m\u001b[0m\u001b[0;34m\u001b[0m\u001b[0m\n\u001b[0m\u001b[1;32m     16\u001b[0m \u001b[0;34m\u001b[0m\u001b[0m\n\u001b[1;32m     17\u001b[0m \u001b[0mdf\u001b[0m \u001b[0;34m=\u001b[0m \u001b[0mpd\u001b[0m\u001b[0;34m.\u001b[0m\u001b[0mconcat\u001b[0m\u001b[0;34m(\u001b[0m\u001b[0mdata\u001b[0m\u001b[0;34m,\u001b[0m \u001b[0mignore_index\u001b[0m\u001b[0;34m=\u001b[0m\u001b[0;32mTrue\u001b[0m\u001b[0;34m)\u001b[0m\u001b[0;34m\u001b[0m\u001b[0;34m\u001b[0m\u001b[0m\n",
      "\u001b[0;32m~/miniconda/envs/env/lib/python3.7/multiprocessing/pool.py\u001b[0m in \u001b[0;36mget\u001b[0;34m(self, timeout)\u001b[0m\n\u001b[1;32m    655\u001b[0m             \u001b[0;32mreturn\u001b[0m \u001b[0mself\u001b[0m\u001b[0;34m.\u001b[0m\u001b[0m_value\u001b[0m\u001b[0;34m\u001b[0m\u001b[0;34m\u001b[0m\u001b[0m\n\u001b[1;32m    656\u001b[0m         \u001b[0;32melse\u001b[0m\u001b[0;34m:\u001b[0m\u001b[0;34m\u001b[0m\u001b[0;34m\u001b[0m\u001b[0m\n\u001b[0;32m--> 657\u001b[0;31m             \u001b[0;32mraise\u001b[0m \u001b[0mself\u001b[0m\u001b[0;34m.\u001b[0m\u001b[0m_value\u001b[0m\u001b[0;34m\u001b[0m\u001b[0;34m\u001b[0m\u001b[0m\n\u001b[0m\u001b[1;32m    658\u001b[0m \u001b[0;34m\u001b[0m\u001b[0m\n\u001b[1;32m    659\u001b[0m     \u001b[0;32mdef\u001b[0m \u001b[0m_set\u001b[0m\u001b[0;34m(\u001b[0m\u001b[0mself\u001b[0m\u001b[0;34m,\u001b[0m \u001b[0mi\u001b[0m\u001b[0;34m,\u001b[0m \u001b[0mobj\u001b[0m\u001b[0;34m)\u001b[0m\u001b[0;34m:\u001b[0m\u001b[0;34m\u001b[0m\u001b[0;34m\u001b[0m\u001b[0m\n",
      "\u001b[0;31mMaybeEncodingError\u001b[0m: Error sending result: '                        Date                        Hyperlink  \\\n0        2008-09-01 00:00:00   http://maelstrom2.blogspot.com   \n1        2008-09-01 00:00:00                http://flickr.com   \n2        2008-09-01 00:00:00              http://cl.cam.ac.uk   \n3        2008-09-01 00:00:00          http://en.wikipedia.org   \n4        2008-09-01 00:00:00  http://orchard-grantchester.com   \n...                      ...                              ...   \n13671192 2008-10-01 00:00:02            http://craigslist.org   \n13671193 2008-10-01 00:00:02            http://craigslist.org   \n13671194 2008-10-01 00:00:02            http://craigslist.org   \n13671195 2008-10-01 00:00:02            http://craigslist.org   \n13671196 2008-10-01 00:00:02            http://craigslist.org   \n\n                                    Blog   PostNb  WeightOfLink  \\\n0         http://maelstrom2.blogspot.com        0         0.125   \n1         http://maelstrom2.blogspot.com        0         0.125   \n2         http://maelstrom2.blogspot.com        0         0.125   \n3         http://maelstrom2.blogspot.com        0         0.125   \n4         http://maelstrom2.blogspot.com        0         0.125   \n...                                  ...      ...           ...   \n13671192     http://miami.craigslist.org  9464206         1.000   \n13671193     http://miami.craigslist.org  9464207         1.000   \n13671194     http://miami.craigslist.org  9464208         1.000   \n13671195     http://miami.craigslist.org  9464209         1.000   \n13671196     http://miami.craigslist.org  9464210         1.000   \n\n                                                    PostURL  \\\n0         http://maelstrom2.blogspot.com/2008/09/orchard...   \n1         http://maelstrom2.blogspot.com/2008/09/orchard...   \n2         http://maelstrom2.blogspot.com/2008/09/orchard...   \n3         http://maelstrom2.blogspot.com/2008/09/orchard...   \n4         http://maelstrom2.blogspot.com/2008/09/orchard...   \n...                                                     ...   \n13671192  http://miami.craigslist.org/pbc/hsh/861323565....   \n13671193  http://miami.craigslist.org/brw/boa/861618393....   \n13671194  http://miami.craigslist.org/mdc/for/861606586....   \n13671195  http://miami.craigslist.org/pbc/ele/861617043....   \n13671196  http://miami.craigslist.org/pbc/rvs/861611411....   \n\n                                               HyperlinkURL  \n0         http://blogger.com/comment.g?blogid=5118249227...  \n1         http://blogger.com/comment.g?blogid=5118249227...  \n2         http://blogger.com/comment.g?blogid=5118249227...  \n3         http://blogger.com/comment.g?blogid=5118249227...  \n4         http://blogger.com/comment.g?blogid=5118249227...  \n...                                                     ...  \n13671192             http://craigslist.org/about/scams.html  \n13671193             http://craigslist.org/about/scams.html  \n13671194             http://craigslist.org/about/scams.html  \n13671195             http://craigslist.org/about/scams.html  \n13671196             http://craigslist.org/about/scams.html  \n\n[13671197 rows x 7 columns]'. Reason: 'error(\"'i' format requires -2147483648 <= number <= 2147483647\")'"
     ]
    }
   ],
   "source": [
    "list_df_files = sorted(glob.glob('/root/workspace/var-wold/lib/nphc_memetracker/data/df_2008*.pk'))\n",
    "\n",
    "def worker(fname):\n",
    "    return pd.read_pickle(fname)\n",
    "\n",
    "pool = multiprocessing.Pool(len(list_df_files))\n",
    "\n",
    "jobs = list()\n",
    "for fname in list_df_files:\n",
    "    job = pool.apply_async(worker, (fname, ))\n",
    "    jobs.append(job)\n",
    "\n",
    "data = list()\n",
    "for job in jobs:\n",
    "    data.append(job.get())\n",
    "\n",
    "df = pd.concat(data, ignore_index=True)\n",
    "del data\n",
    "\n",
    "pool.close()\n",
    "pool.terminate()"
   ]
  },
  {
   "cell_type": "code",
   "execution_count": null,
   "metadata": {},
   "outputs": [],
   "source": []
  }
 ],
 "metadata": {
  "kernelspec": {
   "display_name": "Python 3",
   "language": "python",
   "name": "python3"
  },
  "language_info": {
   "codemirror_mode": {
    "name": "ipython",
    "version": 3
   },
   "file_extension": ".py",
   "mimetype": "text/x-python",
   "name": "python",
   "nbconvert_exporter": "python",
   "pygments_lexer": "ipython3",
   "version": "3.7.7"
  }
 },
 "nbformat": 4,
 "nbformat_minor": 4
}

{
 "cells": [
  {
   "cell_type": "markdown",
   "metadata": {},
   "source": [
    "# Test Variational Inference algorithms for Wold processes\n",
    "\n",
    "In this notebook, we test the various variational inference (VI) algorithms implemented for the multivariate Wold process. Namely:\n",
    "\n",
    "* `WoldModelVariational`: VI with parameters $\\alpha$ and $\\beta$\n",
    "\n",
    "with the **new updates** involving solving a set of 2d^2 1-dimensional equations.\n",
    "\n",
    "---"
   ]
  },
  {
   "cell_type": "markdown",
   "metadata": {},
   "source": [
    "Load extensions for debugging"
   ]
  },
  {
   "cell_type": "code",
   "execution_count": 1,
   "metadata": {},
   "outputs": [],
   "source": [
    "%load_ext autoreload\n",
    "%autoreload 2\n",
    "\n",
    "%load_ext line_profiler"
   ]
  },
  {
   "cell_type": "markdown",
   "metadata": {},
   "source": [
    "Import the libraries of interest for this notebook"
   ]
  },
  {
   "cell_type": "code",
   "execution_count": 2,
   "metadata": {},
   "outputs": [],
   "source": [
    "from matplotlib import pyplot as plt\n",
    "%matplotlib inline\n",
    "\n",
    "import itertools\n",
    "import torch\n",
    "import numpy as np\n",
    "\n",
    "# Set numpy print format\n",
    "np.set_printoptions(precision=2, floatmode='fixed', sign=' ')\n",
    "\n",
    "import tsvar"
   ]
  },
  {
   "cell_type": "markdown",
   "metadata": {},
   "source": [
    "---\n",
    "\n",
    "## Generate small toy example dataset\n"
   ]
  },
  {
   "cell_type": "code",
   "execution_count": null,
   "metadata": {},
   "outputs": [],
   "source": [
    "# Define random parameters\n",
    "dim = 2  # Dimensionality of the process\n",
    "max_jumps=5e3 * dim  # Number of events\n",
    "\n",
    "mu = torch.tensor([0.3, 0.1])\n",
    "beta = torch.tensor([\n",
    "    [1.0, 0.2],\n",
    "    [0.5, 0.1]\n",
    "])\n",
    "# Use the same constraint as GrangerBusca to allow fair comparison\n",
    "alpha = torch.tensor([\n",
    "    [0.7, 0.3],\n",
    "    [0.0, 1.0]\n",
    "])"
   ]
  },
  {
   "cell_type": "code",
   "execution_count": 10,
   "metadata": {},
   "outputs": [],
   "source": [
    "from experiments_utils import generate_parameters\n",
    "\n",
    "dim = 10\n",
    "max_jumps=5e3 * dim\n",
    "\n",
    "param_dict = generate_parameters(dim=dim)\n",
    "\n",
    "mu = torch.tensor(param_dict['baseline'])\n",
    "beta = torch.tensor(param_dict['beta'])\n",
    "alpha = torch.tensor(param_dict['adjacency'])"
   ]
  },
  {
   "cell_type": "code",
   "execution_count": 11,
   "metadata": {},
   "outputs": [
    {
     "data": {
      "text/plain": [
       "count    45.000000\n",
       "mean      0.121184\n",
       "std       0.040510\n",
       "min       0.050300\n",
       "25%       0.091900\n",
       "50%       0.125500\n",
       "75%       0.154800\n",
       "max       0.192600\n",
       "dtype: float64"
      ]
     },
     "execution_count": 11,
     "metadata": {},
     "output_type": "execute_result"
    }
   ],
   "source": [
    "a_pos = alpha.numpy().flatten()\n",
    "a_pos = a_pos[a_pos > 0.0]\n",
    "pd.Series(a_pos).describe()"
   ]
  },
  {
   "cell_type": "code",
   "execution_count": 12,
   "metadata": {},
   "outputs": [
    {
     "name": "stdout",
     "output_type": "stream",
     "text": [
      "  - Simulate lots of data...\n",
      "    - Simulated 50,000 events with end time: 44819.15234375\n",
      "    - Events:\n",
      "      - dim  0 ( 6880 events): [    51.57     52.64     59.74 ...  44809.94  44811.27  44813.16]\n",
      "      - dim  1 ( 5432 events): [     5.55     25.63     54.25 ...  44787.03  44801.16  44816.68]\n",
      "      - dim  2 ( 5140 events): [     7.26     55.55     56.56 ...  44807.54  44814.33  44816.94]\n",
      "      - dim  3 ( 4990 events): [    32.89     37.94     75.25 ...  44807.27  44812.27  44814.30]\n",
      "      - dim  4 ( 6279 events): [    63.92     71.81     80.09 ...  44813.44  44817.26  44817.80]\n",
      "      - dim  5 ( 5759 events): [    38.43     44.97     49.16 ...  44811.77  44816.44  44816.57]\n",
      "      - dim  6 ( 6381 events): [    43.13     49.94     52.60 ...  44794.91  44804.95  44819.15]\n",
      "      - dim  7 ( 2080 events): [   156.41    178.90    187.78 ...  44663.17  44769.36  44802.71]\n",
      "      - dim  8 ( 4005 events): [   629.86    630.39    634.90 ...  44800.69  44808.86  44809.29]\n",
      "      - dim  9 ( 3054 events): [    49.65     71.70    130.72 ...  44803.87  44816.86  44817.61]\n"
     ]
    }
   ],
   "source": [
    "coeffs_true = torch.cat((mu, beta.flatten(), alpha.flatten())).numpy()\n",
    "print('  - Simulate lots of data...')\n",
    "# Simulate lots of data\n",
    "wold_sim = tsvar.simulate.MultivariateWoldSimulator(\n",
    "    mu_a=mu, alpha_ba=alpha, beta_ba=beta)\n",
    "events = wold_sim.simulate(max_jumps=max_jumps, seed=None)\n",
    "events = [torch.tensor(ev, dtype=torch.float) for ev in events]\n",
    "end_time = max(map(max, events))\n",
    "print((f\"    - Simulated {sum(map(len, events)):,d} events \"\n",
    "       f\"with end time: {end_time}\"))\n",
    "print(\"    - Events:\")\n",
    "for i, events_i in enumerate(events):\n",
    "    print(f\"      - dim {i:>2d} ({len(events_i):>5d} events):\", events_i.numpy())"
   ]
  },
  {
   "cell_type": "markdown",
   "metadata": {},
   "source": [
    "---\n",
    "\n",
    "## Test Mean-Field VI with Variable $\\{\\beta\\}$s using `WoldModelVariational`"
   ]
  },
  {
   "cell_type": "markdown",
   "metadata": {},
   "source": [
    "Define the parameters of the prior."
   ]
  },
  {
   "cell_type": "code",
   "execution_count": 13,
   "metadata": {
    "scrolled": false
   },
   "outputs": [
    {
     "name": "stdout",
     "output_type": "stream",
     "text": [
      "BETA:\n",
      "mean\n",
      "[[ 1.00  1.00  1.00  1.00  1.00  1.00  1.00  1.00  1.00  1.00]\n",
      " [ 1.00  1.00  1.00  1.00  1.00  1.00  1.00  1.00  1.00  1.00]\n",
      " [ 1.00  1.00  1.00  1.00  1.00  1.00  1.00  1.00  1.00  1.00]\n",
      " [ 1.00  1.00  1.00  1.00  1.00  1.00  1.00  1.00  1.00  1.00]\n",
      " [ 1.00  1.00  1.00  1.00  1.00  1.00  1.00  1.00  1.00  1.00]\n",
      " [ 1.00  1.00  1.00  1.00  1.00  1.00  1.00  1.00  1.00  1.00]\n",
      " [ 1.00  1.00  1.00  1.00  1.00  1.00  1.00  1.00  1.00  1.00]\n",
      " [ 1.00  1.00  1.00  1.00  1.00  1.00  1.00  1.00  1.00  1.00]\n",
      " [ 1.00  1.00  1.00  1.00  1.00  1.00  1.00  1.00  1.00  1.00]\n",
      " [ 1.00  1.00  1.00  1.00  1.00  1.00  1.00  1.00  1.00  1.00]]\n",
      "variance\n",
      "[[ 0.03  0.03  0.03  0.03  0.03  0.03  0.03  0.03  0.03  0.03]\n",
      " [ 0.03  0.03  0.03  0.03  0.03  0.03  0.03  0.03  0.03  0.03]\n",
      " [ 0.03  0.03  0.03  0.03  0.03  0.03  0.03  0.03  0.03  0.03]\n",
      " [ 0.03  0.03  0.03  0.03  0.03  0.03  0.03  0.03  0.03  0.03]\n",
      " [ 0.03  0.03  0.03  0.03  0.03  0.03  0.03  0.03  0.03  0.03]\n",
      " [ 0.03  0.03  0.03  0.03  0.03  0.03  0.03  0.03  0.03  0.03]\n",
      " [ 0.03  0.03  0.03  0.03  0.03  0.03  0.03  0.03  0.03  0.03]\n",
      " [ 0.03  0.03  0.03  0.03  0.03  0.03  0.03  0.03  0.03  0.03]\n",
      " [ 0.03  0.03  0.03  0.03  0.03  0.03  0.03  0.03  0.03  0.03]\n",
      " [ 0.03  0.03  0.03  0.03  0.03  0.03  0.03  0.03  0.03  0.03]]\n"
     ]
    }
   ],
   "source": [
    "# Set priors\n",
    "# prior: Alpha\n",
    "as_pr = 1.0 * np.ones((dim + 1, dim))\n",
    "ar_pr = 1.0 * np.ones((dim + 1, dim))\n",
    "\n",
    "# prior: Beta\n",
    "bs_pr = 31.0 * np.ones((dim, dim))\n",
    "br_pr = 40.0 * np.ones((dim, dim))\n",
    "#bs_pr = 2.1 * np.ones((dim, dim))\n",
    "#br_pr = (beta.numpy() + 1) * (bs_pr - 1)\n",
    "\n",
    "# prior: Z\n",
    "zc_pr = [1.0 * np.ones((len(events[i]), dim+1)) for i in range(dim)]\n",
    "\n",
    "print('BETA:')\n",
    "print('mean')\n",
    "print(br_pr / (bs_pr - 1))\n",
    "print('variance')\n",
    "print(br_pr**2 / ((bs_pr - 1)**2 * (bs_pr - 2)))"
   ]
  },
  {
   "cell_type": "markdown",
   "metadata": {},
   "source": [
    "Fit the model."
   ]
  },
  {
   "cell_type": "code",
   "execution_count": 14,
   "metadata": {
    "scrolled": true
   },
   "outputs": [
    {
     "name": "stdout",
     "output_type": "stream",
     "text": [
      "iter:   280 | dx: +9.9342e-05 | acc: 0.93 | f1-score: 0.92 | relerr: 0.24 | time/it: 7.12e-02     \n",
      "\n",
      "21.344337940216064\n"
     ]
    }
   ],
   "source": [
    "# Set callback to monitor progress\n",
    "coeffs_start = alpha.numpy().flatten().copy()\n",
    "callback = tsvar.utils.callbacks.LearnerCallbackMLE(x0=coeffs_start,\n",
    "                                                    print_every=10,\n",
    "                                                    coeffs_true=alpha.numpy().flatten(),\n",
    "                                                    acc_thresh=0.05,\n",
    "                                                    dim=dim)\n",
    "\n",
    "# Set model & observations\n",
    "model = tsvar.models.WoldModelVariational(verbose=True)\n",
    "model.observe(events)\n",
    "\n",
    "import time\n",
    "st = time.time()\n",
    "\n",
    "# Fit model\n",
    "model.fit(as_pr=as_pr, ar_pr=ar_pr, bs_pr=bs_pr, br_pr=br_pr, zc_pr=zc_pr, \n",
    "          max_iter=1000, tol=1e-4, callback=callback)\n",
    "\n",
    "print()\n",
    "print(time.time() - st)"
   ]
  },
  {
   "cell_type": "markdown",
   "metadata": {},
   "source": [
    "Extract the runtime"
   ]
  },
  {
   "cell_type": "code",
   "execution_count": 15,
   "metadata": {
    "scrolled": true
   },
   "outputs": [
    {
     "data": {
      "text/plain": [
       "21.079455658241557"
      ]
     },
     "execution_count": 15,
     "metadata": {},
     "output_type": "execute_result"
    }
   ],
   "source": [
    "hist = callback.to_dict()\n",
    "\n",
    "np.mean(hist['time'][1:]) * hist['iter'][-1]"
   ]
  },
  {
   "cell_type": "markdown",
   "metadata": {},
   "source": [
    "---"
   ]
  },
  {
   "cell_type": "markdown",
   "metadata": {},
   "source": [
    "Show results"
   ]
  },
  {
   "cell_type": "code",
   "execution_count": 16,
   "metadata": {
    "scrolled": true
   },
   "outputs": [
    {
     "name": "stdout",
     "output_type": "stream",
     "text": [
      "Baseline:\n",
      "---------\n",
      "Ground truth:\n",
      "[ 0.01  0.04  0.03  0.03  0.03  0.03  0.02  0.01  0.00  0.03]\n",
      "Estimated:\n",
      "[ 0.01  0.04  0.03  0.02  0.02  0.02  0.02  0.00  0.00  0.03]\n",
      "\n",
      "Adjacency:\n",
      "---------\n",
      "Ground truth:\n",
      "[[ 0.14  0.00  0.10  0.00  0.16  0.09  0.11  0.13  0.14  0.00]\n",
      " [ 0.00  0.00  0.13  0.13  0.14  0.16  0.00  0.00  0.00  0.13]\n",
      " [ 0.00  0.00  0.00  0.00  0.00  0.13  0.00  0.05  0.00  0.00]\n",
      " [ 0.19  0.10  0.05  0.00  0.00  0.08  0.18  0.00  0.00  0.05]\n",
      " [ 0.00  0.16  0.16  0.07  0.19  0.00  0.11  0.00  0.12  0.00]\n",
      " [ 0.12  0.00  0.00  0.15  0.07  0.00  0.00  0.00  0.15  0.00]\n",
      " [ 0.08  0.10  0.00  0.07  0.00  0.00  0.06  0.00  0.00  0.00]\n",
      " [ 0.00  0.00  0.00  0.00  0.00  0.06  0.17  0.00  0.00  0.12]\n",
      " [ 0.18  0.00  0.00  0.00  0.00  0.00  0.00  0.00  0.13  0.00]\n",
      " [ 0.17  0.12  0.09  0.00  0.00  0.15  0.16  0.08  0.00  0.00]]\n",
      "Estimated:\n",
      "[[ 0.15  0.00  0.06  0.01  0.14  0.06  0.08  0.10  0.10  0.00]\n",
      " [ 0.01  0.00  0.08  0.09  0.14  0.13  0.00  0.01  0.00  0.11]\n",
      " [ 0.00  0.00  0.00  0.00  0.01  0.12  0.00  0.05  0.01  0.01]\n",
      " [ 0.12  0.06  0.03  0.00  0.00  0.05  0.17  0.00  0.00  0.04]\n",
      " [ 0.00  0.14  0.13  0.08  0.15  0.01  0.07  0.00  0.13  0.00]\n",
      " [ 0.08  0.00  0.01  0.12  0.09  0.01  0.01  0.00  0.12  0.00]\n",
      " [ 0.04  0.11  0.00  0.06  0.01  0.01  0.06  0.00  0.01  0.00]\n",
      " [ 0.01  0.02  0.02  0.00  0.01  0.06  0.17  0.00  0.01  0.07]\n",
      " [ 0.45  0.03  0.04  0.06  0.03  0.06  0.06  0.02  0.12  0.02]\n",
      " [ 0.10  0.08  0.06  0.02  0.01  0.11  0.10  0.05  0.00  0.00]]\n",
      "\n",
      "Beta:\n",
      "-----\n",
      "Ground truth:\n",
      "[[ 1.01  1.72  1.86  1.97  1.67  1.63  1.54  1.47  1.45  1.10]\n",
      " [ 1.97  1.43  1.82  1.56  1.30  1.32  1.42  1.98  1.90  1.35]\n",
      " [ 1.35  1.62  1.83  1.41  1.12  1.61  1.14  1.09  1.62  1.34]\n",
      " [ 1.58  1.94  1.87  1.30  1.95  1.99  1.24  1.24  1.58  1.21]\n",
      " [ 1.48  1.78  1.85  1.10  1.38  1.71  1.93  1.93  1.19  1.99]\n",
      " [ 1.94  1.95  1.73  1.49  1.05  1.83  1.35  1.48  1.71  1.27]\n",
      " [ 1.99  1.10  1.36  1.17  1.80  1.88  1.00  1.70  1.62  1.14]\n",
      " [ 1.24  1.66  1.43  1.09  1.20  1.41  1.69  1.95  1.21  1.89]\n",
      " [ 1.93  1.43  1.84  1.51  1.36  1.08  1.65  1.12  1.21  1.98]\n",
      " [ 1.87  1.90  1.88  1.12  1.61  1.81  1.82  1.46  1.24  1.49]]\n",
      "Estimated:\n",
      "[[ 1.15  1.01  0.98  1.03  1.16  1.06  1.06  1.14  1.00  1.02]\n",
      " [ 1.01  1.01  1.10  1.07  1.06  1.00  1.02  1.02  1.02  1.11]\n",
      " [ 1.01  1.01  1.01  1.02  1.02  1.24  1.02  1.03  1.02  1.03]\n",
      " [ 1.05  1.10  1.05  1.01  1.02  1.03  0.98  1.02  1.02  1.01]\n",
      " [ 1.01  1.18  1.23  1.13  1.15  1.01  1.00  1.01  1.26  1.02]\n",
      " [ 1.10  1.02  1.01  1.06  1.03  1.01  1.01  1.02  1.14  1.02]\n",
      " [ 1.01  1.03  1.02  0.96  1.02  1.02  0.98  1.01  1.03  1.01]\n",
      " [ 1.03  1.03  1.03  1.02  1.03  1.06  1.18  1.01  1.02  1.09]\n",
      " [ 3.87  1.28  1.34  1.78  1.26  1.54  1.64  1.14  1.10  1.18]\n",
      " [ 1.07  1.04  1.05  1.01  1.01  1.05  1.09  1.02  1.01  1.01]]\n",
      "count    100.000000\n",
      "mean       1.102300\n",
      "std        0.306729\n",
      "min        0.960000\n",
      "25%        1.010000\n",
      "50%        1.025000\n",
      "75%        1.092500\n",
      "max        3.870000\n",
      "dtype: float64\n"
     ]
    }
   ],
   "source": [
    "alpha_hat_mean = np.round(model._as_po / model._ar_po, 2)\n",
    "\n",
    "baseline_hat = alpha_hat_mean[0,:]\n",
    "print('Baseline:')\n",
    "print('---------')\n",
    "print('Ground truth:')\n",
    "print(mu.numpy())\n",
    "print('Estimated:')\n",
    "print(baseline_hat)\n",
    "print()\n",
    "\n",
    "adjacency_hat = alpha_hat_mean[1:,:]\n",
    "print('Adjacency:')\n",
    "print('---------')\n",
    "print('Ground truth:')\n",
    "print(alpha.numpy())\n",
    "print('Estimated:')\n",
    "print(adjacency_hat)\n",
    "print()\n",
    "\n",
    "beta_hat = np.round(model._br_po / (model._bs_po - 1), 2)\n",
    "print('Beta:')\n",
    "print('-----')\n",
    "print('Ground truth:')\n",
    "print(beta.numpy() * np.ones((dim, dim)) + 1)\n",
    "print('Estimated:')\n",
    "print(beta_hat)\n",
    "print(pd.Series(beta_hat.flatten()).describe())"
   ]
  },
  {
   "cell_type": "markdown",
   "metadata": {},
   "source": [
    "---\n",
    "\n",
    "Debug optimization of $x_0$ and $x_n$"
   ]
  },
  {
   "cell_type": "code",
   "execution_count": 36,
   "metadata": {},
   "outputs": [
    {
     "data": {
      "text/plain": [
       "<matplotlib.lines.Line2D at 0x133ade080>"
      ]
     },
     "execution_count": 36,
     "metadata": {},
     "output_type": "execute_result"
    },
    {
     "data": {
      "image/png": "[encoded data removed]",
      "text/plain": [
       "<Figure size 720x360 with 1 Axes>"
      ]
     },
     "metadata": {
      "needs_background": "light"
     },
     "output_type": "display_data"
    }
   ],
   "source": [
    "kwargs = {'bs_pr': model._bs_pr, 'br_pr': model._br_pr, \n",
    "          'as_po': model._as_po, 'ar_po': model._ar_po, \n",
    "          'zp_po': model._zp_po, 'dts': model.dt_ik, \n",
    "          'delta': model.delta_ikj, 'valid_mask': model.valid_mask_ikj}\n",
    "\n",
    "x = np.linspace(0.1, 10.0, 100)\n",
    "j=0\n",
    "i=1\n",
    "n=0\n",
    "y = [tsvar.models._wold_var.func(e, j=j, i=i, n=n, **kwargs) for e in x]\n",
    "dy = [tsvar.models._wold_var.fprime(e, j=j, i=i, n=n, **kwargs) for e in x]\n",
    "ddy = [tsvar.models._wold_var.fprime2(e, j=j, i=i, n=n, **kwargs) for e in x]\n",
    "\n",
    "plt.figure(figsize=(10, 5))\n",
    "plt.grid()\n",
    "plt.plot(x, y, c='C0', label='func')\n",
    "#plt.plot(x, dy, c='C1', label=\"fprime\")\n",
    "#plt.plot(x, ddy, c='C2', label='fprime2')\n",
    "plt.legend()\n",
    "plt.ylim(-2000.0, 2000.0)\n",
    "plt.axhline(0.0, c='k', ls=':')"
   ]
  },
  {
   "cell_type": "code",
   "execution_count": null,
   "metadata": {},
   "outputs": [],
   "source": []
  },
  {
   "cell_type": "markdown",
   "metadata": {},
   "source": [
    "---\n",
    "\n",
    "## Plot exact and approximated densities of $\\beta$"
   ]
  },
  {
   "cell_type": "code",
   "execution_count": 408,
   "metadata": {},
   "outputs": [
    {
     "data": {
      "text/plain": [
       "array([ 0.00,  0.00,  0.00,  0.00,  0.00,  0.00,  0.00,  0.00,  0.00,  0.00,  0.00,  0.01,  0.01,  0.02,  0.03,  0.04,  0.05,  0.05,  0.06,  0.06,  0.06,  0.06,  0.06,  0.05,  0.05,  0.04,  0.04,  0.04,  0.03,  0.03,  0.03,  0.02,  0.02,  0.02,  0.02,  0.01,  0.01,  0.01,  0.01,  0.01,  0.01,  0.01,  0.01,  0.00,  0.00,  0.00,  0.00,  0.00,  0.00,  0.00,  0.00,  0.00,  0.00,  0.00,  0.00,  0.00,\n",
       "        0.00,  0.00,  0.00,  0.00,  0.00,  0.00,  0.00,  0.00,  0.00,  0.00,  0.00,  0.00,  0.00,  0.00,  0.00,  0.00,  0.00,  0.00,  0.00,  0.00,  0.00,  0.00,  0.00,  0.00,  0.00,  0.00,  0.00,  0.00,  0.00,  0.00,  0.00,  0.00,  0.00,  0.00,  0.00,  0.00,  0.00,  0.00,  0.00,  0.00,  0.00,  0.00,  0.00,  0.00,  0.00,  0.00,  0.00,  0.00,  0.00,  0.00,  0.00,  0.00,  0.00,  0.00])"
      ]
     },
     "execution_count": 408,
     "metadata": {},
     "output_type": "execute_result"
    }
   ],
   "source": [
    "# Set model & add observations\n",
    "model = tsvar.models.WoldModelVariational(verbose=True)\n",
    "model.observe(events)\n",
    "\n",
    "beta_range = np.linspace(0.01, 5.0, 110)\n",
    "\n",
    "i = 0\n",
    "j = 0\n",
    "\n",
    "true_post = tsvar.models._wold_var.exact_beta_density(\n",
    "    beta_range=beta_range,\n",
    "    bs_pr=10.0,  # beta shape\n",
    "    br_pr=10.0,  # beta rate\n",
    "    as_po=0.2,  # alpha shape\n",
    "    ar_po=1.0,  # alpha rate\n",
    "    zp_po=0.33 * np.ones(model.n_jumps[i]),  # Uniform Z p=0.33 for all\n",
    "    dts=model.dt_ik[i],\n",
    "    delta=model.delta_ikj[i][:, j+1],\n",
    "    valid_mask=model.valid_mask_ikj[i][:,j+1])\n",
    "\n",
    "true_post"
   ]
  },
  {
   "cell_type": "code",
   "execution_count": 409,
   "metadata": {},
   "outputs": [
    {
     "name": "stdout",
     "output_type": "stream",
     "text": [
      "10.000000099000001 10.000000100000001\n"
     ]
    }
   ],
   "source": [
    "approx_post = tsvar.models._wold_var.approx_beta_density(\n",
    "    beta_range=beta_range, \n",
    "    j=j, i=i, \n",
    "    x0=1.0, xn=1.0, n=2, \n",
    "    \n",
    "    as_po=0.2 * np.ones((3, 2)), \n",
    "    ar_po=1.0 * np.ones((3, 2)), \n",
    "    \n",
    "    zp_po=[0.33 * np.ones((model.n_jumps[i], 3))], \n",
    "    \n",
    "    bs_pr=10.0 * np.ones((2, 2)), \n",
    "    br_pr=10.0 * np.ones((2, 2)), \n",
    "    \n",
    "    dt_ik=model.dt_ik, \n",
    "    delta_ikj=model.delta_ikj, \n",
    "    valid_mask_ikj=model.valid_mask_ikj)"
   ]
  },
  {
   "cell_type": "code",
   "execution_count": 410,
   "metadata": {
    "scrolled": true
   },
   "outputs": [
    {
     "data": {
      "text/plain": [
       "[<matplotlib.lines.Line2D at 0x137012f28>]"
      ]
     },
     "execution_count": 410,
     "metadata": {},
     "output_type": "execute_result"
    },
    {
     "data": {
      "image/png": "[encoded data removed]",
      "text/plain": [
       "<Figure size 432x288 with 1 Axes>"
      ]
     },
     "metadata": {
      "needs_background": "light"
     },
     "output_type": "display_data"
    }
   ],
   "source": [
    "plt.plot(beta_range, true_post)\n",
    "plt.plot(beta_range, approx_post)"
   ]
  },
  {
   "cell_type": "code",
   "execution_count": null,
   "metadata": {},
   "outputs": [],
   "source": []
  }
 ],
 "metadata": {
  "kernelspec": {
   "display_name": "Python 3",
   "language": "python",
   "name": "python3"
  },
  "language_info": {
   "codemirror_mode": {
    "name": "ipython",
    "version": 3
   },
   "file_extension": ".py",
   "mimetype": "text/x-python",
   "name": "python",
   "nbconvert_exporter": "python",
   "pygments_lexer": "ipython3",
   "version": "3.6.10"
  }
 },
 "nbformat": 4,
 "nbformat_minor": 2
}

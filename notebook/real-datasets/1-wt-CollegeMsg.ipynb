{
 "cells": [
  {
   "cell_type": "code",
   "execution_count": 1,
   "metadata": {},
   "outputs": [],
   "source": [
    "%load_ext autoreload\n",
    "%autoreload 2"
   ]
  },
  {
   "cell_type": "code",
   "execution_count": 2,
   "metadata": {},
   "outputs": [],
   "source": [
    "from matplotlib import pyplot as plt\n",
    "import networkx as nx\n",
    "import numpy as np\n",
    "import pandas as pd\n",
    "import itertools\n",
    "import torch\n",
    "import os\n",
    "\n",
    "import scipy.stats\n",
    "\n",
    "import tsvar\n",
    "from tsvar.preprocessing import Dataset\n",
    "import experiments_utils"
   ]
  },
  {
   "cell_type": "markdown",
   "metadata": {},
   "source": [
    "Set cells width"
   ]
  },
  {
   "cell_type": "code",
   "execution_count": 3,
   "metadata": {},
   "outputs": [
    {
     "data": {
      "text/html": [
       "<style>.container { width:80% !important; }</style>"
      ],
      "text/plain": [
       "<IPython.core.display.HTML object>"
      ]
     },
     "metadata": {},
     "output_type": "display_data"
    }
   ],
   "source": [
    "from IPython.core.display import display, HTML\n",
    "display(HTML(\"<style>.container { width:80% !important; }</style>\"))"
   ]
  },
  {
   "cell_type": "markdown",
   "metadata": {},
   "source": [
    "---\n",
    "\n",
    "## Load the dataset\n",
    "\n",
    "Set input path"
   ]
  },
  {
   "cell_type": "code",
   "execution_count": 5,
   "metadata": {},
   "outputs": [],
   "source": [
    "INPUT_PATH = \"../../data/CollegeMsg/dataset-collegeMsg.pk\""
   ]
  },
  {
   "cell_type": "markdown",
   "metadata": {},
   "source": [
    "Load the dataset"
   ]
  },
  {
   "cell_type": "code",
   "execution_count": 6,
   "metadata": {},
   "outputs": [],
   "source": [
    "dataset = Dataset.from_pickle(INPUT_PATH)"
   ]
  },
  {
   "cell_type": "code",
   "execution_count": 7,
   "metadata": {
    "scrolled": true
   },
   "outputs": [
    {
     "data": {
      "image/png": "[encoded data removed]",
      "text/plain": [
       "<Figure size 1584x252 with 4 Axes>"
      ]
     },
     "metadata": {
      "needs_background": "light"
     },
     "output_type": "display_data"
    }
   ],
   "source": [
    "fig, axs = plt.subplots(1, 4, figsize=(22, 3.5))\n",
    "\n",
    "axs[0].hist(np.hstack(dataset.timestamps))\n",
    "axs[0].set_xlabel('Time')\n",
    "axs[0].set_ylabel('Num. Events')\n",
    "axs[0].set_title('Histogram of events over time')\n",
    "\n",
    "axs[1].hist(list(map(len, dataset.timestamps)))\n",
    "axs[1].set_xlabel('Num. Events')\n",
    "axs[1].set_ylabel('Num. Dimensions')\n",
    "axs[1].set_title('Number of events in each dim')\n",
    "\n",
    "\n",
    "end_time = max(map(max, dataset.timestamps))\n",
    "axs[2].hist(list(map(min, dataset.timestamps)), bins=np.linspace(0, end_time, 20))\n",
    "axs[2].set_title('First of event in each dim')\n",
    "axs[2].set_xlabel('Time')\n",
    "\n",
    "axs[3].hist(list(map(max, dataset.timestamps)), bins=np.linspace(0, end_time, 20))\n",
    "axs[3].set_title('Last of events in each dim')\n",
    "axs[2].set_xlabel('Time')\n",
    "\n",
    "fig.suptitle(f\"Dataset {os.path.split(INPUT_PATH)[1]}\", y=1.05);"
   ]
  },
  {
   "cell_type": "markdown",
   "metadata": {},
   "source": [
    "Print statistics of the dataset"
   ]
  },
  {
   "cell_type": "code",
   "execution_count": 8,
   "metadata": {
    "scrolled": true
   },
   "outputs": [
    {
     "name": "stdout",
     "output_type": "stream",
     "text": [
      "Num. of dimensions: 100\n",
      "    Num. of events: 10,869\n",
      "               %NZ: 16.80%\n",
      "\n",
      "Stats. of num. of events per dim:\n",
      "count    100.000000\n",
      "mean     108.690000\n",
      "std       48.823884\n",
      "min       32.000000\n",
      "25%       73.000000\n",
      "50%      103.500000\n",
      "75%      134.000000\n",
      "max      255.000000\n",
      "dtype: float64\n"
     ]
    }
   ],
   "source": [
    "print(f\"Num. of dimensions: {len(dataset.timestamps):,d}\")\n",
    "print(f\"    Num. of events: {sum(map(len, dataset.timestamps)):,d}\")\n",
    "print(f\"               %NZ: {100 * dataset.graph.number_of_edges() / (dataset.graph.number_of_nodes() ** 2):.2f}%\")\n",
    "print()\n",
    "print(\"Stats. of num. of events per dim:\")\n",
    "num_jumps_per_dim = np.array(list(map(len, dataset.timestamps)))\n",
    "print(pd.Series(num_jumps_per_dim).describe())"
   ]
  },
  {
   "cell_type": "code",
   "execution_count": 9,
   "metadata": {},
   "outputs": [],
   "source": [
    "min_time = min(map(min, dataset.timestamps))\n",
    "dataset.timestamps = [ev - min_time for ev in dataset.timestamps]"
   ]
  },
  {
   "cell_type": "markdown",
   "metadata": {},
   "source": [
    "#### Visualize the scale of time using empirical inter-arrival time distributions\n",
    "\n",
    "Compute this for both definitions $\\{\\beta_j\\}$ and $\\{\\beta_{ij}\\}$."
   ]
  },
  {
   "cell_type": "code",
   "execution_count": 10,
   "metadata": {
    "scrolled": false
   },
   "outputs": [
    {
     "name": "stdout",
     "output_type": "stream",
     "text": [
      "Busca estimators of **beta_j**:\n",
      "count    100.000000\n",
      "mean       0.243431\n",
      "std        0.546348\n",
      "min        0.007862\n",
      "25%        0.017921\n",
      "50%        0.045320\n",
      "75%        0.150446\n",
      "max        3.527712\n",
      "dtype: float64\n",
      "\n",
      "Busca estimators of **beta_{ji}**:\n",
      "count    10000.000000\n",
      "mean         6.783827\n",
      "std         17.570936\n",
      "min          0.000000\n",
      "25%          0.060752\n",
      "50%          0.943857\n",
      "75%          2.984921\n",
      "max        162.867966\n",
      "dtype: float64\n",
      "\n"
     ]
    },
    {
     "data": {
      "image/png": "[encoded data removed]",
      "text/plain": [
       "<Figure size 1152x288 with 2 Axes>"
      ]
     },
     "metadata": {
      "needs_background": "light"
     },
     "output_type": "display_data"
    }
   ],
   "source": [
    "fig, axs = plt.subplots(1, 2, figsize=(16, 4), sharey=True)\n",
    "\n",
    "busca_betas = np.array([np.median(np.hstack((ev[0], np.diff(ev)))) for ev in dataset.timestamps])\n",
    "plt.sca(axs[0])\n",
    "plt.grid()\n",
    "plt.boxplot(busca_betas, labels=[r'Distribution of Busca estimators of $\\beta_j$']);\n",
    "plt.yscale('log')\n",
    "print('Busca estimators of **beta_j**:')\n",
    "print(pd.Series(busca_betas.flatten()).describe())\n",
    "print()\n",
    "\n",
    "wold_model = tsvar.models.WoldModel()\n",
    "wold_model.observe(dataset.timestamps)\n",
    "busca_beta_ji = np.zeros((wold_model.dim, wold_model.dim))\n",
    "for i in range(wold_model.dim):\n",
    "    busca_beta_ji[:, i] = np.median(wold_model.delta_ikj[i][:, :], axis=0) / np.exp(1)\n",
    "del wold_model\n",
    "plt.sca(axs[1])\n",
    "plt.grid()\n",
    "plt.boxplot(busca_beta_ji.flatten(), labels=[r'Distribution of Busca estimators of $\\beta_{ji}$']);\n",
    "plt.yscale('log')\n",
    "print('Busca estimators of **beta_{ji}**:')\n",
    "print(pd.Series(busca_beta_ji.flatten()).describe())\n",
    "print()"
   ]
  },
  {
   "cell_type": "markdown",
   "metadata": {},
   "source": [
    "Build ground truth adjacency matrix"
   ]
  },
  {
   "cell_type": "code",
   "execution_count": 11,
   "metadata": {},
   "outputs": [],
   "source": [
    "adjacency_true = nx.adjacency_matrix(dataset.graph, nodelist=range(dataset.dim)).toarray()\n",
    "adjacency_true = adjacency_true / adjacency_true.max()"
   ]
  },
  {
   "cell_type": "code",
   "execution_count": 12,
   "metadata": {},
   "outputs": [],
   "source": [
    "events = dataset.timestamps\n",
    "end_time = dataset.end_time"
   ]
  },
  {
   "cell_type": "markdown",
   "metadata": {},
   "source": [
    "---\n",
    "\n",
    "## Run inference"
   ]
  },
  {
   "cell_type": "markdown",
   "metadata": {},
   "source": [
    "---\n",
    "\n",
    "### Run BBVI"
   ]
  },
  {
   "cell_type": "code",
   "execution_count": 28,
   "metadata": {},
   "outputs": [
    {
     "name": "stdout",
     "output_type": "stream",
     "text": [
      "iter:    50 | dx: +3.2212e+08 | loss: 3.2145e+05 | dloss: -1.30e+05 | acc: 0.18 | f1-score: 0.28 | relerr: 4.62e+06 | p@5: 0.40 | p@10: 0.20 | p@20: 0.10 | time/it: 8.22e-02     \n",
      "   mu --> min: 6.06e-03, median: 8.16e-03, max: 1.06e-02\n",
      " beta --> min: 1.62e-10, median: 6.44e-02, max: 8.00e+00\n",
      "  adj --> min: 3.01e-03, median: 9.63e-02, max: 1.13e+01\n",
      "iter:   100 | dx: +6.9433e+02 | loss: 7.7135e+04 | dloss: +1.79e+04 | acc: 0.27 | f1-score: 0.27 | relerr: 3.67e+02 | p@5: 0.00 | p@10: 0.00 | p@20: 0.00 | time/it: 8.30e-02     \n",
      "   mu --> min: 3.13e-03, median: 4.18e-03, max: 6.73e-03\n",
      " beta --> min: 1.03e-05, median: 1.93e-01, max: 1.72e+01\n",
      "  adj --> min: 3.44e-03, median: 5.84e-02, max: 3.45e+01\n",
      "iter:   150 | dx: +1.0354e+02 | loss: 6.3127e+04 | dloss: +1.62e+04 | acc: 0.37 | f1-score: 0.26 | relerr: 3.56e+02 | p@5: 0.00 | p@10: 0.00 | p@20: 0.05 | time/it: 8.21e-02     \n",
      "   mu --> min: 2.17e-03, median: 2.72e-03, max: 5.28e-03\n",
      " beta --> min: 1.20e-05, median: 3.11e-01, max: 1.73e+01\n",
      "  adj --> min: 3.46e-03, median: 4.35e-02, max: 5.23e+01\n",
      "iter:   200 | dx: +4.8404e+01 | loss: 4.1447e+04 | dloss: -4.53e+03 | acc: 0.45 | f1-score: 0.25 | relerr: 3.24e+02 | p@5: 0.00 | p@10: 0.00 | p@20: 0.00 | time/it: 8.28e-02     \n",
      "   mu --> min: 1.37e-03, median: 2.27e-03, max: 3.96e-03\n",
      " beta --> min: 5.09e-05, median: 4.73e-01, max: 1.75e+01\n",
      "  adj --> min: 3.46e-03, median: 3.51e-02, max: 4.82e+01\n",
      "iter:   250 | dx: +9.1483e+01 | loss: 4.9818e+04 | dloss: +1.03e+04 | acc: 0.50 | f1-score: 0.24 | relerr: 3.01e+02 | p@5: 0.00 | p@10: 0.00 | p@20: 0.00 | time/it: 8.83e-02     \n",
      "   mu --> min: 1.12e-03, median: 1.93e-03, max: 4.80e-03\n",
      " beta --> min: 8.16e-05, median: 6.66e-01, max: 1.61e+01\n",
      "  adj --> min: 3.39e-03, median: 2.97e-02, max: 4.49e+01\n",
      "iter:   300 | dx: +1.1823e+02 | loss: 3.6551e+04 | dloss: +6.53e+02 | acc: 0.54 | f1-score: 0.23 | relerr: 3.91e+02 | p@5: 0.00 | p@10: 0.00 | p@20: 0.00 | time/it: 8.17e-02     \n",
      "   mu --> min: 1.27e-03, median: 1.81e-03, max: 4.89e-03\n",
      " beta --> min: 1.04e-04, median: 8.99e-01, max: 1.79e+01\n",
      "  adj --> min: 3.26e-03, median: 2.59e-02, max: 4.36e+01\n",
      "iter:   350 | dx: +2.0152e+02 | loss: 3.7579e+04 | dloss: -4.37e+02 | acc: 0.57 | f1-score: 0.23 | relerr: 3.31e+02 | p@5: 0.00 | p@10: 0.00 | p@20: 0.00 | time/it: 9.68e-02     \n",
      "   mu --> min: 1.09e-03, median: 1.76e-03, max: 5.35e-03\n",
      " beta --> min: 1.10e-04, median: 1.17e+00, max: 1.95e+01\n",
      "  adj --> min: 3.34e-03, median: 2.32e-02, max: 5.66e+01\n",
      "iter:   400 | dx: +3.4734e+01 | loss: 3.2846e+04 | dloss: -5.51e+02 | acc: 0.60 | f1-score: 0.22 | relerr: 2.28e+02 | p@5: 0.00 | p@10: 0.00 | p@20: 0.00 | time/it: 1.34e-01     \n",
      "   mu --> min: 8.81e-04, median: 1.75e-03, max: 4.87e-03\n",
      " beta --> min: 1.13e-04, median: 1.48e+00, max: 1.95e+01\n",
      "  adj --> min: 3.07e-03, median: 2.10e-02, max: 6.00e+01\n",
      "iter:   450 | dx: +1.7854e+02 | loss: 3.2080e+04 | dloss: -1.57e+03 | acc: 0.61 | f1-score: 0.21 | relerr: 2.96e+02 | p@5: 0.00 | p@10: 0.00 | p@20: 0.00 | time/it: 8.60e-02     \n",
      "   mu --> min: 1.06e-03, median: 1.71e-03, max: 6.15e-03\n",
      " beta --> min: 1.16e-04, median: 1.81e+00, max: 1.81e+01\n",
      "  adj --> min: 2.80e-03, median: 1.96e-02, max: 4.32e+01\n",
      "iter:   500 | dx: +2.5732e+02 | loss: 5.1825e+04 | dloss: +1.96e+04 | acc: 0.63 | f1-score: 0.20 | relerr: 3.45e+02 | p@5: 0.00 | p@10: 0.00 | p@20: 0.05 | time/it: 8.33e-02     \n",
      "   mu --> min: 1.07e-03, median: 1.73e-03, max: 6.57e-03\n",
      " beta --> min: 1.18e-04, median: 2.07e+00, max: 1.61e+01\n",
      "  adj --> min: 1.89e-03, median: 1.82e-02, max: 6.39e+01\n",
      "iter:   550 | dx: +5.2821e+01 | loss: 3.2074e+04 | dloss: +9.77e+02 | acc: 0.64 | f1-score: 0.20 | relerr: 4.13e+02 | p@5: 0.00 | p@10: 0.00 | p@20: 0.05 | time/it: 8.24e-02     \n",
      "   mu --> min: 1.13e-03, median: 1.74e-03, max: 4.58e-03\n",
      " beta --> min: 1.20e-04, median: 2.32e+00, max: 1.76e+01\n",
      "  adj --> min: 2.58e-03, median: 1.73e-02, max: 6.72e+01\n",
      "iter:   600 | dx: +9.0721e+01 | loss: 3.1748e+04 | dloss: +5.34e+02 | acc: 0.65 | f1-score: 0.19 | relerr: 3.62e+02 | p@5: 0.00 | p@10: 0.00 | p@20: 0.05 | time/it: 8.31e-02     \n",
      "   mu --> min: 9.56e-04, median: 1.70e-03, max: 4.96e-03\n",
      " beta --> min: 1.22e-04, median: 2.51e+00, max: 1.96e+01\n",
      "  adj --> min: 1.58e-03, median: 1.66e-02, max: 6.32e+01\n",
      "iter:   650 | dx: +1.8406e+02 | loss: 3.4482e+04 | dloss: +1.31e+03 | acc: 0.66 | f1-score: 0.19 | relerr: 3.75e+02 | p@5: 0.00 | p@10: 0.00 | p@20: 0.05 | time/it: 8.22e-02     \n",
      "   mu --> min: 9.82e-04, median: 1.73e-03, max: 5.95e-03\n",
      " beta --> min: 1.27e-04, median: 2.41e+00, max: 2.73e+01\n",
      "  adj --> min: 1.36e-03, median: 1.60e-02, max: 5.12e+01\n",
      "iter:   700 | dx: +9.7283e+01 | loss: 3.0601e+04 | dloss: -4.31e+02 | acc: 0.67 | f1-score: 0.18 | relerr: 2.74e+02 | p@5: 0.00 | p@10: 0.00 | p@20: 0.00 | time/it: 8.36e-02     \n",
      "   mu --> min: 1.21e-03, median: 1.67e-03, max: 5.39e-03\n",
      " beta --> min: 1.29e-04, median: 2.45e+00, max: 3.38e+01\n",
      "  adj --> min: 1.18e-03, median: 1.56e-02, max: 9.63e+01\n",
      "iter:   750 | dx: +4.0628e+01 | loss: 3.4489e+04 | dloss: +1.21e+03 | acc: 0.67 | f1-score: 0.18 | relerr: 2.59e+02 | p@5: 0.00 | p@10: 0.00 | p@20: 0.05 | time/it: 8.22e-02     \n",
      "   mu --> min: 1.01e-03, median: 1.77e-03, max: 5.99e-03\n",
      " beta --> min: 1.31e-04, median: 2.29e+00, max: 4.17e+01\n",
      "  adj --> min: 1.80e-03, median: 1.51e-02, max: 5.89e+01\n",
      "iter:   800 | dx: +5.6472e+01 | loss: 3.2421e+04 | dloss: -1.55e+05 | acc: 0.68 | f1-score: 0.17 | relerr: 3.27e+02 | p@5: 0.00 | p@10: 0.00 | p@20: 0.10 | time/it: 8.23e-02     \n",
      "   mu --> min: 9.14e-04, median: 1.87e-03, max: 5.97e-03\n",
      " beta --> min: 2.09e-04, median: 2.30e+00, max: 5.01e+01\n",
      "  adj --> min: 1.52e-03, median: 1.46e-02, max: 7.41e+01\n",
      "iter:   850 | dx: +6.5598e+02 | loss: 4.0408e+04 | dloss: +2.42e+03 | acc: 0.68 | f1-score: 0.17 | relerr: 2.02e+02 | p@5: 0.00 | p@10: 0.00 | p@20: 0.10 | time/it: 8.25e-02     \n",
      "   mu --> min: 9.33e-04, median: 1.76e-03, max: 3.87e-03\n",
      " beta --> min: 2.19e-04, median: 2.16e+00, max: 5.54e+01\n",
      "  adj --> min: 1.31e-03, median: 1.43e-02, max: 1.65e+02\n",
      "iter:   900 | dx: +7.3325e+01 | loss: 3.2457e+04 | dloss: +5.20e+02 | acc: 0.69 | f1-score: 0.17 | relerr: 2.39e+02 | p@5: 0.00 | p@10: 0.00 | p@20: 0.10 | time/it: 8.23e-02     \n",
      "   mu --> min: 9.25e-04, median: 1.74e-03, max: 5.26e-03\n",
      " beta --> min: 2.28e-04, median: 2.14e+00, max: 5.92e+01\n",
      "  adj --> min: 9.91e-04, median: 1.39e-02, max: 1.81e+02\n",
      "iter:   950 | dx: +1.5306e+02 | loss: 3.2575e+04 | dloss: -1.33e+03 | acc: 0.69 | f1-score: 0.17 | relerr: 2.60e+02 | p@5: 0.00 | p@10: 0.00 | p@20: 0.00 | time/it: 8.57e-02     \n",
      "   mu --> min: 8.14e-04, median: 1.76e-03, max: 5.56e-03\n",
      " beta --> min: 2.28e-04, median: 2.02e+00, max: 8.21e+01\n",
      "  adj --> min: 1.37e-03, median: 1.37e-02, max: 2.39e+02\n",
      "iter:  1000 | dx: +4.6189e+01 | loss: 3.6271e+04 | dloss: +3.12e+02 | acc: 0.69 | f1-score: 0.17 | relerr: 2.74e+02 | p@5: 0.00 | p@10: 0.00 | p@20: 0.00 | time/it: 8.22e-02     \n",
      "   mu --> min: 6.58e-04, median: 1.78e-03, max: 5.06e-03\n",
      " beta --> min: 2.28e-04, median: 2.01e+00, max: 9.47e+01\n",
      "  adj --> min: 9.55e-04, median: 1.36e-02, max: 2.63e+02\n",
      "iter:  1050 | dx: +6.6412e+01 | loss: 5.0531e+04 | dloss: +1.54e+04 | acc: 0.69 | f1-score: 0.16 | relerr: 2.71e+02 | p@5: 0.00 | p@10: 0.00 | p@20: 0.05 | time/it: 8.24e-02     \n",
      "   mu --> min: 1.07e-03, median: 1.81e-03, max: 4.99e-03\n",
      " beta --> min: 2.29e-04, median: 1.90e+00, max: 9.92e+01\n",
      "  adj --> min: 9.40e-04, median: 1.34e-02, max: 3.50e+02\n",
      "iter:  1100 | dx: +5.5744e+01 | loss: 3.9597e+04 | dloss: +5.32e+03 | acc: 0.69 | f1-score: 0.16 | relerr: 2.66e+02 | p@5: 0.00 | p@10: 0.00 | p@20: 0.05 | time/it: 1.11e-01     \n",
      "   mu --> min: 1.16e-03, median: 1.69e-03, max: 5.66e-03\n",
      " beta --> min: 2.29e-04, median: 1.89e+00, max: 1.24e+02\n",
      "  adj --> min: 9.47e-04, median: 1.31e-02, max: 4.10e+02\n",
      "iter:  1150 | dx: +6.7035e+01 | loss: 3.5071e+04 | dloss: -1.14e+04 | acc: 0.70 | f1-score: 0.16 | relerr: 1.92e+02 | p@5: 0.00 | p@10: 0.00 | p@20: 0.10 | time/it: 1.43e-01     \n",
      "   mu --> min: 9.60e-04, median: 1.72e-03, max: 6.88e-03\n",
      " beta --> min: 2.29e-04, median: 1.77e+00, max: 1.18e+02\n",
      "  adj --> min: 9.88e-04, median: 1.30e-02, max: 2.98e+02\n",
      "iter:  1200 | dx: +8.4020e+01 | loss: 3.3668e+04 | dloss: -7.56e+03 | acc: 0.70 | f1-score: 0.16 | relerr: 1.98e+02 | p@5: 0.00 | p@10: 0.00 | p@20: 0.10 | time/it: 1.06e-01     \n"
     ]
    },
    {
     "name": "stdout",
     "output_type": "stream",
     "text": [
      "   mu --> min: 1.07e-03, median: 1.73e-03, max: 6.23e-03\n",
      " beta --> min: 2.30e-04, median: 1.73e+00, max: 1.03e+02\n",
      "  adj --> min: 1.07e-03, median: 1.28e-02, max: 2.43e+02\n",
      "iter:  1250 | dx: +6.9689e+01 | loss: 3.6085e+04 | dloss: -4.62e+04 | acc: 0.70 | f1-score: 0.16 | relerr: 1.64e+02 | p@5: 0.00 | p@10: 0.00 | p@20: 0.10 | time/it: 8.37e-02     \n",
      "   mu --> min: 6.50e-04, median: 1.68e-03, max: 5.50e-03\n",
      " beta --> min: 2.30e-04, median: 1.62e+00, max: 1.13e+02\n",
      "  adj --> min: 1.05e-03, median: 1.26e-02, max: 3.69e+02\n",
      "iter:  1300 | dx: +2.9517e+01 | loss: 4.1028e+04 | dloss: +6.06e+03 | acc: 0.70 | f1-score: 0.16 | relerr: 1.46e+02 | p@5: 0.00 | p@10: 0.00 | p@20: 0.10 | time/it: 8.22e-02     \n",
      "   mu --> min: 9.64e-04, median: 1.76e-03, max: 6.91e-03\n",
      " beta --> min: 2.31e-04, median: 1.62e+00, max: 1.13e+02\n",
      "  adj --> min: 9.59e-04, median: 1.24e-02, max: 3.26e+02\n",
      "iter:  1350 | dx: +1.5124e+01 | loss: 4.4874e+04 | dloss: +7.62e+03 | acc: 0.70 | f1-score: 0.16 | relerr: 1.45e+02 | p@5: 0.00 | p@10: 0.00 | p@20: 0.10 | time/it: 8.15e-02     \n",
      "   mu --> min: 1.05e-03, median: 1.67e-03, max: 6.56e-03\n",
      " beta --> min: 2.32e-04, median: 1.52e+00, max: 1.56e+02\n",
      "  adj --> min: 9.54e-04, median: 1.22e-02, max: 4.39e+02\n",
      "iter:  1400 | dx: +1.5878e+01 | loss: 3.7123e+04 | dloss: -1.19e+04 | acc: 0.70 | f1-score: 0.16 | relerr: 1.61e+02 | p@5: 0.00 | p@10: 0.00 | p@20: 0.10 | time/it: 8.02e-02     \n",
      "   mu --> min: 9.56e-04, median: 1.72e-03, max: 5.38e-03\n",
      " beta --> min: 2.32e-04, median: 1.51e+00, max: 1.54e+02\n",
      "  adj --> min: 6.59e-04, median: 1.18e-02, max: 6.58e+02\n",
      "iter:  1450 | dx: +2.8296e+01 | loss: 4.4425e+04 | dloss: -2.76e+04 | acc: 0.70 | f1-score: 0.16 | relerr: 1.72e+02 | p@5: 0.00 | p@10: 0.00 | p@20: 0.00 | time/it: 8.03e-02     \n",
      "   mu --> min: 1.20e-03, median: 1.78e-03, max: 5.42e-03\n",
      " beta --> min: 2.32e-04, median: 1.41e+00, max: 1.71e+02\n",
      "  adj --> min: 5.22e-04, median: 1.16e-02, max: 4.16e+02\n",
      "iter:  1500 | dx: +2.1873e+01 | loss: 3.7553e+04 | dloss: -9.20e+02 | acc: 0.70 | f1-score: 0.16 | relerr: 1.47e+02 | p@5: 0.00 | p@10: 0.00 | p@20: 0.00 | time/it: 8.12e-02     \n",
      "   mu --> min: 1.02e-03, median: 1.78e-03, max: 5.18e-03\n",
      " beta --> min: 2.32e-04, median: 1.39e+00, max: 1.64e+02\n",
      "  adj --> min: 7.54e-04, median: 1.13e-02, max: 4.21e+02\n",
      "iter:  1550 | dx: +5.4338e+01 | loss: 4.1043e+04 | dloss: -8.81e+01 | acc: 0.70 | f1-score: 0.15 | relerr: 1.58e+02 | p@5: 0.00 | p@10: 0.00 | p@20: 0.10 | time/it: 8.18e-02     \n",
      "   mu --> min: 8.04e-04, median: 1.80e-03, max: 6.26e-03\n",
      " beta --> min: 2.32e-04, median: 1.30e+00, max: 1.80e+02\n",
      "  adj --> min: 7.03e-04, median: 1.09e-02, max: 3.49e+02\n",
      "iter:  1600 | dx: +7.7609e+01 | loss: 3.8612e+04 | dloss: -2.61e+03 | acc: 0.70 | f1-score: 0.16 | relerr: 1.56e+02 | p@5: 0.00 | p@10: 0.00 | p@20: 0.05 | time/it: 8.15e-02     \n",
      "   mu --> min: 1.14e-03, median: 1.73e-03, max: 6.46e-03\n",
      " beta --> min: 2.32e-04, median: 1.26e+00, max: 1.85e+02\n",
      "  adj --> min: 6.78e-04, median: 1.04e-02, max: 3.84e+02\n",
      "iter:  1650 | dx: +1.4582e+02 | loss: 4.1517e+04 | dloss: -5.35e+02 | acc: 0.71 | f1-score: 0.15 | relerr: 1.36e+02 | p@5: 0.00 | p@10: 0.00 | p@20: 0.05 | time/it: 8.16e-02     \n",
      "   mu --> min: 9.42e-04, median: 1.79e-03, max: 7.59e-03\n",
      " beta --> min: 2.32e-04, median: 1.16e+00, max: 3.00e+02\n",
      "  adj --> min: 7.03e-04, median: 9.80e-03, max: 2.87e+02\n",
      "iter:  1700 | dx: +3.2398e+01 | loss: 4.3891e+04 | dloss: +2.78e+03 | acc: 0.71 | f1-score: 0.16 | relerr: 1.47e+02 | p@5: 0.00 | p@10: 0.00 | p@20: 0.05 | time/it: 8.23e-02     \n",
      "   mu --> min: 8.07e-04, median: 1.77e-03, max: 6.58e-03\n",
      " beta --> min: 2.32e-04, median: 1.15e+00, max: 2.15e+02\n",
      "  adj --> min: 5.04e-04, median: 9.19e-03, max: 8.70e+02\n",
      "iter:  1750 | dx: +2.4803e+01 | loss: 4.3614e+04 | dloss: -1.23e+02 | acc: 0.71 | f1-score: 0.15 | relerr: 1.48e+02 | p@5: 0.00 | p@10: 0.00 | p@20: 0.05 | time/it: 8.16e-02     \n",
      "   mu --> min: 7.64e-04, median: 1.89e-03, max: 7.53e-03\n",
      " beta --> min: 2.32e-04, median: 1.04e+00, max: 2.48e+02\n",
      "  adj --> min: 5.48e-04, median: 8.46e-03, max: 5.61e+02\n",
      "iter:  1800 | dx: +1.4791e+01 | loss: 5.9898e+04 | dloss: +1.66e+04 | acc: 0.72 | f1-score: 0.15 | relerr: 1.45e+02 | p@5: 0.00 | p@10: 0.00 | p@20: 0.05 | time/it: 8.18e-02     \n",
      "   mu --> min: 1.09e-03, median: 1.77e-03, max: 8.92e-03\n",
      " beta --> min: 2.32e-04, median: 1.02e+00, max: 1.63e+02\n",
      "  adj --> min: 6.94e-04, median: 7.86e-03, max: 5.28e+02\n",
      "iter:  1850 | dx: +2.2251e+01 | loss: 4.6240e+04 | dloss: -2.51e+02 | acc: 0.72 | f1-score: 0.15 | relerr: 1.56e+02 | p@5: 0.00 | p@10: 0.00 | p@20: 0.10 | time/it: 8.12e-02     \n",
      "   mu --> min: 1.25e-03, median: 1.80e-03, max: 8.50e-03\n",
      " beta --> min: 2.32e-04, median: 9.37e-01, max: 3.30e+02\n",
      "  adj --> min: 5.90e-04, median: 7.14e-03, max: 4.63e+02\n",
      "iter:  1900 | dx: +2.8481e+01 | loss: 4.5136e+04 | dloss: -2.50e+03 | acc: 0.73 | f1-score: 0.15 | relerr: 1.48e+02 | p@5: 0.00 | p@10: 0.00 | p@20: 0.05 | time/it: 8.29e-02     \n",
      "   mu --> min: 9.40e-04, median: 1.83e-03, max: 9.41e-03\n",
      " beta --> min: 2.34e-04, median: 9.06e-01, max: 3.20e+02\n",
      "  adj --> min: 6.34e-04, median: 6.58e-03, max: 5.56e+02\n",
      "iter:  1950 | dx: +3.8356e+01 | loss: 5.7767e+04 | dloss: +1.86e+03 | acc: 0.73 | f1-score: 0.14 | relerr: 1.40e+02 | p@5: 0.00 | p@10: 0.10 | p@20: 0.05 | time/it: 8.17e-02     \n",
      "   mu --> min: 9.23e-04, median: 1.91e-03, max: 1.10e-02\n",
      " beta --> min: 2.34e-04, median: 8.48e-01, max: 2.30e+02\n",
      "  adj --> min: 5.92e-04, median: 6.01e-03, max: 3.24e+02\n",
      "iter:  2000 | dx: +7.0239e+01 | loss: 5.4495e+04 | dloss: +6.23e+03 | acc: 0.73 | f1-score: 0.14 | relerr: 1.50e+02 | p@5: 0.00 | p@10: 0.00 | p@20: 0.05 | time/it: 8.25e-02     \n",
      "   mu --> min: 1.25e-03, median: 1.92e-03, max: 1.51e-02\n",
      " beta --> min: 2.34e-04, median: 8.24e-01, max: 1.88e+02\n",
      "  adj --> min: 5.18e-04, median: 5.50e-03, max: 4.90e+02\n",
      "iter:  2050 | dx: +5.1543e+01 | loss: 1.0495e+05 | dloss: +5.17e+04 | acc: 0.73 | f1-score: 0.14 | relerr: 1.76e+02 | p@5: 0.00 | p@10: 0.00 | p@20: 0.20 | time/it: 8.18e-02     \n",
      "   mu --> min: 9.85e-04, median: 1.83e-03, max: 1.41e-02\n",
      " beta --> min: 2.34e-04, median: 7.56e-01, max: 2.14e+02\n",
      "  adj --> min: 5.36e-04, median: 4.95e-03, max: 5.49e+02\n",
      "iter:  2100 | dx: +1.4192e+02 | loss: 5.0351e+04 | dloss: -2.47e+02 | acc: 0.74 | f1-score: 0.14 | relerr: 1.82e+02 | p@5: 0.00 | p@10: 0.00 | p@20: 0.10 | time/it: 8.16e-02     \n",
      "   mu --> min: 1.04e-03, median: 1.86e-03, max: 1.63e-02\n",
      " beta --> min: 2.42e-04, median: 7.49e-01, max: 2.25e+02\n",
      "  adj --> min: 4.96e-04, median: 4.61e-03, max: 5.89e+02\n",
      "iter:  2150 | dx: +3.3489e+01 | loss: 5.3386e+04 | dloss: +5.16e+02 | acc: 0.74 | f1-score: 0.14 | relerr: 1.66e+02 | p@5: 0.00 | p@10: 0.10 | p@20: 0.15 | time/it: 8.15e-02     \n",
      "   mu --> min: 1.20e-03, median: 2.01e-03, max: 1.57e-02\n",
      " beta --> min: 2.43e-04, median: 6.96e-01, max: 3.25e+02\n",
      "  adj --> min: 5.01e-04, median: 4.21e-03, max: 7.32e+02\n",
      "iter:  2200 | dx: +5.9142e+01 | loss: 5.4138e+04 | dloss: -1.68e+02 | acc: 0.74 | f1-score: 0.14 | relerr: 1.87e+02 | p@5: 0.00 | p@10: 0.10 | p@20: 0.10 | time/it: 8.14e-02     \n",
      "   mu --> min: 1.23e-03, median: 1.94e-03, max: 1.55e-02\n",
      " beta --> min: 2.43e-04, median: 6.76e-01, max: 3.66e+02\n",
      "  adj --> min: 3.60e-04, median: 3.90e-03, max: 1.03e+03\n",
      "iter:  2250 | dx: +3.0901e+01 | loss: 5.7173e+04 | dloss: -8.66e+03 | acc: 0.74 | f1-score: 0.13 | relerr: 1.64e+02 | p@5: 0.00 | p@10: 0.10 | p@20: 0.15 | time/it: 8.15e-02     \n",
      "   mu --> min: 1.23e-03, median: 1.91e-03, max: 1.44e-02\n",
      " beta --> min: 2.45e-04, median: 6.17e-01, max: 3.55e+02\n",
      "  adj --> min: 2.39e-04, median: 3.50e-03, max: 4.36e+02\n",
      "iter:  2300 | dx: +2.6901e+01 | loss: 5.4923e+04 | dloss: +4.34e+00 | acc: 0.75 | f1-score: 0.13 | relerr: 1.70e+02 | p@5: 0.00 | p@10: 0.10 | p@20: 0.10 | time/it: 8.17e-02     \n",
      "   mu --> min: 9.62e-04, median: 1.88e-03, max: 2.29e-02\n",
      " beta --> min: 2.45e-04, median: 6.02e-01, max: 3.68e+02\n",
      "  adj --> min: 3.18e-04, median: 3.30e-03, max: 3.33e+02\n",
      "iter:  2350 | dx: +2.3176e+02 | loss: 6.3130e+04 | dloss: +1.18e+03 | acc: 0.75 | f1-score: 0.13 | relerr: 1.92e+02 | p@5: 0.00 | p@10: 0.00 | p@20: 0.15 | time/it: 8.19e-02     \n",
      "   mu --> min: 1.03e-03, median: 1.98e-03, max: 1.77e-02\n",
      " beta --> min: 2.45e-04, median: 5.57e-01, max: 3.40e+02\n",
      "  adj --> min: 2.85e-04, median: 2.97e-03, max: 5.52e+02\n"
     ]
    },
    {
     "name": "stdout",
     "output_type": "stream",
     "text": [
      "iter:  2400 | dx: +8.0493e+01 | loss: 5.8389e+04 | dloss: -7.58e+04 | acc: 0.75 | f1-score: 0.13 | relerr: 2.19e+02 | p@5: 0.00 | p@10: 0.00 | p@20: 0.15 | time/it: 8.15e-02     \n",
      "   mu --> min: 1.05e-03, median: 1.93e-03, max: 1.55e-02\n",
      " beta --> min: 2.46e-04, median: 5.47e-01, max: 3.82e+02\n",
      "  adj --> min: 2.88e-04, median: 2.79e-03, max: 3.95e+02\n",
      "iter:  2450 | dx: +4.9118e+01 | loss: 6.0360e+04 | dloss: -2.10e+05 | acc: 0.75 | f1-score: 0.13 | relerr: 1.97e+02 | p@5: 0.00 | p@10: 0.20 | p@20: 0.15 | time/it: 8.07e-02     \n",
      "   mu --> min: 1.01e-03, median: 1.97e-03, max: 2.40e-02\n",
      " beta --> min: 2.48e-04, median: 4.98e-01, max: 3.80e+02\n",
      "  adj --> min: 2.41e-04, median: 2.56e-03, max: 2.78e+02\n",
      "iter:  2500 | dx: +5.8427e+01 | loss: 6.0341e+04 | dloss: -5.44e+03 | acc: 0.75 | f1-score: 0.13 | relerr: 1.95e+02 | p@5: 0.00 | p@10: 0.10 | p@20: 0.20 | time/it: 8.10e-02     \n",
      "   mu --> min: 8.68e-04, median: 1.91e-03, max: 2.59e-02\n",
      " beta --> min: 2.77e-04, median: 4.88e-01, max: 3.42e+02\n",
      "  adj --> min: 1.90e-04, median: 2.37e-03, max: 3.85e+02\n",
      "iter:  2550 | dx: +7.3739e+01 | loss: 6.1550e+04 | dloss: -4.05e+04 | acc: 0.76 | f1-score: 0.13 | relerr: 2.40e+02 | p@5: 0.00 | p@10: 0.20 | p@20: 0.25 | time/it: 8.81e-02     \n",
      "   mu --> min: 1.12e-03, median: 1.85e-03, max: 2.74e-02\n",
      " beta --> min: 2.90e-04, median: 4.52e-01, max: 3.14e+02\n",
      "  adj --> min: 1.64e-04, median: 2.16e-03, max: 7.67e+02\n",
      "iter:  2600 | dx: +5.5075e+01 | loss: 6.5314e+04 | dloss: +5.41e+02 | acc: 0.76 | f1-score: 0.13 | relerr: 2.71e+02 | p@5: 0.00 | p@10: 0.10 | p@20: 0.20 | time/it: 1.11e-01     \n",
      "   mu --> min: 8.36e-04, median: 1.82e-03, max: 2.67e-02\n",
      " beta --> min: 2.95e-04, median: 4.45e-01, max: 3.17e+02\n",
      "  adj --> min: 7.88e-05, median: 2.06e-03, max: 9.17e+02\n",
      "iter:  2650 | dx: +5.4536e+01 | loss: 6.5363e+04 | dloss: +1.10e+03 | acc: 0.76 | f1-score: 0.14 | relerr: 2.68e+02 | p@5: 0.00 | p@10: 0.10 | p@20: 0.10 | time/it: 8.46e-02     \n",
      "   mu --> min: 1.15e-03, median: 1.80e-03, max: 2.29e-02\n",
      " beta --> min: 2.96e-04, median: 4.09e-01, max: 2.88e+02\n",
      "  adj --> min: 9.84e-05, median: 1.87e-03, max: 6.13e+02\n",
      "iter:  2700 | dx: +6.8971e+01 | loss: 6.7830e+04 | dloss: -5.76e+04 | acc: 0.76 | f1-score: 0.14 | relerr: 2.69e+02 | p@5: 0.00 | p@10: 0.10 | p@20: 0.10 | time/it: 8.37e-02     \n",
      "   mu --> min: 1.03e-03, median: 1.83e-03, max: 3.01e-02\n",
      " beta --> min: 2.96e-04, median: 4.00e-01, max: 3.57e+02\n",
      "  adj --> min: 8.70e-05, median: 1.76e-03, max: 6.37e+02\n",
      "iter:  2750 | dx: +5.8393e+01 | loss: 7.0109e+04 | dloss: +3.32e+03 | acc: 0.76 | f1-score: 0.14 | relerr: 2.68e+02 | p@5: 0.00 | p@10: 0.10 | p@20: 0.20 | time/it: 8.29e-02     \n",
      "   mu --> min: 9.39e-04, median: 1.72e-03, max: 4.24e-02\n",
      " beta --> min: 3.05e-04, median: 3.70e-01, max: 3.54e+02\n",
      "  adj --> min: 6.45e-05, median: 1.62e-03, max: 7.80e+02\n",
      "iter:  2800 | dx: +3.9845e+01 | loss: 6.7808e+04 | dloss: +2.18e+03 | acc: 0.76 | f1-score: 0.13 | relerr: 2.55e+02 | p@5: 0.00 | p@10: 0.10 | p@20: 0.25 | time/it: 8.07e-02     \n",
      "   mu --> min: 9.36e-04, median: 1.70e-03, max: 3.36e-02\n",
      " beta --> min: 3.06e-04, median: 3.59e-01, max: 3.84e+02\n",
      "  adj --> min: 6.26e-05, median: 1.52e-03, max: 8.60e+02\n",
      "iter:  2850 | dx: +4.6706e+01 | loss: 7.9283e+04 | dloss: +1.04e+04 | acc: 0.76 | f1-score: 0.13 | relerr: 2.64e+02 | p@5: 0.00 | p@10: 0.20 | p@20: 0.20 | time/it: 8.02e-02     \n",
      "   mu --> min: 1.11e-03, median: 1.70e-03, max: 3.97e-02\n",
      " beta --> min: 3.06e-04, median: 3.33e-01, max: 4.02e+02\n",
      "  adj --> min: 4.33e-05, median: 1.39e-03, max: 6.31e+02\n",
      "iter:  2900 | dx: +4.7865e+01 | loss: 6.8574e+04 | dloss: -4.01e+02 | acc: 0.76 | f1-score: 0.14 | relerr: 2.99e+02 | p@5: 0.00 | p@10: 0.10 | p@20: 0.20 | time/it: 8.12e-02     \n",
      "   mu --> min: 8.85e-04, median: 1.69e-03, max: 3.56e-02\n",
      " beta --> min: 3.06e-04, median: 3.24e-01, max: 4.32e+02\n",
      "  adj --> min: 5.41e-05, median: 1.32e-03, max: 5.27e+02\n",
      "iter:  2950 | dx: +1.7421e+02 | loss: 7.0852e+04 | dloss: -9.55e+02 | acc: 0.76 | f1-score: 0.13 | relerr: 3.46e+02 | p@5: 0.00 | p@10: 0.10 | p@20: 0.20 | time/it: 8.17e-02     \n",
      "   mu --> min: 7.37e-04, median: 1.54e-03, max: 4.81e-02\n",
      " beta --> min: 3.06e-04, median: 3.01e-01, max: 3.72e+02\n",
      "  adj --> min: 5.20e-05, median: 1.21e-03, max: 1.78e+02\n",
      "iter:  3000 | dx: +5.9269e+01 | loss: 7.0687e+04 | dloss: -6.65e+02 | acc: 0.76 | f1-score: 0.13 | relerr: 4.00e+02 | p@5: 0.00 | p@10: 0.10 | p@20: 0.20 | time/it: 1.26e-01     \n",
      "   mu --> min: 8.55e-04, median: 1.51e-03, max: 2.79e-02\n",
      " beta --> min: 3.06e-04, median: 2.96e-01, max: 4.74e+02\n",
      "  adj --> min: 4.09e-05, median: 1.15e-03, max: 7.72e+02\n",
      "iter:  3050 | dx: +7.2555e+01 | loss: 7.3585e+04 | dloss: +3.63e+02 | acc: 0.76 | f1-score: 0.14 | relerr: 3.90e+02 | p@5: 0.00 | p@10: 0.10 | p@20: 0.20 | time/it: 9.03e-02     \n",
      "   mu --> min: 8.34e-04, median: 1.43e-03, max: 3.00e-02\n",
      " beta --> min: 3.09e-04, median: 2.73e-01, max: 4.69e+02\n",
      "  adj --> min: 3.09e-05, median: 1.05e-03, max: 5.76e+02\n",
      "iter:  3100 | dx: +6.6205e+01 | loss: 7.3759e+04 | dloss: -8.28e+04 | acc: 0.76 | f1-score: 0.14 | relerr: 4.09e+02 | p@5: 0.00 | p@10: 0.00 | p@20: 0.25 | time/it: 1.50e-01     \n",
      "   mu --> min: 4.04e-04, median: 1.57e-03, max: 3.70e-02\n",
      " beta --> min: 3.13e-04, median: 2.66e-01, max: 4.13e+02\n",
      "  adj --> min: 2.80e-05, median: 9.85e-04, max: 5.25e+02\n",
      "iter:  3150 | dx: +7.2544e+01 | loss: 1.0566e+05 | dloss: +2.82e+04 | acc: 0.76 | f1-score: 0.14 | relerr: 4.75e+02 | p@5: 0.00 | p@10: 0.30 | p@20: 0.25 | time/it: 1.18e-01     \n",
      "   mu --> min: 7.41e-04, median: 1.56e-03, max: 3.64e-02\n",
      " beta --> min: 3.14e-04, median: 2.47e-01, max: 3.55e+02\n",
      "  adj --> min: 2.41e-05, median: 9.15e-04, max: 3.28e+02\n",
      "iter:  3200 | dx: +1.4997e+02 | loss: 7.4525e+04 | dloss: -8.14e+02 | acc: 0.76 | f1-score: 0.14 | relerr: 4.34e+02 | p@5: 0.20 | p@10: 0.20 | p@20: 0.30 | time/it: 1.31e-01     \n",
      "   mu --> min: 8.02e-04, median: 1.43e-03, max: 3.86e-02\n",
      " beta --> min: 3.16e-04, median: 2.45e-01, max: 5.76e+02\n",
      "  adj --> min: 2.09e-05, median: 8.79e-04, max: 2.21e+02\n",
      "iter:  3250 | dx: +9.0162e+01 | loss: 7.9171e+04 | dloss: -9.96e+04 | acc: 0.76 | f1-score: 0.14 | relerr: 4.93e+02 | p@5: 0.20 | p@10: 0.10 | p@20: 0.25 | time/it: 1.38e-01     \n",
      "   mu --> min: 7.27e-04, median: 1.36e-03, max: 4.13e-02\n",
      " beta --> min: 3.16e-04, median: 2.25e-01, max: 8.06e+02\n",
      "  adj --> min: 9.37e-06, median: 8.08e-04, max: 3.77e+02\n",
      "iter:  3300 | dx: +6.7719e+01 | loss: 7.7602e+04 | dloss: -3.78e+02 | acc: 0.76 | f1-score: 0.13 | relerr: 5.61e+02 | p@5: 0.00 | p@10: 0.10 | p@20: 0.20 | time/it: 9.87e-02     \n",
      "   mu --> min: 6.57e-04, median: 1.43e-03, max: 3.84e-02\n",
      " beta --> min: 3.16e-04, median: 2.21e-01, max: 6.20e+02\n",
      "  adj --> min: 8.70e-06, median: 7.69e-04, max: 5.34e+02\n",
      "iter:  3350 | dx: +1.3506e+02 | loss: 7.9794e+04 | dloss: -1.85e+02 | acc: 0.76 | f1-score: 0.14 | relerr: 5.38e+02 | p@5: 0.00 | p@10: 0.00 | p@20: 0.25 | time/it: 1.05e-01     \n",
      "   mu --> min: 6.46e-04, median: 1.35e-03, max: 4.07e-02\n",
      " beta --> min: 3.16e-04, median: 2.07e-01, max: 5.20e+02\n",
      "  adj --> min: 1.37e-05, median: 7.12e-04, max: 3.48e+02\n",
      "iter:  3400 | dx: +1.3547e+02 | loss: 7.9928e+04 | dloss: +7.74e+02 | acc: 0.76 | f1-score: 0.13 | relerr: 5.48e+02 | p@5: 0.20 | p@10: 0.10 | p@20: 0.25 | time/it: 1.10e-01     \n",
      "   mu --> min: 7.53e-04, median: 1.36e-03, max: 3.20e-02\n",
      " beta --> min: 3.16e-04, median: 2.05e-01, max: 4.18e+02\n",
      "  adj --> min: 1.08e-05, median: 6.81e-04, max: 3.48e+02\n",
      "iter:  3450 | dx: +8.0396e+01 | loss: 8.2556e+04 | dloss: -6.81e+03 | acc: 0.76 | f1-score: 0.14 | relerr: 5.52e+02 | p@5: 0.20 | p@10: 0.10 | p@20: 0.20 | time/it: 1.18e-01     \n",
      "   mu --> min: 6.53e-04, median: 1.35e-03, max: 4.42e-02\n",
      " beta --> min: 3.16e-04, median: 1.89e-01, max: 3.82e+02\n",
      "  adj --> min: 1.11e-05, median: 6.28e-04, max: 3.35e+02\n",
      "iter:  3500 | dx: +8.4464e+01 | loss: 8.0927e+04 | dloss: -1.11e+03 | acc: 0.76 | f1-score: 0.14 | relerr: 5.82e+02 | p@5: 0.20 | p@10: 0.20 | p@20: 0.25 | time/it: 1.15e-01     \n",
      "   mu --> min: 5.80e-04, median: 1.33e-03, max: 3.70e-02\n",
      " beta --> min: 3.20e-04, median: 1.83e-01, max: 3.37e+02\n",
      "  adj --> min: 8.67e-06, median: 6.12e-04, max: 2.84e+02\n",
      "iter:  3550 | dx: +1.0143e+02 | loss: 8.4648e+04 | dloss: -1.08e+03 | acc: 0.76 | f1-score: 0.14 | relerr: 6.80e+02 | p@5: 0.20 | p@10: 0.20 | p@20: 0.20 | time/it: 1.01e-01     \n"
     ]
    },
    {
     "name": "stdout",
     "output_type": "stream",
     "text": [
      "   mu --> min: 4.54e-04, median: 1.24e-03, max: 4.34e-02\n",
      " beta --> min: 3.20e-04, median: 1.71e-01, max: 3.82e+02\n",
      "  adj --> min: 7.15e-06, median: 5.57e-04, max: 3.15e+02\n",
      "iter:  3600 | dx: +1.6689e+02 | loss: 8.9331e+04 | dloss: +6.01e+03 | acc: 0.76 | f1-score: 0.14 | relerr: 6.61e+02 | p@5: 0.20 | p@10: 0.20 | p@20: 0.20 | time/it: 9.85e-02     \n",
      "   mu --> min: 5.43e-04, median: 1.30e-03, max: 4.68e-02\n",
      " beta --> min: 3.21e-04, median: 1.68e-01, max: 4.51e+02\n",
      "  adj --> min: 7.23e-06, median: 5.32e-04, max: 2.66e+02\n",
      "iter:  3650 | dx: +1.1833e+02 | loss: 1.4265e+05 | dloss: +5.70e+04 | acc: 0.76 | f1-score: 0.14 | relerr: 7.54e+02 | p@5: 0.20 | p@10: 0.20 | p@20: 0.25 | time/it: 1.00e-01     \n",
      "   mu --> min: 4.54e-04, median: 1.27e-03, max: 4.29e-02\n",
      " beta --> min: 3.22e-04, median: 1.54e-01, max: 3.87e+02\n",
      "  adj --> min: 6.04e-06, median: 4.85e-04, max: 3.00e+02\n",
      "iter:  3700 | dx: +2.2698e+02 | loss: 8.7601e+04 | dloss: +1.82e+03 | acc: 0.76 | f1-score: 0.13 | relerr: 7.29e+02 | p@5: 0.40 | p@10: 0.20 | p@20: 0.25 | time/it: 9.87e-02     \n",
      "   mu --> min: 4.65e-04, median: 1.22e-03, max: 4.32e-02\n",
      " beta --> min: 3.22e-04, median: 1.52e-01, max: 5.29e+02\n",
      "  adj --> min: 4.61e-06, median: 4.67e-04, max: 3.29e+02\n",
      "iter:  3750 | dx: +1.5557e+02 | loss: 8.8093e+04 | dloss: -1.04e+03 | acc: 0.76 | f1-score: 0.13 | relerr: 8.29e+02 | p@5: 0.20 | p@10: 0.20 | p@20: 0.30 | time/it: 1.05e-01     \n",
      "   mu --> min: 3.39e-04, median: 1.15e-03, max: 3.94e-02\n",
      " beta --> min: 3.22e-04, median: 1.41e-01, max: 4.38e+02\n",
      "  adj --> min: 3.45e-06, median: 4.28e-04, max: 3.01e+02\n",
      "iter:  3800 | dx: +1.9485e+02 | loss: 8.9374e+04 | dloss: +1.36e+03 | acc: 0.76 | f1-score: 0.13 | relerr: 8.46e+02 | p@5: 0.20 | p@10: 0.10 | p@20: 0.30 | time/it: 1.22e-01     \n",
      "   mu --> min: 4.45e-04, median: 1.16e-03, max: 5.06e-02\n",
      " beta --> min: 2.83e-04, median: 1.38e-01, max: 4.97e+02\n",
      "  adj --> min: 2.86e-06, median: 4.11e-04, max: 2.99e+02\n",
      "iter:  3850 | dx: +4.1992e+02 | loss: 9.2027e+04 | dloss: -7.28e+02 | acc: 0.76 | f1-score: 0.14 | relerr: 1.03e+03 | p@5: 0.20 | p@10: 0.20 | p@20: 0.25 | time/it: 1.14e-01     \n",
      "   mu --> min: 4.56e-04, median: 1.08e-03, max: 4.37e-02\n",
      " beta --> min: 2.37e-04, median: 1.29e-01, max: 3.24e+02\n",
      "  adj --> min: 2.35e-06, median: 3.75e-04, max: 3.07e+02\n",
      "iter:  3900 | dx: +7.9493e+01 | loss: 9.0124e+04 | dloss: +5.65e+02 | acc: 0.76 | f1-score: 0.14 | relerr: 1.20e+03 | p@5: 0.00 | p@10: 0.20 | p@20: 0.20 | time/it: 1.16e-01     \n",
      "   mu --> min: 5.01e-04, median: 1.13e-03, max: 5.20e-02\n",
      " beta --> min: 2.95e-04, median: 1.26e-01, max: 2.47e+02\n",
      "  adj --> min: 1.39e-06, median: 3.66e-04, max: 6.06e+02\n",
      "iter:  3950 | dx: +3.4899e+02 | loss: 9.1508e+04 | dloss: -4.57e+03 | acc: 0.76 | f1-score: 0.14 | relerr: 1.39e+03 | p@5: 0.00 | p@10: 0.20 | p@20: 0.30 | time/it: 1.17e-01     \n",
      "   mu --> min: 3.44e-04, median: 1.15e-03, max: 5.05e-02\n",
      " beta --> min: 2.28e-04, median: 1.18e-01, max: 2.91e+02\n",
      "  adj --> min: 2.50e-06, median: 3.30e-04, max: 4.51e+02\n",
      "iter:  4000 | dx: +1.7863e+02 | loss: 9.2096e+04 | dloss: -5.14e+01 | acc: 0.76 | f1-score: 0.14 | relerr: 1.34e+03 | p@5: 0.00 | p@10: 0.20 | p@20: 0.20 | time/it: 8.12e-02     \n",
      "   mu --> min: 3.80e-04, median: 1.14e-03, max: 4.50e-02\n",
      " beta --> min: 2.04e-04, median: 1.14e-01, max: 4.14e+02\n",
      "  adj --> min: 2.22e-06, median: 3.23e-04, max: 3.50e+02\n",
      "iter:  4050 | dx: +2.4979e+02 | loss: 9.3563e+04 | dloss: -2.90e+03 | acc: 0.76 | f1-score: 0.14 | relerr: 1.51e+03 | p@5: 0.00 | p@10: 0.10 | p@20: 0.25 | time/it: 1.18e-01     \n",
      "   mu --> min: 3.04e-04, median: 1.13e-03, max: 4.32e-02\n",
      " beta --> min: 1.24e-04, median: 1.07e-01, max: 4.27e+02\n",
      "  adj --> min: 1.62e-06, median: 2.92e-04, max: 2.04e+02\n",
      "iter:  4100 | dx: +2.3857e+02 | loss: 1.4013e+05 | dloss: +4.45e+04 | acc: 0.76 | f1-score: 0.14 | relerr: 1.42e+03 | p@5: 0.20 | p@10: 0.30 | p@20: 0.20 | time/it: 1.40e-01     \n",
      "   mu --> min: 3.52e-04, median: 1.07e-03, max: 5.12e-02\n",
      " beta --> min: 1.53e-04, median: 1.06e-01, max: 3.35e+02\n",
      "  adj --> min: 1.38e-06, median: 2.84e-04, max: 2.49e+02\n",
      "iter:  4150 | dx: +4.3077e+02 | loss: 1.7250e+05 | dloss: +7.38e+04 | acc: 0.76 | f1-score: 0.14 | relerr: 1.46e+03 | p@5: 0.20 | p@10: 0.30 | p@20: 0.25 | time/it: 1.50e-01     \n",
      "   mu --> min: 1.93e-04, median: 1.11e-03, max: 4.88e-02\n",
      " beta --> min: 1.69e-04, median: 9.95e-02, max: 2.08e+02\n",
      "  adj --> min: 1.76e-06, median: 2.61e-04, max: 2.84e+02\n",
      "iter:  4200 | dx: +2.5637e+02 | loss: 9.6329e+04 | dloss: -1.34e+03 | acc: 0.76 | f1-score: 0.14 | relerr: 1.58e+03 | p@5: 0.20 | p@10: 0.20 | p@20: 0.25 | time/it: 1.12e-01     \n",
      "   mu --> min: 2.87e-04, median: 9.90e-04, max: 4.37e-02\n",
      " beta --> min: 1.44e-04, median: 9.75e-02, max: 2.09e+02\n",
      "  adj --> min: 1.21e-06, median: 2.50e-04, max: 6.52e+02\n",
      "iter:  4250 | dx: +3.7306e+02 | loss: 9.8077e+04 | dloss: -5.28e+03 | acc: 0.76 | f1-score: 0.14 | relerr: 1.75e+03 | p@5: 0.20 | p@10: 0.30 | p@20: 0.25 | time/it: 1.02e-01     \n",
      "   mu --> min: 1.86e-04, median: 1.06e-03, max: 4.74e-02\n",
      " beta --> min: 1.27e-04, median: 9.28e-02, max: 2.16e+02\n",
      "  adj --> min: 1.10e-06, median: 2.33e-04, max: 7.15e+02\n",
      "iter:  4300 | dx: +2.8312e+02 | loss: 1.0103e+05 | dloss: -1.73e+04 | acc: 0.76 | f1-score: 0.14 | relerr: 1.86e+03 | p@5: 0.20 | p@10: 0.20 | p@20: 0.30 | time/it: 1.29e-01     \n",
      "   mu --> min: 1.86e-04, median: 1.08e-03, max: 3.64e-02\n",
      " beta --> min: 1.03e-04, median: 9.10e-02, max: 3.51e+02\n",
      "  adj --> min: 9.09e-07, median: 2.22e-04, max: 8.03e+02\n",
      "iter:  4350 | dx: +4.7151e+02 | loss: 1.0022e+05 | dloss: -1.17e+03 | acc: 0.76 | f1-score: 0.14 | relerr: 2.22e+03 | p@5: 0.20 | p@10: 0.30 | p@20: 0.25 | time/it: 9.50e-02     \n",
      "   mu --> min: 1.84e-04, median: 1.03e-03, max: 4.72e-02\n",
      " beta --> min: 7.50e-05, median: 8.46e-02, max: 2.74e+02\n",
      "  adj --> min: 6.81e-07, median: 2.02e-04, max: 5.34e+02\n",
      "iter:  4400 | dx: +8.0543e+02 | loss: 1.0077e+05 | dloss: +3.86e+02 | acc: 0.76 | f1-score: 0.14 | relerr: 2.08e+03 | p@5: 0.00 | p@10: 0.20 | p@20: 0.30 | time/it: 1.20e-01     \n",
      "   mu --> min: 2.34e-04, median: 9.88e-04, max: 4.42e-02\n",
      " beta --> min: 7.70e-05, median: 8.36e-02, max: 2.90e+02\n",
      "  adj --> min: 4.97e-07, median: 1.98e-04, max: 3.47e+02\n",
      "iter:  4450 | dx: +5.3593e+02 | loss: 1.0412e+05 | dloss: +1.49e+03 | acc: 0.76 | f1-score: 0.14 | relerr: 2.27e+03 | p@5: 0.20 | p@10: 0.30 | p@20: 0.35 | time/it: 1.08e-01     \n",
      "   mu --> min: 2.76e-04, median: 1.10e-03, max: 4.50e-02\n",
      " beta --> min: 6.88e-05, median: 7.80e-02, max: 2.50e+02\n",
      "  adj --> min: 4.04e-07, median: 1.81e-04, max: 4.41e+02\n",
      "iter:  4500 | dx: +4.5822e+02 | loss: 1.0150e+05 | dloss: -6.86e+02 | acc: 0.75 | f1-score: 0.14 | relerr: 2.41e+03 | p@5: 0.00 | p@10: 0.20 | p@20: 0.25 | time/it: 1.13e-01     \n",
      "   mu --> min: 2.65e-04, median: 1.00e-03, max: 4.21e-02\n",
      " beta --> min: 5.69e-05, median: 7.65e-02, max: 1.97e+02\n",
      "  adj --> min: 2.81e-07, median: 1.75e-04, max: 3.11e+02\n",
      "iter:  4550 | dx: +1.1926e+03 | loss: 1.0679e+05 | dloss: +2.99e+03 | acc: 0.75 | f1-score: 0.14 | relerr: 2.80e+03 | p@5: 0.20 | p@10: 0.20 | p@20: 0.30 | time/it: 1.29e-01     \n",
      "   mu --> min: 2.35e-04, median: 1.06e-03, max: 4.85e-02\n",
      " beta --> min: 4.75e-05, median: 7.13e-02, max: 3.76e+02\n",
      "  adj --> min: 2.41e-07, median: 1.60e-04, max: 3.96e+02\n",
      "iter:  4600 | dx: +9.7441e+02 | loss: 1.0414e+05 | dloss: -1.54e+03 | acc: 0.76 | f1-score: 0.15 | relerr: 3.01e+03 | p@5: 0.20 | p@10: 0.20 | p@20: 0.25 | time/it: 1.36e-01     \n",
      "   mu --> min: 2.71e-04, median: 1.07e-03, max: 4.46e-02\n",
      " beta --> min: 4.23e-05, median: 7.03e-02, max: 6.48e+02\n",
      "  adj --> min: 1.34e-07, median: 1.54e-04, max: 5.43e+02\n"
     ]
    },
    {
     "ename": "KeyboardInterrupt",
     "evalue": "",
     "output_type": "error",
     "traceback": [
      "\u001b[0;31m---------------------------------------------------------------------------\u001b[0m",
      "\u001b[0;31mKeyboardInterrupt\u001b[0m                         Traceback (most recent call last)",
      "\u001b[0;32m<ipython-input-28-e2524cb823c4>\u001b[0m in \u001b[0;36m<module>\u001b[0;34m\u001b[0m\n\u001b[1;32m     73\u001b[0m                  \u001b[0mlr_sched\u001b[0m\u001b[0;34m=\u001b[0m\u001b[0;36m0.9999\u001b[0m\u001b[0;34m,\u001b[0m \u001b[0mtol\u001b[0m\u001b[0;34m=\u001b[0m\u001b[0;36m1e-6\u001b[0m\u001b[0;34m,\u001b[0m \u001b[0mmax_iter\u001b[0m\u001b[0;34m=\u001b[0m\u001b[0;36m20000\u001b[0m\u001b[0;34m,\u001b[0m\u001b[0;34m\u001b[0m\u001b[0;34m\u001b[0m\u001b[0m\n\u001b[1;32m     74\u001b[0m                  \u001b[0mmstep_interval\u001b[0m\u001b[0;34m=\u001b[0m\u001b[0;36m100\u001b[0m\u001b[0;34m,\u001b[0m \u001b[0mmstep_offset\u001b[0m\u001b[0;34m=\u001b[0m\u001b[0;36m500\u001b[0m\u001b[0;34m,\u001b[0m \u001b[0mmstep_momentum\u001b[0m\u001b[0;34m=\u001b[0m\u001b[0;36m0.5\u001b[0m\u001b[0;34m,\u001b[0m\u001b[0;34m\u001b[0m\u001b[0;34m\u001b[0m\u001b[0m\n\u001b[0;32m---> 75\u001b[0;31m                  seed=None, callback=callback)\n\u001b[0m",
      "\u001b[0;32m~/Workspace/EPFL/research/ongoing/var-wold/tsvar/models/_wold_bbvi.py\u001b[0m in \u001b[0;36mfit\u001b[0;34m(self, *args, **kwargs)\u001b[0m\n\u001b[1;32m      6\u001b[0m \u001b[0;34m\u001b[0m\u001b[0m\n\u001b[1;32m      7\u001b[0m     \u001b[0;32mdef\u001b[0m \u001b[0mfit\u001b[0m\u001b[0;34m(\u001b[0m\u001b[0mself\u001b[0m\u001b[0;34m,\u001b[0m \u001b[0;34m*\u001b[0m\u001b[0margs\u001b[0m\u001b[0;34m,\u001b[0m \u001b[0;34m**\u001b[0m\u001b[0mkwargs\u001b[0m\u001b[0;34m)\u001b[0m\u001b[0;34m:\u001b[0m\u001b[0;34m\u001b[0m\u001b[0;34m\u001b[0m\u001b[0m\n\u001b[0;32m----> 8\u001b[0;31m         \u001b[0;32mreturn\u001b[0m \u001b[0msuper\u001b[0m\u001b[0;34m(\u001b[0m\u001b[0;34m)\u001b[0m\u001b[0;34m.\u001b[0m\u001b[0mfit\u001b[0m\u001b[0;34m(\u001b[0m\u001b[0mobjective_func\u001b[0m\u001b[0;34m=\u001b[0m\u001b[0mself\u001b[0m\u001b[0;34m.\u001b[0m\u001b[0mbbvi_objective\u001b[0m\u001b[0;34m,\u001b[0m \u001b[0;34m*\u001b[0m\u001b[0margs\u001b[0m\u001b[0;34m,\u001b[0m \u001b[0;34m**\u001b[0m\u001b[0mkwargs\u001b[0m\u001b[0;34m)\u001b[0m\u001b[0;34m\u001b[0m\u001b[0;34m\u001b[0m\u001b[0m\n\u001b[0m",
      "\u001b[0;32m~/Workspace/EPFL/research/ongoing/var-wold/tsvar/utils/decorators.py\u001b[0m in \u001b[0;36mwrapped\u001b[0;34m(self, *args, **kwargs)\u001b[0m\n\u001b[1;32m      6\u001b[0m     \u001b[0;32mdef\u001b[0m \u001b[0mwrapped\u001b[0m\u001b[0;34m(\u001b[0m\u001b[0mself\u001b[0m\u001b[0;34m,\u001b[0m \u001b[0;34m*\u001b[0m\u001b[0margs\u001b[0m\u001b[0;34m,\u001b[0m \u001b[0;34m**\u001b[0m\u001b[0mkwargs\u001b[0m\u001b[0;34m)\u001b[0m\u001b[0;34m:\u001b[0m\u001b[0;34m\u001b[0m\u001b[0;34m\u001b[0m\u001b[0m\n\u001b[1;32m      7\u001b[0m         \u001b[0;32mif\u001b[0m \u001b[0mself\u001b[0m\u001b[0;34m.\u001b[0m\u001b[0m_observed\u001b[0m\u001b[0;34m:\u001b[0m\u001b[0;34m\u001b[0m\u001b[0;34m\u001b[0m\u001b[0m\n\u001b[0;32m----> 8\u001b[0;31m             \u001b[0;32mreturn\u001b[0m \u001b[0mfn\u001b[0m\u001b[0;34m(\u001b[0m\u001b[0mself\u001b[0m\u001b[0;34m,\u001b[0m \u001b[0;34m*\u001b[0m\u001b[0margs\u001b[0m\u001b[0;34m,\u001b[0m \u001b[0;34m**\u001b[0m\u001b[0mkwargs\u001b[0m\u001b[0;34m)\u001b[0m\u001b[0;34m\u001b[0m\u001b[0;34m\u001b[0m\u001b[0m\n\u001b[0m\u001b[1;32m      9\u001b[0m         \u001b[0;32melse\u001b[0m\u001b[0;34m:\u001b[0m\u001b[0;34m\u001b[0m\u001b[0;34m\u001b[0m\u001b[0m\n\u001b[1;32m     10\u001b[0m             raise Exception(('Model is not properly set. '\n",
      "\u001b[0;32m~/Workspace/EPFL/research/ongoing/var-wold/tsvar/fitter.py\u001b[0m in \u001b[0;36mfit\u001b[0;34m(self, objective_func, x0, optimizer, lr, lr_sched, tol, max_iter, mstep_interval, mstep_offset, mstep_momentum, seed, callback)\u001b[0m\n\u001b[1;32m    270\u001b[0m             \u001b[0mself\u001b[0m\u001b[0;34m.\u001b[0m\u001b[0m_n_iter_done\u001b[0m \u001b[0;34m=\u001b[0m \u001b[0mt\u001b[0m\u001b[0;34m\u001b[0m\u001b[0;34m\u001b[0m\u001b[0m\n\u001b[1;32m    271\u001b[0m             \u001b[0;31m# E step\u001b[0m\u001b[0;34m\u001b[0m\u001b[0;34m\u001b[0m\u001b[0;34m\u001b[0m\u001b[0m\n\u001b[0;32m--> 272\u001b[0;31m             \u001b[0mself\u001b[0m\u001b[0;34m.\u001b[0m\u001b[0m_e_step\u001b[0m\u001b[0;34m(\u001b[0m\u001b[0;34m)\u001b[0m\u001b[0;34m\u001b[0m\u001b[0;34m\u001b[0m\u001b[0m\n\u001b[0m\u001b[1;32m    273\u001b[0m             \u001b[0;31m# M step\u001b[0m\u001b[0;34m\u001b[0m\u001b[0;34m\u001b[0m\u001b[0;34m\u001b[0m\u001b[0m\n\u001b[1;32m    274\u001b[0m             \u001b[0mself\u001b[0m\u001b[0;34m.\u001b[0m\u001b[0m_m_step\u001b[0m\u001b[0;34m(\u001b[0m\u001b[0;34m)\u001b[0m\u001b[0;34m\u001b[0m\u001b[0;34m\u001b[0m\u001b[0m\n",
      "\u001b[0;32m~/Workspace/EPFL/research/ongoing/var-wold/tsvar/fitter.py\u001b[0m in \u001b[0;36m_e_step\u001b[0;34m(self)\u001b[0m\n\u001b[1;32m    196\u001b[0m         \u001b[0mself\u001b[0m\u001b[0;34m.\u001b[0m\u001b[0moptimizer\u001b[0m\u001b[0;34m.\u001b[0m\u001b[0mzero_grad\u001b[0m\u001b[0;34m(\u001b[0m\u001b[0;34m)\u001b[0m\u001b[0;34m\u001b[0m\u001b[0;34m\u001b[0m\u001b[0m\n\u001b[1;32m    197\u001b[0m         \u001b[0mself\u001b[0m\u001b[0;34m.\u001b[0m\u001b[0m_loss\u001b[0m \u001b[0;34m=\u001b[0m \u001b[0mself\u001b[0m\u001b[0;34m.\u001b[0m\u001b[0m_objective_func\u001b[0m\u001b[0;34m(\u001b[0m\u001b[0mself\u001b[0m\u001b[0;34m.\u001b[0m\u001b[0mcoeffs\u001b[0m\u001b[0;34m)\u001b[0m\u001b[0;34m\u001b[0m\u001b[0;34m\u001b[0m\u001b[0m\n\u001b[0;32m--> 198\u001b[0;31m         \u001b[0mself\u001b[0m\u001b[0;34m.\u001b[0m\u001b[0m_loss\u001b[0m\u001b[0;34m.\u001b[0m\u001b[0mbackward\u001b[0m\u001b[0;34m(\u001b[0m\u001b[0;34m)\u001b[0m\u001b[0;34m\u001b[0m\u001b[0;34m\u001b[0m\u001b[0m\n\u001b[0m\u001b[1;32m    199\u001b[0m         \u001b[0mself\u001b[0m\u001b[0;34m.\u001b[0m\u001b[0moptimizer\u001b[0m\u001b[0;34m.\u001b[0m\u001b[0mstep\u001b[0m\u001b[0;34m(\u001b[0m\u001b[0;34m)\u001b[0m\u001b[0;34m\u001b[0m\u001b[0;34m\u001b[0m\u001b[0m\n\u001b[1;32m    200\u001b[0m         \u001b[0mself\u001b[0m\u001b[0;34m.\u001b[0m\u001b[0mscheduler\u001b[0m\u001b[0;34m.\u001b[0m\u001b[0mstep\u001b[0m\u001b[0;34m(\u001b[0m\u001b[0;34m)\u001b[0m\u001b[0;34m\u001b[0m\u001b[0;34m\u001b[0m\u001b[0m\n",
      "\u001b[0;32m~/miniconda3/envs/var-wold/lib/python3.6/site-packages/torch/tensor.py\u001b[0m in \u001b[0;36mbackward\u001b[0;34m(self, gradient, retain_graph, create_graph)\u001b[0m\n\u001b[1;32m    164\u001b[0m                 \u001b[0mproducts\u001b[0m\u001b[0;34m.\u001b[0m \u001b[0mDefaults\u001b[0m \u001b[0mto\u001b[0m\u001b[0;31m \u001b[0m\u001b[0;31m`\u001b[0m\u001b[0;31m`\u001b[0m\u001b[0;32mFalse\u001b[0m\u001b[0;31m`\u001b[0m\u001b[0;31m`\u001b[0m\u001b[0;34m.\u001b[0m\u001b[0;34m\u001b[0m\u001b[0;34m\u001b[0m\u001b[0m\n\u001b[1;32m    165\u001b[0m         \"\"\"\n\u001b[0;32m--> 166\u001b[0;31m         \u001b[0mtorch\u001b[0m\u001b[0;34m.\u001b[0m\u001b[0mautograd\u001b[0m\u001b[0;34m.\u001b[0m\u001b[0mbackward\u001b[0m\u001b[0;34m(\u001b[0m\u001b[0mself\u001b[0m\u001b[0;34m,\u001b[0m \u001b[0mgradient\u001b[0m\u001b[0;34m,\u001b[0m \u001b[0mretain_graph\u001b[0m\u001b[0;34m,\u001b[0m \u001b[0mcreate_graph\u001b[0m\u001b[0;34m)\u001b[0m\u001b[0;34m\u001b[0m\u001b[0;34m\u001b[0m\u001b[0m\n\u001b[0m\u001b[1;32m    167\u001b[0m \u001b[0;34m\u001b[0m\u001b[0m\n\u001b[1;32m    168\u001b[0m     \u001b[0;32mdef\u001b[0m \u001b[0mregister_hook\u001b[0m\u001b[0;34m(\u001b[0m\u001b[0mself\u001b[0m\u001b[0;34m,\u001b[0m \u001b[0mhook\u001b[0m\u001b[0;34m)\u001b[0m\u001b[0;34m:\u001b[0m\u001b[0;34m\u001b[0m\u001b[0;34m\u001b[0m\u001b[0m\n",
      "\u001b[0;32m~/miniconda3/envs/var-wold/lib/python3.6/site-packages/torch/autograd/__init__.py\u001b[0m in \u001b[0;36mbackward\u001b[0;34m(tensors, grad_tensors, retain_graph, create_graph, grad_variables)\u001b[0m\n\u001b[1;32m     97\u001b[0m     Variable._execution_engine.run_backward(\n\u001b[1;32m     98\u001b[0m         \u001b[0mtensors\u001b[0m\u001b[0;34m,\u001b[0m \u001b[0mgrad_tensors\u001b[0m\u001b[0;34m,\u001b[0m \u001b[0mretain_graph\u001b[0m\u001b[0;34m,\u001b[0m \u001b[0mcreate_graph\u001b[0m\u001b[0;34m,\u001b[0m\u001b[0;34m\u001b[0m\u001b[0;34m\u001b[0m\u001b[0m\n\u001b[0;32m---> 99\u001b[0;31m         allow_unreachable=True)  # allow_unreachable flag\n\u001b[0m\u001b[1;32m    100\u001b[0m \u001b[0;34m\u001b[0m\u001b[0m\n\u001b[1;32m    101\u001b[0m \u001b[0;34m\u001b[0m\u001b[0m\n",
      "\u001b[0;31mKeyboardInterrupt\u001b[0m: "
     ]
    }
   ],
   "source": [
    "dim = len(events)\n",
    "n_params = dim + dim**2 + dim**2\n",
    "end_time = max(map(max, events))\n",
    "\n",
    "# Set initial guess\n",
    "coeffs_start = torch.tensor(np.hstack((\n",
    "    # loc\n",
    "    -2.0 * torch.ones(dim, dtype=torch.float),                   # baseline\n",
    "    -2.0 * torch.ones((dim, dim), dtype=torch.float).flatten(),  # beta\n",
    "     0.0 * torch.ones((dim, dim), dtype=torch.float).flatten(),  # adjacency\n",
    "    # scale\n",
    "    torch.log(0.2 * torch.ones(dim, dtype=torch.float)),\n",
    "    torch.log(1.0 * torch.ones((dim, dim), dtype=torch.float).flatten()),\n",
    "    torch.log(1.0 * torch.ones((dim, dim), dtype=torch.float).flatten()),\n",
    ")))\n",
    "\n",
    "# Define priors/posteriors\n",
    "posterior = tsvar.posteriors.LogNormalPosterior\n",
    "prior = tsvar.priors.GaussianLaplacianPrior\n",
    "mask_gaus = torch.zeros(n_params, dtype=torch.bool)\n",
    "mask_gaus[:dim + dim**2] = 1  # Gaussian prior for baseline and beta\n",
    "C = 1e2\n",
    "\n",
    "# Init the model object\n",
    "model = tsvar.models.WoldModelBBVI(posterior=posterior, prior=prior, C=C,\n",
    "                                   prior_kwargs={'mask_gaus': mask_gaus},\n",
    "                                   n_samples=1, n_weights=1, weight_temp=1,\n",
    "                                   verbose=False, device='cpu')\n",
    "model.observe(events, end_time)\n",
    "\n",
    "# Set link function for callback (vi coeffs -> posterior mode)\n",
    "def link_func(coeffs):\n",
    "    \"\"\"variationa coeffs -> posterior mode of adjacency\"\"\"\n",
    "    # Numpy to torch\n",
    "    coeffs = torch.tensor(coeffs) if isinstance(coeffs, np.ndarray) else coeffs\n",
    "    params_mode = model.posterior.mode(\n",
    "        coeffs[:model.n_params], coeffs[model.n_params:]\n",
    "    ).detach().numpy()\n",
    "    beta_mode = params_mode[dim:-dim**2]\n",
    "    adj_mode = params_mode[-dim**2:]\n",
    "    return adj_mode / beta_mode\n",
    "\n",
    "\n",
    "class MyCallback(tsvar.utils.callbacks.LearnerCallbackMLE):\n",
    "    \n",
    "    def __call__(self, learner_obj, end=None, force=False):\n",
    "        super().__call__(learner_obj, end, force)\n",
    "        t = learner_obj._n_iter_done + 1\n",
    "        if (t % self.print_every == 0) or force:\n",
    "            coeffs_hat = model.posterior.mode(model.coeffs[:n_params], model.coeffs[n_params:]).detach().numpy()\n",
    "            mu_hat = coeffs_hat[:dim]\n",
    "            beta_hat = coeffs_hat[dim:dim+dim**2]\n",
    "            adj_hat = coeffs_hat[dim+dim**2:]\n",
    "            print(f'   mu --> min: {mu_hat.min():.2e}, median: {np.median(mu_hat):.2e}, max: {mu_hat.max():.2e}')\n",
    "            print(f' beta --> min: {beta_hat.min():.2e}, median: {np.median(beta_hat):.2e}, max: {beta_hat.max():.2e}')\n",
    "            print(f'  adj --> min: {adj_hat.min():.2e}, median: {np.median(adj_hat):.2e}, max: {adj_hat.max():.2e}', flush=True)\n",
    "\n",
    "# Set the callback (callback parameters are posterior mode)\n",
    "callback = MyCallback(\n",
    "    x0=posterior().mode(\n",
    "        coeffs_start[:dim+2*dim**2], coeffs_start[dim+2*dim**2:]\n",
    "    )[dim:dim+dim**2],\n",
    "    print_every=50,\n",
    "    coeffs_true=adjacency_true,\n",
    "    acc_thresh=0.05,\n",
    "    dim=dim,\n",
    "    link_func=link_func,\n",
    "    default_end='\\n')\n",
    "\n",
    "\n",
    "# Fit the model\n",
    "conv = model.fit(x0=coeffs_start, optimizer=torch.optim.Adam, lr=1e-1,\n",
    "                 lr_sched=0.9999, tol=1e-6, max_iter=20000,\n",
    "                 mstep_interval=100, mstep_offset=500, mstep_momentum=0.5,\n",
    "                 seed=None, callback=callback)"
   ]
  },
  {
   "cell_type": "code",
   "execution_count": null,
   "metadata": {},
   "outputs": [],
   "source": [
    "coeffs_hat = model.posterior.mode(model.coeffs[:n_params], model.coeffs[n_params:]).detach().numpy()\n",
    "mu_hat = coeffs_hat[:dim]\n",
    "beta_hat = coeffs_hat[dim:dim+dim**2]\n",
    "adj_hat = coeffs_hat[dim+dim**2:]"
   ]
  },
  {
   "cell_type": "code",
   "execution_count": null,
   "metadata": {},
   "outputs": [],
   "source": [
    "plt.boxplot([adj_hat.flatten(), beta_hat.flatten()]);\n",
    "plt.title(f'Method {type(model).__name__}')"
   ]
  },
  {
   "cell_type": "code",
   "execution_count": null,
   "metadata": {},
   "outputs": [],
   "source": [
    "coeffs_hat = model.posterior.mode(model.coeffs[:n_params], model.coeffs[n_params:]).detach().numpy()\n",
    "beta_hat = coeffs_hat[dim:dim+dim**2]\n",
    "adj_hat = coeffs_hat[dim+dim**2:]\n",
    "\n",
    "adj_hat = adj_hat / beta_hat\n",
    "\n",
    "experiments_utils.print_report(name=type(model).__name__, adj_hat=adj_hat, adj_true=adjacency_true, thresh=0.02)"
   ]
  },
  {
   "cell_type": "code",
   "execution_count": null,
   "metadata": {},
   "outputs": [],
   "source": []
  },
  {
   "cell_type": "markdown",
   "metadata": {},
   "source": [
    "---\n",
    "\n",
    "### Run VI"
   ]
  },
  {
   "cell_type": "code",
   "execution_count": 27,
   "metadata": {},
   "outputs": [
    {
     "name": "stdout",
     "output_type": "stream",
     "text": [
      "ALPHA:\n",
      "------\n",
      "mean\n",
      "0.01\n",
      "variance\n",
      "0.01\n",
      "BETA:\n",
      "-----\n",
      "mean\n",
      "1.1111111111111112\n",
      "variance\n",
      "0.15432098765432098\n"
     ]
    }
   ],
   "source": [
    "dim = len(events)\n",
    "\n",
    "# Set priors\n",
    "# prior: Alpha\n",
    "as_pr = 0.01 * np.ones((dim + 1, dim))\n",
    "ar_pr = 1.0 * np.ones((dim + 1, dim))\n",
    "\n",
    "# prior: Beta\n",
    "bs_pr = 10.0 * np.ones((dim, dim))\n",
    "br_pr = 10.0 * np.ones((dim, dim))\n",
    "\n",
    "# prior: Z\n",
    "zc_pr = [1.0 * np.ones((len(events[i]), dim+1)) for i in range(dim)]\n",
    "\n",
    "print('ALPHA:')\n",
    "print('------')\n",
    "print('mean')\n",
    "print(as_pr[0,0] / ar_pr[0,0])\n",
    "print('variance')\n",
    "print(as_pr[0,0] / ar_pr[0,0] ** 2)\n",
    "\n",
    "print('BETA:')\n",
    "print('-----')\n",
    "print('mean')\n",
    "print(br_pr[0,0] / (bs_pr[0,0] - 1))\n",
    "print('variance')\n",
    "print(br_pr[0,0]**2 / ((bs_pr[0,0] - 1)**2 * (bs_pr[0,0] - 2)))"
   ]
  },
  {
   "cell_type": "code",
   "execution_count": 14,
   "metadata": {},
   "outputs": [],
   "source": [
    "# Set model & observations\n",
    "vi_model = tsvar.models.WoldModelVariational(verbose=True)\n",
    "vi_model.observe(events)"
   ]
  },
  {
   "cell_type": "code",
   "execution_count": 15,
   "metadata": {},
   "outputs": [
    {
     "name": "stdout",
     "output_type": "stream",
     "text": [
      "iter:    10 | dx: +8.2118e-01 | f1-score: 0.17 | relerr: 2.88e+00 | p@5: 0.20 | p@10: 0.20 | p@20: 0.15 | time/it: 3.63e+00     \n",
      "iter:    20 | dx: +1.9519e-01 | f1-score: 0.14 | relerr: 2.75e+00 | p@5: 0.20 | p@10: 0.20 | p@20: 0.15 | time/it: 2.56e-01     \n",
      "iter:    30 | dx: +5.1126e-02 | f1-score: 0.13 | relerr: 2.69e+00 | p@5: 0.00 | p@10: 0.20 | p@20: 0.15 | time/it: 2.43e-01     \n",
      "iter:    40 | dx: +4.7639e-02 | f1-score: 0.12 | relerr: 2.67e+00 | p@5: 0.00 | p@10: 0.20 | p@20: 0.15 | time/it: 2.47e-01     \n",
      "iter:    50 | dx: +2.5249e-02 | f1-score: 0.12 | relerr: 2.65e+00 | p@5: 0.00 | p@10: 0.20 | p@20: 0.15 | time/it: 2.52e-01     \n",
      "iter:    60 | dx: +2.3562e-02 | f1-score: 0.12 | relerr: 2.65e+00 | p@5: 0.00 | p@10: 0.20 | p@20: 0.15 | time/it: 2.43e-01     \n",
      "iter:    70 | dx: +3.8552e-02 | f1-score: 0.12 | relerr: 2.65e+00 | p@5: 0.00 | p@10: 0.20 | p@20: 0.15 | time/it: 2.42e-01     \n",
      "iter:    80 | dx: +1.3648e-02 | f1-score: 0.12 | relerr: 2.65e+00 | p@5: 0.00 | p@10: 0.20 | p@20: 0.15 | time/it: 2.47e-01     \n",
      "iter:    90 | dx: +1.5509e-02 | f1-score: 0.12 | relerr: 2.65e+00 | p@5: 0.00 | p@10: 0.20 | p@20: 0.15 | time/it: 2.73e-01     \n",
      "iter:   100 | dx: +2.5573e-02 | f1-score: 0.11 | relerr: 2.64e+00 | p@5: 0.00 | p@10: 0.20 | p@20: 0.15 | time/it: 2.48e-01     \n",
      "iter:   110 | dx: +8.0684e-03 | f1-score: 0.11 | relerr: 2.64e+00 | p@5: 0.00 | p@10: 0.20 | p@20: 0.15 | time/it: 2.49e-01     \n",
      "iter:   120 | dx: +1.4320e-02 | f1-score: 0.11 | relerr: 2.64e+00 | p@5: 0.00 | p@10: 0.20 | p@20: 0.15 | time/it: 3.24e-01     \n",
      "iter:   130 | dx: +8.1775e-03 | f1-score: 0.11 | relerr: 2.64e+00 | p@5: 0.00 | p@10: 0.20 | p@20: 0.15 | time/it: 3.68e-01     \n",
      "iter:   140 | dx: +9.9843e-03 | f1-score: 0.11 | relerr: 2.64e+00 | p@5: 0.00 | p@10: 0.20 | p@20: 0.15 | time/it: 2.76e-01     \n",
      "iter:   150 | dx: +1.6392e-02 | f1-score: 0.11 | relerr: 2.64e+00 | p@5: 0.00 | p@10: 0.20 | p@20: 0.15 | time/it: 2.48e-01     \n",
      "iter:   160 | dx: +2.4041e-02 | f1-score: 0.11 | relerr: 2.64e+00 | p@5: 0.00 | p@10: 0.20 | p@20: 0.15 | time/it: 2.47e-01     \n",
      "iter:   170 | dx: +7.7894e-03 | f1-score: 0.11 | relerr: 2.64e+00 | p@5: 0.00 | p@10: 0.20 | p@20: 0.15 | time/it: 2.43e-01     \n",
      "iter:   180 | dx: +7.2380e-03 | f1-score: 0.11 | relerr: 2.64e+00 | p@5: 0.00 | p@10: 0.20 | p@20: 0.15 | time/it: 3.15e-01     \n",
      "iter:   190 | dx: +5.7001e-03 | f1-score: 0.11 | relerr: 2.64e+00 | p@5: 0.00 | p@10: 0.20 | p@20: 0.15 | time/it: 2.78e-01     \n",
      "iter:   200 | dx: +5.2106e-03 | f1-score: 0.11 | relerr: 2.64e+00 | p@5: 0.00 | p@10: 0.20 | p@20: 0.15 | time/it: 2.55e-01     \n",
      "iter:   210 | dx: +8.0125e-03 | f1-score: 0.11 | relerr: 2.64e+00 | p@5: 0.00 | p@10: 0.20 | p@20: 0.15 | time/it: 3.18e-01     \n",
      "iter:   220 | dx: +1.4746e-02 | f1-score: 0.11 | relerr: 2.64e+00 | p@5: 0.00 | p@10: 0.20 | p@20: 0.15 | time/it: 2.89e-01     \n",
      "iter:   230 | dx: +3.1820e-03 | f1-score: 0.11 | relerr: 2.64e+00 | p@5: 0.00 | p@10: 0.20 | p@20: 0.15 | time/it: 2.81e-01     \n",
      "iter:   240 | dx: +2.7683e-03 | f1-score: 0.11 | relerr: 2.64e+00 | p@5: 0.00 | p@10: 0.20 | p@20: 0.15 | time/it: 2.63e-01     \n",
      "iter:   250 | dx: +3.9617e-03 | f1-score: 0.11 | relerr: 2.64e+00 | p@5: 0.00 | p@10: 0.20 | p@20: 0.15 | time/it: 2.76e-01     \n",
      "iter:   260 | dx: +6.7841e-03 | f1-score: 0.11 | relerr: 2.65e+00 | p@5: 0.00 | p@10: 0.20 | p@20: 0.15 | time/it: 2.70e-01     \n",
      "iter:   270 | dx: +2.5506e-03 | f1-score: 0.11 | relerr: 2.65e+00 | p@5: 0.00 | p@10: 0.20 | p@20: 0.15 | time/it: 2.64e-01     \n",
      "iter:   280 | dx: +2.8195e-03 | f1-score: 0.11 | relerr: 2.65e+00 | p@5: 0.00 | p@10: 0.20 | p@20: 0.15 | time/it: 2.84e-01     \n",
      "iter:   290 | dx: +3.3697e-03 | f1-score: 0.11 | relerr: 2.65e+00 | p@5: 0.00 | p@10: 0.20 | p@20: 0.15 | time/it: 2.95e-01     \n",
      "iter:   300 | dx: +4.4271e-03 | f1-score: 0.11 | relerr: 2.64e+00 | p@5: 0.00 | p@10: 0.20 | p@20: 0.15 | time/it: 2.62e-01     \n",
      "iter:   310 | dx: +6.5623e-03 | f1-score: 0.11 | relerr: 2.64e+00 | p@5: 0.00 | p@10: 0.20 | p@20: 0.15 | time/it: 3.10e-01     \n",
      "iter:   320 | dx: +9.0036e-03 | f1-score: 0.11 | relerr: 2.64e+00 | p@5: 0.00 | p@10: 0.20 | p@20: 0.15 | time/it: 2.84e-01     \n",
      "iter:   330 | dx: +1.0106e-02 | f1-score: 0.11 | relerr: 2.64e+00 | p@5: 0.00 | p@10: 0.20 | p@20: 0.15 | time/it: 2.48e-01     \n",
      "iter:   340 | dx: +2.1564e-03 | f1-score: 0.11 | relerr: 2.64e+00 | p@5: 0.00 | p@10: 0.20 | p@20: 0.15 | time/it: 2.69e-01     \n",
      "iter:   350 | dx: +3.5525e-03 | f1-score: 0.11 | relerr: 2.64e+00 | p@5: 0.00 | p@10: 0.20 | p@20: 0.15 | time/it: 2.42e-01     \n",
      "iter:   360 | dx: +6.9891e-03 | f1-score: 0.11 | relerr: 2.64e+00 | p@5: 0.00 | p@10: 0.20 | p@20: 0.15 | time/it: 2.44e-01     \n",
      "iter:   370 | dx: +1.0206e-03 | f1-score: 0.11 | relerr: 2.64e+00 | p@5: 0.00 | p@10: 0.20 | p@20: 0.15 | time/it: 2.48e-01     \n",
      "iter:   380 | dx: +2.9431e-04 | f1-score: 0.11 | relerr: 2.64e+00 | p@5: 0.00 | p@10: 0.20 | p@20: 0.15 | time/it: 3.14e-01     \n",
      "iter:   390 | dx: +3.3628e-04 | f1-score: 0.11 | relerr: 2.64e+00 | p@5: 0.00 | p@10: 0.20 | p@20: 0.15 | time/it: 2.38e-01     \n",
      "iter:   400 | dx: +3.9270e-04 | f1-score: 0.11 | relerr: 2.64e+00 | p@5: 0.00 | p@10: 0.20 | p@20: 0.15 | time/it: 2.43e-01     \n",
      "iter:   410 | dx: +4.7016e-04 | f1-score: 0.11 | relerr: 2.64e+00 | p@5: 0.00 | p@10: 0.20 | p@20: 0.15 | time/it: 2.36e-01     \n",
      "iter:   420 | dx: +5.7928e-04 | f1-score: 0.11 | relerr: 2.64e+00 | p@5: 0.00 | p@10: 0.20 | p@20: 0.15 | time/it: 2.73e-01     \n"
     ]
    },
    {
     "ename": "KeyboardInterrupt",
     "evalue": "",
     "output_type": "error",
     "traceback": [
      "\u001b[0;31m---------------------------------------------------------------------------\u001b[0m",
      "\u001b[0;31mKeyboardInterrupt\u001b[0m                         Traceback (most recent call last)",
      "\u001b[0;32m<ipython-input-15-bbb3c2fe8a5e>\u001b[0m in \u001b[0;36m<module>\u001b[0;34m\u001b[0m\n\u001b[1;32m      9\u001b[0m \u001b[0;31m# Fit model\u001b[0m\u001b[0;34m\u001b[0m\u001b[0;34m\u001b[0m\u001b[0;34m\u001b[0m\u001b[0m\n\u001b[1;32m     10\u001b[0m vi_model.fit(as_pr=as_pr, ar_pr=ar_pr, bs_pr=bs_pr, br_pr=br_pr, zc_pr=zc_pr, \n\u001b[0;32m---> 11\u001b[0;31m           max_iter=2500, tol=1e-5, callback=callback)\n\u001b[0m",
      "\u001b[0;32m~/Workspace/EPFL/research/ongoing/var-wold/tsvar/utils/decorators.py\u001b[0m in \u001b[0;36mwrapped\u001b[0;34m(self, *args, **kwargs)\u001b[0m\n\u001b[1;32m      6\u001b[0m     \u001b[0;32mdef\u001b[0m \u001b[0mwrapped\u001b[0m\u001b[0;34m(\u001b[0m\u001b[0mself\u001b[0m\u001b[0;34m,\u001b[0m \u001b[0;34m*\u001b[0m\u001b[0margs\u001b[0m\u001b[0;34m,\u001b[0m \u001b[0;34m**\u001b[0m\u001b[0mkwargs\u001b[0m\u001b[0;34m)\u001b[0m\u001b[0;34m:\u001b[0m\u001b[0;34m\u001b[0m\u001b[0;34m\u001b[0m\u001b[0m\n\u001b[1;32m      7\u001b[0m         \u001b[0;32mif\u001b[0m \u001b[0mself\u001b[0m\u001b[0;34m.\u001b[0m\u001b[0m_observed\u001b[0m\u001b[0;34m:\u001b[0m\u001b[0;34m\u001b[0m\u001b[0;34m\u001b[0m\u001b[0m\n\u001b[0;32m----> 8\u001b[0;31m             \u001b[0;32mreturn\u001b[0m \u001b[0mfn\u001b[0m\u001b[0;34m(\u001b[0m\u001b[0mself\u001b[0m\u001b[0;34m,\u001b[0m \u001b[0;34m*\u001b[0m\u001b[0margs\u001b[0m\u001b[0;34m,\u001b[0m \u001b[0;34m**\u001b[0m\u001b[0mkwargs\u001b[0m\u001b[0;34m)\u001b[0m\u001b[0;34m\u001b[0m\u001b[0;34m\u001b[0m\u001b[0m\n\u001b[0m\u001b[1;32m      9\u001b[0m         \u001b[0;32melse\u001b[0m\u001b[0;34m:\u001b[0m\u001b[0;34m\u001b[0m\u001b[0;34m\u001b[0m\u001b[0m\n\u001b[1;32m     10\u001b[0m             raise Exception(('Model is not properly set. '\n",
      "\u001b[0;32m~/Workspace/EPFL/research/ongoing/var-wold/tsvar/models/_wold_var.py\u001b[0m in \u001b[0;36mfit\u001b[0;34m(self, as_pr, ar_pr, bs_pr, br_pr, zc_pr, *args, **kwargs)\u001b[0m\n\u001b[1;32m    388\u001b[0m     \u001b[0;32mdef\u001b[0m \u001b[0mfit\u001b[0m\u001b[0;34m(\u001b[0m\u001b[0mself\u001b[0m\u001b[0;34m,\u001b[0m \u001b[0mas_pr\u001b[0m\u001b[0;34m,\u001b[0m \u001b[0mar_pr\u001b[0m\u001b[0;34m,\u001b[0m \u001b[0mbs_pr\u001b[0m\u001b[0;34m,\u001b[0m \u001b[0mbr_pr\u001b[0m\u001b[0;34m,\u001b[0m \u001b[0mzc_pr\u001b[0m\u001b[0;34m,\u001b[0m \u001b[0;34m*\u001b[0m\u001b[0margs\u001b[0m\u001b[0;34m,\u001b[0m \u001b[0;34m**\u001b[0m\u001b[0mkwargs\u001b[0m\u001b[0;34m)\u001b[0m\u001b[0;34m:\u001b[0m\u001b[0;34m\u001b[0m\u001b[0;34m\u001b[0m\u001b[0m\n\u001b[1;32m    389\u001b[0m         \u001b[0mself\u001b[0m\u001b[0;34m.\u001b[0m\u001b[0m_init_fit\u001b[0m\u001b[0;34m(\u001b[0m\u001b[0mas_pr\u001b[0m\u001b[0;34m,\u001b[0m \u001b[0mar_pr\u001b[0m\u001b[0;34m,\u001b[0m \u001b[0mbs_pr\u001b[0m\u001b[0;34m,\u001b[0m \u001b[0mbr_pr\u001b[0m\u001b[0;34m,\u001b[0m \u001b[0mzc_pr\u001b[0m\u001b[0;34m)\u001b[0m\u001b[0;34m\u001b[0m\u001b[0;34m\u001b[0m\u001b[0m\n\u001b[0;32m--> 390\u001b[0;31m         \u001b[0;32mreturn\u001b[0m \u001b[0msuper\u001b[0m\u001b[0;34m(\u001b[0m\u001b[0;34m)\u001b[0m\u001b[0;34m.\u001b[0m\u001b[0mfit\u001b[0m\u001b[0;34m(\u001b[0m\u001b[0mstep_function\u001b[0m\u001b[0;34m=\u001b[0m\u001b[0mself\u001b[0m\u001b[0;34m.\u001b[0m\u001b[0m_iteration\u001b[0m\u001b[0;34m,\u001b[0m \u001b[0;34m*\u001b[0m\u001b[0margs\u001b[0m\u001b[0;34m,\u001b[0m \u001b[0;34m**\u001b[0m\u001b[0mkwargs\u001b[0m\u001b[0;34m)\u001b[0m\u001b[0;34m\u001b[0m\u001b[0;34m\u001b[0m\u001b[0m\n\u001b[0m\u001b[1;32m    391\u001b[0m \u001b[0;34m\u001b[0m\u001b[0m\n\u001b[1;32m    392\u001b[0m     \u001b[0;32mdef\u001b[0m \u001b[0malpha_posterior_mean\u001b[0m\u001b[0;34m(\u001b[0m\u001b[0mself\u001b[0m\u001b[0;34m,\u001b[0m \u001b[0mas_po\u001b[0m\u001b[0;34m=\u001b[0m\u001b[0;32mNone\u001b[0m\u001b[0;34m,\u001b[0m \u001b[0mar_po\u001b[0m\u001b[0;34m=\u001b[0m\u001b[0;32mNone\u001b[0m\u001b[0;34m)\u001b[0m\u001b[0;34m:\u001b[0m\u001b[0;34m\u001b[0m\u001b[0;34m\u001b[0m\u001b[0m\n",
      "\u001b[0;32m~/Workspace/EPFL/research/ongoing/var-wold/tsvar/utils/decorators.py\u001b[0m in \u001b[0;36mwrapped\u001b[0;34m(self, *args, **kwargs)\u001b[0m\n\u001b[1;32m      6\u001b[0m     \u001b[0;32mdef\u001b[0m \u001b[0mwrapped\u001b[0m\u001b[0;34m(\u001b[0m\u001b[0mself\u001b[0m\u001b[0;34m,\u001b[0m \u001b[0;34m*\u001b[0m\u001b[0margs\u001b[0m\u001b[0;34m,\u001b[0m \u001b[0;34m**\u001b[0m\u001b[0mkwargs\u001b[0m\u001b[0;34m)\u001b[0m\u001b[0;34m:\u001b[0m\u001b[0;34m\u001b[0m\u001b[0;34m\u001b[0m\u001b[0m\n\u001b[1;32m      7\u001b[0m         \u001b[0;32mif\u001b[0m \u001b[0mself\u001b[0m\u001b[0;34m.\u001b[0m\u001b[0m_observed\u001b[0m\u001b[0;34m:\u001b[0m\u001b[0;34m\u001b[0m\u001b[0;34m\u001b[0m\u001b[0m\n\u001b[0;32m----> 8\u001b[0;31m             \u001b[0;32mreturn\u001b[0m \u001b[0mfn\u001b[0m\u001b[0;34m(\u001b[0m\u001b[0mself\u001b[0m\u001b[0;34m,\u001b[0m \u001b[0;34m*\u001b[0m\u001b[0margs\u001b[0m\u001b[0;34m,\u001b[0m \u001b[0;34m**\u001b[0m\u001b[0mkwargs\u001b[0m\u001b[0;34m)\u001b[0m\u001b[0;34m\u001b[0m\u001b[0;34m\u001b[0m\u001b[0m\n\u001b[0m\u001b[1;32m      9\u001b[0m         \u001b[0;32melse\u001b[0m\u001b[0;34m:\u001b[0m\u001b[0;34m\u001b[0m\u001b[0;34m\u001b[0m\u001b[0m\n\u001b[1;32m     10\u001b[0m             raise Exception(('Model is not properly set. '\n",
      "\u001b[0;32m~/Workspace/EPFL/research/ongoing/var-wold/tsvar/fitter.py\u001b[0m in \u001b[0;36mfit\u001b[0;34m(self, step_function, tol, max_iter, seed, callback)\u001b[0m\n\u001b[1;32m     55\u001b[0m             \u001b[0mself\u001b[0m\u001b[0;34m.\u001b[0m\u001b[0m_n_iter_done\u001b[0m \u001b[0;34m=\u001b[0m \u001b[0mt\u001b[0m\u001b[0;34m\u001b[0m\u001b[0;34m\u001b[0m\u001b[0m\n\u001b[1;32m     56\u001b[0m             \u001b[0;31m# Run iteration\u001b[0m\u001b[0;34m\u001b[0m\u001b[0;34m\u001b[0m\u001b[0;34m\u001b[0m\u001b[0m\n\u001b[0;32m---> 57\u001b[0;31m             \u001b[0mstep_function\u001b[0m\u001b[0;34m(\u001b[0m\u001b[0;34m)\u001b[0m\u001b[0;34m\u001b[0m\u001b[0;34m\u001b[0m\u001b[0m\n\u001b[0m\u001b[1;32m     58\u001b[0m \u001b[0;34m\u001b[0m\u001b[0m\n\u001b[1;32m     59\u001b[0m             \u001b[0;31m# Sanity check that the optimization did not fail\u001b[0m\u001b[0;34m\u001b[0m\u001b[0;34m\u001b[0m\u001b[0;34m\u001b[0m\u001b[0m\n",
      "\u001b[0;32m~/Workspace/EPFL/research/ongoing/var-wold/tsvar/models/_wold_var.py\u001b[0m in \u001b[0;36m_iteration\u001b[0;34m(self)\u001b[0m\n\u001b[1;32m    364\u001b[0m             \u001b[0mas_po\u001b[0m\u001b[0;34m=\u001b[0m\u001b[0mself\u001b[0m\u001b[0;34m.\u001b[0m\u001b[0m_as_po\u001b[0m\u001b[0;34m,\u001b[0m \u001b[0mar_po\u001b[0m\u001b[0;34m=\u001b[0m\u001b[0mself\u001b[0m\u001b[0;34m.\u001b[0m\u001b[0m_ar_po\u001b[0m\u001b[0;34m,\u001b[0m \u001b[0mzp_po\u001b[0m\u001b[0;34m=\u001b[0m\u001b[0mself\u001b[0m\u001b[0;34m.\u001b[0m\u001b[0m_zp_po\u001b[0m\u001b[0;34m,\u001b[0m\u001b[0;34m\u001b[0m\u001b[0;34m\u001b[0m\u001b[0m\n\u001b[1;32m    365\u001b[0m             \u001b[0mbs_pr\u001b[0m\u001b[0;34m=\u001b[0m\u001b[0mself\u001b[0m\u001b[0;34m.\u001b[0m\u001b[0m_bs_pr\u001b[0m\u001b[0;34m,\u001b[0m \u001b[0mbr_pr\u001b[0m\u001b[0;34m=\u001b[0m\u001b[0mself\u001b[0m\u001b[0;34m.\u001b[0m\u001b[0m_br_pr\u001b[0m\u001b[0;34m,\u001b[0m \u001b[0mdt_ik\u001b[0m\u001b[0;34m=\u001b[0m\u001b[0mself\u001b[0m\u001b[0;34m.\u001b[0m\u001b[0mdt_ik\u001b[0m\u001b[0;34m,\u001b[0m\u001b[0;34m\u001b[0m\u001b[0;34m\u001b[0m\u001b[0m\n\u001b[0;32m--> 366\u001b[0;31m             delta_ikj=self.delta_ikj, valid_mask_ikj=self.valid_mask_ikj)\n\u001b[0m\u001b[1;32m    367\u001b[0m \u001b[0;34m\u001b[0m\u001b[0m\n\u001b[1;32m    368\u001b[0m         \u001b[0;31m# # (debug) Sanity check\u001b[0m\u001b[0;34m\u001b[0m\u001b[0;34m\u001b[0m\u001b[0;34m\u001b[0m\u001b[0m\n",
      "\u001b[0;31mKeyboardInterrupt\u001b[0m: "
     ]
    }
   ],
   "source": [
    "# Set callback (parameters of callback are just the posterior mean of alpha)\n",
    "callback = tsvar.utils.callbacks.LearnerCallbackMLE(\n",
    "    x0=(as_pr[1:,:] / ar_pr[1:,:]).flatten(), print_every=10,\n",
    "    coeffs_true=adjacency_true.flatten(),\n",
    "    acc_thresh=0.05, dim=dim, \n",
    "    widgets={'f1score', 'relerr', 'prec@5', 'prec@10', 'prec@20'},\n",
    "    default_end='\\n')\n",
    "\n",
    "# Fit model\n",
    "vi_model.fit(as_pr=as_pr, ar_pr=ar_pr, bs_pr=bs_pr, br_pr=br_pr, zc_pr=zc_pr, \n",
    "          max_iter=2500, tol=1e-5, callback=callback)"
   ]
  },
  {
   "cell_type": "code",
   "execution_count": 38,
   "metadata": {},
   "outputs": [
    {
     "name": "stdout",
     "output_type": "stream",
     "text": [
      "\n",
      "==================================================\n",
      "========== Method: WoldModelVariational\n",
      "\n",
      "Accuracy: 0.75\n",
      "\n",
      "Edge counts\n",
      "------------\n",
      "Pred: 1104.00\n",
      "True: 1680.00\n",
      "\n",
      "Error counts\n",
      "------------\n",
      " True Positive: 154.00\n",
      "False Positive: 950.00\n",
      " True Negative: 7370.00\n",
      "False Negative: 1526.00\n",
      "\n",
      "Error rates\n",
      "-----------\n",
      " True Positive Rate: 0.09\n",
      "False Positive Rate: 0.11\n",
      " True Negative Rate: 0.89\n",
      "False Negative Rate: 0.91\n",
      "\n",
      "F-Score\n",
      "-------\n",
      " F1-Score: 0.11\n",
      "Precision: 0.14\n",
      "   Recall: 0.09\n",
      "\n",
      "Precision@k\n",
      "-----------\n",
      "  Prec@5: 0.00\n",
      " Prec@10: 0.20\n",
      " Prec@20: 0.15\n",
      " Prec@50: 0.20\n",
      "Prec@100: 0.25\n",
      "Prec@200: 0.28\n",
      "\n",
      "Average Precision@k per node\n",
      "----------------------------\n",
      "AvgPrec@k per node:\n",
      "5 0.04400000000000001\n",
      "10 0.063\n",
      "20 0.07949999999999996\n",
      "50 0.10980000000000001\n",
      "100 0.16800000000000007\n",
      "200 0.08400000000000003\n",
      "\n"
     ]
    }
   ],
   "source": [
    "alpha_hat = vi_model._as_po[1:, :] / vi_model._ar_po[1:, :]\n",
    "beta_hat = vi_model._br_po[:, :] / (vi_model._bs_po[:, :] + 1) + 1\n",
    "\n",
    "adj_hat = alpha_hat\n",
    "#adj_hat = alpha_hat / beta_hat\n",
    "\n",
    "#adj_hat[np.eye(len(adj_hat)).astype(bool)] = 0.0\n",
    "\n",
    "experiments_utils.print_report(name=type(vi_model).__name__, adj_hat=adj_hat, adj_true=adjacency_true, thresh=0.001)"
   ]
  },
  {
   "cell_type": "code",
   "execution_count": 30,
   "metadata": {},
   "outputs": [
    {
     "data": {
      "image/png": "[encoded data removed]",
      "text/plain": [
       "<Figure size 432x288 with 1 Axes>"
      ]
     },
     "metadata": {
      "needs_background": "light"
     },
     "output_type": "display_data"
    }
   ],
   "source": [
    "plt.boxplot(adj_hat.flatten());\n",
    "plt.yscale('log');"
   ]
  },
  {
   "cell_type": "code",
   "execution_count": 31,
   "metadata": {},
   "outputs": [
    {
     "data": {
      "image/png": "[encoded data removed]",
      "text/plain": [
       "<Figure size 720x360 with 1 Axes>"
      ]
     },
     "metadata": {
      "needs_background": "light"
     },
     "output_type": "display_data"
    }
   ],
   "source": [
    "plt.figure(figsize=(10, 5))\n",
    "plt.grid()\n",
    "plt.boxplot(\n",
    "    [adj_hat[adjacency_true == 0.0], adj_hat[adjacency_true > 0.0]],\n",
    "    labels=['True Non-edges', 'True Edges'])\n",
    "plt.ylabel(r'Learned value of paramaters')\n",
    "plt.title('Distribution of learned adjacency weights');"
   ]
  },
  {
   "cell_type": "code",
   "execution_count": 32,
   "metadata": {},
   "outputs": [
    {
     "data": {
      "image/png": "[encoded data removed]",
      "text/plain": [
       "<Figure size 432x288 with 1 Axes>"
      ]
     },
     "metadata": {
      "needs_background": "light"
     },
     "output_type": "display_data"
    }
   ],
   "source": [
    "plt.boxplot([adj_hat.flatten(), beta_hat.flatten()], labels=['Alphas', 'Betas']);"
   ]
  },
  {
   "cell_type": "markdown",
   "metadata": {},
   "source": [
    "---\n",
    "\n",
    "### Run GB"
   ]
  },
  {
   "cell_type": "code",
   "execution_count": 46,
   "metadata": {},
   "outputs": [],
   "source": [
    "import gb\n",
    "import time\n",
    "\n",
    "dim = len(events)\n",
    "\n",
    "# Define model\n",
    "granger_model = gb.GrangerBusca(\n",
    "    alpha_prior=1.0/len(events),\n",
    "    num_iter=3000,\n",
    "    metropolis=True,\n",
    "    beta_strategy='busca',\n",
    "    num_jobs=4,\n",
    ")\n",
    "granger_model.fit(events)"
   ]
  },
  {
   "cell_type": "code",
   "execution_count": 48,
   "metadata": {},
   "outputs": [
    {
     "name": "stdout",
     "output_type": "stream",
     "text": [
      "\n",
      "==================================================\n",
      "========== Method: GrangerBusca\n",
      "\n",
      "Accuracy: 0.17\n",
      "\n",
      "Edge counts\n",
      "------------\n",
      "Pred: 386.00\n",
      "True: 1680.00\n",
      "\n",
      "Error counts\n",
      "------------\n",
      " True Positive: 104.00\n",
      "False Positive: 282.00\n",
      " True Negative: 8038.00\n",
      "False Negative: 1576.00\n",
      "\n",
      "Error rates\n",
      "-----------\n",
      " True Positive Rate: 0.06\n",
      "False Positive Rate: 0.03\n",
      " True Negative Rate: 0.97\n",
      "False Negative Rate: 0.94\n",
      "\n",
      "F-Score\n",
      "-------\n",
      " F1-Score: 0.10\n",
      "Precision: 0.27\n",
      "   Recall: 0.06\n",
      "\n",
      "Precision@k\n",
      "-----------\n",
      " Prec@5: 0.00\n",
      "Prec@10: 0.00\n",
      "Prec@20: 0.00\n",
      "\n",
      "Average Precision@k per node\n",
      "----------------------------\n",
      "AvgPrec@k per node:\n",
      "5 0.26799999999999974\n",
      "10 0.2540000000000001\n",
      "20 0.17700000000000002\n",
      "\n"
     ]
    }
   ],
   "source": [
    "# Extract infered adjacency\n",
    "adj_hat = granger_model.Alpha_.toarray()\n",
    "adj_hat = adj_hat / adj_hat.sum(axis=1)[:, None]\n",
    "beta_hat = np.ones((dim, dim)) * (granger_model.beta_ + 1)\n",
    "coeffs_hat = np.hstack((granger_model.mu_, beta_hat.flatten(),\n",
    "                        adj_hat.flatten()))\n",
    "\n",
    "adj_hat = adj_hat / beta_hat  # Does not matter\n",
    "\n",
    "\n",
    "THRESH = 0.00  # GB is already sparse\n",
    "\n",
    "experiments_utils.print_report(name=type(granger_model).__name__, adj_hat=adj_hat, adj_true=adjacency_true, thresh=0)"
   ]
  },
  {
   "cell_type": "code",
   "execution_count": null,
   "metadata": {},
   "outputs": [],
   "source": []
  },
  {
   "cell_type": "code",
   "execution_count": null,
   "metadata": {},
   "outputs": [],
   "source": []
  },
  {
   "cell_type": "code",
   "execution_count": null,
   "metadata": {},
   "outputs": [],
   "source": []
  },
  {
   "cell_type": "code",
   "execution_count": 161,
   "metadata": {},
   "outputs": [
    {
     "data": {
      "text/plain": [
       "0.7420330871354197"
      ]
     },
     "execution_count": 161,
     "metadata": {},
     "output_type": "execute_result"
    }
   ],
   "source": [
    "tsvar.utils.metrics.relerr(adj_hat.flatten(), adjacency_true.flatten(), null_norm='none')"
   ]
  },
  {
   "cell_type": "code",
   "execution_count": 180,
   "metadata": {
    "scrolled": true
   },
   "outputs": [
    {
     "data": {
      "text/plain": [
       "KendalltauResult(correlation=-0.03233722944985986, pvalue=0.0005001328376041202)"
      ]
     },
     "execution_count": 180,
     "metadata": {},
     "output_type": "execute_result"
    }
   ],
   "source": [
    "scipy.stats.kendalltau(adj_hat.flatten(), adjacency_true.flatten())"
   ]
  },
  {
   "cell_type": "code",
   "execution_count": 166,
   "metadata": {},
   "outputs": [
    {
     "data": {
      "text/plain": [
       "-0.039862506938532154"
      ]
     },
     "execution_count": 166,
     "metadata": {},
     "output_type": "execute_result"
    }
   ],
   "source": [
    "tsvar.utils.metrics.mean_kendall_rank_corr(adj_hat.flatten(), adjacency_true.flatten())"
   ]
  },
  {
   "cell_type": "code",
   "execution_count": 167,
   "metadata": {
    "scrolled": true
   },
   "outputs": [
    {
     "data": {
      "text/plain": [
       "<matplotlib.collections.PathCollection at 0x1368213c8>"
      ]
     },
     "execution_count": 167,
     "metadata": {},
     "output_type": "execute_result"
    },
    {
     "data": {
      "image/png": "[encoded data removed]",
      "text/plain": [
       "<Figure size 432x288 with 1 Axes>"
      ]
     },
     "metadata": {
      "needs_background": "light"
     },
     "output_type": "display_data"
    }
   ],
   "source": [
    "plt.scatter(adj_hat.flatten(), adjacency_true.flatten())"
   ]
  },
  {
   "cell_type": "code",
   "execution_count": 181,
   "metadata": {},
   "outputs": [],
   "source": [
    "mean_rank_corr, rank_corr_per_dim = tsvar.utils.metrics.mean_kendall_rank_corr(\n",
    "    adj_hat.flatten(), adjacency_true.flatten(), return_vec=True)"
   ]
  },
  {
   "cell_type": "code",
   "execution_count": 182,
   "metadata": {},
   "outputs": [
    {
     "data": {
      "text/plain": [
       "-0.039862506938532154"
      ]
     },
     "execution_count": 182,
     "metadata": {},
     "output_type": "execute_result"
    }
   ],
   "source": [
    "mean_rank_corr"
   ]
  },
  {
   "cell_type": "code",
   "execution_count": 183,
   "metadata": {},
   "outputs": [
    {
     "data": {
      "text/plain": [
       "(array([ 6., 17., 24., 15., 12.,  7.,  8.,  4.,  3.,  4.]),\n",
       " array([-0.16471, -0.13208, -0.09946, -0.06683, -0.0342 , -0.00158,  0.03105,  0.06367,  0.0963 ,  0.12893,  0.16155]),\n",
       " <a list of 10 Patch objects>)"
      ]
     },
     "execution_count": 183,
     "metadata": {},
     "output_type": "execute_result"
    },
    {
     "data": {
      "image/png": "[encoded data removed]",
      "text/plain": [
       "<Figure size 432x288 with 1 Axes>"
      ]
     },
     "metadata": {
      "needs_background": "light"
     },
     "output_type": "display_data"
    }
   ],
   "source": [
    "plt.hist(rank_corr_per_dim)"
   ]
  },
  {
   "cell_type": "code",
   "execution_count": 172,
   "metadata": {},
   "outputs": [
    {
     "name": "stdout",
     "output_type": "stream",
     "text": [
      "Kendall correlation coefficient: -0.032\n",
      "Samples are correlated (reject H0) p=0.001\n"
     ]
    }
   ],
   "source": [
    "from scipy.stats import kendalltau\n",
    "\n",
    "# calculate kendall's correlation\n",
    "coef, p = kendalltau(\n",
    "    x=adj_hat.flatten(),\n",
    "    y=adjacency_true.flatten()\n",
    ")\n",
    "\n",
    "print('Kendall correlation coefficient: %.3f' % coef)\n",
    "# interpret the significance\n",
    "alpha = 0.05\n",
    "if p > alpha:\n",
    "    print('Samples are uncorrelated (fail to reject H0) p=%.3f' % p)\n",
    "else:\n",
    "    print('Samples are correlated (reject H0) p=%.3f' % p)"
   ]
  },
  {
   "cell_type": "markdown",
   "metadata": {},
   "source": [
    "---\n",
    "\n",
    "## Exploration of results"
   ]
  },
  {
   "cell_type": "code",
   "execution_count": 167,
   "metadata": {},
   "outputs": [
    {
     "data": {
      "text/plain": [
       "array([[0.00141, 0.00181, 0.00855, ..., 0.00943, 0.00923, 0.01304],\n",
       "       [0.00311, 0.00129, 0.01251, ..., 0.00915, 0.00726, 0.01185],\n",
       "       [0.00343, 0.00186, 0.04852, ..., 0.0099 , 0.00796, 0.01432],\n",
       "       ...,\n",
       "       [0.02883, 0.01501, 0.01245, ..., 0.00958, 0.01153, 0.02437],\n",
       "       [0.01216, 0.00995, 0.00887, ..., 0.03078, 0.01442, 0.02328],\n",
       "       [0.00137, 0.00276, 0.00194, ..., 0.0191 , 0.01991, 0.01562]])"
      ]
     },
     "execution_count": 167,
     "metadata": {},
     "output_type": "execute_result"
    }
   ],
   "source": [
    "adj_hat = vifb_model._as_po[1:, :] / vifb_model._ar_po[1:, :]\n",
    "adj_hat"
   ]
  },
  {
   "cell_type": "code",
   "execution_count": 168,
   "metadata": {},
   "outputs": [
    {
     "data": {
      "text/plain": [
       "(array([  0,   0,   0, ..., 622, 622, 622]),\n",
       " array([  0,   1,   2, ..., 620, 621, 622]))"
      ]
     },
     "execution_count": 168,
     "metadata": {},
     "output_type": "execute_result"
    }
   ],
   "source": [
    "adj_hat.nonzero()"
   ]
  },
  {
   "cell_type": "code",
   "execution_count": null,
   "metadata": {},
   "outputs": [],
   "source": []
  },
  {
   "cell_type": "code",
   "execution_count": 170,
   "metadata": {},
   "outputs": [
    {
     "name": "stdout",
     "output_type": "stream",
     "text": [
      "0.01 68288\n",
      "0.017 31004\n",
      "0.025 17360\n",
      "0.032 11503\n",
      "0.039 8389\n",
      "0.047 6450\n",
      "0.054 5161\n",
      "0.062 4092\n",
      "0.069 3304\n",
      "0.076 2612\n",
      "0.084 2068\n",
      "0.091 1641\n",
      "0.098 1313\n",
      "0.106 912\n",
      "0.113 804\n",
      "0.121 720\n",
      "0.128 658\n",
      "0.135 604\n",
      "0.143 551\n",
      "0.15 516\n"
     ]
    }
   ],
   "source": [
    "adj_hat = vifb_model._as_po[1:, :] / vifb_model._ar_po[1:, :]\n",
    "\n",
    "thresh_list = np.linspace(0.01, 0.15, 20)\n",
    "\n",
    "vals_vifb = {\n",
    "    5: np.zeros_like(thresh_list),\n",
    "    10: np.zeros_like(thresh_list),\n",
    "    20: np.zeros_like(thresh_list),\n",
    "}\n",
    "\n",
    "for i, thresh in enumerate(thresh_list):\n",
    "\n",
    "    adj_hat_thresh = adj_hat.copy()\n",
    "    adj_hat_thresh[adj_hat_thresh < thresh] = 0.0\n",
    "    print(np.round(thresh, 3), len(adj_hat_thresh.nonzero()[0]))\n",
    "\n",
    "    for k in [5, 10, 20]:\n",
    "        vals_vifb[k][i] = tsvar.utils.metrics.precision_at_n_per_dim(A_pred=adj_hat_thresh, A_true=adjacency_true, k=k)"
   ]
  },
  {
   "cell_type": "code",
   "execution_count": 159,
   "metadata": {},
   "outputs": [],
   "source": [
    "thresh_list = np.linspace(0.01, 0.15, 20)\n",
    "\n",
    "vals_gb = {\n",
    "    5: np.zeros_like(thresh_list),\n",
    "    10: np.zeros_like(thresh_list),\n",
    "    20: np.zeros_like(thresh_list),\n",
    "}\n",
    "\n",
    "for i, thresh in enumerate(thresh_list):\n",
    "\n",
    "    adj_hat_thresh = adj_hat.copy()\n",
    "    adj_hat_thresh[adj_hat_thresh < thresh] = 0.0\n",
    "\n",
    "    for k in [5, 10, 20]:\n",
    "        vals_gb[k][i] = tsvar.utils.metrics.precision_at_n_per_dim(A_pred=adj_hat_thresh, A_true=adjacency_true, k=k)"
   ]
  },
  {
   "cell_type": "code",
   "execution_count": 161,
   "metadata": {},
   "outputs": [
    {
     "data": {
      "image/png": "[encoded data removed]",
      "text/plain": [
       "<Figure size 864x432 with 1 Axes>"
      ]
     },
     "metadata": {
      "needs_background": "light"
     },
     "output_type": "display_data"
    }
   ],
   "source": [
    "plt.figure(figsize=(12, 6))\n",
    "plt.grid()\n",
    "\n",
    "plt.plot(thresh_list, vals_vifb[5], label='p@5')\n",
    "plt.plot(thresh_list, vals_vifb[10], label='p@10')\n",
    "plt.plot(thresh_list, vals_vifb[20], label='p@20')\n",
    "\n",
    "plt.plot(thresh_list, vals_gb[5],   label='p@5', c='C0', ls='--')\n",
    "plt.plot(thresh_list, vals_gb[10], label='p@10', c='C1', ls='--')\n",
    "plt.plot(thresh_list, vals_gb[20], label='p@20', c='C2', ls='--')\n",
    "\n",
    "plt.legend();"
   ]
  },
  {
   "cell_type": "code",
   "execution_count": null,
   "metadata": {},
   "outputs": [],
   "source": []
  }
 ],
 "metadata": {
  "kernelspec": {
   "display_name": "Python 3",
   "language": "python",
   "name": "python3"
  },
  "language_info": {
   "codemirror_mode": {
    "name": "ipython",
    "version": 3
   },
   "file_extension": ".py",
   "mimetype": "text/x-python",
   "name": "python",
   "nbconvert_exporter": "python",
   "pygments_lexer": "ipython3",
   "version": "3.6.10"
  }
 },
 "nbformat": 4,
 "nbformat_minor": 4
}
